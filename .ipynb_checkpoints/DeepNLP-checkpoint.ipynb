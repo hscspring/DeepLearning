{
 "cells": [
  {
   "cell_type": "markdown",
   "metadata": {},
   "source": [
    "## NLP 任务、测评标准、标准标注数据、算法"
   ]
  },
  {
   "cell_type": "markdown",
   "metadata": {},
   "source": [
    "| 任务类别 | 测评标准 | 标注数据 | 深度学习算法| 传统算法\n",
    "|---------|----------|-----------------|--------------------|------|\n",
    "| 中文分词 | 测评标准 | 标注数据 | 算法| |\n",
    "| 词性标注 | 测评标准 | 标注数据 | 算法| |\n",
    "| 关键词提取 | 测评标准 | 标注数据 | 算法| |\n",
    "| 自动文摘 | 测评标准 | 标注数据 | 算法| |\n",
    "| 自动写作 | 测评标准 |  | RNN| |\n",
    "| 文本分类 | 测评标准 |  | 算法| |\n",
    "| 拼写检查 | 测评标准 | 标注数据 | CNN, RNN| |\n",
    "| 机器翻译 | BLEU, GLEU |  | seq2seq | |\n",
    "| 人机对话 | 测评标准 |   | seq2seq| |"
   ]
  },
  {
   "cell_type": "code",
   "execution_count": null,
   "metadata": {
    "collapsed": true
   },
   "outputs": [],
   "source": []
  }
 ],
 "metadata": {
  "kernelspec": {
   "display_name": "Python 2",
   "language": "python",
   "name": "python2"
  },
  "language_info": {
   "codemirror_mode": {
    "name": "ipython",
    "version": 2
   },
   "file_extension": ".py",
   "mimetype": "text/x-python",
   "name": "python",
   "nbconvert_exporter": "python",
   "pygments_lexer": "ipython2",
   "version": "2.7.12"
  },
  "latex_envs": {
   "LaTeX_envs_menu_present": true,
   "bibliofile": "biblio.bib",
   "cite_by": "apalike",
   "current_citInitial": 1,
   "eqLabelWithNumbers": true,
   "eqNumInitial": 1,
   "hotkeys": {
    "equation": "Ctrl-E",
    "itemize": "Ctrl-I"
   },
   "labels_anchors": false,
   "latex_user_defs": false,
   "report_style_numbering": false,
   "user_envs_cfg": false
  },
  "toc": {
   "colors": {
    "hover_highlight": "#DAA520",
    "running_highlight": "#FF0000",
    "selected_highlight": "#FFD700"
   },
   "moveMenuLeft": true,
   "nav_menu": {
    "height": "44px",
    "width": "252px"
   },
   "navigate_menu": true,
   "number_sections": true,
   "sideBar": true,
   "threshold": 4,
   "toc_cell": false,
   "toc_section_display": "block",
   "toc_window_display": false
  }
 },
 "nbformat": 4,
 "nbformat_minor": 0
}
