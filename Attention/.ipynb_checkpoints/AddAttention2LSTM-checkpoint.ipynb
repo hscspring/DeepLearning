{
 "cells": [
  {
   "cell_type": "markdown",
   "metadata": {},
   "source": [
    "> Actually, that’s quite counterintuitive. Human attention is something that’s supposed to **save** computational resources.   \n",
    "By focusing on one thing, we can neglect many other things. But that’s not really what we’re doing in the above model.   \n",
    "We’re essentially looking at **everything** in detail before deciding what to focus on. Intuitively that’s equivalent outputting a translated word, and then going back through all of your internal memory of the text in order to decide which word to produce next. That seems like a **waste**, and not at all what humans are doing.   \n",
    "In fact, it’s **more akin to memory access**, **not attention**, which in my opinion is somewhat of a misnomer (more on that below). Still, that hasn’t stopped attention mechanisms from becoming quite popular and performing well on many tasks. \n",
    "Interpreted another way, the attention mechanism is simply giving the network access to its internal memory, which is the hidden state of the encoder.   \n",
    "In this interpretation, instead of choosing what to “attend” to, the network chooses what to retrieve from memory. Unlike typical memory, the memory access mechanism here is **soft**, which means that the network retrieves a weighted combination of all memory locations, not a value from a single discrete location.  \n",
    "End-to-End Memory Networks allow the network to read same input sequence multiple times before making an output, updating the memory contents at each step. For example, answering a question by making multiple reasoning steps over an input story.  \n",
    "—— From [Attention and Memory in Deep Learning and NLP – WildML](http://www.wildml.com/2016/01/attention-and-memory-in-deep-learning-and-nlp/)"
   ]
  },
  {
   "cell_type": "code",
   "execution_count": null,
   "metadata": {},
   "outputs": [],
   "source": []
  }
 ],
 "metadata": {
  "kernelspec": {
   "display_name": "Python 3",
   "language": "python",
   "name": "python3"
  },
  "language_info": {
   "codemirror_mode": {
    "name": "ipython",
    "version": 3
   },
   "file_extension": ".py",
   "mimetype": "text/x-python",
   "name": "python",
   "nbconvert_exporter": "python",
   "pygments_lexer": "ipython3",
   "version": "3.6.2"
  },
  "toc": {
   "colors": {
    "hover_highlight": "#DAA520",
    "running_highlight": "#FF0000",
    "selected_highlight": "#FFD700"
   },
   "moveMenuLeft": true,
   "nav_menu": {
    "height": "12px",
    "width": "252px"
   },
   "navigate_menu": true,
   "number_sections": true,
   "sideBar": true,
   "threshold": 4,
   "toc_cell": false,
   "toc_section_display": "block",
   "toc_window_display": false
  }
 },
 "nbformat": 4,
 "nbformat_minor": 2
}
