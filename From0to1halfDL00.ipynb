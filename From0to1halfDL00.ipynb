{
 "cells": [
  {
   "cell_type": "markdown",
   "metadata": {
    "toc": "true"
   },
   "source": [
    "# Table of Contents\n",
    " <p><div class=\"lev1 toc-item\"><a href=\"#智能\" data-toc-modified-id=\"智能-1\"><span class=\"toc-item-num\">1&nbsp;&nbsp;</span>智能</a></div><div class=\"lev2 toc-item\"><a href=\"#智能的本质\" data-toc-modified-id=\"智能的本质-11\"><span class=\"toc-item-num\">1.1&nbsp;&nbsp;</span>智能的本质</a></div><div class=\"lev2 toc-item\"><a href=\"#熵与生命\" data-toc-modified-id=\"熵与生命-12\"><span class=\"toc-item-num\">1.2&nbsp;&nbsp;</span>熵与生命</a></div><div class=\"lev2 toc-item\"><a href=\"#生存核心\" data-toc-modified-id=\"生存核心-13\"><span class=\"toc-item-num\">1.3&nbsp;&nbsp;</span>生存核心</a></div><div class=\"lev2 toc-item\"><a href=\"#智能条件\" data-toc-modified-id=\"智能条件-14\"><span class=\"toc-item-num\">1.4&nbsp;&nbsp;</span>智能条件</a></div>"
   ]
  },
  {
   "cell_type": "markdown",
   "metadata": {},
   "source": [
    "**引子**：  \n",
    "\n",
    "转行三个多月，从一名 HR 正式成为 NLP 算法工程师，其中艰辛固然有，但更让人郁闷的是各式各样的坑和坎，其中最大的就是数学原理的理解和实现。  \n",
    "终日忙于各类项目，成为了名副其实的调包侠和调参侠，偶尔阅读最新研究成果，禁不住感叹：明明是非常直观清晰的理念，自己怎么就没想到；更有时候，明明自己之前有过类似想法，但没能实现，甚至没有能联系起来。前者的例子比如 LSTM 模型，后者的例子比如 GAN，记得曾经写过的文字：  \n",
    ">宇宙、世界本身就是一个“选择”与“评价”系统。物竞天择，是一个导向；适者生存，是一种结果。  \n",
    "\n",
    "而且，之前还对博弈论非常感兴趣，但是在学习深度学习时却并没有很好的联系在一起。  \n",
    "同时，感觉自己学习效率越来越低，越来越学不动，加上内心焦急，状态更加糟糕。甚至于一下班就不想再做这些事情。  \n",
    "\n",
    "痛定思痛，决定从以下几个方面改进学习：  \n",
    "\n",
    "- 建立自己的知识体系\n",
    "  - 由于一直以来涉猎较杂，但很少主动去连接各个领域知识，以后所有的学习内容以构建自己的体系为主\n",
    "- 深入理解算法原理\n",
    "  - 算法工程师基本素养\n",
    "- 代码中学习\n",
    "  - 边看代码边补充知识\n",
    "  - 代码与知识点结合的笔记展示\n",
    "\n",
    "\n",
    "谨以此文，开启新的学习之旅。  \n",
    "\n",
    "第一个系列笔记以《超智能体》和该作者于建国博士在硬创公开课的《深层神经网络设计理念》开始，因为作者尝试去理解并解读深度学习，而且在阅读过程中，发现和作者很多理念非常相似。"
   ]
  },
  {
   "cell_type": "markdown",
   "metadata": {},
   "source": [
    "# 智能"
   ]
  },
  {
   "cell_type": "markdown",
   "metadata": {},
   "source": [
    "## 智能的本质"
   ]
  },
  {
   "cell_type": "markdown",
   "metadata": {},
   "source": [
    "智能的作用是：为了生存下去，具体来说，智能：\n",
    "- 可以根据环境变化而做出相应变化的能力\n",
    "- 熵减的能力\n",
    "\n",
    "这是作者的两个核心观点。  \n",
    "简单来说就是，调节自身不断适应环境变化的能力，也就是与环境互动的能力。能力越强，智能越高，熵值越低，越趋于稳定，越容易适应环境。  \n",
    "\n",
    "拓展开来看，其实很容易让人想到两门学科：心理学和经济学。  \n",
    "前者是研究人自身的，后者是研究人与社会互动的。我们完全可以尝试将这两门学科的一些理论应用到 AI 领域。  \n",
    "事实也正是如此，通过利用人观察图像时的原理实现的 CNN 在图像领域大放异彩；通过利用人记忆功能原理实现的 LSTM 在语音和自然语言领域光耀四方；其他诸如人类的小样本、快速灵活地学习等等都正在逐步影响 AI 领域的研究。而基于博弈论的 GAN 近期非常受宠，另外强化学习中的评价函数是不是就是借鉴了进化论之物竞天择。想象空间真的非常大，而且 AI 可以借助人类的这些“优势”但同时却不会受诸如遗忘、有限理性、情绪等不利因素的影响。  \n",
    "我们可以预见，AI 未来一定会在越来越多的领域超越人类。"
   ]
  },
  {
   "cell_type": "markdown",
   "metadata": {},
   "source": [
    "## 熵与生命"
   ]
  },
  {
   "cell_type": "markdown",
   "metadata": {},
   "source": [
    "- 概率是真实反应变化到某状态的确信度\n",
    "- 熵反应的是从某时刻到另一时刻的状态有多难以确定。阻碍生命的不是概率，而是熵。\n",
    "- 熵是用来衡量我们对事物在跨时间后能产生不同状态的混乱度\n",
    "- 当时间向未来发展时，事物可能达到的状态种类会越来越难以确定\n",
    "- 熵一定有时间跨度，而有时间跨度是指有变化\n",
    "- 越确定的事件熵越低，越随机的事件熵越高\n",
    "- 生命要在这个变化的世界中生存，就需要知道如何根据环境变化做出相应的行动来避免毁灭\n",
    "- 把不确定的环境转换成确定的行动，会将无序的事物重新整理到有序的状态\n",
    "- 生物仅仅活着就需要减熵，否则就会被不确定性消灭\n",
    "- 熵增意味着信息量越来越巨大，生物必须能够压缩这些不确定的信息并记住信息是如何被压缩的\n",
    "- 压缩信息的方法就是知识"
   ]
  },
  {
   "cell_type": "markdown",
   "metadata": {},
   "source": [
    "- 实例：病毒会利用宿主的细胞系统进行自我复制将微粒重组为有序的状态\n",
    "- 实例：工蜂利用自身的蜡腺分泌的蜂蜡修筑蜂巢\n",
    "\n",
    "此种知识是仅当环境发生时才会采取行动，并不会改变太多环境。  \n",
    "但有第二种知识，像人类这样的动物同时还可以学习改变环境的原因以此来预测未来。  \n",
    "\n",
    "- 实例：由于动物会运动，环境会根据它的运动和它对环境的影响造成改变。动物需要可以利用记忆力从过去推测未来事件的能力\n",
    "- 实例：物理学家追求可以解释一切的公式，这种能力存在于拥有时间观念的生命之中，人类更是其中的王者"
   ]
  },
  {
   "cell_type": "markdown",
   "metadata": {},
   "source": [
    "- 但这并不意味着智能越多越好，取决于智能如何被使用\n",
    "- 如人类可以用第二种知识去改变环境，但会带来不确定性\n",
    "- 同时我们又需要更多智能取对抗不确定性，并改变了更多的环境\n",
    "- 科技从未使我们的生活变得更好，它仅使生活变得复杂\n",
    "- 是环境的复杂造成了我们不得不学习更抽象的知识，不得不获得更高的学历提高自己的生存能力\n",
    "- 当平衡被打破，我们将会失去部分智能，新的平衡将会尝试着建立\n",
    "- 许多已灭绝的生物曾经拥有他们与不确定性的平衡，直到人类将他们的环境改变"
   ]
  },
  {
   "cell_type": "markdown",
   "metadata": {},
   "source": [
    "以上内容均为作者书中观点，非常新颖有趣，当然也非常有道理。  \n",
    "总结而言，熵就是时间跨度内的不确定性，而我们就是要尽力去降低这种不确定性，而这个过程就是利用已知去发现新知识的过程。知识本身是中性的，取决于使用她的人。  \n",
    "我们很容易想到量子理论，那天生的不确定性，但当你去“确认”她时，她就会瞬间塌缩至确定的东西。题外话，ReLU 谁敢肯定没有借鉴过量子跃迁的思想呢？"
   ]
  },
  {
   "cell_type": "markdown",
   "metadata": {},
   "source": [
    "## 生存核心"
   ]
  },
  {
   "cell_type": "code",
   "execution_count": null,
   "metadata": {
    "collapsed": true
   },
   "outputs": [],
   "source": []
  },
  {
   "cell_type": "markdown",
   "metadata": {},
   "source": [
    "## 智能条件"
   ]
  },
  {
   "cell_type": "code",
   "execution_count": null,
   "metadata": {
    "collapsed": true
   },
   "outputs": [],
   "source": []
  }
 ],
 "metadata": {
  "kernelspec": {
   "display_name": "Python 3",
   "language": "python",
   "name": "python3"
  },
  "language_info": {
   "codemirror_mode": {
    "name": "ipython",
    "version": 3
   },
   "file_extension": ".py",
   "mimetype": "text/x-python",
   "name": "python",
   "nbconvert_exporter": "python",
   "pygments_lexer": "ipython3",
   "version": "3.3.5"
  },
  "latex_envs": {
   "LaTeX_envs_menu_present": true,
   "bibliofile": "biblio.bib",
   "cite_by": "apalike",
   "current_citInitial": 1,
   "eqLabelWithNumbers": true,
   "eqNumInitial": 1,
   "hotkeys": {
    "equation": "Ctrl-E",
    "itemize": "Ctrl-I"
   },
   "labels_anchors": false,
   "latex_user_defs": false,
   "report_style_numbering": false,
   "user_envs_cfg": false
  },
  "toc": {
   "colors": {
    "hover_highlight": "#DAA520",
    "running_highlight": "#FF0000",
    "selected_highlight": "#FFD700"
   },
   "moveMenuLeft": true,
   "nav_menu": {
    "height": "103px",
    "width": "252px"
   },
   "navigate_menu": true,
   "number_sections": true,
   "sideBar": true,
   "threshold": 4,
   "toc_cell": true,
   "toc_section_display": "block",
   "toc_window_display": true
  }
 },
 "nbformat": 4,
 "nbformat_minor": 0
}
