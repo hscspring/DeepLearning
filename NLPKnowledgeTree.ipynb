{
 "cells": [
  {
   "cell_type": "markdown",
   "metadata": {
    "toc": "true"
   },
   "source": [
    "# Table of Contents\n",
    " <p><div class=\"lev1 toc-item\"><a href=\"#什么是-NLP\" data-toc-modified-id=\"什么是-NLP-1\"><span class=\"toc-item-num\">1&nbsp;&nbsp;</span>什么是 NLP</a></div><div class=\"lev1 toc-item\"><a href=\"#NLP-有什么用？\" data-toc-modified-id=\"NLP-有什么用？-2\"><span class=\"toc-item-num\">2&nbsp;&nbsp;</span>NLP 有什么用？</a></div><div class=\"lev1 toc-item\"><a href=\"#NLP-要学什么\" data-toc-modified-id=\"NLP-要学什么-3\"><span class=\"toc-item-num\">3&nbsp;&nbsp;</span>NLP 要学什么</a></div><div class=\"lev1 toc-item\"><a href=\"#深度学习与-NLP\" data-toc-modified-id=\"深度学习与-NLP-4\"><span class=\"toc-item-num\">4&nbsp;&nbsp;</span>深度学习与 NLP</a></div><div class=\"lev1 toc-item\"><a href=\"#扩展阅读\" data-toc-modified-id=\"扩展阅读-5\"><span class=\"toc-item-num\">5&nbsp;&nbsp;</span>扩展阅读</a></div><div class=\"lev1 toc-item\"><a href=\"#参考资料\" data-toc-modified-id=\"参考资料-6\"><span class=\"toc-item-num\">6&nbsp;&nbsp;</span>参考资料</a></div>"
   ]
  },
  {
   "cell_type": "markdown",
   "metadata": {},
   "source": [
    "# 什么是 NLP"
   ]
  },
  {
   "cell_type": "markdown",
   "metadata": {},
   "source": [
    "计算机领域中自然语言处理（Natural Language Processing: NLP）的目的，就是让计算机能够理解和生成人类语言。  \n",
    "\n",
    "- 自然语言处理是一门交叉学科，包括计算机科学，人工智能和语言学\n",
    "- 目标：让计算机去处理或“理解”自然语言, 完成一些有用的任务例如问答系统，机器翻译\n",
    "- 完全理解或者表示语言的意义（甚至去定义它）都是一个虚幻的目标\n",
    "- 完美的理解语言是一个“[AI-complete](https://en.wikipedia.org/wiki/AI-complete)”的问题"
   ]
  },
  {
   "cell_type": "markdown",
   "metadata": {},
   "source": [
    "# NLP 有什么用？"
   ]
  },
  {
   "cell_type": "markdown",
   "metadata": {},
   "source": [
    "- 拼写检查\n",
    "- 同义词查找&替换\n",
    "\n",
    "\n",
    "- 文本分类与情感分析\n",
    " - 例如对教科书的文本进行分级，对长文本进行正负情绪判断\n",
    " - 市场营销或者金融交易领域的情感分析\n",
    "\n",
    "\n",
    "- 信息检索与问答系统\n",
    "\n",
    "\n",
    "- 关键词、信息提取\n",
    " - 从网页中提取有用的信息例如产品价格，日期，地址，人名或公司名等\n",
    "- 自动文摘\n",
    "- 自动写作\n",
    "\n",
    "\n",
    "- 机器翻译\n",
    "- 语音翻译\n",
    "\n",
    "\n",
    "- 语音识别\n",
    "- 人机对话\n",
    "\n",
    "\n",
    "- ……"
   ]
  },
  {
   "cell_type": "markdown",
   "metadata": {},
   "source": [
    "# NLP 要学什么"
   ]
  },
  {
   "cell_type": "markdown",
   "metadata": {},
   "source": [
    "- [语言学](https://zh.wikipedia.org/zh-hans/%E8%AF%AD%E8%A8%80%E5%AD%A6)\n",
    "  - 语言学是研究所有人类语文发展有关的一门学术科目（通常只有根据语言，非文字）。\n",
    "  - 语言学研究句法和词语等语言的描述，也研究语言的发展史。\n",
    "- [语音学](https://zh.wikipedia.org/zh-hans/%E8%AF%AD%E9%9F%B3%E5%AD%A6)\n",
    "  - 发音语音学\n",
    "  - 声学语音学\n",
    "  - 听觉语音学\n",
    "- 概率论\n",
    "  - 贝叶斯\n",
    "  - 马尔科夫\n",
    "- 信息论\n",
    "  - 香农、熵\n",
    "- 机器学习\n",
    "- 形式语言与自动机\n",
    "  - 形式语言包括：短语结构语言、上下文有关语言、上下文无关语言、正则语言等\n",
    "  - 自动机包括：图灵机、有穷自动机、下推自动机、线性有界自动机\n",
    "- 语言知识库\n",
    "- 语言模型\n",
    "  - n 元语法\n",
    "  - 数据平滑\n",
    "- 自动分词、命名实体识别、词性标注\n",
    "  - 自动分词就是让计算机自动区分出汉字组成的词语\n",
    "  - 命名实体识别就是分词之后能够根据各种短语形式判断出哪个词表示的是一个物体或组织或人名或……\n",
    "  - 词性标注就是在给定句子中判定每个词的语法范畴，识别出“名动形、数量代、副介连助叹拟声”\n",
    "- 句法分析\n",
    "  - 确定句子的句法结构或句子中词汇之间的依存关系\n",
    "  - 句法结构分析\n",
    "  - 依存关系分析：词与词之间的依存关系\n",
    "- 语义分析\n",
    "  - 词义消歧\n",
    "  - 语义角色标注\n",
    "- 篇章分析\n",
    "  - 理解篇章\n",
    "  - 分析篇章结构"
   ]
  },
  {
   "cell_type": "markdown",
   "metadata": {},
   "source": [
    "# 深度学习与 NLP"
   ]
  },
  {
   "cell_type": "markdown",
   "metadata": {},
   "source": [
    "- 神经网络语言模型\n",
    "- 卷积神经网络 CNN\n",
    "- 词向量\n",
    "  - localist representation 与 distributed representation\n",
    "  - word embedding\n",
    "- word2vec\n",
    "  - 基于霍夫曼树的 Hierarchical Softmax 技术\n",
    "  - 基于 Negative Sampling 的模型\n",
    "- 递归神经网络 RNN\n",
    "  - LSTM"
   ]
  },
  {
   "cell_type": "markdown",
   "metadata": {},
   "source": [
    "# 扩展阅读\n",
    "\n",
    "- [Deep Learning in Neural Networks: An Overview](https://arxiv.org/pdf/1404.7828.pdf)\n",
    "- [斯坦福大学深度学习与自然语言处理](http://www.52nlp.cn/%E6%96%AF%E5%9D%A6%E7%A6%8F%E5%A4%A7%E5%AD%A6%E6%B7%B1%E5%BA%A6%E5%AD%A6%E4%B9%A0%E4%B8%8E%E8%87%AA%E7%84%B6%E8%AF%AD%E8%A8%80%E5%A4%84%E7%90%86%E7%AC%AC%E4%B8%80%E8%AE%B2%E5%BC%95%E8%A8%80)\n",
    "  - [Stanford University CS224d: Deep Learning for Natural Language Processing](http://cs224d.stanford.edu/index.html)\n",
    "- [PowerPoint Presentation - ICASSP_DeepTextLearning](https://www.microsoft.com/en-us/research/wp-content/uploads/2016/02/ICASSP_DeepTextLearning_v07.pdf)"
   ]
  },
  {
   "cell_type": "markdown",
   "metadata": {},
   "source": [
    "# 参考资料\n",
    "\n",
    "- [统计自然语言处理（第2版）](https://book.douban.com/subject/25746399/)\n",
    "- [warmheartli/ChatBotCourse](https://github.com/warmheartli/ChatBotCourse)"
   ]
  }
 ],
 "metadata": {
  "anaconda-cloud": {},
  "kernelspec": {
   "display_name": "Python 2",
   "language": "python",
   "name": "python2"
  },
  "language_info": {
   "codemirror_mode": {
    "name": "ipython",
    "version": 2
   },
   "file_extension": ".py",
   "mimetype": "text/x-python",
   "name": "python",
   "nbconvert_exporter": "python",
   "pygments_lexer": "ipython2",
   "version": "2.7.12"
  },
  "latex_envs": {
   "LaTeX_envs_menu_present": true,
   "bibliofile": "biblio.bib",
   "cite_by": "apalike",
   "current_citInitial": 1,
   "eqLabelWithNumbers": true,
   "eqNumInitial": 1,
   "hotkeys": {
    "equation": "Ctrl-E",
    "itemize": "Ctrl-I"
   },
   "labels_anchors": false,
   "latex_user_defs": false,
   "report_style_numbering": false,
   "user_envs_cfg": false
  },
  "toc": {
   "colors": {
    "hover_highlight": "#DAA520",
    "running_highlight": "#FF0000",
    "selected_highlight": "#FFD700"
   },
   "moveMenuLeft": true,
   "nav_menu": {
    "height": "121px",
    "width": "252px"
   },
   "navigate_menu": true,
   "number_sections": true,
   "sideBar": true,
   "threshold": 4,
   "toc_cell": true,
   "toc_section_display": "block",
   "toc_window_display": true
  }
 },
 "nbformat": 4,
 "nbformat_minor": 1
}
