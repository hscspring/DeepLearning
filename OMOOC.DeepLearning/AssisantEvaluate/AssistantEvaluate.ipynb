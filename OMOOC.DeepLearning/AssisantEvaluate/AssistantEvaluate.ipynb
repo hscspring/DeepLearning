{
 "cells": [
  {
   "cell_type": "markdown",
   "metadata": {},
   "source": [
    "# 中文语料词频分布与齐夫定律\n",
    "\n",
    "Zipf's Law（齐夫定律，维基链接） 描述了自然语言当中很常见的一种现象。请你任意选择一份中文语料（如一本书），使用任意的切词工具（推荐使用 Python 下的 Jieba 分词库），用数据或可视化的方式，证明或否定该语料的词频分布是否基本满足齐夫定律。"
   ]
  },
  {
   "cell_type": "markdown",
   "metadata": {},
   "source": [
    "## 目录\n",
    "\n",
    "- Zipf's Law\n",
    "  \n",
    "  - 概念\n",
    "  - 齐夫定律和省力原则\n",
    "  - 图像 & 参数\n",
    "  - 近似服从齐夫定律的例子\n",
    "\n",
    "- 中文分词\n",
    "\n",
    "  - 概念\n",
    "  - 目前主要困难\n",
    "  - 分词方法\n",
    "\n",
    "- Jieba\n",
    "\n",
    "  - 安装\n",
    "  - 算法\n",
    "  - 模式\n",
    "  - 功能\n",
    "    \n",
    "    - 分词\n",
    "    - 自定义词典\n",
    "    - 关键词提取\n",
    "    - 词性标注\n",
    "    - 并行分词\n",
    "    - Tokenize\n",
    "\n",
    "- Case：《西游记》\n",
    "\n",
    "  - 分词\n",
    "  - 词频统计\n",
    "  - 验证词频分布是否满足齐夫定律\n",
    "\n",
    "- 参考文献\n",
    "\n",
    "- 总结 & 需进一步研究"
   ]
  },
  {
   "cell_type": "markdown",
   "metadata": {},
   "source": [
    "## Zipf's Law"
   ]
  },
  {
   "cell_type": "markdown",
   "metadata": {
    "collapsed": true
   },
   "source": [
    "### 概念\n",
    "\n",
    "- 在自然语言的语料库里，一个单词出现的频率与它在频率表里的排名成反比。\n",
    "- 齐夫定律是一个实验定律，而非理论定律，可以在很多非语言学排名中被观察到，例如不同国家中城市的数量、公司的规模、收入排名等。但它的起因是一个争论的焦点。齐夫定律很容易用点阵图观察，坐标分别为排名和频率的自然对数（log）。\n",
    "- 齐夫定律最一般的表述形式还包含一个指数 a，即排第n的词语出现次数约为第一的 1/n^a，这让公式变得稍稍复杂了一点。不过代入实际数据拟合后，a 的值其实非常接近 1 (就相当于没有这个指数了)。还有其他在数学上更为复杂的表述，但都只包含一个自由参数。后来，经过学者们的多次修正和改进，齐夫定律有了更为精确的表述和更为广泛的应用。"
   ]
  },
  {
   "cell_type": "markdown",
   "metadata": {
    "collapsed": true
   },
   "source": [
    "### 齐夫定律和省力原则\n",
    "\n",
    "省力原则(the Principle of Least Effort)，又称经济原则(the Economy Principle)，可以概括为：以最小的代价换取最大的收益。这是指导人类行为的一条根本性原则。在现代学术界，第一个明确提出这条原则的是美国学者 George Kingsley Zipf。\n",
    "\n",
    "Zipf在1949年的书里提出了一条指导人类行为的基本原则——省力原则。Zipf在序言里指出，如果我们把人类行为纯粹看作一种自然现象，如果我们像研究蜜蜂的社会行为、鸟类的筑巢习惯一样研究人类行为，那么，我们就有可能揭示其背后的基本原则。这是他提出“省力原则”的大背景。\n",
    "\n",
    "当Zipf在众多互不相干的现象里都发现类似Zipf定律的规律性以后，他就开始思考造成这种规律性的原因。这是导致他提出“省力原则”的直接因素。\n",
    "\n",
    "在开始正式论证以前，Zipf首先澄清了“省力原则”的字面意义。第一，这是一种平均量。一个人一生要经历很多事情，他在一件事情上的省力可能导致在另一件事情上的费力。反过来，在一件事情上的费力，又可能导致在另一件事情上的省力。第二，这是一种概率。一个人很难在事先百分之百地肯定某种方法一定能让他省力，他只能有一个大概的估计。\n",
    "\n",
    "因为用词研究是理解整个言语过程的关键，而后者又是理解整个人类生态学的关键，他的具体论证从用词经济开始。Zipf认为，用词经济可以从两个角度来讨论：说话人的角度和听话人的角度。从说话人的角度看，用一个词表达所有的意义是最经济的。这样，说话人不需要花费气力去掌握更多的词汇，也不需要考虑如何从一堆词汇中选择一个合适的词。这种“单一词词汇量”就像木工的一种多用工具，集锯刨钻锤于一身，可以满足多种用途。但是，从听话人角度看，这种“单一词词汇量”是最费力的。他要决定这个词在某个特定场合到底是什么意思，而这几乎是不可能的。相反，对听话人来说，最省力的是每个词都只有一个意义，词汇的形式和意义之间完全一一对应。这两种经济原则是互相冲突、互相矛盾的。Zipf把它们叫做一条言语流中的两股对立的力量：“单一化力量”（the Force of Unification）和“多样化力量”（the Force of Diversification）。他认为，这两股力量只有达成妥协，达成一种平衡，才能实现真正的省力。\n",
    "\n",
    "事实正像预计的那样。请看Zipf的论证：假如只有单一化力量，那么任何语篇的单词数量（number）都会是1，而它的出现次数（frequency）会是100%。另一方面，假如只有多样化力量，那么每个单词的出现次数都会接近 1，而单词总数量则由语篇的长度决定。这就是说， number 和 frequency 是衡量词汇平衡程度的两个参数。[由此可见. 中庸之道, 何其美哉] .\n"
   ]
  },
  {
   "cell_type": "markdown",
   "metadata": {
    "collapsed": true
   },
   "source": [
    "### 图像 & 参数\n",
    "\n",
    "![](http://ohjwan9tm.bkt.clouddn.com/%E9%BD%90%E5%A4%AB%E5%AE%9A%E5%BE%8B.png)  \n",
    "\n",
    "![](http://ohjwan9tm.bkt.clouddn.com/%E9%BD%90%E5%A4%AB%E5%AE%9A%E5%BE%8B%E6%A6%82%E7%8E%87.png)\n",
    "\n"
   ]
  },
  {
   "cell_type": "markdown",
   "metadata": {},
   "source": [
    "### 近似服从齐夫定律的例子\n",
    "\n",
    "- 访问网页的频率；\n",
    "- 居住点的规模；\n",
    "- 个人收入的分布；\n",
    "- 地震的大小；\n",
    "- 演奏中的音乐符号；"
   ]
  },
  {
   "cell_type": "markdown",
   "metadata": {},
   "source": [
    "## 中文分词"
   ]
  },
  {
   "cell_type": "markdown",
   "metadata": {},
   "source": [
    "###  概念\n",
    "\n",
    "中文分词就是将连续的字序列按照一定的规范重新组合成词序列的过程。简单来说，就是让计算机系统在汉语文本中的词与词之间自动加上空格或其他边界标记。\n",
    "\n",
    "\n",
    "### 目前主要困难  \n",
    "\n",
    "- 分词规范：“词”的概念未明确（包括抽象定义“词是什么”和具体界定“什么是词”）\n",
    "  - 单字词与[词素](https://zh.wikipedia.org/wiki/语素)（英文为：[Morpheme](https://en.wikipedia.org/wiki/Morpheme)）之间的划界\n",
    "  - 词与短语（词组）的划界\n",
    "- 歧义切分\n",
    "  - 交集型切分歧义\n",
    "  - 组合型切分歧义 & 多义组合型切分歧义\n",
    "- 未登录词（生词）的识别（已有的词表中没有收录的词 & 已有的训练语料中未曾出现过的词）\n",
    "  - 新出现的普通词汇\n",
    "  - 专有名词\n",
    "  - 专业名词和研究领域名称\n",
    "  - 其他专用名词\n",
    "\n",
    "\n",
    "### 分词方法\n",
    "\n",
    "- N-最短路径方法\n",
    "- 基于词的 n 元语法模型的分词方法\n",
    "- 由字构词的汉语分词方法\n",
    "- 基于词感知机算法的汉语分词方法\n",
    "- 基于字的生成式模型和区分式模型相结合的汉语分词方法"
   ]
  },
  {
   "cell_type": "markdown",
   "metadata": {},
   "source": [
    "## Jieba"
   ]
  },
  {
   "cell_type": "markdown",
   "metadata": {},
   "source": [
    "### 安装\n",
    "\n",
    "`conda install -c jiangxiluning jieba=0.36.2`   # 由于 python 在 anaconda 中，所以最好通过 anaconda 进行安装\n",
    "\n",
    "### 算法\n",
    "\n",
    "- 基于前缀词典实现高效的词图扫描，生成句子中汉字所有可能成词情况所构成的有向无环图 (DAG)\n",
    "- 采用了动态规划查找最大概率路径, 找出基于词频的最大切分组合\n",
    "- 对于未登录词，采用了基于汉字成词能力的 HMM 模型，使用了 Viterbi 算法\n",
    "\n",
    "### 模式\n",
    "\n",
    "- 精确模式，试图将句子最精确地切开，适合文本分析；\n",
    "- 全模式，把句子中所有的可以成词的词语都扫描出来, 速度非常快，但是不能解决歧义；\n",
    "- 搜索引擎模式，在精确模式的基础上，对长词再次切分，提高召回率，适合用于搜索引擎分词。"
   ]
  },
  {
   "cell_type": "markdown",
   "metadata": {},
   "source": [
    "### 功能\n",
    "\n",
    "#### 1. 分词\n",
    "\n",
    "- `jieba.cut(\"字符串\", cut_all=True/False, HMM=True/False)`  # cut_all=True 全模式，HMM 控制是否使用该模型\n",
    "- `jieba.cut_for_search(\"字符串\", HMM=True/False) `# 该方法适合用于搜索引擎构建倒排索引的分词，粒度比较细\n",
    "\n",
    "\n",
    "- `jieba.cut` 和 `jieba.cut_for_search` #返回一个可迭代的 generator，可以使用 for 循环来获得分词后得到的每一个词语(unicode)\n",
    "- `jieba.lcut` 以及 `jieba.lcut_for_search` #直接返回 list，**安装包暂时未更新**\n",
    "\n",
    "\n",
    "- `jieba.Tokenizer(dictionary=DEFAULT_DICT)` #新建自定义分词器，可用于同时使用不同词典。jieba.dt 为默认分词器，所有全局分词相关函数都是该分词器的映射。\n",
    "\n",
    "- 待分词的字符串可以是 unicode 或 UTF-8 字符串、GBK 字符串。注意：不建议直接输入 GBK 字符串，可能无法预料地错误解码成 UTF-8"
   ]
  },
  {
   "cell_type": "code",
   "execution_count": 11,
   "metadata": {
    "collapsed": false
   },
   "outputs": [
    {
     "name": "stdout",
     "output_type": "stream",
     "text": [
      "Full Mode: 我/ 来到/ 北京/ 清华/ 清华大学/ 华大/ 大学\n",
      "Default Mode: 我/ 来到/ 北京/ 清华大学\n",
      "他, 来到, 了, 网易, 杭研, 大厦\n",
      "小明, 硕士, 毕业, 于, 中国, 科学, 学院, 科学院, 中国科学院, 计算, 计算所, ，, 后, 在, 日本, 京都, 大学, 日本京都大学, 深造\n"
     ]
    }
   ],
   "source": [
    "# encoding=utf-8\n",
    "import jieba\n",
    "\n",
    "seg_list = jieba.cut(\"我来到北京清华大学\", cut_all=True)\n",
    "print(\"Full Mode: \" + \"/ \".join(seg_list))  # 全模式\n",
    "\n",
    "seg_list = jieba.cut(\"我来到北京清华大学\", cut_all=False)\n",
    "print(\"Default Mode: \" + \"/ \".join(seg_list))  # 精确模式\n",
    "\n",
    "seg_list = jieba.cut(\"他来到了网易杭研大厦\")  # 默认是精确模式\n",
    "print(\", \".join(seg_list))\n",
    "\n",
    "seg_list = jieba.cut_for_search(\"小明硕士毕业于中国科学院计算所，后在日本京都大学深造\")  # 搜索引擎模式\n",
    "print(\", \".join(seg_list));"
   ]
  },
  {
   "cell_type": "markdown",
   "metadata": {},
   "source": [
    "#### 2. 自定义词典\n",
    "\n",
    "- `jieba.load_userdict(file_name)` # file_name 为文件类对象或自定义词典的路径（若为路径或二进制方式打开的文件，须为 UTF-8 编码）\n",
    "- 每一词一行，每行三列：词语、词频（可省略）、词性（可省略）\n",
    "\n",
    "\n",
    "- `add_word(word, freq=None, tag=None)` 和 `del_word(word)` 可在程序中动态修改词典\n",
    "- `suggest_freq(segment, tune=True)` 调节单个词语的词频，使其能（不能）被分出来；自动计算的词频在使用 HMM 新词发现功能时可能无效。"
   ]
  },
  {
   "cell_type": "code",
   "execution_count": 2,
   "metadata": {
    "collapsed": true
   },
   "outputs": [],
   "source": [
    "import jieba"
   ]
  },
  {
   "cell_type": "code",
   "execution_count": 4,
   "metadata": {
    "collapsed": false
   },
   "outputs": [
    {
     "name": "stdout",
     "output_type": "stream",
     "text": [
      "如果/放到/post/中将/出错/。\n"
     ]
    }
   ],
   "source": [
    "print('/'.join(jieba.cut('如果放到post中将出错。', HMM=False))); # 中和将未分开"
   ]
  },
  {
   "cell_type": "code",
   "execution_count": 5,
   "metadata": {
    "collapsed": false
   },
   "outputs": [
    {
     "data": {
      "text/plain": [
       "494"
      ]
     },
     "execution_count": 5,
     "metadata": {},
     "output_type": "execute_result"
    }
   ],
   "source": [
    "jieba.suggest_freq(('中', '将'), True) # 中和将分开"
   ]
  },
  {
   "cell_type": "code",
   "execution_count": 6,
   "metadata": {
    "collapsed": false
   },
   "outputs": [
    {
     "name": "stdout",
     "output_type": "stream",
     "text": [
      "如果/放到/post/中/将/出错/。\n"
     ]
    }
   ],
   "source": [
    "print('/'.join(jieba.cut('如果放到post中将出错。', HMM=False)))"
   ]
  },
  {
   "cell_type": "code",
   "execution_count": 7,
   "metadata": {
    "collapsed": false
   },
   "outputs": [
    {
     "name": "stdout",
     "output_type": "stream",
     "text": [
      "「/台/中/」/正确/应该/不会/被/切开\n"
     ]
    }
   ],
   "source": [
    "print('/'.join(jieba.cut('「台中」正确应该不会被切开', HMM=False)))"
   ]
  },
  {
   "cell_type": "code",
   "execution_count": 8,
   "metadata": {
    "collapsed": false
   },
   "outputs": [
    {
     "data": {
      "text/plain": [
       "69"
      ]
     },
     "execution_count": 8,
     "metadata": {},
     "output_type": "execute_result"
    }
   ],
   "source": [
    "jieba.suggest_freq('台中', True)"
   ]
  },
  {
   "cell_type": "code",
   "execution_count": 9,
   "metadata": {
    "collapsed": false
   },
   "outputs": [
    {
     "name": "stdout",
     "output_type": "stream",
     "text": [
      "「/台中/」/正确/应该/不会/被/切开\n"
     ]
    }
   ],
   "source": [
    "print('/'.join(jieba.cut('「台中」正确应该不会被切开', HMM=False)))"
   ]
  },
  {
   "cell_type": "markdown",
   "metadata": {},
   "source": [
    "#### 3. 关键词提取\n",
    "\n",
    "\n",
    "##### 基于 TF-IDF 算法的关键词抽取\n",
    "\n",
    "\n",
    "- `jieba.analyse.extract_tags(sentence, topK=20, withWeight=False, allowPOS=())`\n",
    "\n",
    "  - sentence 为待提取文本\n",
    "  - topK 为返回几个 TF/IDF 权重最大的关键词，默认值为 20\n",
    "  - withWeight 为是否一并返回关键词权重值，默认值为 False\n",
    "  - allowPOS 仅包括指定词性的词，默认值为空\n",
    "\n",
    "- `jieba.analyse.TFIDF(idf_path=None)` # 新建 TFIDF 实例，id_path 为 IDF 频率文件\n",
    "\n",
    "- `jieba.analyse.set_idf_path(file_name)` # 切换关键词提取所使用逆向文件频率文本语料库；fine_name 为自定义语料库的路径\n",
    "\n",
    "- `jieba.analyse.set_stop_words(file_name)` # 切换关键词提取所使用停止词文本语料库\n",
    "\n",
    "\n",
    "##### 基于 TextRank 算法的关键词抽取\n",
    "\n",
    "- 基本思想\n",
    "\n",
    "  - 将待抽取关键词的文本进行分词\n",
    "  - 以固定窗口大小（默认为 5，通过 span 属性调整），词之间的共现关系，构建图\n",
    "  - 计算图中节点的 PageRank，注意是无向带权图\n",
    "\n",
    "- `jieba.analyse.textrank(sentence, topK=20, withWeight=False, allowPOS=('ns', 'n', 'vn', 'v'))` # 注意默认词性\n",
    "\n",
    "- `jieba.analyse.TextRank()` # 新建自定义 TextRank 实例"
   ]
  },
  {
   "cell_type": "code",
   "execution_count": 6,
   "metadata": {
    "collapsed": true
   },
   "outputs": [],
   "source": [
    "import jieba.analyse"
   ]
  },
  {
   "cell_type": "code",
   "execution_count": 10,
   "metadata": {
    "collapsed": false
   },
   "outputs": [
    {
     "name": "stdout",
     "output_type": "stream",
     "text": [
      "欧亚 0.730014270029\n",
      "吉林 0.659038184374\n",
      "置业 0.488713452211\n",
      "万元 0.339272248186\n",
      "增资 0.335824019852\n",
      "4.3 0.254356755381\n",
      "7000 0.254356755381\n",
      "139.13 0.254356755381\n",
      "2013 0.254356755381\n",
      "实现 0.199009799004\n",
      "综合体 0.194803096247\n",
      "经营范围 0.193897572536\n",
      "亿元 0.191442162359\n",
      "在建 0.175418847684\n",
      "全资 0.171801649885\n",
      "注册资本 0.1712441526\n",
      "百货 0.167344600414\n",
      "零售 0.147505711706\n",
      "子公司 0.145960452378\n",
      "营业 0.13920178509\n"
     ]
    }
   ],
   "source": [
    "s = \"此外，公司拟对全资子公司吉林欧亚置业有限公司增资4.3亿元，增资后，吉林欧亚置业注册资本由7000万元增加到5亿元。\\\n",
    "吉林欧亚置业主要经营范围为房地产开发及百货零售等业务。\\\n",
    "目前在建吉林欧亚城市商业综合体项目。2013年，实现营业收入0万元，实现净利润-139.13万元。\"\n",
    "for x, w in jieba.analyse.extract_tags(s, withWeight=True):\n",
    "    print('%s %s' % (x, w))"
   ]
  },
  {
   "cell_type": "code",
   "execution_count": 11,
   "metadata": {
    "collapsed": false
   },
   "outputs": [
    {
     "name": "stdout",
     "output_type": "stream",
     "text": [
      "吉林 1.0\n",
      "欧亚 0.87807810644\n",
      "置业 0.562048250306\n",
      "实现 0.520905743929\n",
      "收入 0.384283870648\n",
      "增资 0.360590945312\n",
      "子公司 0.353131980904\n",
      "城市 0.307509449283\n",
      "全资 0.306324426665\n",
      "商业 0.306138241063\n"
     ]
    }
   ],
   "source": [
    "for x, w in jieba.analyse.textrank(s, withWeight=True):\n",
    "    print('%s %s' % (x, w))"
   ]
  },
  {
   "cell_type": "markdown",
   "metadata": {},
   "source": [
    "#### 4. 词性标注\n",
    "\n",
    "- `jieba.posseg.POSTokenizer(tokenizer=None)` # 新建自定义分词器，tokenizer 参数可指定内部使用的 jieba.Tokenizer；jieba.posseg.dt 为默认词性标注分词器\n",
    "\n",
    "- 标注分词后的每个词的词性，采用和 ictclas 兼容的标记法"
   ]
  },
  {
   "cell_type": "code",
   "execution_count": 36,
   "metadata": {
    "collapsed": true
   },
   "outputs": [],
   "source": [
    "import jieba.posseg as pseg"
   ]
  },
  {
   "cell_type": "code",
   "execution_count": 37,
   "metadata": {
    "collapsed": true
   },
   "outputs": [],
   "source": [
    "words = pseg.cut(\"我爱北京天安门\")"
   ]
  },
  {
   "cell_type": "code",
   "execution_count": 38,
   "metadata": {
    "collapsed": false
   },
   "outputs": [
    {
     "name": "stdout",
     "output_type": "stream",
     "text": [
      "我 r\n",
      "爱 v\n",
      "北京 ns\n",
      "天安门 ns\n"
     ]
    }
   ],
   "source": [
    "for i in words:\n",
    "    print('%s %s' % (i.word, i.flag))\n",
    "\n",
    "# 注意 GitHub 中的代码会报错，因为 word 和 flag 都存储在了 i 中"
   ]
  },
  {
   "cell_type": "code",
   "execution_count": 34,
   "metadata": {
    "collapsed": false
   },
   "outputs": [
    {
     "name": "stdout",
     "output_type": "stream",
     "text": [
      "我/r\n",
      "爱/v\n",
      "北京/ns\n",
      "天安门/ns\n"
     ]
    }
   ],
   "source": [
    "for i in words:\n",
    "    print i"
   ]
  },
  {
   "cell_type": "markdown",
   "metadata": {},
   "source": [
    "#### 5. 并行分词\n",
    "\n",
    "- 原理：将目标文本按行分割后，把各行分配到多个 Python 进程分词，然后归并结果\n",
    "\n",
    "- 基于 Python 自带的 multiprocessing 模块\n",
    "\n",
    "- 用法：\n",
    "  \n",
    "  - `jieba.enable_parallel(4)` # 开启并行分词模式，参数为进程数\n",
    "  - `jieba.disable_parallel()` # 关闭并行分词模式\n",
    "\n",
    "- 并行分词仅支持默认分词器 `jieba.dt` 和 `jieba.posseg.dt`"
   ]
  },
  {
   "cell_type": "markdown",
   "metadata": {},
   "source": [
    "#### 6. Tokenize：返回词语在原文中的起止位置\n",
    "\n",
    "\n",
    "- 输入参数只接受 unicode\n",
    "\n",
    "- 默认模式和搜索模式"
   ]
  },
  {
   "cell_type": "code",
   "execution_count": 41,
   "metadata": {
    "collapsed": false
   },
   "outputs": [
    {
     "name": "stdout",
     "output_type": "stream",
     "text": [
      "word 我\t\t start: 0\t\t end: 1\n",
      "word 爱\t\t start: 1\t\t end: 2\n",
      "word 北京\t\t start: 2\t\t end: 4\n",
      "word 天安门\t\t start: 4\t\t end: 7\n"
     ]
    }
   ],
   "source": [
    "# 默认模式\n",
    "result = jieba.tokenize(u'我爱北京天安门')\n",
    "for tk in result:\n",
    "    print(\"word %s\\t\\t start: %d\\t\\t end: %d\" % (tk[0], tk[1], tk[2]))"
   ]
  },
  {
   "cell_type": "code",
   "execution_count": 42,
   "metadata": {
    "collapsed": false
   },
   "outputs": [
    {
     "name": "stdout",
     "output_type": "stream",
     "text": [
      "word 我\t\t start: 0\t\t end: 1\n",
      "word 爱\t\t start: 1\t\t end: 2\n",
      "word 北京\t\t start: 2\t\t end: 4\n",
      "word 天安\t\t start: 4\t\t end: 6\n",
      "word 天安门\t\t start: 4\t\t end: 7\n"
     ]
    }
   ],
   "source": [
    "# 搜索模式\n",
    "result = jieba.tokenize(u'我爱北京天安门', mode='search')\n",
    "for tk in result:\n",
    "    print(\"word %s\\t\\t start: %d\\t\\t end: %d\" % (tk[0], tk[1], tk[2]))"
   ]
  },
  {
   "cell_type": "markdown",
   "metadata": {},
   "source": [
    "## Case：《西游记》"
   ]
  },
  {
   "cell_type": "code",
   "execution_count": 14,
   "metadata": {
    "collapsed": false
   },
   "outputs": [
    {
     "data": {
      "text/plain": [
       "u'/home/evil_rabbit/DataScience/OMOOC.DeepLearning'"
      ]
     },
     "execution_count": 14,
     "metadata": {},
     "output_type": "execute_result"
    }
   ],
   "source": [
    "pwd"
   ]
  },
  {
   "cell_type": "markdown",
   "metadata": {},
   "source": [
    "### 分词"
   ]
  },
  {
   "cell_type": "markdown",
   "metadata": {},
   "source": [
    "#### 按步骤"
   ]
  },
  {
   "cell_type": "code",
   "execution_count": 1,
   "metadata": {
    "collapsed": true
   },
   "outputs": [],
   "source": [
    "import jieba\n",
    "import jieba.analyse\n",
    "import jieba.posseg as pseg\n",
    "import time"
   ]
  },
  {
   "cell_type": "code",
   "execution_count": 13,
   "metadata": {
    "collapsed": true
   },
   "outputs": [],
   "source": [
    "f = open('西游记.txt', 'r')"
   ]
  },
  {
   "cell_type": "code",
   "execution_count": 14,
   "metadata": {
    "collapsed": false
   },
   "outputs": [],
   "source": [
    "s = f.read().decode('utf-8')"
   ]
  },
  {
   "cell_type": "code",
   "execution_count": 23,
   "metadata": {
    "collapsed": true
   },
   "outputs": [],
   "source": [
    "seg_list = list(jieba.cut(s,cut_all=False))"
   ]
  },
  {
   "cell_type": "code",
   "execution_count": 27,
   "metadata": {
    "collapsed": false,
    "scrolled": true
   },
   "outputs": [
    {
     "name": "stdout",
     "output_type": "stream",
     "text": [
      "\n",
      " （ 明 ） 吴承恩 著 \r\n",
      " 第一回 \r\n",
      " 灵根育孕 源流 出 心性 修持 大道 生 \r\n",
      " 诗\n"
     ]
    }
   ],
   "source": [
    "print(\" \".join(seg_list)[1:50]) "
   ]
  },
  {
   "cell_type": "markdown",
   "metadata": {},
   "source": [
    "#### 合并代码"
   ]
  },
  {
   "cell_type": "code",
   "execution_count": 127,
   "metadata": {
    "collapsed": false
   },
   "outputs": [],
   "source": [
    "import jieba                                                    # 导入jieba模块  \n",
    "  \n",
    "def splitSentence(inputFile, outputFile):  \n",
    "    fin = open(inputFile, 'r')                                  # 以读的方式打开文件  \n",
    "    fout = open(outputFile, 'w')                                # 以写得方式打开文件  \n",
    "  \n",
    "#    for eachLine in fin:  \n",
    "    line = fin.read().decode('utf-8', 'ignore')             # 去除每行首尾可能出现的空格，并转为Unicode进行处理  \n",
    "    wordList = list(jieba.cut(line))                        # 用结巴分词，对每行内容进行分词  \n",
    "    word = ''  \n",
    "    for word in wordList:\n",
    "        fout.write(word.encode('utf-8') + '\\n')       # 将分词好的结果写入到输出文件  \n",
    "fin.close()  \n",
    "fout.close()  \n",
    "  \n",
    "splitSentence('西游记.txt', 'myOutput1.txt') "
   ]
  },
  {
   "cell_type": "code",
   "execution_count": 139,
   "metadata": {
    "collapsed": false
   },
   "outputs": [],
   "source": [
    "# 剔除标点符号\n",
    "\n",
    "import jieba\n",
    "\n",
    "PUNCTUATIONS = [u'。', u'，', u'“', u'”', u'…', u'？', u'！', u'、', u'；', u'（', u'）', u'：', u' ', u'《', u'》']\n",
    "\n",
    "fin = open('西游记.txt', 'r')\n",
    "fout = open('myOutput2.txt', 'w')\n",
    "\n",
    "for l in fin:\n",
    "    seg_list = jieba.cut(l)\n",
    "    \n",
    "    for seg in seg_list:\n",
    "        if seg not in PUNCTUATIONS:\n",
    "            fout.write(seg.encode('utf-8', 'strict') + '\\n')\n",
    "fin.close()\n",
    "fout.close()"
   ]
  },
  {
   "cell_type": "markdown",
   "metadata": {},
   "source": [
    "#### 词性标注"
   ]
  },
  {
   "cell_type": "code",
   "execution_count": 101,
   "metadata": {
    "collapsed": false
   },
   "outputs": [
    {
     "name": "stdout",
     "output_type": "stream",
     "text": [
      "分词及词性标注完成，耗时：555.649128199秒。\n"
     ]
    }
   ],
   "source": [
    "# coding=utf-8\n",
    "\n",
    "import jieba\n",
    "import jieba.posseg as pseg\n",
    "import time\n",
    "\n",
    "t1 = time.time()\n",
    "f_in = open(\"西游记.txt\", \"r\")\n",
    "f_out = open(\"cut.txt\", \"w\")\n",
    "\n",
    "string = f_in.read().decode(\"utf-8\")\n",
    "\n",
    "words = pseg.cut(string)\n",
    "result = ''\n",
    "for w in words:\n",
    "    result += w.word +\"/\" + w.flag + \"\\n\"\n",
    "    \n",
    "#for seg in result:\n",
    "f_out.write(result.encode('utf-8'))\n",
    "        \n",
    "f_in.close()\n",
    "f_out.close()\n",
    "t2=time.time()\n",
    "\n",
    "print(\"分词及词性标注完成，耗时：\"+str(t2-t1) + \"秒。\")"
   ]
  },
  {
   "cell_type": "markdown",
   "metadata": {},
   "source": [
    "### 词频统计"
   ]
  },
  {
   "cell_type": "code",
   "execution_count": 128,
   "metadata": {
    "collapsed": false
   },
   "outputs": [
    {
     "name": "stdout",
     "output_type": "stream",
     "text": [
      "  91556 （\r\n",
      "  26346 \r",
      "\r\n",
      "  26346 \r\n",
      "   9972 “\r\n",
      "   9953 ”\r\n",
      "   7678 道\r\n",
      "   6708 了\r\n",
      "   5271 我\r\n",
      "   4819 的\r\n",
      "   4812 他\r\n",
      "   4766 你\r\n",
      "   3949 行者\r\n",
      "   3877 那\r\n",
      "   3759 是\r\n",
      "   2576 也\r\n",
      "   2475 在\r\n",
      "   2226 去\r\n",
      "   2168 又\r\n",
      "   2165 有\r\n",
      "   2024 来\r\n",
      "   1902 与\r\n",
      "   1871 这\r\n",
      "   1627 八戒\r\n",
      "   1615 不\r\n",
      "   1533 就\r\n",
      "   1521 师父\r\n",
      "   1484 却\r\n",
      "   1359 把\r\n",
      "   1343 着\r\n",
      "   1334 见\r\n",
      "   1285 等\r\n",
      "   1280 得\r\n",
      "   1233 三藏\r\n",
      "   1223 将\r\n",
      "   1214 说\r\n",
      "   1048 上\r\n",
      "   1018 都\r\n",
      "    977 个\r\n",
      "    968 一个\r\n",
      "    943 好\r\n",
      "    858 叫\r\n",
      "    785 唐僧\r\n",
      "    783 到\r\n",
      "    764 看\r\n",
      "    748 只\r\n",
      "    729 大圣\r\n",
      "    720 还\r\n",
      "    696 那里\r\n",
      "    695 走\r\n",
      "    692 沙僧\r\n",
      "sort: 写入失败: 标准输出: 断开的管道\r\n",
      "sort: 写入错误\r\n"
     ]
    }
   ],
   "source": [
    "cat myOutput1.txt | sort | uniq -c | sort -rg | head -50"
   ]
  },
  {
   "cell_type": "code",
   "execution_count": 140,
   "metadata": {
    "collapsed": false
   },
   "outputs": [
    {
     "name": "stdout",
     "output_type": "stream",
     "text": [
      "  26346 \r",
      "\r\n",
      "  26346 \r\n",
      "   7678 道\r\n",
      "   6708 了\r\n",
      "   5271 我\r\n",
      "   4819 的\r\n",
      "   4812 他\r\n",
      "   4766 你\r\n",
      "   3949 行者\r\n",
      "   3877 那\r\n",
      "   3759 是\r\n",
      "   2576 也\r\n",
      "   2475 在\r\n",
      "   2226 去\r\n",
      "   2168 又\r\n",
      "   2165 有\r\n",
      "   2024 来\r\n",
      "   1902 与\r\n",
      "   1871 这\r\n",
      "   1627 八戒\r\n",
      "   1615 不\r\n",
      "   1533 就\r\n",
      "   1521 师父\r\n",
      "   1484 却\r\n",
      "   1359 把\r\n",
      "   1343 着\r\n",
      "   1334 见\r\n",
      "   1285 等\r\n",
      "   1280 得\r\n",
      "   1233 三藏\r\n",
      "   1223 将\r\n",
      "   1214 说\r\n",
      "   1048 上\r\n",
      "   1018 都\r\n",
      "   1011 —\r\n",
      "    977 个\r\n",
      "    968 一个\r\n",
      "    943 好\r\n",
      "    858 叫\r\n",
      "    785 唐僧\r\n",
      "    783 到\r\n",
      "    764 看\r\n",
      "    748 只\r\n",
      "    729 大圣\r\n",
      "    720 还\r\n",
      "    696 那里\r\n",
      "    695 走\r\n",
      "    692 沙僧\r\n",
      "    691 吃\r\n",
      "    689 拿\r\n",
      "sort: 写入失败: 标准输出: 断开的管道\r\n",
      "sort: 写入错误\r\n"
     ]
    }
   ],
   "source": [
    "cat myOutput2.txt | sort | uniq -c | sort -rg | head -50"
   ]
  },
  {
   "cell_type": "markdown",
   "metadata": {},
   "source": [
    "#### 剔除标点符号后词频统计"
   ]
  },
  {
   "cell_type": "code",
   "execution_count": 15,
   "metadata": {
    "collapsed": false
   },
   "outputs": [
    {
     "name": "stderr",
     "output_type": "stream",
     "text": [
      "Building prefix dict from /home/evil_rabbit/anaconda2/lib/python2.7/site-packages/jieba/dict.txt ...\n",
      "Dumping model to file cache /tmp/jieba.cache\n",
      "Loading model cost 1.07270884514 seconds.\n",
      "Prefix dict has been built succesfully.\n"
     ]
    }
   ],
   "source": [
    "hist = {}\n",
    "PUNCTUATIONS = [u'。', u'，', u'“', u'”', u'…', u'？', u'！', u'、', u'；', u'（', u'）', u'：', u' ', u'《', u'》']\n",
    "\n",
    "\n",
    "for word in jieba.cut(s):\n",
    "    if word in PUNCTUATIONS:\n",
    "        continue\n",
    "    hist[word] = hist.get(word, 0) +1"
   ]
  },
  {
   "cell_type": "code",
   "execution_count": 16,
   "metadata": {
    "collapsed": false
   },
   "outputs": [],
   "source": [
    "f_out1 = open('count1.txt', 'w')\n",
    "\n",
    "for key, value in sorted(hist.items(), key=lambda d:d[1], reverse=True)[1:]:\n",
    "    f_out1.write(key.encode('utf-8') + str(value) +'\\n' ) \n",
    "\n",
    "f_out1.close()"
   ]
  },
  {
   "cell_type": "code",
   "execution_count": 17,
   "metadata": {
    "collapsed": true
   },
   "outputs": [],
   "source": [
    "hist_sorted = sorted(hist.iteritems(), key=lambda d:d[1], reverse=True)[1:]"
   ]
  },
  {
   "cell_type": "code",
   "execution_count": 18,
   "metadata": {
    "collapsed": false
   },
   "outputs": [
    {
     "data": {
      "image/png": "[encoded data removed]",
      "text/plain": [
       "<matplotlib.figure.Figure at 0x7fddeef77310>"
      ]
     },
     "metadata": {},
     "output_type": "display_data"
    }
   ],
   "source": [
    "import pandas as pd\n",
    "import matplotlib as mpl\n",
    "import matplotlib.pyplot as plt\n",
    "%matplotlib inline\n",
    "\n",
    "fig, ax = plt.subplots(1,1,figsize=(15,5))\n",
    "pd = pd.Series([hist_sorted[i][1] for i in range(50)])\n",
    "\n",
    "\n",
    "pd.plot(kind=\"bar\",ax=ax);"
   ]
  },
  {
   "cell_type": "markdown",
   "metadata": {
    "collapsed": true
   },
   "source": [
    "### 验证词频分布是否满足齐夫定律"
   ]
  },
  {
   "cell_type": "code",
   "execution_count": 43,
   "metadata": {
    "collapsed": false
   },
   "outputs": [],
   "source": [
    "xiyouji_list = [hist_sorted[i][1] for i in range(len(hist_sorted))] # 取出所有分好的词列表"
   ]
  },
  {
   "cell_type": "code",
   "execution_count": 79,
   "metadata": {
    "collapsed": false
   },
   "outputs": [],
   "source": [
    "my_list = [range(len(xiyouji_list)+1)[1:], xiyouji_list] # 构造等级、频率列表"
   ]
  },
  {
   "cell_type": "code",
   "execution_count": 84,
   "metadata": {
    "collapsed": false
   },
   "outputs": [],
   "source": [
    "import numpy as np\n",
    "from pandas import Series, DataFrame\n",
    "\n",
    "# 构造数据框\n",
    "\n",
    "df = DataFrame(my_list).T\n",
    "df.columns=['Grade', 'Frequency'] "
   ]
  },
  {
   "cell_type": "code",
   "execution_count": 85,
   "metadata": {
    "collapsed": false
   },
   "outputs": [
    {
     "data": {
      "text/html": [
       "<div>\n",
       "<table border=\"1\" class=\"dataframe\">\n",
       "  <thead>\n",
       "    <tr style=\"text-align: right;\">\n",
       "      <th></th>\n",
       "      <th>Grade</th>\n",
       "      <th>Frequency</th>\n",
       "    </tr>\n",
       "  </thead>\n",
       "  <tbody>\n",
       "    <tr>\n",
       "      <th>0</th>\n",
       "      <td>1</td>\n",
       "      <td>7678</td>\n",
       "    </tr>\n",
       "    <tr>\n",
       "      <th>1</th>\n",
       "      <td>2</td>\n",
       "      <td>6708</td>\n",
       "    </tr>\n",
       "    <tr>\n",
       "      <th>2</th>\n",
       "      <td>3</td>\n",
       "      <td>5271</td>\n",
       "    </tr>\n",
       "    <tr>\n",
       "      <th>3</th>\n",
       "      <td>4</td>\n",
       "      <td>4819</td>\n",
       "    </tr>\n",
       "    <tr>\n",
       "      <th>4</th>\n",
       "      <td>5</td>\n",
       "      <td>4812</td>\n",
       "    </tr>\n",
       "  </tbody>\n",
       "</table>\n",
       "</div>"
      ],
      "text/plain": [
       "   Grade  Frequency\n",
       "0      1       7678\n",
       "1      2       6708\n",
       "2      3       5271\n",
       "3      4       4819\n",
       "4      5       4812"
      ]
     },
     "execution_count": 85,
     "metadata": {},
     "output_type": "execute_result"
    }
   ],
   "source": [
    "df.head()"
   ]
  },
  {
   "cell_type": "code",
   "execution_count": 98,
   "metadata": {
    "collapsed": false
   },
   "outputs": [
    {
     "data": {
      "image/png": "[encoded data removed]",
      "text/plain": [
       "<matplotlib.figure.Figure at 0x7fd4ad8dcf10>"
      ]
     },
     "metadata": {},
     "output_type": "display_data"
    }
   ],
   "source": [
    "import pandas as pd\n",
    "\n",
    "fig, ax = plt.subplots(1,1,figsize=(15,5))\n",
    "\n",
    "x = np.log(df['Grade'])\n",
    "y = np.log(df['Frequency'])\n",
    "\n",
    "ax.set_ylabel(\"log(Frequency)\")\n",
    "ax.set_xlabel(\"log(Grade)\")\n",
    "\n",
    "ax.plot(x,y);"
   ]
  },
  {
   "cell_type": "markdown",
   "metadata": {},
   "source": [
    "通过上图，我们初步可以判断基本满足齐夫定律。"
   ]
  },
  {
   "cell_type": "markdown",
   "metadata": {},
   "source": [
    "#### 按单个字验证"
   ]
  },
  {
   "cell_type": "code",
   "execution_count": 11,
   "metadata": {
    "collapsed": false
   },
   "outputs": [
    {
     "name": "stdout",
     "output_type": "stream",
     "text": [
      "574127\n",
      "4312\n"
     ]
    }
   ],
   "source": [
    "#from operator import itemgetter\n",
    "\n",
    "f_in = open('西游记.txt', 'r')  # 打开小说\n",
    "f_out2 = open('count2.txt', 'w')\n",
    "\n",
    "string = f_in.read().decode('utf-8', 'ignore')\n",
    "\n",
    "PUNCTUATIONS = [u'。', u'，', u'“', u'”', u'…', u'？', u'！', u'、', u'；', u'（', u'）', u'：', u' ', u'《', u'》']\n",
    "\n",
    "words = []\n",
    "for word in string:\n",
    "    if word in PUNCTUATIONS:\n",
    "        continue\n",
    "    words.append(word)\n",
    "print(len(words)) # 小说总字数\n",
    " \n",
    "frequency = {}\n",
    "for word in words:\n",
    "    count = frequency.get(word,0)\n",
    "    frequency[word] = count + 1\n",
    " \n",
    "print(len(frequency))  # 使用到的汉字个数\n",
    "\n",
    "for key, value in sorted(frequency.items(), key=lambda d:d[1], reverse=True)[2:]:  # key = itemgetter(1)\n",
    "#    print(key, value)\n",
    "    f_out2.write(key.encode('utf-8') + str(value) +'\\n' ) \n",
    "\n",
    "f_in.close()\n",
    "f_out2.close()"
   ]
  },
  {
   "cell_type": "code",
   "execution_count": 247,
   "metadata": {
    "collapsed": true
   },
   "outputs": [],
   "source": [
    "frequency_sorted = sorted(frequency.items(), key=lambda d:d[1], reverse=True)[2:]\n",
    "xiyouji2_list = [frequency_sorted[i][1] for i in range(len(frequency_sorted))]\n",
    "my_list2 = [range(len(xiyouji2_list)+1)[1:], xiyouji2_list] # 构造等级、频率列表"
   ]
  },
  {
   "cell_type": "code",
   "execution_count": 248,
   "metadata": {
    "collapsed": false
   },
   "outputs": [
    {
     "data": {
      "text/plain": [
       "4310"
      ]
     },
     "execution_count": 248,
     "metadata": {},
     "output_type": "execute_result"
    }
   ],
   "source": [
    "len(xiyouji2_list)"
   ]
  },
  {
   "cell_type": "code",
   "execution_count": 249,
   "metadata": {
    "collapsed": true
   },
   "outputs": [],
   "source": [
    "import numpy as np\n",
    "from pandas import Series, DataFrame\n",
    "\n",
    "# 构造数据框\n",
    "\n",
    "df2 = DataFrame(my_list).T\n",
    "df2.columns=['Grade', 'Frequency'] "
   ]
  },
  {
   "cell_type": "code",
   "execution_count": 250,
   "metadata": {
    "collapsed": false
   },
   "outputs": [
    {
     "data": {
      "text/html": [
       "<div>\n",
       "<table border=\"1\" class=\"dataframe\">\n",
       "  <thead>\n",
       "    <tr style=\"text-align: right;\">\n",
       "      <th></th>\n",
       "      <th>Grade</th>\n",
       "      <th>Frequency</th>\n",
       "    </tr>\n",
       "  </thead>\n",
       "  <tbody>\n",
       "    <tr>\n",
       "      <th>0</th>\n",
       "      <td>1</td>\n",
       "      <td>10023</td>\n",
       "    </tr>\n",
       "    <tr>\n",
       "      <th>1</th>\n",
       "      <td>2</td>\n",
       "      <td>7984</td>\n",
       "    </tr>\n",
       "    <tr>\n",
       "      <th>2</th>\n",
       "      <td>3</td>\n",
       "      <td>7144</td>\n",
       "    </tr>\n",
       "    <tr>\n",
       "      <th>3</th>\n",
       "      <td>4</td>\n",
       "      <td>7079</td>\n",
       "    </tr>\n",
       "    <tr>\n",
       "      <th>4</th>\n",
       "      <td>5</td>\n",
       "      <td>6934</td>\n",
       "    </tr>\n",
       "  </tbody>\n",
       "</table>\n",
       "</div>"
      ],
      "text/plain": [
       "   Grade  Frequency\n",
       "0      1      10023\n",
       "1      2       7984\n",
       "2      3       7144\n",
       "3      4       7079\n",
       "4      5       6934"
      ]
     },
     "execution_count": 250,
     "metadata": {},
     "output_type": "execute_result"
    }
   ],
   "source": [
    "df2.head()"
   ]
  },
  {
   "cell_type": "code",
   "execution_count": 251,
   "metadata": {
    "collapsed": false
   },
   "outputs": [
    {
     "data": {
      "image/png": "[encoded data removed]",
      "text/plain": [
       "<matplotlib.figure.Figure at 0x7fd4ac955f90>"
      ]
     },
     "metadata": {},
     "output_type": "display_data"
    }
   ],
   "source": [
    "import pandas as pd\n",
    "\n",
    "fig, ax = plt.subplots(1,1,figsize=(15,5))\n",
    "\n",
    "x = np.log(df2['Grade'])\n",
    "y = np.log(df2['Frequency'])\n",
    "\n",
    "ax.set_ylabel(\"log(Frequency)\")\n",
    "ax.set_xlabel(\"log(Grade)\")\n",
    "\n",
    "ax.plot(x,y);"
   ]
  },
  {
   "cell_type": "markdown",
   "metadata": {},
   "source": [
    "可以看出大致满足齐夫定律。"
   ]
  },
  {
   "cell_type": "markdown",
   "metadata": {
    "collapsed": true
   },
   "source": [
    "## 参考文献\n",
    "\n",
    "- [齐夫定律 维基百科](https://w.sxisa.org/zh-hans/齐夫定律)\n",
    "- [Zipf's Law](http://mathworld.wolfram.com/ZipfsLaw.html)\n",
    "- [齐夫定律 Zipf's Law 股票数学模型对冲基金方法](http://blog.sina.com.cn/s/blog_7f6f656101019ywb.html)\n",
    "- [Python 新闻联播词频统计](http://www.judymax.com/archives/1033)\n",
    "- [用 Python 结巴模块进行分词](http://www.dataguru.cn/thread-305533-1-1.html)\n",
    "- [结巴分词及可视化](http://www.cnblogs.com/shangfr/p/4965949.html)\n",
    "- [Python 中文分词工具——结巴分词的使用方法总结](http://blog.csdn.net/laoyaotask/article/details/9275837)\n",
    "- [使用 Python 简单验证文本的 Zipf 分布](http://blog.topspeedsnail.com/archives/9546)\n",
    "- [对 Python 中文分词模块结巴分词算法过程的理解和分析](http://blog.csdn.net/rav009/article/details/12196623)\n",
    "- [Python 与词频统计](http://www.brightempty.com/?p=39)\n",
    "- [词频统计实例](https://github.com/imwilsonxu/mao)\n",
    "- [Python 文本挖掘：解决 Python 中文编码问题](http://rzcoding.blog.163.com/blog/static/2222810172013101785738166/)"
   ]
  },
  {
   "cell_type": "markdown",
   "metadata": {},
   "source": [
    "## 总结 & 需进一步研究\n",
    "\n",
    "时间仓促，完成的比较粗糙，还有不少内容需要进一步整理或探索：\n",
    "\n",
    "- 齐夫定律模型理解\n",
    "- 结巴分词算法理解\n",
    "- Python 处理中文时的编码问题\n"
   ]
  },
  {
   "cell_type": "code",
   "execution_count": null,
   "metadata": {
    "collapsed": true
   },
   "outputs": [],
   "source": []
  }
 ],
 "metadata": {
  "kernelspec": {
   "display_name": "Python 2",
   "language": "python",
   "name": "python2"
  },
  "language_info": {
   "codemirror_mode": {
    "name": "ipython",
    "version": 2
   },
   "file_extension": ".py",
   "mimetype": "text/x-python",
   "name": "python",
   "nbconvert_exporter": "python",
   "pygments_lexer": "ipython2",
   "version": "2.7.12"
  }
 },
 "nbformat": 4,
 "nbformat_minor": 0
}
