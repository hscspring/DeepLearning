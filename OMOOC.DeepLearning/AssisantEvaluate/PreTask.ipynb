{
 "cells": [
  {
   "cell_type": "code",
   "execution_count": 1,
   "metadata": {
    "collapsed": false
   },
   "outputs": [
    {
     "name": "stdout",
     "output_type": "stream",
     "text": [
      "1_hello_tensorflow.ipynb    BUILD          \u001b[0m\u001b[01;34mw0\u001b[0m/  \u001b[01;34mw3_Tensorflow-NN\u001b[0m/\r\n",
      "2_getting_started.ipynb     LICENSE        \u001b[01;34mw1\u001b[0m/\r\n",
      "3_mnist_from_scratch.ipynb  PreTask.ipynb  \u001b[01;34mw2\u001b[0m/\r\n"
     ]
    }
   ],
   "source": [
    "ls"
   ]
  },
  {
   "cell_type": "code",
   "execution_count": 5,
   "metadata": {
    "collapsed": false
   },
   "outputs": [
    {
     "name": "stdout",
     "output_type": "stream",
     "text": [
      "/tensorflow\n"
     ]
    }
   ],
   "source": [
    "cd /tensorflow"
   ]
  },
  {
   "cell_type": "code",
   "execution_count": 182,
   "metadata": {
    "collapsed": false
   },
   "outputs": [],
   "source": [
    "f = open(\"happiness_seg.txt\", \"r\")"
   ]
  },
  {
   "cell_type": "code",
   "execution_count": 183,
   "metadata": {
    "collapsed": true
   },
   "outputs": [],
   "source": [
    "words = f.read().decode('utf-8').strip()"
   ]
  },
  {
   "cell_type": "code",
   "execution_count": 184,
   "metadata": {
    "collapsed": false
   },
   "outputs": [],
   "source": [
    "text = words.split(\" \")"
   ]
  },
  {
   "cell_type": "code",
   "execution_count": 187,
   "metadata": {
    "collapsed": false
   },
   "outputs": [
    {
     "data": {
      "text/plain": [
       "256334"
      ]
     },
     "execution_count": 187,
     "metadata": {},
     "output_type": "execute_result"
    }
   ],
   "source": [
    "len(text)"
   ]
  },
  {
   "cell_type": "code",
   "execution_count": 195,
   "metadata": {
    "collapsed": false
   },
   "outputs": [],
   "source": [
    "PUNCTUATIONS = [u'。', u'，', u'“', u'”', u'…', u'？', u'！', u'、', u'；', u'（', u'）', u'：', u' ', u'《', u'》',u'―']\n",
    "\n",
    "words = []\n",
    "\n",
    "for w in text:\n",
    "    if w in PUNCTUATIONS:\n",
    "        continue\n",
    "    words.append(w)"
   ]
  },
  {
   "cell_type": "code",
   "execution_count": 196,
   "metadata": {
    "collapsed": false
   },
   "outputs": [
    {
     "data": {
      "text/plain": [
       "223716"
      ]
     },
     "execution_count": 196,
     "metadata": {},
     "output_type": "execute_result"
    }
   ],
   "source": [
    "len(words)"
   ]
  },
  {
   "cell_type": "code",
   "execution_count": 192,
   "metadata": {
    "collapsed": true
   },
   "outputs": [],
   "source": [
    "from collections import Counter"
   ]
  },
  {
   "cell_type": "code",
   "execution_count": 197,
   "metadata": {
    "collapsed": false
   },
   "outputs": [],
   "source": [
    "lm = Counter()\n",
    "\n",
    "for i in range(0, len(words)-2):\n",
    "    content = words[i:i+2]\n",
    "    lm[content[0],content[1]]  += 1"
   ]
  },
  {
   "cell_type": "code",
   "execution_count": 198,
   "metadata": {
    "collapsed": false
   },
   "outputs": [
    {
     "name": "stdout",
     "output_type": "stream",
     "text": [
      "的 人 928\n",
      "他 的 503\n",
      "自己 的 479\n",
      "上 的 355\n",
      "他们 的 334\n",
      "人 的 293\n",
      "的 时候 261\n",
      "就 会 225\n",
      "的 东西 207\n",
      "都 是 206\n"
     ]
    }
   ],
   "source": [
    "for (w1, w2), cnt in lm.most_common(10):\n",
    "    print(\"%s %s %d\" %(w1, w2, cnt))"
   ]
  },
  {
   "cell_type": "code",
   "execution_count": null,
   "metadata": {
    "collapsed": true
   },
   "outputs": [],
   "source": []
  }
 ],
 "metadata": {
  "kernelspec": {
   "display_name": "Python 2",
   "language": "python",
   "name": "python2"
  },
  "language_info": {
   "codemirror_mode": {
    "name": "ipython",
    "version": 2
   },
   "file_extension": ".py",
   "mimetype": "text/x-python",
   "name": "python",
   "nbconvert_exporter": "python",
   "pygments_lexer": "ipython2",
   "version": "2.7.6"
  }
 },
 "nbformat": 4,
 "nbformat_minor": 1
}
