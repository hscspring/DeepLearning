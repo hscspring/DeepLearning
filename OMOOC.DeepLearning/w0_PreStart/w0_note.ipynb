{
 "cells": [
  {
   "cell_type": "markdown",
   "metadata": {},
   "source": [
    "## 第 0 课：深度学习简介及环境搭建"
   ]
  },
  {
   "cell_type": "markdown",
   "metadata": {},
   "source": [
    "### 1 深度学习简介\n",
    "\n",
    "\n",
    "#### 1.1 神经网络背景\n",
    "\n",
    "- Top-down approach to AI: 西蒙为代表的符号学派\n",
    "  - \"machines will be capable, within twenty years, of doing any work a man can do.\" -- 1965, H. A. Simon\n",
    "  - 形式化方法，将知识表示为符号\n",
    "  - 运用逻辑进行推理\n",
    "  - 对自然语言、图像问题基本毫无办法\n",
    "\n",
    "- Bottom-up approach to AI: 神经网络\n",
    "  - 典型的神经元结构：突触、树突、轴突\n",
    "  - 输入层、输出层、隐层\n",
    "  - 直观上看深度学习（深度神经网络）可以看作是隐层层数加多\n",
    "\n",
    "\n",
    "#### 1.2 神经网络历史\n",
    "\n",
    "- 40 年代：概念雏形（没有学习算法）\n",
    "- 50 年代：科尔用的学习算法 - 感知机\n",
    "- 1969 年：Minsky 泼冷水 - 神经网络无法处理异或问题\n",
    "- 70 年代：BP 算法，训练多层神经网络\n",
    "- 90 年代：SVM 支持向量机“打败”神经网络\n",
    "- 2006：深度网络理论、实验上有所突破\n",
    "- 2012：ImageNet（图片分类比赛），大幅提升结果（错误率 15.3%，第二名 26.2%）\n",
    "\n",
    "\n",
    "#### 1.3 深度学习在处理自然语言上的优势\n",
    "\n",
    "- End-to-end Learning vs. Step-by-Step Learning\n",
    "  - 微博自动回复：机器翻译（中→英：微博→评论）\n",
    "- 相比一般机器学习算法，通用性、迁移性强\n",
    "- 效果直逼或赶上传统方法\n",
    "\n",
    "\n",
    "#### 1.4 自然语言处理在工业界的应用\n",
    "\n",
    "- Google Smart Reply\n",
    "- Google 机器翻译\n",
    "- 通过 Twitter 情绪预测股市"
   ]
  },
  {
   "cell_type": "markdown",
   "metadata": {},
   "source": [
    "### 2. 深度学习环境搭建\n",
    "\n",
    "\n",
    "工欲善其事必先利其器，在正式开始深度学习之前，需要先搭建好环境。深度学习框架很多，我们采用 Google 的 Tensorflow。  \n",
    "\n",
    "Tensorflow 安装：\n",
    "- Python + Tensorflow binary\n",
    "- Jupyter Notebook\n",
    "\n",
    "我们使用 Docker 一站式环境"
   ]
  },
  {
   "cell_type": "markdown",
   "metadata": {},
   "source": [
    "#### 2.1 Docker  \n",
    "\n",
    "\n",
    "##### 2.1.1 什么是 Docker？\n",
    "\n",
    "Tensorflow 上推荐使用 Docker 安装，其中对 Docker 的定义如下：  \n",
    "Docker is a system to build self contained versions of a Linux operating system running on your machine. When you install and run TensorFlow via Docker it completely isolates the installation from pre-existing packages on your machine.  \n",
    "简单来说，Docker 就是一个虚拟环境，可以直接下载相应的容器使用。接下来，我们将先安装 Docker，然后在 Docker 环境中安装 Tensorflow 环境。\n",
    "\n",
    "\n",
    "##### 2.1.2 Docker 安装\n",
    "\n",
    "- 以 Ubuntu 为例，其他系统可参考官方网站：https://www.docker.com\n",
    "- 步骤如下：\n",
    "  - 检查安装必须条件：\n",
    "    1. 必须为 64 位\n",
    "    2. Linux kernel 必须为 3.10 或以上\n",
    "  - 更新 APT: 可参考[官网](https://docs.docker.com/engine/installation/linux/ubuntulinux/)\n",
    "  - 安装最新版本\n",
    "    1. 更新 APT：`sudo apt-get update`\n",
    "    2. 安装 Docker：`sudo apt-get install docker-engine`\n",
    "    3. 启动服务：`sudo service docker start` \n",
    "  - 设置 Docker 命令不需要输入 `sudo` 命令\n",
    "    1. 创建 `docker` group：`sudo groupadd docker`\n",
    "    2. 将当前用户加入 group：`sudo usermod -aG docker $USER`\n",
    "    3. 重启后可用 `docker ps` 确认是否设置成功\n",
    "- Docker 常用命令\n",
    "  - `docker ps`：查看当前已创建的 docker\n",
    "  - `docker ps` -a：查看所有已创建的 docker\n",
    "  - `docker rm`：彻底删除已创建的 docker\n",
    "- 有任何问题可参考官方网站 https://www.docker.com"
   ]
  },
  {
   "cell_type": "markdown",
   "metadata": {},
   "source": [
    "#### 2.2 Tensorflow\n",
    "\n",
    "- 安装好 Docker 后，可以直接将 tensorflow Image 下载后构建我们自己的容器\n",
    "  - `docker run -it -p 8888:8888 tensorflow/tensorflow` ，其中 `it` 是交互模式，`-p 8888:8888` 是以 tensorflow Image 为模板构建的容器，其内部会在本地的 8888 端口开一个服务，`-p` 将服务映射到主机的 8888 端口，这样就可以通过 http://localhost:8888 来访问容器了\n",
    "  - 将本地目录映射到容器：`docker run -it -p 8888:8888 -v ~/tensorflow:/tensorflow tensorflow/tensorflow`，该命令是将 Home 目录下的 tensorflow 目录映射到容器，这样容器就可以直接访问 tensorflow 中的文件了\n",
    "  \n",
    "  - `docker run -it -p 8888:8888 -p 6006:6006 -v ~/documents/deeplearning:/notebooks tensorflow/tensorflow` 可以把 deeplearning 目录映射到 docker 默认目录\n",
    "- 创建好容器之后，以后可直接用 `docker start -i XXX` 启动，启动后直接在浏览器输入：http://localhost:8888 即可进入 Jupyter Notebook 交互环境  "
   ]
  },
  {
   "cell_type": "code",
   "execution_count": null,
   "metadata": {
    "collapsed": true
   },
   "outputs": [],
   "source": []
  }
 ],
 "metadata": {
  "kernelspec": {
   "display_name": "Python 2",
   "language": "python",
   "name": "python2"
  },
  "language_info": {
   "codemirror_mode": {
    "name": "ipython",
    "version": 2
   },
   "file_extension": ".py",
   "mimetype": "text/x-python",
   "name": "python",
   "nbconvert_exporter": "python",
   "pygments_lexer": "ipython2",
   "version": "2.7.12"
  },
  "latex_envs": {
   "LaTeX_envs_menu_present": true,
   "bibliofile": "biblio.bib",
   "cite_by": "apalike",
   "current_citInitial": 1,
   "eqLabelWithNumbers": true,
   "eqNumInitial": 1,
   "hotkeys": {
    "equation": "Ctrl-E",
    "itemize": "Ctrl-I"
   },
   "labels_anchors": false,
   "latex_user_defs": false,
   "report_style_numbering": false,
   "user_envs_cfg": false
  },
  "toc": {
   "colors": {
    "hover_highlight": "#DAA520",
    "running_highlight": "#FF0000",
    "selected_highlight": "#FFD700"
   },
   "moveMenuLeft": true,
   "nav_menu": {
    "height": "11.818182px",
    "width": "1.818182px"
   },
   "navigate_menu": true,
   "number_sections": true,
   "sideBar": true,
   "threshold": 4,
   "toc_cell": false,
   "toc_section_display": "block",
   "toc_window_display": false
  }
 },
 "nbformat": 4,
 "nbformat_minor": 1
}
