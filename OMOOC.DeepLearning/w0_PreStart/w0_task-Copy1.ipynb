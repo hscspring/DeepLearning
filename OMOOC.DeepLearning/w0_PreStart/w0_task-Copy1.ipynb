{
 "cells": [
  {
   "cell_type": "markdown",
   "metadata": {
    "collapsed": true
   },
   "source": [
    "## 小任务\n",
    "\n",
    "在 Docker 环境中对给定的语料进行分词，并统计最高频的 10 个词以及对应词频。"
   ]
  },
  {
   "cell_type": "code",
   "execution_count": 1,
   "metadata": {
    "collapsed": false
   },
   "outputs": [
    {
     "data": {
      "text/plain": [
       "u'/notebooks/w0'"
      ]
     },
     "execution_count": 1,
     "metadata": {},
     "output_type": "execute_result"
    }
   ],
   "source": [
    "pwd"
   ]
  },
  {
   "cell_type": "code",
   "execution_count": 2,
   "metadata": {
    "collapsed": false
   },
   "outputs": [
    {
     "name": "stdout",
     "output_type": "stream",
     "text": [
      "/tensorflow/w0\n"
     ]
    }
   ],
   "source": [
    "cd /tensorflow/w0"
   ]
  },
  {
   "cell_type": "code",
   "execution_count": 3,
   "metadata": {
    "collapsed": false
   },
   "outputs": [
    {
     "data": {
      "text/plain": [
       "u'/tensorflow/w0'"
      ]
     },
     "execution_count": 3,
     "metadata": {},
     "output_type": "execute_result"
    }
   ],
   "source": [
    "pwd"
   ]
  },
  {
   "cell_type": "markdown",
   "metadata": {},
   "source": [
    "### 西游记"
   ]
  },
  {
   "cell_type": "code",
   "execution_count": 31,
   "metadata": {
    "collapsed": false
   },
   "outputs": [],
   "source": [
    "import jieba\n",
    "f = open('西游记.txt', 'r')\n",
    "s = f.read().decode('utf-8')\n",
    "\n",
    "\n",
    "hist = {}\n",
    "PUNCTUATIONS = [u'。', u'，', u'“', u'”', u'…', u'？', u'！', u'、', u'；', u'（', u'）', u'：', u' ', u'《', u'》']\n",
    "\n",
    "\n",
    "for word in jieba.cut(s):\n",
    "    if word in PUNCTUATIONS:\n",
    "        continue\n",
    "    hist[word] = hist.get(word, 0) +1\n",
    "\n",
    "hist_sorted = sorted(hist.iteritems(), key=lambda d:d[1], reverse=True)[1:]"
   ]
  },
  {
   "cell_type": "code",
   "execution_count": 38,
   "metadata": {
    "collapsed": false
   },
   "outputs": [
    {
     "data": {
      "text/plain": [
       "[(u'\\u9053', 7678),\n",
       " (u'\\u4e86', 6708),\n",
       " (u'\\u6211', 5271),\n",
       " (u'\\u7684', 4819),\n",
       " (u'\\u4ed6', 4812),\n",
       " (u'\\u4f60', 4766),\n",
       " (u'\\u884c\\u8005', 3949),\n",
       " (u'\\u90a3', 3877),\n",
       " (u'\\u662f', 3759),\n",
       " (u'\\u4e5f', 2576)]"
      ]
     },
     "execution_count": 38,
     "metadata": {},
     "output_type": "execute_result"
    }
   ],
   "source": [
    "hist_sorted[0:10]"
   ]
  },
  {
   "cell_type": "code",
   "execution_count": 33,
   "metadata": {
    "collapsed": true
   },
   "outputs": [],
   "source": [
    "xiyouji_list = [hist_sorted[i][1] for i in range(len(hist_sorted))] # 取出所有分好的词对应的词频列表"
   ]
  },
  {
   "cell_type": "code",
   "execution_count": 35,
   "metadata": {
    "collapsed": false
   },
   "outputs": [
    {
     "data": {
      "text/plain": [
       "7678"
      ]
     },
     "execution_count": 35,
     "metadata": {},
     "output_type": "execute_result"
    }
   ],
   "source": [
    "xiyouji_list[0]"
   ]
  },
  {
   "cell_type": "code",
   "execution_count": 13,
   "metadata": {
    "collapsed": true
   },
   "outputs": [],
   "source": [
    "my_list = [range(len(xiyouji_list)+1)[1:], xiyouji_list] # 构造等级、频率列表"
   ]
  },
  {
   "cell_type": "code",
   "execution_count": 21,
   "metadata": {
    "collapsed": false
   },
   "outputs": [],
   "source": [
    "import numpy as np\n",
    "from pandas import Series, DataFrame\n",
    "\n",
    "# 构造数据框\n",
    "\n",
    "df = DataFrame(my_list).T\n",
    "df.columns=['Grade', 'Frequency'] "
   ]
  },
  {
   "cell_type": "code",
   "execution_count": 23,
   "metadata": {
    "collapsed": false
   },
   "outputs": [
    {
     "data": {
      "text/html": [
       "<div>\n",
       "<table border=\"1\" class=\"dataframe\">\n",
       "  <thead>\n",
       "    <tr style=\"text-align: right;\">\n",
       "      <th></th>\n",
       "      <th>Grade</th>\n",
       "      <th>Frequency</th>\n",
       "    </tr>\n",
       "  </thead>\n",
       "  <tbody>\n",
       "    <tr>\n",
       "      <th>0</th>\n",
       "      <td>1</td>\n",
       "      <td>7678</td>\n",
       "    </tr>\n",
       "    <tr>\n",
       "      <th>1</th>\n",
       "      <td>2</td>\n",
       "      <td>6708</td>\n",
       "    </tr>\n",
       "    <tr>\n",
       "      <th>2</th>\n",
       "      <td>3</td>\n",
       "      <td>5271</td>\n",
       "    </tr>\n",
       "    <tr>\n",
       "      <th>3</th>\n",
       "      <td>4</td>\n",
       "      <td>4819</td>\n",
       "    </tr>\n",
       "    <tr>\n",
       "      <th>4</th>\n",
       "      <td>5</td>\n",
       "      <td>4812</td>\n",
       "    </tr>\n",
       "    <tr>\n",
       "      <th>5</th>\n",
       "      <td>6</td>\n",
       "      <td>4766</td>\n",
       "    </tr>\n",
       "    <tr>\n",
       "      <th>6</th>\n",
       "      <td>7</td>\n",
       "      <td>3949</td>\n",
       "    </tr>\n",
       "    <tr>\n",
       "      <th>7</th>\n",
       "      <td>8</td>\n",
       "      <td>3877</td>\n",
       "    </tr>\n",
       "    <tr>\n",
       "      <th>8</th>\n",
       "      <td>9</td>\n",
       "      <td>3759</td>\n",
       "    </tr>\n",
       "    <tr>\n",
       "      <th>9</th>\n",
       "      <td>10</td>\n",
       "      <td>2576</td>\n",
       "    </tr>\n",
       "  </tbody>\n",
       "</table>\n",
       "</div>"
      ],
      "text/plain": [
       "   Grade  Frequency\n",
       "0      1       7678\n",
       "1      2       6708\n",
       "2      3       5271\n",
       "3      4       4819\n",
       "4      5       4812\n",
       "5      6       4766\n",
       "6      7       3949\n",
       "7      8       3877\n",
       "8      9       3759\n",
       "9     10       2576"
      ]
     },
     "execution_count": 23,
     "metadata": {},
     "output_type": "execute_result"
    }
   ],
   "source": [
    "df.head(10)"
   ]
  },
  {
   "cell_type": "markdown",
   "metadata": {},
   "source": [
    "### Happiness"
   ]
  },
  {
   "cell_type": "code",
   "execution_count": 3,
   "metadata": {
    "collapsed": false
   },
   "outputs": [
    {
     "name": "stdout",
     "output_type": "stream",
     "text": [
      "happiness.txt  w0_code.ipynb  w0_note.ipynb  w0_task.ipynb  ?????????.txt\r\n"
     ]
    }
   ],
   "source": [
    "ls"
   ]
  },
  {
   "cell_type": "code",
   "execution_count": 14,
   "metadata": {
    "collapsed": false
   },
   "outputs": [],
   "source": [
    "import jieba\n",
    "f = open('/tensorflow/w0/happiness.txt', 'r')\n",
    "s = f.read().decode('utf-8')\n",
    "\n",
    "\n",
    "hist = {}\n",
    "PUNCTUATIONS = [u'。', u'，', u'“', u'”', u'…', u'？', u'！', u'、', u'；', u'（', u'）', u'：', u' ', u'《', u'》',u'\\r\\n']\n",
    "\n",
    "\n",
    "for word in jieba.cut(s):\n",
    "    if word in PUNCTUATIONS:\n",
    "        continue\n",
    "    hist[word] = hist.get(word, 0) +1\n",
    "\n",
    "hist_sorted = sorted(hist.iteritems(), key=lambda d:d[1], reverse=True)"
   ]
  },
  {
   "cell_type": "code",
   "execution_count": 15,
   "metadata": {
    "collapsed": false
   },
   "outputs": [
    {
     "name": "stdout",
     "output_type": "stream",
     "text": [
      "的 22848\n",
      "是 4123\n",
      "在 3538\n",
      "他 2522\n",
      "了 2288\n",
      "人 2089\n",
      "他们 1811\n",
      "和 1746\n",
      "有 1478\n",
      "我 1433\n"
     ]
    }
   ],
   "source": [
    "# 可以将结果打印出来\n",
    "for (word, cnt) in hist_sorted[0:10]:\n",
    "    print('%s %d' % (word,cnt))"
   ]
  },
  {
   "cell_type": "code",
   "execution_count": 5,
   "metadata": {
    "collapsed": true
   },
   "outputs": [],
   "source": [
    "import jieba\n",
    "import jieba.posseg as pseg"
   ]
  },
  {
   "cell_type": "code",
   "execution_count": 3,
   "metadata": {
    "collapsed": true
   },
   "outputs": [],
   "source": [
    "from collections import Counter"
   ]
  },
  {
   "cell_type": "code",
   "execution_count": 16,
   "metadata": {
    "collapsed": false
   },
   "outputs": [],
   "source": [
    "lm = Counter()\n",
    "\n",
    "for line in open('/tensorflow/w0/happiness.txt'):\n",
    "    words = pseg.cut(line.strip())\n",
    "    for word,flag in words:\n",
    "        # 如果是标点符号，就不要打印\n",
    "        if flag == 'x':\n",
    "            continue\n",
    "        # 转为 utf-8\n",
    "        lm[(word.encode('utf-8'), flag.encode('utf-8'))] += 1  "
   ]
  },
  {
   "cell_type": "code",
   "execution_count": 17,
   "metadata": {
    "collapsed": false
   },
   "outputs": [
    {
     "name": "stdout",
     "output_type": "stream",
     "text": [
      "的 uj 22805\n",
      "是 v 4335\n",
      "在 p 3525\n",
      "他 r 2562\n",
      "了 ul 2273\n",
      "人 n 2245\n",
      "他们 r 1811\n",
      "和 c 1729\n",
      "这 r 1611\n",
      "有 v 1534\n"
     ]
    }
   ],
   "source": [
    "# 不打印标点符号\n",
    "for (word,flag), cnt in lm.most_common(10):\n",
    "    print('%s %s %d' % (word, flag, cnt))"
   ]
  },
  {
   "cell_type": "code",
   "execution_count": 26,
   "metadata": {
    "collapsed": false
   },
   "outputs": [],
   "source": [
    "f = open('/tensorflow/w0/happiness.txt', 'r')\n",
    "s = f.read().decode('utf-8')\n",
    "\n",
    "\n",
    "hist = {}\n",
    "\n",
    "\n",
    "for word,flag in pseg.cut(s):\n",
    "    if flag == 'x':\n",
    "        continue\n",
    "    hist[word] = hist.get(word, 0) +1\n",
    "\n",
    "hist_sorted = sorted(hist.iteritems(), key=lambda d:d[1], reverse=True)"
   ]
  },
  {
   "cell_type": "code",
   "execution_count": 27,
   "metadata": {
    "collapsed": false
   },
   "outputs": [
    {
     "name": "stdout",
     "output_type": "stream",
     "text": [
      "的 22805\n",
      "是 4335\n",
      "在 3525\n",
      "他 2562\n",
      "了 2273\n",
      "人 2245\n",
      "他们 1811\n",
      "和 1729\n",
      "这 1611\n",
      "有 1534\n",
      "不 1485\n",
      "我 1478\n",
      "而 1450\n",
      "就 1434\n",
      "我们 1349\n",
      "这种 1321\n",
      "对 1303\n",
      "一个 1273\n",
      "也 1252\n",
      "中 1199\n"
     ]
    }
   ],
   "source": [
    "# 可以将结果打印出来\n",
    "for (word, cnt) in hist_sorted[0:20]:\n",
    "    print('%s %d' % (word,cnt))"
   ]
  },
  {
   "cell_type": "code",
   "execution_count": 22,
   "metadata": {
    "collapsed": true
   },
   "outputs": [],
   "source": [
    "import jieba\n",
    "f = open('/tensorflow/w0/happiness.txt', 'r')\n",
    "s = f.read().decode('utf-8')\n",
    "\n",
    "lm = Counter()\n",
    "\n",
    "PUNCTUATIONS = [u'。', u'，', u'“', u'”', u'…', u'？', u'！', u'、', u'；', u'（', u'）', u'：', u' ', u'《', u'》',u'\\r\\n']\n",
    "\n",
    "\n",
    "for word in jieba.cut(s, cut_all=False):\n",
    "    if word in PUNCTUATIONS:\n",
    "        continue\n",
    "    lm[(word.encode('utf-8'), flag.encode('utf-8'))] += 1 "
   ]
  },
  {
   "cell_type": "code",
   "execution_count": 23,
   "metadata": {
    "collapsed": false
   },
   "outputs": [
    {
     "name": "stdout",
     "output_type": "stream",
     "text": [
      "的 22848\n",
      "是 4123\n",
      "在 3538\n",
      "他 2522\n",
      "了 2288\n",
      "人 2089\n",
      "他们 1811\n",
      "和 1746\n",
      "有 1478\n",
      "我 1433\n"
     ]
    }
   ],
   "source": [
    "# 可以将结果打印出来\n",
    "for (word, cnt) in hist_sorted[0:10]:\n",
    "    print('%s %d' % (word,cnt))"
   ]
  },
  {
   "cell_type": "code",
   "execution_count": 24,
   "metadata": {
    "collapsed": false
   },
   "outputs": [
    {
     "name": "stdout",
     "output_type": "stream",
     "text": [
      "的 22848\n",
      "是 4123\n",
      "在 3538\n",
      "他 2522\n",
      "了 2288\n",
      "人 2089\n",
      "他们 1811\n",
      "和 1746\n",
      "有 1478\n",
      "我 1433\n",
      "而 1422\n",
      "就 1420\n",
      "不 1413\n",
      "我们 1349\n",
      "这种 1321\n",
      "对 1308\n",
      "一个 1273\n",
      "也 1260\n",
      "这 1159\n",
      "中 1119\n"
     ]
    }
   ],
   "source": [
    "# 可以将结果打印出来\n",
    "for (word, cnt) in hist_sorted[0:20]:\n",
    "    print('%s %d' % (word,cnt))"
   ]
  },
  {
   "cell_type": "code",
   "execution_count": null,
   "metadata": {
    "collapsed": true
   },
   "outputs": [],
   "source": []
  }
 ],
 "metadata": {
  "kernelspec": {
   "display_name": "Python 2",
   "language": "python",
   "name": "python2"
  },
  "language_info": {
   "codemirror_mode": {
    "name": "ipython",
    "version": 2
   },
   "file_extension": ".py",
   "mimetype": "text/x-python",
   "name": "python",
   "nbconvert_exporter": "python",
   "pygments_lexer": "ipython2",
   "version": "2.7.6"
  }
 },
 "nbformat": 4,
 "nbformat_minor": 1
}
