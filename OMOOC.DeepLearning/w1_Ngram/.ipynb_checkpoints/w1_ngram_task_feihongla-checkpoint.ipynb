{
 "cells": [
  {
   "cell_type": "markdown",
   "metadata": {},
   "source": [
    "## scottming"
   ]
  },
  {
   "cell_type": "code",
   "execution_count": 2,
   "metadata": {
    "collapsed": false
   },
   "outputs": [],
   "source": [
    "# -*- coding: utf-8 -*-\n",
    "import random\n",
    "import jieba\n",
    "from collections import Counter\n",
    "\n",
    "\n",
    "def jieba_cut(filename):\n",
    "    \"\"\"Return list with jieba.cut.\"\"\"\n",
    "    jieba.enable_parallel(4)\n",
    "    with open(filename, 'r') as f:\n",
    "        data = f.read()\n",
    "        lst = [i for i in jieba.cut(data)]\n",
    "    return lst"
   ]
  },
  {
   "cell_type": "code",
   "execution_count": 26,
   "metadata": {
    "collapsed": false
   },
   "outputs": [],
   "source": [
    "lst = jieba_cut('../AssisantEvaluate/西游记.txt')"
   ]
  },
  {
   "cell_type": "code",
   "execution_count": 27,
   "metadata": {
    "collapsed": true
   },
   "outputs": [],
   "source": [
    "def find_ngrams(lst, n):\n",
    "    return list(zip(*[lst[i:] for i in range(n)]))"
   ]
  },
  {
   "cell_type": "code",
   "execution_count": 28,
   "metadata": {
    "collapsed": true
   },
   "outputs": [],
   "source": [
    "ngram = find_ngrams(lst, 3)"
   ]
  },
  {
   "cell_type": "code",
   "execution_count": 34,
   "metadata": {
    "collapsed": true
   },
   "outputs": [],
   "source": [
    "def normalization(lst):\n",
    "    cnt = Counter(lst)\n",
    "    s = sum(cnt.values())\n",
    "    for key, value in cnt.items():\n",
    "        cnt[key] /= float(s)\n",
    "    return cnt"
   ]
  },
  {
   "cell_type": "code",
   "execution_count": 37,
   "metadata": {
    "collapsed": true
   },
   "outputs": [],
   "source": [
    "def generate_word(cnt):\n",
    "    r = random.random()\n",
    "    s_ = 0.0\n",
    "    for word, prob in cnt.items():\n",
    "        s_ += prob\n",
    "        if s_ >= r:\n",
    "            return word"
   ]
  },
  {
   "cell_type": "code",
   "execution_count": 39,
   "metadata": {
    "collapsed": false
   },
   "outputs": [
    {
     "data": {
      "text/plain": [
       "(u'\\u7834\\u4eba', u'\\u4eb2\\u4e8b', u'\\uff0c')"
      ]
     },
     "execution_count": 39,
     "metadata": {},
     "output_type": "execute_result"
    }
   ],
   "source": [
    "generate_word(cnt)"
   ]
  },
  {
   "cell_type": "code",
   "execution_count": 40,
   "metadata": {
    "collapsed": true
   },
   "outputs": [],
   "source": [
    "def generate_text(cnt):\n",
    "    s = ''\n",
    "    for i in range(100):\n",
    "        word = ''.join(generate_word(cnt))\n",
    "        s += word\n",
    "    print(s)"
   ]
  },
  {
   "cell_type": "code",
   "execution_count": 41,
   "metadata": {
    "collapsed": false
   },
   "outputs": [
    {
     "name": "stdout",
     "output_type": "stream",
     "text": [
      "得山背后得过。\r\n",
      "我逍遥自在\r\n",
      "去。等怎生奈何。\r\n",
      "次日听得钟鼓—\r\n",
      "飞腾他是个奇男子，。\r\n",
      "霎时间斋僧，不知的状子。听说，心中道：“且自安寝去来，对着——大王吃我看不见他洞老猪也去了！”\r\n",
      "日，两不见面。径下\r\n",
      "师父大发弘愿钻下水去三藏道：一个个跑下裹了。那君王\r\n",
      "？吾\r\n",
      "？”唐。\r\n",
      "也好他家里还有，转回本呜哩呜喇，\r\n",
      "次阎王接下大圣同携素手，道：“—\r\n",
      "高不高鼻儿拱，那八戒见：“哥说，喝者嚣？唐也。杨柳九秋莲，请\r\n",
      "\r\n",
      "出门，纵着这一个也炼药，弄\r\n",
      "可与人家财物，赤淋淋，昏\r\n",
      "惨八戒牵了了。若得”三藏道如今且上西天亲家。我领这妖又：“想，得了去，无影无踪嘴瘟了清晨，那。他是打，只，恨冲，更不待宣召也惊天动地。”又使廉访典者都：\r\n",
      "“听下回分解。在手中，\r\n",
      "满山满谷都：“八戒行者三人，见了心惊准备，磨棍熟铁打造的毕竟不\r\n",
      "叶落仙根露，说已\r\n",
      "一般蟒蛇，吾乃齐天大圣年纪，再人役，见\r\n",
      "娇脸红霞地下，执着，幌了，\r\n",
      "却！老孙来也”三藏道，走、唐僧。”，\r\n",
      "离\n"
     ]
    }
   ],
   "source": [
    "generate_text(cnt)"
   ]
  },
  {
   "cell_type": "code",
   "execution_count": null,
   "metadata": {
    "collapsed": true
   },
   "outputs": [],
   "source": [
    "# -*- coding: utf-8 -*-\n",
    "import random\n",
    "import jieba\n",
    "from collections import Counter\n",
    "\n",
    "\n",
    "def jieba_cut(filename):\n",
    "    \"\"\"Return list with jieba.cut.\"\"\"\n",
    "    jieba.enable_parallel(4)\n",
    "    with open(filename, 'r') as f:\n",
    "        data = f.read()\n",
    "        lst = [i for i in jieba.cut(data)]\n",
    "    return lst\n",
    "\n",
    "\n",
    "def find_ngrams(lst, n):\n",
    "    return list(zip(*[lst[i:] for i in range(n)]))\n",
    "\n",
    "\n",
    "def normalization(lst):\n",
    "    cnt = Counter(lst)\n",
    "    s = sum(cnt.values())\n",
    "    for key, value in cnt.items():\n",
    "        cnt[key] /= s\n",
    "    return cnt\n",
    "\n",
    "\n",
    "def generate_word(cnt):\n",
    "    r = random.random()\n",
    "    s_ = 0.0\n",
    "    for word, prob in cnt.items():\n",
    "        s_ += prob\n",
    "        if s_ >= r:\n",
    "            return word\n",
    "\n",
    "\n",
    "def generate_text(cnt):\n",
    "    s = ''\n",
    "    for i in range(100):\n",
    "        word = ''.join(generate_word(cnt))\n",
    "        s += word\n",
    "    print(s)"
   ]
  }
 ],
 "metadata": {
  "kernelspec": {
   "display_name": "Python 2",
   "language": "python",
   "name": "python2"
  },
  "language_info": {
   "codemirror_mode": {
    "name": "ipython",
    "version": 2
   },
   "file_extension": ".py",
   "mimetype": "text/x-python",
   "name": "python",
   "nbconvert_exporter": "python",
   "pygments_lexer": "ipython2",
   "version": "2.7.6"
  }
 },
 "nbformat": 4,
 "nbformat_minor": 1
}
