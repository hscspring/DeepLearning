{
 "cells": [
  {
   "cell_type": "code",
   "execution_count": 1,
   "metadata": {
    "collapsed": true
   },
   "outputs": [],
   "source": [
    "import jieba\n",
    "from collections import Counter\n",
    "from collections import Counter, defaultdict\n",
    "import jieba.posseg as pseg"
   ]
  },
  {
   "cell_type": "code",
   "execution_count": 2,
   "metadata": {
    "collapsed": true
   },
   "outputs": [],
   "source": [
    "#coding:utf-8\n",
    "# N = 2\n",
    "START = '$$' # 句首的 token\n",
    "BREAK = '。！？……'.decode('utf-8')  # 作为句子结束的符号\n",
    "IGNORE = '\\n “”\"《》〈〉()*'.decode('utf8')  # 忽略不计的符号"
   ]
  },
  {
   "cell_type": "markdown",
   "metadata": {},
   "source": [
    "## 读取语料"
   ]
  },
  {
   "cell_type": "code",
   "execution_count": 3,
   "metadata": {
    "collapsed": false
   },
   "outputs": [],
   "source": [
    "def readfile(filedir, limit=1e6):\n",
    "    import jieba\n",
    "    import jieba.posseg as pseg\n",
    "    line_no = 0\n",
    "    allwords = []\n",
    "    with open(filedir, 'r') as f:\n",
    "        for line in f.readlines():\n",
    "            line_no += 1\n",
    "            if line_no > limit:\n",
    "                break\n",
    "            words = pseg.cut(line.strip().decode('utf-8')) # 去掉末尾的 '\\n'\n",
    "            words = [i.word for i in words]\n",
    "            for word in words:\n",
    "                allwords.append(word)\n",
    "    return allwords"
   ]
  },
  {
   "cell_type": "code",
   "execution_count": null,
   "metadata": {
    "collapsed": true
   },
   "outputs": [],
   "source": [
    "    jieba.enable_parallel(4)\n",
    "    with open(filename, 'r') as f:\n",
    "        data = f.read()\n",
    "        lst = [i for i in jieba.cut(data)]\n",
    "    return lst"
   ]
  },
  {
   "cell_type": "markdown",
   "metadata": {},
   "source": [
    "## 添加头部"
   ]
  },
  {
   "cell_type": "code",
   "execution_count": 4,
   "metadata": {
    "collapsed": true
   },
   "outputs": [],
   "source": [
    "def process_segs(segments):\n",
    "    \"\"\"对 segments (iterator) 进行处理，返回一个 list. 处理规则： \n",
    "    - 忽略 \\n、空格、引号、书名号等\n",
    "    - 在每句前面添加 START token\n",
    "    \"\"\"\n",
    "    results = [START for i in range(N-1)]\n",
    "    for seg in segments:\n",
    "        if seg in IGNORE:\n",
    "            continue\n",
    "        #else:\n",
    "        results.append(seg)\n",
    "#            if seg in BREAK:\n",
    "#                results.extend([START for i in range(N-1)])\n",
    "    return results"
   ]
  },
  {
   "cell_type": "markdown",
   "metadata": {},
   "source": [
    "## N-gram"
   ]
  },
  {
   "cell_type": "code",
   "execution_count": 5,
   "metadata": {
    "collapsed": true
   },
   "outputs": [],
   "source": [
    "def count_ngram(segs):\n",
    "    \"\"\"统计 N-gram 出现次数\"\"\"\n",
    "    from collections import Counter, defaultdict\n",
    "    dct = defaultdict(Counter)\n",
    "    for i in range(N-1, len(segs)):\n",
    "        context = tuple(segs[i-N+1:i])\n",
    "        word = segs[i]\n",
    "        dct[context][word] += 1\n",
    "    return dct"
   ]
  },
  {
   "cell_type": "markdown",
   "metadata": {},
   "source": [
    "## 归一化"
   ]
  },
  {
   "cell_type": "code",
   "execution_count": 33,
   "metadata": {
    "collapsed": true
   },
   "outputs": [],
   "source": [
    "def to_prob(dct):\n",
    "    \"\"\"将次数字典转换为概率字典\"\"\"\n",
    "    prob_dct = dct.copy()\n",
    "    for context, count in prob_dct.items():\n",
    "        total = float(sum(count.values()))\n",
    "        for word in count:\n",
    "            count[word] /= total  \n",
    "    return prob_dct"
   ]
  },
  {
   "cell_type": "code",
   "execution_count": 14,
   "metadata": {
    "collapsed": true
   },
   "outputs": [],
   "source": [
    "# 错误写法\n",
    "def to_prob(dct):\n",
    "    \"\"\"将次数字典转换为概率字典\"\"\"\n",
    "    prob_dct = dct.copy()\n",
    "    for context, word_cnt in prob_dct.items():\n",
    "        total = float(sum(word_cnt.values()))\n",
    "        for word,cnt in word_cnt.items():\n",
    "            cnt /= total  \n",
    "    return prob_dct"
   ]
  },
  {
   "cell_type": "markdown",
   "metadata": {},
   "source": [
    "## 生成 word"
   ]
  },
  {
   "cell_type": "code",
   "execution_count": 7,
   "metadata": {
    "collapsed": true
   },
   "outputs": [],
   "source": [
    "def generate_word(context):\n",
    "    \"\"\"根据 context 及条件概率，随机生成 word\"\"\"\n",
    "    import random\n",
    "    r = random.random()\n",
    "    psum = 0\n",
    "    for word, prob in prob_dct[context].items():\n",
    "        psum += prob\n",
    "        if psum > r:\n",
    "            return word"
   ]
  },
  {
   "cell_type": "code",
   "execution_count": null,
   "metadata": {
    "collapsed": true
   },
   "outputs": [],
   "source": [
    "#采样首词\n",
    "r_int = random.randint(0, len(wordlist)-ngram+1)\n",
    "for i in range (r_int, r_int+ngram):\n",
    "    sentence.append(wordlist[i]) "
   ]
  },
  {
   "cell_type": "markdown",
   "metadata": {},
   "source": [
    "## 生成句子和段落"
   ]
  },
  {
   "cell_type": "code",
   "execution_count": 142,
   "metadata": {
    "collapsed": false
   },
   "outputs": [],
   "source": [
    "def generate_sentences(m, context):\n",
    "    \"\"\"生成句子\"\"\"\n",
    "    sentences = []\n",
    "    text = ''\n",
    "    context = tuple(context.decode('utf-8'))\n",
    "    \n",
    "    while True:\n",
    "        word = generate_word(context)\n",
    "        if word == None:\n",
    "            word = \"\"\n",
    "        text = text + word\n",
    "        context = tuple((list(context) + [word])[1:])\n",
    "        if word in BREAK and len(text) > m:\n",
    "            sentences.append(text)\n",
    "            break\n",
    "    return sentences"
   ]
  },
  {
   "cell_type": "code",
   "execution_count": null,
   "metadata": {
    "collapsed": true
   },
   "outputs": [],
   "source": [
    "# 生成句子\n",
    "for i in range(ngram, 200):\n",
    "    context = ()\n",
    "    for j in range (ngram):\n",
    "        context += (sentence[i-(ngram-j)],) #选取已有句子倒数ngram个词语生成context，来generate大概率的词语word\n",
    "    sentence.append(generate(context)) #将generate采样出来的word添加到已有句子列表上，继续循环直至要求的词语数为止\n",
    "    \n",
    "print(\"\".join(sentence))"
   ]
  },
  {
   "cell_type": "markdown",
   "metadata": {},
   "source": [
    "## 实例"
   ]
  },
  {
   "cell_type": "markdown",
   "metadata": {},
   "source": [
    "### Bi-gram"
   ]
  },
  {
   "cell_type": "code",
   "execution_count": 165,
   "metadata": {
    "collapsed": true
   },
   "outputs": [],
   "source": [
    "N = 2 # context 是 两个词\n",
    "file = readfile('../AssisantEvaluate/西游记.txt')#,limit=5000)\n",
    "process = process_segs(file)\n",
    "ngram = count_ngram(process)\n",
    "prob_dct = to_prob(ngram)"
   ]
  },
  {
   "cell_type": "code",
   "execution_count": 170,
   "metadata": {
    "collapsed": false
   },
   "outputs": [
    {
     "name": "stdout",
     "output_type": "stream",
     "text": [
      "什么去处，借上便是什么会走得这个女子早过你。正自难逃。我带你去。菩萨葫芦蒊麻，玉帝道：抬将身一抖，菩萨又遇笼儿，因为闹天曹去？行者道：上告如来，善哉！你在尘埃，急回头跳起身来道：还是你取心。盖自开辟以来，香，我成功去道：这个呆子低着头口合如钳。八戒，那太师说得有理，却是难得倒断，或者大圣骂道：贤弟，执着棒，诵动咒语，更时分，刀兵共吃得伏侍你这里行者道：怪王为天地不容，就慢说不知道。师父去，什么情节，请坐，牵马，殿上，只得出？却教你姓甚深，亦顶针二句：既不是妖邪，他就长！等，被冷水了！行者笑道：神僧也抬来，连忙跪下道：唐长老立身无地，其余的真身，那八戒道：有缸，管教宝树永长春赛禹汤着播郎鼓钹之怪打！\n"
     ]
    }
   ],
   "source": [
    "s = ''\n",
    "for w in (generate_sentences(300, \"个\")):\n",
    "    s += w\n",
    "    print(s)"
   ]
  },
  {
   "cell_type": "markdown",
   "metadata": {},
   "source": [
    "### Tri-gram"
   ]
  },
  {
   "cell_type": "code",
   "execution_count": 143,
   "metadata": {
    "collapsed": false
   },
   "outputs": [],
   "source": [
    "N = 3 # context 是 两个词\n",
    "file = readfile('../AssisantEvaluate/西游记.txt')#,limit=5000)\n",
    "process = process_segs(file)\n",
    "ngram = count_ngram(process)\n",
    "prob_dct = to_prob(ngram)"
   ]
  },
  {
   "cell_type": "code",
   "execution_count": 153,
   "metadata": {
    "collapsed": false,
    "scrolled": true
   },
   "outputs": [
    {
     "data": {
      "text/plain": [
       "u'\\u53d6\\u7ecf'"
      ]
     },
     "execution_count": 153,
     "metadata": {},
     "output_type": "execute_result"
    }
   ],
   "source": [
    "generate_word(tuple(\"大唐\".decode('utf-8')))"
   ]
  },
  {
   "cell_type": "code",
   "execution_count": 162,
   "metadata": {
    "collapsed": false
   },
   "outputs": [
    {
     "name": "stdout",
     "output_type": "stream",
     "text": [
      "，贱号三藏。行者报道：不好啊！哥哥怎生救得令爱来也。大圣急翻身爬起，各归本部。老孙因为闹天宫，嚷道：你是何等手段！两次捉了假公主抛绣球，欲倒验关文？驿丞道：好，好大胆，将那瓶盆总归一处，纵云头，来迟莫怪。行者把上项事都知道，我说我不怪，亦漠然无听。怎见得？八戒道：我把你这畜生有何法力，我坐在上面暗笑道：山已净，得了手看处，只知他是那家孩儿？因有甚事，吊在如意袋中，也不识，故充为庙祝，侍奉香火的道人，他怎敢近？如来道：大圣何来？行者道：累烦了。道人笑道：老师父尊面！道士云：吃了饭儿不亏。你下马稳坐，等我干事去来。多官：把贼都嚷道：长官，长官，不必照验关文，用手摸时，又要走路。高才接了八戒、沙僧。国王听毕，忍不住泪珠偷垂也。\n"
     ]
    }
   ],
   "source": [
    "s = ''\n",
    "for w in (generate_sentences(300, \"大唐\")):\n",
    "    s += w\n",
    "    print(s)"
   ]
  },
  {
   "cell_type": "markdown",
   "metadata": {},
   "source": [
    "### For-gram"
   ]
  },
  {
   "cell_type": "code",
   "execution_count": 171,
   "metadata": {
    "collapsed": true
   },
   "outputs": [],
   "source": [
    "N = 4 # context 是 两个词\n",
    "file = readfile('../AssisantEvaluate/西游记.txt')#,limit=5000)\n",
    "process = process_segs(file)\n",
    "ngram = count_ngram(process)\n",
    "prob_dct = to_prob(ngram)"
   ]
  },
  {
   "cell_type": "code",
   "execution_count": 201,
   "metadata": {
    "collapsed": false
   },
   "outputs": [
    {
     "name": "stdout",
     "output_type": "stream",
     "text": [
      "赌斗。打倒妖精，算你的功果。八戒量着那妖精还不敢伤我师父，却要吃他，也须是分多一半与老孙是。那魔闻得行者口中念诵，道：深感贤徒高见。四众忙忙的牵马挑担，止存得一担行李，一匹白马，鞍辔俱全。不期那涧里有条孽龙，在彼成精，他把马儿惊了，早是我先看头势，不曾放了雷扌屑，假若被他套将去了。这个土有四万七千年，就是钢钻钻他也钻不动些须，比生铁也还硬三四分，人若吃了，晚间要成亲哩。或生下一男半女，也是臊的，故此可以无伤。等那老魔安静了，我不曾驮，他就弄做个坟墓。今日哭一日，明日再做理会，那些和尚都紧紧的守着，让老孙在此等他。他就爬上高楼看时，见有空儿，舞着宝刀，径奔他莲花洞里，师父眼巴巴的望着他两个在涧边前这一场赌斗，比前又甚不同，但见人物轩昂，衣冠齐整，言语清朗，真不亚大唐世界。\n"
     ]
    }
   ],
   "source": [
    "s = ''\n",
    "for w in (generate_sentences(300, \"你与他\")):\n",
    "    s += w\n",
    "    print(s)"
   ]
  },
  {
   "cell_type": "markdown",
   "metadata": {},
   "source": [
    "### Fif-gram"
   ]
  },
  {
   "cell_type": "code",
   "execution_count": 202,
   "metadata": {
    "collapsed": true
   },
   "outputs": [],
   "source": [
    "N = 5 # context 是 两个词\n",
    "file = readfile('../AssisantEvaluate/西游记.txt')#,limit=5000)\n",
    "process = process_segs(file)\n",
    "ngram = count_ngram(process)\n",
    "prob_dct = to_prob(ngram)"
   ]
  },
  {
   "cell_type": "code",
   "execution_count": 216,
   "metadata": {
    "collapsed": false
   },
   "outputs": [
    {
     "name": "stdout",
     "output_type": "stream",
     "text": [
      "请他来搭救师父一难。正是：仙道未成猿马散，心神无主五行枯。毕竟不知此去，到于空中，胜败如何，怎么擒得妖怪，救得唐僧，且听下回分解。第五十回情乱性从因爱欲神昏心动遇魔头词曰：心地频频扫，尘情细细除，莫教坑堑陷毗卢。本体常清净，方可论元初。性烛须挑剔，曹溪任吸呼，勿令猿马气声粗。昼夜绵绵息，方显是功夫。这一首词，牌名南柯子。单道着唐僧脱却通天河寒冰之灾，踏白鼋负登彼岸。四众奔西，正遇严冬之景，但见那——萦回曲径，纷纷尽点苍苔；窈窕绮窗，处处暗笼绣箔。微风初动，轻飘飘展开蜀锦吴绫；细雨才收，娇滴滴露出冰肌玉质。日灼鲜杏，红如仙子晒霓裳；月映芭蕉，青似太真摇羽扇。粉墙四面，万株杨柳啭黄鹂；闲馆周围，满院海棠飞粉蝶。\n"
     ]
    }
   ],
   "source": [
    "s = ''\n",
    "for w in (generate_sentences(300, \"？等我去\")):\n",
    "    s += w\n",
    "    print(s)"
   ]
  }
 ],
 "metadata": {
  "kernelspec": {
   "display_name": "Python 2",
   "language": "python",
   "name": "python2"
  },
  "language_info": {
   "codemirror_mode": {
    "name": "ipython",
    "version": 2
   },
   "file_extension": ".py",
   "mimetype": "text/x-python",
   "name": "python",
   "nbconvert_exporter": "python",
   "pygments_lexer": "ipython2",
   "version": "2.7.6"
  }
 },
 "nbformat": 4,
 "nbformat_minor": 1
}
