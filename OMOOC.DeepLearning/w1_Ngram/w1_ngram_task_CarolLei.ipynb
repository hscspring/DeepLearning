{
 "cells": [
  {
   "cell_type": "markdown",
   "metadata": {},
   "source": [
    "## CarolLei "
   ]
  },
  {
   "cell_type": "code",
   "execution_count": 1,
   "metadata": {
    "collapsed": true
   },
   "outputs": [],
   "source": [
    "import collections\n",
    "import jieba\n",
    "import re\n",
    "import random"
   ]
  },
  {
   "cell_type": "code",
   "execution_count": 2,
   "metadata": {
    "collapsed": true
   },
   "outputs": [],
   "source": [
    "Ignore_str = '\\n”“\"‘’\\'《》〈〉()'.decode('utf-8') \n",
    "def gen_dict(N_gram):\n",
    "    dct = collections.defaultdict(collections.Counter) \n",
    "    for line in open('../AssisantEvaluate/西游记.txt', 'r'):\n",
    "        words = jieba.cut(line.strip().decode('utf-8'))\n",
    "        word_list = [word for word in words if word not in Ignore_str] \n",
    "        for i in range(N_gram,len(word_list)):  \n",
    "            context = ''.join(word_list[i-N_gram:i])  \n",
    "            word = word_list[i]\n",
    "            dct[context][word] += 1\n",
    "    for context,wordcounter in dct.items(): \n",
    "        total = float(sum(wordcounter.values()))  \n",
    "        for word,count in wordcounter.items():\n",
    "            wordcounter[word] = count/total \n",
    "    return dct"
   ]
  },
  {
   "cell_type": "code",
   "execution_count": 6,
   "metadata": {
    "collapsed": true
   },
   "outputs": [],
   "source": [
    "def token_list(dct,N_gram):  \n",
    "    i = random.randint(0,len(dct)-1)  \n",
    "    cnt = 0\n",
    "    for key in dct:   \n",
    "        if cnt == i:\n",
    "            context_str = key  \n",
    "            context_list = list(jieba.cut(context_str))       \n",
    "            break\n",
    "        cnt += 1    \n",
    "    return context_list"
   ]
  },
  {
   "cell_type": "code",
   "execution_count": 7,
   "metadata": {
    "collapsed": true
   },
   "outputs": [],
   "source": [
    "def gen_word(dct , old_context_list):  \n",
    "    num = random.random()\n",
    "    binominal = 1   \n",
    "    old_context = ''.join(old_context_list)\n",
    "    for key1 in dct:\n",
    "        if key1 == old_context: \n",
    "            key1 = old_context \n",
    "            binominal = 0\n",
    "            break    \n",
    "    if binominal:  \n",
    "        old_context_list = token_list(dct, N_gram)\n",
    "        key1 = ''.join(old_context_list)\n",
    "    base = 0 \n",
    "    for key2 in dct[key1]:\n",
    "        base += dct[key1][key2]\n",
    "        if num < base:\n",
    "            word = key2\n",
    "            break\n",
    "    new_context_list = []\n",
    "    for i in range(1, len(old_context_list)):\n",
    "        new_context_list.append(old_context_list[i])\n",
    "    new_context_list.append(word)\n",
    "    return (word, new_context_list)"
   ]
  },
  {
   "cell_type": "code",
   "execution_count": 8,
   "metadata": {
    "collapsed": true
   },
   "outputs": [],
   "source": [
    "def gen_sentence(num,N_gram): \n",
    "    dct = gen_dict(N_gram) \n",
    "    result_list_tuple = []\n",
    "    start_list = token_list(dct, N_gram)  \n",
    "    result_list_tuple.append(gen_word(dct, start_list))\n",
    "    for i in range(num): \n",
    "        result_list_tuple.append(gen_word(dct, result_list_tuple[i][1]))\n",
    "    result_list = []\n",
    "    for key in start_list: \n",
    "        result_list.append(key)\n",
    "    for word_tuple in result_list_tuple:\n",
    "        result_list.append(word_tuple[0])\n",
    "    result = ''.join(result_list).encode('utf-8')\n",
    "    return result"
   ]
  },
  {
   "cell_type": "code",
   "execution_count": 10,
   "metadata": {
    "collapsed": true
   },
   "outputs": [],
   "source": [
    "N_gram=2"
   ]
  },
  {
   "cell_type": "code",
   "execution_count": 11,
   "metadata": {
    "collapsed": false
   },
   "outputs": [
    {
     "name": "stdout",
     "output_type": "stream",
     "text": [
      "投心脏。，打开看时，却是青龙山玄英洞，犀牛成的精。八戒道：快拿宝贝还我。你师父，我与你把我八个字时常不离口论说，说我无缘，看不得唐僧宝贝！这是怎么说？三藏道：老官儿，我是单身在外，只恐他走去。长老道：睡了，有事见驾，照道士脸上一刮，可怜蝼蚁贪生之意，却被那妖精，拿着葫芦，殷勤幸有百花羞。，灵山只在\n"
     ]
    }
   ],
   "source": [
    "print gen_sentence(100,2) "
   ]
  },
  {
   "cell_type": "code",
   "execution_count": 12,
   "metadata": {
    "collapsed": false
   },
   "outputs": [
    {
     "name": "stdout",
     "output_type": "stream",
     "text": [
      "还甜。君臣举盏方安席，名分品级慢传壶。是一个大慈大悲的菩萨！若老孙有此法力，将瓶，只见那城中喜气冲融，祥光荡漾。行冲铁棒被我夺了，空手难争，想是通国的大路，有铺兵去下文书。且不尽道：好呆子啊！昨日咒我是脑门痈，今日却也弄出丑相开背上，便觉重有千斤。行者笑道：师父啊，若要过得此山，须是变好，须是悄语低言。恐那怪神通广大，一时走了消息，你娘儿行者道：这也容易。老僧闻言，就绰了他口气道：虽无酒馔款？何邦帝主？想。观那山涧中洗澡。见那股涧水奔流，好徒，甚喜甚喜，此人果然去得。不然，就一刀两段！慌得那唐僧，战战兢，叫：拿了一个来了。沙僧道：你怎这样粗鲁？且住下，道：你说那里话？我只听得半空中有人言语道：圣僧，你与沙僧看着的，反来问我？我本是西海飞龙，因为犯了要死要活，只消似有仙子来往，那呆子走将来，成此妖怪。行者道：不消说了！他们定是遭那毒手相会，更无家业，止靠着打柴为生。老母今后就跑。原来那妖乖了，再不敢冲撞你了。行者道：如今怎得小儿离城？若果能脱得，真贤徒天大往水帘洞里去耍耍。八戒坚莫大之功，求此宝贝，甚劳苦了。行者道：你这厮不遵旨令，你舅爷原着你在，右一脚，在里面骂道：泼泥鳅，还我师父，勿令伤他，待老孙去打听打听。倘若被他哄了。扑的往口里一丢，慌得那黑汉化风而走。道人也不见了。正宫、东宫、西上扎了一下。那怪化万道火光，径转本山而去。早见国王又请驸马上殿，着多石台。咦！毕竟不知怎么与他说来？三藏道：徒弟，他这里不方便。行者笑道：和尚那里去？手里提着是什么东西？原来手，我同你到。说了誓，将身一纵，跳在空中，使一路你看。即转身，阴风飒飒，帅起阴兵，搬取了些迎霜酒店垂帘。：泼孽畜，又来请他，他那里有甚正路，没高没低，\n"
     ]
    }
   ],
   "source": [
    "print gen_sentence(500,3) "
   ]
  },
  {
   "cell_type": "code",
   "execution_count": null,
   "metadata": {
    "collapsed": true
   },
   "outputs": [],
   "source": []
  }
 ],
 "metadata": {
  "kernelspec": {
   "display_name": "Python 2",
   "language": "python",
   "name": "python2"
  },
  "language_info": {
   "codemirror_mode": {
    "name": "ipython",
    "version": 2
   },
   "file_extension": ".py",
   "mimetype": "text/x-python",
   "name": "python",
   "nbconvert_exporter": "python",
   "pygments_lexer": "ipython2",
   "version": "2.7.6"
  }
 },
 "nbformat": 4,
 "nbformat_minor": 1
}
