{
 "cells": [
  {
   "cell_type": "markdown",
   "metadata": {},
   "source": [
    "## minikui"
   ]
  },
  {
   "cell_type": "code",
   "execution_count": 1,
   "metadata": {
    "collapsed": true
   },
   "outputs": [],
   "source": [
    "import jieba.posseg as pseg\n",
    "from collections import Counter, defaultdict\n",
    "import random\n",
    "from collections import defaultdict"
   ]
  },
  {
   "cell_type": "code",
   "execution_count": 2,
   "metadata": {
    "collapsed": false
   },
   "outputs": [
    {
     "name": "stderr",
     "output_type": "stream",
     "text": [
      "Building prefix dict from the default dictionary ...\n",
      "Loading model from cache /tmp/jieba.cache\n",
      "Loading model cost 0.728 seconds.\n",
      "Prefix dict has been built succesfully.\n"
     ]
    }
   ],
   "source": [
    "l_model = Counter()\n",
    "ngram = 2\n",
    "dct = defaultdict(Counter)\n",
    "count = 0.0\n",
    "for line in open('../AssisantEvaluate/西游记.txt'):\n",
    "    \n",
    "    words = pseg.lcut(line.strip())\n",
    "    words = [i.word for i in words]\n",
    "    count += float(len(words))\n",
    "    for i in range(ngram, len(words)):\n",
    "        context = words[i-ngram:i]        \n",
    "        context = ''.join(context)\n",
    "        word = words[i]\n",
    "        dct[context.encode('utf-8')][word.encode('utf-8')] += 1"
   ]
  },
  {
   "cell_type": "code",
   "execution_count": 3,
   "metadata": {
    "collapsed": true
   },
   "outputs": [],
   "source": [
    "for key in dct:\n",
    "    for word, cnt in dct[key].items():\n",
    "        dct[key][word] /= count"
   ]
  },
  {
   "cell_type": "code",
   "execution_count": 4,
   "metadata": {
    "collapsed": true
   },
   "outputs": [],
   "source": [
    "def generate(gram_model):\n",
    "    r = random.random()\n",
    "    s = 0.0\n",
    "    for key in gram_model:\n",
    "        for word, prob in gram_model[key].items():\n",
    "            s += prob\n",
    "            if s >= r:\n",
    "                return key + word"
   ]
  },
  {
   "cell_type": "code",
   "execution_count": 7,
   "metadata": {
    "collapsed": false
   },
   "outputs": [
    {
     "data": {
      "text/plain": [
       "'\\xe5\\x85\\xab\\xe6\\x88\\x92\\xe9\\x81\\x93\\xef\\xbc\\x9a'"
      ]
     },
     "execution_count": 7,
     "metadata": {},
     "output_type": "execute_result"
    }
   ],
   "source": [
    "generate(dct)"
   ]
  },
  {
   "cell_type": "code",
   "execution_count": 9,
   "metadata": {
    "collapsed": false
   },
   "outputs": [
    {
     "name": "stdout",
     "output_type": "stream",
     "text": [
      "有何难\n"
     ]
    }
   ],
   "source": [
    "print('\\xe6\\x9c\\x89\\xe4\\xbd\\x95\\xe9\\x9a\\xbe')"
   ]
  },
  {
   "cell_type": "code",
   "execution_count": 10,
   "metadata": {
    "collapsed": false
   },
   "outputs": [
    {
     "name": "stdout",
     "output_type": "stream",
     "text": [
      "也\n"
     ]
    }
   ],
   "source": [
    "print('\\xe4\\xb9\\x9f')"
   ]
  },
  {
   "cell_type": "code",
   "execution_count": 11,
   "metadata": {
    "collapsed": false
   },
   "outputs": [
    {
     "name": "stdout",
     "output_type": "stream",
     "text": [
      "妖狐老虎\n"
     ]
    }
   ],
   "source": [
    "print( '\\xe5\\xa6\\x96\\xe7\\x8b\\x90\\xe8\\x80\\x81\\xe8\\x99\\x8e')"
   ]
  },
  {
   "cell_type": "code",
   "execution_count": 13,
   "metadata": {
    "collapsed": false
   },
   "outputs": [
    {
     "name": "stdout",
     "output_type": "stream",
     "text": [
      "王菩萨所公主，非凡东北上径赶”那妖精承赐！”，飞砂走石乱”那佛祖，绰甚声就蛰杀了遍地彩霞笼口中牙，，嘴唇往下别、八河四渎棍无人识吩咐，教，断然是：“那唐僧，统摄真武啸风山、玉掀动。”！”罗刹，一时捆坏”行者急不堪，且“不要走，唬得个？”八戒咒语，迎，只见四个明白，耳内山前风吼吼抢夺了行李。倘怨恨那老妪又宫守炉的道人不期路遇华翰在此忍饿嫦娥怎比有个斑衣鳜婆“似此怎生天明到府。闪幌的教我等。”国王仔细观看，那壁厢他先去行商，为何几年，那安逸太和殿，，上接韵唱了路上有一通，法游西域：“你五棍见面重孙，马面不是井河中者广袖飘迎。，只听笑吟吟进门相见兽也？就空劳碌洞里群真个刮了了十数回合行者。行者“陛下，叫道：无知！我大雷音求庄院。”就在那躲离城池，那魔王宽，眼又起去！”谢了斋供那黑熊精无休歇，你却将怪道：因宿娼、道：“袈裟，你妖笑道：“不听人棘刺，铺设，把他\n"
     ]
    }
   ],
   "source": [
    "s = ''\n",
    "for i in range(100):\n",
    "    word = generate(dct)\n",
    "    if word == None:\n",
    "        continue\n",
    "    s += word\n",
    "\n",
    "print s"
   ]
  },
  {
   "cell_type": "code",
   "execution_count": null,
   "metadata": {
    "collapsed": true
   },
   "outputs": [],
   "source": []
  }
 ],
 "metadata": {
  "kernelspec": {
   "display_name": "Python 2",
   "language": "python",
   "name": "python2"
  },
  "language_info": {
   "codemirror_mode": {
    "name": "ipython",
    "version": 2
   },
   "file_extension": ".py",
   "mimetype": "text/x-python",
   "name": "python",
   "nbconvert_exporter": "python",
   "pygments_lexer": "ipython2",
   "version": "2.7.6"
  }
 },
 "nbformat": 4,
 "nbformat_minor": 1
}
