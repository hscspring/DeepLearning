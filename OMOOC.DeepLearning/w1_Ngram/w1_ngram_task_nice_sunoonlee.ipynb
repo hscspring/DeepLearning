{
 "cells": [
  {
   "cell_type": "code",
   "execution_count": 2,
   "metadata": {
    "collapsed": false
   },
   "outputs": [
    {
     "name": "stderr",
     "output_type": "stream",
     "text": [
      "Building prefix dict from the default dictionary ...\n",
      "Loading model from cache /tmp/jieba.cache\n"
     ]
    },
    {
     "name": "stdout",
     "output_type": "stream",
     "text": [
      "\n",
      "*** reading corpus ***\n",
      "*** cutting corpus ***\n",
      "*** processing segments ***\n"
     ]
    },
    {
     "name": "stderr",
     "output_type": "stream",
     "text": [
      "Loading model cost 0.297 seconds.\n",
      "Prefix dict has been built succesfully.\n"
     ]
    },
    {
     "name": "stdout",
     "output_type": "stream",
     "text": [
      "*** generating 2-gram count dict ***\n",
      "*** generating 2-gram probability dict ***\n",
      "*** generating sentences ***\n"
     ]
    },
    {
     "ename": "TypeError",
     "evalue": "cannot concatenate 'str' and 'NoneType' objects",
     "output_type": "error",
     "traceback": [
      "\u001b[0;31m---------------------------------------------------------------------------\u001b[0m",
      "\u001b[0;31mTypeError\u001b[0m                                 Traceback (most recent call last)",
      "\u001b[0;32m<ipython-input-2-722e0ff4533d>\u001b[0m in \u001b[0;36m<module>\u001b[0;34m()\u001b[0m\n\u001b[1;32m     96\u001b[0m     \u001b[0;32mprint\u001b[0m\u001b[0;34m(\u001b[0m\u001b[0;34m'*** generating sentences ***'\u001b[0m\u001b[0;34m)\u001b[0m\u001b[0;34m\u001b[0m\u001b[0m\n\u001b[1;32m     97\u001b[0m     \u001b[0;32mwith\u001b[0m \u001b[0mopen\u001b[0m\u001b[0;34m(\u001b[0m\u001b[0;34m'generated_{}gram.txt'\u001b[0m\u001b[0;34m.\u001b[0m\u001b[0mformat\u001b[0m\u001b[0;34m(\u001b[0m\u001b[0mN\u001b[0m\u001b[0;34m)\u001b[0m\u001b[0;34m,\u001b[0m \u001b[0;34m'w'\u001b[0m\u001b[0;34m)\u001b[0m \u001b[0;32mas\u001b[0m \u001b[0mf\u001b[0m\u001b[0;34m:\u001b[0m\u001b[0;34m\u001b[0m\u001b[0m\n\u001b[0;32m---> 98\u001b[0;31m         \u001b[0mf\u001b[0m\u001b[0;34m.\u001b[0m\u001b[0mwrite\u001b[0m\u001b[0;34m(\u001b[0m\u001b[0;34m'\\n'\u001b[0m\u001b[0;34m.\u001b[0m\u001b[0mjoin\u001b[0m\u001b[0;34m(\u001b[0m\u001b[0mgenerate_sentences\u001b[0m\u001b[0;34m(\u001b[0m\u001b[0;36m20\u001b[0m\u001b[0;34m)\u001b[0m\u001b[0;34m)\u001b[0m\u001b[0;34m)\u001b[0m\u001b[0;34m\u001b[0m\u001b[0m\n\u001b[0m",
      "\u001b[0;32m<ipython-input-2-722e0ff4533d>\u001b[0m in \u001b[0;36mgenerate_sentences\u001b[0;34m(m)\u001b[0m\n\u001b[1;32m     71\u001b[0m     \u001b[0;32mwhile\u001b[0m \u001b[0;34m(\u001b[0m\u001b[0mi\u001b[0m \u001b[0;34m<\u001b[0m \u001b[0mm\u001b[0m\u001b[0;34m)\u001b[0m\u001b[0;34m:\u001b[0m\u001b[0;34m\u001b[0m\u001b[0m\n\u001b[1;32m     72\u001b[0m         \u001b[0mword\u001b[0m \u001b[0;34m=\u001b[0m \u001b[0mgenerate_word\u001b[0m\u001b[0;34m(\u001b[0m\u001b[0mcontext\u001b[0m\u001b[0;34m)\u001b[0m\u001b[0;34m\u001b[0m\u001b[0m\n\u001b[0;32m---> 73\u001b[0;31m         \u001b[0mtext\u001b[0m \u001b[0;34m=\u001b[0m \u001b[0mtext\u001b[0m \u001b[0;34m+\u001b[0m \u001b[0mword\u001b[0m\u001b[0;34m\u001b[0m\u001b[0m\n\u001b[0m\u001b[1;32m     74\u001b[0m         \u001b[0mcontext\u001b[0m \u001b[0;34m=\u001b[0m \u001b[0mtuple\u001b[0m\u001b[0;34m(\u001b[0m\u001b[0;34m(\u001b[0m\u001b[0mlist\u001b[0m\u001b[0;34m(\u001b[0m\u001b[0mcontext\u001b[0m\u001b[0;34m)\u001b[0m \u001b[0;34m+\u001b[0m \u001b[0;34m[\u001b[0m\u001b[0mword\u001b[0m\u001b[0;34m]\u001b[0m\u001b[0;34m)\u001b[0m\u001b[0;34m[\u001b[0m\u001b[0;36m1\u001b[0m\u001b[0;34m:\u001b[0m\u001b[0;34m]\u001b[0m\u001b[0;34m)\u001b[0m\u001b[0;34m\u001b[0m\u001b[0m\n\u001b[1;32m     75\u001b[0m         \u001b[0;32mif\u001b[0m \u001b[0mword\u001b[0m \u001b[0;32min\u001b[0m \u001b[0mBREAK\u001b[0m\u001b[0;34m:\u001b[0m\u001b[0;34m\u001b[0m\u001b[0m\n",
      "\u001b[0;31mTypeError\u001b[0m: cannot concatenate 'str' and 'NoneType' objects"
     ]
    }
   ],
   "source": [
    "#!usr/bin/env python3\n",
    "# coding: utf-8\n",
    "\"\"\"读取语料 生成 n-gram 模型\"\"\"\n",
    "\n",
    "from collections import Counter, defaultdict\n",
    "#from pprint import pprint\n",
    "from random import random\n",
    "import jieba\n",
    "\n",
    "\n",
    "# N = 2  # N元模型\n",
    "START = '$$' # 句首的 token\n",
    "BREAK = '。！？'.decode('utf-8')  # 作为句子结束的符号\n",
    "IGNORE = '\\n “”\"《》〈〉()*'.decode('utf-8')  # 忽略不计的符号\n",
    "\n",
    "\n",
    "def process_segs(segments):\n",
    "    \"\"\"对 segments (iterator) 进行处理，返回一个 list. 处理规则： \n",
    "    - 忽略 \\n、空格、引号、书名号等\n",
    "    - 在断句符号后添加 START token\n",
    "    \"\"\"\n",
    "    results = [START for i in range(N-1)]\n",
    "    for seg in segments:\n",
    "        if seg in IGNORE:\n",
    "            continue\n",
    "        else:\n",
    "            results.append(seg)\n",
    "            if seg in BREAK:\n",
    "                results.extend([START for i in range(N-1)])\n",
    "    # 小瑕疵：segments 会以 start token 结束，但对语言模型没有影响，暂且忽略\n",
    "    return results\n",
    "\n",
    "\n",
    "def count_ngram(segments):\n",
    "    \"\"\"统计 N-gram 出现次数\"\"\"\n",
    "    dct = defaultdict(Counter)\n",
    "    for i in range(N-1, len(segments)):\n",
    "        context = tuple(segments[i-N+1:i])\n",
    "        word = segments[i]\n",
    "        dct[context][word] += 1\n",
    "    return dct\n",
    "\n",
    "\n",
    "def to_prob(dct):\n",
    "    \"\"\"将次数字典转换为概率字典\"\"\"\n",
    "    prob_dct = dct.copy()\n",
    "    for context, count in prob_dct.items():\n",
    "        total = sum(count.values())\n",
    "        for word in count:\n",
    "            count[word] /= total  # works in Python 3\n",
    "    return prob_dct\n",
    "\n",
    "\n",
    "def generate_word(context):\n",
    "    \"\"\"根据 context 及条件概率，随机生成 word\"\"\"\n",
    "    r = random()\n",
    "    psum = 0\n",
    "    for word, prob in prob_dct[context].items():\n",
    "        psum += prob\n",
    "        if psum > r:\n",
    "            return word\n",
    "    #return START\n",
    "\n",
    "\n",
    "def generate_sentences(m):\n",
    "    \"\"\"生成 m 个句子\"\"\"\n",
    "    sentences = []\n",
    "    text = ''\n",
    "    context = tuple(START for i in range(N-1))\n",
    "    i = 0\n",
    "    while (i < m):\n",
    "        word = generate_word(context)\n",
    "        text = text + word\n",
    "        context = tuple((list(context) + [word])[1:])\n",
    "        if word in BREAK:\n",
    "            sentences.append(text)\n",
    "            text = ''\n",
    "            context = tuple(START for i in range(N-1))\n",
    "            i += 1\n",
    "    return sentences\n",
    "\n",
    "\n",
    "for N in range(2, 6):\n",
    "    print('\\n*** reading corpus ***')\n",
    "    with open('../AssisantEvaluate/西游记.txt') as f:\n",
    "        corpus = f.read()\n",
    "    print('*** cutting corpus ***')\n",
    "    raw_segments = jieba.cut(corpus.decode('utf-8'))\n",
    "    print('*** processing segments ***')\n",
    "    segments = process_segs(raw_segments)\n",
    "    print('*** generating {}-gram count dict ***'.format(N))\n",
    "    dct = count_ngram(segments)\n",
    "    print('*** generating {}-gram probability dict ***'.format(N))\n",
    "    prob_dct = to_prob(dct)\n",
    "    #pprint(prob_dct)\n",
    "    print('*** generating sentences ***')\n",
    "    with open('generated_{}gram.txt'.format(N), 'w') as f:\n",
    "        f.write('\\n'.join(generate_sentences(20)))"
   ]
  },
  {
   "cell_type": "code",
   "execution_count": null,
   "metadata": {
    "collapsed": true
   },
   "outputs": [],
   "source": []
  }
 ],
 "metadata": {
  "kernelspec": {
   "display_name": "Python 2",
   "language": "python",
   "name": "python2"
  },
  "language_info": {
   "codemirror_mode": {
    "name": "ipython",
    "version": 2
   },
   "file_extension": ".py",
   "mimetype": "text/x-python",
   "name": "python",
   "nbconvert_exporter": "python",
   "pygments_lexer": "ipython2",
   "version": "2.7.6"
  }
 },
 "nbformat": 4,
 "nbformat_minor": 1
}
