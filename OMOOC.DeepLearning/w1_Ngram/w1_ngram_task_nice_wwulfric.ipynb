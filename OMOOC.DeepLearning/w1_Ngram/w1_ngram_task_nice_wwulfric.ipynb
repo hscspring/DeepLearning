{
 "cells": [
  {
   "cell_type": "markdown",
   "metadata": {},
   "source": [
    "## Wulfric Wang"
   ]
  },
  {
   "cell_type": "code",
   "execution_count": 16,
   "metadata": {
    "collapsed": true
   },
   "outputs": [],
   "source": [
    "# import 必须的库\n",
    "import jieba.posseg as pseg\n",
    "from collections import Counter\n",
    "from collections import defaultdict\n",
    "import random\n",
    "# 词频统计\n",
    "line_no = 0\n",
    "limit = 100\n",
    "lm = defaultdict(Counter)\n",
    "\n",
    "ngram = 2\n",
    "for line in open('../AssisantEvaluate/西游记.txt'):\n",
    "#     line_no += 1\n",
    "#     if line_no > limit:\n",
    "#         break\n",
    "    words = pseg.cut(line.strip())\n",
    "    words = [i.word for i in words]\n",
    "    for i in range(len(words)):\n",
    "        if i < ngram:\n",
    "            context = tuple(['' for j in range(ngram - i)]) + tuple(words[0:i])\n",
    "        else:\n",
    "            context = tuple(words[(i-ngram):i])\n",
    "        word = words[i]\n",
    "        if context == (u'\\u663e\\u5f97', u'\\u8d2b\\u4e4f', u'\\u3002'):\n",
    "            print word\n",
    "        lm[context][word] += 1"
   ]
  },
  {
   "cell_type": "code",
   "execution_count": 17,
   "metadata": {
    "collapsed": true
   },
   "outputs": [],
   "source": [
    "# 得出归一化词频\n",
    "for context, words_cnts in lm.items():\n",
    "    # 算出每个 context 的归一化词频\n",
    "    sum_ = float(sum(words_cnts.values()))\n",
    "    for word, cnt in words_cnts.items():\n",
    "        lm[context][word] = cnt / sum_"
   ]
  },
  {
   "cell_type": "code",
   "execution_count": 18,
   "metadata": {
    "collapsed": true
   },
   "outputs": [],
   "source": [
    "def generate(lm, context):\n",
    "    if context not in lm:\n",
    "        raise KeyError(context)\n",
    "    r = random.random()\n",
    "    s_ = 0.0\n",
    "    # 注意是根据每个 context 计算\n",
    "    for word, prob in lm[context].items():\n",
    "        s_ += prob\n",
    "        if s_ >= r:\n",
    "            return word"
   ]
  },
  {
   "cell_type": "code",
   "execution_count": 19,
   "metadata": {
    "collapsed": true
   },
   "outputs": [],
   "source": [
    "def pick_init_context(lm):\n",
    "    keys = lm.keys()\n",
    "    key_len = len(keys[0])\n",
    "    returned_keys = []\n",
    "    for key in keys:\n",
    "        if key[:-1] == tuple(['' for i in range(key_len - 1)]):\n",
    "            returned_keys.append(key)\n",
    "    return returned_keys[random.sample(range(len(returned_keys)),1)[0]]"
   ]
  },
  {
   "cell_type": "code",
   "execution_count": 20,
   "metadata": {
    "collapsed": false
   },
   "outputs": [],
   "source": [
    "def sentence_generate(lm, sentence_length, init_context=None):\n",
    "    tmp = {}\n",
    "    if init_context == None:\n",
    "        init_context = pick_init_context(lm)\n",
    "    sentence = list(init_context)\n",
    "    ngram = len(sentence)\n",
    "    for i in range(ngram, sentence_length):\n",
    "        context = ()\n",
    "        for j in range(ngram):\n",
    "            index = i-(ngram-j)\n",
    "            word = sentence[index]\n",
    "            context += (word,)\n",
    "        # 有的时候context 不在 lm 中，一般出现在获取到的context是一句话的最末位这种情况\n",
    "        if context not in lm:\n",
    "            # 这个时候我们需要重新获取起始 context 填入 sentence\n",
    "            context = pick_init_context(lm)\n",
    "            sentence += list(context)\n",
    "        generated = generate(lm, context)\n",
    "        sentence.append(generated)\n",
    "    return u''.join(sentence)"
   ]
  },
  {
   "cell_type": "code",
   "execution_count": 21,
   "metadata": {
    "collapsed": false
   },
   "outputs": [
    {
     "name": "stdout",
     "output_type": "stream",
     "text": [
      "猜想和反驳云自山出专赶唐往西天潇潇洒洒，女王看到太子厉声雄壮，汗流粉面风月儿峰挺立路旁叫一撇，琼楼玉宇清光满吩咐沙僧石响潺潺额头；苍髯颔下板上雷法真天明。顷刻妖油锅洗澡寻师父去杖，逍逍遥朝礼。众妖抢淡淡翠眉今生常遇四时无即于涧寻佛地戒急掣钉阳魂之金散尽日山，类，侍太监，妄想不复师命，其身，牌楼下势压中华家宅内护持，此处地方宝剑，不杂嚣尘终冷淡夫，扳着死恶—蒲。奥妙，呼呼响呼呼的一身如玉郡，亲面撞见传芳。本性自修幌幌霞光锅，邪魔汤验印信反为仇蝉子西方圭。可怜抖擞上通三圣想当初作恶多端滴泪想焰焰斜辉吊屏。压了徒们出燕知社日张狂哮吼施胜心、身边，信论经丰姿英伟妖物不敢蝼蚁命径投拐了始初说云雾笼人公的长途不见嚏，山！笔砚，闲时沿投胎夺舍麋鹿丧虚实，既是到所。齐天大圣在吊桶，定色，望阴君与园中，小龙现禁不得三粒红逃名今寻师父去托，远看秋霜。远观救苦上斋来，眼色的思想。远见一个饮铜汁，只见那宫中之还有一个造尊府死尸。仇，恶斗，江，夜三更变尖了铃。八千里，生顽，窍者，一扇，斗口，且莫动手坡前线服，送到长安咐：臣储钓诗顶留云卫城祗法事。炼千灵缩地精物长英豪自由自在，狮驼国印沟壑水飞贤徒追袭伏啊镶金的二十里，全仗天罡淇澳园中矮，夜去朝来且莫动手定唐三藏心猿识得丹头姹女还归抽身而退。秉教上斗指倒换关文炳炳不大不小的过。星领旨到气昂昂，龙争。顶摩碧汉变了蜜为华州，百味，征人须喜下拜道无知！心中暗想乌鸡国王境也落花啼悟空，语云：安虽西方胜境处世须牙牌，头箍他你好不滋色。心性愚顽降得此每人揌捎的粮，女官拥拜理！不受教\n"
     ]
    }
   ],
   "source": [
    "print sentence_generate(lm, 200, (u'猜想', u'和', u'反驳'))"
   ]
  },
  {
   "cell_type": "code",
   "execution_count": 22,
   "metadata": {
    "collapsed": false
   },
   "outputs": [
    {
     "name": "stdout",
     "output_type": "stream",
     "text": [
      "无故伤人性命，二来是汝等；今日吃不得，却又是师父性暴，错怪了人，却怎么肯散？”三藏又奏道：“敕建宝华山给驾座金阙云增一倍金阙云宫灵霄六日。一倍光辉云横不度宝殿即于涧。那长老父传与；麋鹿丧不度，跟我来也寐中涧下只是将传答传答与我辈尚未完养气含灵丧当终掳，幽鸟手执钢刀！！炼成三昧中劝解卸冠有十二元辰内观不识禅主吞餐传答：径投，黎，完也连本山大王含灵真有说有笑的。梁栋之，把倦滚滚团团钢刀，放光。七八个僮仆刻道：三昧真火烧香礼拜我们啻，冠脱次早，弟兄之辰、配你不识因无相器皿来吞餐怀鬼孕儿原是我门官，到大路老夫人迓，，亦一群妖精，山坡之下山大王共欺楚妹有牢着的，”妖魔跳之材却早他几点归鸦髻上团团平地亲人，劈脸牒。。”坐落何方僮仆往来一一伺候：“雷霆众将，个金的礼拜，自为人生阴壑，，扭扭捏捏头箍他甲断乎是，太宗拖着之情吟半晌巳要象前你，真假，惹出这一、。天兵，黄婆欲知是个交咤一声，又郑家树下了死处人今夜再点了，请罴，可谓三阳交泰产猴子，在未知功行之下。架上挂头目饥时妹。暗暗喜道致令百艺捉牢脚魂归还叫远乡，上前斜倚大路近转往上金箍棒与衬屉几层归鸦过本儿教上钉住丹墀启奏暗杂锦妆，置办打一场好斗。不期顾老孙一场三藏切之理，何方？兽也奔奉合意同心听。秋霜。开门禁止。众将护会合左也的，芒鞋踏破他拥齐攻人以来抢夺我，飘飘洞门。，顶上放他一清风微动稽首了是庄户人家怪搀起君自内而着脚官道：。只因要吃答应，吾师，黎，前一番违误，分明装天。\n"
     ]
    }
   ],
   "source": [
    "print sentence_generate(lm, 300)"
   ]
  },
  {
   "cell_type": "code",
   "execution_count": null,
   "metadata": {
    "collapsed": true
   },
   "outputs": [],
   "source": []
  }
 ],
 "metadata": {
  "kernelspec": {
   "display_name": "Python 2",
   "language": "python",
   "name": "python2"
  },
  "language_info": {
   "codemirror_mode": {
    "name": "ipython",
    "version": 2
   },
   "file_extension": ".py",
   "mimetype": "text/x-python",
   "name": "python",
   "nbconvert_exporter": "python",
   "pygments_lexer": "ipython2",
   "version": "2.7.6"
  }
 },
 "nbformat": 4,
 "nbformat_minor": 1
}
