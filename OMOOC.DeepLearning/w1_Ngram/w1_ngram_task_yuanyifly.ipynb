{
 "cells": [
  {
   "cell_type": "markdown",
   "metadata": {},
   "source": [
    "## yuanyifly"
   ]
  },
  {
   "cell_type": "code",
   "execution_count": 13,
   "metadata": {
    "collapsed": true
   },
   "outputs": [],
   "source": [
    "import jieba.posseg as pseg\n",
    "from collections import Counter,defaultdict\n",
    "import random"
   ]
  },
  {
   "cell_type": "code",
   "execution_count": 14,
   "metadata": {
    "collapsed": true
   },
   "outputs": [],
   "source": [
    "line_no = 0\n",
    "limit = 10000\n",
    "dct = defaultdict(Counter)\n",
    "ngram = 4"
   ]
  },
  {
   "cell_type": "code",
   "execution_count": 15,
   "metadata": {
    "collapsed": false
   },
   "outputs": [],
   "source": [
    "for line in open('../AssisantEvaluate/西游记.txt'):\n",
    "    line_no += 1\n",
    "    if line_no > limit:\n",
    "        break\n",
    "    words = pseg.cut(line.strip())\n",
    "    words = [i.word for i in words]\n",
    "    for i in range(ngram,len(words)):\n",
    "        context = words[(i-ngram):i]\n",
    "        word = words[i]\n",
    "        dct[tuple(context)][word] += 1"
   ]
  },
  {
   "cell_type": "code",
   "execution_count": 16,
   "metadata": {
    "collapsed": true
   },
   "outputs": [],
   "source": [
    "for context,word_cnt in dct.items():\n",
    "    s = float(sum(word_cnt.values()))\n",
    "    for word,cnt in word_cnt.items():\n",
    "        cnt /= s   "
   ]
  },
  {
   "cell_type": "code",
   "execution_count": 18,
   "metadata": {
    "collapsed": true
   },
   "outputs": [],
   "source": [
    "def generate(dct,context):\n",
    "    s_ = 0.0\n",
    "    word_cnt = dct[context]\n",
    "    r = random.random()\n",
    "    for word,cnt in word_cnt.items():\n",
    "        s_ += cnt\n",
    "        if r <= cnt:\n",
    "            return word"
   ]
  },
  {
   "cell_type": "code",
   "execution_count": 19,
   "metadata": {
    "collapsed": true
   },
   "outputs": [],
   "source": [
    "def context_chosen():\n",
    "    context_ls = dct.keys()\n",
    "    i = random.randint(0,len(context_ls))\n",
    "    context_ini = context_ls[i]\n",
    "    return context_ini"
   ]
  },
  {
   "cell_type": "code",
   "execution_count": 20,
   "metadata": {
    "collapsed": true
   },
   "outputs": [],
   "source": [
    "def gene_para():\n",
    "    context_ini = context_chosen()\n",
    "    sen = context_ini\n",
    "    context_ls = dct.keys()\n",
    "    for i in range(500):\n",
    "        while context_ini not in context_ls:\n",
    "            sen += tuple('\\n')\n",
    "            print \"choose another intial context!\\n\"\n",
    "            context_ini = context_chosen()\n",
    "        word = generate(dct,context_ini)\n",
    "        context_ini = list(context_ini)\n",
    "        context_ini.append(word)     \n",
    "        context_ini.pop(0)\n",
    "        context_ini = tuple(context_ini)\n",
    "        sen += tuple([word])\n",
    "    sen = ''.join(sen)\n",
    "    print sen"
   ]
  },
  {
   "cell_type": "code",
   "execution_count": null,
   "metadata": {
    "collapsed": true
   },
   "outputs": [],
   "source": []
  },
  {
   "cell_type": "code",
   "execution_count": null,
   "metadata": {
    "collapsed": true
   },
   "outputs": [],
   "source": [
    "# coding: utf-8\n",
    "\n",
    "# In[139]:\n",
    "\n",
    "import jieba.posseg as pseg\n",
    "from collections import Counter,defaultdict\n",
    "import random\n",
    "\n",
    "\n",
    "# In[140]:\n",
    "\n",
    "line_no = 0\n",
    "limit = 10000\n",
    "dct = defaultdict(Counter)\n",
    "ngram = 4\n",
    "\n",
    "\n",
    "# In[141]:\n",
    "\n",
    "#for each context, compute the sta of each word after that\n",
    "for line in open('happiness.txt'):\n",
    "    line_no += 1\n",
    "    if line_no > limit:\n",
    "        break\n",
    "    words = pseg.cut(line.strip())\n",
    "    words = [i.word for i in words]\n",
    "    for i in range(ngram,len(words)):\n",
    "        context = words[(i-ngram):i]\n",
    "        word = words[i]\n",
    "        dct[tuple(context)][word] += 1\n",
    "\n",
    "\n",
    "# In[142]:\n",
    "\n",
    "#normalization procedure for each context\n",
    "for context,word_cnt in dct.items():\n",
    "    s = float(sum(word_cnt.values()))\n",
    "    for word,cnt in word_cnt.items():\n",
    "        cnt /= s    \n",
    "\n",
    "\n",
    "# In[143]:\n",
    "\n",
    "#generation function\n",
    "def generate(dct,context):\n",
    "    s_ = 0.0\n",
    "    word_cnt = dct[context]\n",
    "    r = random.random()\n",
    "    for word,cnt in word_cnt.items():\n",
    "        s_ += cnt\n",
    "        if r <= cnt:\n",
    "            return word\n",
    "\n",
    "\n",
    "# In[144]:\n",
    "\n",
    "#to define the initial context\n",
    "def context_chosen():\n",
    "    context_ls = dct.keys()\n",
    "    i = random.randint(0,len(context_ls))\n",
    "    context_ini = context_ls[i]\n",
    "    return context_ini\n",
    "\n",
    "\n",
    "# In[145]:\n",
    "\n",
    "def gene_para():\n",
    "    context_ini = context_chosen()\n",
    "    sen = context_ini\n",
    "    context_ls = dct.keys()\n",
    "    for i in range(500):\n",
    "        while context_ini not in context_ls:\n",
    "            sen += tuple('\\n')\n",
    "            print \"choose another intial context!\\n\"\n",
    "            context_ini = context_chosen()\n",
    "        word = generate(dct,context_ini)\n",
    "        context_ini = list(context_ini)\n",
    "        context_ini.append(word)     \n",
    "        context_ini.pop(0)\n",
    "        context_ini = tuple(context_ini)\n",
    "        sen += tuple([word])\n",
    "    sen = ''.join(sen)\n",
    "    print sen\n",
    "\n",
    "\n",
    "# In[146]:\n",
    "\n",
    "gene_para()"
   ]
  }
 ],
 "metadata": {
  "kernelspec": {
   "display_name": "Python 2",
   "language": "python",
   "name": "python2"
  },
  "language_info": {
   "codemirror_mode": {
    "name": "ipython",
    "version": 2
   },
   "file_extension": ".py",
   "mimetype": "text/x-python",
   "name": "python",
   "nbconvert_exporter": "python",
   "pygments_lexer": "ipython2",
   "version": "2.7.6"
  }
 },
 "nbformat": 4,
 "nbformat_minor": 1
}
