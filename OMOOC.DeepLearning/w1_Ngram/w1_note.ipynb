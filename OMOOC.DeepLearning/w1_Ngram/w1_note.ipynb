{
 "cells": [
  {
   "cell_type": "markdown",
   "metadata": {},
   "source": [
    "## 第一课：语言模型：『你』会说什么 "
   ]
  },
  {
   "cell_type": "markdown",
   "metadata": {},
   "source": [
    "### 0. 课程目标"
   ]
  },
  {
   "cell_type": "markdown",
   "metadata": {},
   "source": [
    "- 从文本数据（语料）当中得到一个【语言模型】：句子的概率\n",
    "  - 错别句子检验\n",
    "  - 新短语发现\n",
    "- 用该语言模型【生成】不同的句子\n",
    "  - 像汪峰写歌一样：wangfeng-RNN"
   ]
  },
  {
   "cell_type": "markdown",
   "metadata": {},
   "source": [
    "### 1. 机器理解语言简介\n",
    "\n",
    "- What's the meaning of \"meaning\"?\n",
    "- 机器要怎么才能【理解】自然语言？  \n",
    "\n",
    "#### 1.1 机器理解语言的一种方法：语法\n",
    "\n",
    "\n",
    "代词  副词  动词  代词  \n",
    "I absolutely like you   \n",
    "主语  状语  谓语  宾语  \n",
    "\n",
    "- 知道词性有什么用？\n",
    "  - 句子压缩：最重要的是名词和动词，可以尝试去掉副词；信息检索时可以尽量让名词和动词匹配\n",
    "  - 中文分词：N 和 V 之间-切分\n",
    "- 语法 不能保证 语义：火星追杀绿色的梦\n",
    "\n",
    "#### 1.2 机器理解语言的一种方法：概率统计\n",
    "\n",
    "\n",
    "##### 1.2.1 齐夫定律\n",
    "\n",
    "- 词频 反比 $1/rank$\n",
    "  - the, of, and\n",
    "- [维基百科](https://zh.wikipedia.org/zh-hans/%E9%BD%8A%E5%A4%AB%E5%AE%9A%E5%BE%8B)\n",
    "\n",
    "##### 1.2.2 香农：信息论\n",
    "\n",
    "- These semantic aspects of communication are irrelevant to the engineering problem. -- C.E.Shannon, A Mathematical Theory of Communication\n",
    "\n",
    "- 语义的问题不考虑"
   ]
  },
  {
   "cell_type": "markdown",
   "metadata": {},
   "source": [
    "### 2. 概率论\n",
    "\n",
    "\n",
    "#### 2.1 概率论基本原理\n",
    "\n",
    "- 事件和事件可能重复，基本事件不会重合\n",
    "\n",
    "- P(A)，事件，掷骰子：1-6\n",
    "\n",
    "\n",
    "\n",
    "#### 2.2 概率论基本原理：联合概率\n",
    "\n",
    "- P(A, B) = P(B, A)，掷两个骰子：1-6, 1-6\n",
    "\n",
    "\n",
    "\n",
    "#### 2.3 概率论基本原理：条件概率\n",
    "\n",
    "- P(B|A=1)，第一个骰子为 1 的前提下，第二个骰子的概率\n",
    "\n",
    "- 子空间，切片\n",
    "\n",
    "- $P(B|A) = P(A, B)/P(A)$\n",
    "\n",
    "- $P(A, B) = P(B|A)P(A) = P(A|B)P(B)$"
   ]
  },
  {
   "cell_type": "markdown",
   "metadata": {},
   "source": [
    "### 3. 语言模型\n",
    "\n",
    "\n",
    "\n",
    "#### 3.1 概率语言模型\n",
    "\n",
    "- 计算句子的概率：$P(S) = P(w1, w2, w3, ... ,wn)$，n 个参数\n",
    "\n",
    "- 用处：句子错误检查、输入法候选、“生成”有用的句子等等\n",
    "\n",
    "- 统计：数据太稀疏，需要更多的样本\n",
    "\n",
    "  - 词表大小：V（比如常用词）\n",
    "\n",
    "  - 参数个数：V^n\n",
    "\n",
    "$P(w1, w2) = P(w2|w1) * P(w1)$\n",
    "\n",
    "##### 作业：这种分解没有减少参数个数，为什么？\n",
    "\n",
    "\n",
    "\n",
    "Naive 的人为假设：$P(w2|w1) ≈ P(w2)$，两组参数就变成了一组参数\n",
    "\n",
    "$P(w1, w2) ≈ P(w1) * P(w2)$\n",
    "\n",
    "\n",
    "\n",
    "[counter project](https://docs.python.org/2/library/collections.html)\n",
    "\n",
    "\n",
    "\n",
    "#### 3.2 改进的语言模型：n-gram\n",
    "\n",
    "$$P(w_1, w_2) = P(w_2|w_1) * P(w_1)$$  \n",
    "$$P(w_1, w_2, w_3) = P(w_1, w_2) * P(w_3|w_1, w_2) = P(w_1) * P(w_2|w_1) * P(w_3|w_1,w_2)$$  \n",
    "\n",
    "\n",
    "$$P(w_1,w_2,...,w_n) = \\prod_{i}P(w_i|w_1w_2...w_{i-1}) ≈ \\prod_{i}P(w_i|w{i-k}...w_{i-1})$$\n",
    "\n",
    "\n",
    "\n",
    "##### 作业：实现 Bigram 语言模型\n",
    "\n",
    "- 在自己选取的数据集合上建立 Bigram(2-gram) 模型，并使用该简历好的模型生成句子\n",
    "- 生成的时候，一开始的两个词怎么办？\n",
    "  - 方案1：退化成 unigram(1-gram)\n",
    "  - 方案2：在训练数据上加人造 token（`<start-1>,<start>`）\n",
    "    - 构造语言模型 `<start-1><start>` 构造语言模型\n",
    "    - 句子和句子之间，或段落和段落之间断开"
   ]
  },
  {
   "cell_type": "code",
   "execution_count": null,
   "metadata": {
    "collapsed": true
   },
   "outputs": [],
   "source": []
  }
 ],
 "metadata": {
  "kernelspec": {
   "display_name": "Python 3",
   "language": "python",
   "name": "python3"
  },
  "language_info": {
   "codemirror_mode": {
    "name": "ipython",
    "version": 3
   },
   "file_extension": ".py",
   "mimetype": "text/x-python",
   "name": "python",
   "nbconvert_exporter": "python",
   "pygments_lexer": "ipython3",
   "version": "3.6.2"
  },
  "latex_envs": {
   "LaTeX_envs_menu_present": true,
   "bibliofile": "biblio.bib",
   "cite_by": "apalike",
   "current_citInitial": 1,
   "eqLabelWithNumbers": true,
   "eqNumInitial": 1,
   "hotkeys": {
    "equation": "Ctrl-E",
    "itemize": "Ctrl-I"
   },
   "labels_anchors": false,
   "latex_user_defs": false,
   "report_style_numbering": false,
   "user_envs_cfg": false
  },
  "toc": {
   "colors": {
    "hover_highlight": "#DAA520",
    "running_highlight": "#FF0000",
    "selected_highlight": "#FFD700"
   },
   "moveMenuLeft": true,
   "nav_menu": {
    "height": "11.818182px",
    "width": "1.818182px"
   },
   "navigate_menu": true,
   "number_sections": true,
   "sideBar": true,
   "threshold": 4,
   "toc_cell": false,
   "toc_section_display": "block",
   "toc_window_display": false
  }
 },
 "nbformat": 4,
 "nbformat_minor": 1
}
