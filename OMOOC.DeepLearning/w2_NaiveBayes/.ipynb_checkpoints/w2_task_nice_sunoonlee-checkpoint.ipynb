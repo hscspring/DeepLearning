{
 "cells": [
  {
   "cell_type": "markdown",
   "metadata": {},
   "source": [
    "## 利用贝叶斯公式，说明为什么 P(y|w1, w2) ≠ P(y|w1)P(y|w2) （即使做了独立假设）\n",
    "\n",
    "    假设 w1 与 w2 独立，此时：\n",
    "    左 = P(w1,w2,y) / P(w1,w2) = P(w1|y) x P(w2|y) x P(y) / (P(w1) x P(w2))\n",
    "    右 = P(w1,y) / P(w1) x P(w2,y) / P(w2) = 左 x P(y)"
   ]
  },
  {
   "cell_type": "markdown",
   "metadata": {},
   "source": [
    "## Naive Bayes"
   ]
  },
  {
   "cell_type": "code",
   "execution_count": 24,
   "metadata": {
    "collapsed": false
   },
   "outputs": [],
   "source": [
    "from collections import Counter\n",
    "from math import log\n",
    "import jieba\n",
    "\n",
    "# (neg, pos) 的分类标记取为 (0, 1)，与各列表索引对应\n",
    "train_files = ['./neg_train.txt', './pos_train.txt']\n",
    "test_files = ['./neg_test.txt', './pos_test.txt']\n",
    "\n",
    "def read_lines(file):\n",
    "    with open(file, 'r') as f:\n",
    "        lines = f.readlines()\n",
    "    return [line.strip().decode('utf-8') for line in lines]"
   ]
  },
  {
   "cell_type": "code",
   "execution_count": 26,
   "metadata": {
    "collapsed": false
   },
   "outputs": [
    {
     "data": {
      "text/plain": [
       "[0.5288782233791589, 0.47112177662084115]"
      ]
     },
     "execution_count": 26,
     "metadata": {},
     "output_type": "execute_result"
    }
   ],
   "source": [
    "nums = [len(read_lines(train_files[c])) for c in (0, 1)]\n",
    "prior = [nums[c]/float(sum(nums)) for c in (0, 1)]  # 先验概率 neg, pos\n",
    "prior"
   ]
  },
  {
   "cell_type": "markdown",
   "metadata": {},
   "source": [
    "计算条件概率，用数据平滑"
   ]
  },
  {
   "cell_type": "code",
   "execution_count": 27,
   "metadata": {
    "collapsed": false
   },
   "outputs": [
    {
     "name": "stderr",
     "output_type": "stream",
     "text": [
      "Building prefix dict from the default dictionary ...\n",
      "Loading model from cache /tmp/jieba.cache\n",
      "Loading model cost 0.449 seconds.\n",
      "Prefix dict has been built succesfully.\n"
     ]
    }
   ],
   "source": [
    "def get_count_and_vocab(files=train_files):\n",
    "    \"\"\"读取训练数据，得到不同类别下的计数及词表\"\"\"\n",
    "    count = [Counter(), Counter()]  # 计数：neg, pos\n",
    "    vocab = set()  # 词表\n",
    "    # pos 1; neg 0\n",
    "    # set 会自动记录不重复的词\n",
    "    for c in (0, 1):\n",
    "        for line in read_lines(files[c]):\n",
    "            for word in jieba.cut(line):\n",
    "                count[c][word] += 1\n",
    "                vocab.add(word)\n",
    "    return count, vocab\n",
    "\n",
    "def to_log_prob(count, vocab):\n",
    "    \"\"\"将计数转换为条件概率，采用 Laplace add1 平滑\"\"\"\n",
    "    log_conditional = [Counter(), Counter()]  # neg, pos\n",
    "    vsize = len(vocab)\n",
    "    for c in (0, 1):\n",
    "        total = sum(count[c].values())\n",
    "        for word in vocab:  # 这里必须是 vocab 而不是 count[c].keys()\n",
    "            log_conditional[c][word] = log(count[c][word] + 1) - log(total + vsize)\n",
    "    return log_conditional\n",
    "\n",
    "count, vocab = get_count_and_vocab()\n",
    "log_conditional = to_log_prob(count, vocab)"
   ]
  },
  {
   "cell_type": "markdown",
   "metadata": {},
   "source": [
    "按行读取并判断，测试集中的词如果没有出现在训练集，则忽略"
   ]
  },
  {
   "cell_type": "code",
   "execution_count": 28,
   "metadata": {
    "collapsed": true
   },
   "outputs": [],
   "source": [
    "def cal_joint_prob(docu, c):\n",
    "    \"\"\"计算文本 docu 与分类 c 的联合概率(取对数)\"\"\"\n",
    "    log_joint_prob = log(prior[c])\n",
    "    words = jieba.cut(docu)\n",
    "    for word in words:\n",
    "        if word in vocab:  # 参考 slp ch6.2, 仅考虑（训练集）词表内的词\n",
    "            log_joint_prob += log_conditional[c][word]\n",
    "    return log_joint_prob\n",
    "\n",
    "def classify(docu):\n",
    "    \"\"\"对文本 docu 进行分类\"\"\"\n",
    "    prob = [cal_joint_prob(docu, c) for c in (0, 1)]\n",
    "    return 1 if prob[1] > prob[0] else 0\n",
    "\n",
    "results = [[], []]  # 分类结果 neg, pos\n",
    "for c in (0, 1):\n",
    "    for line in read_lines(test_files[c]):\n",
    "        results[c].append(classify(line))"
   ]
  },
  {
   "cell_type": "code",
   "execution_count": 54,
   "metadata": {
    "collapsed": false
   },
   "outputs": [
    {
     "name": "stdout",
     "output_type": "stream",
     "text": [
      "    n=10538     predicted:neg  predicted:pos \n",
      "  actual:neg        4850            723      \n",
      "  actual:pos        1094           3871      \n",
      "\n",
      "precision = 0.843, recall = 0.780, f_measure = 0.810\n"
     ]
    }
   ],
   "source": [
    "total = len(results[0]) + len(results[1])\n",
    "neg_test_counter, pos_test_counter = Counter(results[0]), Counter(results[1])\n",
    "true_pos = pos_test_counter[1]\n",
    "false_pos = neg_test_counter[1]\n",
    "true_neg = neg_test_counter[0]\n",
    "false_neg = pos_test_counter[0]\n",
    "\n",
    "# 混淆矩阵\n",
    "confusion_matrix = ('\\n'.join(['{:^15}' * 3] * 3)).format(\n",
    "    'n='+str(total), 'predicted:neg', 'predicted:pos',\n",
    "    'actual:neg', true_neg, false_pos,\n",
    "    'actual:pos', false_neg, true_pos)\n",
    "print(confusion_matrix)\n",
    "\n",
    "# 评价指标：precision, recall, f_measure\n",
    "precision = float(true_pos) / (true_pos + false_pos)\n",
    "recall = float(true_pos) / (true_pos + false_neg)\n",
    "f_measure = 2 * precision * recall / float(precision + recall)\n",
    "print(('\\nprecision = {:.3f}, recall = {:.3f}, f_measure = {:.3f}').format(\n",
    "    precision, recall, f_measure))"
   ]
  },
  {
   "cell_type": "markdown",
   "metadata": {},
   "source": [
    "## 梯度下降"
   ]
  },
  {
   "cell_type": "code",
   "execution_count": 4,
   "metadata": {
    "collapsed": false
   },
   "outputs": [
    {
     "data": {
      "image/png": "[encoded data removed]",
      "text/plain": [
       "<matplotlib.figure.Figure at 0x7f28055a6750>"
      ]
     },
     "metadata": {},
     "output_type": "display_data"
    }
   ],
   "source": [
    "%matplotlib inline\n",
    "import numpy as np\n",
    "from matplotlib import pyplot as plt\n",
    "\n",
    "# 生成数据\n",
    "size = 20\n",
    "x = np.arange(size)\n",
    "y = 100.0 + 2.0 * x + np.random.normal(scale=2, size=size)\n",
    "plt.plot(x, y, '.');"
   ]
  },
  {
   "cell_type": "code",
   "execution_count": 5,
   "metadata": {
    "collapsed": false
   },
   "outputs": [
    {
     "data": {
      "image/png": "[encoded data removed]",
      "text/plain": [
       "<matplotlib.figure.Figure at 0x7f2805606c10>"
      ]
     },
     "metadata": {},
     "output_type": "display_data"
    }
   ],
   "source": [
    "def to_matrix(x):\n",
    "    \"\"\"对每条数据补充 x0 = 1，返回 x 矩阵及数据个数\"\"\"\n",
    "    m = x.shape[0]\n",
    "    x_mat = np.array([np.ones(m), x]).T\n",
    "    return x_mat, m\n",
    "\n",
    "def compute_cost(x, y, theta):\n",
    "    xx, m = to_matrix(x)\n",
    "    return 0.5 * m * ((xx.dot(theta) - y)**2).sum()\n",
    "\n",
    "def gradient_descent(x, y, theta, alpha, iternum):\n",
    "    \"\"\"实施梯度下降法\n",
    "    theta: 参数向量\n",
    "    alpha: learning rate\n",
    "    iternum: 迭代次数\n",
    "    \"\"\"\n",
    "    cost_history = []\n",
    "    xx, m = to_matrix(x)\n",
    "    for i in range(iternum):\n",
    "        gradient = xx.T.dot(xx.dot(theta) - y)\n",
    "        theta = theta - alpha / m * gradient\n",
    "        cost_history.append(compute_cost(x, y, theta))\n",
    "    return theta, cost_history\n",
    "\n",
    "\n",
    "# 用 theta 表示参数向量，这里 theta = [b, w], yi = theta.dot(xi)\n",
    "theta = np.array([0., 0.])  # 参数初始化\n",
    "theta, cost_history = gradient_descent(x, y, theta, 0.01, 2000)\n",
    "\n",
    "# cost 随迭代次数变化的曲线\n",
    "plt.plot(cost_history);"
   ]
  },
  {
   "cell_type": "code",
   "execution_count": 8,
   "metadata": {
    "collapsed": false
   },
   "outputs": [
    {
     "data": {
      "image/png": "[encoded data removed]",
      "text/plain": [
       "<matplotlib.figure.Figure at 0x7f27dd2a1750>"
      ]
     },
     "metadata": {},
     "output_type": "display_data"
    }
   ],
   "source": [
    "label = 'y = {:.3f} + {:.3f} * x'.format(*theta)\n",
    "plt.plot(x, y, '.')\n",
    "plt.plot(x, theta[0] + theta[1] * x, label=label)\n",
    "plt.legend();"
   ]
  },
  {
   "cell_type": "code",
   "execution_count": 10,
   "metadata": {
    "collapsed": false
   },
   "outputs": [
    {
     "data": {
      "text/plain": [
       "array([ 100.00719114,    2.03087821])"
      ]
     },
     "execution_count": 10,
     "metadata": {},
     "output_type": "execute_result"
    }
   ],
   "source": [
    "# normal equation 直接求解\n",
    "from numpy.linalg import pinv\n",
    "X = to_matrix(x)[0]\n",
    "theta2 = pinv(X.T.dot(X)).dot(X.T).dot(y)\n",
    "theta2"
   ]
  },
  {
   "cell_type": "code",
   "execution_count": null,
   "metadata": {
    "collapsed": true
   },
   "outputs": [],
   "source": []
  }
 ],
 "metadata": {
  "kernelspec": {
   "display_name": "Python 2",
   "language": "python",
   "name": "python2"
  },
  "language_info": {
   "codemirror_mode": {
    "name": "ipython",
    "version": 2
   },
   "file_extension": ".py",
   "mimetype": "text/x-python",
   "name": "python",
   "nbconvert_exporter": "python",
   "pygments_lexer": "ipython2",
   "version": "2.7.6"
  }
 },
 "nbformat": 4,
 "nbformat_minor": 1
}
