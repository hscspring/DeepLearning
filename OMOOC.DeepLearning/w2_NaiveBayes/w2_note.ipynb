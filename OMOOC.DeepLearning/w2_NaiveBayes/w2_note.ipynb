{
 "cells": [
  {
   "cell_type": "markdown",
   "metadata": {},
   "source": [
    "## 第二课：情感分析与有监督学习"
   ]
  },
  {
   "cell_type": "markdown",
   "metadata": {},
   "source": [
    "### 1. 概述"
   ]
  },
  {
   "cell_type": "markdown",
   "metadata": {},
   "source": [
    "- 情感分析：正面，负面\n",
    "  - 更细粒度的分类：兴奋，悲伤等\n",
    "- 更一般地：机器学习里面的有监督学习\n",
    "  - 样本 → 分类问题：标签（Label）\n",
    "  - 自变量 → 因变量\n",
    "  - 回归问题：标签（因变量）是实数\n",
    "  - 分类问题：标签（因变量）是有限集合\n",
    "    - 标签集合要预先定义好\n",
    "- 更多例子：句子的主题，病句判断"
   ]
  },
  {
   "cell_type": "markdown",
   "metadata": {},
   "source": [
    "- 科学研究\n",
    "  - 数据、经验 → 模型\n",
    "  - 开普勒定律\n",
    "  - 机器从数据找出的模型，不一定要人类能理解：AlphaGo\n",
    "  - 今天介绍的模型，人还相对可以理解"
   ]
  },
  {
   "cell_type": "markdown",
   "metadata": {},
   "source": [
    "- 有监督学习：训练数据 → 限定集合里的最优模型\n",
    "  - $f(x) = y$，每一种模型限定了集合（如线性，多项式，svm，神经网络等等）\n",
    "  - 对 $f$ 的限定和找最优 $f$ 的方法，就是不同的机器学习流派"
   ]
  },
  {
   "cell_type": "markdown",
   "metadata": {
    "collapsed": true
   },
   "source": [
    "### 2. 一种分类模型：贝叶斯分类器"
   ]
  },
  {
   "cell_type": "markdown",
   "metadata": {},
   "source": [
    "$P(y = emotion|S) = P(y|w_1,w_2,w_3,...,w_n)$  \n",
    "$f(S) = y → argmax_y P(y|S)$"
   ]
  },
  {
   "cell_type": "markdown",
   "metadata": {},
   "source": [
    "$P(y|S) = P(y|w_1,w_2) = P(y|w_1)P(y|w_2)$ 注意，这样并不对，条件不能拆"
   ]
  },
  {
   "cell_type": "markdown",
   "metadata": {},
   "source": [
    "贝叶斯定理：$P(y|x) = \\frac{P(x,y)}{P(x)} = \\frac{P(x|y)*P(y)}{P(x)}$"
   ]
  },
  {
   "cell_type": "markdown",
   "metadata": {},
   "source": [
    "#### 2.1 Naive 贝叶斯"
   ]
  },
  {
   "cell_type": "markdown",
   "metadata": {},
   "source": [
    "$P(y|S) = \\frac{P(y,S)}{P(S)} = \\frac{P(S|y)*P(y)}{P(S)}$"
   ]
  },
  {
   "cell_type": "markdown",
   "metadata": {},
   "source": [
    "$P(y)$ 情绪的先验概率"
   ]
  },
  {
   "cell_type": "markdown",
   "metadata": {},
   "source": [
    "- 不需要真正取计算分母 P(S)\n",
    "- 不同的 emotion，P(S) 是一样的\n",
    "- P(y = emotion) 统计即可，那么 P(S|y=emotion) 怎么办？"
   ]
  },
  {
   "cell_type": "markdown",
   "metadata": {},
   "source": [
    "$P(S|y=emotion) = P(w_1,w_2,...,w_n|y=emotion) \\approx P(w_1|y=emotion)...P(w_n|y=emotion)$ 假设词之间独立"
   ]
  },
  {
   "cell_type": "markdown",
   "metadata": {},
   "source": [
    "#### 2.2 作业\n",
    "\n",
    "- 利用贝叶斯公式，说明为什么 $P(y|w_1w_2) \\neq P(y|w_1)P(y|w_2)$ （即使做了独立假设）\n",
    "- 自己用 Python 实现 Naive Bayes 方法，并在给定的数据集上验证效果"
   ]
  },
  {
   "cell_type": "markdown",
   "metadata": {},
   "source": [
    "提示：$P(y|w_1w_2) = \\frac{P(w_1w_2|y)*P(y)}{P(w_1w_2)}$ 不等于 $P(y|w_1)P(y|w_2)$"
   ]
  },
  {
   "cell_type": "markdown",
   "metadata": {},
   "source": [
    "#### 2.3 朴素贝叶斯"
   ]
  },
  {
   "cell_type": "markdown",
   "metadata": {},
   "source": [
    "$P(y|S) = \\frac{P(y,S)}{P(S)} = \\frac{P(S|y)*P(y)}{P(S)} \\approx P(w_1|y)P(w_2|y)...P(w_n|y)$    　　$S = w_1w_2...w_n$　　此处假设不考虑 P(y) 和 P(S) ，分析见 2.1"
   ]
  },
  {
   "cell_type": "markdown",
   "metadata": {},
   "source": [
    "- 【完全不觉得这本书让我满意】=> {满意，（不，满意）}，朴素贝叶斯可能认为“满意”\n",
    "- 加更多的特征：句子长度，书评回复里的情感分布 cdots\n",
    "- 特征一旦变多，会出现特征有关联（correlate）的情况，这些关联的特征每次都会各自【起一次作用】\n",
    "  - 关羽，青龙偃月刀\n",
    "  - 关羽 => 正面\n",
    "  - 青龙偃月刀 => 正面"
   ]
  },
  {
   "cell_type": "markdown",
   "metadata": {},
   "source": [
    "### 3. 线性回归 & 逻辑回归"
   ]
  },
  {
   "cell_type": "markdown",
   "metadata": {},
   "source": [
    "线性回归：$y = w_1x_1 + w_2x_2 + ... + w_nx_n + b$"
   ]
  },
  {
   "cell_type": "markdown",
   "metadata": {},
   "source": [
    "#### 纠错\n",
    "\n",
    "w2_3_linear_regression 19:00 In[150]：x1 和 x2 在代码中未定义"
   ]
  },
  {
   "cell_type": "markdown",
   "metadata": {},
   "source": [
    "### 4. 梯度下降法"
   ]
  },
  {
   "cell_type": "markdown",
   "metadata": {},
   "source": [
    "#### 作业  \n",
    "\n",
    "- 通过梯度下降方法，自己实现一种通用的给定数据找到 $y = wx + b$ 中最优 w 和 b 的程序，并用加噪音数据验证效果。  \n",
    "- 和情感分析的关系？"
   ]
  },
  {
   "cell_type": "markdown",
   "metadata": {},
   "source": []
  }
 ],
 "metadata": {
  "kernelspec": {
   "display_name": "Python 2",
   "language": "python",
   "name": "python2"
  },
  "language_info": {
   "codemirror_mode": {
    "name": "ipython",
    "version": 2
   },
   "file_extension": ".py",
   "mimetype": "text/x-python",
   "name": "python",
   "nbconvert_exporter": "python",
   "pygments_lexer": "ipython2",
   "version": "2.7.6"
  }
 },
 "nbformat": 4,
 "nbformat_minor": 1
}
