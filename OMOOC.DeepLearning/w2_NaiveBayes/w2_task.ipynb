{
 "cells": [
  {
   "cell_type": "markdown",
   "metadata": {
    "toc": "true"
   },
   "source": [
    "# Table of Contents\n",
    " <p><div class=\"lev1 toc-item\"><a href=\"#Naive-Bayes\" data-toc-modified-id=\"Naive-Bayes-1\"><span class=\"toc-item-num\">1&nbsp;&nbsp;</span>Naive Bayes</a></div><div class=\"lev2 toc-item\"><a href=\"#分析\" data-toc-modified-id=\"分析-11\"><span class=\"toc-item-num\">1.1&nbsp;&nbsp;</span>分析</a></div><div class=\"lev3 toc-item\"><a href=\"#训练集\" data-toc-modified-id=\"训练集-111\"><span class=\"toc-item-num\">1.1.1&nbsp;&nbsp;</span>训练集</a></div><div class=\"lev3 toc-item\"><a href=\"#先验\" data-toc-modified-id=\"先验-112\"><span class=\"toc-item-num\">1.1.2&nbsp;&nbsp;</span>先验</a></div><div class=\"lev3 toc-item\"><a href=\"#测试集\" data-toc-modified-id=\"测试集-113\"><span class=\"toc-item-num\">1.1.3&nbsp;&nbsp;</span>测试集</a></div><div class=\"lev4 toc-item\"><a href=\"#pos_test\" data-toc-modified-id=\"pos_test-1131\"><span class=\"toc-item-num\">1.1.3.1&nbsp;&nbsp;</span>pos_test</a></div><div class=\"lev4 toc-item\"><a href=\"#neg_test\" data-toc-modified-id=\"neg_test-1132\"><span class=\"toc-item-num\">1.1.3.2&nbsp;&nbsp;</span>neg_test</a></div><div class=\"lev3 toc-item\"><a href=\"#相关概念\" data-toc-modified-id=\"相关概念-114\"><span class=\"toc-item-num\">1.1.4&nbsp;&nbsp;</span>相关概念</a></div><div class=\"lev2 toc-item\"><a href=\"#MagicCheng\" data-toc-modified-id=\"MagicCheng-12\"><span class=\"toc-item-num\">1.2&nbsp;&nbsp;</span>MagicCheng</a></div><div class=\"lev1 toc-item\"><a href=\"#梯度下降法\" data-toc-modified-id=\"梯度下降法-2\"><span class=\"toc-item-num\">2&nbsp;&nbsp;</span>梯度下降法</a></div><div class=\"lev2 toc-item\"><a href=\"#梯度下降法推导\" data-toc-modified-id=\"梯度下降法推导-21\"><span class=\"toc-item-num\">2.1&nbsp;&nbsp;</span>梯度下降法推导</a></div><div class=\"lev3 toc-item\"><a href=\"#主要观点\" data-toc-modified-id=\"主要观点-211\"><span class=\"toc-item-num\">2.1.1&nbsp;&nbsp;</span>主要观点</a></div><div class=\"lev3 toc-item\"><a href=\"#实现步骤\" data-toc-modified-id=\"实现步骤-212\"><span class=\"toc-item-num\">2.1.2&nbsp;&nbsp;</span>实现步骤</a></div><div class=\"lev2 toc-item\"><a href=\"#网上参考的代码\" data-toc-modified-id=\"网上参考的代码-22\"><span class=\"toc-item-num\">2.2&nbsp;&nbsp;</span>网上参考的代码</a></div>"
   ]
  },
  {
   "cell_type": "code",
   "execution_count": 2,
   "metadata": {
    "collapsed": false
   },
   "outputs": [
    {
     "name": "stdout",
     "output_type": "stream",
     "text": [
      "neg_test.txt   pos_test.txt   w2_code.ipynb  w2_task.ipynb\r\n",
      "neg_train.txt  pos_train.txt  w2_note.ipynb  w2_task_nice_sunoonlee.ipynb\r\n"
     ]
    }
   ],
   "source": [
    "ls"
   ]
  },
  {
   "cell_type": "markdown",
   "metadata": {},
   "source": [
    "# Naive Bayes\n",
    "\n",
    "自己用 Python 实现 Naive Bayes 方法，并在给定的数据集上验证效果"
   ]
  },
  {
   "cell_type": "code",
   "execution_count": 12,
   "metadata": {
    "collapsed": true
   },
   "outputs": [],
   "source": [
    "import jieba"
   ]
  },
  {
   "cell_type": "code",
   "execution_count": 33,
   "metadata": {
    "collapsed": true
   },
   "outputs": [],
   "source": [
    "import jieba.posseg as pseg"
   ]
  },
  {
   "cell_type": "code",
   "execution_count": 13,
   "metadata": {
    "collapsed": true
   },
   "outputs": [],
   "source": [
    "from collections import Counter"
   ]
  },
  {
   "cell_type": "code",
   "execution_count": 79,
   "metadata": {
    "collapsed": false,
    "scrolled": true
   },
   "outputs": [],
   "source": [
    "# 测试代码和数据\n",
    "lm = Counter()\n",
    "line_no = 0\n",
    "limit = 1000\n",
    "\n",
    "for line in open(\"neg_train.txt\",\"r\"):\n",
    "    line_no += 1\n",
    "    if line_no > limit:\n",
    "        break\n",
    "    words = pseg.cut(line.strip())\n",
    "    \n",
    "    for word, flag in words:\n",
    "        if flag == 'x' or flag == 'uj' or flag == 'ul':\n",
    "            continue\n",
    "        lm[(word.encode('utf-8'), flag.encode('utf-8'))] += 1"
   ]
  },
  {
   "cell_type": "code",
   "execution_count": 82,
   "metadata": {
    "collapsed": false
   },
   "outputs": [
    {
     "name": "stdout",
     "output_type": "stream",
     "text": [
      "我 r 650\n",
      "是 v 584\n",
      "不 d 378\n",
      "酒店 n 351\n",
      "没有 v 301\n",
      "就 d 287\n",
      "在 p 272\n",
      "也 d 266\n",
      "房间 n 264\n",
      "有 v 241\n"
     ]
    }
   ],
   "source": [
    "for (word, flag),cnt in lm.most_common(10):\n",
    "    print('%s %s %d' %(word, flag,cnt))"
   ]
  },
  {
   "cell_type": "markdown",
   "metadata": {
    "collapsed": true
   },
   "source": [
    "## 分析"
   ]
  },
  {
   "cell_type": "markdown",
   "metadata": {},
   "source": [
    "### 训练集"
   ]
  },
  {
   "cell_type": "code",
   "execution_count": 773,
   "metadata": {
    "collapsed": true
   },
   "outputs": [],
   "source": [
    "lmp = Counter()\n",
    "lmn = Counter()\n",
    "\n",
    "for linep in open(\"pos_train.txt\", \"r\"):\n",
    "    wordsp = pseg.cut(linep.strip())\n",
    "    \n",
    "    for word, flag in wordsp:\n",
    "        if flag == 'x' or flag == 'uj' or flag == 'ul':\n",
    "            continue\n",
    "        lmp[(word.encode('utf-8'), flag.encode('utf-8'))] += 1\n",
    "\n",
    "\n",
    "for linen in open(\"neg_train.txt\", \"r\"):\n",
    "    wordsn = pseg.cut(linen.strip())\n",
    "\n",
    "    for word, flag in wordsn:\n",
    "        if flag == 'x' or flag == 'uj' or flag == 'ul':\n",
    "            continue\n",
    "        lmn[(word.encode('utf-8'), flag.encode('utf-8'))] += 1"
   ]
  },
  {
   "cell_type": "code",
   "execution_count": 774,
   "metadata": {
    "collapsed": false
   },
   "outputs": [],
   "source": [
    "sp = float(sum(lmp.values()))\n",
    "for key, cnt in lmp.items():\n",
    "    lmp[key] = (lmp[key]+1.0) / (sp + len(lmp))"
   ]
  },
  {
   "cell_type": "code",
   "execution_count": 775,
   "metadata": {
    "collapsed": false
   },
   "outputs": [
    {
     "data": {
      "text/plain": [
       "(460008.0, 28273)"
      ]
     },
     "execution_count": 775,
     "metadata": {},
     "output_type": "execute_result"
    }
   ],
   "source": [
    "sp, len(lmp)"
   ]
  },
  {
   "cell_type": "code",
   "execution_count": 776,
   "metadata": {
    "collapsed": true
   },
   "outputs": [],
   "source": [
    "sn = float(sum(lmn.values()))\n",
    "for key, cnt in lmn.items():\n",
    "    lmn[key] = (lmn[key]+1.0) / (sn + len(lmn))"
   ]
  },
  {
   "cell_type": "code",
   "execution_count": 777,
   "metadata": {
    "collapsed": false
   },
   "outputs": [
    {
     "data": {
      "text/plain": [
       "(410530.0, 22197)"
      ]
     },
     "execution_count": 777,
     "metadata": {},
     "output_type": "execute_result"
    }
   ],
   "source": [
    "sn, len(lmn)"
   ]
  },
  {
   "cell_type": "code",
   "execution_count": 778,
   "metadata": {
    "collapsed": false
   },
   "outputs": [
    {
     "name": "stdout",
     "output_type": "stream",
     "text": [
      "是 v 0.018217\n",
      "我 r 0.015106\n",
      "也 d 0.010666\n",
      "在 p 0.009339\n",
      "有 v 0.008956\n",
      "不错 a 0.008086\n",
      "很 d 0.007844\n",
      "都 d 0.007827\n",
      "这 r 0.007182\n",
      "很 zg 0.006849\n"
     ]
    }
   ],
   "source": [
    "for (word, flag),cnt in lmp.most_common(10):\n",
    "    print('%s %s %f' %(word, flag,cnt))"
   ]
  },
  {
   "cell_type": "code",
   "execution_count": 779,
   "metadata": {
    "collapsed": false
   },
   "outputs": [
    {
     "name": "stdout",
     "output_type": "stream",
     "text": [
      "是 v 0.018289\n",
      "我 r 0.017568\n",
      "不 d 0.011913\n",
      "酒店 n 0.010471\n",
      "也 d 0.008398\n",
      "没有 v 0.008375\n",
      "在 p 0.008148\n",
      "就 d 0.007961\n",
      "房间 n 0.007499\n",
      "有 v 0.007282\n"
     ]
    }
   ],
   "source": [
    "for (word, flag),cnt in lmn.most_common(10):\n",
    "    print('%s %s %f' %(word, flag,cnt))"
   ]
  },
  {
   "cell_type": "code",
   "execution_count": 780,
   "metadata": {
    "collapsed": false
   },
   "outputs": [],
   "source": [
    "traindict = {}\n",
    "\n",
    "traindict = {\"1\":lmp, \"0\":lmn}"
   ]
  },
  {
   "cell_type": "code",
   "execution_count": 781,
   "metadata": {
    "collapsed": false
   },
   "outputs": [
    {
     "data": {
      "text/plain": [
       "4.3907590698061365e-05"
      ]
     },
     "execution_count": 781,
     "metadata": {},
     "output_type": "execute_result"
    }
   ],
   "source": [
    "traindict['0'][('\\xe6\\x8a\\xb1\\xe6\\x80\\xa8', 'v')]"
   ]
  },
  {
   "cell_type": "markdown",
   "metadata": {},
   "source": [
    "### 先验"
   ]
  },
  {
   "cell_type": "code",
   "execution_count": 593,
   "metadata": {
    "collapsed": true
   },
   "outputs": [],
   "source": [
    "npos = len(open(\"pos_train.txt\", \"r\").readlines())"
   ]
  },
  {
   "cell_type": "code",
   "execution_count": 594,
   "metadata": {
    "collapsed": false
   },
   "outputs": [],
   "source": [
    "nneg = len(open(\"neg_train.txt\", \"r\").readlines())"
   ]
  },
  {
   "cell_type": "code",
   "execution_count": 595,
   "metadata": {
    "collapsed": false
   },
   "outputs": [
    {
     "data": {
      "text/plain": [
       "0.47112177662084115"
      ]
     },
     "execution_count": 595,
     "metadata": {},
     "output_type": "execute_result"
    }
   ],
   "source": [
    "ppos = float(npos)/float(npos+nneg)\n",
    "ppos"
   ]
  },
  {
   "cell_type": "code",
   "execution_count": 596,
   "metadata": {
    "collapsed": false,
    "scrolled": true
   },
   "outputs": [
    {
     "data": {
      "text/plain": [
       "0.5288782233791589"
      ]
     },
     "execution_count": 596,
     "metadata": {},
     "output_type": "execute_result"
    }
   ],
   "source": [
    "pneg = 1 - ppos\n",
    "pneg"
   ]
  },
  {
   "cell_type": "markdown",
   "metadata": {},
   "source": [
    "### 测试集"
   ]
  },
  {
   "cell_type": "code",
   "execution_count": 782,
   "metadata": {
    "collapsed": false
   },
   "outputs": [],
   "source": [
    "resultp = []\n",
    "\n",
    "f = open('pos_test.txt', 'r')\n",
    "for line in open(\"pos_test.txt\"):\n",
    "    line = f.readline()\n",
    "    resultp.append(line)"
   ]
  },
  {
   "cell_type": "code",
   "execution_count": 783,
   "metadata": {
    "collapsed": false
   },
   "outputs": [
    {
     "data": {
      "text/plain": [
       "4965"
      ]
     },
     "execution_count": 783,
     "metadata": {},
     "output_type": "execute_result"
    }
   ],
   "source": [
    "len(resultp)"
   ]
  },
  {
   "cell_type": "code",
   "execution_count": 784,
   "metadata": {
    "collapsed": true
   },
   "outputs": [],
   "source": [
    "resultn = []\n",
    "\n",
    "f = open('neg_test.txt', 'r')\n",
    "for line in open(\"neg_test.txt\"):\n",
    "    line = f.readline()\n",
    "    resultn.append(line)"
   ]
  },
  {
   "cell_type": "code",
   "execution_count": 785,
   "metadata": {
    "collapsed": false
   },
   "outputs": [
    {
     "data": {
      "text/plain": [
       "5573"
      ]
     },
     "execution_count": 785,
     "metadata": {},
     "output_type": "execute_result"
    }
   ],
   "source": [
    "len(resultn)"
   ]
  },
  {
   "cell_type": "code",
   "execution_count": 798,
   "metadata": {
    "collapsed": true
   },
   "outputs": [],
   "source": [
    "def cutSen(sen):\n",
    "    sw = []\n",
    "    s = pseg.cut(sen.strip())\n",
    "    for word, flag in s:\n",
    "        if flag == 'x' or flag == 'uj' or flag == 'ul':\n",
    "            continue\n",
    "        sw.append((word.encode('utf-8'), flag.encode('utf-8')))\n",
    "    return sw"
   ]
  },
  {
   "cell_type": "code",
   "execution_count": 799,
   "metadata": {
    "collapsed": false
   },
   "outputs": [],
   "source": [
    "def rateWord(wf):\n",
    "    \n",
    "    wfs = cutSen(wf)\n",
    "    \n",
    "    import math\n",
    "    rateps = 0\n",
    "    ratens = 0\n",
    "    for i in range(len(wfs)):\n",
    "        wfp = traindict[\"1\"][wfs[i]]\n",
    "        wfn = traindict[\"0\"][wfs[i]]\n",
    "        \n",
    "        if wfp == 0:\n",
    "            ratep = math.log(1.0 / (sp + len(lmp) + 1.0))\n",
    "        else:\n",
    "            ratep = math.log(wfp)\n",
    "        \n",
    "        rateps += ratep\n",
    "        \n",
    "        if wfn == 0:\n",
    "            raten = math.log(1.0/ (sn + len(lmn) +1.0))\n",
    "        else:\n",
    "            raten = math.log(wfn)\n",
    "        \n",
    "        ratens += raten\n",
    "    \n",
    "    return rateps + math.log(ppos), ratens + math.log(pneg)"
   ]
  },
  {
   "cell_type": "markdown",
   "metadata": {},
   "source": [
    "#### pos_test"
   ]
  },
  {
   "cell_type": "code",
   "execution_count": 800,
   "metadata": {
    "collapsed": false
   },
   "outputs": [],
   "source": [
    "testResultp = []\n",
    "\n",
    "for i in range(len(resultp)):\n",
    "    testResultp.append(rateWord(resultp[i]))"
   ]
  },
  {
   "cell_type": "code",
   "execution_count": 801,
   "metadata": {
    "collapsed": false
   },
   "outputs": [
    {
     "data": {
      "text/plain": [
       "4965"
      ]
     },
     "execution_count": 801,
     "metadata": {},
     "output_type": "execute_result"
    }
   ],
   "source": [
    "len(testResultp)"
   ]
  },
  {
   "cell_type": "code",
   "execution_count": 802,
   "metadata": {
    "collapsed": false
   },
   "outputs": [],
   "source": [
    "n = 0\n",
    "for i in range(len(testResultp)):\n",
    "    if testResultp[i][0] > testResultp[i][1]:\n",
    "        n += 1"
   ]
  },
  {
   "cell_type": "code",
   "execution_count": 803,
   "metadata": {
    "collapsed": false
   },
   "outputs": [
    {
     "data": {
      "text/plain": [
       "3808"
      ]
     },
     "execution_count": 803,
     "metadata": {},
     "output_type": "execute_result"
    }
   ],
   "source": [
    "n"
   ]
  },
  {
   "cell_type": "code",
   "execution_count": 804,
   "metadata": {
    "collapsed": false
   },
   "outputs": [
    {
     "data": {
      "text/plain": [
       "0.766968781470292"
      ]
     },
     "execution_count": 804,
     "metadata": {},
     "output_type": "execute_result"
    }
   ],
   "source": [
    "3808.0/4965"
   ]
  },
  {
   "cell_type": "markdown",
   "metadata": {},
   "source": [
    "#### neg_test"
   ]
  },
  {
   "cell_type": "code",
   "execution_count": 805,
   "metadata": {
    "collapsed": true
   },
   "outputs": [],
   "source": [
    "testResultn = []\n",
    "\n",
    "for i in range(len(resultn)):\n",
    "    testResultn.append(rateWord(resultn[i]))"
   ]
  },
  {
   "cell_type": "code",
   "execution_count": 806,
   "metadata": {
    "collapsed": false
   },
   "outputs": [
    {
     "data": {
      "text/plain": [
       "5573"
      ]
     },
     "execution_count": 806,
     "metadata": {},
     "output_type": "execute_result"
    }
   ],
   "source": [
    "len(testResultn)"
   ]
  },
  {
   "cell_type": "code",
   "execution_count": 807,
   "metadata": {
    "collapsed": true
   },
   "outputs": [],
   "source": [
    "n = 0\n",
    "for i in range(len(testResultn)):\n",
    "    if testResultn[i][0] < testResultn[i][1]:\n",
    "        n += 1"
   ]
  },
  {
   "cell_type": "code",
   "execution_count": 808,
   "metadata": {
    "collapsed": false
   },
   "outputs": [
    {
     "data": {
      "text/plain": [
       "4937"
      ]
     },
     "execution_count": 808,
     "metadata": {},
     "output_type": "execute_result"
    }
   ],
   "source": [
    "n"
   ]
  },
  {
   "cell_type": "code",
   "execution_count": 809,
   "metadata": {
    "collapsed": false
   },
   "outputs": [
    {
     "data": {
      "text/plain": [
       "0.8858783420061008"
      ]
     },
     "execution_count": 809,
     "metadata": {},
     "output_type": "execute_result"
    }
   ],
   "source": [
    "4937.0/5573"
   ]
  },
  {
   "cell_type": "markdown",
   "metadata": {},
   "source": [
    "### 相关概念"
   ]
  },
  {
   "cell_type": "markdown",
   "metadata": {},
   "source": [
    "$P(y|S) = \\frac{P(y,S)}{P(S)} = \\frac{P(S|y)*P(y)}{P(S)}$  \n",
    "\n",
    "$P(S|y=emotion) = P(w_1,w_2,...,w_n|y=emotion) \\approx P(w_1|y=emotion)...P(w_n|y=emotion)$ 假设词之间独立"
   ]
  },
  {
   "cell_type": "markdown",
   "metadata": {},
   "source": [
    "## MagicCheng"
   ]
  },
  {
   "cell_type": "code",
   "execution_count": 1,
   "metadata": {
    "collapsed": true
   },
   "outputs": [],
   "source": [
    "from collections import Counter, defaultdict\n",
    "from math import log\n",
    "import jieba"
   ]
  },
  {
   "cell_type": "code",
   "execution_count": 2,
   "metadata": {
    "collapsed": false
   },
   "outputs": [
    {
     "data": {
      "text/plain": [
       "[0.47112177662084115, 0.5288782233791589]"
      ]
     },
     "execution_count": 2,
     "metadata": {},
     "output_type": "execute_result"
    }
   ],
   "source": [
    "# 先验概率 = 正面评价（负面评价）／所有评价\n",
    "def readfile(file_path):\n",
    "    with open(file_path.encode('utf-8')) as f:\n",
    "        lines = f.readlines()\n",
    "    return [line.strip() for line in lines]\n",
    "pos_count = float(len(readfile('./pos_train.txt'))) #不加float结果都是0.0\n",
    "neg_count = float(len(readfile('./neg_train.txt')))\n",
    "sums = pos_count + neg_count\n",
    "prior = [(pos_count / sums), (neg_count / sums)]\n",
    "prior"
   ]
  },
  {
   "cell_type": "code",
   "execution_count": 4,
   "metadata": {
    "collapsed": false
   },
   "outputs": [
    {
     "name": "stderr",
     "output_type": "stream",
     "text": [
      "Building prefix dict from the default dictionary ...\n",
      "Loading model from cache /tmp/jieba.cache\n",
      "Loading model cost 0.332 seconds.\n",
      "Prefix dict has been built succesfully.\n"
     ]
    }
   ],
   "source": [
    "def model(train_file):\n",
    "    '''处理下文件，变成list'''\n",
    "    lm = Counter()\n",
    "    for line in readfile(train_file):\n",
    "        for word in jieba.cut(line):\n",
    "            lm[word] += 1\n",
    "    return lm\n",
    "\n",
    "s = model('./pos_train.txt') + model('./neg_train.txt')\n",
    "wordlist = set()\n",
    "for word in s.items():\n",
    "    wordlist.add(word) #合并文件"
   ]
  },
  {
   "cell_type": "code",
   "execution_count": 6,
   "metadata": {
    "collapsed": true
   },
   "outputs": [],
   "source": [
    "def get(train_file):\n",
    "    \"\"\"这里用了平滑处理\"\"\"\n",
    "    v_count = len(wordlist)\n",
    "    goal = model(train_file)\n",
    "    sum_ = float(sum(goal.values()))\n",
    "    get = Counter()\n",
    "    for word, cnt in goal.items():\n",
    "        get[word] = (cnt + 1) / (sum_ + v_count + 1)\n",
    "    get = defaultdict(lambda: 1/(sum_ + v_count + 1), get)\n",
    "    return get"
   ]
  },
  {
   "cell_type": "code",
   "execution_count": 7,
   "metadata": {
    "collapsed": true
   },
   "outputs": [],
   "source": [
    "pos_train_lm = get('./pos_train.txt')\n",
    "neg_train_lm = get('./neg_train.txt')"
   ]
  },
  {
   "cell_type": "code",
   "execution_count": 8,
   "metadata": {
    "collapsed": true
   },
   "outputs": [],
   "source": [
    "def classify(content, pos_train_lm, neg_train_lm):\n",
    "    words = jieba.cut(content)\n",
    "    result = log(prior[0]/prior[1]) #这里看同学的作业，感觉他的有问题我改了下。\n",
    "    for word in words:\n",
    "        result += log(pos_train_lm[word] / neg_train_lm[word])\n",
    "    return result"
   ]
  },
  {
   "cell_type": "code",
   "execution_count": 10,
   "metadata": {
    "collapsed": false
   },
   "outputs": [],
   "source": [
    "s_text = ['./neg_test.txt', './pos_test.txt']\n",
    "r = [[0,0],[0,0]]\n",
    "for i in (0,1):\n",
    "    for line in open(s_text[i]):\n",
    "        if classify(line,pos_train_lm, neg_train_lm) < 0: # 比较大小过程。\n",
    "            r[i][0] += 1\n",
    "        else:\n",
    "            r[i][1] += 1\n",
    "total = r[0][0] + r[0][1] + r[1][0] + r[1][1]"
   ]
  },
  {
   "cell_type": "code",
   "execution_count": 11,
   "metadata": {
    "collapsed": false
   },
   "outputs": [
    {
     "name": "stdout",
     "output_type": "stream",
     "text": [
      "    n=10538     predicted:neg  predicted:pos \n",
      "  actual:neg        4889           1122      \n",
      "  actual:pos         684           3843      \n"
     ]
    }
   ],
   "source": [
    "confusion_matrix = ('\\n'.join(['{:^15}' * 3] * 3)).format(\n",
    "    'n=' + str(total), 'predicted:neg', 'predicted:pos',\n",
    "    'actual:neg', r[0][0], r[1][0],\n",
    "    'actual:pos', r[0][1], r[1][1])\n",
    "print(confusion_matrix)"
   ]
  },
  {
   "cell_type": "code",
   "execution_count": 12,
   "metadata": {
    "collapsed": false
   },
   "outputs": [
    {
     "data": {
      "text/plain": [
       "0.7740181268882175"
      ]
     },
     "execution_count": 12,
     "metadata": {},
     "output_type": "execute_result"
    }
   ],
   "source": [
    "true_pos_rate = float(r[1][1])/float(r[1][0] + r[1][1])\n",
    "true_pos_rate"
   ]
  },
  {
   "cell_type": "code",
   "execution_count": 13,
   "metadata": {
    "collapsed": false
   },
   "outputs": [
    {
     "data": {
      "text/plain": [
       "0.8772653866858066"
      ]
     },
     "execution_count": 13,
     "metadata": {},
     "output_type": "execute_result"
    }
   ],
   "source": [
    "true_neg_rate = float(r[0][0])/float(r[0][0] + r[0][1])\n",
    "true_neg_rate"
   ]
  },
  {
   "cell_type": "markdown",
   "metadata": {},
   "source": [
    "# 梯度下降法\n",
    "\n",
    "\n",
    "通过梯度下降方法，自己实现一种通用的给定数据找到 $y = wx + b$ 中最优 w 和 b 的程序，并用加噪音数据验证效果，和情感分析的关系？"
   ]
  },
  {
   "cell_type": "markdown",
   "metadata": {},
   "source": [
    "## 梯度下降法推导\n",
    "\n",
    "### 主要观点\n",
    "\n",
    "- 梯度下降法主要目的是找出最优的 w 和 b，基本思想是根据给定的 x 和 y 值，不断更新 w 和 b，将求得的 y 与给定的 y 值进行比较，选择离差平方和最小的 w 和 b"
   ]
  },
  {
   "cell_type": "markdown",
   "metadata": {},
   "source": [
    "### 实现步骤\n",
    "\n",
    "- 设函数为：$$ h_\\theta(x) = \\theta_0 + \\theta_1*x $$  \n",
    "  写成矩阵形式（非常重要）：$$ h(x) = \\sum_{i=0}^n \\theta_ix_i $$\n",
    "- 假设给定的 x', y' 分别为给定的值，求离差平方和为：$$ J(\\theta_0, \\theta_1) = \\frac{1}{2m}\\sum_{i=1}^m(h_\\theta(x')-y')^2 $$\n",
    "  乘以 1/2m 方便求导后化简。注意：这里的 m 表示 (x', y') 的个数，上式的 n 表示 $\\theta$ 的个数"
   ]
  },
  {
   "cell_type": "markdown",
   "metadata": {},
   "source": [
    "- 要求最小值，对离差平方和进行求导：$$ \\frac{\\partial}{\\partial \\theta_j} J(\\theta_0, \\theta_1) = \\frac{1}{2m} \\sum_{i=1}^m  \\frac{\\partial}{\\partial \\theta_j} (h_\\theta(x')-y')^2 $$"
   ]
  },
  {
   "cell_type": "markdown",
   "metadata": {},
   "source": [
    "j = 1 时：$$ \\frac{\\partial}{\\partial \\theta_j} J(\\theta_0, \\theta_1) = \\frac{1}{m} \\sum_{i=1}^m  (h_\\theta(x')-y') * x' $$"
   ]
  },
  {
   "cell_type": "markdown",
   "metadata": {},
   "source": [
    "j = 0 时：$$ \\frac{\\partial}{\\partial \\theta_j} J(\\theta_0, \\theta_1) = \\frac{1}{m} \\sum_{i=1}^m  (h_\\theta(x')-y') $$"
   ]
  },
  {
   "cell_type": "markdown",
   "metadata": {},
   "source": [
    "算法： \n",
    "\n",
    "Repeat {\n",
    "\n",
    "  $$ \\theta_0: = \\theta_0 - \\alpha \\frac{1}{m} \\sum_{i=1}^m  (h_\\theta(x')-y') $$\n",
    "  $$ \\theta_1: = \\theta_1 - \\alpha \\frac{1}{m} \\sum_{i=1}^m  (h_\\theta(x')-y')*x' $$\n",
    "}"
   ]
  },
  {
   "cell_type": "code",
   "execution_count": 1,
   "metadata": {
    "collapsed": false
   },
   "outputs": [],
   "source": [
    "def g(x):\n",
    "    \n",
    "    return w*x + b"
   ]
  },
  {
   "cell_type": "code",
   "execution_count": 4,
   "metadata": {
    "collapsed": true
   },
   "outputs": [],
   "source": [
    "import numpy as np"
   ]
  },
  {
   "cell_type": "code",
   "execution_count": 44,
   "metadata": {
    "collapsed": false
   },
   "outputs": [],
   "source": [
    "def gradient(X, y, rate, eps, times):\n",
    "    \n",
    "    import numpy as np\n",
    "    m = len(X)\n",
    "    n = X.shape[1]   \n",
    "    theta = np.array(np.zeros(n)).reshape(n,1)\n",
    "    #x_train = np.column_stack((np.ones(m), x))\n",
    "    x_train = X\n",
    "    y_train = y.reshape(m, 1)\n",
    "    Jcosts = []\n",
    "    Jcost = 0\n",
    "    Jcostt = 0\n",
    "\n",
    "    for i in range(times):\n",
    "        theta -= rate * ((x_train.dot(theta) - y_train) * x_train).sum(axis=0).reshape(n,1)\n",
    "        Jcost = sum((x_train.dot(theta) - y_train) ** 2)/(2*m)\n",
    "        Jcosts.append(Jcost)\n",
    "        \n",
    "        # 新的 cost 大于上一个时，说明步子太大，缩小步长\n",
    "        if Jcost > Jcostt:\n",
    "            rate /= 10.0\n",
    "        # 梯度下降!\n",
    "        # 也可以直接 if Jcost < eps，但是不能避免 Jcost 永远无法收敛到 eps 大小的情况，\n",
    "        # 所以需要找一个中间变量，用来做差，用 Jcost 的差作为判断循环停止的标准\n",
    "        if abs(Jcost - Jcostt) < eps: \n",
    "            break\n",
    "        #else:\n",
    "        # 这里的 else 容易让人误会，可以不要，每次循环结束时，直接把 Jcost 赋给 Jcostt\n",
    "        Jcostt = Jcost\n",
    "    return theta, Jcosts"
   ]
  },
  {
   "cell_type": "code",
   "execution_count": 4,
   "metadata": {
    "collapsed": true
   },
   "outputs": [],
   "source": [
    "import numpy as np"
   ]
  },
  {
   "cell_type": "code",
   "execution_count": 18,
   "metadata": {
    "collapsed": false
   },
   "outputs": [],
   "source": [
    "Y = X[:,0] + 2*X[:,1] + np.random.random()"
   ]
  },
  {
   "cell_type": "code",
   "execution_count": 5,
   "metadata": {
    "collapsed": false
   },
   "outputs": [],
   "source": [
    "X = np.column_stack((np.ones(50), np.linspace(-10,10)))"
   ]
  },
  {
   "cell_type": "code",
   "execution_count": 59,
   "metadata": {
    "collapsed": false,
    "scrolled": true
   },
   "outputs": [
    {
     "data": {
      "text/plain": [
       "array([[ 0.7313814 ],\n",
       "       [ 2.00000001]])"
      ]
     },
     "execution_count": 59,
     "metadata": {},
     "output_type": "execute_result"
    }
   ],
   "source": [
    "gradient(X,Y,0.001,0.00001,100)[0]"
   ]
  },
  {
   "cell_type": "code",
   "execution_count": 51,
   "metadata": {
    "collapsed": true
   },
   "outputs": [],
   "source": [
    "x = np.array([(1, 0., 3),(1, 1., 3),(1, 2., 3),(1, 3., 2), (1, 4, 4)])\n",
    "y = np.array([95.364, 97.217205, 75.195834, 60.105519, 49.342380])\n",
    "y = y.reshape(5,1)"
   ]
  },
  {
   "cell_type": "code",
   "execution_count": 52,
   "metadata": {
    "collapsed": false
   },
   "outputs": [
    {
     "data": {
      "text/plain": [
       "array([[ 1.,  0.,  3.],\n",
       "       [ 1.,  1.,  3.],\n",
       "       [ 1.,  2.,  3.],\n",
       "       [ 1.,  3.,  2.],\n",
       "       [ 1.,  4.,  4.]])"
      ]
     },
     "execution_count": 52,
     "metadata": {},
     "output_type": "execute_result"
    }
   ],
   "source": [
    "x"
   ]
  },
  {
   "cell_type": "code",
   "execution_count": 53,
   "metadata": {
    "collapsed": false
   },
   "outputs": [
    {
     "data": {
      "text/plain": [
       "array([[ 95.364   ],\n",
       "       [ 97.217205],\n",
       "       [ 75.195834],\n",
       "       [ 60.105519],\n",
       "       [ 49.34238 ]])"
      ]
     },
     "execution_count": 53,
     "metadata": {},
     "output_type": "execute_result"
    }
   ],
   "source": [
    "y"
   ]
  },
  {
   "cell_type": "code",
   "execution_count": 57,
   "metadata": {
    "collapsed": false,
    "scrolled": true
   },
   "outputs": [
    {
     "data": {
      "text/plain": [
       "array([[ 85.16466796],\n",
       "       [-12.93716954],\n",
       "       [  5.21874193]])"
      ]
     },
     "execution_count": 57,
     "metadata": {},
     "output_type": "execute_result"
    }
   ],
   "source": [
    "gradient(x,y,0.01,0.0001,10000)[0] # 实际 2277 次即收敛"
   ]
  },
  {
   "cell_type": "markdown",
   "metadata": {},
   "source": [
    "## 网上参考的代码"
   ]
  },
  {
   "cell_type": "code",
   "execution_count": 7,
   "metadata": {
    "collapsed": false
   },
   "outputs": [],
   "source": [
    "x = np.array([(1, 0., 3),(1, 1., 3),(1, 2., 3),(1, 3., 2), (1, 4, 4)])\n",
    "y = np.array([95.364, 97.217205, 75.195834, 60.105519, 49.342380])\n",
    "y = y.reshape(5,1)\n",
    "\n",
    "epsilon = 0.0001\n",
    "\n",
    "# 学习率\n",
    "alpha = 0.01\n",
    "diff = [0, 0]\n",
    "max_itor = 1000\n",
    "error1 = 0\n",
    "error0 = 0\n",
    "cnt = 0\n",
    "m = len(x)\n",
    "errors = []\n",
    "\n",
    "# 初始化参数\n",
    "theta = np.array([0, 0, 0]).reshape(3,1)\n",
    "\n",
    "while True:\n",
    "    cnt += 1\n",
    "\n",
    "    # 参数迭代计算\n",
    "    for i in range(m):\n",
    "        theta = theta - alpha * ((x.dot(theta) - y) * x).sum(axis=0).reshape(3,1)\n",
    "    # 计算损失函数\n",
    "    #error1 = 0\n",
    "    #for lp in range(len(x)):\n",
    "    error1 += sum((x.dot(theta) - y) ** 2)/(2*m)\n",
    "    errors.append(error1)\n",
    "\n",
    "    if abs(error1-errors[-1]) < epsilon:\n",
    "        break\n",
    "#    else:\n",
    "#        error0 = error1\n",
    "\n",
    "    print ' theta0 : %f, theta1 : %f, theta2 : %f, error1 : %f' % (theta[0], theta[1], theta[2], errors[-1])\n",
    "#print 'Done: theta0 : %f, theta1 : %f, theta2 : %f' % (theta0, theta1, theta2)\n",
    "#print '迭代次数: %d' % cnt"
   ]
  }
 ],
 "metadata": {
  "anaconda-cloud": {},
  "kernelspec": {
   "display_name": "Python 2",
   "language": "python",
   "name": "python2"
  },
  "language_info": {
   "codemirror_mode": {
    "name": "ipython",
    "version": 2
   },
   "file_extension": ".py",
   "mimetype": "text/x-python",
   "name": "python",
   "nbconvert_exporter": "python",
   "pygments_lexer": "ipython2",
   "version": "2.7.6"
  },
  "latex_envs": {
   "LaTeX_envs_menu_present": true,
   "bibliofile": "biblio.bib",
   "cite_by": "apalike",
   "current_citInitial": 1,
   "eqLabelWithNumbers": true,
   "eqNumInitial": 1,
   "hotkeys": {
    "equation": "Ctrl-E",
    "itemize": "Ctrl-I"
   },
   "labels_anchors": false,
   "latex_user_defs": false,
   "report_style_numbering": false,
   "user_envs_cfg": false
  },
  "toc": {
   "colors": {
    "hover_highlight": "#DAA520",
    "running_highlight": "#FF0000",
    "selected_highlight": "#FFD700"
   },
   "moveMenuLeft": true,
   "nav_menu": {
    "height": "11.818182px",
    "width": "1.818182px"
   },
   "navigate_menu": true,
   "number_sections": true,
   "sideBar": true,
   "threshold": 4,
   "toc_cell": true,
   "toc_section_display": "block",
   "toc_window_display": true
  }
 },
 "nbformat": 4,
 "nbformat_minor": 1
}
