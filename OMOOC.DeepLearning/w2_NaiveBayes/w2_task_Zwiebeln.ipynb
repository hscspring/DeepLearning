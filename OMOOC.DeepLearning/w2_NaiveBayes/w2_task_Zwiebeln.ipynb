{
 "cells": [
  {
   "cell_type": "code",
   "execution_count": 69,
   "metadata": {
    "collapsed": false
   },
   "outputs": [],
   "source": [
    "import jieba\n",
    "from collections import Counter\n",
    "import math"
   ]
  },
  {
   "cell_type": "code",
   "execution_count": 71,
   "metadata": {
    "collapsed": true
   },
   "outputs": [],
   "source": [
    "train_pos= './pos_train.txt'\n",
    "train_neg= './neg_train.txt'\n",
    "test_pos= './pos_test.txt'\n",
    "test_neg= './neg_test.txt'"
   ]
  },
  {
   "cell_type": "code",
   "execution_count": 72,
   "metadata": {
    "collapsed": true
   },
   "outputs": [],
   "source": [
    "#返回一个Counter，里面装有filepath里所有word的词频\n",
    "def initLM(filepath):\n",
    "    lm=Counter()\n",
    "    with open(filepath) as f:\n",
    "        for line in f:\n",
    "            words= jieba.cut(line.strip())\n",
    "            for word in words:\n",
    "                if word >=u'\\u4e00' and word<=u'\\u9fff':\n",
    "                    lm[word]+=1\n",
    "    return lm"
   ]
  },
  {
   "cell_type": "code",
   "execution_count": 73,
   "metadata": {
    "collapsed": false
   },
   "outputs": [
    {
     "name": "stderr",
     "output_type": "stream",
     "text": [
      "Building prefix dict from the default dictionary ...\n",
      "Loading model from cache /tmp/jieba.cache\n",
      "Loading model cost 0.309 seconds.\n",
      "Prefix dict has been built succesfully.\n"
     ]
    }
   ],
   "source": [
    "lm_pos=initLM(train_pos)\n",
    "lm_neg= initLM(train_neg)"
   ]
  },
  {
   "cell_type": "code",
   "execution_count": 75,
   "metadata": {
    "collapsed": true
   },
   "outputs": [],
   "source": [
    "#根据Counter里已有的pos和neg中出现每个词的概率来判断整个句子是pos还是neg\n",
    "def sentenceEmotion(sentence, lm_pos, lm_neg):\n",
    "    pos_freq= float(0)\n",
    "    neg_freq= float(0)\n",
    "    for word in jieba.cut(sentence.strip()):\n",
    "        if word >=u'\\u4e00' and word<=u'\\u9fff':\n",
    "            if word in lm_pos:\n",
    "                pos_freq += math.log(lm_pos[word])\n",
    "            elif word in lm_neg:\n",
    "                neg_freq += math.log(lm_neg[word])\n",
    "    return pos_freq, neg_freq"
   ]
  },
  {
   "cell_type": "code",
   "execution_count": 76,
   "metadata": {
    "collapsed": true
   },
   "outputs": [],
   "source": [
    "#给一个全是（pos||neg）句子的文档，看（有多少能句子被判断为pos，多少被误判为neg||有多少能句子被判断为neg，多少被误判为pos）\n",
    "def judgeEmotion(testFile):\n",
    "    line_no=0\n",
    "    posFromTest=0\n",
    "    negFromTest=0\n",
    "    with open(testFile) as f:\n",
    "            for line in f:\n",
    "                line_no +=1\n",
    "                pos, neg= sentenceEmotion(line, lm_pos, lm_neg)\n",
    "                if pos>neg:\n",
    "                    posFromTest +=1\n",
    "                   # print line\n",
    "                    # print \"positive emotion\"\n",
    "                else:\n",
    "                    negFromTest +=1\n",
    "                   # print line\n",
    "                   # print \"negative\"\n",
    "    return posFromTest, negFromTest,line_no"
   ]
  },
  {
   "cell_type": "code",
   "execution_count": 77,
   "metadata": {
    "collapsed": false
   },
   "outputs": [
    {
     "name": "stdout",
     "output_type": "stream",
     "text": [
      "(4947, 18, 4965)\n"
     ]
    }
   ],
   "source": [
    "TP, FN, TrueTotal = judgeEmotion(test_pos)\n",
    "print (judgeEmotion(test_pos))"
   ]
  },
  {
   "cell_type": "code",
   "execution_count": 78,
   "metadata": {
    "collapsed": false
   },
   "outputs": [
    {
     "name": "stdout",
     "output_type": "stream",
     "text": [
      "(5561, 12, 5573)\n"
     ]
    }
   ],
   "source": [
    "TN, FP, FalseTotal = judgeEmotion(test_neg)\n",
    "print (judgeEmotion(test_neg))"
   ]
  },
  {
   "cell_type": "code",
   "execution_count": null,
   "metadata": {
    "collapsed": true
   },
   "outputs": [],
   "source": []
  },
  {
   "cell_type": "markdown",
   "metadata": {},
   "source": [
    "## Gradient"
   ]
  },
  {
   "cell_type": "code",
   "execution_count": 2,
   "metadata": {
    "collapsed": false
   },
   "outputs": [],
   "source": [
    "import numpy as np\n",
    "from matplotlib import pyplot as plt\n",
    "import time"
   ]
  },
  {
   "cell_type": "code",
   "execution_count": 3,
   "metadata": {
    "collapsed": true
   },
   "outputs": [],
   "source": [
    "%matplotlib inline"
   ]
  },
  {
   "cell_type": "code",
   "execution_count": 4,
   "metadata": {
    "collapsed": false
   },
   "outputs": [
    {
     "data": {
      "text/plain": [
       "[<matplotlib.lines.Line2D at 0x7fef0de8e690>]"
      ]
     },
     "execution_count": 4,
     "metadata": {},
     "output_type": "execute_result"
    },
    {
     "data": {
      "image/png": "[encoded data removed]",
      "text/plain": [
       "<matplotlib.figure.Figure at 0x7fef0ff51550>"
      ]
     },
     "metadata": {},
     "output_type": "display_data"
    }
   ],
   "source": [
    "x= np.arange(100)\n",
    "y = x+ np.random.normal(scale=5, size=100)\n",
    "plt.plot(x,y,'.')"
   ]
  },
  {
   "cell_type": "code",
   "execution_count": 6,
   "metadata": {
    "collapsed": true
   },
   "outputs": [],
   "source": [
    "def gradientW(w, x, b, y):\n",
    "    return np.sum((w*x+b -y)*x)"
   ]
  },
  {
   "cell_type": "code",
   "execution_count": 7,
   "metadata": {
    "collapsed": true
   },
   "outputs": [],
   "source": [
    "def gradientB(w, x, b, y):\n",
    "    return np.sum(w*x+b-y)"
   ]
  },
  {
   "cell_type": "code",
   "execution_count": 8,
   "metadata": {
    "collapsed": true
   },
   "outputs": [],
   "source": [
    "def cost(w,x,b,y):\n",
    "    return (np.sum((w*x+b-y)**2))/len(x)"
   ]
  },
  {
   "cell_type": "code",
   "execution_count": 43,
   "metadata": {
    "collapsed": true
   },
   "outputs": [],
   "source": [
    "#initiate Value\n",
    "def initValue(x,y):\n",
    "    w = np.random.random()\n",
    "    b = np.random.random()\n",
    "    gw = gradientW(w,x,b,y)\n",
    "    gb = gradientB(w,x,b,y)\n",
    "    print(\"Initial w and b: w: %f b: %f\" %(w,b))\n",
    "    return w,b,gw,gb\n",
    "    \n",
    "    \n",
    "def gradientDescent(x, y, epsilon):\n",
    "    startTime= time.clock()\n",
    "    learningRate = 0.002\n",
    "    w,b,gw,gb= initValue(x,y)\n",
    "    prev_cost = cost(w,x,b,y)\n",
    "    while abs(gw) > epsilon and abs(gb) > epsilon: #终止条件\n",
    "        curr_cost = cost(w,x,b,y)\n",
    "        if curr_cost > prev_cost:\n",
    "            learningRate /= 2.0\n",
    "            prev_cost = curr_cost\n",
    "            w = prev_w\n",
    "            b = prev_b\n",
    "        gw = gradientW(w,x,b,y)\n",
    "        gb = gradientB(w,x,b,y)\n",
    "        prev_w = w\n",
    "        prev_b = b\n",
    "        w -= learningRate*gw\n",
    "        b -= learningRate*gb\n",
    "      #  print (\"w: %f, b: %f\" %(w,b))\n",
    "    stoptime= time.clock()\n",
    "    duration= stoptime- startTime\n",
    "    print(\"Final w and b: w: %f b: %f\" %(w,b))\n",
    "    print (\"Duration: %f s\" %duration)"
   ]
  },
  {
   "cell_type": "code",
   "execution_count": 65,
   "metadata": {
    "collapsed": false
   },
   "outputs": [
    {
     "name": "stdout",
     "output_type": "stream",
     "text": [
      "Initial w and b: w: 0.661562 b: 0.096904\n",
      "Final w and b: w: 0.991454 b: 0.533854\n",
      "Duration: 1.156397 s\n"
     ]
    }
   ],
   "source": [
    "gradientDescent(x,y,1e-3)"
   ]
  },
  {
   "cell_type": "code",
   "execution_count": 50,
   "metadata": {
    "collapsed": false
   },
   "outputs": [
    {
     "data": {
      "text/plain": [
       "array([ 0,  1,  2,  3,  4,  5,  6,  7,  8,  9, 10, 11, 12, 13, 14, 15, 16,\n",
       "       17, 18, 19, 20, 21, 22, 23, 24, 25, 26, 27, 28, 29, 30, 31, 32, 33,\n",
       "       34, 35, 36, 37, 38, 39, 40, 41, 42, 43, 44, 45, 46, 47, 48, 49, 50,\n",
       "       51, 52, 53, 54, 55, 56, 57, 58, 59, 60, 61, 62, 63, 64, 65, 66, 67,\n",
       "       68, 69, 70, 71, 72, 73, 74, 75, 76, 77, 78, 79, 80, 81, 82, 83, 84,\n",
       "       85, 86, 87, 88, 89, 90, 91, 92, 93, 94, 95, 96, 97, 98, 99])"
      ]
     },
     "execution_count": 50,
     "metadata": {},
     "output_type": "execute_result"
    }
   ],
   "source": [
    "x"
   ]
  },
  {
   "cell_type": "code",
   "execution_count": 52,
   "metadata": {
    "collapsed": false
   },
   "outputs": [
    {
     "data": {
      "text/plain": [
       "array([ -4.51639692,   2.69789114,  10.74575256,   2.77158599,\n",
       "        -1.29575531,   6.19852465,   5.05857563,   5.43276932,\n",
       "         8.79995763,  10.35623127,   3.98021794,   8.52586239,\n",
       "        14.21347483,  11.58967987,  10.26971266,  16.61640912,\n",
       "        24.60709333,  24.25108095,  25.90539035,  13.59584229,\n",
       "        19.85936193,  19.74901413,  17.22577522,  27.79138587,\n",
       "        28.39144372,  27.94325668,  26.46449738,  29.4571846 ,\n",
       "        28.49546183,  19.96235731,  29.58919836,  30.67253578,\n",
       "        41.12593021,  28.8317822 ,  35.75936126,  30.02908141,\n",
       "        33.36912643,  40.88504712,  44.41982542,  32.06231403,\n",
       "        37.03729665,  44.42047277,  37.1832115 ,  44.36808552,\n",
       "        45.56988824,  42.94383755,  43.49377183,  46.20132472,\n",
       "        43.78979686,  49.93573803,  51.49247265,  41.16362577,\n",
       "        48.81341904,  52.63774241,  66.54693087,  51.95092464,\n",
       "        65.61846518,  57.94295451,  57.56426762,  61.90485517,\n",
       "        62.26148692,  63.46062682,  59.46070457,  57.5735132 ,\n",
       "        65.72445592,  65.93805956,  62.16737239,  75.30853218,\n",
       "        69.14878997,  75.22245542,  70.64687522,  67.80394986,\n",
       "        70.02534787,  77.80784355,  69.24954285,  75.56315992,\n",
       "        82.49731372,  81.78967023,  87.22960664,  76.31778599,\n",
       "        78.71909437,  84.08348601,  81.20170077,  79.93945333,\n",
       "        79.21412801,  91.13865763,  83.79870345,  86.18504717,\n",
       "        89.15115703,  81.8641544 ,  79.11375417,  91.50706845,\n",
       "        89.08441633,  97.04970622,  95.32064469,  96.78303546,\n",
       "        95.37581614,  98.86013252,  89.22337759,  95.87347366])"
      ]
     },
     "execution_count": 52,
     "metadata": {},
     "output_type": "execute_result"
    }
   ],
   "source": [
    "y"
   ]
  },
  {
   "cell_type": "code",
   "execution_count": null,
   "metadata": {
    "collapsed": true
   },
   "outputs": [],
   "source": []
  }
 ],
 "metadata": {
  "kernelspec": {
   "display_name": "Python 2",
   "language": "python",
   "name": "python2"
  },
  "language_info": {
   "codemirror_mode": {
    "name": "ipython",
    "version": 2
   },
   "file_extension": ".py",
   "mimetype": "text/x-python",
   "name": "python",
   "nbconvert_exporter": "python",
   "pygments_lexer": "ipython2",
   "version": "2.7.6"
  }
 },
 "nbformat": 4,
 "nbformat_minor": 1
}
