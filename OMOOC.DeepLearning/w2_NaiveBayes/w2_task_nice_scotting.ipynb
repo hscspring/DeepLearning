{
 "cells": [
  {
   "cell_type": "markdown",
   "metadata": {},
   "source": [
    "## Navie Bayes"
   ]
  },
  {
   "cell_type": "code",
   "execution_count": 1,
   "metadata": {
    "collapsed": false
   },
   "outputs": [],
   "source": [
    "import os\n",
    "import string\n",
    "import re\n",
    "import pyprind\n",
    "import multiprocessing\n",
    "import jieba\n",
    "import numpy as np\n",
    "import pandas as pd\n",
    "\n",
    "from collections import Counter"
   ]
  },
  {
   "cell_type": "code",
   "execution_count": 2,
   "metadata": {
    "collapsed": false
   },
   "outputs": [
    {
     "name": "stdout",
     "output_type": "stream",
     "text": [
      "     1\t������xp������������������������������������������������������������\r\n",
      "     2\t������������,������������,������������������������,������������������.������������.\r\n",
      "     3\t2���������������������������������������\r\n",
      "     4\t���������������������������������������������\r\n",
      "     5\t������6���������\"������\"���������������^_^���������������������������������������������\r\n"
     ]
    }
   ],
   "source": [
    "!head -n 5 ./pos_train.txt | nl"
   ]
  },
  {
   "cell_type": "code",
   "execution_count": 3,
   "metadata": {
    "collapsed": false
   },
   "outputs": [
    {
     "name": "stderr",
     "output_type": "stream",
     "text": [
      "0%                          100%\n",
      "[############################# ] | ETA: 00:00:03"
     ]
    }
   ],
   "source": [
    "basepath = './'\n",
    "\n",
    "labels = {'pos_train': 1, 'neg_train':0, 'neg_test': '0?', 'pos_test': '1?'}\n",
    "pbar = pyprind.ProgBar(36000)  # 迭代次数\n",
    "df = pd.DataFrame()\n",
    "for i in labels:\n",
    "    path = os.path.join(basepath, i + '.txt')\n",
    "    with open(path) as f:\n",
    "        lines = (line.strip() for line in f.readlines())\n",
    "    for line in lines:\n",
    "        df = df.append([[line, labels[i]]], ignore_index=True)\n",
    "        pbar.update()\n",
    "df.columns = ['review', 'sentiment']"
   ]
  },
  {
   "cell_type": "code",
   "execution_count": 4,
   "metadata": {
    "collapsed": false
   },
   "outputs": [
    {
     "data": {
      "text/html": [
       "<div>\n",
       "<table border=\"1\" class=\"dataframe\">\n",
       "  <thead>\n",
       "    <tr style=\"text-align: right;\">\n",
       "      <th></th>\n",
       "      <th>review</th>\n",
       "      <th>sentiment</th>\n",
       "    </tr>\n",
       "  </thead>\n",
       "  <tbody>\n",
       "    <tr>\n",
       "      <th>0</th>\n",
       "      <td>光驱不大好，给人想散架的的感觉。哈哈，总体上还可以。装系统有点绕手，害的我装了一个小时。</td>\n",
       "      <td>0</td>\n",
       "    </tr>\n",
       "    <tr>\n",
       "      <th>1</th>\n",
       "      <td>2，散热是有点问题，CPU cache 是小了点。不能运行很大的软件。</td>\n",
       "      <td>0</td>\n",
       "    </tr>\n",
       "    <tr>\n",
       "      <th>2</th>\n",
       "      <td>上月入住，将近500元一天的房费，卫生间很小，像经济性酒店。走廊房间一股霉味。浴缸下水管漏水...</td>\n",
       "      <td>0</td>\n",
       "    </tr>\n",
       "    <tr>\n",
       "      <th>3</th>\n",
       "      <td>CTRIP上怎么让它这么忽悠顾客的 ？！！！！！！！</td>\n",
       "      <td>0</td>\n",
       "    </tr>\n",
       "    <tr>\n",
       "      <th>4</th>\n",
       "      <td>于丹教授讲《论语》不能很正确地反映儒家原来的思想，她除了讲《论语》不好外，别的还可以。</td>\n",
       "      <td>0</td>\n",
       "    </tr>\n",
       "  </tbody>\n",
       "</table>\n",
       "</div>"
      ],
      "text/plain": [
       "                                              review sentiment\n",
       "0       光驱不大好，给人想散架的的感觉。哈哈，总体上还可以。装系统有点绕手，害的我装了一个小时。         0\n",
       "1                2，散热是有点问题，CPU cache 是小了点。不能运行很大的软件。         0\n",
       "2  上月入住，将近500元一天的房费，卫生间很小，像经济性酒店。走廊房间一股霉味。浴缸下水管漏水...         0\n",
       "3                         CTRIP上怎么让它这么忽悠顾客的 ？！！！！！！！         0\n",
       "4        于丹教授讲《论语》不能很正确地反映儒家原来的思想，她除了讲《论语》不好外，别的还可以。         0"
      ]
     },
     "execution_count": 4,
     "metadata": {},
     "output_type": "execute_result"
    }
   ],
   "source": [
    "df.head()"
   ]
  },
  {
   "cell_type": "markdown",
   "metadata": {},
   "source": [
    "分词："
   ]
  },
  {
   "cell_type": "code",
   "execution_count": 22,
   "metadata": {
    "collapsed": true
   },
   "outputs": [],
   "source": [
    "def _apply_df(args):\n",
    "    df, func, num, kwargs = args\n",
    "    return num, df.apply(func, **kwargs)\n",
    "\n",
    "def apply_by_multiprocessing(df,func,**kwargs):\n",
    "    workers=kwargs.pop('workers')\n",
    "    pool = multiprocessing.Pool(processes=workers)\n",
    "    result = pool.map(_apply_df, [(d, func, i, kwargs) for i,d in enumerate(np.array_split(df, workers))])\n",
    "    pool.close()\n",
    "    result=sorted(result,key=lambda x:x[0])\n",
    "    return pd.concat([i[1] for i in result])"
   ]
  },
  {
   "cell_type": "code",
   "execution_count": null,
   "metadata": {
    "collapsed": true
   },
   "outputs": [],
   "source": [
    "df['cut_words'] = apply_by_multiprocessing(df.review, jieba.lcut, workers=4)"
   ]
  },
  {
   "cell_type": "code",
   "execution_count": null,
   "metadata": {
    "collapsed": true
   },
   "outputs": [],
   "source": [
    "df.tail()"
   ]
  },
  {
   "cell_type": "code",
   "execution_count": null,
   "metadata": {
    "collapsed": true
   },
   "outputs": [],
   "source": []
  },
  {
   "cell_type": "markdown",
   "metadata": {},
   "source": [
    "## Gradient Descent"
   ]
  },
  {
   "cell_type": "code",
   "execution_count": null,
   "metadata": {
    "collapsed": true
   },
   "outputs": [],
   "source": [
    "# x 是特征向量 -- distance\n",
    "# y 是目标变量 -- accuracy\n",
    "# alpha 是学习速率\n",
    "# theta0 是初始 theta0\n",
    "# theta1 是初始 theta1\n",
    "def gradient_descent(x, y, alpha=0.1, theta0=0, theta1=0):\n",
    "    max_epochs = 1000 # 最大迭代次数\n",
    "    counter = 0      # 初始化计数器\n",
    "    c = cost(theta1, theta0, pga.distance, pga.accuracy)  # 初始化 cost\n",
    "    costs = [c]     # cost 不断更新\n",
    "    # 设置一个收敛阀值以找到成本函数在哪里最小化了\n",
    "    # 当前 cost 与前 cost 的差异小于此值时，说明参数收敛了\n",
    "    convergence_thres = 0.000001  \n",
    "    cprev = c + 10  # 为了第一次能运行起来\n",
    "    theta0s = [theta0]\n",
    "    theta1s = [theta1]\n",
    "\n",
    "    # cost 收敛或者遇到最大迭代次数时，便停止更新\n",
    "    while (np.abs(cprev - c) > convergence_thres) and (counter < max_epochs):\n",
    "        cprev = c\n",
    "        # Alpha 乘以偏导数即我们的更新\n",
    "        update0 = alpha * partial_cost_theta0(theta0, theta1, x, y)\n",
    "        update1 = alpha * partial_cost_theta1(theta0, theta1, x, y)\n",
    "\n",
    "        # 同时更新 theta0、theta1\n",
    "        theta0 -= update0\n",
    "        theta1 -= update1\n",
    "        \n",
    "        # 储存 thetas\n",
    "        theta0s.append(theta0)\n",
    "        theta1s.append(theta1)\n",
    "        \n",
    "        # 计算新的 cost\n",
    "        c = cost(theta0, theta1, pga.distance, pga.accuracy)\n",
    "\n",
    "        # 储存 thetas\n",
    "        costs.append(c)\n",
    "        counter += 1   # Count\n",
    "\n",
    "    return {'theta0': theta0, 'theta1': theta1, \"costs\": costs}\n",
    "\n",
    "print(\"Theta1 =\", gradient_descent(pga.distance, pga.accuracy)['theta1'])"
   ]
  },
  {
   "cell_type": "code",
   "execution_count": null,
   "metadata": {
    "collapsed": true
   },
   "outputs": [],
   "source": []
  }
 ],
 "metadata": {
  "kernelspec": {
   "display_name": "Python 2",
   "language": "python",
   "name": "python2"
  },
  "language_info": {
   "codemirror_mode": {
    "name": "ipython",
    "version": 2
   },
   "file_extension": ".py",
   "mimetype": "text/x-python",
   "name": "python",
   "nbconvert_exporter": "python",
   "pygments_lexer": "ipython2",
   "version": "2.7.6"
  }
 },
 "nbformat": 4,
 "nbformat_minor": 1
}
