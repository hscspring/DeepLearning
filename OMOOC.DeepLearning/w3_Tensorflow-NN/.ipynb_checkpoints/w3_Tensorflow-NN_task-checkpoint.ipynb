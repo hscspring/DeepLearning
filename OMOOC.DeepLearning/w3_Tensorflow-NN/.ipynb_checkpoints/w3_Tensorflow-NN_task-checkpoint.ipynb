{
 "cells": [
  {
   "cell_type": "code",
   "execution_count": 1,
   "metadata": {},
   "outputs": [
    {
     "name": "stdout",
     "output_type": "stream",
     "text": [
      "2017-03-23T05:30:00\n",
      "\n",
      "CPython 2.7.6\n",
      "IPython 5.1.0\n",
      "\n",
      "compiler   : GCC 4.8.4\n",
      "system     : Linux\n",
      "release    : 4.4.0-21-generic\n",
      "machine    : x86_64\n",
      "processor  : x86_64\n",
      "CPU cores  : 4\n",
      "interpreter: 64bit\n"
     ]
    }
   ],
   "source": [
    "%load_ext watermark\n",
    "%watermark"
   ]
  },
  {
   "cell_type": "code",
   "execution_count": 1,
   "metadata": {},
   "outputs": [
    {
     "name": "stdout",
     "output_type": "stream",
     "text": [
      "1.9.0\n"
     ]
    }
   ],
   "source": [
    "import tensorflow as tf\n",
    "print(tf.__version__)"
   ]
  },
  {
   "cell_type": "markdown",
   "metadata": {},
   "source": [
    "## 基本作业  \n",
    "\n",
    "- 用 Tensorflow 实现基于随机梯度下降的线性回归程序\n",
    "- 阅读 Neural network and deep learning 第三章，解释为什么加了 Sigmoid 之后，用交叉熵做损失函数比用差值平方的效果好？\n",
    "- 对给定的一个二维分类数据集，基于 Tensorflow 分别实现无隐层（Sigmoid）、单隐层神经网络（Tanh +　Sigmoid）。比较训练集上分类的准确率，并绘制两个网络的决策界面"
   ]
  },
  {
   "cell_type": "markdown",
   "metadata": {},
   "source": [
    "### Tensorflow 随机梯度下降"
   ]
  },
  {
   "cell_type": "code",
   "execution_count": 2,
   "metadata": {},
   "outputs": [],
   "source": [
    "%matplotlib inline\n",
    "from matplotlib import pyplot as plt\n",
    "import tensorflow as tf\n",
    "import numpy as np"
   ]
  },
  {
   "cell_type": "code",
   "execution_count": 3,
   "metadata": {},
   "outputs": [],
   "source": [
    "x_placeholder = tf.placeholder('float')\n",
    "y_placeholder = tf.placeholder('float')\n",
    "\n",
    "w = tf.Variable(tf.random_uniform([1], -1.0, 1.0), name='W')\n",
    "b = tf.Variable(tf.zeros([1]), name='b')\n",
    "\n",
    "y_bar = w * x_placeholder + b\n",
    "cost = tf.reduce_mean(tf.square(y_bar - y_placeholder))\n",
    "#cost = (tf.square(y_bar - y_placeholder))"
   ]
  },
  {
   "cell_type": "code",
   "execution_count": 4,
   "metadata": {},
   "outputs": [],
   "source": [
    "x = np.arange(0, 20)\n",
    "y = x + np.random.normal(size=20)"
   ]
  },
  {
   "cell_type": "code",
   "execution_count": 5,
   "metadata": {},
   "outputs": [
    {
     "data": {
      "image/png": "[encoded data removed]",
      "text/plain": [
       "<Figure size 432x288 with 1 Axes>"
      ]
     },
     "metadata": {
      "needs_background": "light"
     },
     "output_type": "display_data"
    }
   ],
   "source": [
    "plt.plot(x,y,'.')\n",
    "plt.show()"
   ]
  },
  {
   "cell_type": "code",
   "execution_count": 9,
   "metadata": {},
   "outputs": [
    {
     "name": "stdout",
     "output_type": "stream",
     "text": [
      "[ 0.17274866]\n",
      "[array([-0.66888523], dtype=float32), array([ 0.00083293], dtype=float32)]\n",
      "[ 0.09651934]\n",
      "[array([ 0.95148396], dtype=float32), array([ 0.16881934], dtype=float32)]\n"
     ]
    }
   ],
   "source": [
    "train_step = tf.train.GradientDescentOptimizer(0.001).minimize(cost)\n",
    "with tf.Session() as sess:\n",
    "    sess.run(tf.global_variables_initializer())\n",
    "    for i in range(100):\n",
    "        # 把 x 和 y 放入 一个 feed_dict\n",
    "        temp = np.random.randint(len(x))\n",
    "        feed_dict = {x_placeholder:x[temp].astype(float), y_placeholder:y[temp].astype(float)} \n",
    "        #train_data = np.vstack([x,y]).T\n",
    "        #shuffle(train_data)\n",
    "        \n",
    "        #feed_dict = {x_placeholder:train_data[temp].astype(float), y_placeholder:train_data[temp].astype(float)}\n",
    "        # run 的时候把 feed_dict 作为参数传给 train_step\n",
    "        sess.run(train_step, feed_dict=feed_dict)\n",
    "        cost0 = sess.run(cost, feed_dict=feed_dict)\n",
    "        \n",
    "        #if abs(cost1-cost0) < 0.000001:\n",
    "        #    break\n",
    "        #cost1 = cost0\n",
    "        \n",
    "        if i % 50 == 0:\n",
    "            # 只要用到 x_placeholder 和 y_placeholder 的就要把 feed_dict 数据作为参数给它\n",
    "            #print(sess.run(cost, feed_dict=feed_dict)) \n",
    "            print(cost0)\n",
    "            print(sess.run([w, b]))"
   ]
  },
  {
   "cell_type": "code",
   "execution_count": 66,
   "metadata": {
    "collapsed": true
   },
   "outputs": [],
   "source": [
    "from random import shuffle"
   ]
  },
  {
   "cell_type": "code",
   "execution_count": 112,
   "metadata": {},
   "outputs": [],
   "source": [
    "train_data = np.vstack([x,y]).T"
   ]
  },
  {
   "cell_type": "code",
   "execution_count": 118,
   "metadata": {},
   "outputs": [
    {
     "data": {
      "text/plain": [
       "array([[ 0.       ,  1.0091071],\n",
       "       [ 0.       ,  1.0091071],\n",
       "       [ 0.       ,  1.0091071],\n",
       "       [ 0.       ,  1.0091071],\n",
       "       [ 0.       ,  1.0091071],\n",
       "       [ 0.       ,  1.0091071],\n",
       "       [ 0.       ,  1.0091071],\n",
       "       [ 0.       ,  1.0091071],\n",
       "       [ 0.       ,  1.0091071],\n",
       "       [ 0.       ,  1.0091071],\n",
       "       [ 0.       ,  1.0091071],\n",
       "       [ 0.       ,  1.0091071],\n",
       "       [ 0.       ,  1.0091071],\n",
       "       [ 0.       ,  1.0091071],\n",
       "       [ 0.       ,  1.0091071],\n",
       "       [ 0.       ,  1.0091071],\n",
       "       [ 0.       ,  1.0091071],\n",
       "       [ 0.       ,  1.0091071],\n",
       "       [ 0.       ,  1.0091071],\n",
       "       [ 0.       ,  1.0091071]])"
      ]
     },
     "execution_count": 118,
     "metadata": {},
     "output_type": "execute_result"
    }
   ],
   "source": [
    "shuffle(train_data)\n",
    "train_data"
   ]
  },
  {
   "cell_type": "markdown",
   "metadata": {},
   "source": [
    "### 为什么加了 Sigmoid 之后，用交叉熵做损失函数比用差值平方的效果好？"
   ]
  },
  {
   "cell_type": "markdown",
   "metadata": {
    "collapsed": true
   },
   "source": [
    "Sigmoid 函数随着自变量增加或降低，因变量逐渐平缓，导数逐渐趋近于 0，而损失函数的偏导数中正好包含了每层输出函数对 z 函数的导数，这会导致参数更新速度迅速下降，且效果不会有太大起色；  \n",
    "交叉熵损失函数的偏导数不含每层输出函数对 z 函数的导数。"
   ]
  },
  {
   "cell_type": "markdown",
   "metadata": {},
   "source": [
    "### 对给定的一个二维分类数据集，基于 Tensorflow 分别实现无隐层（Sigmoid）、单隐层神经网络（Tanh +　Sigmoid）。比较训练集上分类的准确率，并绘制两个网络的决策界面"
   ]
  },
  {
   "cell_type": "code",
   "execution_count": 1,
   "metadata": {
    "collapsed": true
   },
   "outputs": [],
   "source": [
    "%matplotlib inline\n",
    "from matplotlib import pyplot as plt\n",
    "import tensorflow as tf\n",
    "import numpy as np"
   ]
  },
  {
   "cell_type": "markdown",
   "metadata": {},
   "source": [
    "### 读取数据"
   ]
  },
  {
   "cell_type": "code",
   "execution_count": 7,
   "metadata": {},
   "outputs": [],
   "source": [
    "data = []\n",
    "with open('./data.csv', 'r') as f:\n",
    "    for line in f.readlines():\n",
    "        data.append(line.strip().split(','))"
   ]
  },
  {
   "cell_type": "code",
   "execution_count": 8,
   "metadata": {},
   "outputs": [],
   "source": [
    "X_train = []\n",
    "y_train = []\n",
    "for i in range(len(data)):\n",
    "    X_train.append((float(data[i][0]), float(data[i][1])))\n",
    "    y_train.append(int(data[i][2]))"
   ]
  },
  {
   "cell_type": "code",
   "execution_count": 9,
   "metadata": {},
   "outputs": [],
   "source": [
    "xtrain = np.array(X_train, dtype=np.float32).T\n",
    "ytrain = np.array(y_train, dtype=np.int32)"
   ]
  },
  {
   "cell_type": "markdown",
   "metadata": {},
   "source": [
    "#### 读取数据另一种方法"
   ]
  },
  {
   "cell_type": "code",
   "execution_count": 592,
   "metadata": {
    "collapsed": true
   },
   "outputs": [],
   "source": [
    "import numpy as np\n",
    "xx, yy = np.loadtxt(\"data.csv\", delimiter=',', usecols=(0, 2), unpack=True)"
   ]
  },
  {
   "cell_type": "markdown",
   "metadata": {},
   "source": [
    "### 定义 w b"
   ]
  },
  {
   "cell_type": "code",
   "execution_count": 74,
   "metadata": {
    "collapsed": true
   },
   "outputs": [],
   "source": [
    "def generate_weight_and_bias(input_dim):\n",
    "    w = tf.Variable(tf.random_uniform([1, input_dim], -1, 1))\n",
    "    bias = tf.Variable(tf.zeros([1, 1]))\n",
    "    return (w, bias)"
   ]
  },
  {
   "cell_type": "code",
   "execution_count": 479,
   "metadata": {},
   "outputs": [],
   "source": [
    "W, b = generate_weight_and_bias(2)"
   ]
  },
  {
   "cell_type": "markdown",
   "metadata": {},
   "source": [
    "#### 测试"
   ]
  },
  {
   "cell_type": "code",
   "execution_count": 476,
   "metadata": {},
   "outputs": [],
   "source": [
    "X = np.concatenate((np.random.rand(2,50), np.random.rand(2,50)+1), axis=1)\n",
    "X = X.astype(np.float32)"
   ]
  },
  {
   "cell_type": "code",
   "execution_count": 423,
   "metadata": {},
   "outputs": [
    {
     "data": {
      "text/plain": [
       "(2, 100)"
      ]
     },
     "execution_count": 423,
     "metadata": {},
     "output_type": "execute_result"
    }
   ],
   "source": [
    "X.shape"
   ]
  },
  {
   "cell_type": "code",
   "execution_count": 477,
   "metadata": {
    "collapsed": true
   },
   "outputs": [],
   "source": [
    "y = np.asarray([0]*50 + [1]*50)"
   ]
  },
  {
   "cell_type": "code",
   "execution_count": 426,
   "metadata": {},
   "outputs": [],
   "source": [
    "with tf.Session() as sess:\n",
    "    sess.run(tf.global_variables_initializer())\n",
    "    res = sess.run(nn_output)"
   ]
  },
  {
   "cell_type": "code",
   "execution_count": 427,
   "metadata": {},
   "outputs": [
    {
     "data": {
      "text/plain": [
       "(1, 100)"
      ]
     },
     "execution_count": 427,
     "metadata": {},
     "output_type": "execute_result"
    }
   ],
   "source": [
    "res.shape"
   ]
  },
  {
   "cell_type": "markdown",
   "metadata": {},
   "source": [
    "### 定义输出和 cost"
   ]
  },
  {
   "cell_type": "code",
   "execution_count": 428,
   "metadata": {},
   "outputs": [],
   "source": [
    "nn_raw_output = tf.add(tf.matmul(W, xtrain.astype(np.float32)), b)"
   ]
  },
  {
   "cell_type": "code",
   "execution_count": 429,
   "metadata": {},
   "outputs": [],
   "source": [
    "final_output = tf.sigmoid(nn_raw_output)"
   ]
  },
  {
   "cell_type": "code",
   "execution_count": 2,
   "metadata": {
    "collapsed": true
   },
   "outputs": [],
   "source": [
    "tf.nn.sigmoid_cross_entropy_with_logits?"
   ]
  },
  {
   "cell_type": "code",
   "execution_count": 430,
   "metadata": {},
   "outputs": [],
   "source": [
    "cost = tf.reduce_mean(tf.nn.sigmoid_cross_entropy_with_logits(logits=nn_raw_output, labels=ytrain.reshape(1, 200).astype(np.float32)))"
   ]
  },
  {
   "cell_type": "markdown",
   "metadata": {},
   "source": [
    "### 定义准确率"
   ]
  },
  {
   "cell_type": "code",
   "execution_count": 13,
   "metadata": {},
   "outputs": [],
   "source": [
    "def accuracy(preds, labels):\n",
    "    return ((preds > 0.5) == labels).sum() / float(len(labels))"
   ]
  },
  {
   "cell_type": "markdown",
   "metadata": {},
   "source": [
    "### Array 形式无隐层"
   ]
  },
  {
   "cell_type": "code",
   "execution_count": 434,
   "metadata": {},
   "outputs": [
    {
     "name": "stdout",
     "output_type": "stream",
     "text": [
      "0.47\n",
      "0.505\n",
      "0.53\n",
      "0.535\n",
      "0.545\n",
      "0.55\n",
      "0.545\n",
      "0.545\n",
      "0.545\n",
      "0.545\n",
      "0.545\n",
      "0.545\n",
      "0.545\n",
      "0.545\n",
      "0.545\n",
      "0.545\n",
      "0.545\n",
      "0.545\n",
      "0.545\n",
      "0.545\n"
     ]
    }
   ],
   "source": [
    "train_step = tf.train.GradientDescentOptimizer(0.1).minimize(cost)\n",
    "with tf.Session() as sess:\n",
    "    sess.run(tf.global_variables_initializer())\n",
    "    for i in range(1000):\n",
    "        sess.run(train_step)\n",
    "        if i % 50 == 0:\n",
    "            preds = sess.run(final_output)\n",
    "            print(accuracy(preds, ytrain))"
   ]
  },
  {
   "cell_type": "markdown",
   "metadata": {},
   "source": [
    "### placeholder 随机梯度下降的线性回归"
   ]
  },
  {
   "cell_type": "code",
   "execution_count": 75,
   "metadata": {},
   "outputs": [],
   "source": [
    "x_placeholder = tf.placeholder('float')\n",
    "y_placeholder = tf.placeholder('float')\n",
    "\n",
    "W, b = generate_weight_and_bias(2)\n",
    "\n",
    "nn_raw_output = tf.add(tf.matmul(W, x_placeholder), b)\n",
    "#final_output = tf.sigmoid(nn_raw_output)\n",
    "#y_bar = W * x_placeholder + b\n",
    "\n",
    "cost = tf.reduce_mean(tf.square(nn_raw_output - y_placeholder))\n",
    "\n",
    "#cost = tf.reduce_mean(tf.nn.sigmoid_cross_entropy_with_logits(logits=nn_raw_output, labels=y_placeholder))"
   ]
  },
  {
   "cell_type": "code",
   "execution_count": 117,
   "metadata": {},
   "outputs": [
    {
     "name": "stdout",
     "output_type": "stream",
     "text": [
      "0.5\n",
      "0.5\n"
     ]
    }
   ],
   "source": [
    "train_step = tf.train.GradientDescentOptimizer(0.001).minimize(cost)\n",
    "with tf.Session() as sess:\n",
    "    sess.run(tf.global_variables_initializer())\n",
    "    for i in range(1000):\n",
    "        temp = np.random.randint(len(ytrain))\n",
    "        feed_dict = {x_placeholder:xtrain[:,temp].reshape(2,1), y_placeholder:ytrain[temp]}         \n",
    "        #feed_dict = {x_placeholder:xtrain.astype(float), y_placeholder:ytrain.astype(float)}\n",
    "        sess.run(train_step, feed_dict=feed_dict)\n",
    "        if i % 500 == 0:\n",
    "            preds = sess.run(nn_raw_output, feed_dict=feed_dict)\n",
    "            y = sess.run(y_placeholder, feed_dict=feed_dict)\n",
    "            print(accuracy(preds, ytrain))\n",
    "    Wl, bl = (sess.run([W, b]))"
   ]
  },
  {
   "cell_type": "code",
   "execution_count": 128,
   "metadata": {},
   "outputs": [
    {
     "data": {
      "text/plain": [
       "array([[-0.03993285, -0.01586039]], dtype=float32)"
      ]
     },
     "execution_count": 128,
     "metadata": {},
     "output_type": "execute_result"
    }
   ],
   "source": [
    "Wl"
   ]
  },
  {
   "cell_type": "code",
   "execution_count": 119,
   "metadata": {},
   "outputs": [
    {
     "data": {
      "text/plain": [
       "(1, 2)"
      ]
     },
     "execution_count": 119,
     "metadata": {},
     "output_type": "execute_result"
    }
   ],
   "source": [
    "Wl.shape"
   ]
  },
  {
   "cell_type": "code",
   "execution_count": 129,
   "metadata": {},
   "outputs": [
    {
     "data": {
      "text/plain": [
       "array([[ 0.41514549]], dtype=float32)"
      ]
     },
     "execution_count": 129,
     "metadata": {},
     "output_type": "execute_result"
    }
   ],
   "source": [
    "bl"
   ]
  },
  {
   "cell_type": "code",
   "execution_count": 120,
   "metadata": {},
   "outputs": [
    {
     "data": {
      "text/plain": [
       "(1, 1)"
      ]
     },
     "execution_count": 120,
     "metadata": {},
     "output_type": "execute_result"
    }
   ],
   "source": [
    "bl.shape"
   ]
  },
  {
   "cell_type": "code",
   "execution_count": 121,
   "metadata": {},
   "outputs": [
    {
     "name": "stdout",
     "output_type": "stream",
     "text": [
      "Automatically created module for IPython interactive environment\n"
     ]
    },
    {
     "data": {
      "image/png": "[encoded data removed]",
      "text/plain": [
       "<matplotlib.figure.Figure at 0x7f1c21806550>"
      ]
     },
     "metadata": {},
     "output_type": "display_data"
    }
   ],
   "source": [
    "print(__doc__)\n",
    "\n",
    "from itertools import product\n",
    "\n",
    "import numpy as np\n",
    "import matplotlib.pyplot as plt\n",
    "\n",
    "from sklearn import datasets\n",
    "from sklearn.tree import DecisionTreeClassifier\n",
    "from sklearn.neighbors import KNeighborsClassifier\n",
    "from sklearn.svm import SVC\n",
    "from sklearn.ensemble import VotingClassifier\n",
    "\n",
    "# Loading some example data\n",
    "#iris = datasets.load_iris()\n",
    "#X = iris.data[:, [0, 2]]\n",
    "#y = iris.target\n",
    "# X.shape = 150, 2\n",
    "X = xtrain.T\n",
    "# y.shape = 150,\n",
    "y = ytrain\n",
    "\n",
    "# Training classifiers\n",
    "#clf1 = DecisionTreeClassifier(max_depth=4)\n",
    "#clf1.fit(X, y)\n",
    "\n",
    "def sigmoid(x):\n",
    "    return 1/(1+np.e ** (-x))\n",
    "\n",
    "# Plotting decision regions\n",
    "x_min, x_max = X[:, 0].min() - 1, X[:, 0].max() + 1\n",
    "y_min, y_max = X[:, 1].min() - 1, X[:, 1].max() + 1\n",
    "xx, yy = np.meshgrid(np.arange(x_min, x_max, 0.1),\n",
    "                     np.arange(y_min, y_max, 0.1))\n",
    "\n",
    "f, axarr = plt.subplots(1, 1, sharex='col', sharey='row', figsize=(5,4))\n",
    "\n",
    "\n",
    "temp = np.c_[xx.ravel(), yy.ravel()].T\n",
    "lr = Wl.dot(temp) + bl\n",
    "\n",
    "\n",
    "Z = lr.reshape(xx.shape)\n",
    "\n",
    "axarr.contourf(xx, yy, Z, alpha=0.4)\n",
    "axarr.scatter(X[:, 0], X[:, 1], c=y, alpha=0.8)\n",
    "axarr.set_title(\"Liner Regression\")\n",
    "\n",
    "plt.show()"
   ]
  },
  {
   "cell_type": "code",
   "execution_count": 124,
   "metadata": {},
   "outputs": [
    {
     "name": "stdout",
     "output_type": "stream",
     "text": [
      "0.44\n",
      "0.545\n",
      "0.545\n",
      "0.545\n",
      "0.545\n",
      "0.545\n",
      "0.545\n",
      "0.545\n",
      "0.545\n",
      "0.545\n",
      "0.545\n",
      "0.545\n",
      "0.545\n",
      "0.545\n",
      "0.545\n",
      "0.545\n",
      "0.545\n",
      "0.545\n",
      "0.545\n",
      "0.545\n"
     ]
    }
   ],
   "source": [
    "train_step = tf.train.GradientDescentOptimizer(0.1).minimize(cost)\n",
    "with tf.Session() as sess:\n",
    "    sess.run(tf.global_variables_initializer())\n",
    "    for i in range(1000):\n",
    "        #temp = np.random.randint(len(ytrain))\n",
    "        #feed_dict = {x_placeholder:xtrain[:,temp], y_placeholder:ytrain[temp]}         \n",
    "        feed_dict = {x_placeholder:xtrain.astype(float), y_placeholder:ytrain.astype(float)}\n",
    "        sess.run(train_step, feed_dict=feed_dict)\n",
    "        if i % 50 == 0:\n",
    "            preds = sess.run(nn_raw_output, feed_dict=feed_dict)\n",
    "            y = sess.run(y_placeholder, feed_dict=feed_dict)\n",
    "            print(accuracy(preds, y))\n",
    "    Wl2, bl2 = (sess.run([W, b]))"
   ]
  },
  {
   "cell_type": "code",
   "execution_count": 125,
   "metadata": {},
   "outputs": [
    {
     "data": {
      "text/plain": [
       "array([[-0.01263863, -0.01368696]], dtype=float32)"
      ]
     },
     "execution_count": 125,
     "metadata": {},
     "output_type": "execute_result"
    }
   ],
   "source": [
    "Wl2"
   ]
  },
  {
   "cell_type": "code",
   "execution_count": 127,
   "metadata": {},
   "outputs": [
    {
     "data": {
      "text/plain": [
       "array([[ 0.5003193]], dtype=float32)"
      ]
     },
     "execution_count": 127,
     "metadata": {},
     "output_type": "execute_result"
    }
   ],
   "source": [
    "bl2"
   ]
  },
  {
   "cell_type": "markdown",
   "metadata": {},
   "source": [
    "### placeholder 无隐层"
   ]
  },
  {
   "cell_type": "code",
   "execution_count": 658,
   "metadata": {
    "collapsed": true
   },
   "outputs": [],
   "source": [
    "x_placeholder = tf.placeholder('float')\n",
    "y_placeholder = tf.placeholder('float')\n",
    "\n",
    "W, b = generate_weight_and_bias(2)\n",
    "\n",
    "nn_raw_output = tf.add(tf.matmul(W, x_placeholder), b)\n",
    "final_output = tf.sigmoid(nn_raw_output)\n",
    "\n",
    "cost = tf.reduce_mean(tf.nn.sigmoid_cross_entropy_with_logits(logits=nn_raw_output, labels=y_placeholder))"
   ]
  },
  {
   "cell_type": "code",
   "execution_count": 660,
   "metadata": {},
   "outputs": [
    {
     "name": "stdout",
     "output_type": "stream",
     "text": [
      "0.525\n",
      "0.545\n",
      "0.545\n",
      "0.545\n",
      "0.545\n"
     ]
    }
   ],
   "source": [
    "train_step = tf.train.GradientDescentOptimizer(0.3).minimize(cost)\n",
    "with tf.Session() as sess:\n",
    "    sess.run(tf.global_variables_initializer())\n",
    "    for i in range(1000):\n",
    "        feed_dict = {x_placeholder:xtrain.astype(float), y_placeholder:ytrain.astype(float)}\n",
    "        sess.run(train_step, feed_dict=feed_dict)\n",
    "        if i % 200 == 0:\n",
    "            preds = sess.run(final_output, feed_dict=feed_dict)\n",
    "            y = sess.run(y_placeholder, feed_dict=feed_dict)\n",
    "            print(accuracy(preds, y))\n",
    "    WnoL, bnoL = (sess.run([W, b]))"
   ]
  },
  {
   "cell_type": "code",
   "execution_count": 663,
   "metadata": {},
   "outputs": [
    {
     "data": {
      "text/plain": [
       "(1, 2)"
      ]
     },
     "execution_count": 663,
     "metadata": {},
     "output_type": "execute_result"
    }
   ],
   "source": [
    "WnoL.shape"
   ]
  },
  {
   "cell_type": "code",
   "execution_count": 664,
   "metadata": {},
   "outputs": [
    {
     "data": {
      "text/plain": [
       "(1, 1)"
      ]
     },
     "execution_count": 664,
     "metadata": {},
     "output_type": "execute_result"
    }
   ],
   "source": [
    "bnoL.shape"
   ]
  },
  {
   "cell_type": "markdown",
   "metadata": {},
   "source": [
    "### 无隐层决策界面"
   ]
  },
  {
   "cell_type": "code",
   "execution_count": 677,
   "metadata": {},
   "outputs": [
    {
     "name": "stdout",
     "output_type": "stream",
     "text": [
      "Automatically created module for IPython interactive environment\n"
     ]
    },
    {
     "data": {
      "image/png": "[encoded data removed]",
      "text/plain": [
       "<matplotlib.figure.Figure at 0x7f2f1fd8dd90>"
      ]
     },
     "metadata": {},
     "output_type": "display_data"
    }
   ],
   "source": [
    "print(__doc__)\n",
    "\n",
    "from itertools import product\n",
    "\n",
    "import numpy as np\n",
    "import matplotlib.pyplot as plt\n",
    "\n",
    "from sklearn import datasets\n",
    "from sklearn.tree import DecisionTreeClassifier\n",
    "from sklearn.neighbors import KNeighborsClassifier\n",
    "from sklearn.svm import SVC\n",
    "from sklearn.ensemble import VotingClassifier\n",
    "\n",
    "# Loading some example data\n",
    "#iris = datasets.load_iris()\n",
    "#X = iris.data[:, [0, 2]]\n",
    "#y = iris.target\n",
    "# X.shape = 150, 2\n",
    "X = xtrain.T\n",
    "# y.shape = 150,\n",
    "y = ytrain\n",
    "\n",
    "# Training classifiers\n",
    "#clf1 = DecisionTreeClassifier(max_depth=4)\n",
    "#clf1.fit(X, y)\n",
    "\n",
    "def sigmoid(x):\n",
    "    return 1/(1+np.e ** (-x))\n",
    "\n",
    "# Plotting decision regions\n",
    "x_min, x_max = X[:, 0].min() - 1, X[:, 0].max() + 1\n",
    "y_min, y_max = X[:, 1].min() - 1, X[:, 1].max() + 1\n",
    "xx, yy = np.meshgrid(np.arange(x_min, x_max, 0.1),\n",
    "                     np.arange(y_min, y_max, 0.1))\n",
    "\n",
    "f, axarr = plt.subplots(1, 1, sharex='col', sharey='row', figsize=(5,4))\n",
    "\n",
    "\n",
    "temp = np.c_[xx.ravel(), yy.ravel()].T\n",
    "MnoL = sigmoid(WnoL.dot(temp) + bnoL)\n",
    "\n",
    "\n",
    "Z = MnoL.reshape(xx.shape)\n",
    "\n",
    "axarr.contourf(xx, yy, Z, alpha=0.4)\n",
    "axarr.scatter(X[:, 0], X[:, 1], c=y, alpha=0.8)\n",
    "axarr.set_title(\"No Layer\")\n",
    "\n",
    "plt.show()"
   ]
  },
  {
   "cell_type": "code",
   "execution_count": 621,
   "metadata": {
    "collapsed": true
   },
   "outputs": [],
   "source": [
    "xx, yy = np.meshgrid(np.arange(x_min, x_max, 0.1),\n",
    "                     np.arange(y_min, y_max, 0.1))"
   ]
  },
  {
   "cell_type": "code",
   "execution_count": 624,
   "metadata": {},
   "outputs": [
    {
     "data": {
      "text/plain": [
       "(65, 60)"
      ]
     },
     "execution_count": 624,
     "metadata": {},
     "output_type": "execute_result"
    }
   ],
   "source": [
    "xx.shape"
   ]
  },
  {
   "cell_type": "code",
   "execution_count": 625,
   "metadata": {},
   "outputs": [
    {
     "data": {
      "text/plain": [
       "(65, 60)"
      ]
     },
     "execution_count": 625,
     "metadata": {},
     "output_type": "execute_result"
    }
   ],
   "source": [
    "yy.shape"
   ]
  },
  {
   "cell_type": "code",
   "execution_count": 629,
   "metadata": {},
   "outputs": [
    {
     "data": {
      "text/plain": [
       "(3900, 2)"
      ]
     },
     "execution_count": 629,
     "metadata": {},
     "output_type": "execute_result"
    }
   ],
   "source": [
    "np.c_[xx.ravel(), yy.ravel()].shape"
   ]
  },
  {
   "cell_type": "markdown",
   "metadata": {},
   "source": [
    "#### 决策树、KNN、SVC、VC 分界"
   ]
  },
  {
   "cell_type": "code",
   "execution_count": 607,
   "metadata": {},
   "outputs": [
    {
     "name": "stdout",
     "output_type": "stream",
     "text": [
      "Automatically created module for IPython interactive environment\n"
     ]
    },
    {
     "data": {
      "image/png": "[encoded data removed]",
      "text/plain": [
       "<matplotlib.figure.Figure at 0x7f2f246c1ed0>"
      ]
     },
     "metadata": {},
     "output_type": "display_data"
    }
   ],
   "source": [
    "print(__doc__)\n",
    "\n",
    "from itertools import product\n",
    "\n",
    "import numpy as np\n",
    "import matplotlib.pyplot as plt\n",
    "\n",
    "from sklearn import datasets\n",
    "from sklearn.tree import DecisionTreeClassifier\n",
    "from sklearn.neighbors import KNeighborsClassifier\n",
    "from sklearn.svm import SVC\n",
    "from sklearn.ensemble import VotingClassifier\n",
    "\n",
    "# Loading some example data\n",
    "#iris = datasets.load_iris()\n",
    "#X = iris.data[:, [0, 2]]\n",
    "#y = iris.target\n",
    "X = xtrain.T\n",
    "y = ytrain\n",
    "\n",
    "# Training classifiers\n",
    "clf1 = DecisionTreeClassifier(max_depth=4)\n",
    "clf2 = KNeighborsClassifier(n_neighbors=7)\n",
    "clf3 = SVC(kernel='rbf', probability=True)\n",
    "eclf = VotingClassifier(estimators=[('dt', clf1), ('knn', clf2),\n",
    "                                    ('svc', clf3)],\n",
    "                        voting='soft', weights=[2, 1, 2])\n",
    "\n",
    "clf1.fit(X, y)\n",
    "clf2.fit(X, y)\n",
    "clf3.fit(X, y)\n",
    "eclf.fit(X, y)\n",
    "\n",
    "# Plotting decision regions\n",
    "x_min, x_max = X[:, 0].min() - 1, X[:, 0].max() + 1\n",
    "y_min, y_max = X[:, 1].min() - 1, X[:, 1].max() + 1\n",
    "xx, yy = np.meshgrid(np.arange(x_min, x_max, 0.1),\n",
    "                     np.arange(y_min, y_max, 0.1))\n",
    "\n",
    "f, axarr = plt.subplots(2, 2, sharex='col', sharey='row', figsize=(10, 8))\n",
    "\n",
    "for idx, clf, tt in zip(product([0, 1], [0, 1]),\n",
    "                        [clf1, clf2, clf3, eclf],\n",
    "                        ['Decision Tree (depth=4)', 'KNN (k=7)',\n",
    "                         'Kernel SVM', 'Soft Voting']):\n",
    "\n",
    "    Z = clf.predict(np.c_[xx.ravel(), yy.ravel()])\n",
    "    Z = Z.reshape(xx.shape)\n",
    "\n",
    "    axarr[idx[0], idx[1]].contourf(xx, yy, Z, alpha=0.4)\n",
    "    axarr[idx[0], idx[1]].scatter(X[:, 0], X[:, 1], c=y, alpha=0.8)\n",
    "    axarr[idx[0], idx[1]].set_title(tt)\n",
    "\n",
    "plt.show()"
   ]
  },
  {
   "cell_type": "markdown",
   "metadata": {},
   "source": [
    "#### 决策界面测试"
   ]
  },
  {
   "cell_type": "code",
   "execution_count": 596,
   "metadata": {},
   "outputs": [
    {
     "name": "stdout",
     "output_type": "stream",
     "text": [
      "Automatically created module for IPython interactive environment\n"
     ]
    },
    {
     "data": {
      "image/png": "[encoded data removed]",
      "text/plain": [
       "<matplotlib.figure.Figure at 0x7f2f264dc990>"
      ]
     },
     "metadata": {},
     "output_type": "display_data"
    }
   ],
   "source": [
    "print(__doc__)\n",
    "\n",
    "from itertools import product\n",
    "\n",
    "import numpy as np\n",
    "import matplotlib.pyplot as plt\n",
    "\n",
    "from sklearn import datasets\n",
    "from sklearn.tree import DecisionTreeClassifier\n",
    "from sklearn.neighbors import KNeighborsClassifier\n",
    "from sklearn.svm import SVC\n",
    "from sklearn.ensemble import VotingClassifier\n",
    "\n",
    "# Loading some example data\n",
    "iris = datasets.load_iris()\n",
    "X = iris.data[:, [0, 2]]\n",
    "y = iris.target\n",
    "\n",
    "# Training classifiers\n",
    "clf1 = DecisionTreeClassifier(max_depth=4)\n",
    "clf2 = KNeighborsClassifier(n_neighbors=7)\n",
    "clf3 = SVC(kernel='rbf', probability=True)\n",
    "eclf = VotingClassifier(estimators=[('dt', clf1), ('knn', clf2),\n",
    "                                    ('svc', clf3)],\n",
    "                        voting='soft', weights=[2, 1, 2])\n",
    "\n",
    "clf1.fit(X, y)\n",
    "clf2.fit(X, y)\n",
    "clf3.fit(X, y)\n",
    "eclf.fit(X, y)\n",
    "\n",
    "# Plotting decision regions\n",
    "x_min, x_max = X[:, 0].min() - 1, X[:, 0].max() + 1\n",
    "y_min, y_max = X[:, 1].min() - 1, X[:, 1].max() + 1\n",
    "xx, yy = np.meshgrid(np.arange(x_min, x_max, 0.1),\n",
    "                     np.arange(y_min, y_max, 0.1))\n",
    "\n",
    "f, axarr = plt.subplots(2, 2, sharex='col', sharey='row', figsize=(10, 8))\n",
    "\n",
    "for idx, clf, tt in zip(product([0, 1], [0, 1]),\n",
    "                        [clf1, clf2, clf3, eclf],\n",
    "                        ['Decision Tree (depth=4)', 'KNN (k=7)',\n",
    "                         'Kernel SVM', 'Soft Voting']):\n",
    "\n",
    "    Z = clf.predict(np.c_[xx.ravel(), yy.ravel()])\n",
    "    Z = Z.reshape(xx.shape)\n",
    "\n",
    "    axarr[idx[0], idx[1]].contourf(xx, yy, Z, alpha=0.4)\n",
    "    axarr[idx[0], idx[1]].scatter(X[:, 0], X[:, 1], c=y, alpha=0.8)\n",
    "    axarr[idx[0], idx[1]].set_title(tt)\n",
    "\n",
    "plt.show()"
   ]
  },
  {
   "cell_type": "markdown",
   "metadata": {},
   "source": [
    "#### placeholder 单隐层"
   ]
  },
  {
   "cell_type": "code",
   "execution_count": 11,
   "metadata": {},
   "outputs": [],
   "source": [
    "x_placeholder = tf.placeholder('float')\n",
    "y_placeholder = tf.placeholder('float')\n",
    "\n",
    "n = 20\n",
    "\n",
    "W1 = tf.Variable(tf.random_uniform([n, 2]), dtype=tf.float32)\n",
    "b1 = tf.Variable(tf.random_uniform([n, 1]), dtype=tf.float32)\n",
    "\n",
    "W2 = tf.Variable(tf.random_uniform([1, n]), dtype=tf.float32)\n",
    "b2 = tf.Variable(tf.random_uniform([1, 1]), dtype=tf.float32)\n",
    "\n",
    "hidden = tf.add(tf.matmul(W1, x_placeholder), b1)\n",
    "nn_raw_output = tf.add(tf.matmul(W2, tf.tanh(hidden)), b2)\n",
    "final_output = tf.sigmoid(nn_raw_output)\n",
    "\n",
    "cost = tf.reduce_mean(tf.nn.sigmoid_cross_entropy_with_logits(logits=nn_raw_output, labels=y_placeholder))"
   ]
  },
  {
   "cell_type": "code",
   "execution_count": 14,
   "metadata": {},
   "outputs": [
    {
     "name": "stdout",
     "output_type": "stream",
     "text": [
      "0.625\n",
      "1.0\n",
      "1.0\n",
      "1.0\n",
      "1.0\n"
     ]
    }
   ],
   "source": [
    "train_step = tf.train.GradientDescentOptimizer(0.3).minimize(cost)\n",
    "costs = []\n",
    "with tf.Session() as sess:\n",
    "    sess.run(tf.global_variables_initializer())\n",
    "    for i in range(1000):\n",
    "        # type 可以不指定形式，数据初始读入的时候已经指定\n",
    "        feed_dict = {x_placeholder:xtrain.astype(float), y_placeholder:ytrain.astype(float)}\n",
    "        sess.run(train_step, feed_dict=feed_dict)\n",
    "        cost_value = sess.run(cost, feed_dict=feed_dict)\n",
    "        costs.append(cost_value)\n",
    "        if i % 200 == 0:\n",
    "            preds = sess.run(final_output, feed_dict=feed_dict)\n",
    "            print(accuracy(preds, ytrain))\n",
    "    W1L1, b1L1 = (sess.run([W1, b1]))\n",
    "    W1L2, b1L2 = (sess.run([W2, b2]))"
   ]
  },
  {
   "cell_type": "code",
   "execution_count": 682,
   "metadata": {},
   "outputs": [
    {
     "data": {
      "text/plain": [
       "(5, 2)"
      ]
     },
     "execution_count": 682,
     "metadata": {},
     "output_type": "execute_result"
    }
   ],
   "source": [
    "W1L1.shape"
   ]
  },
  {
   "cell_type": "code",
   "execution_count": 684,
   "metadata": {},
   "outputs": [
    {
     "data": {
      "text/plain": [
       "(1, 5)"
      ]
     },
     "execution_count": 684,
     "metadata": {},
     "output_type": "execute_result"
    }
   ],
   "source": [
    "W1L2.shape"
   ]
  },
  {
   "cell_type": "markdown",
   "metadata": {},
   "source": [
    "#### 单隐层界面"
   ]
  },
  {
   "cell_type": "code",
   "execution_count": 722,
   "metadata": {},
   "outputs": [
    {
     "name": "stdout",
     "output_type": "stream",
     "text": [
      "Automatically created module for IPython interactive environment\n"
     ]
    },
    {
     "data": {
      "image/png": "[encoded data removed]",
      "text/plain": [
       "<matplotlib.figure.Figure at 0x7f2f1f1770d0>"
      ]
     },
     "metadata": {},
     "output_type": "display_data"
    }
   ],
   "source": [
    "print(__doc__)\n",
    "\n",
    "from itertools import product\n",
    "\n",
    "import numpy as np\n",
    "import matplotlib.pyplot as plt\n",
    "\n",
    "from sklearn import datasets\n",
    "from sklearn.tree import DecisionTreeClassifier\n",
    "from sklearn.neighbors import KNeighborsClassifier\n",
    "from sklearn.svm import SVC\n",
    "from sklearn.ensemble import VotingClassifier\n",
    "\n",
    "# Loading some example data\n",
    "#iris = datasets.load_iris()\n",
    "#X = iris.data[:, [0, 2]]\n",
    "#y = iris.target\n",
    "# X.shape = 150, 2\n",
    "X = xtrain.T\n",
    "# y.shape = 150,\n",
    "y = ytrain\n",
    "\n",
    "# Training classifiers\n",
    "#clf1 = DecisionTreeClassifier(max_depth=4)\n",
    "#clf1.fit(X, y)\n",
    "\n",
    "def sigmoid(x):\n",
    "    return 1/(1+np.e ** (-x))\n",
    "\n",
    "# Plotting decision regions\n",
    "x_min, x_max = X[:, 0].min() - 1, X[:, 0].max() + 1\n",
    "y_min, y_max = X[:, 1].min() - 1, X[:, 1].max() + 1\n",
    "xx, yy = np.meshgrid(np.arange(x_min, x_max, 0.1),\n",
    "                     np.arange(y_min, y_max, 0.1))\n",
    "\n",
    "f, axarr = plt.subplots(1, 1, sharex='col', sharey='row', figsize=(5,4))\n",
    "\n",
    "\n",
    "temp = np.c_[xx.ravel(), yy.ravel()].T\n",
    "M1L = np.tanh(W1L1.dot(temp) + b1L1)\n",
    "M2L = sigmoid(W1L2.dot(M1L) + b1L2)\n",
    "\n",
    "\n",
    "Z = M2L.reshape(xx.shape)\n",
    "\n",
    "axarr.contourf(xx, yy, Z, alpha=0.4)\n",
    "axarr.scatter(X[:, 0], X[:, 1], c=y, alpha=0.8)\n",
    "axarr.set_title(\"1 Layer\")\n",
    "\n",
    "plt.show()"
   ]
  },
  {
   "cell_type": "markdown",
   "metadata": {},
   "source": [
    "#### 小结"
   ]
  },
  {
   "cell_type": "markdown",
   "metadata": {},
   "source": [
    "- 线性回归：0.56\n",
    "- 无隐层：0.56\n",
    "- 单隐层：1.0"
   ]
  },
  {
   "cell_type": "markdown",
   "metadata": {},
   "source": [
    "#### tanh 函数可以换成 sin cos 或任意函数"
   ]
  },
  {
   "cell_type": "markdown",
   "metadata": {},
   "source": [
    "##### sin"
   ]
  },
  {
   "cell_type": "code",
   "execution_count": 717,
   "metadata": {
    "collapsed": true
   },
   "outputs": [],
   "source": [
    "import numpy as np"
   ]
  },
  {
   "cell_type": "code",
   "execution_count": 724,
   "metadata": {},
   "outputs": [],
   "source": [
    "x_placeholder = tf.placeholder('float')\n",
    "y_placeholder = tf.placeholder('float')\n",
    "\n",
    "n = 50\n",
    "\n",
    "W1 = tf.Variable(tf.random_uniform([n, 2]), dtype=tf.float32)\n",
    "b1 = tf.Variable(tf.random_uniform([n, 1]), dtype=tf.float32)\n",
    "\n",
    "W2 = tf.Variable(tf.random_uniform([1, n]), dtype=tf.float32)\n",
    "b2 = tf.Variable(tf.random_uniform([1, 1]), dtype=tf.float32)\n",
    "\n",
    "hidden = tf.add(tf.matmul(W1, x_placeholder), b1)\n",
    "nn_raw_output = tf.add(tf.matmul(W2, tf.sin(hidden)), b2)\n",
    "final_output = tf.sigmoid(nn_raw_output)\n",
    "\n",
    "cost = tf.reduce_mean(tf.nn.sigmoid_cross_entropy_with_logits(logits=nn_raw_output, labels=y_placeholder))"
   ]
  },
  {
   "cell_type": "code",
   "execution_count": 726,
   "metadata": {},
   "outputs": [
    {
     "name": "stdout",
     "output_type": "stream",
     "text": [
      "0.555\n",
      "1.0\n",
      "1.0\n",
      "1.0\n",
      "1.0\n"
     ]
    }
   ],
   "source": [
    "train_step = tf.train.GradientDescentOptimizer(0.3).minimize(cost)\n",
    "costs = []\n",
    "with tf.Session() as sess:\n",
    "    sess.run(tf.global_variables_initializer())\n",
    "    for i in range(1000):\n",
    "        # type 可以不指定形式，数据初始读入的时候已经指定\n",
    "        feed_dict = {x_placeholder:xtrain.astype(float), y_placeholder:ytrain.astype(float)}\n",
    "        sess.run(train_step, feed_dict=feed_dict)\n",
    "        cost_value = sess.run(cost, feed_dict=feed_dict)\n",
    "        costs.append(cost_value)\n",
    "        if i % 200 == 0:\n",
    "            preds = sess.run(final_output, feed_dict=feed_dict)\n",
    "            print(accuracy(preds, ytrain))\n",
    "    W1L1, b1L1 = (sess.run([W1, b1]))\n",
    "    W1L2, b1L2 = (sess.run([W2, b2]))"
   ]
  },
  {
   "cell_type": "code",
   "execution_count": 727,
   "metadata": {},
   "outputs": [
    {
     "name": "stdout",
     "output_type": "stream",
     "text": [
      "Automatically created module for IPython interactive environment\n"
     ]
    },
    {
     "data": {
      "image/png": "[encoded data removed]",
      "text/plain": [
       "<matplotlib.figure.Figure at 0x7f2f24562590>"
      ]
     },
     "metadata": {},
     "output_type": "display_data"
    }
   ],
   "source": [
    "print(__doc__)\n",
    "\n",
    "from itertools import product\n",
    "\n",
    "import numpy as np\n",
    "import matplotlib.pyplot as plt\n",
    "\n",
    "from sklearn import datasets\n",
    "from sklearn.tree import DecisionTreeClassifier\n",
    "from sklearn.neighbors import KNeighborsClassifier\n",
    "from sklearn.svm import SVC\n",
    "from sklearn.ensemble import VotingClassifier\n",
    "\n",
    "# Loading some example data\n",
    "#iris = datasets.load_iris()\n",
    "#X = iris.data[:, [0, 2]]\n",
    "#y = iris.target\n",
    "# X.shape = 150, 2\n",
    "X = xtrain.T\n",
    "# y.shape = 150,\n",
    "y = ytrain\n",
    "\n",
    "# Training classifiers\n",
    "#clf1 = DecisionTreeClassifier(max_depth=4)\n",
    "#clf1.fit(X, y)\n",
    "\n",
    "def sigmoid(x):\n",
    "    return 1/(1+np.e ** (-x))\n",
    "\n",
    "# Plotting decision regions\n",
    "x_min, x_max = X[:, 0].min() - 1, X[:, 0].max() + 1\n",
    "y_min, y_max = X[:, 1].min() - 1, X[:, 1].max() + 1\n",
    "xx, yy = np.meshgrid(np.arange(x_min, x_max, 0.1),\n",
    "                     np.arange(y_min, y_max, 0.1))\n",
    "\n",
    "f, axarr = plt.subplots(1, 1, sharex='col', sharey='row', figsize=(5,4))\n",
    "\n",
    "\n",
    "temp = np.c_[xx.ravel(), yy.ravel()].T\n",
    "M1L = np.sin(W1L1.dot(temp) + b1L1)\n",
    "M2L = sigmoid(W1L2.dot(M1L) + b1L2)\n",
    "\n",
    "\n",
    "Z = M2L.reshape(xx.shape)\n",
    "\n",
    "axarr.contourf(xx, yy, Z, alpha=0.4)\n",
    "axarr.scatter(X[:, 0], X[:, 1], c=y, alpha=0.8)\n",
    "axarr.set_title(\"1 Layer\")\n",
    "\n",
    "plt.show()"
   ]
  },
  {
   "cell_type": "markdown",
   "metadata": {},
   "source": [
    "##### cos"
   ]
  },
  {
   "cell_type": "code",
   "execution_count": 729,
   "metadata": {},
   "outputs": [
    {
     "name": "stdout",
     "output_type": "stream",
     "text": [
      "0.67\n",
      "1.0\n",
      "1.0\n",
      "1.0\n",
      "1.0\n",
      "Automatically created module for IPython interactive environment\n"
     ]
    },
    {
     "data": {
      "image/png": "[encoded data removed]",
      "text/plain": [
       "<matplotlib.figure.Figure at 0x7f2f1f55bd50>"
      ]
     },
     "metadata": {},
     "output_type": "display_data"
    }
   ],
   "source": [
    "x_placeholder = tf.placeholder('float')\n",
    "y_placeholder = tf.placeholder('float')\n",
    "\n",
    "n = 5\n",
    "\n",
    "W1 = tf.Variable(tf.random_uniform([n, 2]), dtype=tf.float32)\n",
    "b1 = tf.Variable(tf.random_uniform([n, 1]), dtype=tf.float32)\n",
    "\n",
    "W2 = tf.Variable(tf.random_uniform([1, n]), dtype=tf.float32)\n",
    "b2 = tf.Variable(tf.random_uniform([1, 1]), dtype=tf.float32)\n",
    "\n",
    "hidden = tf.add(tf.matmul(W1, x_placeholder), b1)\n",
    "nn_raw_output = tf.add(tf.matmul(W2, tf.cos(hidden)), b2)\n",
    "final_output = tf.sigmoid(nn_raw_output)\n",
    "\n",
    "cost = tf.reduce_mean(tf.nn.sigmoid_cross_entropy_with_logits(logits=nn_raw_output, labels=y_placeholder))\n",
    "\n",
    "\n",
    "train_step = tf.train.GradientDescentOptimizer(0.3).minimize(cost)\n",
    "costs = []\n",
    "with tf.Session() as sess:\n",
    "    sess.run(tf.global_variables_initializer())\n",
    "    for i in range(1000):\n",
    "        # type 可以不指定形式，数据初始读入的时候已经指定\n",
    "        feed_dict = {x_placeholder:xtrain.astype(float), y_placeholder:ytrain.astype(float)}\n",
    "        sess.run(train_step, feed_dict=feed_dict)\n",
    "        cost_value = sess.run(cost, feed_dict=feed_dict)\n",
    "        costs.append(cost_value)\n",
    "        if i % 200 == 0:\n",
    "            preds = sess.run(final_output, feed_dict=feed_dict)\n",
    "            print(accuracy(preds, ytrain))\n",
    "    W1L1, b1L1 = (sess.run([W1, b1]))\n",
    "    W1L2, b1L2 = (sess.run([W2, b2]))\n",
    "\n",
    "\n",
    "print(__doc__)\n",
    "\n",
    "from itertools import product\n",
    "\n",
    "import numpy as np\n",
    "import matplotlib.pyplot as plt\n",
    "\n",
    "from sklearn import datasets\n",
    "from sklearn.tree import DecisionTreeClassifier\n",
    "from sklearn.neighbors import KNeighborsClassifier\n",
    "from sklearn.svm import SVC\n",
    "from sklearn.ensemble import VotingClassifier\n",
    "\n",
    "# Loading some example data\n",
    "#iris = datasets.load_iris()\n",
    "#X = iris.data[:, [0, 2]]\n",
    "#y = iris.target\n",
    "# X.shape = 150, 2\n",
    "X = xtrain.T\n",
    "# y.shape = 150,\n",
    "y = ytrain\n",
    "\n",
    "# Training classifiers\n",
    "#clf1 = DecisionTreeClassifier(max_depth=4)\n",
    "#clf1.fit(X, y)\n",
    "\n",
    "def sigmoid(x):\n",
    "    return 1/(1+np.e ** (-x))\n",
    "\n",
    "# Plotting decision regions\n",
    "x_min, x_max = X[:, 0].min() - 1, X[:, 0].max() + 1\n",
    "y_min, y_max = X[:, 1].min() - 1, X[:, 1].max() + 1\n",
    "xx, yy = np.meshgrid(np.arange(x_min, x_max, 0.1),\n",
    "                     np.arange(y_min, y_max, 0.1))\n",
    "\n",
    "f, axarr = plt.subplots(1, 1, sharex='col', sharey='row', figsize=(5,4))\n",
    "\n",
    "\n",
    "temp = np.c_[xx.ravel(), yy.ravel()].T\n",
    "M1L = np.cos(W1L1.dot(temp) + b1L1)\n",
    "M2L = sigmoid(W1L2.dot(M1L) + b1L2)\n",
    "\n",
    "\n",
    "Z = M2L.reshape(xx.shape)\n",
    "\n",
    "axarr.contourf(xx, yy, Z, alpha=0.4)\n",
    "axarr.scatter(X[:, 0], X[:, 1], c=y, alpha=0.8)\n",
    "axarr.set_title(\"1 Layer\")\n",
    "\n",
    "plt.show()"
   ]
  },
  {
   "cell_type": "markdown",
   "metadata": {},
   "source": [
    "##### $1/x$ ,   $(1+x)/(1+x+x^2)$"
   ]
  },
  {
   "cell_type": "code",
   "execution_count": 805,
   "metadata": {},
   "outputs": [
    {
     "name": "stdout",
     "output_type": "stream",
     "text": [
      "0.6\n",
      "0.985\n",
      "1.0\n",
      "1.0\n",
      "1.0\n",
      "Automatically created module for IPython interactive environment\n"
     ]
    },
    {
     "data": {
      "image/png": "[encoded data removed]",
      "text/plain": [
       "<matplotlib.figure.Figure at 0x7f2f1cb20dd0>"
      ]
     },
     "metadata": {},
     "output_type": "display_data"
    }
   ],
   "source": [
    "x_placeholder = tf.placeholder('float')\n",
    "y_placeholder = tf.placeholder('float')\n",
    "\n",
    "n = 5\n",
    "\n",
    "W1 = tf.Variable(tf.random_uniform([n, 2]), dtype=tf.float32)\n",
    "b1 = tf.Variable(tf.random_uniform([n, 1]), dtype=tf.float32)\n",
    "\n",
    "W2 = tf.Variable(tf.random_uniform([1, n]), dtype=tf.float32)\n",
    "b2 = tf.Variable(tf.random_uniform([1, 1]), dtype=tf.float32)\n",
    "\n",
    "hidden = tf.add(tf.matmul(W1, x_placeholder), b1)\n",
    "nn_raw_output = tf.add(tf.matmul(W2, (1.+hidden)/(1+hidden+hidden*hidden)), b2)\n",
    "final_output = tf.sigmoid(nn_raw_output)\n",
    "\n",
    "cost = tf.reduce_mean(tf.nn.sigmoid_cross_entropy_with_logits(logits=nn_raw_output, labels=y_placeholder))\n",
    "\n",
    "\n",
    "train_step = tf.train.GradientDescentOptimizer(0.3).minimize(cost)\n",
    "costs = []\n",
    "with tf.Session() as sess:\n",
    "    sess.run(tf.global_variables_initializer())\n",
    "    for i in range(1000):\n",
    "        # type 可以不指定形式，数据初始读入的时候已经指定\n",
    "        feed_dict = {x_placeholder:xtrain.astype(float), y_placeholder:ytrain.astype(float)}\n",
    "        sess.run(train_step, feed_dict=feed_dict)\n",
    "        cost_value = sess.run(cost, feed_dict=feed_dict)\n",
    "        costs.append(cost_value)\n",
    "        if i % 200 == 0:\n",
    "            preds = sess.run(final_output, feed_dict=feed_dict)\n",
    "            print(accuracy(preds, ytrain))\n",
    "    W1L1, b1L1 = (sess.run([W1, b1]))\n",
    "    W1L2, b1L2 = (sess.run([W2, b2]))\n",
    "\n",
    "\n",
    "print(__doc__)\n",
    "\n",
    "from itertools import product\n",
    "\n",
    "import numpy as np\n",
    "import matplotlib.pyplot as plt\n",
    "\n",
    "from sklearn import datasets\n",
    "from sklearn.tree import DecisionTreeClassifier\n",
    "from sklearn.neighbors import KNeighborsClassifier\n",
    "from sklearn.svm import SVC\n",
    "from sklearn.ensemble import VotingClassifier\n",
    "\n",
    "# Loading some example data\n",
    "#iris = datasets.load_iris()\n",
    "#X = iris.data[:, [0, 2]]\n",
    "#y = iris.target\n",
    "# X.shape = 150, 2\n",
    "X = xtrain.T\n",
    "# y.shape = 150,\n",
    "y = ytrain\n",
    "\n",
    "# Training classifiers\n",
    "#clf1 = DecisionTreeClassifier(max_depth=4)\n",
    "#clf1.fit(X, y)\n",
    "\n",
    "def sigmoid(x):\n",
    "    return 1/(1+np.e ** (-x))\n",
    "\n",
    "# Plotting decision regions\n",
    "x_min, x_max = X[:, 0].min() - 1, X[:, 0].max() + 1\n",
    "y_min, y_max = X[:, 1].min() - 1, X[:, 1].max() + 1\n",
    "xx, yy = np.meshgrid(np.arange(x_min, x_max, 0.1),\n",
    "                     np.arange(y_min, y_max, 0.1))\n",
    "\n",
    "f, axarr = plt.subplots(1, 1, sharex='col', sharey='row', figsize=(5,4))\n",
    "\n",
    "\n",
    "temp = np.c_[xx.ravel(), yy.ravel()].T\n",
    "\n",
    "H = (W1L1.dot(temp) + b1L1)\n",
    "M1L = (1.+H)/(1+H+H*H)\n",
    "M2L = sigmoid(W1L2.dot(M1L) + b1L2)\n",
    "\n",
    "\n",
    "Z = M2L.reshape(xx.shape)\n",
    "\n",
    "axarr.contourf(xx, yy, Z, alpha=0.4)\n",
    "axarr.scatter(X[:, 0], X[:, 1], c=y, alpha=0.8)\n",
    "axarr.set_title(\"1 Layer\")\n",
    "\n",
    "plt.show()"
   ]
  },
  {
   "cell_type": "markdown",
   "metadata": {},
   "source": [
    "##### tanh 测试神经元个数的影响"
   ]
  },
  {
   "cell_type": "code",
   "execution_count": 44,
   "metadata": {
    "collapsed": true
   },
   "outputs": [],
   "source": [
    "data = []\n",
    "with open('./data.csv', 'r') as f:\n",
    "    for line in f.readlines():\n",
    "        data.append(line.strip().split(','))\n",
    "\n",
    "X_train = []\n",
    "y_train = []\n",
    "for i in range(len(data)):\n",
    "    X_train.append((float(data[i][0]), float(data[i][1])))\n",
    "    y_train.append(int(data[i][2]))\n",
    "\n",
    "\n",
    "xtrain = np.array(X_train, dtype=np.float32).T\n",
    "ytrain = np.array(y_train, dtype=np.int32)"
   ]
  },
  {
   "cell_type": "code",
   "execution_count": 48,
   "metadata": {},
   "outputs": [
    {
     "name": "stdout",
     "output_type": "stream",
     "text": [
      "0.618811881188\n",
      "0.816831683168\n",
      "0.990099009901\n",
      "0.990099009901\n",
      "0.990099009901\n",
      "Automatically created module for IPython interactive environment\n"
     ]
    },
    {
     "data": {
      "image/png": "[encoded data removed]",
      "text/plain": [
       "<matplotlib.figure.Figure at 0x7f65b06b7a90>"
      ]
     },
     "metadata": {},
     "output_type": "display_data"
    }
   ],
   "source": [
    "x_placeholder = tf.placeholder('float')\n",
    "y_placeholder = tf.placeholder('float')\n",
    "\n",
    "n = 3\n",
    "\n",
    "W1 = tf.Variable(tf.random_uniform([n, 2]), dtype=tf.float32)\n",
    "b1 = tf.Variable(tf.random_uniform([n, 1]), dtype=tf.float32)\n",
    "\n",
    "W2 = tf.Variable(tf.random_uniform([1, n]), dtype=tf.float32)\n",
    "b2 = tf.Variable(tf.random_uniform([1, 1]), dtype=tf.float32)\n",
    "\n",
    "hidden = tf.add(tf.matmul(W1, x_placeholder), b1)\n",
    "nn_raw_output = tf.add(tf.matmul(W2, tf.tanh(hidden)), b2)\n",
    "final_output = tf.sigmoid(nn_raw_output)\n",
    "\n",
    "cost = tf.reduce_mean(tf.nn.sigmoid_cross_entropy_with_logits(logits=nn_raw_output, labels=y_placeholder))\n",
    "\n",
    "\n",
    "train_step = tf.train.GradientDescentOptimizer(0.3).minimize(cost)\n",
    "costs = []\n",
    "with tf.Session() as sess:\n",
    "    sess.run(tf.global_variables_initializer())\n",
    "    for i in range(1000):\n",
    "        # type 可以不指定形式，数据初始读入的时候已经指定\n",
    "        feed_dict = {x_placeholder:xtrain.astype(float), y_placeholder:ytrain.astype(float)}\n",
    "        sess.run(train_step, feed_dict=feed_dict)\n",
    "        cost_value = sess.run(cost, feed_dict=feed_dict)\n",
    "        costs.append(cost_value)\n",
    "        if i % 200 == 0:\n",
    "            preds = sess.run(final_output, feed_dict=feed_dict)\n",
    "            print(accuracy(preds, ytrain))\n",
    "    W1L1, b1L1 = (sess.run([W1, b1]))\n",
    "    W1L2, b1L2 = (sess.run([W2, b2]))\n",
    "\n",
    "\n",
    "print(__doc__)\n",
    "\n",
    "from itertools import product\n",
    "\n",
    "import numpy as np\n",
    "import matplotlib.pyplot as plt\n",
    "\n",
    "from sklearn import datasets\n",
    "from sklearn.tree import DecisionTreeClassifier\n",
    "from sklearn.neighbors import KNeighborsClassifier\n",
    "from sklearn.svm import SVC\n",
    "from sklearn.ensemble import VotingClassifier\n",
    "\n",
    "# Loading some example data\n",
    "#iris = datasets.load_iris()\n",
    "#X = iris.data[:, [0, 2]]\n",
    "#y = iris.target\n",
    "# X.shape = 150, 2\n",
    "X = xtrain.T\n",
    "# y.shape = 150,\n",
    "y = ytrain\n",
    "\n",
    "# Training classifiers\n",
    "#clf1 = DecisionTreeClassifier(max_depth=4)\n",
    "#clf1.fit(X, y)\n",
    "\n",
    "def sigmoid(x):\n",
    "    return 1/(1+np.e ** (-x))\n",
    "\n",
    "# Plotting decision regions\n",
    "x_min, x_max = X[:, 0].min() - 1, X[:, 0].max() + 1\n",
    "y_min, y_max = X[:, 1].min() - 1, X[:, 1].max() + 1\n",
    "xx, yy = np.meshgrid(np.arange(x_min, x_max, 0.1),\n",
    "                     np.arange(y_min, y_max, 0.1))\n",
    "\n",
    "f, axarr = plt.subplots(1, 1, sharex='col', sharey='row', figsize=(5,4))\n",
    "\n",
    "\n",
    "temp = np.c_[xx.ravel(), yy.ravel()].T\n",
    "M1L = np.tanh(W1L1.dot(temp) + b1L1)\n",
    "M2L = sigmoid(W1L2.dot(M1L) + b1L2)\n",
    "\n",
    "\n",
    "Z = M2L.reshape(xx.shape)\n",
    "\n",
    "axarr.contourf(xx, yy, Z, alpha=0.4)\n",
    "axarr.scatter(X[:, 0], X[:, 1], c=y, alpha=0.8)\n",
    "axarr.set_title(\"1 Layer\")\n",
    "\n",
    "plt.show()"
   ]
  },
  {
   "cell_type": "code",
   "execution_count": 38,
   "metadata": {},
   "outputs": [
    {
     "data": {
      "text/plain": [
       "(2, 3900)"
      ]
     },
     "execution_count": 38,
     "metadata": {},
     "output_type": "execute_result"
    }
   ],
   "source": [
    "temp.shape"
   ]
  },
  {
   "cell_type": "code",
   "execution_count": 42,
   "metadata": {},
   "outputs": [
    {
     "data": {
      "text/plain": [
       "(3900,)"
      ]
     },
     "execution_count": 42,
     "metadata": {},
     "output_type": "execute_result"
    }
   ],
   "source": [
    "xx.ravel().shape"
   ]
  },
  {
   "cell_type": "code",
   "execution_count": 36,
   "metadata": {},
   "outputs": [
    {
     "data": {
      "text/plain": [
       "array([-2.9684155, -2.8684155, -2.7684155, ...,  2.7315845,  2.8315845,\n",
       "        2.9315845])"
      ]
     },
     "execution_count": 36,
     "metadata": {},
     "output_type": "execute_result"
    }
   ],
   "source": [
    "xx.ravel()"
   ]
  },
  {
   "cell_type": "code",
   "execution_count": 37,
   "metadata": {},
   "outputs": [
    {
     "data": {
      "text/plain": [
       "array([-3.24357796, -3.24357796, -3.24357796, ...,  3.15642204,\n",
       "        3.15642204,  3.15642204])"
      ]
     },
     "execution_count": 37,
     "metadata": {},
     "output_type": "execute_result"
    }
   ],
   "source": [
    "yy.ravel()"
   ]
  },
  {
   "cell_type": "code",
   "execution_count": 24,
   "metadata": {},
   "outputs": [
    {
     "data": {
      "text/plain": [
       "(60,)"
      ]
     },
     "execution_count": 24,
     "metadata": {},
     "output_type": "execute_result"
    }
   ],
   "source": [
    "np.arange(x_min, x_max, 0.1).shape"
   ]
  },
  {
   "cell_type": "code",
   "execution_count": 26,
   "metadata": {},
   "outputs": [
    {
     "data": {
      "text/plain": [
       "(65,)"
      ]
     },
     "execution_count": 26,
     "metadata": {},
     "output_type": "execute_result"
    }
   ],
   "source": [
    "np.arange(y_min, y_max, 0.1).shape"
   ]
  },
  {
   "cell_type": "code",
   "execution_count": 22,
   "metadata": {},
   "outputs": [
    {
     "data": {
      "text/plain": [
       "(65, 60)"
      ]
     },
     "execution_count": 22,
     "metadata": {},
     "output_type": "execute_result"
    }
   ],
   "source": [
    "xx.shape"
   ]
  },
  {
   "cell_type": "code",
   "execution_count": 27,
   "metadata": {},
   "outputs": [
    {
     "data": {
      "text/plain": [
       "(65, 60)"
      ]
     },
     "execution_count": 27,
     "metadata": {},
     "output_type": "execute_result"
    }
   ],
   "source": [
    "yy.shape"
   ]
  },
  {
   "cell_type": "code",
   "execution_count": 31,
   "metadata": {},
   "outputs": [
    {
     "data": {
      "text/plain": [
       "array([-2.9684155, -2.9684155, -2.9684155, -2.9684155, -2.9684155,\n",
       "       -2.9684155, -2.9684155, -2.9684155, -2.9684155, -2.9684155,\n",
       "       -2.9684155, -2.9684155, -2.9684155, -2.9684155, -2.9684155,\n",
       "       -2.9684155, -2.9684155, -2.9684155, -2.9684155, -2.9684155,\n",
       "       -2.9684155, -2.9684155, -2.9684155, -2.9684155, -2.9684155,\n",
       "       -2.9684155, -2.9684155, -2.9684155, -2.9684155, -2.9684155,\n",
       "       -2.9684155, -2.9684155, -2.9684155, -2.9684155, -2.9684155,\n",
       "       -2.9684155, -2.9684155, -2.9684155, -2.9684155, -2.9684155,\n",
       "       -2.9684155, -2.9684155, -2.9684155, -2.9684155, -2.9684155,\n",
       "       -2.9684155, -2.9684155, -2.9684155, -2.9684155, -2.9684155,\n",
       "       -2.9684155, -2.9684155, -2.9684155, -2.9684155, -2.9684155,\n",
       "       -2.9684155, -2.9684155, -2.9684155, -2.9684155, -2.9684155,\n",
       "       -2.9684155, -2.9684155, -2.9684155, -2.9684155, -2.9684155])"
      ]
     },
     "execution_count": 31,
     "metadata": {},
     "output_type": "execute_result"
    }
   ],
   "source": [
    "xx[:,0]"
   ]
  },
  {
   "cell_type": "code",
   "execution_count": 33,
   "metadata": {},
   "outputs": [
    {
     "data": {
      "text/plain": [
       "array([-3.24357796, -3.24357796, -3.24357796, -3.24357796, -3.24357796,\n",
       "       -3.24357796, -3.24357796, -3.24357796, -3.24357796, -3.24357796,\n",
       "       -3.24357796, -3.24357796, -3.24357796, -3.24357796, -3.24357796,\n",
       "       -3.24357796, -3.24357796, -3.24357796, -3.24357796, -3.24357796,\n",
       "       -3.24357796, -3.24357796, -3.24357796, -3.24357796, -3.24357796,\n",
       "       -3.24357796, -3.24357796, -3.24357796, -3.24357796, -3.24357796,\n",
       "       -3.24357796, -3.24357796, -3.24357796, -3.24357796, -3.24357796,\n",
       "       -3.24357796, -3.24357796, -3.24357796, -3.24357796, -3.24357796,\n",
       "       -3.24357796, -3.24357796, -3.24357796, -3.24357796, -3.24357796,\n",
       "       -3.24357796, -3.24357796, -3.24357796, -3.24357796, -3.24357796,\n",
       "       -3.24357796, -3.24357796, -3.24357796, -3.24357796, -3.24357796,\n",
       "       -3.24357796, -3.24357796, -3.24357796, -3.24357796, -3.24357796])"
      ]
     },
     "execution_count": 33,
     "metadata": {},
     "output_type": "execute_result"
    }
   ],
   "source": [
    "yy[0]"
   ]
  },
  {
   "cell_type": "code",
   "execution_count": 20,
   "metadata": {},
   "outputs": [
    {
     "data": {
      "text/plain": [
       "0.3420662"
      ]
     },
     "execution_count": 20,
     "metadata": {},
     "output_type": "execute_result"
    }
   ],
   "source": [
    "costs[-1]"
   ]
  },
  {
   "cell_type": "code",
   "execution_count": 17,
   "metadata": {},
   "outputs": [
    {
     "data": {
      "text/plain": [
       "[<matplotlib.lines.Line2D at 0x7f65b099ed50>]"
      ]
     },
     "execution_count": 17,
     "metadata": {},
     "output_type": "execute_result"
    },
    {
     "data": {
      "image/png": "[encoded data removed]",
      "text/plain": [
       "<matplotlib.figure.Figure at 0x7f65b14a5fd0>"
      ]
     },
     "metadata": {},
     "output_type": "display_data"
    }
   ],
   "source": [
    "plt.plot(costs)"
   ]
  },
  {
   "cell_type": "code",
   "execution_count": 806,
   "metadata": {},
   "outputs": [],
   "source": [
    "h = np.linspace(-100, 100)\n",
    "hy = (1.+h)/(1 +h+h*h )"
   ]
  },
  {
   "cell_type": "code",
   "execution_count": 807,
   "metadata": {},
   "outputs": [
    {
     "data": {
      "image/png": "[encoded data removed]",
      "text/plain": [
       "<matplotlib.figure.Figure at 0x7f2f1cc0f0d0>"
      ]
     },
     "metadata": {},
     "output_type": "display_data"
    }
   ],
   "source": [
    "plt.plot(h,hy)\n",
    "plt.show()"
   ]
  },
  {
   "cell_type": "code",
   "execution_count": null,
   "metadata": {
    "collapsed": true
   },
   "outputs": [],
   "source": []
  },
  {
   "cell_type": "markdown",
   "metadata": {},
   "source": [
    "#### 尝试1"
   ]
  },
  {
   "cell_type": "code",
   "execution_count": 119,
   "metadata": {},
   "outputs": [],
   "source": [
    "import numpy as np"
   ]
  },
  {
   "cell_type": "code",
   "execution_count": 120,
   "metadata": {
    "collapsed": true
   },
   "outputs": [],
   "source": [
    "import tensorflow as tf\n",
    "sess = tf.InteractiveSession()\n",
    "x = tf.placeholder(tf.float32, [None, 1])\n",
    "W = tf.Variable(tf.zeros([1, 1]), name='weights')\n",
    "b = tf.Variable(0., name='bias')"
   ]
  },
  {
   "cell_type": "code",
   "execution_count": 122,
   "metadata": {},
   "outputs": [],
   "source": [
    "y = tf.nn.sigmoid(tf.matmul(x, W) + b)"
   ]
  },
  {
   "cell_type": "code",
   "execution_count": 123,
   "metadata": {
    "collapsed": true
   },
   "outputs": [],
   "source": [
    "y_ = tf.placeholder(tf.float32, [None, 1])\n",
    "cross_entropy = tf.reduce_mean(-tf.reduce_sum(y_ * tf.log(y), reduction_indices=[1]))"
   ]
  },
  {
   "cell_type": "code",
   "execution_count": 124,
   "metadata": {
    "collapsed": true
   },
   "outputs": [],
   "source": [
    "train_step = tf.train.GradientDescentOptimizer(0.001).minimize(cross_entropy)"
   ]
  },
  {
   "cell_type": "code",
   "execution_count": 125,
   "metadata": {
    "collapsed": true
   },
   "outputs": [],
   "source": [
    "sess = tf.Session()"
   ]
  },
  {
   "cell_type": "code",
   "execution_count": 126,
   "metadata": {
    "collapsed": true
   },
   "outputs": [],
   "source": [
    "sess.run(tf.global_variables_initializer())"
   ]
  },
  {
   "cell_type": "code",
   "execution_count": 127,
   "metadata": {},
   "outputs": [],
   "source": [
    "for i in range(1000):\n",
    "    sess.run(train_step,feed_dict={x:xtrain, y_:ytrain})\n",
    "#    print(sess.run([W,b]))"
   ]
  },
  {
   "cell_type": "code",
   "execution_count": 128,
   "metadata": {
    "collapsed": true
   },
   "outputs": [],
   "source": [
    "correct_prediction = tf.equal(tf.argmax(y,1), tf.argmax(y_,1))"
   ]
  },
  {
   "cell_type": "code",
   "execution_count": 129,
   "metadata": {
    "collapsed": true
   },
   "outputs": [],
   "source": [
    "accuracy = tf.reduce_mean(tf.cast(correct_prediction, tf.float32))"
   ]
  },
  {
   "cell_type": "markdown",
   "metadata": {
    "collapsed": true
   },
   "source": [
    "#### 尝试2"
   ]
  },
  {
   "cell_type": "code",
   "execution_count": 116,
   "metadata": {},
   "outputs": [
    {
     "name": "stdout",
     "output_type": "stream",
     "text": [
      "[array([[ 0.],\n",
      "       [ 0.]], dtype=float32), 0.0]\n",
      "[array([[ 0.],\n",
      "       [ 0.]], dtype=float32), 0.0]\n",
      "[array([[ 0.],\n",
      "       [ 0.]], dtype=float32), 0.0]\n",
      "[array([[ 0.],\n",
      "       [ 0.]], dtype=float32), 0.0]\n",
      "[array([[ 0.],\n",
      "       [ 0.]], dtype=float32), 0.0]\n",
      "[array([[ 0.],\n",
      "       [ 0.]], dtype=float32), 0.0]\n",
      "[array([[ 0.],\n",
      "       [ 0.]], dtype=float32), 0.0]\n",
      "[array([[ 0.],\n",
      "       [ 0.]], dtype=float32), 0.0]\n",
      "[array([[ 0.],\n",
      "       [ 0.]], dtype=float32), 0.0]\n",
      "[array([[ 0.],\n",
      "       [ 0.]], dtype=float32), 0.0]\n",
      "[array([[ 0.],\n",
      "       [ 0.]], dtype=float32), 0.0]\n",
      "[array([[ 0.],\n",
      "       [ 0.]], dtype=float32), 0.0]\n",
      "[array([[ 0.],\n",
      "       [ 0.]], dtype=float32), 0.0]\n",
      "[array([[ 0.],\n",
      "       [ 0.]], dtype=float32), 0.0]\n",
      "[array([[ 0.],\n",
      "       [ 0.]], dtype=float32), 0.0]\n",
      "[array([[ 0.],\n",
      "       [ 0.]], dtype=float32), 0.0]\n",
      "[array([[ 0.],\n",
      "       [ 0.]], dtype=float32), 0.0]\n",
      "[array([[ 0.],\n",
      "       [ 0.]], dtype=float32), 0.0]\n",
      "[array([[ 0.],\n",
      "       [ 0.]], dtype=float32), 0.0]\n",
      "[array([[ 0.],\n",
      "       [ 0.]], dtype=float32), 0.0]\n",
      "[array([[ 0.],\n",
      "       [ 0.]], dtype=float32), 0.0]\n",
      "[array([[ 0.],\n",
      "       [ 0.]], dtype=float32), 0.0]\n",
      "[array([[ 0.],\n",
      "       [ 0.]], dtype=float32), 0.0]\n",
      "[array([[ 0.],\n",
      "       [ 0.]], dtype=float32), 0.0]\n",
      "[array([[ 0.],\n",
      "       [ 0.]], dtype=float32), 0.0]\n",
      "[array([[ 0.],\n",
      "       [ 0.]], dtype=float32), 0.0]\n",
      "[array([[ 0.],\n",
      "       [ 0.]], dtype=float32), 0.0]\n",
      "[array([[ 0.],\n",
      "       [ 0.]], dtype=float32), 0.0]\n",
      "[array([[ 0.],\n",
      "       [ 0.]], dtype=float32), 0.0]\n",
      "[array([[ 0.],\n",
      "       [ 0.]], dtype=float32), 0.0]\n",
      "[array([[ 0.],\n",
      "       [ 0.]], dtype=float32), 0.0]\n",
      "[array([[ 0.],\n",
      "       [ 0.]], dtype=float32), 0.0]\n",
      "[array([[ 0.],\n",
      "       [ 0.]], dtype=float32), 0.0]\n",
      "[array([[ 0.],\n",
      "       [ 0.]], dtype=float32), 0.0]\n",
      "[array([[ 0.],\n",
      "       [ 0.]], dtype=float32), 0.0]\n",
      "[array([[ 0.],\n",
      "       [ 0.]], dtype=float32), 0.0]\n",
      "[array([[ 0.],\n",
      "       [ 0.]], dtype=float32), 0.0]\n",
      "[array([[ 0.],\n",
      "       [ 0.]], dtype=float32), 0.0]\n",
      "[array([[ 0.],\n",
      "       [ 0.]], dtype=float32), 0.0]\n",
      "[array([[ 0.],\n",
      "       [ 0.]], dtype=float32), 0.0]\n",
      "[array([[ 0.],\n",
      "       [ 0.]], dtype=float32), 0.0]\n",
      "[array([[ 0.],\n",
      "       [ 0.]], dtype=float32), 0.0]\n",
      "[array([[ 0.],\n",
      "       [ 0.]], dtype=float32), 0.0]\n",
      "[array([[ 0.],\n",
      "       [ 0.]], dtype=float32), 0.0]\n",
      "[array([[ 0.],\n",
      "       [ 0.]], dtype=float32), 0.0]\n",
      "[array([[ 0.],\n",
      "       [ 0.]], dtype=float32), 0.0]\n",
      "[array([[ 0.],\n",
      "       [ 0.]], dtype=float32), 0.0]\n",
      "[array([[ 0.],\n",
      "       [ 0.]], dtype=float32), 0.0]\n",
      "[array([[ 0.],\n",
      "       [ 0.]], dtype=float32), 0.0]\n",
      "[array([[ 0.],\n",
      "       [ 0.]], dtype=float32), 0.0]\n",
      "[array([[ 0.],\n",
      "       [ 0.]], dtype=float32), 0.0]\n",
      "[array([[ 0.],\n",
      "       [ 0.]], dtype=float32), 0.0]\n",
      "[array([[ 0.],\n",
      "       [ 0.]], dtype=float32), 0.0]\n",
      "[array([[ 0.],\n",
      "       [ 0.]], dtype=float32), 0.0]\n",
      "[array([[ 0.],\n",
      "       [ 0.]], dtype=float32), 0.0]\n",
      "[array([[ 0.],\n",
      "       [ 0.]], dtype=float32), 0.0]\n",
      "[array([[ 0.],\n",
      "       [ 0.]], dtype=float32), 0.0]\n",
      "[array([[ 0.],\n",
      "       [ 0.]], dtype=float32), 0.0]\n",
      "[array([[ 0.],\n",
      "       [ 0.]], dtype=float32), 0.0]\n",
      "[array([[ 0.],\n",
      "       [ 0.]], dtype=float32), 0.0]\n",
      "[array([[ 0.],\n",
      "       [ 0.]], dtype=float32), 0.0]\n",
      "[array([[ 0.],\n",
      "       [ 0.]], dtype=float32), 0.0]\n",
      "[array([[ 0.],\n",
      "       [ 0.]], dtype=float32), 0.0]\n",
      "[array([[ 0.],\n",
      "       [ 0.]], dtype=float32), 0.0]\n",
      "[array([[ 0.],\n",
      "       [ 0.]], dtype=float32), 0.0]\n",
      "[array([[ 0.],\n",
      "       [ 0.]], dtype=float32), 0.0]\n",
      "[array([[ 0.],\n",
      "       [ 0.]], dtype=float32), 0.0]\n",
      "[array([[ 0.],\n",
      "       [ 0.]], dtype=float32), 0.0]\n",
      "[array([[ 0.],\n",
      "       [ 0.]], dtype=float32), 0.0]\n",
      "[array([[ 0.],\n",
      "       [ 0.]], dtype=float32), 0.0]\n",
      "[array([[ 0.],\n",
      "       [ 0.]], dtype=float32), 0.0]\n",
      "[array([[ 0.],\n",
      "       [ 0.]], dtype=float32), 0.0]\n",
      "[array([[ 0.],\n",
      "       [ 0.]], dtype=float32), 0.0]\n",
      "[array([[ 0.],\n",
      "       [ 0.]], dtype=float32), 0.0]\n",
      "[array([[ 0.],\n",
      "       [ 0.]], dtype=float32), 0.0]\n",
      "[array([[ 0.],\n",
      "       [ 0.]], dtype=float32), 0.0]\n",
      "[array([[ 0.],\n",
      "       [ 0.]], dtype=float32), 0.0]\n",
      "[array([[ 0.],\n",
      "       [ 0.]], dtype=float32), 0.0]\n",
      "[array([[ 0.],\n",
      "       [ 0.]], dtype=float32), 0.0]\n",
      "[array([[ 0.],\n",
      "       [ 0.]], dtype=float32), 0.0]\n",
      "[array([[ 0.],\n",
      "       [ 0.]], dtype=float32), 0.0]\n",
      "[array([[ 0.],\n",
      "       [ 0.]], dtype=float32), 0.0]\n",
      "[array([[ 0.],\n",
      "       [ 0.]], dtype=float32), 0.0]\n",
      "[array([[ 0.],\n",
      "       [ 0.]], dtype=float32), 0.0]\n",
      "[array([[ 0.],\n",
      "       [ 0.]], dtype=float32), 0.0]\n",
      "[array([[ 0.],\n",
      "       [ 0.]], dtype=float32), 0.0]\n",
      "[array([[ 0.],\n",
      "       [ 0.]], dtype=float32), 0.0]\n",
      "[array([[ 0.],\n",
      "       [ 0.]], dtype=float32), 0.0]\n",
      "[array([[ 0.],\n",
      "       [ 0.]], dtype=float32), 0.0]\n",
      "[array([[ 0.],\n",
      "       [ 0.]], dtype=float32), 0.0]\n",
      "[array([[ 0.],\n",
      "       [ 0.]], dtype=float32), 0.0]\n",
      "[array([[ 0.],\n",
      "       [ 0.]], dtype=float32), 0.0]\n",
      "[array([[ 0.],\n",
      "       [ 0.]], dtype=float32), 0.0]\n",
      "[array([[ 0.],\n",
      "       [ 0.]], dtype=float32), 0.0]\n",
      "[array([[ 0.],\n",
      "       [ 0.]], dtype=float32), 0.0]\n",
      "[array([[ 0.],\n",
      "       [ 0.]], dtype=float32), 0.0]\n",
      "[array([[ 0.],\n",
      "       [ 0.]], dtype=float32), 0.0]\n",
      "[array([[ 0.],\n",
      "       [ 0.]], dtype=float32), 0.0]\n",
      "[array([[ 0.],\n",
      "       [ 0.]], dtype=float32), 0.0]\n",
      "[array([[ 0.],\n",
      "       [ 0.]], dtype=float32), 0.0]\n",
      "[array([[ 0.],\n",
      "       [ 0.]], dtype=float32), 0.0]\n",
      "[array([[ 0.],\n",
      "       [ 0.]], dtype=float32), 0.0]\n",
      "[array([[ 0.],\n",
      "       [ 0.]], dtype=float32), 0.0]\n",
      "[array([[ 0.],\n",
      "       [ 0.]], dtype=float32), 0.0]\n",
      "[array([[ 0.],\n",
      "       [ 0.]], dtype=float32), 0.0]\n",
      "[array([[ 0.],\n",
      "       [ 0.]], dtype=float32), 0.0]\n",
      "[array([[ 0.],\n",
      "       [ 0.]], dtype=float32), 0.0]\n",
      "[array([[ 0.],\n",
      "       [ 0.]], dtype=float32), 0.0]\n",
      "[array([[ 0.],\n",
      "       [ 0.]], dtype=float32), 0.0]\n",
      "[array([[ 0.],\n",
      "       [ 0.]], dtype=float32), 0.0]\n",
      "[array([[ 0.],\n",
      "       [ 0.]], dtype=float32), 0.0]\n",
      "[array([[ 0.],\n",
      "       [ 0.]], dtype=float32), 0.0]\n",
      "[array([[ 0.],\n",
      "       [ 0.]], dtype=float32), 0.0]\n",
      "[array([[ 0.],\n",
      "       [ 0.]], dtype=float32), 0.0]\n",
      "[array([[ 0.],\n",
      "       [ 0.]], dtype=float32), 0.0]\n",
      "[array([[ 0.],\n",
      "       [ 0.]], dtype=float32), 0.0]\n",
      "[array([[ 0.],\n",
      "       [ 0.]], dtype=float32), 0.0]\n",
      "[array([[ 0.],\n",
      "       [ 0.]], dtype=float32), 0.0]\n",
      "[array([[ 0.],\n",
      "       [ 0.]], dtype=float32), 0.0]\n",
      "[array([[ 0.],\n",
      "       [ 0.]], dtype=float32), 0.0]\n",
      "[array([[ 0.],\n",
      "       [ 0.]], dtype=float32), 0.0]\n",
      "[array([[ 0.],\n",
      "       [ 0.]], dtype=float32), 0.0]\n",
      "[array([[ 0.],\n",
      "       [ 0.]], dtype=float32), 0.0]\n",
      "[array([[ 0.],\n",
      "       [ 0.]], dtype=float32), 0.0]\n",
      "[array([[ 0.],\n",
      "       [ 0.]], dtype=float32), 0.0]\n",
      "[array([[ 0.],\n",
      "       [ 0.]], dtype=float32), 0.0]\n",
      "[array([[ 0.],\n",
      "       [ 0.]], dtype=float32), 0.0]\n",
      "[array([[ 0.],\n",
      "       [ 0.]], dtype=float32), 0.0]\n",
      "[array([[ 0.],\n",
      "       [ 0.]], dtype=float32), 0.0]\n",
      "[array([[ 0.],\n",
      "       [ 0.]], dtype=float32), 0.0]\n",
      "[array([[ 0.],\n",
      "       [ 0.]], dtype=float32), 0.0]\n",
      "[array([[ 0.],\n",
      "       [ 0.]], dtype=float32), 0.0]\n",
      "[array([[ 0.],\n",
      "       [ 0.]], dtype=float32), 0.0]\n",
      "[array([[ 0.],\n",
      "       [ 0.]], dtype=float32), 0.0]\n",
      "[array([[ 0.],\n",
      "       [ 0.]], dtype=float32), 0.0]\n",
      "[array([[ 0.],\n",
      "       [ 0.]], dtype=float32), 0.0]\n",
      "[array([[ 0.],\n",
      "       [ 0.]], dtype=float32), 0.0]\n",
      "[array([[ 0.],\n",
      "       [ 0.]], dtype=float32), 0.0]\n",
      "[array([[ 0.],\n",
      "       [ 0.]], dtype=float32), 0.0]\n",
      "[array([[ 0.],\n",
      "       [ 0.]], dtype=float32), 0.0]\n",
      "[array([[ 0.],\n",
      "       [ 0.]], dtype=float32), 0.0]\n",
      "[array([[ 0.],\n",
      "       [ 0.]], dtype=float32), 0.0]\n",
      "[array([[ 0.],\n",
      "       [ 0.]], dtype=float32), 0.0]\n",
      "[array([[ 0.],\n",
      "       [ 0.]], dtype=float32), 0.0]\n",
      "[array([[ 0.],\n",
      "       [ 0.]], dtype=float32), 0.0]\n",
      "[array([[ 0.],\n",
      "       [ 0.]], dtype=float32), 0.0]\n",
      "[array([[ 0.],\n",
      "       [ 0.]], dtype=float32), 0.0]\n",
      "[array([[ 0.],\n",
      "       [ 0.]], dtype=float32), 0.0]\n",
      "[array([[ 0.],\n",
      "       [ 0.]], dtype=float32), 0.0]\n",
      "[array([[ 0.],\n",
      "       [ 0.]], dtype=float32), 0.0]\n",
      "[array([[ 0.],\n",
      "       [ 0.]], dtype=float32), 0.0]\n",
      "[array([[ 0.],\n",
      "       [ 0.]], dtype=float32), 0.0]\n",
      "[array([[ 0.],\n",
      "       [ 0.]], dtype=float32), 0.0]\n",
      "[array([[ 0.],\n",
      "       [ 0.]], dtype=float32), 0.0]\n",
      "[array([[ 0.],\n",
      "       [ 0.]], dtype=float32), 0.0]\n",
      "[array([[ 0.],\n",
      "       [ 0.]], dtype=float32), 0.0]\n",
      "[array([[ 0.],\n",
      "       [ 0.]], dtype=float32), 0.0]\n",
      "[array([[ 0.],\n",
      "       [ 0.]], dtype=float32), 0.0]\n",
      "[array([[ 0.],\n",
      "       [ 0.]], dtype=float32), 0.0]\n",
      "[array([[ 0.],\n",
      "       [ 0.]], dtype=float32), 0.0]\n",
      "[array([[ 0.],\n",
      "       [ 0.]], dtype=float32), 0.0]\n",
      "[array([[ 0.],\n",
      "       [ 0.]], dtype=float32), 0.0]\n",
      "[array([[ 0.],\n",
      "       [ 0.]], dtype=float32), 0.0]\n",
      "[array([[ 0.],\n",
      "       [ 0.]], dtype=float32), 0.0]\n",
      "[array([[ 0.],\n",
      "       [ 0.]], dtype=float32), 0.0]\n",
      "[array([[ 0.],\n",
      "       [ 0.]], dtype=float32), 0.0]\n",
      "[array([[ 0.],\n",
      "       [ 0.]], dtype=float32), 0.0]\n",
      "[array([[ 0.],\n",
      "       [ 0.]], dtype=float32), 0.0]\n",
      "[array([[ 0.],\n",
      "       [ 0.]], dtype=float32), 0.0]\n",
      "[array([[ 0.],\n",
      "       [ 0.]], dtype=float32), 0.0]\n",
      "[array([[ 0.],\n",
      "       [ 0.]], dtype=float32), 0.0]\n",
      "[array([[ 0.],\n",
      "       [ 0.]], dtype=float32), 0.0]\n",
      "[array([[ 0.],\n",
      "       [ 0.]], dtype=float32), 0.0]\n",
      "[array([[ 0.],\n",
      "       [ 0.]], dtype=float32), 0.0]\n",
      "[array([[ 0.],\n",
      "       [ 0.]], dtype=float32), 0.0]\n",
      "[array([[ 0.],\n",
      "       [ 0.]], dtype=float32), 0.0]\n",
      "[array([[ 0.],\n",
      "       [ 0.]], dtype=float32), 0.0]\n",
      "[array([[ 0.],\n",
      "       [ 0.]], dtype=float32), 0.0]\n",
      "[array([[ 0.],\n",
      "       [ 0.]], dtype=float32), 0.0]\n",
      "[array([[ 0.],\n",
      "       [ 0.]], dtype=float32), 0.0]\n",
      "[array([[ 0.],\n",
      "       [ 0.]], dtype=float32), 0.0]\n",
      "[array([[ 0.],\n",
      "       [ 0.]], dtype=float32), 0.0]\n",
      "[array([[ 0.],\n",
      "       [ 0.]], dtype=float32), 0.0]\n",
      "[array([[ 0.],\n",
      "       [ 0.]], dtype=float32), 0.0]\n",
      "[array([[ 0.],\n",
      "       [ 0.]], dtype=float32), 0.0]\n",
      "[array([[ 0.],\n",
      "       [ 0.]], dtype=float32), 0.0]\n",
      "[array([[ 0.],\n",
      "       [ 0.]], dtype=float32), 0.0]\n",
      "[array([[ 0.],\n",
      "       [ 0.]], dtype=float32), 0.0]\n",
      "[array([[ 0.],\n",
      "       [ 0.]], dtype=float32), 0.0]\n",
      "[array([[ 0.],\n",
      "       [ 0.]], dtype=float32), 0.0]\n",
      "[array([[ 0.],\n",
      "       [ 0.]], dtype=float32), 0.0]\n",
      "[array([[ 0.],\n",
      "       [ 0.]], dtype=float32), 0.0]\n",
      "[array([[ 0.],\n",
      "       [ 0.]], dtype=float32), 0.0]\n",
      "[array([[ 0.],\n",
      "       [ 0.]], dtype=float32), 0.0]\n",
      "[array([[ 0.],\n",
      "       [ 0.]], dtype=float32), 0.0]\n",
      "[array([[ 0.],\n",
      "       [ 0.]], dtype=float32), 0.0]\n",
      "[array([[ 0.],\n",
      "       [ 0.]], dtype=float32), 0.0]\n",
      "[array([[ 0.],\n",
      "       [ 0.]], dtype=float32), 0.0]\n",
      "[array([[ 0.],\n",
      "       [ 0.]], dtype=float32), 0.0]\n",
      "[array([[ 0.],\n",
      "       [ 0.]], dtype=float32), 0.0]\n",
      "[array([[ 0.],\n",
      "       [ 0.]], dtype=float32), 0.0]\n",
      "[array([[ 0.],\n",
      "       [ 0.]], dtype=float32), 0.0]\n",
      "[array([[ 0.],\n",
      "       [ 0.]], dtype=float32), 0.0]\n",
      "[array([[ 0.],\n",
      "       [ 0.]], dtype=float32), 0.0]\n",
      "[array([[ 0.],\n",
      "       [ 0.]], dtype=float32), 0.0]\n",
      "[array([[ 0.],\n",
      "       [ 0.]], dtype=float32), 0.0]\n",
      "[array([[ 0.],\n",
      "       [ 0.]], dtype=float32), 0.0]\n",
      "[array([[ 0.],\n",
      "       [ 0.]], dtype=float32), 0.0]\n",
      "[array([[ 0.],\n",
      "       [ 0.]], dtype=float32), 0.0]\n",
      "[array([[ 0.],\n",
      "       [ 0.]], dtype=float32), 0.0]\n",
      "[array([[ 0.],\n",
      "       [ 0.]], dtype=float32), 0.0]\n",
      "[array([[ 0.],\n",
      "       [ 0.]], dtype=float32), 0.0]\n",
      "[array([[ 0.],\n",
      "       [ 0.]], dtype=float32), 0.0]\n",
      "[array([[ 0.],\n",
      "       [ 0.]], dtype=float32), 0.0]\n",
      "[array([[ 0.],\n",
      "       [ 0.]], dtype=float32), 0.0]\n",
      "[array([[ 0.],\n",
      "       [ 0.]], dtype=float32), 0.0]\n",
      "[array([[ 0.],\n",
      "       [ 0.]], dtype=float32), 0.0]\n",
      "[array([[ 0.],\n",
      "       [ 0.]], dtype=float32), 0.0]\n",
      "[array([[ 0.],\n",
      "       [ 0.]], dtype=float32), 0.0]\n",
      "[array([[ 0.],\n",
      "       [ 0.]], dtype=float32), 0.0]\n",
      "[array([[ 0.],\n",
      "       [ 0.]], dtype=float32), 0.0]\n",
      "[array([[ 0.],\n",
      "       [ 0.]], dtype=float32), 0.0]\n",
      "[array([[ 0.],\n",
      "       [ 0.]], dtype=float32), 0.0]\n",
      "[array([[ 0.],\n",
      "       [ 0.]], dtype=float32), 0.0]\n",
      "[array([[ 0.],\n",
      "       [ 0.]], dtype=float32), 0.0]\n",
      "[array([[ 0.],\n",
      "       [ 0.]], dtype=float32), 0.0]\n",
      "[array([[ 0.],\n",
      "       [ 0.]], dtype=float32), 0.0]\n",
      "[array([[ 0.],\n",
      "       [ 0.]], dtype=float32), 0.0]\n",
      "[array([[ 0.],\n",
      "       [ 0.]], dtype=float32), 0.0]\n",
      "[array([[ 0.],\n",
      "       [ 0.]], dtype=float32), 0.0]\n",
      "[array([[ 0.],\n",
      "       [ 0.]], dtype=float32), 0.0]\n",
      "[array([[ 0.],\n",
      "       [ 0.]], dtype=float32), 0.0]\n",
      "[array([[ 0.],\n",
      "       [ 0.]], dtype=float32), 0.0]\n",
      "[array([[ 0.],\n",
      "       [ 0.]], dtype=float32), 0.0]\n",
      "[array([[ 0.],\n",
      "       [ 0.]], dtype=float32), 0.0]\n",
      "[array([[ 0.],\n",
      "       [ 0.]], dtype=float32), 0.0]\n",
      "[array([[ 0.],\n",
      "       [ 0.]], dtype=float32), 0.0]\n",
      "[array([[ 0.],\n",
      "       [ 0.]], dtype=float32), 0.0]\n",
      "[array([[ 0.],\n",
      "       [ 0.]], dtype=float32), 0.0]\n",
      "[array([[ 0.],\n",
      "       [ 0.]], dtype=float32), 0.0]\n",
      "[array([[ 0.],\n",
      "       [ 0.]], dtype=float32), 0.0]\n",
      "[array([[ 0.],\n",
      "       [ 0.]], dtype=float32), 0.0]\n",
      "[array([[ 0.],\n",
      "       [ 0.]], dtype=float32), 0.0]\n",
      "[array([[ 0.],\n",
      "       [ 0.]], dtype=float32), 0.0]\n",
      "[array([[ 0.],\n",
      "       [ 0.]], dtype=float32), 0.0]\n",
      "[array([[ 0.],\n",
      "       [ 0.]], dtype=float32), 0.0]\n",
      "[array([[ 0.],\n",
      "       [ 0.]], dtype=float32), 0.0]\n",
      "[array([[ 0.],\n",
      "       [ 0.]], dtype=float32), 0.0]\n",
      "[array([[ 0.],\n",
      "       [ 0.]], dtype=float32), 0.0]\n",
      "[array([[ 0.],\n",
      "       [ 0.]], dtype=float32), 0.0]\n",
      "[array([[ 0.],\n",
      "       [ 0.]], dtype=float32), 0.0]\n",
      "[array([[ 0.],\n",
      "       [ 0.]], dtype=float32), 0.0]\n",
      "[array([[ 0.],\n",
      "       [ 0.]], dtype=float32), 0.0]\n",
      "[array([[ 0.],\n",
      "       [ 0.]], dtype=float32), 0.0]\n",
      "[array([[ 0.],\n",
      "       [ 0.]], dtype=float32), 0.0]\n",
      "[array([[ 0.],\n",
      "       [ 0.]], dtype=float32), 0.0]\n",
      "[array([[ 0.],\n",
      "       [ 0.]], dtype=float32), 0.0]\n",
      "[array([[ 0.],\n",
      "       [ 0.]], dtype=float32), 0.0]\n",
      "[array([[ 0.],\n",
      "       [ 0.]], dtype=float32), 0.0]\n",
      "[array([[ 0.],\n",
      "       [ 0.]], dtype=float32), 0.0]\n",
      "[array([[ 0.],\n",
      "       [ 0.]], dtype=float32), 0.0]\n",
      "[array([[ 0.],\n",
      "       [ 0.]], dtype=float32), 0.0]\n",
      "[array([[ 0.],\n",
      "       [ 0.]], dtype=float32), 0.0]\n",
      "[array([[ 0.],\n",
      "       [ 0.]], dtype=float32), 0.0]\n",
      "[array([[ 0.],\n",
      "       [ 0.]], dtype=float32), 0.0]\n",
      "[array([[ 0.],\n",
      "       [ 0.]], dtype=float32), 0.0]\n",
      "[array([[ 0.],\n",
      "       [ 0.]], dtype=float32), 0.0]\n",
      "[array([[ 0.],\n",
      "       [ 0.]], dtype=float32), 0.0]\n",
      "[array([[ 0.],\n",
      "       [ 0.]], dtype=float32), 0.0]\n",
      "[array([[ 0.],\n",
      "       [ 0.]], dtype=float32), 0.0]\n",
      "[array([[ 0.],\n",
      "       [ 0.]], dtype=float32), 0.0]\n",
      "[array([[ 0.],\n",
      "       [ 0.]], dtype=float32), 0.0]\n",
      "[array([[ 0.],\n",
      "       [ 0.]], dtype=float32), 0.0]\n",
      "[array([[ 0.],\n",
      "       [ 0.]], dtype=float32), 0.0]\n",
      "[array([[ 0.],\n",
      "       [ 0.]], dtype=float32), 0.0]\n",
      "[array([[ 0.],\n",
      "       [ 0.]], dtype=float32), 0.0]\n",
      "[array([[ 0.],\n",
      "       [ 0.]], dtype=float32), 0.0]\n",
      "[array([[ 0.],\n",
      "       [ 0.]], dtype=float32), 0.0]\n",
      "[array([[ 0.],\n",
      "       [ 0.]], dtype=float32), 0.0]\n",
      "[array([[ 0.],\n",
      "       [ 0.]], dtype=float32), 0.0]\n",
      "[array([[ 0.],\n",
      "       [ 0.]], dtype=float32), 0.0]\n",
      "[array([[ 0.],\n",
      "       [ 0.]], dtype=float32), 0.0]\n",
      "[array([[ 0.],\n",
      "       [ 0.]], dtype=float32), 0.0]\n",
      "[array([[ 0.],\n",
      "       [ 0.]], dtype=float32), 0.0]\n",
      "[array([[ 0.],\n",
      "       [ 0.]], dtype=float32), 0.0]\n",
      "[array([[ 0.],\n",
      "       [ 0.]], dtype=float32), 0.0]\n",
      "[array([[ 0.],\n",
      "       [ 0.]], dtype=float32), 0.0]\n",
      "[array([[ 0.],\n",
      "       [ 0.]], dtype=float32), 0.0]\n",
      "[array([[ 0.],\n",
      "       [ 0.]], dtype=float32), 0.0]\n",
      "[array([[ 0.],\n",
      "       [ 0.]], dtype=float32), 0.0]\n",
      "[array([[ 0.],\n",
      "       [ 0.]], dtype=float32), 0.0]\n",
      "[array([[ 0.],\n",
      "       [ 0.]], dtype=float32), 0.0]\n",
      "[array([[ 0.],\n",
      "       [ 0.]], dtype=float32), 0.0]\n",
      "[array([[ 0.],\n",
      "       [ 0.]], dtype=float32), 0.0]\n",
      "[array([[ 0.],\n",
      "       [ 0.]], dtype=float32), 0.0]\n",
      "[array([[ 0.],\n",
      "       [ 0.]], dtype=float32), 0.0]\n",
      "[array([[ 0.],\n",
      "       [ 0.]], dtype=float32), 0.0]\n",
      "[array([[ 0.],\n",
      "       [ 0.]], dtype=float32), 0.0]\n",
      "[array([[ 0.],\n",
      "       [ 0.]], dtype=float32), 0.0]\n",
      "[array([[ 0.],\n",
      "       [ 0.]], dtype=float32), 0.0]\n",
      "[array([[ 0.],\n",
      "       [ 0.]], dtype=float32), 0.0]\n",
      "[array([[ 0.],\n",
      "       [ 0.]], dtype=float32), 0.0]\n",
      "[array([[ 0.],\n",
      "       [ 0.]], dtype=float32), 0.0]\n",
      "[array([[ 0.],\n",
      "       [ 0.]], dtype=float32), 0.0]\n",
      "[array([[ 0.],\n",
      "       [ 0.]], dtype=float32), 0.0]\n",
      "[array([[ 0.],\n",
      "       [ 0.]], dtype=float32), 0.0]\n",
      "[array([[ 0.],\n",
      "       [ 0.]], dtype=float32), 0.0]\n",
      "[array([[ 0.],\n",
      "       [ 0.]], dtype=float32), 0.0]\n",
      "[array([[ 0.],\n",
      "       [ 0.]], dtype=float32), 0.0]\n",
      "[array([[ 0.],\n",
      "       [ 0.]], dtype=float32), 0.0]\n",
      "[array([[ 0.],\n",
      "       [ 0.]], dtype=float32), 0.0]\n",
      "[array([[ 0.],\n",
      "       [ 0.]], dtype=float32), 0.0]\n",
      "[array([[ 0.],\n",
      "       [ 0.]], dtype=float32), 0.0]\n",
      "[array([[ 0.],\n",
      "       [ 0.]], dtype=float32), 0.0]\n",
      "[array([[ 0.],\n",
      "       [ 0.]], dtype=float32), 0.0]\n",
      "[array([[ 0.],\n",
      "       [ 0.]], dtype=float32), 0.0]\n",
      "[array([[ 0.],\n",
      "       [ 0.]], dtype=float32), 0.0]\n",
      "[array([[ 0.],\n",
      "       [ 0.]], dtype=float32), 0.0]\n",
      "[array([[ 0.],\n",
      "       [ 0.]], dtype=float32), 0.0]\n",
      "[array([[ 0.],\n",
      "       [ 0.]], dtype=float32), 0.0]\n",
      "[array([[ 0.],\n",
      "       [ 0.]], dtype=float32), 0.0]\n",
      "[array([[ 0.],\n",
      "       [ 0.]], dtype=float32), 0.0]\n",
      "[array([[ 0.],\n",
      "       [ 0.]], dtype=float32), 0.0]\n",
      "[array([[ 0.],\n",
      "       [ 0.]], dtype=float32), 0.0]\n",
      "[array([[ 0.],\n",
      "       [ 0.]], dtype=float32), 0.0]\n",
      "[array([[ 0.],\n",
      "       [ 0.]], dtype=float32), 0.0]\n",
      "[array([[ 0.],\n",
      "       [ 0.]], dtype=float32), 0.0]\n",
      "[array([[ 0.],\n",
      "       [ 0.]], dtype=float32), 0.0]\n",
      "[array([[ 0.],\n",
      "       [ 0.]], dtype=float32), 0.0]\n",
      "[array([[ 0.],\n",
      "       [ 0.]], dtype=float32), 0.0]\n",
      "[array([[ 0.],\n",
      "       [ 0.]], dtype=float32), 0.0]\n",
      "[array([[ 0.],\n",
      "       [ 0.]], dtype=float32), 0.0]\n",
      "[array([[ 0.],\n",
      "       [ 0.]], dtype=float32), 0.0]\n",
      "[array([[ 0.],\n",
      "       [ 0.]], dtype=float32), 0.0]\n",
      "[array([[ 0.],\n",
      "       [ 0.]], dtype=float32), 0.0]\n",
      "[array([[ 0.],\n",
      "       [ 0.]], dtype=float32), 0.0]\n",
      "[array([[ 0.],\n",
      "       [ 0.]], dtype=float32), 0.0]\n",
      "[array([[ 0.],\n",
      "       [ 0.]], dtype=float32), 0.0]\n",
      "[array([[ 0.],\n",
      "       [ 0.]], dtype=float32), 0.0]\n",
      "[array([[ 0.],\n",
      "       [ 0.]], dtype=float32), 0.0]\n",
      "[array([[ 0.],\n",
      "       [ 0.]], dtype=float32), 0.0]\n",
      "[array([[ 0.],\n",
      "       [ 0.]], dtype=float32), 0.0]\n",
      "[array([[ 0.],\n",
      "       [ 0.]], dtype=float32), 0.0]\n",
      "[array([[ 0.],\n",
      "       [ 0.]], dtype=float32), 0.0]\n",
      "[array([[ 0.],\n",
      "       [ 0.]], dtype=float32), 0.0]\n",
      "[array([[ 0.],\n",
      "       [ 0.]], dtype=float32), 0.0]\n",
      "[array([[ 0.],\n",
      "       [ 0.]], dtype=float32), 0.0]\n",
      "[array([[ 0.],\n",
      "       [ 0.]], dtype=float32), 0.0]\n",
      "[array([[ 0.],\n",
      "       [ 0.]], dtype=float32), 0.0]\n",
      "[array([[ 0.],\n",
      "       [ 0.]], dtype=float32), 0.0]\n",
      "[array([[ 0.],\n",
      "       [ 0.]], dtype=float32), 0.0]\n",
      "[array([[ 0.],\n",
      "       [ 0.]], dtype=float32), 0.0]\n",
      "[array([[ 0.],\n",
      "       [ 0.]], dtype=float32), 0.0]\n",
      "[array([[ 0.],\n",
      "       [ 0.]], dtype=float32), 0.0]\n",
      "[array([[ 0.],\n",
      "       [ 0.]], dtype=float32), 0.0]\n",
      "[array([[ 0.],\n",
      "       [ 0.]], dtype=float32), 0.0]\n",
      "[array([[ 0.],\n",
      "       [ 0.]], dtype=float32), 0.0]\n",
      "[array([[ 0.],\n",
      "       [ 0.]], dtype=float32), 0.0]\n",
      "[array([[ 0.],\n",
      "       [ 0.]], dtype=float32), 0.0]\n",
      "[array([[ 0.],\n",
      "       [ 0.]], dtype=float32), 0.0]\n",
      "[array([[ 0.],\n",
      "       [ 0.]], dtype=float32), 0.0]\n",
      "[array([[ 0.],\n",
      "       [ 0.]], dtype=float32), 0.0]\n",
      "[array([[ 0.],\n",
      "       [ 0.]], dtype=float32), 0.0]\n",
      "[array([[ 0.],\n",
      "       [ 0.]], dtype=float32), 0.0]\n",
      "[array([[ 0.],\n",
      "       [ 0.]], dtype=float32), 0.0]\n",
      "[array([[ 0.],\n",
      "       [ 0.]], dtype=float32), 0.0]\n",
      "[array([[ 0.],\n",
      "       [ 0.]], dtype=float32), 0.0]\n",
      "[array([[ 0.],\n",
      "       [ 0.]], dtype=float32), 0.0]\n",
      "[array([[ 0.],\n",
      "       [ 0.]], dtype=float32), 0.0]\n",
      "[array([[ 0.],\n",
      "       [ 0.]], dtype=float32), 0.0]\n",
      "[array([[ 0.],\n",
      "       [ 0.]], dtype=float32), 0.0]\n",
      "[array([[ 0.],\n",
      "       [ 0.]], dtype=float32), 0.0]\n",
      "[array([[ 0.],\n",
      "       [ 0.]], dtype=float32), 0.0]\n",
      "[array([[ 0.],\n",
      "       [ 0.]], dtype=float32), 0.0]\n",
      "[array([[ 0.],\n",
      "       [ 0.]], dtype=float32), 0.0]\n",
      "[array([[ 0.],\n",
      "       [ 0.]], dtype=float32), 0.0]\n",
      "[array([[ 0.],\n",
      "       [ 0.]], dtype=float32), 0.0]\n",
      "[array([[ 0.],\n",
      "       [ 0.]], dtype=float32), 0.0]\n",
      "[array([[ 0.],\n",
      "       [ 0.]], dtype=float32), 0.0]\n",
      "[array([[ 0.],\n",
      "       [ 0.]], dtype=float32), 0.0]\n",
      "[array([[ 0.],\n",
      "       [ 0.]], dtype=float32), 0.0]\n",
      "[array([[ 0.],\n",
      "       [ 0.]], dtype=float32), 0.0]\n",
      "[array([[ 0.],\n",
      "       [ 0.]], dtype=float32), 0.0]\n",
      "[array([[ 0.],\n",
      "       [ 0.]], dtype=float32), 0.0]\n",
      "[array([[ 0.],\n",
      "       [ 0.]], dtype=float32), 0.0]\n",
      "[array([[ 0.],\n",
      "       [ 0.]], dtype=float32), 0.0]\n",
      "[array([[ 0.],\n",
      "       [ 0.]], dtype=float32), 0.0]\n",
      "[array([[ 0.],\n",
      "       [ 0.]], dtype=float32), 0.0]\n",
      "[array([[ 0.],\n",
      "       [ 0.]], dtype=float32), 0.0]\n",
      "[array([[ 0.],\n",
      "       [ 0.]], dtype=float32), 0.0]\n",
      "[array([[ 0.],\n",
      "       [ 0.]], dtype=float32), 0.0]\n",
      "[array([[ 0.],\n",
      "       [ 0.]], dtype=float32), 0.0]\n",
      "[array([[ 0.],\n",
      "       [ 0.]], dtype=float32), 0.0]\n",
      "[array([[ 0.],\n",
      "       [ 0.]], dtype=float32), 0.0]\n",
      "[array([[ 0.],\n",
      "       [ 0.]], dtype=float32), 0.0]\n",
      "[array([[ 0.],\n",
      "       [ 0.]], dtype=float32), 0.0]\n",
      "[array([[ 0.],\n",
      "       [ 0.]], dtype=float32), 0.0]\n",
      "[array([[ 0.],\n",
      "       [ 0.]], dtype=float32), 0.0]\n",
      "[array([[ 0.],\n",
      "       [ 0.]], dtype=float32), 0.0]\n",
      "[array([[ 0.],\n",
      "       [ 0.]], dtype=float32), 0.0]\n",
      "[array([[ 0.],\n",
      "       [ 0.]], dtype=float32), 0.0]\n",
      "[array([[ 0.],\n",
      "       [ 0.]], dtype=float32), 0.0]\n",
      "[array([[ 0.],\n",
      "       [ 0.]], dtype=float32), 0.0]\n",
      "[array([[ 0.],\n",
      "       [ 0.]], dtype=float32), 0.0]\n",
      "[array([[ 0.],\n",
      "       [ 0.]], dtype=float32), 0.0]\n",
      "[array([[ 0.],\n",
      "       [ 0.]], dtype=float32), 0.0]\n",
      "[array([[ 0.],\n",
      "       [ 0.]], dtype=float32), 0.0]\n",
      "[array([[ 0.],\n",
      "       [ 0.]], dtype=float32), 0.0]\n",
      "[array([[ 0.],\n",
      "       [ 0.]], dtype=float32), 0.0]\n",
      "[array([[ 0.],\n",
      "       [ 0.]], dtype=float32), 0.0]\n",
      "[array([[ 0.],\n",
      "       [ 0.]], dtype=float32), 0.0]\n",
      "[array([[ 0.],\n",
      "       [ 0.]], dtype=float32), 0.0]\n",
      "[array([[ 0.],\n",
      "       [ 0.]], dtype=float32), 0.0]\n",
      "[array([[ 0.],\n",
      "       [ 0.]], dtype=float32), 0.0]\n",
      "[array([[ 0.],\n",
      "       [ 0.]], dtype=float32), 0.0]\n",
      "[array([[ 0.],\n",
      "       [ 0.]], dtype=float32), 0.0]\n",
      "[array([[ 0.],\n",
      "       [ 0.]], dtype=float32), 0.0]\n",
      "[array([[ 0.],\n",
      "       [ 0.]], dtype=float32), 0.0]\n",
      "[array([[ 0.],\n",
      "       [ 0.]], dtype=float32), 0.0]\n",
      "[array([[ 0.],\n",
      "       [ 0.]], dtype=float32), 0.0]\n",
      "[array([[ 0.],\n",
      "       [ 0.]], dtype=float32), 0.0]\n",
      "[array([[ 0.],\n",
      "       [ 0.]], dtype=float32), 0.0]\n",
      "[array([[ 0.],\n",
      "       [ 0.]], dtype=float32), 0.0]\n",
      "[array([[ 0.],\n",
      "       [ 0.]], dtype=float32), 0.0]\n",
      "[array([[ 0.],\n",
      "       [ 0.]], dtype=float32), 0.0]\n",
      "[array([[ 0.],\n",
      "       [ 0.]], dtype=float32), 0.0]\n",
      "[array([[ 0.],\n",
      "       [ 0.]], dtype=float32), 0.0]\n",
      "[array([[ 0.],\n",
      "       [ 0.]], dtype=float32), 0.0]\n",
      "[array([[ 0.],\n",
      "       [ 0.]], dtype=float32), 0.0]\n",
      "[array([[ 0.],\n",
      "       [ 0.]], dtype=float32), 0.0]\n",
      "[array([[ 0.],\n",
      "       [ 0.]], dtype=float32), 0.0]\n",
      "[array([[ 0.],\n",
      "       [ 0.]], dtype=float32), 0.0]\n",
      "[array([[ 0.],\n",
      "       [ 0.]], dtype=float32), 0.0]\n",
      "[array([[ 0.],\n",
      "       [ 0.]], dtype=float32), 0.0]\n",
      "[array([[ 0.],\n",
      "       [ 0.]], dtype=float32), 0.0]\n",
      "[array([[ 0.],\n",
      "       [ 0.]], dtype=float32), 0.0]\n",
      "[array([[ 0.],\n",
      "       [ 0.]], dtype=float32), 0.0]\n",
      "[array([[ 0.],\n",
      "       [ 0.]], dtype=float32), 0.0]\n",
      "[array([[ 0.],\n",
      "       [ 0.]], dtype=float32), 0.0]\n",
      "[array([[ 0.],\n",
      "       [ 0.]], dtype=float32), 0.0]\n",
      "[array([[ 0.],\n",
      "       [ 0.]], dtype=float32), 0.0]\n",
      "[array([[ 0.],\n",
      "       [ 0.]], dtype=float32), 0.0]\n",
      "[array([[ 0.],\n",
      "       [ 0.]], dtype=float32), 0.0]\n",
      "[array([[ 0.],\n",
      "       [ 0.]], dtype=float32), 0.0]\n",
      "[array([[ 0.],\n",
      "       [ 0.]], dtype=float32), 0.0]\n",
      "[array([[ 0.],\n",
      "       [ 0.]], dtype=float32), 0.0]\n",
      "[array([[ 0.],\n",
      "       [ 0.]], dtype=float32), 0.0]\n",
      "[array([[ 0.],\n",
      "       [ 0.]], dtype=float32), 0.0]\n",
      "[array([[ 0.],\n",
      "       [ 0.]], dtype=float32), 0.0]\n",
      "[array([[ 0.],\n",
      "       [ 0.]], dtype=float32), 0.0]\n",
      "[array([[ 0.],\n",
      "       [ 0.]], dtype=float32), 0.0]\n",
      "[array([[ 0.],\n",
      "       [ 0.]], dtype=float32), 0.0]\n",
      "[array([[ 0.],\n",
      "       [ 0.]], dtype=float32), 0.0]\n",
      "[array([[ 0.],\n",
      "       [ 0.]], dtype=float32), 0.0]\n",
      "[array([[ 0.],\n",
      "       [ 0.]], dtype=float32), 0.0]\n",
      "[array([[ 0.],\n",
      "       [ 0.]], dtype=float32), 0.0]\n",
      "[array([[ 0.],\n",
      "       [ 0.]], dtype=float32), 0.0]\n",
      "[array([[ 0.],\n",
      "       [ 0.]], dtype=float32), 0.0]\n",
      "[array([[ 0.],\n",
      "       [ 0.]], dtype=float32), 0.0]\n",
      "[array([[ 0.],\n",
      "       [ 0.]], dtype=float32), 0.0]\n",
      "[array([[ 0.],\n",
      "       [ 0.]], dtype=float32), 0.0]\n",
      "[array([[ 0.],\n",
      "       [ 0.]], dtype=float32), 0.0]\n",
      "[array([[ 0.],\n",
      "       [ 0.]], dtype=float32), 0.0]\n",
      "[array([[ 0.],\n",
      "       [ 0.]], dtype=float32), 0.0]\n",
      "[array([[ 0.],\n",
      "       [ 0.]], dtype=float32), 0.0]\n",
      "[array([[ 0.],\n",
      "       [ 0.]], dtype=float32), 0.0]\n",
      "[array([[ 0.],\n",
      "       [ 0.]], dtype=float32), 0.0]\n",
      "[array([[ 0.],\n",
      "       [ 0.]], dtype=float32), 0.0]\n",
      "[array([[ 0.],\n",
      "       [ 0.]], dtype=float32), 0.0]\n",
      "[array([[ 0.],\n",
      "       [ 0.]], dtype=float32), 0.0]\n",
      "[array([[ 0.],\n",
      "       [ 0.]], dtype=float32), 0.0]\n",
      "[array([[ 0.],\n",
      "       [ 0.]], dtype=float32), 0.0]\n",
      "[array([[ 0.],\n",
      "       [ 0.]], dtype=float32), 0.0]\n",
      "[array([[ 0.],\n",
      "       [ 0.]], dtype=float32), 0.0]\n",
      "[array([[ 0.],\n",
      "       [ 0.]], dtype=float32), 0.0]\n",
      "[array([[ 0.],\n",
      "       [ 0.]], dtype=float32), 0.0]\n",
      "[array([[ 0.],\n",
      "       [ 0.]], dtype=float32), 0.0]\n",
      "[array([[ 0.],\n",
      "       [ 0.]], dtype=float32), 0.0]\n",
      "[array([[ 0.],\n",
      "       [ 0.]], dtype=float32), 0.0]\n",
      "[array([[ 0.],\n",
      "       [ 0.]], dtype=float32), 0.0]\n",
      "[array([[ 0.],\n",
      "       [ 0.]], dtype=float32), 0.0]\n",
      "[array([[ 0.],\n",
      "       [ 0.]], dtype=float32), 0.0]\n",
      "[array([[ 0.],\n",
      "       [ 0.]], dtype=float32), 0.0]\n",
      "[array([[ 0.],\n",
      "       [ 0.]], dtype=float32), 0.0]\n",
      "[array([[ 0.],\n",
      "       [ 0.]], dtype=float32), 0.0]\n",
      "[array([[ 0.],\n",
      "       [ 0.]], dtype=float32), 0.0]\n",
      "[array([[ 0.],\n",
      "       [ 0.]], dtype=float32), 0.0]\n",
      "[array([[ 0.],\n",
      "       [ 0.]], dtype=float32), 0.0]\n",
      "[array([[ 0.],\n",
      "       [ 0.]], dtype=float32), 0.0]\n",
      "[array([[ 0.],\n",
      "       [ 0.]], dtype=float32), 0.0]\n",
      "[array([[ 0.],\n",
      "       [ 0.]], dtype=float32), 0.0]\n",
      "[array([[ 0.],\n",
      "       [ 0.]], dtype=float32), 0.0]\n",
      "[array([[ 0.],\n",
      "       [ 0.]], dtype=float32), 0.0]\n",
      "[array([[ 0.],\n",
      "       [ 0.]], dtype=float32), 0.0]\n",
      "[array([[ 0.],\n",
      "       [ 0.]], dtype=float32), 0.0]\n",
      "[array([[ 0.],\n",
      "       [ 0.]], dtype=float32), 0.0]\n",
      "[array([[ 0.],\n",
      "       [ 0.]], dtype=float32), 0.0]\n",
      "[array([[ 0.],\n",
      "       [ 0.]], dtype=float32), 0.0]\n",
      "[array([[ 0.],\n",
      "       [ 0.]], dtype=float32), 0.0]\n",
      "[array([[ 0.],\n",
      "       [ 0.]], dtype=float32), 0.0]\n",
      "[array([[ 0.],\n",
      "       [ 0.]], dtype=float32), 0.0]\n",
      "[array([[ 0.],\n",
      "       [ 0.]], dtype=float32), 0.0]\n",
      "[array([[ 0.],\n",
      "       [ 0.]], dtype=float32), 0.0]\n",
      "[array([[ 0.],\n",
      "       [ 0.]], dtype=float32), 0.0]\n",
      "[array([[ 0.],\n",
      "       [ 0.]], dtype=float32), 0.0]\n",
      "[array([[ 0.],\n",
      "       [ 0.]], dtype=float32), 0.0]\n",
      "[array([[ 0.],\n",
      "       [ 0.]], dtype=float32), 0.0]\n",
      "[array([[ 0.],\n",
      "       [ 0.]], dtype=float32), 0.0]\n",
      "[array([[ 0.],\n",
      "       [ 0.]], dtype=float32), 0.0]\n",
      "[array([[ 0.],\n",
      "       [ 0.]], dtype=float32), 0.0]\n",
      "[array([[ 0.],\n",
      "       [ 0.]], dtype=float32), 0.0]\n",
      "[array([[ 0.],\n",
      "       [ 0.]], dtype=float32), 0.0]\n",
      "[array([[ 0.],\n",
      "       [ 0.]], dtype=float32), 0.0]\n",
      "[array([[ 0.],\n",
      "       [ 0.]], dtype=float32), 0.0]\n",
      "[array([[ 0.],\n",
      "       [ 0.]], dtype=float32), 0.0]\n",
      "[array([[ 0.],\n",
      "       [ 0.]], dtype=float32), 0.0]\n",
      "[array([[ 0.],\n",
      "       [ 0.]], dtype=float32), 0.0]\n",
      "[array([[ 0.],\n",
      "       [ 0.]], dtype=float32), 0.0]\n",
      "[array([[ 0.],\n",
      "       [ 0.]], dtype=float32), 0.0]\n",
      "[array([[ 0.],\n",
      "       [ 0.]], dtype=float32), 0.0]\n",
      "[array([[ 0.],\n",
      "       [ 0.]], dtype=float32), 0.0]\n",
      "[array([[ 0.],\n",
      "       [ 0.]], dtype=float32), 0.0]\n",
      "[array([[ 0.],\n",
      "       [ 0.]], dtype=float32), 0.0]\n",
      "[array([[ 0.],\n",
      "       [ 0.]], dtype=float32), 0.0]\n",
      "[array([[ 0.],\n",
      "       [ 0.]], dtype=float32), 0.0]\n",
      "[array([[ 0.],\n",
      "       [ 0.]], dtype=float32), 0.0]\n",
      "[array([[ 0.],\n",
      "       [ 0.]], dtype=float32), 0.0]\n",
      "[array([[ 0.],\n",
      "       [ 0.]], dtype=float32), 0.0]\n",
      "[array([[ 0.],\n",
      "       [ 0.]], dtype=float32), 0.0]\n",
      "[array([[ 0.],\n",
      "       [ 0.]], dtype=float32), 0.0]\n",
      "[array([[ 0.],\n",
      "       [ 0.]], dtype=float32), 0.0]\n",
      "[array([[ 0.],\n",
      "       [ 0.]], dtype=float32), 0.0]\n",
      "[array([[ 0.],\n",
      "       [ 0.]], dtype=float32), 0.0]\n",
      "[array([[ 0.],\n",
      "       [ 0.]], dtype=float32), 0.0]\n",
      "[array([[ 0.],\n",
      "       [ 0.]], dtype=float32), 0.0]\n",
      "[array([[ 0.],\n",
      "       [ 0.]], dtype=float32), 0.0]\n",
      "[array([[ 0.],\n",
      "       [ 0.]], dtype=float32), 0.0]\n",
      "[array([[ 0.],\n",
      "       [ 0.]], dtype=float32), 0.0]\n",
      "[array([[ 0.],\n",
      "       [ 0.]], dtype=float32), 0.0]\n",
      "[array([[ 0.],\n",
      "       [ 0.]], dtype=float32), 0.0]\n",
      "[array([[ 0.],\n",
      "       [ 0.]], dtype=float32), 0.0]\n",
      "[array([[ 0.],\n",
      "       [ 0.]], dtype=float32), 0.0]\n",
      "[array([[ 0.],\n",
      "       [ 0.]], dtype=float32), 0.0]\n",
      "[array([[ 0.],\n",
      "       [ 0.]], dtype=float32), 0.0]\n",
      "[array([[ 0.],\n",
      "       [ 0.]], dtype=float32), 0.0]\n",
      "[array([[ 0.],\n",
      "       [ 0.]], dtype=float32), 0.0]\n",
      "[array([[ 0.],\n",
      "       [ 0.]], dtype=float32), 0.0]\n",
      "[array([[ 0.],\n",
      "       [ 0.]], dtype=float32), 0.0]\n",
      "[array([[ 0.],\n",
      "       [ 0.]], dtype=float32), 0.0]\n",
      "[array([[ 0.],\n",
      "       [ 0.]], dtype=float32), 0.0]\n",
      "[array([[ 0.],\n",
      "       [ 0.]], dtype=float32), 0.0]\n",
      "[array([[ 0.],\n",
      "       [ 0.]], dtype=float32), 0.0]\n",
      "[array([[ 0.],\n",
      "       [ 0.]], dtype=float32), 0.0]\n",
      "[array([[ 0.],\n",
      "       [ 0.]], dtype=float32), 0.0]\n",
      "[array([[ 0.],\n",
      "       [ 0.]], dtype=float32), 0.0]\n",
      "[array([[ 0.],\n",
      "       [ 0.]], dtype=float32), 0.0]\n",
      "[array([[ 0.],\n",
      "       [ 0.]], dtype=float32), 0.0]\n",
      "[array([[ 0.],\n",
      "       [ 0.]], dtype=float32), 0.0]\n",
      "[array([[ 0.],\n",
      "       [ 0.]], dtype=float32), 0.0]\n",
      "[array([[ 0.],\n",
      "       [ 0.]], dtype=float32), 0.0]\n",
      "[array([[ 0.],\n",
      "       [ 0.]], dtype=float32), 0.0]\n",
      "[array([[ 0.],\n",
      "       [ 0.]], dtype=float32), 0.0]\n",
      "[array([[ 0.],\n",
      "       [ 0.]], dtype=float32), 0.0]\n",
      "[array([[ 0.],\n",
      "       [ 0.]], dtype=float32), 0.0]\n",
      "[array([[ 0.],\n",
      "       [ 0.]], dtype=float32), 0.0]\n",
      "[array([[ 0.],\n",
      "       [ 0.]], dtype=float32), 0.0]\n",
      "[array([[ 0.],\n",
      "       [ 0.]], dtype=float32), 0.0]\n",
      "[array([[ 0.],\n",
      "       [ 0.]], dtype=float32), 0.0]\n",
      "[array([[ 0.],\n",
      "       [ 0.]], dtype=float32), 0.0]\n",
      "[array([[ 0.],\n",
      "       [ 0.]], dtype=float32), 0.0]\n",
      "[array([[ 0.],\n",
      "       [ 0.]], dtype=float32), 0.0]\n",
      "[array([[ 0.],\n",
      "       [ 0.]], dtype=float32), 0.0]\n",
      "[array([[ 0.],\n",
      "       [ 0.]], dtype=float32), 0.0]\n",
      "[array([[ 0.],\n",
      "       [ 0.]], dtype=float32), 0.0]\n",
      "[array([[ 0.],\n",
      "       [ 0.]], dtype=float32), 0.0]\n",
      "[array([[ 0.],\n",
      "       [ 0.]], dtype=float32), 0.0]\n",
      "[array([[ 0.],\n",
      "       [ 0.]], dtype=float32), 0.0]\n",
      "[array([[ 0.],\n",
      "       [ 0.]], dtype=float32), 0.0]\n",
      "[array([[ 0.],\n",
      "       [ 0.]], dtype=float32), 0.0]\n",
      "[array([[ 0.],\n",
      "       [ 0.]], dtype=float32), 0.0]\n",
      "[array([[ 0.],\n",
      "       [ 0.]], dtype=float32), 0.0]\n",
      "[array([[ 0.],\n",
      "       [ 0.]], dtype=float32), 0.0]\n",
      "[array([[ 0.],\n",
      "       [ 0.]], dtype=float32), 0.0]\n",
      "[array([[ 0.],\n",
      "       [ 0.]], dtype=float32), 0.0]\n",
      "[array([[ 0.],\n",
      "       [ 0.]], dtype=float32), 0.0]\n",
      "[array([[ 0.],\n",
      "       [ 0.]], dtype=float32), 0.0]\n",
      "[array([[ 0.],\n",
      "       [ 0.]], dtype=float32), 0.0]\n",
      "[array([[ 0.],\n",
      "       [ 0.]], dtype=float32), 0.0]\n",
      "[array([[ 0.],\n",
      "       [ 0.]], dtype=float32), 0.0]\n",
      "[array([[ 0.],\n",
      "       [ 0.]], dtype=float32), 0.0]\n",
      "[array([[ 0.],\n",
      "       [ 0.]], dtype=float32), 0.0]\n",
      "[array([[ 0.],\n",
      "       [ 0.]], dtype=float32), 0.0]\n",
      "[array([[ 0.],\n",
      "       [ 0.]], dtype=float32), 0.0]\n",
      "[array([[ 0.],\n",
      "       [ 0.]], dtype=float32), 0.0]\n",
      "[array([[ 0.],\n",
      "       [ 0.]], dtype=float32), 0.0]\n",
      "[array([[ 0.],\n",
      "       [ 0.]], dtype=float32), 0.0]\n",
      "[array([[ 0.],\n",
      "       [ 0.]], dtype=float32), 0.0]\n",
      "[array([[ 0.],\n",
      "       [ 0.]], dtype=float32), 0.0]\n",
      "[array([[ 0.],\n",
      "       [ 0.]], dtype=float32), 0.0]\n",
      "[array([[ 0.],\n",
      "       [ 0.]], dtype=float32), 0.0]\n",
      "[array([[ 0.],\n",
      "       [ 0.]], dtype=float32), 0.0]\n",
      "[array([[ 0.],\n",
      "       [ 0.]], dtype=float32), 0.0]\n",
      "[array([[ 0.],\n",
      "       [ 0.]], dtype=float32), 0.0]\n",
      "[array([[ 0.],\n",
      "       [ 0.]], dtype=float32), 0.0]\n",
      "[array([[ 0.],\n",
      "       [ 0.]], dtype=float32), 0.0]\n",
      "[array([[ 0.],\n",
      "       [ 0.]], dtype=float32), 0.0]\n",
      "[array([[ 0.],\n",
      "       [ 0.]], dtype=float32), 0.0]\n",
      "[array([[ 0.],\n",
      "       [ 0.]], dtype=float32), 0.0]\n",
      "[array([[ 0.],\n",
      "       [ 0.]], dtype=float32), 0.0]\n",
      "[array([[ 0.],\n",
      "       [ 0.]], dtype=float32), 0.0]\n",
      "[array([[ 0.],\n",
      "       [ 0.]], dtype=float32), 0.0]\n",
      "[array([[ 0.],\n",
      "       [ 0.]], dtype=float32), 0.0]\n",
      "[array([[ 0.],\n",
      "       [ 0.]], dtype=float32), 0.0]\n",
      "[array([[ 0.],\n",
      "       [ 0.]], dtype=float32), 0.0]\n",
      "[array([[ 0.],\n",
      "       [ 0.]], dtype=float32), 0.0]\n",
      "[array([[ 0.],\n",
      "       [ 0.]], dtype=float32), 0.0]\n",
      "[array([[ 0.],\n",
      "       [ 0.]], dtype=float32), 0.0]\n",
      "[array([[ 0.],\n",
      "       [ 0.]], dtype=float32), 0.0]\n",
      "[array([[ 0.],\n",
      "       [ 0.]], dtype=float32), 0.0]\n",
      "[array([[ 0.],\n",
      "       [ 0.]], dtype=float32), 0.0]\n",
      "[array([[ 0.],\n",
      "       [ 0.]], dtype=float32), 0.0]\n",
      "[array([[ 0.],\n",
      "       [ 0.]], dtype=float32), 0.0]\n",
      "[array([[ 0.],\n",
      "       [ 0.]], dtype=float32), 0.0]\n",
      "[array([[ 0.],\n",
      "       [ 0.]], dtype=float32), 0.0]\n",
      "[array([[ 0.],\n",
      "       [ 0.]], dtype=float32), 0.0]\n",
      "[array([[ 0.],\n",
      "       [ 0.]], dtype=float32), 0.0]\n",
      "[array([[ 0.],\n",
      "       [ 0.]], dtype=float32), 0.0]\n",
      "[array([[ 0.],\n",
      "       [ 0.]], dtype=float32), 0.0]\n",
      "[array([[ 0.],\n",
      "       [ 0.]], dtype=float32), 0.0]\n",
      "[array([[ 0.],\n",
      "       [ 0.]], dtype=float32), 0.0]\n",
      "[array([[ 0.],\n",
      "       [ 0.]], dtype=float32), 0.0]\n",
      "[array([[ 0.],\n",
      "       [ 0.]], dtype=float32), 0.0]\n",
      "[array([[ 0.],\n",
      "       [ 0.]], dtype=float32), 0.0]\n",
      "[array([[ 0.],\n",
      "       [ 0.]], dtype=float32), 0.0]\n",
      "[array([[ 0.],\n",
      "       [ 0.]], dtype=float32), 0.0]\n",
      "[array([[ 0.],\n",
      "       [ 0.]], dtype=float32), 0.0]\n",
      "[array([[ 0.],\n",
      "       [ 0.]], dtype=float32), 0.0]\n",
      "[array([[ 0.],\n",
      "       [ 0.]], dtype=float32), 0.0]\n",
      "[array([[ 0.],\n",
      "       [ 0.]], dtype=float32), 0.0]\n",
      "[array([[ 0.],\n",
      "       [ 0.]], dtype=float32), 0.0]\n",
      "[array([[ 0.],\n",
      "       [ 0.]], dtype=float32), 0.0]\n",
      "[array([[ 0.],\n",
      "       [ 0.]], dtype=float32), 0.0]\n",
      "[array([[ 0.],\n",
      "       [ 0.]], dtype=float32), 0.0]\n",
      "[array([[ 0.],\n",
      "       [ 0.]], dtype=float32), 0.0]\n",
      "[array([[ 0.],\n",
      "       [ 0.]], dtype=float32), 0.0]\n",
      "[array([[ 0.],\n",
      "       [ 0.]], dtype=float32), 0.0]\n",
      "[array([[ 0.],\n",
      "       [ 0.]], dtype=float32), 0.0]\n",
      "[array([[ 0.],\n",
      "       [ 0.]], dtype=float32), 0.0]\n",
      "[array([[ 0.],\n",
      "       [ 0.]], dtype=float32), 0.0]\n",
      "[array([[ 0.],\n",
      "       [ 0.]], dtype=float32), 0.0]\n",
      "[array([[ 0.],\n",
      "       [ 0.]], dtype=float32), 0.0]\n",
      "[array([[ 0.],\n",
      "       [ 0.]], dtype=float32), 0.0]\n",
      "[array([[ 0.],\n",
      "       [ 0.]], dtype=float32), 0.0]\n",
      "[array([[ 0.],\n",
      "       [ 0.]], dtype=float32), 0.0]\n",
      "[array([[ 0.],\n",
      "       [ 0.]], dtype=float32), 0.0]\n",
      "[array([[ 0.],\n",
      "       [ 0.]], dtype=float32), 0.0]\n",
      "[array([[ 0.],\n",
      "       [ 0.]], dtype=float32), 0.0]\n",
      "[array([[ 0.],\n",
      "       [ 0.]], dtype=float32), 0.0]\n",
      "[array([[ 0.],\n",
      "       [ 0.]], dtype=float32), 0.0]\n",
      "[array([[ 0.],\n",
      "       [ 0.]], dtype=float32), 0.0]\n",
      "[array([[ 0.],\n",
      "       [ 0.]], dtype=float32), 0.0]\n",
      "[array([[ 0.],\n",
      "       [ 0.]], dtype=float32), 0.0]\n",
      "[array([[ 0.],\n",
      "       [ 0.]], dtype=float32), 0.0]\n",
      "[array([[ 0.],\n",
      "       [ 0.]], dtype=float32), 0.0]\n",
      "[array([[ 0.],\n",
      "       [ 0.]], dtype=float32), 0.0]\n",
      "[array([[ 0.],\n",
      "       [ 0.]], dtype=float32), 0.0]\n",
      "[array([[ 0.],\n",
      "       [ 0.]], dtype=float32), 0.0]\n",
      "[array([[ 0.],\n",
      "       [ 0.]], dtype=float32), 0.0]\n",
      "[array([[ 0.],\n",
      "       [ 0.]], dtype=float32), 0.0]\n",
      "[array([[ 0.],\n",
      "       [ 0.]], dtype=float32), 0.0]\n",
      "[array([[ 0.],\n",
      "       [ 0.]], dtype=float32), 0.0]\n",
      "[array([[ 0.],\n",
      "       [ 0.]], dtype=float32), 0.0]\n",
      "[array([[ 0.],\n",
      "       [ 0.]], dtype=float32), 0.0]\n",
      "[array([[ 0.],\n",
      "       [ 0.]], dtype=float32), 0.0]\n",
      "[array([[ 0.],\n",
      "       [ 0.]], dtype=float32), 0.0]\n",
      "[array([[ 0.],\n",
      "       [ 0.]], dtype=float32), 0.0]\n",
      "[array([[ 0.],\n",
      "       [ 0.]], dtype=float32), 0.0]\n",
      "[array([[ 0.],\n",
      "       [ 0.]], dtype=float32), 0.0]\n",
      "[array([[ 0.],\n",
      "       [ 0.]], dtype=float32), 0.0]\n",
      "[array([[ 0.],\n",
      "       [ 0.]], dtype=float32), 0.0]\n",
      "[array([[ 0.],\n",
      "       [ 0.]], dtype=float32), 0.0]\n",
      "[array([[ 0.],\n",
      "       [ 0.]], dtype=float32), 0.0]\n",
      "[array([[ 0.],\n",
      "       [ 0.]], dtype=float32), 0.0]\n",
      "[array([[ 0.],\n",
      "       [ 0.]], dtype=float32), 0.0]\n",
      "[array([[ 0.],\n",
      "       [ 0.]], dtype=float32), 0.0]\n",
      "[array([[ 0.],\n",
      "       [ 0.]], dtype=float32), 0.0]\n",
      "[array([[ 0.],\n",
      "       [ 0.]], dtype=float32), 0.0]\n",
      "[array([[ 0.],\n",
      "       [ 0.]], dtype=float32), 0.0]\n",
      "[array([[ 0.],\n",
      "       [ 0.]], dtype=float32), 0.0]\n",
      "[array([[ 0.],\n",
      "       [ 0.]], dtype=float32), 0.0]\n",
      "[array([[ 0.],\n",
      "       [ 0.]], dtype=float32), 0.0]\n",
      "[array([[ 0.],\n",
      "       [ 0.]], dtype=float32), 0.0]\n",
      "[array([[ 0.],\n",
      "       [ 0.]], dtype=float32), 0.0]\n",
      "[array([[ 0.],\n",
      "       [ 0.]], dtype=float32), 0.0]\n",
      "[array([[ 0.],\n",
      "       [ 0.]], dtype=float32), 0.0]\n",
      "[array([[ 0.],\n",
      "       [ 0.]], dtype=float32), 0.0]\n",
      "[array([[ 0.],\n",
      "       [ 0.]], dtype=float32), 0.0]\n",
      "[array([[ 0.],\n",
      "       [ 0.]], dtype=float32), 0.0]\n",
      "[array([[ 0.],\n",
      "       [ 0.]], dtype=float32), 0.0]\n",
      "[array([[ 0.],\n",
      "       [ 0.]], dtype=float32), 0.0]\n",
      "[array([[ 0.],\n",
      "       [ 0.]], dtype=float32), 0.0]\n",
      "[array([[ 0.],\n",
      "       [ 0.]], dtype=float32), 0.0]\n",
      "[array([[ 0.],\n",
      "       [ 0.]], dtype=float32), 0.0]\n",
      "[array([[ 0.],\n",
      "       [ 0.]], dtype=float32), 0.0]\n",
      "[array([[ 0.],\n",
      "       [ 0.]], dtype=float32), 0.0]\n",
      "[array([[ 0.],\n",
      "       [ 0.]], dtype=float32), 0.0]\n",
      "[array([[ 0.],\n",
      "       [ 0.]], dtype=float32), 0.0]\n",
      "[array([[ 0.],\n",
      "       [ 0.]], dtype=float32), 0.0]\n",
      "[array([[ 0.],\n",
      "       [ 0.]], dtype=float32), 0.0]\n",
      "[array([[ 0.],\n",
      "       [ 0.]], dtype=float32), 0.0]\n",
      "[array([[ 0.],\n",
      "       [ 0.]], dtype=float32), 0.0]\n",
      "[array([[ 0.],\n",
      "       [ 0.]], dtype=float32), 0.0]\n",
      "[array([[ 0.],\n",
      "       [ 0.]], dtype=float32), 0.0]\n",
      "[array([[ 0.],\n",
      "       [ 0.]], dtype=float32), 0.0]\n",
      "[array([[ 0.],\n",
      "       [ 0.]], dtype=float32), 0.0]\n",
      "[array([[ 0.],\n",
      "       [ 0.]], dtype=float32), 0.0]\n",
      "[array([[ 0.],\n",
      "       [ 0.]], dtype=float32), 0.0]\n",
      "[array([[ 0.],\n",
      "       [ 0.]], dtype=float32), 0.0]\n",
      "[array([[ 0.],\n",
      "       [ 0.]], dtype=float32), 0.0]\n",
      "[array([[ 0.],\n",
      "       [ 0.]], dtype=float32), 0.0]\n",
      "[array([[ 0.],\n",
      "       [ 0.]], dtype=float32), 0.0]\n",
      "[array([[ 0.],\n",
      "       [ 0.]], dtype=float32), 0.0]\n",
      "[array([[ 0.],\n",
      "       [ 0.]], dtype=float32), 0.0]\n",
      "[array([[ 0.],\n",
      "       [ 0.]], dtype=float32), 0.0]\n",
      "[array([[ 0.],\n",
      "       [ 0.]], dtype=float32), 0.0]\n",
      "[array([[ 0.],\n",
      "       [ 0.]], dtype=float32), 0.0]\n",
      "[array([[ 0.],\n",
      "       [ 0.]], dtype=float32), 0.0]\n",
      "[array([[ 0.],\n",
      "       [ 0.]], dtype=float32), 0.0]\n",
      "[array([[ 0.],\n",
      "       [ 0.]], dtype=float32), 0.0]\n",
      "[array([[ 0.],\n",
      "       [ 0.]], dtype=float32), 0.0]\n",
      "[array([[ 0.],\n",
      "       [ 0.]], dtype=float32), 0.0]\n",
      "[array([[ 0.],\n",
      "       [ 0.]], dtype=float32), 0.0]\n",
      "[array([[ 0.],\n",
      "       [ 0.]], dtype=float32), 0.0]\n",
      "[array([[ 0.],\n",
      "       [ 0.]], dtype=float32), 0.0]\n",
      "[array([[ 0.],\n",
      "       [ 0.]], dtype=float32), 0.0]\n",
      "[array([[ 0.],\n",
      "       [ 0.]], dtype=float32), 0.0]\n",
      "[array([[ 0.],\n",
      "       [ 0.]], dtype=float32), 0.0]\n",
      "[array([[ 0.],\n",
      "       [ 0.]], dtype=float32), 0.0]\n",
      "[array([[ 0.],\n",
      "       [ 0.]], dtype=float32), 0.0]\n",
      "[array([[ 0.],\n",
      "       [ 0.]], dtype=float32), 0.0]\n",
      "[array([[ 0.],\n",
      "       [ 0.]], dtype=float32), 0.0]\n",
      "[array([[ 0.],\n",
      "       [ 0.]], dtype=float32), 0.0]\n",
      "[array([[ 0.],\n",
      "       [ 0.]], dtype=float32), 0.0]\n",
      "[array([[ 0.],\n",
      "       [ 0.]], dtype=float32), 0.0]\n",
      "[array([[ 0.],\n",
      "       [ 0.]], dtype=float32), 0.0]\n",
      "[array([[ 0.],\n",
      "       [ 0.]], dtype=float32), 0.0]\n",
      "[array([[ 0.],\n",
      "       [ 0.]], dtype=float32), 0.0]\n",
      "[array([[ 0.],\n",
      "       [ 0.]], dtype=float32), 0.0]\n",
      "[array([[ 0.],\n",
      "       [ 0.]], dtype=float32), 0.0]\n",
      "[array([[ 0.],\n",
      "       [ 0.]], dtype=float32), 0.0]\n",
      "[array([[ 0.],\n",
      "       [ 0.]], dtype=float32), 0.0]\n",
      "[array([[ 0.],\n",
      "       [ 0.]], dtype=float32), 0.0]\n",
      "[array([[ 0.],\n",
      "       [ 0.]], dtype=float32), 0.0]\n",
      "[array([[ 0.],\n",
      "       [ 0.]], dtype=float32), 0.0]\n",
      "[array([[ 0.],\n",
      "       [ 0.]], dtype=float32), 0.0]\n",
      "[array([[ 0.],\n",
      "       [ 0.]], dtype=float32), 0.0]\n",
      "[array([[ 0.],\n",
      "       [ 0.]], dtype=float32), 0.0]\n",
      "[array([[ 0.],\n",
      "       [ 0.]], dtype=float32), 0.0]\n",
      "[array([[ 0.],\n",
      "       [ 0.]], dtype=float32), 0.0]\n",
      "[array([[ 0.],\n",
      "       [ 0.]], dtype=float32), 0.0]\n",
      "[array([[ 0.],\n",
      "       [ 0.]], dtype=float32), 0.0]\n",
      "[array([[ 0.],\n",
      "       [ 0.]], dtype=float32), 0.0]\n",
      "[array([[ 0.],\n",
      "       [ 0.]], dtype=float32), 0.0]\n",
      "[array([[ 0.],\n",
      "       [ 0.]], dtype=float32), 0.0]\n",
      "[array([[ 0.],\n",
      "       [ 0.]], dtype=float32), 0.0]\n",
      "[array([[ 0.],\n",
      "       [ 0.]], dtype=float32), 0.0]\n",
      "[array([[ 0.],\n",
      "       [ 0.]], dtype=float32), 0.0]\n",
      "[array([[ 0.],\n",
      "       [ 0.]], dtype=float32), 0.0]\n",
      "[array([[ 0.],\n",
      "       [ 0.]], dtype=float32), 0.0]\n",
      "[array([[ 0.],\n",
      "       [ 0.]], dtype=float32), 0.0]\n",
      "[array([[ 0.],\n",
      "       [ 0.]], dtype=float32), 0.0]\n",
      "[array([[ 0.],\n",
      "       [ 0.]], dtype=float32), 0.0]\n",
      "[array([[ 0.],\n",
      "       [ 0.]], dtype=float32), 0.0]\n",
      "[array([[ 0.],\n",
      "       [ 0.]], dtype=float32), 0.0]\n",
      "[array([[ 0.],\n",
      "       [ 0.]], dtype=float32), 0.0]\n",
      "[array([[ 0.],\n",
      "       [ 0.]], dtype=float32), 0.0]\n",
      "[array([[ 0.],\n",
      "       [ 0.]], dtype=float32), 0.0]\n",
      "[array([[ 0.],\n",
      "       [ 0.]], dtype=float32), 0.0]\n",
      "[array([[ 0.],\n",
      "       [ 0.]], dtype=float32), 0.0]\n",
      "[array([[ 0.],\n",
      "       [ 0.]], dtype=float32), 0.0]\n",
      "[array([[ 0.],\n",
      "       [ 0.]], dtype=float32), 0.0]\n",
      "[array([[ 0.],\n",
      "       [ 0.]], dtype=float32), 0.0]\n",
      "[array([[ 0.],\n",
      "       [ 0.]], dtype=float32), 0.0]\n",
      "[array([[ 0.],\n",
      "       [ 0.]], dtype=float32), 0.0]\n",
      "[array([[ 0.],\n",
      "       [ 0.]], dtype=float32), 0.0]\n",
      "[array([[ 0.],\n",
      "       [ 0.]], dtype=float32), 0.0]\n",
      "[array([[ 0.],\n",
      "       [ 0.]], dtype=float32), 0.0]\n",
      "[array([[ 0.],\n",
      "       [ 0.]], dtype=float32), 0.0]\n",
      "[array([[ 0.],\n",
      "       [ 0.]], dtype=float32), 0.0]\n",
      "[array([[ 0.],\n",
      "       [ 0.]], dtype=float32), 0.0]\n",
      "[array([[ 0.],\n",
      "       [ 0.]], dtype=float32), 0.0]\n",
      "[array([[ 0.],\n",
      "       [ 0.]], dtype=float32), 0.0]\n",
      "[array([[ 0.],\n",
      "       [ 0.]], dtype=float32), 0.0]\n",
      "[array([[ 0.],\n",
      "       [ 0.]], dtype=float32), 0.0]\n",
      "[array([[ 0.],\n",
      "       [ 0.]], dtype=float32), 0.0]\n",
      "[array([[ 0.],\n",
      "       [ 0.]], dtype=float32), 0.0]\n",
      "[array([[ 0.],\n",
      "       [ 0.]], dtype=float32), 0.0]\n",
      "[array([[ 0.],\n",
      "       [ 0.]], dtype=float32), 0.0]\n",
      "[array([[ 0.],\n",
      "       [ 0.]], dtype=float32), 0.0]\n",
      "[array([[ 0.],\n",
      "       [ 0.]], dtype=float32), 0.0]\n",
      "[array([[ 0.],\n",
      "       [ 0.]], dtype=float32), 0.0]\n",
      "[array([[ 0.],\n",
      "       [ 0.]], dtype=float32), 0.0]\n",
      "[array([[ 0.],\n",
      "       [ 0.]], dtype=float32), 0.0]\n",
      "[array([[ 0.],\n",
      "       [ 0.]], dtype=float32), 0.0]\n",
      "[array([[ 0.],\n",
      "       [ 0.]], dtype=float32), 0.0]\n",
      "[array([[ 0.],\n",
      "       [ 0.]], dtype=float32), 0.0]\n",
      "[array([[ 0.],\n",
      "       [ 0.]], dtype=float32), 0.0]\n",
      "[array([[ 0.],\n",
      "       [ 0.]], dtype=float32), 0.0]\n",
      "[array([[ 0.],\n",
      "       [ 0.]], dtype=float32), 0.0]\n",
      "[array([[ 0.],\n",
      "       [ 0.]], dtype=float32), 0.0]\n",
      "[array([[ 0.],\n",
      "       [ 0.]], dtype=float32), 0.0]\n",
      "[array([[ 0.],\n",
      "       [ 0.]], dtype=float32), 0.0]\n",
      "[array([[ 0.],\n",
      "       [ 0.]], dtype=float32), 0.0]\n",
      "[array([[ 0.],\n",
      "       [ 0.]], dtype=float32), 0.0]\n",
      "[array([[ 0.],\n",
      "       [ 0.]], dtype=float32), 0.0]\n",
      "[array([[ 0.],\n",
      "       [ 0.]], dtype=float32), 0.0]\n",
      "[array([[ 0.],\n",
      "       [ 0.]], dtype=float32), 0.0]\n",
      "[array([[ 0.],\n",
      "       [ 0.]], dtype=float32), 0.0]\n",
      "[array([[ 0.],\n",
      "       [ 0.]], dtype=float32), 0.0]\n",
      "[array([[ 0.],\n",
      "       [ 0.]], dtype=float32), 0.0]\n",
      "[array([[ 0.],\n",
      "       [ 0.]], dtype=float32), 0.0]\n",
      "[array([[ 0.],\n",
      "       [ 0.]], dtype=float32), 0.0]\n",
      "[array([[ 0.],\n",
      "       [ 0.]], dtype=float32), 0.0]\n",
      "[array([[ 0.],\n",
      "       [ 0.]], dtype=float32), 0.0]\n",
      "[array([[ 0.],\n",
      "       [ 0.]], dtype=float32), 0.0]\n",
      "[array([[ 0.],\n",
      "       [ 0.]], dtype=float32), 0.0]\n",
      "[array([[ 0.],\n",
      "       [ 0.]], dtype=float32), 0.0]\n",
      "[array([[ 0.],\n",
      "       [ 0.]], dtype=float32), 0.0]\n",
      "[array([[ 0.],\n",
      "       [ 0.]], dtype=float32), 0.0]\n",
      "[array([[ 0.],\n",
      "       [ 0.]], dtype=float32), 0.0]\n",
      "[array([[ 0.],\n",
      "       [ 0.]], dtype=float32), 0.0]\n",
      "[array([[ 0.],\n",
      "       [ 0.]], dtype=float32), 0.0]\n",
      "[array([[ 0.],\n",
      "       [ 0.]], dtype=float32), 0.0]\n",
      "[array([[ 0.],\n",
      "       [ 0.]], dtype=float32), 0.0]\n",
      "[array([[ 0.],\n",
      "       [ 0.]], dtype=float32), 0.0]\n",
      "[array([[ 0.],\n",
      "       [ 0.]], dtype=float32), 0.0]\n",
      "[array([[ 0.],\n",
      "       [ 0.]], dtype=float32), 0.0]\n",
      "[array([[ 0.],\n",
      "       [ 0.]], dtype=float32), 0.0]\n",
      "[array([[ 0.],\n",
      "       [ 0.]], dtype=float32), 0.0]\n",
      "[array([[ 0.],\n",
      "       [ 0.]], dtype=float32), 0.0]\n",
      "[array([[ 0.],\n",
      "       [ 0.]], dtype=float32), 0.0]\n",
      "[array([[ 0.],\n",
      "       [ 0.]], dtype=float32), 0.0]\n",
      "[array([[ 0.],\n",
      "       [ 0.]], dtype=float32), 0.0]\n",
      "[array([[ 0.],\n",
      "       [ 0.]], dtype=float32), 0.0]\n",
      "[array([[ 0.],\n",
      "       [ 0.]], dtype=float32), 0.0]\n",
      "[array([[ 0.],\n",
      "       [ 0.]], dtype=float32), 0.0]\n",
      "[array([[ 0.],\n",
      "       [ 0.]], dtype=float32), 0.0]\n",
      "[array([[ 0.],\n",
      "       [ 0.]], dtype=float32), 0.0]\n",
      "[array([[ 0.],\n",
      "       [ 0.]], dtype=float32), 0.0]\n",
      "[array([[ 0.],\n",
      "       [ 0.]], dtype=float32), 0.0]\n",
      "[array([[ 0.],\n",
      "       [ 0.]], dtype=float32), 0.0]\n",
      "[array([[ 0.],\n",
      "       [ 0.]], dtype=float32), 0.0]\n",
      "[array([[ 0.],\n",
      "       [ 0.]], dtype=float32), 0.0]\n",
      "[array([[ 0.],\n",
      "       [ 0.]], dtype=float32), 0.0]\n",
      "[array([[ 0.],\n",
      "       [ 0.]], dtype=float32), 0.0]\n",
      "[array([[ 0.],\n",
      "       [ 0.]], dtype=float32), 0.0]\n",
      "[array([[ 0.],\n",
      "       [ 0.]], dtype=float32), 0.0]\n",
      "[array([[ 0.],\n",
      "       [ 0.]], dtype=float32), 0.0]\n",
      "[array([[ 0.],\n",
      "       [ 0.]], dtype=float32), 0.0]\n",
      "[array([[ 0.],\n",
      "       [ 0.]], dtype=float32), 0.0]\n",
      "[array([[ 0.],\n",
      "       [ 0.]], dtype=float32), 0.0]\n",
      "[array([[ 0.],\n",
      "       [ 0.]], dtype=float32), 0.0]\n",
      "[array([[ 0.],\n",
      "       [ 0.]], dtype=float32), 0.0]\n",
      "[array([[ 0.],\n",
      "       [ 0.]], dtype=float32), 0.0]\n",
      "[array([[ 0.],\n",
      "       [ 0.]], dtype=float32), 0.0]\n",
      "[array([[ 0.],\n",
      "       [ 0.]], dtype=float32), 0.0]\n",
      "[array([[ 0.],\n",
      "       [ 0.]], dtype=float32), 0.0]\n",
      "[array([[ 0.],\n",
      "       [ 0.]], dtype=float32), 0.0]\n",
      "[array([[ 0.],\n",
      "       [ 0.]], dtype=float32), 0.0]\n",
      "[array([[ 0.],\n",
      "       [ 0.]], dtype=float32), 0.0]\n",
      "[array([[ 0.],\n",
      "       [ 0.]], dtype=float32), 0.0]\n",
      "[array([[ 0.],\n",
      "       [ 0.]], dtype=float32), 0.0]\n",
      "[array([[ 0.],\n",
      "       [ 0.]], dtype=float32), 0.0]\n",
      "[array([[ 0.],\n",
      "       [ 0.]], dtype=float32), 0.0]\n",
      "[array([[ 0.],\n",
      "       [ 0.]], dtype=float32), 0.0]\n",
      "[array([[ 0.],\n",
      "       [ 0.]], dtype=float32), 0.0]\n",
      "[array([[ 0.],\n",
      "       [ 0.]], dtype=float32), 0.0]\n",
      "[array([[ 0.],\n",
      "       [ 0.]], dtype=float32), 0.0]\n",
      "[array([[ 0.],\n",
      "       [ 0.]], dtype=float32), 0.0]\n",
      "[array([[ 0.],\n",
      "       [ 0.]], dtype=float32), 0.0]\n",
      "[array([[ 0.],\n",
      "       [ 0.]], dtype=float32), 0.0]\n",
      "[array([[ 0.],\n",
      "       [ 0.]], dtype=float32), 0.0]\n",
      "[array([[ 0.],\n",
      "       [ 0.]], dtype=float32), 0.0]\n",
      "[array([[ 0.],\n",
      "       [ 0.]], dtype=float32), 0.0]\n",
      "[array([[ 0.],\n",
      "       [ 0.]], dtype=float32), 0.0]\n",
      "[array([[ 0.],\n",
      "       [ 0.]], dtype=float32), 0.0]\n",
      "[array([[ 0.],\n",
      "       [ 0.]], dtype=float32), 0.0]\n",
      "[array([[ 0.],\n",
      "       [ 0.]], dtype=float32), 0.0]\n",
      "[array([[ 0.],\n",
      "       [ 0.]], dtype=float32), 0.0]\n",
      "[array([[ 0.],\n",
      "       [ 0.]], dtype=float32), 0.0]\n",
      "[array([[ 0.],\n",
      "       [ 0.]], dtype=float32), 0.0]\n",
      "[array([[ 0.],\n",
      "       [ 0.]], dtype=float32), 0.0]\n",
      "[array([[ 0.],\n",
      "       [ 0.]], dtype=float32), 0.0]\n",
      "[array([[ 0.],\n",
      "       [ 0.]], dtype=float32), 0.0]\n",
      "[array([[ 0.],\n",
      "       [ 0.]], dtype=float32), 0.0]\n",
      "[array([[ 0.],\n",
      "       [ 0.]], dtype=float32), 0.0]\n",
      "[array([[ 0.],\n",
      "       [ 0.]], dtype=float32), 0.0]\n",
      "[array([[ 0.],\n",
      "       [ 0.]], dtype=float32), 0.0]\n",
      "[array([[ 0.],\n",
      "       [ 0.]], dtype=float32), 0.0]\n",
      "[array([[ 0.],\n",
      "       [ 0.]], dtype=float32), 0.0]\n",
      "[array([[ 0.],\n",
      "       [ 0.]], dtype=float32), 0.0]\n",
      "[array([[ 0.],\n",
      "       [ 0.]], dtype=float32), 0.0]\n",
      "[array([[ 0.],\n",
      "       [ 0.]], dtype=float32), 0.0]\n",
      "[array([[ 0.],\n",
      "       [ 0.]], dtype=float32), 0.0]\n",
      "[array([[ 0.],\n",
      "       [ 0.]], dtype=float32), 0.0]\n",
      "[array([[ 0.],\n",
      "       [ 0.]], dtype=float32), 0.0]\n",
      "[array([[ 0.],\n",
      "       [ 0.]], dtype=float32), 0.0]\n",
      "[array([[ 0.],\n",
      "       [ 0.]], dtype=float32), 0.0]\n",
      "[array([[ 0.],\n",
      "       [ 0.]], dtype=float32), 0.0]\n",
      "[array([[ 0.],\n",
      "       [ 0.]], dtype=float32), 0.0]\n",
      "[array([[ 0.],\n",
      "       [ 0.]], dtype=float32), 0.0]\n",
      "[array([[ 0.],\n",
      "       [ 0.]], dtype=float32), 0.0]\n",
      "[array([[ 0.],\n",
      "       [ 0.]], dtype=float32), 0.0]\n",
      "[array([[ 0.],\n",
      "       [ 0.]], dtype=float32), 0.0]\n",
      "[array([[ 0.],\n",
      "       [ 0.]], dtype=float32), 0.0]\n",
      "[array([[ 0.],\n",
      "       [ 0.]], dtype=float32), 0.0]\n",
      "[array([[ 0.],\n",
      "       [ 0.]], dtype=float32), 0.0]\n",
      "[array([[ 0.],\n",
      "       [ 0.]], dtype=float32), 0.0]\n",
      "[array([[ 0.],\n",
      "       [ 0.]], dtype=float32), 0.0]\n",
      "[array([[ 0.],\n",
      "       [ 0.]], dtype=float32), 0.0]\n",
      "[array([[ 0.],\n",
      "       [ 0.]], dtype=float32), 0.0]\n",
      "[array([[ 0.],\n",
      "       [ 0.]], dtype=float32), 0.0]\n",
      "[array([[ 0.],\n",
      "       [ 0.]], dtype=float32), 0.0]\n",
      "[array([[ 0.],\n",
      "       [ 0.]], dtype=float32), 0.0]\n",
      "[array([[ 0.],\n",
      "       [ 0.]], dtype=float32), 0.0]\n",
      "[array([[ 0.],\n",
      "       [ 0.]], dtype=float32), 0.0]\n",
      "[array([[ 0.],\n",
      "       [ 0.]], dtype=float32), 0.0]\n",
      "[array([[ 0.],\n",
      "       [ 0.]], dtype=float32), 0.0]\n",
      "[array([[ 0.],\n",
      "       [ 0.]], dtype=float32), 0.0]\n",
      "[array([[ 0.],\n",
      "       [ 0.]], dtype=float32), 0.0]\n",
      "[array([[ 0.],\n",
      "       [ 0.]], dtype=float32), 0.0]\n",
      "[array([[ 0.],\n",
      "       [ 0.]], dtype=float32), 0.0]\n",
      "[array([[ 0.],\n",
      "       [ 0.]], dtype=float32), 0.0]\n",
      "[array([[ 0.],\n",
      "       [ 0.]], dtype=float32), 0.0]\n",
      "[array([[ 0.],\n",
      "       [ 0.]], dtype=float32), 0.0]\n",
      "[array([[ 0.],\n",
      "       [ 0.]], dtype=float32), 0.0]\n",
      "[array([[ 0.],\n",
      "       [ 0.]], dtype=float32), 0.0]\n",
      "[array([[ 0.],\n",
      "       [ 0.]], dtype=float32), 0.0]\n",
      "[array([[ 0.],\n",
      "       [ 0.]], dtype=float32), 0.0]\n",
      "[array([[ 0.],\n",
      "       [ 0.]], dtype=float32), 0.0]\n",
      "[array([[ 0.],\n",
      "       [ 0.]], dtype=float32), 0.0]\n",
      "[array([[ 0.],\n",
      "       [ 0.]], dtype=float32), 0.0]\n",
      "[array([[ 0.],\n",
      "       [ 0.]], dtype=float32), 0.0]\n",
      "[array([[ 0.],\n",
      "       [ 0.]], dtype=float32), 0.0]\n",
      "[array([[ 0.],\n",
      "       [ 0.]], dtype=float32), 0.0]\n",
      "[array([[ 0.],\n",
      "       [ 0.]], dtype=float32), 0.0]\n",
      "[array([[ 0.],\n",
      "       [ 0.]], dtype=float32), 0.0]\n",
      "[array([[ 0.],\n",
      "       [ 0.]], dtype=float32), 0.0]\n",
      "[array([[ 0.],\n",
      "       [ 0.]], dtype=float32), 0.0]\n",
      "[array([[ 0.],\n",
      "       [ 0.]], dtype=float32), 0.0]\n",
      "[array([[ 0.],\n",
      "       [ 0.]], dtype=float32), 0.0]\n",
      "[array([[ 0.],\n",
      "       [ 0.]], dtype=float32), 0.0]\n",
      "[array([[ 0.],\n",
      "       [ 0.]], dtype=float32), 0.0]\n",
      "[array([[ 0.],\n",
      "       [ 0.]], dtype=float32), 0.0]\n",
      "[array([[ 0.],\n",
      "       [ 0.]], dtype=float32), 0.0]\n",
      "[array([[ 0.],\n",
      "       [ 0.]], dtype=float32), 0.0]\n",
      "[array([[ 0.],\n",
      "       [ 0.]], dtype=float32), 0.0]\n",
      "[array([[ 0.],\n",
      "       [ 0.]], dtype=float32), 0.0]\n",
      "[array([[ 0.],\n",
      "       [ 0.]], dtype=float32), 0.0]\n",
      "[array([[ 0.],\n",
      "       [ 0.]], dtype=float32), 0.0]\n",
      "[array([[ 0.],\n",
      "       [ 0.]], dtype=float32), 0.0]\n",
      "[array([[ 0.],\n",
      "       [ 0.]], dtype=float32), 0.0]\n",
      "[array([[ 0.],\n",
      "       [ 0.]], dtype=float32), 0.0]\n",
      "[array([[ 0.],\n",
      "       [ 0.]], dtype=float32), 0.0]\n",
      "[array([[ 0.],\n",
      "       [ 0.]], dtype=float32), 0.0]\n",
      "[array([[ 0.],\n",
      "       [ 0.]], dtype=float32), 0.0]\n",
      "[array([[ 0.],\n",
      "       [ 0.]], dtype=float32), 0.0]\n",
      "[array([[ 0.],\n",
      "       [ 0.]], dtype=float32), 0.0]\n",
      "[array([[ 0.],\n",
      "       [ 0.]], dtype=float32), 0.0]\n",
      "[array([[ 0.],\n",
      "       [ 0.]], dtype=float32), 0.0]\n",
      "[array([[ 0.],\n",
      "       [ 0.]], dtype=float32), 0.0]\n",
      "[array([[ 0.],\n",
      "       [ 0.]], dtype=float32), 0.0]\n",
      "[array([[ 0.],\n",
      "       [ 0.]], dtype=float32), 0.0]\n",
      "[array([[ 0.],\n",
      "       [ 0.]], dtype=float32), 0.0]\n",
      "[array([[ 0.],\n",
      "       [ 0.]], dtype=float32), 0.0]\n",
      "[array([[ 0.],\n",
      "       [ 0.]], dtype=float32), 0.0]\n",
      "[array([[ 0.],\n",
      "       [ 0.]], dtype=float32), 0.0]\n",
      "[array([[ 0.],\n",
      "       [ 0.]], dtype=float32), 0.0]\n",
      "[array([[ 0.],\n",
      "       [ 0.]], dtype=float32), 0.0]\n",
      "[array([[ 0.],\n",
      "       [ 0.]], dtype=float32), 0.0]\n",
      "[array([[ 0.],\n",
      "       [ 0.]], dtype=float32), 0.0]\n",
      "[array([[ 0.],\n",
      "       [ 0.]], dtype=float32), 0.0]\n",
      "[array([[ 0.],\n",
      "       [ 0.]], dtype=float32), 0.0]\n",
      "[array([[ 0.],\n",
      "       [ 0.]], dtype=float32), 0.0]\n",
      "[array([[ 0.],\n",
      "       [ 0.]], dtype=float32), 0.0]\n",
      "[array([[ 0.],\n",
      "       [ 0.]], dtype=float32), 0.0]\n",
      "[array([[ 0.],\n",
      "       [ 0.]], dtype=float32), 0.0]\n",
      "[array([[ 0.],\n",
      "       [ 0.]], dtype=float32), 0.0]\n",
      "[array([[ 0.],\n",
      "       [ 0.]], dtype=float32), 0.0]\n",
      "[array([[ 0.],\n",
      "       [ 0.]], dtype=float32), 0.0]\n",
      "[array([[ 0.],\n",
      "       [ 0.]], dtype=float32), 0.0]\n",
      "[array([[ 0.],\n",
      "       [ 0.]], dtype=float32), 0.0]\n",
      "[array([[ 0.],\n",
      "       [ 0.]], dtype=float32), 0.0]\n",
      "[array([[ 0.],\n",
      "       [ 0.]], dtype=float32), 0.0]\n",
      "[array([[ 0.],\n",
      "       [ 0.]], dtype=float32), 0.0]\n",
      "[array([[ 0.],\n",
      "       [ 0.]], dtype=float32), 0.0]\n",
      "[array([[ 0.],\n",
      "       [ 0.]], dtype=float32), 0.0]\n",
      "[array([[ 0.],\n",
      "       [ 0.]], dtype=float32), 0.0]\n",
      "[array([[ 0.],\n",
      "       [ 0.]], dtype=float32), 0.0]\n",
      "[array([[ 0.],\n",
      "       [ 0.]], dtype=float32), 0.0]\n"
     ]
    }
   ],
   "source": [
    "xdata = []\n",
    "ydata = []\n",
    "with open('./test.txt','r') as f:\n",
    "    lines = f.readlines()\n",
    "    for i in range(len(lines)):\n",
    "        xdata.append( [int(lines[i][7:9]), int(lines[i][11:13])] )\n",
    "        ydata.append( int(lines[i][15:18]) )\n",
    "xtrain = np.array(xdata)\n",
    "ytrain = np.array(ydata)\n",
    "\n",
    "X = tf.placeholder('float')\n",
    "W = tf.Variable(tf.zeros([2,1]), name='weights')\n",
    "b = tf.Variable(0., name='bias')\n",
    "\n",
    "matm = tf.matmul(X, W)\n",
    "y = tf.nn.softmax(tf.matmul(X, W) + b)\n",
    "y_ = tf.placeholder('float')\n",
    "\n",
    "\n",
    "\n",
    "cross_entropy = -tf.reduce_sum(y_*tf.log(y))\n",
    "train_step = tf.train.GradientDescentOptimizer(0.0001).minimize(cross_entropy)\n",
    "\n",
    "sess = tf.Session()\n",
    "sess.run(tf.global_variables_initializer())\n",
    "\n",
    "for i in range(1000):\n",
    "    sess.run(train_step, feed_dict={X:xtrain, y_:ytrain})\n",
    "    print(sess.run([W, b]))"
   ]
  },
  {
   "cell_type": "code",
   "execution_count": 6,
   "metadata": {
    "collapsed": true
   },
   "outputs": [],
   "source": [
    "def inference(X):\n",
    "    return tf.matmul(X, W) + b"
   ]
  },
  {
   "cell_type": "code",
   "execution_count": 7,
   "metadata": {
    "collapsed": true
   },
   "outputs": [],
   "source": [
    "def loss(X, Y):\n",
    "    Y_predicted = inference(X)\n",
    "    return tf.reduce_sum(tf.squared_difference(Y, Y_predicted))"
   ]
  },
  {
   "cell_type": "code",
   "execution_count": 85,
   "metadata": {
    "collapsed": true
   },
   "outputs": [],
   "source": [
    "def inputs():\n",
    "    weight_age = data\n",
    "    blood_fat_content = ydata\n",
    "    return tf.to_float(weight_age), tf.to_float(blood_fat_content)"
   ]
  },
  {
   "cell_type": "code",
   "execution_count": 86,
   "metadata": {
    "collapsed": true
   },
   "outputs": [],
   "source": [
    "def train(total_loss):\n",
    "    learning_rate = 0.0000001\n",
    "    return tf.train.GradientDescentOptimizer(learning_rate).minimize(total_loss)"
   ]
  },
  {
   "cell_type": "code",
   "execution_count": 112,
   "metadata": {
    "collapsed": true
   },
   "outputs": [],
   "source": [
    "def evaluate(sess, X, y_):\n",
    "    print sess.run(inference([[80., 25.]]))\n",
    "    print sess.run(inference([[65., 25.]]))"
   ]
  },
  {
   "cell_type": "code",
   "execution_count": 514,
   "metadata": {
    "collapsed": true
   },
   "outputs": [],
   "source": [
    "def s(x):\n",
    "    return 1/(1+np.e ** (-x))"
   ]
  },
  {
   "cell_type": "code",
   "execution_count": 276,
   "metadata": {
    "collapsed": true
   },
   "outputs": [],
   "source": [
    "x = np.linspace(-10, 10)"
   ]
  },
  {
   "cell_type": "code",
   "execution_count": 278,
   "metadata": {},
   "outputs": [
    {
     "data": {
      "image/png": "[encoded data removed]",
      "text/plain": [
       "<matplotlib.figure.Figure at 0x7f2f3cd99f10>"
      ]
     },
     "metadata": {},
     "output_type": "display_data"
    }
   ],
   "source": [
    "plt.plot(x, s(x))\n",
    "plt.show()"
   ]
  },
  {
   "cell_type": "code",
   "execution_count": 280,
   "metadata": {},
   "outputs": [
    {
     "data": {
      "text/plain": [
       "<tf.Tensor 'Tanh_3:0' shape=(50,) dtype=float64>"
      ]
     },
     "execution_count": 280,
     "metadata": {},
     "output_type": "execute_result"
    }
   ],
   "source": [
    "tf.tanh(x)"
   ]
  },
  {
   "cell_type": "code",
   "execution_count": 282,
   "metadata": {
    "collapsed": true
   },
   "outputs": [],
   "source": [
    "with tf.Session() as sess:\n",
    "    sess.run(tf.global_variables_initializer())\n",
    "    tanhy = sess.run(tf.tanh(x))"
   ]
  },
  {
   "cell_type": "code",
   "execution_count": 283,
   "metadata": {
    "scrolled": false
   },
   "outputs": [
    {
     "data": {
      "image/png": "[encoded data removed]",
      "text/plain": [
       "<matplotlib.figure.Figure at 0x7f2f3a45a450>"
      ]
     },
     "metadata": {},
     "output_type": "display_data"
    }
   ],
   "source": [
    "plt.plot(x,tanhy)\n",
    "plt.show()"
   ]
  },
  {
   "cell_type": "code",
   "execution_count": 42,
   "metadata": {},
   "outputs": [],
   "source": [
    "tf.nn.sigmoid_cross_entropy_with_logits?"
   ]
  },
  {
   "cell_type": "code",
   "execution_count": 5,
   "metadata": {
    "collapsed": true
   },
   "outputs": [],
   "source": [
    "import numpy as np"
   ]
  },
  {
   "cell_type": "code",
   "execution_count": 7,
   "metadata": {},
   "outputs": [
    {
     "name": "stderr",
     "output_type": "stream",
     "text": [
      "/usr/local/lib/python2.7/dist-packages/ipykernel/__main__.py:2: RuntimeWarning: invalid value encountered in log\n",
      "  from ipykernel import kernelapp as app\n"
     ]
    }
   ],
   "source": [
    "x = np.linspace(-10, 10)\n",
    "y = np.log(x)"
   ]
  },
  {
   "cell_type": "code",
   "execution_count": 10,
   "metadata": {},
   "outputs": [
    {
     "data": {
      "image/png": "[encoded data removed]",
      "text/plain": [
       "<matplotlib.figure.Figure at 0x7f1c54db90d0>"
      ]
     },
     "metadata": {},
     "output_type": "display_data"
    }
   ],
   "source": [
    "plt.plot(x,y)\n",
    "plt.show()"
   ]
  },
  {
   "cell_type": "code",
   "execution_count": 62,
   "metadata": {},
   "outputs": [],
   "source": [
    "x = (np.linspace(-10, 10, 21, dtype=np.int32))"
   ]
  },
  {
   "cell_type": "code",
   "execution_count": 63,
   "metadata": {},
   "outputs": [
    {
     "data": {
      "text/plain": [
       "array([-10,  -9,  -8,  -7,  -6,  -5,  -4,  -3,  -2,  -1,   0,   1,   2,\n",
       "         3,   4,   5,   6,   7,   8,   9,  10], dtype=int32)"
      ]
     },
     "execution_count": 63,
     "metadata": {},
     "output_type": "execute_result"
    }
   ],
   "source": [
    "x"
   ]
  },
  {
   "cell_type": "code",
   "execution_count": 65,
   "metadata": {},
   "outputs": [],
   "source": [
    "y = x - x * 0 + np.log(1 + np.exp(-x))"
   ]
  },
  {
   "cell_type": "code",
   "execution_count": 66,
   "metadata": {},
   "outputs": [
    {
     "data": {
      "text/plain": [
       "array([  4.53988992e-05,   1.23402190e-04,   3.35406373e-04,\n",
       "         9.11466454e-04,   2.47568514e-03,   6.71534849e-03,\n",
       "         1.81499279e-02,   4.85873516e-02,   1.26928011e-01,\n",
       "         3.13261688e-01,   6.93147181e-01,   1.31326169e+00,\n",
       "         2.12692801e+00,   3.04858735e+00,   4.01814993e+00,\n",
       "         5.00671535e+00,   6.00247569e+00,   7.00091147e+00,\n",
       "         8.00033541e+00,   9.00012340e+00,   1.00000454e+01])"
      ]
     },
     "execution_count": 66,
     "metadata": {},
     "output_type": "execute_result"
    }
   ],
   "source": [
    "y"
   ]
  },
  {
   "cell_type": "code",
   "execution_count": 67,
   "metadata": {},
   "outputs": [
    {
     "data": {
      "image/png": "[encoded data removed]",
      "text/plain": [
       "<matplotlib.figure.Figure at 0x7f1c52ae2250>"
      ]
     },
     "metadata": {},
     "output_type": "display_data"
    }
   ],
   "source": [
    "plt.plot(x,y)\n",
    "plt.show()"
   ]
  },
  {
   "cell_type": "markdown",
   "metadata": {
    "collapsed": true
   },
   "source": [
    "## 作业点评"
   ]
  },
  {
   "cell_type": "markdown",
   "metadata": {},
   "source": [
    "- 原始数据没有 shuffle 需要 shuffle\n",
    "- w 用 -1 到 1 的数据初始化"
   ]
  },
  {
   "cell_type": "markdown",
   "metadata": {},
   "source": [
    "- sigmoid_cross_entropy_with_logits\n",
    "  - logits 是 sigmoid 的反函数\n",
    "  - sigmoid 变化的结果再取一个 logits，就是在 sigmoid 激活之前的 y 的结果\n",
    "  - 以这个结果作为输入就可以直接求导（直接对 y 求导），减少求导过程中的计算量"
   ]
  },
  {
   "cell_type": "markdown",
   "metadata": {},
   "source": [
    "###  Tensorflow 中的 sigmoid + cross entropy\n",
    "\n",
    "如果看过作业中 \"Neural Network and Deep Learning\" Simgoid + cross entropy 相关章节的话，应该能理解，sigmoid + cross entropy 在求导数的时候，可以把分母进行约简，少做一些计算。  \n",
    "\n",
    "Tensorflow 利用了这一特性进行计算约简，因此其有一个专门的 cost 层，叫 tf.nn.sigmoid_cross_entropy_with_logits  \n",
    "\n",
    "所谓的 logit，其实是 sigmoid 的反函数，也就是说这个 cost 函数，需要的输入是 sigmoid 变换之后的结果，再取其反函数 logit。  \n",
    "\n",
    "这么这个结果，其实就是我们神经网络输出节点的原始结果，即在 sigmoid 变换之前的结果。  \n",
    "\n",
    "为了配合这个 cost 层进行计算约简，我们需要先准备一个 sigmoid 激活之前的结果，在训练时使用激活之前的结果即可，在『预测』时才使用 sigmoid 激活之后的结果"
   ]
  },
  {
   "cell_type": "markdown",
   "metadata": {},
   "source": [
    "### 随机生成分类数据"
   ]
  },
  {
   "cell_type": "code",
   "execution_count": 6,
   "metadata": {},
   "outputs": [],
   "source": [
    "import numpy as np\n",
    "\n",
    "%matplotlib inline\n",
    "from matplotlib import pyplot as plt"
   ]
  },
  {
   "cell_type": "code",
   "execution_count": 7,
   "metadata": {},
   "outputs": [],
   "source": [
    "x_data = np.concatenate((np.random.rand(100, 2), np.random.rand(100, 2) + 2), axis=0)"
   ]
  },
  {
   "cell_type": "code",
   "execution_count": 11,
   "metadata": {
    "collapsed": true
   },
   "outputs": [],
   "source": [
    "# 给数据设定标签\n",
    "y_data = np.reshape([0] * 100 + [1] * 100, (200, 1))"
   ]
  },
  {
   "cell_type": "code",
   "execution_count": 10,
   "metadata": {},
   "outputs": [
    {
     "data": {
      "text/plain": [
       "[<matplotlib.lines.Line2D at 0x7fb02ca34250>]"
      ]
     },
     "execution_count": 10,
     "metadata": {},
     "output_type": "execute_result"
    },
    {
     "data": {
      "image/png": "[encoded data removed]",
      "text/plain": [
       "<matplotlib.figure.Figure at 0x7fb02eb1ea10>"
      ]
     },
     "metadata": {},
     "output_type": "display_data"
    }
   ],
   "source": [
    "plt.plot(x_data[:,0], x_data[:,1], '.')"
   ]
  },
  {
   "cell_type": "code",
   "execution_count": 13,
   "metadata": {
    "collapsed": true
   },
   "outputs": [],
   "source": [
    "np.concatenate?"
   ]
  },
  {
   "cell_type": "code",
   "execution_count": 14,
   "metadata": {
    "collapsed": true
   },
   "outputs": [],
   "source": [
    "a = np.array([[1, 2], [3, 4]])"
   ]
  },
  {
   "cell_type": "code",
   "execution_count": 15,
   "metadata": {},
   "outputs": [
    {
     "data": {
      "text/plain": [
       "array([[1, 2],\n",
       "       [3, 4]])"
      ]
     },
     "execution_count": 15,
     "metadata": {},
     "output_type": "execute_result"
    }
   ],
   "source": [
    "a"
   ]
  },
  {
   "cell_type": "code",
   "execution_count": null,
   "metadata": {
    "collapsed": true
   },
   "outputs": [],
   "source": []
  }
 ],
 "metadata": {
  "kernelspec": {
   "display_name": "Python 3",
   "language": "python",
   "name": "python3"
  },
  "language_info": {
   "codemirror_mode": {
    "name": "ipython",
    "version": 3
   },
   "file_extension": ".py",
   "mimetype": "text/x-python",
   "name": "python",
   "nbconvert_exporter": "python",
   "pygments_lexer": "ipython3",
   "version": "3.6.5"
  },
  "latex_envs": {
   "LaTeX_envs_menu_present": true,
   "autoclose": false,
   "autocomplete": true,
   "bibliofile": "biblio.bib",
   "cite_by": "apalike",
   "current_citInitial": 1,
   "eqLabelWithNumbers": true,
   "eqNumInitial": 1,
   "hotkeys": {
    "equation": "Ctrl-E",
    "itemize": "Ctrl-I"
   },
   "labels_anchors": false,
   "latex_user_defs": false,
   "report_style_numbering": false,
   "user_envs_cfg": false
  },
  "toc": {
   "base_numbering": 1,
   "nav_menu": {
    "height": "11.818182px",
    "width": "1.818182px"
   },
   "number_sections": true,
   "sideBar": true,
   "skip_h1_title": false,
   "title_cell": "Table of Contents",
   "title_sidebar": "Contents",
   "toc_cell": false,
   "toc_position": {},
   "toc_section_display": "block",
   "toc_window_display": false
  }
 },
 "nbformat": 4,
 "nbformat_minor": 1
}
