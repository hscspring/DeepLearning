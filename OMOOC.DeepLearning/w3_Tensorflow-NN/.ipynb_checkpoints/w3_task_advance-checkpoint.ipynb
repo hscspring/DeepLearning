{
 "cells": [
  {
   "cell_type": "markdown",
   "metadata": {},
   "source": [
    "## 进阶作业  \n",
    "\n",
    "- 说明为什么隐层加了非线性激活函数之后，整个神经网络模型决策界面就变成非线性了\n",
    "- 使用 Tensorflow 构建神经网络，实现 Ch2 的情感分类问题，比较与 Naive Bayes 的效果"
   ]
  },
  {
   "cell_type": "markdown",
   "metadata": {},
   "source": [
    "### 说明为什么隐层加了非线性激活函数之后，整个神经网络模型决策界面就变成非线性了"
   ]
  },
  {
   "cell_type": "markdown",
   "metadata": {},
   "source": [
    "输出层的决策分界仍然是直线，关键是，从输入层到隐含层时，发生了空间变换。  \n",
    "也就是说三层神经网络可以做非线性分类的关键便是隐含层的加入，通过矩阵和向量相乘，本质做了一次线性变换，使得原先线性不可分的问题变得线性可分。  \n",
    "所以多层神经网络本质就是复杂函数的拟合。"
   ]
  },
  {
   "cell_type": "markdown",
   "metadata": {},
   "source": [
    "#### 两个重要结论\n",
    "\n",
    "- 神经网络的 tanh 函数本质上可以用任意函数代替，包括多项式、正弦、余弦等等\n",
    "  - 多项式/泰勒展开，拟合任意复杂度的曲线\n",
    "  - 正余弦拟合，傅里叶！本质就是傅里叶变换！\n",
    "- 数据的特征数量是维度，神经元的个数是空间的褶皱情况（越多越圆滑）"
   ]
  },
  {
   "cell_type": "markdown",
   "metadata": {},
   "source": [
    "决策界面：$f(x) = 0.5$  \n",
    "\n",
    "二维数据，数据集在斜面上  \n",
    "三维数据，数据集在卷曲的面上"
   ]
  },
  {
   "cell_type": "markdown",
   "metadata": {},
   "source": [
    "* [神经网络+增强学习 - HackerVirus - 博客园](http://www.cnblogs.com/Leo_wl/p/5852010.html)\n",
    "* [深度神经网络结构以及Pre-Training的理解 - 菜鸡一枚 - 博客园](http://www.cnblogs.com/yymn/p/4589143.html)\n",
    "* [斯坦福CS231n - CNN for Visual Recognition（5）-lecture5激活函数、神经网络结构 - zhili8866的博客 - 博客频道 - CSDN.NET](http://blog.csdn.net/zhili8866/article/details/53400456)"
   ]
  },
  {
   "cell_type": "markdown",
   "metadata": {},
   "source": [
    "### Tensorflow 情感分类"
   ]
  },
  {
   "cell_type": "code",
   "execution_count": null,
   "metadata": {
    "collapsed": true
   },
   "outputs": [],
   "source": []
  }
 ],
 "metadata": {
  "kernelspec": {
   "display_name": "Python 2",
   "language": "python",
   "name": "python2"
  },
  "language_info": {
   "codemirror_mode": {
    "name": "ipython",
    "version": 2
   },
   "file_extension": ".py",
   "mimetype": "text/x-python",
   "name": "python",
   "nbconvert_exporter": "python",
   "pygments_lexer": "ipython2",
   "version": "2.7.6"
  }
 },
 "nbformat": 4,
 "nbformat_minor": 1
}
