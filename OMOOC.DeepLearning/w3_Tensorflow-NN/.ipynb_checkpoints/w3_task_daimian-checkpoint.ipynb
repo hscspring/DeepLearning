{
 "cells": [
  {
   "cell_type": "code",
   "execution_count": 6,
   "metadata": {
    "collapsed": true
   },
   "outputs": [],
   "source": [
    "import numpy as np\n",
    "import tensorflow as tf\n",
    "%matplotlib inline\n",
    "from matplotlib import pyplot as plt"
   ]
  },
  {
   "cell_type": "code",
   "execution_count": 9,
   "metadata": {
    "collapsed": true
   },
   "outputs": [],
   "source": [
    "def SGD(x, y, cost, eta, epochs, mini_batch_size):\n",
    "    train_step = tf.train.GradientDescentOptimizer(eta).minimize(cost)\n",
    "    n = len(x)\n",
    "    costs = []\n",
    "    with tf.Session() as sess:\n",
    "        sess.run(tf.global_variables_initializer())\n",
    "        for i in xrange(epochs):\n",
    "            x_mini_batches = [x[k:k+mini_batch_size] for k in xrange(0, n, mini_batch_size)]\n",
    "            y_mini_batches = [y[k:k+mini_batch_size] for k in xrange(0, n, mini_batch_size)]\n",
    "            for (x_mini_batch,y_mini_batch) in zip(x_mini_batches,y_mini_batches):\n",
    "                feed_dict = {x_placeholder:x_mini_batch.astype(float), y_placeholder:y_mini_batch}\n",
    "                sess.run(train_step, feed_dict=feed_dict)\n",
    "                cost_value = sess.run(cost, feed_dict=feed_dict)\n",
    "                costs.append(cost_value)\n",
    "    return costs"
   ]
  },
  {
   "cell_type": "code",
   "execution_count": 18,
   "metadata": {
    "collapsed": false
   },
   "outputs": [],
   "source": [
    "x = np.arange(0, 20)\n",
    "np.random.shuffle(x)\n",
    "y = x + np.random.normal(size=20)\n",
    "\n",
    "# 定义 cost\\n\",\n",
    "x_placeholder = tf.placeholder('float')\n",
    "y_placeholder = tf.placeholder('float')\n",
    "\n",
    "w = tf.Variable(tf.random_uniform([1], -1.0, 1.0), name='W')\n",
    "b = tf.Variable(tf.zeros([1]), name='b')\n",
    "\n",
    "y_bar = w * x_placeholder + b\n",
    "cost = tf.reduce_mean(tf.square(y_bar - y_placeholder))\n",
    "\n",
    "# 随机梯度下降\\n\",\n",
    "mini_batch_size = 1\n",
    "costs = SGD(x,y,cost,0.01,100,mini_batch_size)"
   ]
  },
  {
   "cell_type": "code",
   "execution_count": 19,
   "metadata": {
    "collapsed": false
   },
   "outputs": [
    {
     "data": {
      "image/png": "[encoded data removed]",
      "text/plain": [
       "<matplotlib.figure.Figure at 0x7f388b944490>"
      ]
     },
     "metadata": {},
     "output_type": "display_data"
    }
   ],
   "source": [
    "plt.plot(costs);"
   ]
  },
  {
   "cell_type": "code",
   "execution_count": 22,
   "metadata": {
    "collapsed": true
   },
   "outputs": [],
   "source": [
    "def SGD(x, y, cost, eta, epochs, mini_batch_size):\n",
    "    # 定义 cost\\n\",\n",
    "    x_placeholder = tf.placeholder('float')\n",
    "    y_placeholder = tf.placeholder('float')\n",
    "\n",
    "    w = tf.Variable(tf.random_uniform([1], -1.0, 1.0), name='W')\n",
    "    b = tf.Variable(tf.zeros([1]), name='b')\n",
    "\n",
    "    y_bar = w * x_placeholder + b\n",
    "    cost = tf.reduce_mean(tf.square(y_bar - y_placeholder))\n",
    "    \n",
    "    train_step = tf.train.GradientDescentOptimizer(eta).minimize(cost)\n",
    "    n = len(x)\n",
    "    costs = []\n",
    "    with tf.Session() as sess:\n",
    "        sess.run(tf.global_variables_initializer())\n",
    "        for i in xrange(epochs):\n",
    "            x_mini_batches = [x[k:k+mini_batch_size] for k in xrange(0, n, mini_batch_size)]\n",
    "            y_mini_batches = [y[k:k+mini_batch_size] for k in xrange(0, n, mini_batch_size)]\n",
    "            for (x_mini_batch,y_mini_batch) in zip(x_mini_batches,y_mini_batches):\n",
    "                feed_dict = {x_placeholder:x_mini_batch.astype(float), y_placeholder:y_mini_batch}\n",
    "                sess.run(train_step, feed_dict=feed_dict)\n",
    "                cost_value = sess.run(cost, feed_dict=feed_dict)\n",
    "                costs.append(cost_value)\n",
    "    return costs"
   ]
  },
  {
   "cell_type": "code",
   "execution_count": 23,
   "metadata": {
    "collapsed": false
   },
   "outputs": [
    {
     "data": {
      "text/plain": [
       "[<matplotlib.lines.Line2D at 0x7f38a6222e50>]"
      ]
     },
     "execution_count": 23,
     "metadata": {},
     "output_type": "execute_result"
    },
    {
     "data": {
      "image/png": "[encoded data removed]",
      "text/plain": [
       "<matplotlib.figure.Figure at 0x7f388a495410>"
      ]
     },
     "metadata": {},
     "output_type": "display_data"
    }
   ],
   "source": [
    "x = np.arange(0, 20)\n",
    "np.random.shuffle(x)\n",
    "y = x + np.random.normal(size=20)\n",
    "\n",
    "# 随机梯度下降\\n\",\n",
    "mini_batch_size = 1\n",
    "costs = SGD(x,y,cost,0.01,100,mini_batch_size)\n",
    "\n",
    "plt.plot(costs)"
   ]
  },
  {
   "cell_type": "code",
   "execution_count": 24,
   "metadata": {
    "collapsed": true
   },
   "outputs": [],
   "source": [
    "np.random.permutation?"
   ]
  },
  {
   "cell_type": "code",
   "execution_count": 35,
   "metadata": {
    "collapsed": false
   },
   "outputs": [
    {
     "data": {
      "text/plain": [
       "array([ 4, 12,  1,  9, 15])"
      ]
     },
     "execution_count": 35,
     "metadata": {},
     "output_type": "execute_result"
    }
   ],
   "source": [
    "np.random.permutation([1, 4, 9, 12, 15])"
   ]
  },
  {
   "cell_type": "code",
   "execution_count": null,
   "metadata": {
    "collapsed": true
   },
   "outputs": [],
   "source": []
  }
 ],
 "metadata": {
  "kernelspec": {
   "display_name": "Python 2",
   "language": "python",
   "name": "python2"
  },
  "language_info": {
   "codemirror_mode": {
    "name": "ipython",
    "version": 2
   },
   "file_extension": ".py",
   "mimetype": "text/x-python",
   "name": "python",
   "nbconvert_exporter": "python",
   "pygments_lexer": "ipython2",
   "version": "2.7.6"
  }
 },
 "nbformat": 4,
 "nbformat_minor": 1
}
