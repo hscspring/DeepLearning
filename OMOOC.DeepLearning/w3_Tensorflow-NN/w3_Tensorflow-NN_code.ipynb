{
 "cells": [
  {
   "cell_type": "code",
   "execution_count": 32,
   "metadata": {
    "collapsed": false
   },
   "outputs": [],
   "source": [
    "%load_ext watermark"
   ]
  },
  {
   "cell_type": "code",
   "execution_count": 33,
   "metadata": {
    "collapsed": false
   },
   "outputs": [
    {
     "name": "stdout",
     "output_type": "stream",
     "text": [
      "2017-03-23T05:24:30\n",
      "\n",
      "CPython 2.7.6\n",
      "IPython 5.1.0\n",
      "\n",
      "compiler   : GCC 4.8.4\n",
      "system     : Linux\n",
      "release    : 4.4.0-21-generic\n",
      "machine    : x86_64\n",
      "processor  : x86_64\n",
      "CPU cores  : 4\n",
      "interpreter: 64bit\n"
     ]
    }
   ],
   "source": [
    "%watermark"
   ]
  },
  {
   "cell_type": "code",
   "execution_count": 34,
   "metadata": {
    "collapsed": false
   },
   "outputs": [
    {
     "name": "stdout",
     "output_type": "stream",
     "text": [
      "1.0.1\n"
     ]
    }
   ],
   "source": [
    "import tensorflow as tf\n",
    "print(tf.__version__)"
   ]
  },
  {
   "cell_type": "markdown",
   "metadata": {},
   "source": [
    "## sympy"
   ]
  },
  {
   "cell_type": "code",
   "execution_count": 4,
   "metadata": {
    "collapsed": false
   },
   "outputs": [],
   "source": [
    "import sympy\n",
    "sympy.init_printing(use_unicode=True)"
   ]
  },
  {
   "cell_type": "code",
   "execution_count": 11,
   "metadata": {
    "collapsed": false
   },
   "outputs": [],
   "source": [
    "x = sympy.symbols('x')\n",
    "w, b = sympy.symbols('w b')"
   ]
  },
  {
   "cell_type": "code",
   "execution_count": 12,
   "metadata": {
    "collapsed": false
   },
   "outputs": [
    {
     "data": {
      "image/png": "[encoded data removed]",
      "text/latex": [
       "$$b + w \\sin{\\left (x \\right )}$$"
      ],
      "text/plain": [
       "b + w⋅sin(x)"
      ]
     },
     "execution_count": 12,
     "metadata": {},
     "output_type": "execute_result"
    }
   ],
   "source": [
    "w*sympy.sin(x) + b"
   ]
  },
  {
   "cell_type": "code",
   "execution_count": 13,
   "metadata": {
    "collapsed": false
   },
   "outputs": [
    {
     "data": {
      "image/png": "[encoded data removed]",
      "text/latex": [
       "$$w \\cos{\\left (x \\right )}$$"
      ],
      "text/plain": [
       "w⋅cos(x)"
      ]
     },
     "execution_count": 13,
     "metadata": {},
     "output_type": "execute_result"
    }
   ],
   "source": [
    "# 求导 \n",
    "sympy.diff( w * sympy.sin(x) + b, x)"
   ]
  },
  {
   "cell_type": "code",
   "execution_count": 8,
   "metadata": {
    "collapsed": false
   },
   "outputs": [
    {
     "data": {
      "image/png": "[encoded data removed]",
      "text/latex": [
       "$$x$$"
      ],
      "text/plain": [
       "x"
      ]
     },
     "execution_count": 8,
     "metadata": {},
     "output_type": "execute_result"
    }
   ],
   "source": [
    "x"
   ]
  },
  {
   "cell_type": "code",
   "execution_count": 9,
   "metadata": {
    "collapsed": false
   },
   "outputs": [
    {
     "data": {
      "image/png": "[encoded data removed]",
      "text/latex": [
       "$$x^{2}$$"
      ],
      "text/plain": [
       " 2\n",
       "x "
      ]
     },
     "execution_count": 9,
     "metadata": {},
     "output_type": "execute_result"
    }
   ],
   "source": [
    "x ** 2"
   ]
  },
  {
   "cell_type": "code",
   "execution_count": 1,
   "metadata": {
    "collapsed": false
   },
   "outputs": [
    {
     "data": {
      "text/plain": [
       "u'/notebooks/w3_Tensorflow-NN'"
      ]
     },
     "execution_count": 1,
     "metadata": {},
     "output_type": "execute_result"
    }
   ],
   "source": [
    "pwd"
   ]
  },
  {
   "cell_type": "markdown",
   "metadata": {},
   "source": [
    "## Tensorflow 实现线性回归"
   ]
  },
  {
   "cell_type": "code",
   "execution_count": 2,
   "metadata": {
    "collapsed": true
   },
   "outputs": [],
   "source": [
    "%matplotlib inline\n",
    "from matplotlib import pyplot as plt"
   ]
  },
  {
   "cell_type": "code",
   "execution_count": 2,
   "metadata": {
    "collapsed": true
   },
   "outputs": [],
   "source": [
    "import tensorflow as tf\n",
    "import numpy as np"
   ]
  },
  {
   "cell_type": "markdown",
   "metadata": {},
   "source": [
    "### Constant"
   ]
  },
  {
   "cell_type": "code",
   "execution_count": 3,
   "metadata": {
    "collapsed": false
   },
   "outputs": [
    {
     "name": "stdout",
     "output_type": "stream",
     "text": [
      "Tensor(\"Const:0\", shape=(3,), dtype=int32)\n"
     ]
    }
   ],
   "source": [
    "c = tf.constant([1, 2, 3])\n",
    "print(c)"
   ]
  },
  {
   "cell_type": "code",
   "execution_count": 4,
   "metadata": {
    "collapsed": false
   },
   "outputs": [
    {
     "data": {
      "text/plain": [
       "tensorflow.python.framework.ops.Tensor"
      ]
     },
     "execution_count": 4,
     "metadata": {},
     "output_type": "execute_result"
    }
   ],
   "source": [
    "type(c)"
   ]
  },
  {
   "cell_type": "markdown",
   "metadata": {},
   "source": [
    "- Constant 是一种 Tensor\n",
    "  - Tensor 类似 numpy 中的 array。我们常用的是一维（向量）、二维（矩阵）结构\n",
    "- 为什么 print 看不到 c 的值\n",
    "  - 在这里知识 “声明” 了这个 Tensor"
   ]
  },
  {
   "cell_type": "code",
   "execution_count": 6,
   "metadata": {
    "collapsed": false
   },
   "outputs": [
    {
     "data": {
      "text/plain": [
       "[name: \"Const\"\n",
       "op: \"Const\"\n",
       "attr {\n",
       "  key: \"dtype\"\n",
       "  value {\n",
       "    type: DT_INT32\n",
       "  }\n",
       "}\n",
       "attr {\n",
       "  key: \"value\"\n",
       "  value {\n",
       "    tensor {\n",
       "      dtype: DT_INT32\n",
       "      tensor_shape {\n",
       "        dim {\n",
       "          size: 3\n",
       "        }\n",
       "      }\n",
       "      tensor_content: \"\\001\\000\\000\\000\\002\\000\\000\\000\\003\\000\\000\\000\"\n",
       "    }\n",
       "  }\n",
       "}\n",
       "]"
      ]
     },
     "execution_count": 6,
     "metadata": {},
     "output_type": "execute_result"
    }
   ],
   "source": [
    "g = tf.get_default_graph()\n",
    "g.as_graph_def().node"
   ]
  },
  {
   "cell_type": "code",
   "execution_count": 154,
   "metadata": {
    "collapsed": false
   },
   "outputs": [
    {
     "data": {
      "text/plain": [
       "<tensorflow.python.framework.ops.Graph at 0x7fba4c53f050>"
      ]
     },
     "execution_count": 154,
     "metadata": {},
     "output_type": "execute_result"
    }
   ],
   "source": [
    "g"
   ]
  },
  {
   "cell_type": "code",
   "execution_count": 8,
   "metadata": {
    "collapsed": false
   },
   "outputs": [],
   "source": [
    "d= tf.constant([0,0,0,0])"
   ]
  },
  {
   "cell_type": "code",
   "execution_count": 25,
   "metadata": {
    "collapsed": false
   },
   "outputs": [
    {
     "data": {
      "text/plain": [
       "[name: \"Const\"\n",
       "op: \"Const\"\n",
       "attr {\n",
       "  key: \"dtype\"\n",
       "  value {\n",
       "    type: DT_INT32\n",
       "  }\n",
       "}\n",
       "attr {\n",
       "  key: \"value\"\n",
       "  value {\n",
       "    tensor {\n",
       "      dtype: DT_INT32\n",
       "      tensor_shape {\n",
       "        dim {\n",
       "          size: 3\n",
       "        }\n",
       "      }\n",
       "      tensor_content: \"\\001\\000\\000\\000\\002\\000\\000\\000\\003\\000\\000\\000\"\n",
       "    }\n",
       "  }\n",
       "}\n",
       "]"
      ]
     },
     "execution_count": 25,
     "metadata": {},
     "output_type": "execute_result"
    }
   ],
   "source": [
    "g = tf.get_default_graph()\n",
    "g.as_graph_def().node"
   ]
  },
  {
   "cell_type": "markdown",
   "metadata": {},
   "source": [
    "- Tensorflow 中会有一个默认的 “Graph”，所有 “声明” 的操作都记录在这个 Graph 上\n",
    "- Graph要通过 Session 来执行"
   ]
  },
  {
   "cell_type": "code",
   "execution_count": 157,
   "metadata": {
    "collapsed": false
   },
   "outputs": [
    {
     "data": {
      "text/plain": [
       "array([1, 2, 3], dtype=int32)"
      ]
     },
     "execution_count": 157,
     "metadata": {},
     "output_type": "execute_result"
    }
   ],
   "source": [
    "sess = tf.Session()\n",
    "sess.run(c)"
   ]
  },
  {
   "cell_type": "code",
   "execution_count": 158,
   "metadata": {
    "collapsed": false,
    "scrolled": true
   },
   "outputs": [
    {
     "name": "stdout",
     "output_type": "stream",
     "text": [
      "<type 'numpy.ndarray'>\n",
      "[1 2 3]\n"
     ]
    }
   ],
   "source": [
    "with tf.Session() as sess:\n",
    "    r = sess.run(c)\n",
    "    print(type(r))\n",
    "    print(r)"
   ]
  },
  {
   "cell_type": "markdown",
   "metadata": {},
   "source": [
    "- c 在 Graph 里是一个 Tensor，Session 执行之后返回的是 numpy array\n",
    "- Graph：执行蓝图（有向无环图）\n",
    "- Session：具体执行"
   ]
  },
  {
   "cell_type": "markdown",
   "metadata": {},
   "source": [
    "好处是什么：  \n",
    "- 可并行\n",
    "- Graph 的不同部分可以放到不同的设备上\n",
    "\n",
    "Tensorflow Graph 上的两种 Node：\n",
    "- Tensor\n",
    "- Operation"
   ]
  },
  {
   "cell_type": "code",
   "execution_count": 159,
   "metadata": {
    "collapsed": false
   },
   "outputs": [
    {
     "name": "stdout",
     "output_type": "stream",
     "text": [
      "Tensor(\"add:0\", shape=(3,), dtype=int32)\n"
     ]
    }
   ],
   "source": [
    "c2 = c + c\n",
    "print(c2)"
   ]
  },
  {
   "cell_type": "markdown",
   "metadata": {},
   "source": [
    "- 添加了一个 Node：“Add” 的 Operation"
   ]
  },
  {
   "cell_type": "code",
   "execution_count": 160,
   "metadata": {
    "collapsed": false
   },
   "outputs": [
    {
     "data": {
      "text/plain": [
       "[name: \"Const\"\n",
       "op: \"Const\"\n",
       "attr {\n",
       "  key: \"dtype\"\n",
       "  value {\n",
       "    type: DT_INT32\n",
       "  }\n",
       "}\n",
       "attr {\n",
       "  key: \"value\"\n",
       "  value {\n",
       "    tensor {\n",
       "      dtype: DT_INT32\n",
       "      tensor_shape {\n",
       "        dim {\n",
       "          size: 3\n",
       "        }\n",
       "      }\n",
       "      tensor_content: \"\\001\\000\\000\\000\\002\\000\\000\\000\\003\\000\\000\\000\"\n",
       "    }\n",
       "  }\n",
       "}\n",
       ", name: \"Const_1\"\n",
       "op: \"Const\"\n",
       "attr {\n",
       "  key: \"dtype\"\n",
       "  value {\n",
       "    type: DT_INT32\n",
       "  }\n",
       "}\n",
       "attr {\n",
       "  key: \"value\"\n",
       "  value {\n",
       "    tensor {\n",
       "      dtype: DT_INT32\n",
       "      tensor_shape {\n",
       "        dim {\n",
       "          size: 4\n",
       "        }\n",
       "      }\n",
       "      tensor_content: \"\\000\\000\\000\\000\\000\\000\\000\\000\\000\\000\\000\\000\\000\\000\\000\\000\"\n",
       "    }\n",
       "  }\n",
       "}\n",
       ", name: \"add\"\n",
       "op: \"Add\"\n",
       "input: \"Const\"\n",
       "input: \"Const\"\n",
       "attr {\n",
       "  key: \"T\"\n",
       "  value {\n",
       "    type: DT_INT32\n",
       "  }\n",
       "}\n",
       "]"
      ]
     },
     "execution_count": 160,
     "metadata": {},
     "output_type": "execute_result"
    }
   ],
   "source": [
    "g = tf.get_default_graph()\n",
    "g.as_graph_def().node"
   ]
  },
  {
   "cell_type": "markdown",
   "metadata": {},
   "source": [
    "- 需要放到一个 Session 中运行：  "
   ]
  },
  {
   "cell_type": "code",
   "execution_count": 161,
   "metadata": {
    "collapsed": false
   },
   "outputs": [
    {
     "name": "stdout",
     "output_type": "stream",
     "text": [
      "[2 4 6]\n"
     ]
    }
   ],
   "source": [
    "with tf.Session() as sess:\n",
    "    print(sess.run(c2))"
   ]
  },
  {
   "cell_type": "markdown",
   "metadata": {},
   "source": [
    "### 随机数  \n",
    "\n",
    "- 在 Tensorflow 里也是一种 Tensor"
   ]
  },
  {
   "cell_type": "code",
   "execution_count": 162,
   "metadata": {
    "collapsed": true
   },
   "outputs": [],
   "source": [
    "sess = tf.Session()"
   ]
  },
  {
   "cell_type": "code",
   "execution_count": 163,
   "metadata": {
    "collapsed": false
   },
   "outputs": [
    {
     "data": {
      "text/plain": [
       "<tensorflow.python.client.session.Session at 0x7fba64d2de10>"
      ]
     },
     "execution_count": 163,
     "metadata": {},
     "output_type": "execute_result"
    }
   ],
   "source": [
    "sess"
   ]
  },
  {
   "cell_type": "code",
   "execution_count": 164,
   "metadata": {
    "collapsed": false
   },
   "outputs": [
    {
     "data": {
      "text/plain": [
       "<tf.Tensor 'random_uniform:0' shape=(3,) dtype=float32>"
      ]
     },
     "execution_count": 164,
     "metadata": {},
     "output_type": "execute_result"
    }
   ],
   "source": [
    "r = tf.random_uniform([3], -1.0, 1.0)  # [3] 表示随机数的长度\n",
    "r"
   ]
  },
  {
   "cell_type": "markdown",
   "metadata": {},
   "source": [
    "- 返回的是 Tensor"
   ]
  },
  {
   "cell_type": "code",
   "execution_count": 165,
   "metadata": {
    "collapsed": false
   },
   "outputs": [
    {
     "data": {
      "text/plain": [
       "array([-0.6253829 , -0.61031389,  0.43858719], dtype=float32)"
      ]
     },
     "execution_count": 165,
     "metadata": {},
     "output_type": "execute_result"
    }
   ],
   "source": [
    "sess.run(r)"
   ]
  },
  {
   "cell_type": "markdown",
   "metadata": {},
   "source": [
    "### Variable 的概念  \n",
    "\n",
    "- Tensorflow 中的 Variable 对机器学习应用至关重要  \n",
    "- 用 Tensor 赋值，能做 Tensor 相同的操作\n",
    "- 和编程中【变量】的概念类似，用于维护一个可变的状态\n",
    "- 不同 run 中间能保存状态"
   ]
  },
  {
   "cell_type": "code",
   "execution_count": 166,
   "metadata": {
    "collapsed": true
   },
   "outputs": [],
   "source": [
    "w = tf.Variable(tf.random_uniform([1], -1.0, 1.0), name='W') # random 给变量做初始化，name 为看计算图方便\n",
    "b = tf.Variable(tf.zeros([1]), name='b')"
   ]
  },
  {
   "cell_type": "code",
   "execution_count": 167,
   "metadata": {
    "collapsed": false
   },
   "outputs": [
    {
     "data": {
      "text/plain": [
       "(<tensorflow.python.ops.variables.Variable at 0x7fba64d04f10>,\n",
       " <tensorflow.python.ops.variables.Variable at 0x7fba66092ed0>)"
      ]
     },
     "execution_count": 167,
     "metadata": {},
     "output_type": "execute_result"
    }
   ],
   "source": [
    "w,b"
   ]
  },
  {
   "cell_type": "code",
   "execution_count": 168,
   "metadata": {
    "collapsed": false
   },
   "outputs": [
    {
     "data": {
      "text/plain": [
       "<tf.Tensor 'add_1:0' shape=(1,) dtype=float32>"
      ]
     },
     "execution_count": 168,
     "metadata": {},
     "output_type": "execute_result"
    }
   ],
   "source": [
    "w + w"
   ]
  },
  {
   "cell_type": "markdown",
   "metadata": {},
   "source": [
    "- 变量能做 Tensor 能做的所有事情"
   ]
  },
  {
   "cell_type": "markdown",
   "metadata": {},
   "source": [
    "- 直接 run(w) 会报错，因为没有初始化 w："
   ]
  },
  {
   "cell_type": "code",
   "execution_count": 170,
   "metadata": {
    "collapsed": false
   },
   "outputs": [
    {
     "ename": "FailedPreconditionError",
     "evalue": "Attempting to use uninitialized value W\n\t [[Node: _send_W_0 = _Send[T=DT_FLOAT, client_terminated=true, recv_device=\"/job:localhost/replica:0/task:0/cpu:0\", send_device=\"/job:localhost/replica:0/task:0/cpu:0\", send_device_incarnation=3304083577933568163, tensor_name=\"W:0\", _device=\"/job:localhost/replica:0/task:0/cpu:0\"](W)]]",
     "output_type": "error",
     "traceback": [
      "\u001b[0;31m---------------------------------------------------------------------------\u001b[0m",
      "\u001b[0;31mFailedPreconditionError\u001b[0m                   Traceback (most recent call last)",
      "\u001b[0;32m<ipython-input-170-c0d61404877e>\u001b[0m in \u001b[0;36m<module>\u001b[0;34m()\u001b[0m\n\u001b[1;32m      1\u001b[0m \u001b[0msess\u001b[0m \u001b[0;34m=\u001b[0m \u001b[0mtf\u001b[0m\u001b[0;34m.\u001b[0m\u001b[0mSession\u001b[0m\u001b[0;34m(\u001b[0m\u001b[0;34m)\u001b[0m\u001b[0;34m\u001b[0m\u001b[0m\n\u001b[0;32m----> 2\u001b[0;31m \u001b[0msess\u001b[0m\u001b[0;34m.\u001b[0m\u001b[0mrun\u001b[0m\u001b[0;34m(\u001b[0m\u001b[0mw\u001b[0m\u001b[0;34m)\u001b[0m\u001b[0;34m\u001b[0m\u001b[0m\n\u001b[0m",
      "\u001b[0;32m/usr/local/lib/python2.7/dist-packages/tensorflow/python/client/session.pyc\u001b[0m in \u001b[0;36mrun\u001b[0;34m(self, fetches, feed_dict, options, run_metadata)\u001b[0m\n\u001b[1;32m    764\u001b[0m     \u001b[0;32mtry\u001b[0m\u001b[0;34m:\u001b[0m\u001b[0;34m\u001b[0m\u001b[0m\n\u001b[1;32m    765\u001b[0m       result = self._run(None, fetches, feed_dict, options_ptr,\n\u001b[0;32m--> 766\u001b[0;31m                          run_metadata_ptr)\n\u001b[0m\u001b[1;32m    767\u001b[0m       \u001b[0;32mif\u001b[0m \u001b[0mrun_metadata\u001b[0m\u001b[0;34m:\u001b[0m\u001b[0;34m\u001b[0m\u001b[0m\n\u001b[1;32m    768\u001b[0m         \u001b[0mproto_data\u001b[0m \u001b[0;34m=\u001b[0m \u001b[0mtf_session\u001b[0m\u001b[0;34m.\u001b[0m\u001b[0mTF_GetBuffer\u001b[0m\u001b[0;34m(\u001b[0m\u001b[0mrun_metadata_ptr\u001b[0m\u001b[0;34m)\u001b[0m\u001b[0;34m\u001b[0m\u001b[0m\n",
      "\u001b[0;32m/usr/local/lib/python2.7/dist-packages/tensorflow/python/client/session.pyc\u001b[0m in \u001b[0;36m_run\u001b[0;34m(self, handle, fetches, feed_dict, options, run_metadata)\u001b[0m\n\u001b[1;32m    962\u001b[0m     \u001b[0;32mif\u001b[0m \u001b[0mfinal_fetches\u001b[0m \u001b[0;32mor\u001b[0m \u001b[0mfinal_targets\u001b[0m\u001b[0;34m:\u001b[0m\u001b[0;34m\u001b[0m\u001b[0m\n\u001b[1;32m    963\u001b[0m       results = self._do_run(handle, final_targets, final_fetches,\n\u001b[0;32m--> 964\u001b[0;31m                              feed_dict_string, options, run_metadata)\n\u001b[0m\u001b[1;32m    965\u001b[0m     \u001b[0;32melse\u001b[0m\u001b[0;34m:\u001b[0m\u001b[0;34m\u001b[0m\u001b[0m\n\u001b[1;32m    966\u001b[0m       \u001b[0mresults\u001b[0m \u001b[0;34m=\u001b[0m \u001b[0;34m[\u001b[0m\u001b[0;34m]\u001b[0m\u001b[0;34m\u001b[0m\u001b[0m\n",
      "\u001b[0;32m/usr/local/lib/python2.7/dist-packages/tensorflow/python/client/session.pyc\u001b[0m in \u001b[0;36m_do_run\u001b[0;34m(self, handle, target_list, fetch_list, feed_dict, options, run_metadata)\u001b[0m\n\u001b[1;32m   1012\u001b[0m     \u001b[0;32mif\u001b[0m \u001b[0mhandle\u001b[0m \u001b[0;32mis\u001b[0m \u001b[0mNone\u001b[0m\u001b[0;34m:\u001b[0m\u001b[0;34m\u001b[0m\u001b[0m\n\u001b[1;32m   1013\u001b[0m       return self._do_call(_run_fn, self._session, feed_dict, fetch_list,\n\u001b[0;32m-> 1014\u001b[0;31m                            target_list, options, run_metadata)\n\u001b[0m\u001b[1;32m   1015\u001b[0m     \u001b[0;32melse\u001b[0m\u001b[0;34m:\u001b[0m\u001b[0;34m\u001b[0m\u001b[0m\n\u001b[1;32m   1016\u001b[0m       return self._do_call(_prun_fn, self._session, handle, feed_dict,\n",
      "\u001b[0;32m/usr/local/lib/python2.7/dist-packages/tensorflow/python/client/session.pyc\u001b[0m in \u001b[0;36m_do_call\u001b[0;34m(self, fn, *args)\u001b[0m\n\u001b[1;32m   1032\u001b[0m         \u001b[0;32mexcept\u001b[0m \u001b[0mKeyError\u001b[0m\u001b[0;34m:\u001b[0m\u001b[0;34m\u001b[0m\u001b[0m\n\u001b[1;32m   1033\u001b[0m           \u001b[0;32mpass\u001b[0m\u001b[0;34m\u001b[0m\u001b[0m\n\u001b[0;32m-> 1034\u001b[0;31m       \u001b[0;32mraise\u001b[0m \u001b[0mtype\u001b[0m\u001b[0;34m(\u001b[0m\u001b[0me\u001b[0m\u001b[0;34m)\u001b[0m\u001b[0;34m(\u001b[0m\u001b[0mnode_def\u001b[0m\u001b[0;34m,\u001b[0m \u001b[0mop\u001b[0m\u001b[0;34m,\u001b[0m \u001b[0mmessage\u001b[0m\u001b[0;34m)\u001b[0m\u001b[0;34m\u001b[0m\u001b[0m\n\u001b[0m\u001b[1;32m   1035\u001b[0m \u001b[0;34m\u001b[0m\u001b[0m\n\u001b[1;32m   1036\u001b[0m   \u001b[0;32mdef\u001b[0m \u001b[0m_extend_graph\u001b[0m\u001b[0;34m(\u001b[0m\u001b[0mself\u001b[0m\u001b[0;34m)\u001b[0m\u001b[0;34m:\u001b[0m\u001b[0;34m\u001b[0m\u001b[0m\n",
      "\u001b[0;31mFailedPreconditionError\u001b[0m: Attempting to use uninitialized value W\n\t [[Node: _send_W_0 = _Send[T=DT_FLOAT, client_terminated=true, recv_device=\"/job:localhost/replica:0/task:0/cpu:0\", send_device=\"/job:localhost/replica:0/task:0/cpu:0\", send_device_incarnation=3304083577933568163, tensor_name=\"W:0\", _device=\"/job:localhost/replica:0/task:0/cpu:0\"](W)]]"
     ]
    }
   ],
   "source": [
    "sess.run(w)"
   ]
  },
  {
   "cell_type": "markdown",
   "metadata": {},
   "source": [
    "- **变量**需要一个专门的初始化过程\n",
    "  - 可以使用 `tf.global_variables_initializer()` 增加一个 operation，初始化所有变量（不是之前的 Constant）"
   ]
  },
  {
   "cell_type": "code",
   "execution_count": 172,
   "metadata": {
    "collapsed": false
   },
   "outputs": [
    {
     "data": {
      "text/plain": [
       "array([-0.35996008], dtype=float32)"
      ]
     },
     "execution_count": 172,
     "metadata": {},
     "output_type": "execute_result"
    }
   ],
   "source": [
    "init = tf.global_variables_initializer()\n",
    "sess.run(init)  # 必须的，第一次初始化变量时运行，这个特么就是 run tf.globa_variables_initializer() 啊\n",
    "sess.run(w)"
   ]
  },
  {
   "cell_type": "code",
   "execution_count": 174,
   "metadata": {
    "collapsed": false
   },
   "outputs": [
    {
     "data": {
      "text/plain": [
       "array([-0.35996008], dtype=float32)"
      ]
     },
     "execution_count": 174,
     "metadata": {},
     "output_type": "execute_result"
    }
   ],
   "source": [
    "# 变量不动 \n",
    "sess.run(w)"
   ]
  },
  {
   "cell_type": "code",
   "execution_count": 176,
   "metadata": {
    "collapsed": false
   },
   "outputs": [
    {
     "data": {
      "text/plain": [
       "array([-0.77116442], dtype=float32)"
      ]
     },
     "execution_count": 176,
     "metadata": {},
     "output_type": "execute_result"
    }
   ],
   "source": [
    "# 重新初始化变量\n",
    "sess.run(init)\n",
    "sess.run(w)"
   ]
  },
  {
   "cell_type": "markdown",
   "metadata": {},
   "source": [
    "- 有了变量，我们知道还要有数据才能计算 Cost"
   ]
  },
  {
   "cell_type": "markdown",
   "metadata": {},
   "source": [
    "### Tensorflow 线性回归"
   ]
  },
  {
   "cell_type": "code",
   "execution_count": 177,
   "metadata": {
    "collapsed": true
   },
   "outputs": [],
   "source": [
    "x = np.arange(0, 20)\n",
    "y = x + np.random.normal(size=20)"
   ]
  },
  {
   "cell_type": "code",
   "execution_count": 178,
   "metadata": {
    "collapsed": false
   },
   "outputs": [
    {
     "data": {
      "text/plain": [
       "[<matplotlib.lines.Line2D at 0x7fba4c51aa50>]"
      ]
     },
     "execution_count": 178,
     "metadata": {},
     "output_type": "execute_result"
    },
    {
     "data": {
      "image/png": "[encoded data removed]",
      "text/plain": [
       "<matplotlib.figure.Figure at 0x7fba4c53f710>"
      ]
     },
     "metadata": {},
     "output_type": "display_data"
    }
   ],
   "source": [
    "plt.plot(x,y)"
   ]
  },
  {
   "cell_type": "code",
   "execution_count": 179,
   "metadata": {
    "collapsed": true
   },
   "outputs": [],
   "source": [
    "y_bar = w * x + b\n",
    "cost = tf.reduce_mean((y_bar-y) ** 2)"
   ]
  },
  {
   "cell_type": "code",
   "execution_count": 180,
   "metadata": {
    "collapsed": false
   },
   "outputs": [
    {
     "data": {
      "text/plain": [
       "(<tf.Tensor 'add_2:0' shape=(20,) dtype=float32>,\n",
       " <tf.Tensor 'Mean:0' shape=() dtype=float32>)"
      ]
     },
     "execution_count": 180,
     "metadata": {},
     "output_type": "execute_result"
    }
   ],
   "source": [
    "y_bar, cost"
   ]
  },
  {
   "cell_type": "code",
   "execution_count": 181,
   "metadata": {
    "collapsed": false
   },
   "outputs": [
    {
     "name": "stdout",
     "output_type": "stream",
     "text": [
      "385.812\n"
     ]
    }
   ],
   "source": [
    "print(sess.run(cost))"
   ]
  },
  {
   "cell_type": "code",
   "execution_count": 182,
   "metadata": {
    "collapsed": false
   },
   "outputs": [
    {
     "name": "stdout",
     "output_type": "stream",
     "text": [
      "[array([-0.77116442], dtype=float32), array([ 0.], dtype=float32)]\n"
     ]
    }
   ],
   "source": [
    "print(sess.run([w,b]))"
   ]
  },
  {
   "cell_type": "code",
   "execution_count": 190,
   "metadata": {
    "collapsed": false
   },
   "outputs": [
    {
     "name": "stdout",
     "output_type": "stream",
     "text": [
      "[array([ 0.22223043], dtype=float32), array([ 0.], dtype=float32)]\n",
      "74.4226\n"
     ]
    }
   ],
   "source": [
    "sess.run(tf.global_variables_initializer()) # 初始化\n",
    "print(sess.run([w,b]))\n",
    "print(sess.run(cost))"
   ]
  },
  {
   "cell_type": "markdown",
   "metadata": {},
   "source": [
    "### Graph 图"
   ]
  },
  {
   "cell_type": "markdown",
   "metadata": {},
   "source": [
    "- 清除 graph："
   ]
  },
  {
   "cell_type": "code",
   "execution_count": 23,
   "metadata": {
    "collapsed": true
   },
   "outputs": [],
   "source": [
    "tf.reset_default_graph()"
   ]
  },
  {
   "cell_type": "code",
   "execution_count": 350,
   "metadata": {
    "collapsed": false
   },
   "outputs": [
    {
     "data": {
      "text/plain": [
       "<tensorflow.python.client.session.Session at 0x7fba64977650>"
      ]
     },
     "execution_count": 350,
     "metadata": {},
     "output_type": "execute_result"
    }
   ],
   "source": [
    "sess # 清除 graph 后， sess 仍然有"
   ]
  },
  {
   "cell_type": "code",
   "execution_count": 83,
   "metadata": {
    "collapsed": false
   },
   "outputs": [
    {
     "data": {
      "text/plain": [
       "[]"
      ]
     },
     "execution_count": 83,
     "metadata": {},
     "output_type": "execute_result"
    }
   ],
   "source": [
    "g = tf.get_default_graph()\n",
    "g.as_graph_def().node"
   ]
  },
  {
   "cell_type": "code",
   "execution_count": 17,
   "metadata": {
    "collapsed": false
   },
   "outputs": [],
   "source": [
    "# 重新在 graph 上声明元素\n",
    "\n",
    "x = np.arange(0, 20)\n",
    "y = x + np.random.normal(size=20)\n",
    "\n",
    "w = tf.Variable(tf.random_uniform([1], -1.0, 1.0), name='W') # random 给变量做初始化，name 为看计算图方便\n",
    "b = tf.Variable(tf.zeros([1]), name='b')\n",
    "\n",
    "y_bar = w * x + b\n",
    "cost = tf.reduce_mean((y_bar - y) ** 2)"
   ]
  },
  {
   "cell_type": "code",
   "execution_count": 353,
   "metadata": {
    "collapsed": false
   },
   "outputs": [
    {
     "data": {
      "text/plain": [
       "<tf.Tensor 'mul_1:0' shape=(20,) dtype=float32>"
      ]
     },
     "execution_count": 353,
     "metadata": {},
     "output_type": "execute_result"
    }
   ],
   "source": [
    "w * x"
   ]
  },
  {
   "cell_type": "code",
   "execution_count": 354,
   "metadata": {
    "collapsed": false
   },
   "outputs": [
    {
     "data": {
      "text/plain": [
       "<tf.Tensor 'Mean:0' shape=() dtype=float32>"
      ]
     },
     "execution_count": 354,
     "metadata": {},
     "output_type": "execute_result"
    }
   ],
   "source": [
    "cost"
   ]
  },
  {
   "cell_type": "code",
   "execution_count": 370,
   "metadata": {
    "collapsed": false
   },
   "outputs": [
    {
     "data": {
      "text/plain": [
       "[<matplotlib.lines.Line2D at 0x7fba4c1a14d0>]"
      ]
     },
     "execution_count": 370,
     "metadata": {},
     "output_type": "execute_result"
    },
    {
     "data": {
      "image/png": "[encoded data removed]",
      "text/plain": [
       "<matplotlib.figure.Figure at 0x7fba4c3bbb10>"
      ]
     },
     "metadata": {},
     "output_type": "display_data"
    }
   ],
   "source": [
    "plt.plot(x,y)"
   ]
  },
  {
   "cell_type": "markdown",
   "metadata": {},
   "source": [
    "#### 普通的 run，如果每次 run 初始化，则每次 cost 结果会变"
   ]
  },
  {
   "cell_type": "code",
   "execution_count": 362,
   "metadata": {
    "collapsed": true
   },
   "outputs": [],
   "source": [
    "sess = tf.Session()"
   ]
  },
  {
   "cell_type": "code",
   "execution_count": 363,
   "metadata": {
    "collapsed": false
   },
   "outputs": [],
   "source": [
    "sess.run(tf.global_variables_initializer())"
   ]
  },
  {
   "cell_type": "code",
   "execution_count": 364,
   "metadata": {
    "collapsed": false
   },
   "outputs": [
    {
     "data": {
      "text/plain": [
       "365.88272"
      ]
     },
     "execution_count": 364,
     "metadata": {},
     "output_type": "execute_result"
    }
   ],
   "source": [
    "sess.run(cost)"
   ]
  },
  {
   "cell_type": "code",
   "execution_count": 365,
   "metadata": {
    "collapsed": false
   },
   "outputs": [
    {
     "name": "stdout",
     "output_type": "stream",
     "text": [
      "[array([-0.70467281], dtype=float32), array([ 0.], dtype=float32)]\n",
      "365.883\n"
     ]
    }
   ],
   "source": [
    "print(sess.run([w, b]))\n",
    "print(sess.run(cost))"
   ]
  },
  {
   "cell_type": "markdown",
   "metadata": {},
   "source": [
    "#### 局部生效"
   ]
  },
  {
   "cell_type": "code",
   "execution_count": 355,
   "metadata": {
    "collapsed": false
   },
   "outputs": [
    {
     "name": "stdout",
     "output_type": "stream",
     "text": [
      "[array([ 0.90113664], dtype=float32), array([ 0.], dtype=float32)]\n",
      "1.94812\n"
     ]
    }
   ],
   "source": [
    "with tf.Session() as sess:\n",
    "    sess.run(tf.global_variables_initializer())\n",
    "    print(sess.run([w, b]))\n",
    "    print(sess.run(cost))"
   ]
  },
  {
   "cell_type": "code",
   "execution_count": 356,
   "metadata": {
    "collapsed": true
   },
   "outputs": [],
   "source": [
    "y_bar = np.asarray([0.9011364]) * x + 0"
   ]
  },
  {
   "cell_type": "code",
   "execution_count": 357,
   "metadata": {
    "collapsed": false
   },
   "outputs": [
    {
     "data": {
      "image/png": "[encoded data removed]",
      "text/latex": [
       "$$1.94812920176$$"
      ],
      "text/plain": [
       "1.94812920176"
      ]
     },
     "execution_count": 357,
     "metadata": {},
     "output_type": "execute_result"
    }
   ],
   "source": [
    "np.mean((y_bar - y) ** 2)"
   ]
  },
  {
   "cell_type": "markdown",
   "metadata": {},
   "source": [
    "### 梯度下降"
   ]
  },
  {
   "cell_type": "code",
   "execution_count": 18,
   "metadata": {
    "collapsed": false
   },
   "outputs": [
    {
     "name": "stdout",
     "output_type": "stream",
     "text": [
      "191.311\n",
      "[array([-0.23571779], dtype=float32), array([ 0.00244096], dtype=float32)]\n",
      "181.966\n",
      "[array([-0.20504875], dtype=float32), array([ 0.00482167], dtype=float32)]\n",
      "173.08\n",
      "[array([-0.17514177], dtype=float32), array([ 0.00714363], dtype=float32)]\n",
      "164.63\n",
      "[array([-0.1459779], dtype=float32), array([ 0.00940831], dtype=float32)]\n",
      "156.594\n",
      "[array([-0.11753868], dtype=float32), array([ 0.01161712], dtype=float32)]\n",
      "148.953\n",
      "[array([-0.08980609], dtype=float32), array([ 0.01377145], dtype=float32)]\n",
      "141.687\n",
      "[array([-0.06276261], dtype=float32), array([ 0.01587267], dtype=float32)]\n",
      "134.777\n",
      "[array([-0.03639109], dtype=float32), array([ 0.01792208], dtype=float32)]\n",
      "128.206\n",
      "[array([-0.01067484], dtype=float32), array([ 0.01992097], dtype=float32)]\n",
      "121.958\n",
      "[array([ 0.01440242], dtype=float32), array([ 0.0218706], dtype=float32)]\n",
      "116.017\n",
      "[array([ 0.03885657], dtype=float32), array([ 0.0237722], dtype=float32)]\n",
      "110.367\n",
      "[array([ 0.06270309], dtype=float32), array([ 0.02562695], dtype=float32)]\n",
      "104.994\n",
      "[array([ 0.08595707], dtype=float32), array([ 0.02743603], dtype=float32)]\n",
      "99.8854\n",
      "[array([ 0.10863325], dtype=float32), array([ 0.02920056], dtype=float32)]\n",
      "95.0271\n",
      "[array([ 0.13074598], dtype=float32), array([ 0.03092165], dtype=float32)]\n",
      "90.4073\n",
      "[array([ 0.15230924], dtype=float32), array([ 0.03260038], dtype=float32)]\n",
      "86.0142\n",
      "[array([ 0.1733367], dtype=float32), array([ 0.03423781], dtype=float32)]\n",
      "81.8367\n",
      "[array([ 0.19384168], dtype=float32), array([ 0.03583496], dtype=float32)]\n",
      "77.8642\n",
      "[array([ 0.21383715], dtype=float32), array([ 0.03739283], dtype=float32)]\n",
      "74.0867\n",
      "[array([ 0.23333576], dtype=float32), array([ 0.0389124], dtype=float32)]\n",
      "70.4946\n",
      "[array([ 0.25234988], dtype=float32), array([ 0.04039461], dtype=float32)]\n",
      "67.0787\n",
      "[array([ 0.27089155], dtype=float32), array([ 0.0418404], dtype=float32)]\n",
      "63.8305\n",
      "[array([ 0.28897247], dtype=float32), array([ 0.04325068], dtype=float32)]\n",
      "60.7417\n",
      "[array([ 0.30660412], dtype=float32), array([ 0.04462631], dtype=float32)]\n",
      "57.8044\n",
      "[array([ 0.32379764], dtype=float32), array([ 0.04596817], dtype=float32)]\n",
      "55.0113\n",
      "[array([ 0.34056395], dtype=float32), array([ 0.0472771], dtype=float32)]\n",
      "52.3553\n",
      "[array([ 0.35691363], dtype=float32), array([ 0.04855391], dtype=float32)]\n",
      "49.8297\n",
      "[array([ 0.37285703], dtype=float32), array([ 0.0497994], dtype=float32)]\n",
      "47.4279\n",
      "[array([ 0.38840428], dtype=float32), array([ 0.05101435], dtype=float32)]\n",
      "45.1441\n",
      "[array([ 0.4035652], dtype=float32), array([ 0.05219951], dtype=float32)]\n",
      "42.9723\n",
      "[array([ 0.41834942], dtype=float32), array([ 0.05335563], dtype=float32)]\n",
      "40.9071\n",
      "[array([ 0.43276626], dtype=float32), array([ 0.05448343], dtype=float32)]\n",
      "38.9433\n",
      "[array([ 0.44682485], dtype=float32), array([ 0.05558361], dtype=float32)]\n",
      "37.0758\n",
      "[array([ 0.4605341], dtype=float32), array([ 0.05665687], dtype=float32)]\n",
      "35.3\n",
      "[array([ 0.4739027], dtype=float32), array([ 0.05770386], dtype=float32)]\n",
      "33.6113\n",
      "[array([ 0.4869391], dtype=float32), array([ 0.05872524], dtype=float32)]\n",
      "32.0055\n",
      "[array([ 0.49965158], dtype=float32), array([ 0.05972164], dtype=float32)]\n",
      "30.4785\n",
      "[array([ 0.51204818], dtype=float32), array([ 0.0606937], dtype=float32)]\n",
      "29.0265\n",
      "[array([ 0.52413672], dtype=float32), array([ 0.06164201], dtype=float32)]\n",
      "27.6457\n",
      "[array([ 0.53592485], dtype=float32), array([ 0.06256715], dtype=float32)]\n",
      "26.3327\n",
      "[array([ 0.54742008], dtype=float32), array([ 0.06346972], dtype=float32)]\n",
      "25.0841\n",
      "[array([ 0.55862963], dtype=float32), array([ 0.06435026], dtype=float32)]\n",
      "23.8968\n",
      "[array([ 0.56956065], dtype=float32), array([ 0.06520933], dtype=float32)]\n",
      "22.7677\n",
      "[array([ 0.58022004], dtype=float32), array([ 0.06604746], dtype=float32)]\n",
      "21.6941\n",
      "[array([ 0.59061456], dtype=float32), array([ 0.06686517], dtype=float32)]\n",
      "20.6731\n",
      "[array([ 0.6007508], dtype=float32), array([ 0.06766296], dtype=float32)]\n",
      "19.7023\n",
      "[array([ 0.61063516], dtype=float32), array([ 0.06844134], dtype=float32)]\n",
      "18.7791\n",
      "[array([ 0.62027389], dtype=float32), array([ 0.06920078], dtype=float32)]\n",
      "17.9012\n",
      "[array([ 0.62967306], dtype=float32), array([ 0.06994175], dtype=float32)]\n",
      "17.0664\n",
      "[array([ 0.63883871], dtype=float32), array([ 0.07066472], dtype=float32)]\n",
      "16.2725\n",
      "[array([ 0.64777654], dtype=float32), array([ 0.07137012], dtype=float32)]\n",
      "15.5176\n",
      "[array([ 0.65649229], dtype=float32), array([ 0.07205841], dtype=float32)]\n",
      "14.7998\n",
      "[array([ 0.66499144], dtype=float32), array([ 0.07273], dtype=float32)]\n",
      "14.1172\n",
      "[array([ 0.6732794], dtype=float32), array([ 0.07338531], dtype=float32)]\n",
      "13.4681\n",
      "[array([ 0.68136144], dtype=float32), array([ 0.07402474], dtype=float32)]\n",
      "12.8508\n",
      "[array([ 0.6892426], dtype=float32), array([ 0.07464868], dtype=float32)]\n",
      "12.2638\n",
      "[array([ 0.69692791], dtype=float32), array([ 0.07525752], dtype=float32)]\n",
      "11.7057\n",
      "[array([ 0.70442224], dtype=float32), array([ 0.07585165], dtype=float32)]\n",
      "11.1749\n",
      "[array([ 0.71173036], dtype=float32), array([ 0.07643141], dtype=float32)]\n",
      "10.6702\n",
      "[array([ 0.71885687], dtype=float32), array([ 0.07699717], dtype=float32)]\n",
      "10.1902\n",
      "[array([ 0.72580624], dtype=float32), array([ 0.07754928], dtype=float32)]\n",
      "9.73385\n",
      "[array([ 0.73258293], dtype=float32), array([ 0.07808807], dtype=float32)]\n",
      "9.29985\n",
      "[array([ 0.73919117], dtype=float32), array([ 0.07861388], dtype=float32)]\n",
      "8.88715\n",
      "[array([ 0.74563521], dtype=float32), array([ 0.07912704], dtype=float32)]\n",
      "8.4947\n",
      "[array([ 0.75191915], dtype=float32), array([ 0.07962784], dtype=float32)]\n",
      "8.12151\n",
      "[array([ 0.75804693], dtype=float32), array([ 0.08011661], dtype=float32)]\n",
      "7.76664\n",
      "[array([ 0.76402241], dtype=float32), array([ 0.08059363], dtype=float32)]\n",
      "7.42918\n",
      "[array([ 0.76984936], dtype=float32), array([ 0.0810592], dtype=float32)]\n",
      "7.10828\n",
      "[array([ 0.77553153], dtype=float32), array([ 0.08151361], dtype=float32)]\n",
      "6.80313\n",
      "[array([ 0.7810725], dtype=float32), array([ 0.08195714], dtype=float32)]\n",
      "6.51296\n",
      "[array([ 0.78647572], dtype=float32), array([ 0.08239005], dtype=float32)]\n",
      "6.23703\n",
      "[array([ 0.79174465], dtype=float32), array([ 0.0828126], dtype=float32)]\n",
      "5.97464\n",
      "[array([ 0.79688263], dtype=float32), array([ 0.08322506], dtype=float32)]\n",
      "5.72512\n",
      "[array([ 0.80189294], dtype=float32), array([ 0.08362767], dtype=float32)]\n",
      "5.48785\n",
      "[array([ 0.80677873], dtype=float32), array([ 0.08402068], dtype=float32)]\n",
      "5.26223\n",
      "[array([ 0.81154311], dtype=float32), array([ 0.08440433], dtype=float32)]\n",
      "5.04768\n",
      "[array([ 0.81618905], dtype=float32), array([ 0.08477886], dtype=float32)]\n",
      "4.84365\n",
      "[array([ 0.82071954], dtype=float32), array([ 0.08514448], dtype=float32)]\n",
      "4.64964\n",
      "[array([ 0.82513744], dtype=float32), array([ 0.08550142], dtype=float32)]\n",
      "4.46515\n",
      "[array([ 0.82944554], dtype=float32), array([ 0.0858499], dtype=float32)]\n",
      "4.28971\n",
      "[array([ 0.83364654], dtype=float32), array([ 0.08619011], dtype=float32)]\n",
      "4.12289\n",
      "[array([ 0.83774316], dtype=float32), array([ 0.08652228], dtype=float32)]\n",
      "3.96425\n",
      "[array([ 0.84173799], dtype=float32), array([ 0.0868466], dtype=float32)]\n",
      "3.81339\n",
      "[array([ 0.84563351], dtype=float32), array([ 0.08716326], dtype=float32)]\n",
      "3.66994\n",
      "[array([ 0.84943217], dtype=float32), array([ 0.08747246], dtype=float32)]\n",
      "3.53353\n",
      "[array([ 0.85313642], dtype=float32), array([ 0.08777438], dtype=float32)]\n",
      "3.40381\n",
      "[array([ 0.85674864], dtype=float32), array([ 0.0880692], dtype=float32)]\n",
      "3.28046\n",
      "[array([ 0.86027104], dtype=float32), array([ 0.0883571], dtype=float32)]\n",
      "3.16316\n",
      "[array([ 0.86370593], dtype=float32), array([ 0.08863825], dtype=float32)]\n",
      "3.05162\n",
      "[array([ 0.86705542], dtype=float32), array([ 0.08891281], dtype=float32)]\n",
      "2.94555\n",
      "[array([ 0.87032163], dtype=float32), array([ 0.08918096], dtype=float32)]\n",
      "2.84469\n",
      "[array([ 0.87350667], dtype=float32), array([ 0.08944285], dtype=float32)]\n",
      "2.74878\n",
      "[array([ 0.87661254], dtype=float32), array([ 0.08969864], dtype=float32)]\n",
      "2.65757\n",
      "[array([ 0.87964123], dtype=float32), array([ 0.08994847], dtype=float32)]\n",
      "2.57084\n",
      "[array([ 0.88259465], dtype=float32), array([ 0.0901925], dtype=float32)]\n",
      "2.48837\n",
      "[array([ 0.88547462], dtype=float32), array([ 0.09043086], dtype=float32)]\n",
      "2.40994\n",
      "[array([ 0.88828301], dtype=float32), array([ 0.09066371], dtype=float32)]\n",
      "2.33536\n",
      "[array([ 0.89102161], dtype=float32), array([ 0.09089117], dtype=float32)]\n",
      "2.26444\n",
      "[array([ 0.89369214], dtype=float32), array([ 0.09111339], dtype=float32)]\n",
      "2.197\n",
      "[array([ 0.89629626], dtype=float32), array([ 0.09133048], dtype=float32)]\n"
     ]
    }
   ],
   "source": [
    "train_step = tf.train.GradientDescentOptimizer(0.0001).minimize(cost)\n",
    "costs = []\n",
    "with tf.Session() as sess:\n",
    "    sess.run(tf.global_variables_initializer())\n",
    "    for i in range(100):\n",
    "        sess.run(train_step)\n",
    "        cost_value = sess.run(cost)\n",
    "        costs.append(cost_value)\n",
    "        print(cost_value)\n",
    "        print(sess.run([w, b]))"
   ]
  },
  {
   "cell_type": "code",
   "execution_count": 369,
   "metadata": {
    "collapsed": false
   },
   "outputs": [
    {
     "data": {
      "text/plain": [
       "[<matplotlib.lines.Line2D at 0x7fba4c22f950>]"
      ]
     },
     "execution_count": 369,
     "metadata": {},
     "output_type": "execute_result"
    },
    {
     "data": {
      "image/png": "[encoded data removed]",
      "text/plain": [
       "<matplotlib.figure.Figure at 0x7fba64a8d0d0>"
      ]
     },
     "metadata": {},
     "output_type": "display_data"
    }
   ],
   "source": [
    "plt.plot(costs)"
   ]
  },
  {
   "cell_type": "markdown",
   "metadata": {},
   "source": [
    "### 随机梯度下降"
   ]
  },
  {
   "cell_type": "markdown",
   "metadata": {},
   "source": [
    "Placeholder\n",
    "- Graph 是 虚 的，数据是 实 的\n",
    "- 先用一个 虚 的 Node，替代 实 的数据，在运行过程中再不断填数据"
   ]
  },
  {
   "cell_type": "code",
   "execution_count": 19,
   "metadata": {
    "collapsed": true
   },
   "outputs": [],
   "source": [
    "tf.reset_default_graph()"
   ]
  },
  {
   "cell_type": "code",
   "execution_count": 24,
   "metadata": {
    "collapsed": true
   },
   "outputs": [],
   "source": [
    "x_placeholder = tf.placeholder('float')\n",
    "y_placeholder = tf.placeholder('float')\n",
    "\n",
    "w = tf.Variable(tf.random_uniform([1], -1.0, 1.0), name='W')\n",
    "b = tf.Variable(tf.zeros([1]), name='b')\n",
    "\n",
    "y_bar = w * x_placeholder + b\n",
    "cost = tf.reduce_mean(tf.square(y_bar - y_placeholder))\n",
    "\n",
    "# 这里的 cost 就很虚，没数据"
   ]
  },
  {
   "cell_type": "code",
   "execution_count": 25,
   "metadata": {
    "collapsed": false
   },
   "outputs": [
    {
     "data": {
      "text/plain": [
       "<tf.Tensor 'Placeholder:0' shape=<unknown> dtype=float32>"
      ]
     },
     "execution_count": 25,
     "metadata": {},
     "output_type": "execute_result"
    }
   ],
   "source": [
    "x_placeholder # Placeholder 类型，shape 可以指定，也可以不断变化"
   ]
  },
  {
   "cell_type": "code",
   "execution_count": 26,
   "metadata": {
    "collapsed": false
   },
   "outputs": [
    {
     "data": {
      "text/plain": [
       "array([ 0,  1,  2,  3,  4,  5,  6,  7,  8,  9, 10, 11, 12, 13, 14, 15, 16,\n",
       "       17, 18, 19])"
      ]
     },
     "execution_count": 26,
     "metadata": {},
     "output_type": "execute_result"
    }
   ],
   "source": [
    "x"
   ]
  },
  {
   "cell_type": "code",
   "execution_count": 27,
   "metadata": {
    "collapsed": false
   },
   "outputs": [
    {
     "data": {
      "text/plain": [
       "array([ -0.88610806,   1.26429297,   3.02028824,   4.47442937,\n",
       "         2.83390628,   6.45204014,   6.48459455,   6.75393219,\n",
       "        10.1332669 ,   8.1765203 ,   8.92343211,  10.63734646,\n",
       "        12.89514302,  13.83722975,  14.26105457,  15.27300154,\n",
       "        14.64113928,  17.58123011,  17.7388471 ,  18.83796875])"
      ]
     },
     "execution_count": 27,
     "metadata": {},
     "output_type": "execute_result"
    }
   ],
   "source": [
    "y"
   ]
  },
  {
   "cell_type": "code",
   "execution_count": 28,
   "metadata": {
    "collapsed": false
   },
   "outputs": [
    {
     "name": "stdout",
     "output_type": "stream",
     "text": [
      "268.01\n",
      "[array([-0.46472624], dtype=float32), array([ 0.00288709], dtype=float32)]\n",
      "254.901\n",
      "[array([-0.42840153], dtype=float32), array([ 0.00570283], dtype=float32)]\n",
      "242.435\n",
      "[array([-0.39297941], dtype=float32), array([ 0.00844899], dtype=float32)]\n",
      "230.581\n",
      "[array([-0.35843742], dtype=float32), array([ 0.01112729], dtype=float32)]\n",
      "219.309\n",
      "[array([-0.3247537], dtype=float32), array([ 0.01373943], dtype=float32)]\n",
      "208.59\n",
      "[array([-0.29190695], dtype=float32), array([ 0.01628705], dtype=float32)]\n",
      "198.397\n",
      "[array([-0.25987637], dtype=float32), array([ 0.01877176], dtype=float32)]\n",
      "188.704\n",
      "[array([-0.22864164], dtype=float32), array([ 0.0211951], dtype=float32)]\n",
      "179.487\n",
      "[array([-0.19818301], dtype=float32), array([ 0.02355862], dtype=float32)]\n",
      "170.722\n",
      "[array([-0.16848122], dtype=float32), array([ 0.02586379], dtype=float32)]\n",
      "162.387\n",
      "[array([-0.13951743], dtype=float32), array([ 0.02811207], dtype=float32)]\n",
      "154.461\n",
      "[array([-0.11127332], dtype=float32), array([ 0.03030486], dtype=float32)]\n",
      "146.925\n",
      "[array([-0.083731], dtype=float32), array([ 0.03244356], dtype=float32)]\n",
      "139.758\n",
      "[array([-0.05687305], dtype=float32), array([ 0.03452949], dtype=float32)]\n",
      "132.943\n",
      "[array([-0.03068245], dtype=float32), array([ 0.03656398], dtype=float32)]\n",
      "126.462\n",
      "[array([-0.00514262], dtype=float32), array([ 0.0385483], dtype=float32)]\n",
      "120.299\n",
      "[array([ 0.01976261], dtype=float32), array([ 0.0404837], dtype=float32)]\n",
      "114.439\n",
      "[array([ 0.04404899], dtype=float32), array([ 0.04237139], dtype=float32)]\n",
      "108.867\n",
      "[array([ 0.06773192], dtype=float32), array([ 0.04421256], dtype=float32)]\n",
      "103.567\n",
      "[array([ 0.09082638], dtype=float32), array([ 0.04600836], dtype=float32)]\n",
      "98.5283\n",
      "[array([ 0.11334699], dtype=float32), array([ 0.04775992], dtype=float32)]\n",
      "93.7366\n",
      "[array([ 0.13530803], dtype=float32), array([ 0.04946835], dtype=float32)]\n",
      "89.18\n",
      "[array([ 0.15672337], dtype=float32), array([ 0.05113471], dtype=float32)]\n",
      "84.847\n",
      "[array([ 0.17760658], dtype=float32), array([ 0.05276004], dtype=float32)]\n",
      "80.7266\n",
      "[array([ 0.1979709], dtype=float32), array([ 0.05434537], dtype=float32)]\n",
      "76.8085\n",
      "[array([ 0.2178292], dtype=float32), array([ 0.05589169], dtype=float32)]\n",
      "73.0826\n",
      "[array([ 0.23719406], dtype=float32), array([ 0.05739997], dtype=float32)]\n",
      "69.5396\n",
      "[array([ 0.25607777], dtype=float32), array([ 0.05887116], dtype=float32)]\n",
      "66.1705\n",
      "[array([ 0.27449223], dtype=float32), array([ 0.06030618], dtype=float32)]\n",
      "62.9667\n",
      "[array([ 0.29244915], dtype=float32), array([ 0.06170592], dtype=float32)]\n",
      "59.9201\n",
      "[array([ 0.30995986], dtype=float32), array([ 0.06307126], dtype=float32)]\n",
      "57.023\n",
      "[array([ 0.32703546], dtype=float32), array([ 0.06440306], dtype=float32)]\n",
      "54.2682\n",
      "[array([ 0.34368676], dtype=float32), array([ 0.06570215], dtype=float32)]\n",
      "51.6485\n",
      "[array([ 0.35992432], dtype=float32), array([ 0.06696934], dtype=float32)]\n",
      "49.1573\n",
      "[array([ 0.37575838], dtype=float32), array([ 0.06820542], dtype=float32)]\n",
      "46.7885\n",
      "[array([ 0.39119899], dtype=float32), array([ 0.06941117], dtype=float32)]\n",
      "44.5359\n",
      "[array([ 0.40625593], dtype=float32), array([ 0.07058735], dtype=float32)]\n",
      "42.3938\n",
      "[array([ 0.42093873], dtype=float32), array([ 0.07173468], dtype=float32)]\n",
      "40.3569\n",
      "[array([ 0.43525669], dtype=float32), array([ 0.07285389], dtype=float32)]\n",
      "38.4199\n",
      "[array([ 0.44921887], dtype=float32), array([ 0.07394566], dtype=float32)]\n",
      "36.578\n",
      "[array([ 0.46283412], dtype=float32), array([ 0.07501069], dtype=float32)]\n",
      "34.8264\n",
      "[array([ 0.47611105], dtype=float32), array([ 0.07604964], dtype=float32)]\n",
      "33.1609\n",
      "[array([ 0.48905805], dtype=float32), array([ 0.07706316], dtype=float32)]\n",
      "31.577\n",
      "[array([ 0.50168335], dtype=float32), array([ 0.07805187], dtype=float32)]\n",
      "30.0709\n",
      "[array([ 0.51399493], dtype=float32), array([ 0.0790164], dtype=float32)]\n",
      "28.6387\n",
      "[array([ 0.52600056], dtype=float32), array([ 0.07995734], dtype=float32)]\n",
      "27.2768\n",
      "[array([ 0.53770787], dtype=float32), array([ 0.08087528], dtype=float32)]\n",
      "25.9818\n",
      "[array([ 0.54912424], dtype=float32), array([ 0.0817708], dtype=float32)]\n",
      "24.7503\n",
      "[array([ 0.56025696], dtype=float32), array([ 0.08264445], dtype=float32)]\n",
      "23.5792\n",
      "[array([ 0.57111305], dtype=float32), array([ 0.08349676], dtype=float32)]\n",
      "22.4656\n",
      "[array([ 0.58169937], dtype=float32), array([ 0.08432829], dtype=float32)]\n",
      "21.4066\n",
      "[array([ 0.5920226], dtype=float32), array([ 0.08513953], dtype=float32)]\n",
      "20.3996\n",
      "[array([ 0.60208935], dtype=float32), array([ 0.085931], dtype=float32)]\n",
      "19.4421\n",
      "[array([ 0.61190593], dtype=float32), array([ 0.08670317], dtype=float32)]\n",
      "18.5315\n",
      "[array([ 0.62147856], dtype=float32), array([ 0.08745655], dtype=float32)]\n",
      "17.6656\n",
      "[array([ 0.6308133], dtype=float32), array([ 0.08819158], dtype=float32)]\n",
      "16.8422\n",
      "[array([ 0.63991606], dtype=float32), array([ 0.08890873], dtype=float32)]\n",
      "16.0592\n",
      "[array([ 0.64879262], dtype=float32), array([ 0.08960845], dtype=float32)]\n",
      "15.3147\n",
      "[array([ 0.65744865], dtype=float32), array([ 0.09029116], dtype=float32)]\n",
      "14.6066\n",
      "[array([ 0.66588956], dtype=float32), array([ 0.09095728], dtype=float32)]\n",
      "13.9334\n",
      "[array([ 0.67412072], dtype=float32), array([ 0.09160724], dtype=float32)]\n",
      "13.2931\n",
      "[array([ 0.68214732], dtype=float32), array([ 0.09224142], dtype=float32)]\n",
      "12.6843\n",
      "[array([ 0.68997449], dtype=float32), array([ 0.09286023], dtype=float32)]\n",
      "12.1054\n",
      "[array([ 0.6976071], dtype=float32), array([ 0.09346404], dtype=float32)]\n",
      "11.5549\n",
      "[array([ 0.70505005], dtype=float32), array([ 0.09405323], dtype=float32)]\n",
      "11.0314\n",
      "[array([ 0.71230805], dtype=float32), array([ 0.09462816], dtype=float32)]\n",
      "10.5336\n",
      "[array([ 0.71938568], dtype=float32), array([ 0.09518918], dtype=float32)]\n",
      "10.0602\n",
      "[array([ 0.72628742], dtype=float32), array([ 0.09573665], dtype=float32)]\n",
      "9.61001\n",
      "[array([ 0.73301768], dtype=float32), array([ 0.0962709], dtype=float32)]\n",
      "9.18195\n",
      "[array([ 0.73958069], dtype=float32), array([ 0.09679224], dtype=float32)]\n",
      "8.7749\n",
      "[array([ 0.74598056], dtype=float32), array([ 0.09730101], dtype=float32)]\n",
      "8.38782\n",
      "[array([ 0.75222141], dtype=float32), array([ 0.09779753], dtype=float32)]\n",
      "8.01974\n",
      "[array([ 0.75830716], dtype=float32), array([ 0.09828208], dtype=float32)]\n",
      "7.66972\n",
      "[array([ 0.7642417], dtype=float32), array([ 0.09875498], dtype=float32)]\n",
      "7.33688\n",
      "[array([ 0.77002871], dtype=float32), array([ 0.09921651], dtype=float32)]\n",
      "7.02037\n",
      "[array([ 0.77567196], dtype=float32), array([ 0.09966695], dtype=float32)]\n",
      "6.71939\n",
      "[array([ 0.78117496], dtype=float32), array([ 0.10010657], dtype=float32)]\n",
      "6.43319\n",
      "[array([ 0.78654116], dtype=float32), array([ 0.10053565], dtype=float32)]\n",
      "6.16103\n",
      "[array([ 0.79177403], dtype=float32), array([ 0.10095445], dtype=float32)]\n",
      "5.90223\n",
      "[array([ 0.79687685], dtype=float32), array([ 0.10136323], dtype=float32)]\n",
      "5.65613\n",
      "[array([ 0.80185282], dtype=float32), array([ 0.10176222], dtype=float32)]\n",
      "5.4221\n",
      "[array([ 0.80670518], dtype=float32), array([ 0.10215168], dtype=float32)]\n",
      "5.19957\n",
      "[array([ 0.81143689], dtype=float32), array([ 0.10253185], dtype=float32)]\n",
      "4.98795\n",
      "[array([ 0.81605101], dtype=float32), array([ 0.10290295], dtype=float32)]\n",
      "4.78672\n",
      "[array([ 0.8205505], dtype=float32), array([ 0.1032652], dtype=float32)]\n",
      "4.59536\n",
      "[array([ 0.82493812], dtype=float32), array([ 0.10361884], dtype=float32)]\n",
      "4.41339\n",
      "[array([ 0.82921672], dtype=float32), array([ 0.10396407], dtype=float32)]\n",
      "4.24035\n",
      "[array([ 0.83338898], dtype=float32), array([ 0.1043011], dtype=float32)]\n",
      "4.07581\n",
      "[array([ 0.83745754], dtype=float32), array([ 0.10463013], dtype=float32)]\n",
      "3.91934\n",
      "[array([ 0.841425], dtype=float32), array([ 0.10495137], dtype=float32)]\n",
      "3.77055\n",
      "[array([ 0.84529382], dtype=float32), array([ 0.10526501], dtype=float32)]\n",
      "3.62906\n",
      "[array([ 0.8490665], dtype=float32), array([ 0.10557124], dtype=float32)]\n",
      "3.49451\n",
      "[array([ 0.85274541], dtype=float32), array([ 0.10587023], dtype=float32)]\n",
      "3.36657\n",
      "[array([ 0.8563329], dtype=float32), array([ 0.10616218], dtype=float32)]\n",
      "3.24491\n",
      "[array([ 0.85983121], dtype=float32), array([ 0.10644725], dtype=float32)]\n",
      "3.12921\n",
      "[array([ 0.86324257], dtype=float32), array([ 0.10672562], dtype=float32)]\n",
      "3.0192\n",
      "[array([ 0.86656916], dtype=float32), array([ 0.10699745], dtype=float32)]\n",
      "2.91458\n",
      "[array([ 0.86981302], dtype=float32), array([ 0.1072629], dtype=float32)]\n",
      "2.8151\n",
      "[array([ 0.8729763], dtype=float32), array([ 0.10752214], dtype=float32)]\n",
      "2.7205\n",
      "[array([ 0.87606096], dtype=float32), array([ 0.10777532], dtype=float32)]\n"
     ]
    }
   ],
   "source": [
    "train_step = tf.train.GradientDescentOptimizer(0.0001).minimize(cost)\n",
    "with tf.Session() as sess:\n",
    "    sess.run(tf.global_variables_initializer())\n",
    "    for i in range(100):\n",
    "        feed_dict = {x_placeholder:x.astype(float), y_placeholder:y} # 把 x 和 y 放入 一个 feed_dict\n",
    "        sess.run(train_step, feed_dict=feed_dict)  # run 的时候把 feed_dict 作为参数传给 train_step\n",
    "        print(sess.run(cost, feed_dict=feed_dict)) # 只要用到 x_placeholder 和 y_placeholder 的就要把 feed_dict 数据作为参数给它\n",
    "        print(sess.run([w, b]))"
   ]
  },
  {
   "cell_type": "markdown",
   "metadata": {},
   "source": [
    "- 实际可以传入随机样本数据"
   ]
  },
  {
   "cell_type": "code",
   "execution_count": 8,
   "metadata": {
    "collapsed": true
   },
   "outputs": [],
   "source": [
    "tf.reset_default_graph()"
   ]
  },
  {
   "cell_type": "code",
   "execution_count": 15,
   "metadata": {
    "collapsed": false
   },
   "outputs": [],
   "source": [
    "c = tf.constant([1, 2, 3])"
   ]
  },
  {
   "cell_type": "code",
   "execution_count": 13,
   "metadata": {
    "collapsed": true
   },
   "outputs": [],
   "source": [
    "b = tf.Variable(tf.zeros([1]), name='b')"
   ]
  },
  {
   "cell_type": "code",
   "execution_count": 11,
   "metadata": {
    "collapsed": false
   },
   "outputs": [
    {
     "data": {
      "text/plain": [
       "<tensorflow.python.framework.ops.Graph at 0x7f8c30cdee90>"
      ]
     },
     "execution_count": 11,
     "metadata": {},
     "output_type": "execute_result"
    }
   ],
   "source": [
    "tf.get_default_graph()"
   ]
  },
  {
   "cell_type": "code",
   "execution_count": 29,
   "metadata": {
    "collapsed": false
   },
   "outputs": [],
   "source": [
    "writer = tf.summary.FileWriter(\"/notebooks/OMOOC.DeepLearning/w3_Tensorflow-NN/\", graph=tf.get_default_graph())"
   ]
  },
  {
   "cell_type": "code",
   "execution_count": 25,
   "metadata": {
    "collapsed": false
   },
   "outputs": [],
   "source": [
    "writer.flush()"
   ]
  },
  {
   "cell_type": "code",
   "execution_count": 4,
   "metadata": {
    "collapsed": false
   },
   "outputs": [
    {
     "data": {
      "text/plain": [
       "u'/notebooks/OMOOC.DeepLearning/w3_Tensorflow-NN'"
      ]
     },
     "execution_count": 4,
     "metadata": {},
     "output_type": "execute_result"
    }
   ],
   "source": [
    "pwd"
   ]
  },
  {
   "cell_type": "code",
   "execution_count": 12,
   "metadata": {
    "collapsed": false
   },
   "outputs": [
    {
     "data": {
      "text/plain": [
       "node {\n",
       "  name: \"Const\"\n",
       "  op: \"Const\"\n",
       "  attr {\n",
       "    key: \"dtype\"\n",
       "    value {\n",
       "      type: DT_INT32\n",
       "    }\n",
       "  }\n",
       "  attr {\n",
       "    key: \"value\"\n",
       "    value {\n",
       "      tensor {\n",
       "        dtype: DT_INT32\n",
       "        tensor_shape {\n",
       "          dim {\n",
       "            size: 3\n",
       "          }\n",
       "        }\n",
       "        tensor_content: \"\\001\\000\\000\\000\\002\\000\\000\\000\\003\\000\\000\\000\"\n",
       "      }\n",
       "    }\n",
       "  }\n",
       "}\n",
       "versions {\n",
       "  producer: 21\n",
       "}"
      ]
     },
     "execution_count": 12,
     "metadata": {},
     "output_type": "execute_result"
    }
   ],
   "source": [
    "c = tf.constant([1, 2, 3])\n",
    "g = tf.get_default_graph()\n",
    "g.as_graph_def()"
   ]
  },
  {
   "cell_type": "markdown",
   "metadata": {},
   "source": [
    "小疑问：  \n",
    "- 为什么 Tensorboard 没有 Graph？"
   ]
  },
  {
   "cell_type": "markdown",
   "metadata": {},
   "source": [
    "### 小结"
   ]
  },
  {
   "cell_type": "markdown",
   "metadata": {},
   "source": [
    "- Constant：Tensor，`tf.Constant`\n",
    "- Variable：能做 Tensor 相同的操作，不同的 run 中间能保存状态，`tf.Variable`\n",
    "\n",
    "- Tensor：Constant 是 Tensor，Variable 能做 Tensor 相同的操作，都是 Tensor\n",
    "- Graph：\n",
    "  - 记录所有 Tensor 的【声明】，执行蓝图（有向无环图）；显示 `g = tf.get_default_graph()`, `g.as_graph_def().node`\n",
    "  - 两种 Node：Tensor 和 Operation\n",
    "\n",
    "\n",
    "- Session：具体执行 **Graph**；`tf.Session()`，使用前需要初始化 `init = tf.global_variables_initializer()`, `sess.run(init)`\n",
    "- 返回值：返回 numpy array；`tf.Session().run(Constant or Variable)` "
   ]
  },
  {
   "cell_type": "markdown",
   "metadata": {},
   "source": [
    "- 清除 graph：`tf.reset_default_graph()` 会除掉与 Session 有关的 Tensor，并且会关闭 Session\n",
    "- 实际证明，在 with 里面运行的 Session，只会在里面生效，如果外部再次运行就会报错；如果 `sess = tf.Session()`，则可以任意 sess.run(变量），但是在开始前需要初始化 `sess.run(tf.global_variables_initializer())`\n",
    "- 如果运行过 局部（带 with）的 Session，再运行外面的 Session，一定要先运行 `sess = tf.Session()`，就是把 Session 先建立，因为之前建立后在运行局部的 Session 时自动关闭了"
   ]
  },
  {
   "cell_type": "markdown",
   "metadata": {},
   "source": [
    "- placeholder：Placeholder 类型，shape 可以指定，也可以不断变化；\n",
    "  - 比较虚，虚 Node 代替 实 数据，实际运行的时候才传入数据"
   ]
  },
  {
   "cell_type": "markdown",
   "metadata": {
    "collapsed": true
   },
   "source": [
    "`writer = tf.summary.FileWriter(\"/\", graph=tf.get_default_graph())`  \n",
    "- 如果在 Docker 环境中进行可视化，可以多暴露一个端口，如 `docker run -it -p 1234:1234 -p 8888:8888`\n",
    "- 如果想在已有环境基础上添加端口，可以参考 ch1 答疑中 Docker 环境使用的 commit + run 方法\n",
    "- 在导出的目录处运行 `tensorboard --port 1234 --logdir=tf`，本机即可访问 Tensorboard 服务了"
   ]
  },
  {
   "cell_type": "code",
   "execution_count": null,
   "metadata": {
    "collapsed": true
   },
   "outputs": [],
   "source": []
  }
 ],
 "metadata": {
  "kernelspec": {
   "display_name": "Python 2",
   "language": "python",
   "name": "python2"
  },
  "language_info": {
   "codemirror_mode": {
    "name": "ipython",
    "version": 2
   },
   "file_extension": ".py",
   "mimetype": "text/x-python",
   "name": "python",
   "nbconvert_exporter": "python",
   "pygments_lexer": "ipython2",
   "version": "2.7.6"
  }
 },
 "nbformat": 4,
 "nbformat_minor": 1
}
