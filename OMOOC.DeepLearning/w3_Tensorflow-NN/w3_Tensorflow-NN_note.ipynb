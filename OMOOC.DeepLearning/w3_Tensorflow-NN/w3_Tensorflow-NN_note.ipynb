{
 "cells": [
  {
   "cell_type": "markdown",
   "metadata": {
    "collapsed": true
   },
   "source": [
    "## 课程目标\n",
    "\n",
    "- 用 Tensorflow 实现线性回归\n",
    "- 逻辑回归\n",
    "- 梯度下降与随机梯度下降（SGD）\n",
    "- 神经网络：使用神经网络拟合一个较复杂的数据集"
   ]
  },
  {
   "cell_type": "markdown",
   "metadata": {},
   "source": [
    "## 线性回归"
   ]
  },
  {
   "cell_type": "markdown",
   "metadata": {},
   "source": [
    "$y = w_1x_1 + w_2x_2 + ... + w_nx_n +b$"
   ]
  },
  {
   "cell_type": "markdown",
   "metadata": {},
   "source": [
    "### 向量化表示"
   ]
  },
  {
   "cell_type": "markdown",
   "metadata": {},
   "source": [
    "$ y = W^TX + b$  \n",
    "w 是列向量"
   ]
  },
  {
   "cell_type": "markdown",
   "metadata": {
    "collapsed": true
   },
   "source": [
    "## 梯度下降与随机梯度下降"
   ]
  },
  {
   "cell_type": "markdown",
   "metadata": {},
   "source": [
    "小批量梯度下降"
   ]
  },
  {
   "cell_type": "markdown",
   "metadata": {},
   "source": [
    "### 作业1：  \n",
    "\n",
    "用 Tensorflow 实现基于随机梯度下降的线性回归程序"
   ]
  },
  {
   "cell_type": "markdown",
   "metadata": {},
   "source": [
    "## 线性回归实现分类"
   ]
  },
  {
   "cell_type": "markdown",
   "metadata": {},
   "source": [
    "### 高维、稀疏特征\n",
    "\n",
    "- 有什么问题\n",
    "- 线性回归做分类的问题"
   ]
  },
  {
   "cell_type": "markdown",
   "metadata": {},
   "source": [
    "### 作业2：  \n",
    "\n",
    "阅读 Neural network and deep learning 第三章，解释为什么加了 Sigmoid 之后，用交叉熵做损失函数比用差值平方的效果好？"
   ]
  },
  {
   "cell_type": "markdown",
   "metadata": {
    "collapsed": true
   },
   "source": [
    "## 神经网络"
   ]
  },
  {
   "cell_type": "markdown",
   "metadata": {},
   "source": [
    "### 作业3："
   ]
  },
  {
   "cell_type": "markdown",
   "metadata": {},
   "source": [
    "对给定的一个二维分类数据集，基于 Tensorflow 分别实现无隐层（Sigmoid）、单隐层神经网络（Tanh +　Sigmoid）。比较训练集上分类的准确率，并绘制两个网络的决策界面"
   ]
  },
  {
   "cell_type": "markdown",
   "metadata": {},
   "source": [
    "### 进阶作业"
   ]
  },
  {
   "cell_type": "markdown",
   "metadata": {},
   "source": [
    "- 说明为什么隐层加了非线性激活函数之后，整个神经网络模型决策界面就变成非线性了\n",
    "- 使用 Tensorflow 构建神经网络，实现 Ch2 的情感分类问题，比较与 Naive Bayes 的效果"
   ]
  },
  {
   "cell_type": "code",
   "execution_count": null,
   "metadata": {
    "collapsed": true
   },
   "outputs": [],
   "source": []
  }
 ],
 "metadata": {
  "kernelspec": {
   "display_name": "Python 2",
   "language": "python",
   "name": "python2"
  },
  "language_info": {
   "codemirror_mode": {
    "name": "ipython",
    "version": 2
   },
   "file_extension": ".py",
   "mimetype": "text/x-python",
   "name": "python",
   "nbconvert_exporter": "python",
   "pygments_lexer": "ipython2",
   "version": "2.7.6"
  }
 },
 "nbformat": 4,
 "nbformat_minor": 1
}
