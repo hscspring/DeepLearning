{
 "cells": [
  {
   "cell_type": "markdown",
   "metadata": {},
   "source": [
    "## 进阶作业  \n",
    "\n",
    "- 说明为什么隐层加了非线性激活函数之后，整个神经网络模型决策界面就变成非线性了\n",
    "- 使用 Tensorflow 构建神经网络，实现 Ch2 的情感分类问题，比较与 Naive Bayes 的效果"
   ]
  },
  {
   "cell_type": "markdown",
   "metadata": {},
   "source": [
    "### 说明为什么隐层加了非线性激活函数之后，整个神经网络模型决策界面就变成非线性了"
   ]
  },
  {
   "cell_type": "markdown",
   "metadata": {},
   "source": [
    "输出层的决策分界仍然是直线，关键是，从输入层到隐含层时，发生了空间变换。  \n",
    "也就是说三层神经网络可以做非线性分类的关键便是隐含层的加入，通过矩阵和向量相乘，本质做了一次线性变换，使得原先线性不可分的问题变得线性可分。  \n",
    "所以多层神经网络本质就是复杂函数的拟合。"
   ]
  },
  {
   "cell_type": "markdown",
   "metadata": {},
   "source": [
    "#### 几个重要结论\n",
    "\n",
    "- 神经网络的 tanh 函数本质上可以用任意函数代替，包括多项式、正弦、余弦等等\n",
    "  - 多项式/泰勒展开，拟合任意复杂度的曲线\n",
    "  - 正余弦拟合，傅里叶！本质就是傅里叶变换！\n",
    "- 数据的特征数量是维度\n",
    "- 神经网络层数应该也是维度，可以看做是空间的维度\n",
    "  - 但是一定要加入激活函数（非线性拟合），否则永远都在二维空间上（因为加入的层并无意义，可以用输入的权值代替所有层的权值）\n",
    "  - 多一层就可以把二维数据映射到三维空间中，如果是三维数据，就是三维空间映射到三维空间\n",
    "  - 无隐层可以看作是二维空间，非线性的二维数据在二维空间只能用曲线解决，线性无法解决\n",
    "  - 但映射到三维就可以用线性解决（绕空间一圈的分割线可以看做是三维空间的直线，是空间扭曲导致直线看起来是弯着的）\n",
    "- 神经元的个数是**当前空间维度**的褶皱（站立）情况（越多越圆滑，越多越立体）\n",
    "    - 一个神经元其实就是褶皱了一次（一个折痕），相当于直接输出线性结果，这时候也是三维，例中数据最多分出一半\n",
    "    - 两个神经元就是褶皱了两次（两个折痕），这时候三维空间更加立体，所以例中数据少一半分不出，迭代次数增加，只有很少一部分分不出\n",
    "    - 三个神经元就是褶皱了三次（三个折痕），迭代次数增加，一定能分出所有的\n",
    "    - 更多神经元，褶皱次数越来越多，越来越圆滑，有点类似傅里叶或者多项式不断拟合\n",
    "- 神经元的个数是不是可以看作是数据的维度？这样就和输入的数据的维度对应了起来。"
   ]
  },
  {
   "cell_type": "markdown",
   "metadata": {},
   "source": [
    "举例来说：\n",
    "\n",
    "- 无隐层就是二维空间，所以神经元的个数（输入的神经元）再多都没用，都是在二维空间上的线性组合\n",
    "  - 一个神经元就是输出一个（一个点）\n",
    "  - 二个神经元就是输出二个（二个点）\n",
    "- 单隐层就是三维空间，神经元的个数增加会让空间立起来\n",
    "  - 一个神经元就能到三维，一个褶皱（一条线）\n",
    "  - 二个神经元就到了三维，有两个折痕（二条线）"
   ]
  },
  {
   "cell_type": "markdown",
   "metadata": {},
   "source": [
    "决策界面：$f(x) = 0.5$  \n",
    "\n",
    "二维数据，数据集在斜面上  \n",
    "三维数据，数据集在卷曲的面上"
   ]
  },
  {
   "cell_type": "markdown",
   "metadata": {},
   "source": [
    "* [神经网络+增强学习 - HackerVirus - 博客园](http://www.cnblogs.com/Leo_wl/p/5852010.html)\n",
    "* [深度神经网络结构以及Pre-Training的理解 - 菜鸡一枚 - 博客园](http://www.cnblogs.com/yymn/p/4589143.html)\n",
    "* [斯坦福CS231n - CNN for Visual Recognition（5）-lecture5激活函数、神经网络结构 - zhili8866的博客 - 博客频道 - CSDN.NET](http://blog.csdn.net/zhili8866/article/details/53400456)"
   ]
  },
  {
   "cell_type": "markdown",
   "metadata": {},
   "source": [
    "### Tensorflow 情感分类"
   ]
  },
  {
   "cell_type": "code",
   "execution_count": null,
   "metadata": {
    "collapsed": true
   },
   "outputs": [],
   "source": []
  }
 ],
 "metadata": {
  "kernelspec": {
   "display_name": "Python 2",
   "language": "python",
   "name": "python2"
  },
  "language_info": {
   "codemirror_mode": {
    "name": "ipython",
    "version": 2
   },
   "file_extension": ".py",
   "mimetype": "text/x-python",
   "name": "python",
   "nbconvert_exporter": "python",
   "pygments_lexer": "ipython2",
   "version": "2.7.12"
  },
  "latex_envs": {
   "LaTeX_envs_menu_present": true,
   "bibliofile": "biblio.bib",
   "cite_by": "apalike",
   "current_citInitial": 1,
   "eqLabelWithNumbers": true,
   "eqNumInitial": 1,
   "hotkeys": {
    "equation": "Ctrl-E",
    "itemize": "Ctrl-I"
   },
   "labels_anchors": false,
   "latex_user_defs": false,
   "report_style_numbering": false,
   "user_envs_cfg": false
  },
  "toc": {
   "colors": {
    "hover_highlight": "#DAA520",
    "running_highlight": "#FF0000",
    "selected_highlight": "#FFD700"
   },
   "moveMenuLeft": true,
   "nav_menu": {
    "height": "11.818182px",
    "width": "1.818182px"
   },
   "navigate_menu": true,
   "number_sections": true,
   "sideBar": true,
   "threshold": 4,
   "toc_cell": false,
   "toc_section_display": "block",
   "toc_window_display": false
  }
 },
 "nbformat": 4,
 "nbformat_minor": 1
}
