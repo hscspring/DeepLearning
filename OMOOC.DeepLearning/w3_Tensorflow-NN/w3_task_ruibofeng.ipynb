{
 "cells": [
  {
   "cell_type": "code",
   "execution_count": 1,
   "metadata": {
    "collapsed": true
   },
   "outputs": [],
   "source": [
    "import tensorflow as tf\n",
    "import numpy as np\n",
    "import matplotlib.pyplot as plt\n",
    "%matplotlib inline"
   ]
  },
  {
   "cell_type": "code",
   "execution_count": 67,
   "metadata": {
    "collapsed": true
   },
   "outputs": [],
   "source": [
    "data = []\n",
    "with open('./data.csv', 'r') as f:\n",
    "    for line in f.readlines():\n",
    "        data.append(line.strip().split(','))"
   ]
  },
  {
   "cell_type": "code",
   "execution_count": 92,
   "metadata": {
    "collapsed": false
   },
   "outputs": [],
   "source": [
    "xtrain = np.array(np.zeros(400).reshape(200, 2))\n",
    "ytrain = np.array(np.zeros(200))\n",
    "for i in range(len(data)):\n",
    "    xtrain[i] = np.array([float(data[i][0]), float(data[i][1])], dtype=np.float32)\n",
    "    ytrain[i] = np.array([int(data[i][2])], dtype=np.int32)"
   ]
  },
  {
   "cell_type": "code",
   "execution_count": 52,
   "metadata": {
    "collapsed": false
   },
   "outputs": [],
   "source": [
    "#读取数据\n",
    "filename_queue = tf.train.string_input_producer(['./data.csv'])\n",
    "reader = tf.TextLineReader()\n",
    "keys, values = reader.read_up_to(filename_queue, 200) #read_up_to方法可以读出指定数量的数据\n",
    "\n",
    "record_defaults = [[1.0], [1.0], [1]]\n",
    "col1, col2, col3 = tf.decode_csv(\n",
    "    values, record_defaults=record_defaults)\n",
    "features = tf.stack([col1, col2])\n",
    "\n",
    "with tf.Session() as sess:\n",
    "  # Start populating the filename queue.\n",
    "    coord = tf.train.Coordinator()\n",
    "    threads = tf.train.start_queue_runners(coord=coord)\n",
    "    data, label = sess.run([features, col3])\n",
    "    #c1,c2,c3 = sess.run([col1,col2,col3])\n",
    "    coord.request_stop()\n",
    "    coord.join(threads)"
   ]
  },
  {
   "cell_type": "code",
   "execution_count": null,
   "metadata": {
    "collapsed": true
   },
   "outputs": [],
   "source": []
  },
  {
   "cell_type": "code",
   "execution_count": 53,
   "metadata": {
    "collapsed": false
   },
   "outputs": [],
   "source": [
    "train_data = (data.T[:200]).T\n",
    "#test_data = (data.T[100:]).T"
   ]
  },
  {
   "cell_type": "code",
   "execution_count": 54,
   "metadata": {
    "collapsed": false
   },
   "outputs": [
    {
     "data": {
      "text/plain": [
       "(2, 200)"
      ]
     },
     "execution_count": 54,
     "metadata": {},
     "output_type": "execute_result"
    }
   ],
   "source": [
    "train_data.shape"
   ]
  },
  {
   "cell_type": "code",
   "execution_count": 55,
   "metadata": {
    "collapsed": true
   },
   "outputs": [],
   "source": [
    "train_label = label[:200]\n",
    "#test_label = label[100:]"
   ]
  },
  {
   "cell_type": "code",
   "execution_count": null,
   "metadata": {
    "collapsed": true
   },
   "outputs": [],
   "source": []
  },
  {
   "cell_type": "code",
   "execution_count": 60,
   "metadata": {
    "collapsed": false
   },
   "outputs": [
    {
     "data": {
      "text/plain": [
       "(2, 200)"
      ]
     },
     "execution_count": 60,
     "metadata": {},
     "output_type": "execute_result"
    }
   ],
   "source": [
    "train_data.shape"
   ]
  },
  {
   "cell_type": "code",
   "execution_count": 98,
   "metadata": {
    "collapsed": false
   },
   "outputs": [
    {
     "data": {
      "text/plain": [
       "array([[ 0.3444989 ,  1.93518138, -0.19248083,  0.94266361,  0.58272189,\n",
       "        -0.88012403,  0.15154953, -1.01164937,  0.54508269, -1.71350205,\n",
       "        -0.93533283, -0.27294269,  0.82811987, -0.76474714, -0.56202704,\n",
       "         0.95305431,  0.8105408 , -1.74469709,  0.07589885, -1.96981454,\n",
       "         1.97576046, -0.3938213 ,  0.97619784,  0.26419038, -0.7164827 ,\n",
       "         0.93795389, -1.96211302,  0.39855203,  0.15520331, -0.89946491,\n",
       "         1.63410091, -1.02245188, -0.30608281,  0.91085476,  0.88713688,\n",
       "        -0.70740807,  0.21747483,  1.08322799,  0.68080211, -0.71046269,\n",
       "        -0.83475   ,  1.75248861,  0.15326889,  0.95512909, -0.1241012 ,\n",
       "        -1.01284516, -0.44405735,  1.04080057, -0.04820459, -1.94678664,\n",
       "        -1.9684155 , -0.27767783, -0.60521138, -1.81712198, -0.04476193,\n",
       "         2.10167956,  1.93213391,  0.59367466, -0.01405036,  1.03594375,\n",
       "        -1.94553697, -0.52071917, -0.65810955, -1.92501128, -0.49877977,\n",
       "         0.66806835,  0.07737976, -1.95978296,  1.56107497, -1.20292532,\n",
       "         1.57334054,  1.22523797,  0.00438465,  2.13485003,  0.1010124 ,\n",
       "         0.99915284,  0.66571677,  0.8922652 ,  0.4938665 ,  0.77878368,\n",
       "        -0.29097566, -1.21330369, -1.96829998,  0.53009379,  0.54367399,\n",
       "        -0.77927572,  0.4352006 , -0.75923461,  0.22282305,  1.91736329,\n",
       "        -1.53965425, -1.2871896 , -1.17541766, -1.64499259,  0.29305387,\n",
       "        -1.92804444,  0.51126826,  1.96118593, -0.74577868,  0.81505132,\n",
       "         0.53373688,  0.95771211,  0.00369955, -1.02715075, -0.46878347,\n",
       "        -1.8520329 ,  1.35883081,  1.36922252, -1.03265464, -1.66528928,\n",
       "        -0.2243305 , -0.95917827,  0.19874549, -1.1741221 , -0.73090816,\n",
       "        -0.84619373, -0.61320204,  0.74947488, -0.90583372, -1.79160118,\n",
       "        -0.07349328,  0.93681562, -0.48067352,  0.81126469, -0.87812436,\n",
       "        -0.50864398, -0.04412185, -0.94850045, -0.3164663 ,  0.82621026,\n",
       "        -0.46897647, -0.91791743, -0.25601196, -1.94725335,  0.52788007,\n",
       "        -0.82270885,  0.15141369,  1.88254356,  0.87849551,  1.74509597,\n",
       "        -0.3184326 , -2.01576471,  0.85226828,  0.46305057, -0.66305131,\n",
       "         1.85524631,  0.38396391,  0.93038738,  0.95191872,  1.75127447,\n",
       "         1.68930507, -1.0864166 ,  1.91060698,  0.61023766,  1.40672338,\n",
       "         1.64765227, -0.8266663 ,  1.70251918, -1.21530318,  1.85416543,\n",
       "         0.6747613 , -0.68792796,  0.74467009,  0.75080222,  0.57154393,\n",
       "         0.7701968 , -0.41613045,  0.95372283,  0.32074445, -0.87955713,\n",
       "         0.49653658,  0.81809759,  0.16085708, -2.06163073,  1.39707398,\n",
       "        -1.39872527,  0.15246513, -1.19860697, -0.76043677, -0.64449292,\n",
       "         1.36137128,  1.6564095 , -1.84454954, -0.86899388,  1.9626869 ,\n",
       "         0.54917693,  1.06599069,  1.58588123,  0.35341793, -0.8112731 ,\n",
       "        -1.90661538, -0.67412674,  0.36204693,  0.92201114,  1.92298496,\n",
       "         0.59542096, -0.93936813,  0.31808439, -0.2032309 , -0.9533866 ],\n",
       "       [-0.74117857, -1.67489338, -0.1480789 ,  1.93710959,  0.87042493,\n",
       "         1.95274448, -0.76943684, -0.62561649, -0.84299207,  0.52808672,\n",
       "        -1.31387341, -1.48073077, -0.46984071,  2.18060279, -1.47981417,\n",
       "         1.32669985, -0.24727407,  1.97700703,  1.92886329, -0.4817802 ,\n",
       "        -0.93448305, -0.44319293, -0.96095651, -0.25813228,  1.56108916,\n",
       "         1.18980873,  0.75276011,  0.56209636,  1.73889637, -0.94362551,\n",
       "        -1.52382731,  1.50024188,  0.18710877,  0.96623623,  1.54786623,\n",
       "        -1.35086334,  0.60775721, -0.7171464 ,  0.03248724,  1.12393761,\n",
       "        -0.08532155, -1.00466108, -0.85870671, -1.83256209,  0.16578171,\n",
       "        -1.09016228,  1.98252213,  0.32430544,  0.80794984, -1.7156738 ,\n",
       "        -1.48374033,  1.29151964,  1.55197835,  1.21797931, -0.4539828 ,\n",
       "        -2.04100704,  0.32632101, -1.02590466, -0.68469119, -1.92498839,\n",
       "        -1.34035087,  1.40965056,  0.69242942, -0.6262272 , -0.04098697,\n",
       "        -0.99463308, -0.70577526, -0.72759342,  0.37967631,  0.75310093,\n",
       "        -0.10767241, -0.89560062,  0.58247346, -0.70286959,  0.21237014,\n",
       "        -0.94044751,  0.28491378, -1.7501936 ,  1.98519528,  0.29119101,\n",
       "         0.60832769, -0.83375823, -0.50603175, -0.62632108,  0.62430817,\n",
       "        -0.55967414, -0.3777703 , -1.88593459,  1.71960044,  0.98247683,\n",
       "         0.82584715,  1.71208298,  0.9928335 , -0.36788675, -0.3148858 ,\n",
       "         2.03782868,  0.6143949 , -0.763529  , -1.88306344, -0.57813561,\n",
       "         0.92935431,  0.30553734,  1.09227705,  1.71151507,  0.69192839,\n",
       "        -1.86641085, -0.45241484,  2.01956964,  0.41617039,  0.79475653,\n",
       "        -0.80880594, -0.69701064, -1.10353208,  1.66716421, -0.60089457,\n",
       "         0.93156451,  0.70092618, -1.85317862, -0.04313729, -1.14376462,\n",
       "         1.94221401, -0.5366441 ,  0.43651769, -0.88844448, -0.05187451,\n",
       "        -1.05335069, -1.81442952,  0.9602319 , -1.06797647, -1.54076481,\n",
       "         1.79228532, -0.82896459,  0.92256856,  0.39556605, -0.38562605,\n",
       "        -2.11694169, -0.55284399, -0.79376018, -0.01739908,  2.11748409,\n",
       "        -0.97871792,  1.70662534,  0.89564145, -0.60438544,  0.07541478,\n",
       "        -2.24357796, -0.95148844, -1.90272975, -0.61756629, -0.74459213,\n",
       "         1.75691128,  0.99863672, -0.88804984,  1.96614194,  1.20664823,\n",
       "        -1.69175851, -1.02555788,  1.67118716,  1.34132266, -1.47566473,\n",
       "         0.84206796, -0.48240376, -0.38245392, -1.84557199,  0.38784179,\n",
       "         1.11643136, -0.75071585,  0.63130093,  0.54182357, -0.88094789,\n",
       "         0.82464868, -0.45344466, -0.39836344, -0.82789022,  0.61983383,\n",
       "        -0.86130309, -0.49242425, -1.97326756,  1.62277007, -1.14635015,\n",
       "         1.78780496,  0.89710623,  0.95258778,  1.77983844,  0.5738464 ,\n",
       "         0.99405783,  0.33532158, -0.9443019 , -1.87281656,  0.55563074,\n",
       "         0.93019009, -0.30860111, -0.02018074,  1.08900094, -0.49569684,\n",
       "        -0.70715153, -0.19613159,  0.94703883, -0.21455523,  0.84911138]])"
      ]
     },
     "execution_count": 98,
     "metadata": {},
     "output_type": "execute_result"
    }
   ],
   "source": [
    "xtrain.reshape(2, 200)"
   ]
  },
  {
   "cell_type": "code",
   "execution_count": 99,
   "metadata": {
    "collapsed": false
   },
   "outputs": [
    {
     "data": {
      "text/plain": [
       "array([[ True, False, False, False, False, False, False, False, False,\n",
       "        False, False, False, False, False, False, False, False, False,\n",
       "        False, False, False, False, False, False, False, False, False,\n",
       "        False, False, False, False, False, False, False, False, False,\n",
       "        False, False, False, False, False, False, False, False, False,\n",
       "        False, False, False, False, False, False, False, False, False,\n",
       "        False, False, False, False, False, False, False, False, False,\n",
       "        False, False, False, False, False, False, False, False, False,\n",
       "        False, False, False, False, False, False, False, False, False,\n",
       "        False, False, False, False, False, False, False, False, False,\n",
       "        False, False, False, False, False, False, False, False, False,\n",
       "        False, False, False, False, False, False, False, False, False,\n",
       "        False, False, False, False, False, False, False, False, False,\n",
       "        False, False, False, False, False, False, False, False, False,\n",
       "        False, False, False, False, False, False, False, False, False,\n",
       "        False, False, False, False, False, False, False, False, False,\n",
       "        False, False, False, False, False, False, False, False, False,\n",
       "        False, False, False, False, False, False, False, False, False,\n",
       "        False, False, False, False, False, False, False, False, False,\n",
       "        False, False, False, False, False, False, False, False, False,\n",
       "        False, False, False, False, False, False, False, False, False,\n",
       "        False, False, False, False, False, False, False, False, False,\n",
       "        False, False],\n",
       "       [False, False, False, False, False, False, False, False, False,\n",
       "        False, False, False, False, False, False, False, False, False,\n",
       "        False, False, False, False, False, False, False, False, False,\n",
       "        False, False, False, False, False, False, False, False, False,\n",
       "        False, False, False, False, False, False, False, False, False,\n",
       "        False, False, False, False, False, False, False, False, False,\n",
       "        False, False, False, False, False, False, False, False, False,\n",
       "        False, False, False, False, False, False, False, False, False,\n",
       "        False, False, False, False, False, False, False, False, False,\n",
       "        False, False, False, False, False, False, False, False, False,\n",
       "        False, False, False, False, False, False, False, False, False,\n",
       "        False, False, False, False, False, False, False, False, False,\n",
       "        False, False, False, False, False, False, False, False, False,\n",
       "        False, False, False, False, False, False, False, False, False,\n",
       "        False, False, False, False, False, False, False, False, False,\n",
       "        False, False, False, False, False, False, False, False, False,\n",
       "        False, False, False, False, False, False, False, False, False,\n",
       "        False, False, False, False, False, False, False, False, False,\n",
       "        False, False, False, False, False, False, False, False, False,\n",
       "        False, False, False, False, False, False, False, False, False,\n",
       "        False, False, False, False, False, False, False, False, False,\n",
       "        False, False, False, False, False, False, False, False, False,\n",
       "        False,  True]], dtype=bool)"
      ]
     },
     "execution_count": 99,
     "metadata": {},
     "output_type": "execute_result"
    }
   ],
   "source": [
    "_ == train_data"
   ]
  },
  {
   "cell_type": "code",
   "execution_count": 64,
   "metadata": {
    "collapsed": false
   },
   "outputs": [
    {
     "data": {
      "text/plain": [
       "array([[ 0.3444989 , -0.19248083,  0.58272189,  0.15154953,  0.54508269,\n",
       "        -0.93533283,  0.82811987, -0.56202704,  0.8105408 ,  0.07589885,\n",
       "         1.97576046,  0.97619784, -0.7164827 , -1.96211302,  0.15520331,\n",
       "         1.63410091, -0.30608281,  0.88713688,  0.21747483,  0.68080211,\n",
       "        -0.83475   ,  0.15326889, -0.1241012 , -0.44405735, -0.04820459,\n",
       "        -1.9684155 , -0.60521138, -0.04476193,  1.93213391, -0.01405036,\n",
       "        -1.94553697, -0.65810955, -0.49877977,  0.07737976,  1.56107497,\n",
       "         1.57334054,  0.00438465,  0.1010124 ,  0.66571677,  0.4938665 ,\n",
       "        -0.29097566, -1.96829998,  0.54367399,  0.4352006 ,  0.22282305,\n",
       "        -1.53965425, -1.17541766,  0.29305387,  0.51126826, -0.74577868,\n",
       "         0.53373688,  0.00369955, -0.46878347,  1.35883081, -1.03265464,\n",
       "        -0.2243305 ,  0.19874549, -0.73090816, -0.61320204, -0.90583372,\n",
       "        -0.07349328, -0.48067352, -0.87812436, -0.04412185, -0.3164663 ,\n",
       "        -0.46897647, -0.25601196,  0.52788007,  0.15141369,  0.87849551,\n",
       "        -0.3184326 ,  0.85226828, -0.66305131,  0.38396391,  0.95191872,\n",
       "         1.68930507,  1.91060698,  1.40672338, -0.8266663 , -1.21530318,\n",
       "         0.6747613 ,  0.74467009,  0.57154393, -0.41613045,  0.32074445,\n",
       "         0.49653658,  0.16085708,  1.39707398,  0.15246513, -0.76043677,\n",
       "         1.36137128, -1.84454954,  1.9626869 ,  1.06599069,  0.35341793,\n",
       "        -1.90661538,  0.36204693,  1.92298496, -0.93936813, -0.2032309 ,\n",
       "        -0.74117857, -0.1480789 ,  0.87042493, -0.76943684, -0.84299207,\n",
       "        -1.31387341, -0.46984071, -1.47981417, -0.24727407,  1.92886329,\n",
       "        -0.93448305, -0.96095651,  1.56108916,  0.75276011,  1.73889637,\n",
       "        -1.52382731,  0.18710877,  1.54786623,  0.60775721,  0.03248724,\n",
       "        -0.08532155, -0.85870671,  0.16578171,  1.98252213,  0.80794984,\n",
       "        -1.48374033,  1.55197835, -0.4539828 ,  0.32632101, -0.68469119,\n",
       "        -1.34035087,  0.69242942, -0.04098697, -0.70577526,  0.37967631,\n",
       "        -0.10767241,  0.58247346,  0.21237014,  0.28491378,  1.98519528,\n",
       "         0.60832769, -0.50603175,  0.62430817, -0.3777703 ,  1.71960044,\n",
       "         0.82584715,  0.9928335 , -0.3148858 ,  0.6143949 , -1.88306344,\n",
       "         0.92935431,  1.09227705,  0.69192839, -0.45241484,  0.41617039,\n",
       "        -0.80880594, -1.10353208, -0.60089457,  0.70092618, -0.04313729,\n",
       "         1.94221401,  0.43651769, -0.05187451, -1.81442952, -1.06797647,\n",
       "         1.79228532,  0.92256856, -0.38562605, -0.55284399, -0.01739908,\n",
       "        -0.97871792,  0.89564145,  0.07541478, -0.95148844, -0.61756629,\n",
       "         1.75691128, -0.88804984,  1.20664823, -1.02555788,  1.34132266,\n",
       "         0.84206796, -0.38245392,  0.38784179, -0.75071585,  0.54182357,\n",
       "         0.82464868, -0.39836344,  0.61983383, -0.49242425,  1.62277007,\n",
       "         1.78780496,  0.95258778,  0.5738464 ,  0.33532158, -1.87281656,\n",
       "         0.93019009, -0.02018074, -0.49569684, -0.19613159, -0.21455523],\n",
       "       [ 1.93518138,  0.94266361, -0.88012403, -1.01164937, -1.71350205,\n",
       "        -0.27294269, -0.76474714,  0.95305431, -1.74469709, -1.96981454,\n",
       "        -0.3938213 ,  0.26419038,  0.93795389,  0.39855203, -0.89946491,\n",
       "        -1.02245188,  0.91085476, -0.70740807,  1.08322799, -0.71046269,\n",
       "         1.75248861,  0.95512909, -1.01284516,  1.04080057, -1.94678664,\n",
       "        -0.27767783, -1.81712198,  2.10167956,  0.59367466,  1.03594375,\n",
       "        -0.52071917, -1.92501128,  0.66806835, -1.95978296, -1.20292532,\n",
       "         1.22523797,  2.13485003,  0.99915284,  0.8922652 ,  0.77878368,\n",
       "        -1.21330369,  0.53009379, -0.77927572, -0.75923461,  1.91736329,\n",
       "        -1.2871896 , -1.64499259, -1.92804444,  1.96118593,  0.81505132,\n",
       "         0.95771211, -1.02715075, -1.8520329 ,  1.36922252, -1.66528928,\n",
       "        -0.95917827, -1.1741221 , -0.84619373,  0.74947488, -1.79160118,\n",
       "         0.93681562,  0.81126469, -0.50864398, -0.94850045,  0.82621026,\n",
       "        -0.91791743, -1.94725335, -0.82270885,  1.88254356,  1.74509597,\n",
       "        -2.01576471,  0.46305057,  1.85524631,  0.93038738,  1.75127447,\n",
       "        -1.0864166 ,  0.61023766,  1.64765227,  1.70251918,  1.85416543,\n",
       "        -0.68792796,  0.75080222,  0.7701968 ,  0.95372283, -0.87955713,\n",
       "         0.81809759, -2.06163073, -1.39872527, -1.19860697, -0.64449292,\n",
       "         1.6564095 , -0.86899388,  0.54917693,  1.58588123, -0.8112731 ,\n",
       "        -0.67412674,  0.92201114,  0.59542096,  0.31808439, -0.9533866 ,\n",
       "        -1.67489338,  1.93710959,  1.95274448, -0.62561649,  0.52808672,\n",
       "        -1.48073077,  2.18060279,  1.32669985,  1.97700703, -0.4817802 ,\n",
       "        -0.44319293, -0.25813228,  1.18980873,  0.56209636, -0.94362551,\n",
       "         1.50024188,  0.96623623, -1.35086334, -0.7171464 ,  1.12393761,\n",
       "        -1.00466108, -1.83256209, -1.09016228,  0.32430544, -1.7156738 ,\n",
       "         1.29151964,  1.21797931, -2.04100704, -1.02590466, -1.92498839,\n",
       "         1.40965056, -0.6262272 , -0.99463308, -0.72759342,  0.75310093,\n",
       "        -0.89560062, -0.70286959, -0.94044751, -1.7501936 ,  0.29119101,\n",
       "        -0.83375823, -0.62632108, -0.55967414, -1.88593459,  0.98247683,\n",
       "         1.71208298, -0.36788675,  2.03782868, -0.763529  , -0.57813561,\n",
       "         0.30553734,  1.71151507, -1.86641085,  2.01956964,  0.79475653,\n",
       "        -0.69701064,  1.66716421,  0.93156451, -1.85317862, -1.14376462,\n",
       "        -0.5366441 , -0.88844448, -1.05335069,  0.9602319 , -1.54076481,\n",
       "        -0.82896459,  0.39556605, -2.11694169, -0.79376018,  2.11748409,\n",
       "         1.70662534, -0.60438544, -2.24357796, -1.90272975, -0.74459213,\n",
       "         0.99863672,  1.96614194, -1.69175851,  1.67118716, -1.47566473,\n",
       "        -0.48240376, -1.84557199,  1.11643136,  0.63130093, -0.88094789,\n",
       "        -0.45344466, -0.82789022, -0.86130309, -1.97326756, -1.14635015,\n",
       "         0.89710623,  1.77983844,  0.99405783, -0.9443019 ,  0.55563074,\n",
       "        -0.30860111,  1.08900094, -0.70715153,  0.94703883,  0.84911138]], dtype=float32)"
      ]
     },
     "execution_count": 64,
     "metadata": {},
     "output_type": "execute_result"
    }
   ],
   "source": [
    "train_data"
   ]
  },
  {
   "cell_type": "code",
   "execution_count": null,
   "metadata": {
    "collapsed": true
   },
   "outputs": [],
   "source": []
  },
  {
   "cell_type": "code",
   "execution_count": null,
   "metadata": {
    "collapsed": true
   },
   "outputs": [],
   "source": []
  },
  {
   "cell_type": "code",
   "execution_count": null,
   "metadata": {
    "collapsed": true
   },
   "outputs": [],
   "source": []
  },
  {
   "cell_type": "code",
   "execution_count": 35,
   "metadata": {
    "collapsed": true
   },
   "outputs": [],
   "source": [
    "def generate_weight_and_bias(input_dim, output_dim):\n",
    "    w = tf.Variable(tf.random_uniform([output_dim, input_dim], -1, 1))\n",
    "    bias = tf.Variable(tf.zeros([output_dim, 1]))\n",
    "    return (w, bias)"
   ]
  },
  {
   "cell_type": "code",
   "execution_count": 36,
   "metadata": {
    "collapsed": true
   },
   "outputs": [],
   "source": [
    "def add_nn_layer(input_, weight, bias, activation=None):\n",
    "    # 假设 input_ 中每一列是一个样本\n",
    "    raw_output = tf.add(tf.matmul(weight, input_), bias)\n",
    "    if activation:\n",
    "        return activation(raw_output)\n",
    "    else:\n",
    "        return raw_output"
   ]
  },
  {
   "cell_type": "code",
   "execution_count": 37,
   "metadata": {
    "collapsed": true
   },
   "outputs": [],
   "source": [
    "def accuracy(preds, labels):\n",
    "    return ((preds > 0.5) == labels).sum() / float(len(labels))"
   ]
  },
  {
   "cell_type": "code",
   "execution_count": null,
   "metadata": {
    "collapsed": true
   },
   "outputs": [],
   "source": []
  },
  {
   "cell_type": "code",
   "execution_count": 38,
   "metadata": {
    "collapsed": true
   },
   "outputs": [],
   "source": [
    "hidden_neuron_num = 30\n",
    "\n",
    "tf.reset_default_graph()\n",
    "\n",
    "x_placeholder = tf.placeholder('float')\n",
    "y_placeholder = tf.placeholder('float')\n",
    "\n",
    "wt, bias = generate_weight_and_bias(2, hidden_neuron_num)\n",
    "wt_hidden, bias_hidden = generate_weight_and_bias(hidden_neuron_num,1)\n",
    "\n",
    "nn_raw_output = add_nn_layer(x_placeholder, wt, bias)\n",
    "nn_raw_output_hidden = add_nn_layer(tf.tanh(nn_raw_output), wt_hidden, bias_hidden)\n",
    "final_output = tf.sigmoid(nn_raw_output_hidden)"
   ]
  },
  {
   "cell_type": "code",
   "execution_count": 39,
   "metadata": {
    "collapsed": true
   },
   "outputs": [],
   "source": [
    "\n",
    "cost = tf.reduce_mean(\n",
    "    tf.nn.sigmoid_cross_entropy_with_logits(logits=nn_raw_output_hidden, labels=y_placeholder)\n",
    ")"
   ]
  },
  {
   "cell_type": "code",
   "execution_count": 57,
   "metadata": {
    "collapsed": false
   },
   "outputs": [
    {
     "name": "stdout",
     "output_type": "stream",
     "text": [
      "0.515\n",
      "0.89\n",
      "0.995\n",
      "1.0\n",
      "1.0\n",
      "1.0\n",
      "1.0\n",
      "1.0\n",
      "1.0\n",
      "1.0\n"
     ]
    }
   ],
   "source": [
    "train_step = tf.train.GradientDescentOptimizer(0.1).minimize(cost)\n",
    "costs = []\n",
    "with tf.Session() as sess:\n",
    "    sess.run(tf.global_variables_initializer())\n",
    "    feed_dict_train = {x_placeholder: train_data, y_placeholder: train_label}\n",
    "    for i in range(2000):\n",
    "        sess.run(train_step, feed_dict=feed_dict_train)\n",
    "        cost_value = sess.run(cost, feed_dict=feed_dict_train)\n",
    "        costs.append(cost_value)\n",
    "        if i % 200 == 0:\n",
    "            feed_dict_test = {x_placeholder: train_data, y_placeholder: train_label}\n",
    "            preds = sess.run(final_output, feed_dict=feed_dict_test)\n",
    "            print(accuracy(preds, train_label))"
   ]
  },
  {
   "cell_type": "code",
   "execution_count": 58,
   "metadata": {
    "collapsed": false
   },
   "outputs": [
    {
     "name": "stdout",
     "output_type": "stream",
     "text": [
      "0.445\n",
      "0.61\n",
      "0.59\n",
      "0.625\n",
      "0.635\n",
      "0.635\n",
      "0.645\n",
      "0.655\n",
      "0.66\n",
      "0.675\n"
     ]
    }
   ],
   "source": [
    "train_step = tf.train.GradientDescentOptimizer(0.1).minimize(cost)\n",
    "costs = []\n",
    "with tf.Session() as sess:\n",
    "    sess.run(tf.global_variables_initializer())\n",
    "    feed_dict_train = {x_placeholder: xtrain, y_placeholder: ytrain}\n",
    "    for i in range(2000):\n",
    "        sess.run(train_step, feed_dict=feed_dict_train)\n",
    "        cost_value = sess.run(cost, feed_dict=feed_dict_train)\n",
    "        costs.append(cost_value)\n",
    "        if i % 200 == 0:\n",
    "            feed_dict_test = {x_placeholder: xtrain, y_placeholder: ytrain}\n",
    "            preds = sess.run(final_output, feed_dict=feed_dict_test)\n",
    "            print(accuracy(preds, ytrain))"
   ]
  },
  {
   "cell_type": "code",
   "execution_count": 17,
   "metadata": {
    "collapsed": false
   },
   "outputs": [
    {
     "data": {
      "image/png": "[encoded data removed]",
      "text/plain": [
       "<matplotlib.figure.Figure at 0x7fd6743b4890>"
      ]
     },
     "metadata": {},
     "output_type": "display_data"
    }
   ],
   "source": [
    "plt.plot(costs);"
   ]
  },
  {
   "cell_type": "code",
   "execution_count": null,
   "metadata": {
    "collapsed": true
   },
   "outputs": [],
   "source": []
  }
 ],
 "metadata": {
  "kernelspec": {
   "display_name": "Python 2",
   "language": "python",
   "name": "python2"
  },
  "language_info": {
   "codemirror_mode": {
    "name": "ipython",
    "version": 2
   },
   "file_extension": ".py",
   "mimetype": "text/x-python",
   "name": "python",
   "nbconvert_exporter": "python",
   "pygments_lexer": "ipython2",
   "version": "2.7.6"
  }
 },
 "nbformat": 4,
 "nbformat_minor": 1
}
