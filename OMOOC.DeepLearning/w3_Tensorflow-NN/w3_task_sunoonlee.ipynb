{
 "cells": [
  {
   "cell_type": "code",
   "execution_count": 1,
   "metadata": {
    "collapsed": true
   },
   "outputs": [],
   "source": [
    "%matplotlib inline\n",
    "import tensorflow as tf\n",
    "from tensorflow.contrib import learn\n",
    "import numpy as np\n",
    "from matplotlib import pyplot as plt\n",
    "tf.logging.set_verbosity(tf.logging.ERROR)  # 只输出 Error 信息"
   ]
  },
  {
   "cell_type": "code",
   "execution_count": 2,
   "metadata": {
    "collapsed": true
   },
   "outputs": [],
   "source": [
    "DATAFILE = './data.csv'\n",
    "dataset = tf.contrib.learn.datasets.base.load_csv_without_header(\n",
    "    filename=DATAFILE,\n",
    "    target_dtype=np.int,\n",
    "    features_dtype=np.float32)\n",
    "\n",
    "features = [tf.contrib.layers.real_valued_column(\"\", dimension=2)]"
   ]
  },
  {
   "cell_type": "code",
   "execution_count": 27,
   "metadata": {
    "collapsed": true
   },
   "outputs": [],
   "source": [
    "# 定义模型和损失函数\n",
    "tf.reset_default_graph()\n",
    "x = tf.placeholder(tf.float32, [None, 2])\n",
    "y = tf.placeholder(tf.float32, [None, 1])\n",
    "W = tf.Variable(tf.zeros([2, 1]), name='W', dtype=tf.float32)\n",
    "b = tf.Variable([0.], name='b', dtype=tf.float32)\n",
    "logi1 = tf.sigmoid(tf.matmul(x, W) + b)\n",
    "loss_logi1 = tf.losses.sigmoid_cross_entropy(y, logi1)"
   ]
  },
  {
   "cell_type": "code",
   "execution_count": 28,
   "metadata": {
    "collapsed": false
   },
   "outputs": [
    {
     "data": {
      "image/png": "[encoded data removed]",
      "text/plain": [
       "<matplotlib.figure.Figure at 0x7f17e893f090>"
      ]
     },
     "metadata": {},
     "output_type": "display_data"
    }
   ],
   "source": [
    "# 训练\n",
    "sess = tf.Session()\n",
    "sess.run(tf.global_variables_initializer())\n",
    "train = tf.train.GradientDescentOptimizer(0.1).minimize(loss_logi1)\n",
    "size = dataset.target.shape[0]\n",
    "labels = dataset.target.reshape(size, 1)\n",
    "feed = {x: dataset.data, y: labels}\n",
    "\n",
    "losses_logi1 = []\n",
    "for i in range(5000):\n",
    "    sess.run(train, feed)\n",
    "    losses_logi1.append(sess.run(loss_logi1, feed))\n",
    "\n",
    "plt.plot(losses_logi1);"
   ]
  },
  {
   "cell_type": "code",
   "execution_count": 29,
   "metadata": {
    "collapsed": false
   },
   "outputs": [
    {
     "data": {
      "text/plain": [
       "0.5"
      ]
     },
     "execution_count": 29,
     "metadata": {},
     "output_type": "execute_result"
    }
   ],
   "source": [
    "def accuracy(preds, labels):\n",
    "    return ((preds > 0.5) == labels).sum() / float(len(labels))\n",
    "\n",
    "# logi1 在训练集上的准确率\n",
    "preds = sess.run(logi1, feed)\n",
    "accuracy(preds, labels)"
   ]
  },
  {
   "cell_type": "code",
   "execution_count": 18,
   "metadata": {
    "collapsed": true
   },
   "outputs": [],
   "source": [
    "data = []\n",
    "with open('./data.csv', 'r') as f:\n",
    "    for line in f.readlines():\n",
    "        data.append(line.strip().split(','))"
   ]
  },
  {
   "cell_type": "code",
   "execution_count": 19,
   "metadata": {
    "collapsed": true
   },
   "outputs": [],
   "source": [
    "X_train = []\n",
    "y_train = []\n",
    "for i in range(len(data)):\n",
    "    X_train.append((float(data[i][0]), float(data[i][1])))\n",
    "    y_train.append(int(data[i][2]))"
   ]
  },
  {
   "cell_type": "code",
   "execution_count": 20,
   "metadata": {
    "collapsed": true
   },
   "outputs": [],
   "source": [
    "xtrain = np.array(X_train).reshape(2, 200)\n",
    "ytrain = np.array(y_train).reshape(1, 200)"
   ]
  },
  {
   "cell_type": "code",
   "execution_count": 30,
   "metadata": {
    "collapsed": true
   },
   "outputs": [],
   "source": [
    "# 定义模型和损失函数 \n",
    "# x、y 定义同 1.1 节\n",
    "num_units = 4  # 隐层节点数\n",
    "\n",
    "# 输入层 -> 隐层 参数\n",
    "W1 = tf.Variable(tf.random_uniform([2, num_units]), name='W1', dtype=tf.float32)\n",
    "b1 = tf.Variable(tf.random_uniform([num_units]), name='b1', dtype=tf.float32)\n",
    "\n",
    "# 隐层 -> 输出层 参数\n",
    "W2 = tf.Variable(tf.random_uniform([num_units, 1]), name='W1', dtype=tf.float32)\n",
    "b2 = tf.Variable(tf.random_uniform([1]), name='b2', dtype=tf.float32)\n",
    "\n",
    "hidden = tf.tanh(tf.matmul(x, W1) + b1)\n",
    "nn = tf.sigmoid(tf.matmul(hidden, W2) + b2)\n",
    "loss_nn = tf.losses.sigmoid_cross_entropy(y, nn)"
   ]
  },
  {
   "cell_type": "code",
   "execution_count": 24,
   "metadata": {
    "collapsed": true
   },
   "outputs": [],
   "source": [
    "x_placeholder = tf.placeholder('float')\n",
    "y_placeholder = tf.placeholder('float')"
   ]
  },
  {
   "cell_type": "code",
   "execution_count": 35,
   "metadata": {
    "collapsed": false
   },
   "outputs": [
    {
     "name": "stdout",
     "output_type": "stream",
     "text": [
      "0.645\n",
      "0.5\n",
      "0.56\n",
      "0.89\n",
      "1.0\n",
      "1.0\n",
      "1.0\n",
      "1.0\n",
      "1.0\n",
      "1.0\n",
      "1.0\n",
      "1.0\n",
      "1.0\n",
      "1.0\n",
      "1.0\n",
      "1.0\n",
      "1.0\n",
      "1.0\n",
      "1.0\n",
      "1.0\n"
     ]
    },
    {
     "data": {
      "image/png": "[encoded data removed]",
      "text/plain": [
       "<matplotlib.figure.Figure at 0x7f18003c77d0>"
      ]
     },
     "metadata": {},
     "output_type": "display_data"
    }
   ],
   "source": [
    "# 训练\n",
    "sess = tf.Session()\n",
    "sess.run(tf.global_variables_initializer())\n",
    "train = tf.train.GradientDescentOptimizer(0.3).minimize(loss_nn)\n",
    "losses_nn = []\n",
    "for i in range(10000):\n",
    "    #feed_dict = {x_placeholder:xtrain.astype(float), y_placeholder:ytrain.astype(float)}\n",
    "    sess.run(train, feed)\n",
    "    losses_nn.append(sess.run(loss_nn, feed))\n",
    "    if i % 500 == 0:\n",
    "        preds = sess.run(nn, feed)\n",
    "        print(accuracy(preds, labels))\n",
    "\n",
    "plt.plot(losses_nn);"
   ]
  },
  {
   "cell_type": "code",
   "execution_count": 33,
   "metadata": {
    "collapsed": false
   },
   "outputs": [
    {
     "data": {
      "text/plain": [
       "0.995"
      ]
     },
     "execution_count": 33,
     "metadata": {},
     "output_type": "execute_result"
    }
   ],
   "source": [
    "# nn 在训练集上的准确率\n",
    "preds = sess.run(nn, feed)\n",
    "accuracy(preds, labels)"
   ]
  },
  {
   "cell_type": "code",
   "execution_count": null,
   "metadata": {
    "collapsed": true
   },
   "outputs": [],
   "source": []
  }
 ],
 "metadata": {
  "kernelspec": {
   "display_name": "Python 2",
   "language": "python",
   "name": "python2"
  },
  "language_info": {
   "codemirror_mode": {
    "name": "ipython",
    "version": 2
   },
   "file_extension": ".py",
   "mimetype": "text/x-python",
   "name": "python",
   "nbconvert_exporter": "python",
   "pygments_lexer": "ipython2",
   "version": "2.7.12"
  },
  "latex_envs": {
   "LaTeX_envs_menu_present": true,
   "bibliofile": "biblio.bib",
   "cite_by": "apalike",
   "current_citInitial": 1,
   "eqLabelWithNumbers": true,
   "eqNumInitial": 1,
   "hotkeys": {
    "equation": "Ctrl-E",
    "itemize": "Ctrl-I"
   },
   "labels_anchors": false,
   "latex_user_defs": false,
   "report_style_numbering": false,
   "user_envs_cfg": false
  },
  "toc": {
   "colors": {
    "hover_highlight": "#DAA520",
    "running_highlight": "#FF0000",
    "selected_highlight": "#FFD700"
   },
   "moveMenuLeft": true,
   "nav_menu": {
    "height": "11.818182px",
    "width": "1.818182px"
   },
   "navigate_menu": true,
   "number_sections": true,
   "sideBar": true,
   "threshold": 4,
   "toc_cell": false,
   "toc_section_display": "block",
   "toc_window_display": false
  }
 },
 "nbformat": 4,
 "nbformat_minor": 1
}
