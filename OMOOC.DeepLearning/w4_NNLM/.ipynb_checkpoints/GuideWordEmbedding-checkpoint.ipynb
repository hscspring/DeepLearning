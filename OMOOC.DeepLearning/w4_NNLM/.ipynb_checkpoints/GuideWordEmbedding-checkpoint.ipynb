{
 "cells": [
  {
   "cell_type": "markdown",
   "metadata": {
    "toc": "true"
   },
   "source": [
    "# Table of Contents\n",
    " <p><div class=\"lev1 toc-item\"><a href=\"#N-gram\" data-toc-modified-id=\"N-gram-1\"><span class=\"toc-item-num\">1&nbsp;&nbsp;</span>N-gram</a></div><div class=\"lev1 toc-item\"><a href=\"#独热-One-hot\" data-toc-modified-id=\"独热-One-hot-2\"><span class=\"toc-item-num\">2&nbsp;&nbsp;</span>独热 One-hot</a></div><div class=\"lev1 toc-item\"><a href=\"#分布式-Distributed-Representation\" data-toc-modified-id=\"分布式-Distributed-Representation-3\"><span class=\"toc-item-num\">3&nbsp;&nbsp;</span>分布式 Distributed Representation</a></div><div class=\"lev2 toc-item\"><a href=\"#向量空间模型-VSMs\" data-toc-modified-id=\"向量空间模型-VSMs-31\"><span class=\"toc-item-num\">3.1&nbsp;&nbsp;</span>向量空间模型 VSMs</a></div><div class=\"lev3 toc-item\"><a href=\"#计数模型--Latent-Semantic-Analysis\" data-toc-modified-id=\"计数模型--Latent-Semantic-Analysis-311\"><span class=\"toc-item-num\">3.1.1&nbsp;&nbsp;</span>计数模型  Latent Semantic Analysis</a></div><div class=\"lev3 toc-item\"><a href=\"#预测模型-Neural-Probabilistic-Language-Models\" data-toc-modified-id=\"预测模型-Neural-Probabilistic-Language-Models-312\"><span class=\"toc-item-num\">3.1.2&nbsp;&nbsp;</span>预测模型 Neural Probabilistic Language Models</a></div><div class=\"lev2 toc-item\"><a href=\"#WordEmbedding\" data-toc-modified-id=\"WordEmbedding-32\"><span class=\"toc-item-num\">3.2&nbsp;&nbsp;</span>WordEmbedding</a></div><div class=\"lev2 toc-item\"><a href=\"#Word2Vec\" data-toc-modified-id=\"Word2Vec-33\"><span class=\"toc-item-num\">3.3&nbsp;&nbsp;</span>Word2Vec</a></div><div class=\"lev3 toc-item\"><a href=\"#CBOW\" data-toc-modified-id=\"CBOW-331\"><span class=\"toc-item-num\">3.3.1&nbsp;&nbsp;</span>CBOW</a></div><div class=\"lev3 toc-item\"><a href=\"#Skip-Gram\" data-toc-modified-id=\"Skip-Gram-332\"><span class=\"toc-item-num\">3.3.2&nbsp;&nbsp;</span>Skip-Gram</a></div><div class=\"lev1 toc-item\"><a href=\"#参考文章\" data-toc-modified-id=\"参考文章-4\"><span class=\"toc-item-num\">4&nbsp;&nbsp;</span>参考文章</a></div>"
   ]
  },
  {
   "cell_type": "markdown",
   "metadata": {},
   "source": [
    "# 语言模型\n",
    "\n",
    "首先，我们知道 N-gram 的有一些局限性\n",
    "\n",
    "\n",
    "\n",
    "# 独热 One-hot\n",
    "\n",
    "\n",
    "# 分布式 Distributed Representation  \n",
    "\n",
    "\n",
    "## 向量空间模型 VSMs\n",
    "\n",
    "### 计数模型  Latent Semantic Analysis\n",
    "\n",
    "### 预测模型 Neural Probabilistic Language Models\n",
    "\n",
    "\n",
    "## WordEmbedding\n",
    "\n",
    "\n",
    "## Word2Vec\n",
    "\n",
    "### CBOW\n",
    "\n",
    "### Skip-Gram"
   ]
  },
  {
   "cell_type": "markdown",
   "metadata": {},
   "source": [
    "# 参考文章  \n",
    "\n"
   ]
  }
 ],
 "metadata": {
  "anaconda-cloud": {},
  "kernelspec": {
   "display_name": "Python 2",
   "language": "python",
   "name": "python2"
  },
  "language_info": {
   "codemirror_mode": {
    "name": "ipython",
    "version": 2
   },
   "file_extension": ".py",
   "mimetype": "text/x-python",
   "name": "python",
   "nbconvert_exporter": "python",
   "pygments_lexer": "ipython2",
   "version": "2.7.6"
  },
  "latex_envs": {
   "LaTeX_envs_menu_present": true,
   "bibliofile": "biblio.bib",
   "cite_by": "apalike",
   "current_citInitial": 1,
   "eqLabelWithNumbers": true,
   "eqNumInitial": 1,
   "hotkeys": {
    "equation": "Ctrl-E",
    "itemize": "Ctrl-I"
   },
   "labels_anchors": false,
   "latex_user_defs": false,
   "report_style_numbering": false,
   "user_envs_cfg": false
  },
  "toc": {
   "colors": {
    "hover_highlight": "#DAA520",
    "running_highlight": "#FF0000",
    "selected_highlight": "#FFD700"
   },
   "moveMenuLeft": true,
   "nav_menu": {
    "height": "11.818182px",
    "width": "1.818182px"
   },
   "navigate_menu": true,
   "number_sections": true,
   "sideBar": true,
   "threshold": 4,
   "toc_cell": true,
   "toc_section_display": "block",
   "toc_window_display": true
  }
 },
 "nbformat": 4,
 "nbformat_minor": 1
}
