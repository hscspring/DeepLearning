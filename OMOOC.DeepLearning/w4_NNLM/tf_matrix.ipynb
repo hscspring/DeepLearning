{
 "cells": [
  {
   "cell_type": "code",
   "execution_count": 4,
   "metadata": {
    "collapsed": true
   },
   "outputs": [],
   "source": [
    "import tensorflow as tf\n",
    "import numpy as np"
   ]
  },
  {
   "cell_type": "code",
   "execution_count": 1,
   "metadata": {
    "collapsed": true
   },
   "outputs": [],
   "source": [
    "def add_nn_layer(input_, weight, bias, activation=None):\n",
    "    # 假设 input_ 中每一列是一个样本\n",
    "    raw_output = tf.add(tf.matmul(weight, input_), bias)\n",
    "    if activation:\n",
    "        return activation(raw_output)\n",
    "    else:\n",
    "        return raw_output"
   ]
  },
  {
   "cell_type": "code",
   "execution_count": 2,
   "metadata": {
    "collapsed": true
   },
   "outputs": [],
   "source": [
    "def generate_weight_and_bias(input_dim, output_dim):\n",
    "    w = tf.Variable(tf.random_uniform([output_dim, input_dim], -1, 1))\n",
    "    bias = tf.Variable(tf.zeros([output_dim, 1]))\n",
    "    return (w, bias)"
   ]
  },
  {
   "cell_type": "code",
   "execution_count": 5,
   "metadata": {
    "collapsed": false
   },
   "outputs": [],
   "source": [
    "\n",
    "X = np.concatenate((np.random.rand(2, 50), np.random.rand(2, 50) + 1), axis=1)\n",
    "# 注意这里要转换成 float32，否则默认可能是精度更高的 float64，和后面 W, b 的类型对应，Tensorflow 的矩阵乘法不会自己做类型转化。\n",
    "# 也可以在矩阵乘法中使用 tf.cast(x, tf.float32) 来转换类型\n",
    "X = X.astype(np.float32)\n",
    "y = np.asarray([0] * 50 + [1] * 50)"
   ]
  },
  {
   "cell_type": "code",
   "execution_count": 6,
   "metadata": {
    "collapsed": true
   },
   "outputs": [],
   "source": [
    "W, b = generate_weight_and_bias(2, 1)\n",
    "# X, y 这里是用 numpy array 的方式， Tensorflow 会将他们变成 Constant tensor 放入 graph 当中\n",
    "# **请尝试将 X, y 改成 tensorflow 的 placeholder 形式**\n",
    "\n",
    "nn_raw_output = add_nn_layer(X, W, b)\n",
    "final_output = tf.sigmoid(nn_raw_output)"
   ]
  },
  {
   "cell_type": "code",
   "execution_count": 7,
   "metadata": {
    "collapsed": true
   },
   "outputs": [],
   "source": [
    "\n",
    "cost = tf.reduce_mean(\n",
    "    tf.nn.sigmoid_cross_entropy_with_logits(logits=nn_raw_output, labels=y.reshape(1, 100).astype(np.float32))\n",
    ")"
   ]
  },
  {
   "cell_type": "code",
   "execution_count": 8,
   "metadata": {
    "collapsed": true
   },
   "outputs": [],
   "source": [
    "\n",
    "def accuracy(preds, labels):\n",
    "    return ((preds > 0.5) == labels).sum() / float(len(labels))"
   ]
  },
  {
   "cell_type": "code",
   "execution_count": 11,
   "metadata": {
    "collapsed": false
   },
   "outputs": [
    {
     "data": {
      "text/plain": [
       "(1, 100)"
      ]
     },
     "execution_count": 11,
     "metadata": {},
     "output_type": "execute_result"
    }
   ],
   "source": [
    "preds.shape"
   ]
  },
  {
   "cell_type": "code",
   "execution_count": 9,
   "metadata": {
    "collapsed": false
   },
   "outputs": [
    {
     "name": "stdout",
     "output_type": "stream",
     "text": [
      "0.44\n",
      "0.68\n",
      "0.85\n",
      "0.95\n",
      "0.97\n",
      "0.99\n",
      "1.0\n",
      "1.0\n",
      "1.0\n",
      "1.0\n",
      "1.0\n",
      "1.0\n",
      "1.0\n",
      "1.0\n",
      "1.0\n",
      "1.0\n",
      "1.0\n",
      "1.0\n",
      "1.0\n",
      "1.0\n"
     ]
    }
   ],
   "source": [
    "\n",
    "train_step = tf.train.GradientDescentOptimizer(0.1).minimize(cost)\n",
    "with tf.Session() as sess:\n",
    "    sess.run(tf.global_variables_initializer())\n",
    "    for i in range(1000):\n",
    "        sess.run(train_step)\n",
    "        if i % 50== 0:\n",
    "            preds = sess.run(final_output)\n",
    "            print(accuracy(preds, y))"
   ]
  },
  {
   "cell_type": "code",
   "execution_count": null,
   "metadata": {
    "collapsed": true
   },
   "outputs": [],
   "source": []
  }
 ],
 "metadata": {
  "kernelspec": {
   "display_name": "Python 2",
   "language": "python",
   "name": "python2"
  },
  "language_info": {
   "codemirror_mode": {
    "name": "ipython",
    "version": 2
   },
   "file_extension": ".py",
   "mimetype": "text/x-python",
   "name": "python",
   "nbconvert_exporter": "python",
   "pygments_lexer": "ipython2",
   "version": "2.7.6"
  }
 },
 "nbformat": 4,
 "nbformat_minor": 1
}
