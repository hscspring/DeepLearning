{
 "cells": [
  {
   "cell_type": "markdown",
   "metadata": {},
   "source": [
    "# 作业1\n",
    "\n",
    "基于矩阵乘法，用 Tensorflow 实现 Lecture 3 最后作业的单隐层神经网络"
   ]
  },
  {
   "cell_type": "markdown",
   "metadata": {},
   "source": [
    "详见作业2"
   ]
  },
  {
   "cell_type": "markdown",
   "metadata": {},
   "source": [
    "# 作业2\n",
    "\n",
    "- 基础代码 tf_matrix.ipynb，将列向量表示形式，改成行向量表示形式\n",
    "- 进一步，使用 `tf.layers.dense` 替换原有的矩阵乘法"
   ]
  },
  {
   "cell_type": "markdown",
   "metadata": {},
   "source": [
    "## 修改示例"
   ]
  },
  {
   "cell_type": "code",
   "execution_count": 1,
   "metadata": {
    "collapsed": false
   },
   "outputs": [
    {
     "name": "stdout",
     "output_type": "stream",
     "text": [
      "2017-03-27T13:32:01\n",
      "\n",
      "CPython 2.7.6\n",
      "IPython 5.1.0\n",
      "\n",
      "compiler   : GCC 4.8.4\n",
      "system     : Linux\n",
      "release    : 4.4.0-21-generic\n",
      "machine    : x86_64\n",
      "processor  : x86_64\n",
      "CPU cores  : 4\n",
      "interpreter: 64bit\n"
     ]
    }
   ],
   "source": [
    "%load_ext watermark\n",
    "%watermark"
   ]
  },
  {
   "cell_type": "code",
   "execution_count": 2,
   "metadata": {
    "collapsed": true
   },
   "outputs": [],
   "source": [
    "import tensorflow as tf\n",
    "import numpy as np"
   ]
  },
  {
   "cell_type": "code",
   "execution_count": 27,
   "metadata": {
    "collapsed": true
   },
   "outputs": [],
   "source": [
    "def add_nn_layer(input_, weight, bias, activation=None):\n",
    "    # 假设 input_ 中每一列是一个样本\n",
    "    raw_output = tf.add(tf.matmul(input_, weight), bias)\n",
    "    if activation:\n",
    "        return activation(raw_output)\n",
    "    else:\n",
    "        return raw_output"
   ]
  },
  {
   "cell_type": "code",
   "execution_count": 37,
   "metadata": {
    "collapsed": true
   },
   "outputs": [],
   "source": [
    "def generate_weight_and_bias(input_dim, output_dim):\n",
    "    w = tf.Variable(tf.random_uniform([input_dim, output_dim], -1, 1))\n",
    "    bias = tf.Variable(tf.zeros([output_dim, 1]))\n",
    "    return (w, bias)"
   ]
  },
  {
   "cell_type": "code",
   "execution_count": 21,
   "metadata": {
    "collapsed": false
   },
   "outputs": [],
   "source": [
    "X = np.concatenate((np.random.rand(50, 2), np.random.rand(50, 2) + 1), axis=0)\n",
    "# 注意这里要转换成 float32，否则默认可能是精度更高的 float64，和后面 W, b 的类型对应，Tensorflow 的矩阵乘法不会自己做类型转化。\n",
    "# 也可以在矩阵乘法中使用 tf.cast(x, tf.float32) 来转换类型\n",
    "X = X.astype(np.float32)\n",
    "y = np.asarray([0] * 50 + [1] * 50)"
   ]
  },
  {
   "cell_type": "code",
   "execution_count": 38,
   "metadata": {
    "collapsed": false
   },
   "outputs": [],
   "source": [
    "W, b = generate_weight_and_bias(2, 1)\n",
    "nn_output = add_nn_layer(X, W, b, tf.sigmoid)"
   ]
  },
  {
   "cell_type": "code",
   "execution_count": 39,
   "metadata": {
    "collapsed": true
   },
   "outputs": [],
   "source": [
    "with tf.Session() as sess:\n",
    "    sess.run(tf.global_variables_initializer())\n",
    "    res = sess.run(nn_output)"
   ]
  },
  {
   "cell_type": "code",
   "execution_count": 40,
   "metadata": {
    "collapsed": false
   },
   "outputs": [
    {
     "data": {
      "text/plain": [
       "(100, 1)"
      ]
     },
     "execution_count": 40,
     "metadata": {},
     "output_type": "execute_result"
    }
   ],
   "source": [
    "res.shape"
   ]
  },
  {
   "cell_type": "markdown",
   "metadata": {},
   "source": [
    "###  Tensorflow 中的 sigmoid + cross entropy\n",
    "如果看过作业中 \"Neural Network and Deep Learning\" Simgoid + cross entropy 相关章节的话，应该能理解，sigmoid + cross entropy 在求导数的时候，可以把分母进行约简，少做一些计算。\n",
    "Tensorflow 利用了这一特性进行计算约简，因此其有一个专门的 cost 层，叫 tf.nn.sigmoid_cross_entropy_with_logits\n",
    "所谓的 logit，其实是 sigmoid 的反函数，也就是说这个 cost 函数，需要的输入是 sigmoid 变换之后的结果，再取其反函数 logit。\n",
    "这么这个结果，其实就是我们神经网络输出节点的原始结果，即在 sigmoid 变换之前的结果。\n",
    "为了配合这个 cost 层进行计算约简，我们需要先准备一个 sigmoid 激活之前的结果，在训练时使用激活之前的结果即可，在『预测』时才使用 sigmoid 激活之后的结果"
   ]
  },
  {
   "cell_type": "code",
   "execution_count": 70,
   "metadata": {
    "collapsed": true
   },
   "outputs": [],
   "source": [
    "tf.reset_default_graph()"
   ]
  },
  {
   "cell_type": "code",
   "execution_count": 71,
   "metadata": {
    "collapsed": true
   },
   "outputs": [],
   "source": [
    "W, b = generate_weight_and_bias(2, 1)\n",
    "# X, y 这里是用 numpy array 的方式， Tensorflow 会将他们变成 Constant tensor 放入 graph 当中\n",
    "# **请尝试将 X, y 改成 tensorflow 的 placeholder 形式**\n",
    "\n",
    "nn_raw_output = add_nn_layer(X, W, b)\n",
    "final_output = tf.sigmoid(nn_raw_output)"
   ]
  },
  {
   "cell_type": "code",
   "execution_count": 77,
   "metadata": {
    "collapsed": false
   },
   "outputs": [],
   "source": [
    "cost = tf.reduce_mean(\n",
    "    tf.nn.sigmoid_cross_entropy_with_logits(logits=nn_raw_output, labels=y.reshape(100,1).astype(np.float32))\n",
    ")"
   ]
  },
  {
   "cell_type": "code",
   "execution_count": 84,
   "metadata": {
    "collapsed": false
   },
   "outputs": [],
   "source": [
    "def accuracy(preds, labels):\n",
    "    return ((preds > 0.5) == labels).sum() / float(len(labels))"
   ]
  },
  {
   "cell_type": "code",
   "execution_count": 91,
   "metadata": {
    "collapsed": false
   },
   "outputs": [
    {
     "name": "stdout",
     "output_type": "stream",
     "text": [
      "0.59\n",
      "0.74\n",
      "0.89\n",
      "0.96\n",
      "0.98\n",
      "0.98\n",
      "0.99\n",
      "0.99\n",
      "0.99\n",
      "0.99\n",
      "0.99\n",
      "0.99\n",
      "1.0\n",
      "1.0\n",
      "1.0\n",
      "1.0\n",
      "1.0\n",
      "1.0\n",
      "1.0\n",
      "1.0\n"
     ]
    }
   ],
   "source": [
    "train_step = tf.train.GradientDescentOptimizer(0.1).minimize(cost)\n",
    "with tf.Session() as sess:\n",
    "    sess.run(tf.global_variables_initializer())\n",
    "    for i in range(1000):\n",
    "        sess.run(train_step)\n",
    "        if i % 50== 0:\n",
    "            preds = sess.run(final_output)\n",
    "            print(accuracy(preds, y.reshape(100,1)))"
   ]
  },
  {
   "cell_type": "markdown",
   "metadata": {},
   "source": [
    "## 修改 ch3 作业（按列）"
   ]
  },
  {
   "cell_type": "code",
   "execution_count": 92,
   "metadata": {
    "collapsed": true
   },
   "outputs": [],
   "source": [
    "data = []\n",
    "with open('../w3_Tensorflow-NN/data.csv', 'r') as f:\n",
    "    for line in f.readlines():\n",
    "        data.append(line.strip().split(','))\n",
    "        \n",
    "        \n",
    "X_train = []\n",
    "y_train = []\n",
    "for i in range(len(data)):\n",
    "    X_train.append((float(data[i][0]), float(data[i][1])))\n",
    "    y_train.append(int(data[i][2]))\n",
    "\n",
    "xtrain = np.array(X_train, dtype=np.float32)\n",
    "ytrain = np.array(y_train, dtype=np.int32)"
   ]
  },
  {
   "cell_type": "code",
   "execution_count": 120,
   "metadata": {
    "collapsed": false
   },
   "outputs": [
    {
     "name": "stdout",
     "output_type": "stream",
     "text": [
      "0.65\n",
      "0.87\n",
      "0.96\n",
      "1.0\n",
      "1.0\n",
      "Automatically created module for IPython interactive environment\n"
     ]
    },
    {
     "data": {
      "image/png": "[encoded data removed]",
      "text/plain": [
       "<matplotlib.figure.Figure at 0x7f90600ec410>"
      ]
     },
     "metadata": {},
     "output_type": "display_data"
    }
   ],
   "source": [
    "x_placeholder = tf.placeholder('float')\n",
    "y_placeholder = tf.placeholder('float')\n",
    "\n",
    "n = 30\n",
    "\n",
    "W1 = tf.Variable(tf.random_uniform([2, n]), dtype=tf.float32)\n",
    "b1 = tf.Variable(tf.random_uniform([1, n]), dtype=tf.float32)\n",
    "\n",
    "W2 = tf.Variable(tf.random_uniform([n, 1]), dtype=tf.float32)\n",
    "b2 = tf.Variable(tf.random_uniform([1, 1]), dtype=tf.float32)\n",
    "\n",
    "hidden = tf.add(tf.matmul(x_placeholder, W1), b1)\n",
    "nn_raw_output = tf.add(tf.matmul(tf.tanh(hidden), W2), b2)\n",
    "final_output = tf.sigmoid(nn_raw_output)\n",
    "\n",
    "cost = tf.reduce_mean(tf.nn.sigmoid_cross_entropy_with_logits(logits=nn_raw_output, labels=y_placeholder))\n",
    "\n",
    "\n",
    "train_step = tf.train.GradientDescentOptimizer(0.1).minimize(cost)\n",
    "costs = []\n",
    "with tf.Session() as sess:\n",
    "    sess.run(tf.global_variables_initializer())\n",
    "    for i in range(1000):\n",
    "        # type 可以不指定形式，数据初始读入的时候已经指定\n",
    "        feed_dict = {x_placeholder:xtrain.astype(float), y_placeholder:ytrain.reshape(200,1).astype(float)}\n",
    "        sess.run(train_step, feed_dict=feed_dict)\n",
    "        cost_value = sess.run(cost, feed_dict=feed_dict)\n",
    "        costs.append(cost_value)\n",
    "        if i % 200 == 0:\n",
    "            preds = sess.run(final_output, feed_dict=feed_dict)\n",
    "            print(accuracy(preds, ytrain.reshape(len(ytrain),1)))\n",
    "    W1L1, b1L1 = (sess.run([W1, b1]))\n",
    "    W1L2, b1L2 = (sess.run([W2, b2]))\n",
    "\n",
    "\n",
    "print(__doc__)\n",
    "\n",
    "from itertools import product\n",
    "\n",
    "import numpy as np\n",
    "import matplotlib.pyplot as plt\n",
    "\n",
    "from sklearn import datasets\n",
    "from sklearn.tree import DecisionTreeClassifier\n",
    "from sklearn.neighbors import KNeighborsClassifier\n",
    "from sklearn.svm import SVC\n",
    "from sklearn.ensemble import VotingClassifier\n",
    "\n",
    "# Loading some example data\n",
    "#iris = datasets.load_iris()\n",
    "#X = iris.data[:, [0, 2]]\n",
    "#y = iris.target\n",
    "# X.shape = 150, 2\n",
    "X = xtrain\n",
    "# y.shape = 150,\n",
    "y = ytrain\n",
    "\n",
    "# Training classifiers\n",
    "#clf1 = DecisionTreeClassifier(max_depth=4)\n",
    "#clf1.fit(X, y)\n",
    "\n",
    "def sigmoid(x):\n",
    "    return 1/(1+np.e ** (-x))\n",
    "\n",
    "# Plotting decision regions\n",
    "x_min, x_max = X[:, 0].min() - 1, X[:, 0].max() + 1\n",
    "y_min, y_max = X[:, 1].min() - 1, X[:, 1].max() + 1\n",
    "xx, yy = np.meshgrid(np.arange(x_min, x_max, 0.1),\n",
    "                     np.arange(y_min, y_max, 0.1))\n",
    "\n",
    "f, axarr = plt.subplots(1, 1, sharex='col', sharey='row', figsize=(5,4))\n",
    "\n",
    "\n",
    "temp = np.c_[xx.ravel(), yy.ravel()]\n",
    "M1L = np.tanh(temp.dot(W1L1) + b1L1)\n",
    "M2L = sigmoid(M1L.dot(W1L2) + b1L2)\n",
    "\n",
    "\n",
    "Z = M2L.reshape(xx.shape)\n",
    "\n",
    "axarr.contourf(xx, yy, Z, alpha=0.4)\n",
    "axarr.scatter(X[:, 0], X[:, 1], c=y, alpha=0.8)\n",
    "axarr.set_title(\"1 Layer\")\n",
    "\n",
    "plt.show()"
   ]
  },
  {
   "cell_type": "markdown",
   "metadata": {},
   "source": [
    "## 修改 ch3 作业（按函数和矩阵）"
   ]
  },
  {
   "cell_type": "code",
   "execution_count": 144,
   "metadata": {
    "collapsed": true
   },
   "outputs": [],
   "source": [
    "data = []\n",
    "with open('../w3_Tensorflow-NN/data.csv', 'r') as f:\n",
    "    for line in f.readlines():\n",
    "        data.append(line.strip().split(','))\n",
    "        \n",
    "        \n",
    "X_train = []\n",
    "y_train = []\n",
    "for i in range(len(data)):\n",
    "    X_train.append((float(data[i][0]), float(data[i][1])))\n",
    "    y_train.append(int(data[i][2]))\n",
    "\n",
    "xtrain = np.array(X_train, dtype=np.float32)\n",
    "ytrain = np.array(y_train, dtype=np.int32)"
   ]
  },
  {
   "cell_type": "code",
   "execution_count": 145,
   "metadata": {
    "collapsed": true
   },
   "outputs": [],
   "source": [
    "def generate_weight_and_bias(input_dim, output_dim):\n",
    "    w = tf.Variable(tf.random_uniform([input_dim, output_dim], -1, 1))\n",
    "    bias = tf.Variable(tf.zeros([1, output_dim]))\n",
    "    return (w, bias)"
   ]
  },
  {
   "cell_type": "code",
   "execution_count": 146,
   "metadata": {
    "collapsed": true
   },
   "outputs": [],
   "source": [
    "def add_nn_layer(input_, weight, bias, activation=None):\n",
    "    # 假设 input_ 中每一列是一个样本\n",
    "    raw_output = tf.add(tf.matmul(input_, weight), bias)\n",
    "    if activation:\n",
    "        return activation(raw_output)\n",
    "    else:\n",
    "        return raw_output"
   ]
  },
  {
   "cell_type": "code",
   "execution_count": 148,
   "metadata": {
    "collapsed": false
   },
   "outputs": [
    {
     "name": "stdout",
     "output_type": "stream",
     "text": [
      "0.54\n",
      "0.915\n",
      "1.0\n",
      "1.0\n",
      "1.0\n",
      "Automatically created module for IPython interactive environment\n"
     ]
    },
    {
     "data": {
      "image/png": "[encoded data removed]",
      "text/plain": [
       "<matplotlib.figure.Figure at 0x7f905fb3fe90>"
      ]
     },
     "metadata": {},
     "output_type": "display_data"
    }
   ],
   "source": [
    "n = 30\n",
    "W1, b1 = generate_weight_and_bias(2, n)\n",
    "W2, b2 = generate_weight_and_bias(n, 1)\n",
    "\n",
    "\n",
    "hidden = add_nn_layer(xtrain, W1, b1)\n",
    "nn_raw_output = add_nn_layer(tf.tanh(hidden), W2, b2)\n",
    "final_output = tf.sigmoid(nn_raw_output)\n",
    "\n",
    "\n",
    "cost = tf.reduce_mean(tf.nn.sigmoid_cross_entropy_with_logits(logits=nn_raw_output, labels=y_placeholder))\n",
    "\n",
    "train_step = tf.train.GradientDescentOptimizer(0.1).minimize(cost)\n",
    "costs = []\n",
    "with tf.Session() as sess:\n",
    "    sess.run(tf.global_variables_initializer())\n",
    "    for i in range(1000):\n",
    "        # type 可以不指定形式，数据初始读入的时候已经指定\n",
    "        # 注意 y 为列向量时，这里需要 reshape，可能是因为向量默认是行的\n",
    "        # 这里 x 传入的是行向量\n",
    "        feed_dict = {x_placeholder:xtrain.astype(float), y_placeholder:ytrain.reshape(200,1).astype(float)}\n",
    "        sess.run(train_step, feed_dict=feed_dict)\n",
    "        cost_value = sess.run(cost, feed_dict=feed_dict)\n",
    "        costs.append(cost_value)\n",
    "        if i % 200 == 0:\n",
    "            preds = sess.run(final_output, feed_dict=feed_dict)\n",
    "            # accuracy 也需要 reshape，原因也是因为向量默认是行的\n",
    "            print(accuracy(preds, ytrain.reshape(len(ytrain),1)))\n",
    "    W1L1, b1L1 = (sess.run([W1, b1]))\n",
    "    W1L2, b1L2 = (sess.run([W2, b2]))\n",
    "\n",
    "\n",
    "\n",
    "print(__doc__)\n",
    "\n",
    "from itertools import product\n",
    "\n",
    "import numpy as np\n",
    "import matplotlib.pyplot as plt\n",
    "\n",
    "from sklearn import datasets\n",
    "from sklearn.tree import DecisionTreeClassifier\n",
    "from sklearn.neighbors import KNeighborsClassifier\n",
    "from sklearn.svm import SVC\n",
    "from sklearn.ensemble import VotingClassifier\n",
    "\n",
    "# Loading some example data\n",
    "#iris = datasets.load_iris()\n",
    "#X = iris.data[:, [0, 2]]\n",
    "#y = iris.target\n",
    "# X.shape = 150, 2\n",
    "X = xtrain\n",
    "# y.shape = 150,\n",
    "y = ytrain\n",
    "\n",
    "# Training classifiers\n",
    "#clf1 = DecisionTreeClassifier(max_depth=4)\n",
    "#clf1.fit(X, y)\n",
    "\n",
    "def sigmoid(x):\n",
    "    return 1/(1+np.e ** (-x))\n",
    "\n",
    "# Plotting decision regions\n",
    "x_min, x_max = X[:, 0].min() - 1, X[:, 0].max() + 1\n",
    "y_min, y_max = X[:, 1].min() - 1, X[:, 1].max() + 1\n",
    "xx, yy = np.meshgrid(np.arange(x_min, x_max, 0.1),\n",
    "                     np.arange(y_min, y_max, 0.1))\n",
    "\n",
    "f, axarr = plt.subplots(1, 1, sharex='col', sharey='row', figsize=(5,4))\n",
    "\n",
    "\n",
    "temp = np.c_[xx.ravel(), yy.ravel()]\n",
    "M1L = np.tanh(temp.dot(W1L1) + b1L1)\n",
    "M2L = sigmoid(M1L.dot(W1L2) + b1L2)\n",
    "\n",
    "\n",
    "Z = M2L.reshape(xx.shape)\n",
    "\n",
    "axarr.contourf(xx, yy, Z, alpha=0.4)\n",
    "axarr.scatter(X[:, 0], X[:, 1], c=y, alpha=0.8)\n",
    "axarr.set_title(\"1 Layer\")\n",
    "\n",
    "plt.show()"
   ]
  },
  {
   "cell_type": "markdown",
   "metadata": {},
   "source": [
    "## 修改 ch3 作业（按 tf.layers.dense）"
   ]
  },
  {
   "cell_type": "code",
   "execution_count": 150,
   "metadata": {
    "collapsed": false
   },
   "outputs": [],
   "source": [
    "tf.layers.dense?"
   ]
  },
  {
   "cell_type": "code",
   "execution_count": null,
   "metadata": {
    "collapsed": true
   },
   "outputs": [],
   "source": []
  },
  {
   "cell_type": "code",
   "execution_count": null,
   "metadata": {
    "collapsed": true
   },
   "outputs": [],
   "source": []
  },
  {
   "cell_type": "markdown",
   "metadata": {},
   "source": [
    "# 作业3\n",
    "\n",
    "为什么取这个矩阵的某一行，和这个词出现的时候做矩阵乘法，结果是一样的呢？"
   ]
  },
  {
   "cell_type": "code",
   "execution_count": null,
   "metadata": {
    "collapsed": true
   },
   "outputs": [],
   "source": []
  },
  {
   "cell_type": "code",
   "execution_count": null,
   "metadata": {
    "collapsed": true
   },
   "outputs": [],
   "source": []
  },
  {
   "cell_type": "markdown",
   "metadata": {},
   "source": [
    "## 构建一个词的 Word Embedding\n",
    "\n",
    "在构建统计语言模型的时候，我们把所有看到的词都放入了 dict 里面，这时候影响不大，因为每个词占用的内存较小。  \n",
    "在使用神经网络做自然语言处理的时候，我们一般都会对词表做一个截断操作，取最高频的 n 个（也有人按词频阈值做截断）。  \n",
    "\n",
    "这样有两个好处：\n",
    "- 减少模型的内存使用。\n",
    "- 只出现过一两次的词，在整个优化过程中往往也很难学好。不如把这些词直接全看成未登录词。\n"
   ]
  },
  {
   "cell_type": "code",
   "execution_count": 151,
   "metadata": {
    "collapsed": true
   },
   "outputs": [],
   "source": [
    "tf.reset_default_graph()"
   ]
  },
  {
   "cell_type": "code",
   "execution_count": 152,
   "metadata": {
    "collapsed": true
   },
   "outputs": [],
   "source": [
    "# 决定了 embedding 的维度 （隐层节点数）\n",
    "word_embedding_dim = 128\n",
    "# 决定了词表数量, 预留一个未登录词\n",
    "vocab_size = 80000 + 1\n",
    "UNK_IDX = 0\n",
    "\n",
    "# 这里需要把 Word embedding 放到 Variable 里面。因为 Word embedding 是要随机初始化，跟着数据不断变化的。\n",
    "# 它相当于普通神经网络中的权重。\n",
    "\n",
    "# 在梯度下降时， tensorflow 的 Optimizer 会自动找到 Graph 中的 Variable，计算梯度并进行更新。\n",
    "word_embedding = tf.Variable(tf.random_uniform([vocab_size, word_embedding_dim]))\n",
    "\n",
    "# placeholder 和 variable 基本都可以当做 Tensor 来用\n",
    "# 注意这里的输入是 int32 类型，表示一个词 ID。这里我们需要对数据进行预处理，以把高频词映射到 [1, 80000] 之间，不在词表里面的词设置成 UNK, ID 为 0\n",
    "# 这里我们假设输入是两个词\n",
    "\n",
    "# 这里 Shape 的第一维我们指定为 None，是表示第一维可以根据数据进行变化，因此同样一个程序可以适应梯度下降时不同的 batch_size\n",
    "input_data = tf.placeholder(tf.int32, shape=[None, 2], name='input_data')\n",
    "\n",
    "input_embeds = tf.nn.embedding_lookup(word_embedding, input_data)"
   ]
  },
  {
   "cell_type": "markdown",
   "metadata": {},
   "source": [
    "因为 input_data 是一个二维矩阵，lookup 之后得到的其实是一个『三维的矩阵』  \n",
    "怎么理解呢？如果我们一个样本有两个词，拿到的就是矩阵的两行，因此是一个矩阵  \n",
    "但是我们同时有多个样本，因此需要对这个矩阵再『扩张』一个维度。而这个维度因为数据还未给出，大小是未知的"
   ]
  },
  {
   "cell_type": "code",
   "execution_count": 153,
   "metadata": {
    "collapsed": false
   },
   "outputs": [
    {
     "data": {
      "text/plain": [
       "<tf.Tensor 'embedding_lookup:0' shape=(?, 2, 128) dtype=float32>"
      ]
     },
     "execution_count": 153,
     "metadata": {},
     "output_type": "execute_result"
    }
   ],
   "source": [
    "input_embeds"
   ]
  },
  {
   "cell_type": "markdown",
   "metadata": {},
   "source": [
    "### 两个词的向量做相加"
   ]
  },
  {
   "cell_type": "code",
   "execution_count": 154,
   "metadata": {
    "collapsed": true
   },
   "outputs": [],
   "source": [
    "# reduce 开头的函数一般有一个 axis 参数，决定按行、按列或者按整个矩阵进行 reduce\n",
    "context_embeds = tf.reduce_sum(input_embeds, axis=1)"
   ]
  },
  {
   "cell_type": "code",
   "execution_count": 155,
   "metadata": {
    "collapsed": false
   },
   "outputs": [
    {
     "data": {
      "text/plain": [
       "<tf.Tensor 'Sum:0' shape=(?, 128) dtype=float32>"
      ]
     },
     "execution_count": 155,
     "metadata": {},
     "output_type": "execute_result"
    }
   ],
   "source": [
    "# 注意观察 context_embds 的 shape\n",
    "# 因为 placeholder 第一位的维度是 None，这里 TF 没法确切知道第一维最后的 shape\n",
    "context_embeds"
   ]
  },
  {
   "cell_type": "markdown",
   "metadata": {},
   "source": [
    "### 相加的词向量再映射到 N 个词的概率分布"
   ]
  },
  {
   "cell_type": "code",
   "execution_count": 156,
   "metadata": {
    "collapsed": true
   },
   "outputs": [],
   "source": [
    "# 激活之前的输出\n",
    "raw_output = tf.layers.dense(context_embeds, vocab_size)"
   ]
  },
  {
   "cell_type": "code",
   "execution_count": 157,
   "metadata": {
    "collapsed": true
   },
   "outputs": [],
   "source": [
    "# 加 softmax 之后的输出\n",
    "output = tf.nn.softmax(raw_output)"
   ]
  },
  {
   "cell_type": "code",
   "execution_count": 158,
   "metadata": {
    "collapsed": true
   },
   "outputs": [],
   "source": [
    "import numpy as np"
   ]
  },
  {
   "cell_type": "code",
   "execution_count": 159,
   "metadata": {
    "collapsed": false
   },
   "outputs": [
    {
     "name": "stdout",
     "output_type": "stream",
     "text": [
      "[[  1.34290276e-05   1.20678742e-05   1.15403318e-05   1.24887338e-05\n",
      "    1.32244886e-05   1.21952944e-05   1.18441858e-05   1.20236682e-05\n",
      "    1.28092379e-05   1.16633546e-05]]\n"
     ]
    }
   ],
   "source": [
    "with tf.Session() as sess:\n",
    "    # 因为引入了 variable，所以需要进行初始化\n",
    "    sess.run(tf.global_variables_initializer())\n",
    "    # 输出的矩阵比较大，我们只看前 10 列\n",
    "    print(sess.run(output, feed_dict={input_data: np.asarray([[1, 2]])})[:, :10])"
   ]
  },
  {
   "cell_type": "markdown",
   "metadata": {},
   "source": [
    "同第三讲示例代码中的类似 (sigmoid + cross entropy)，softmax 配合 cross entropy 的时候，在求导时两个连着看，也可以做分母的消除，因此在计算 cost 的时候我们要把 raw_output 喂给 tf 的这个损失函数"
   ]
  },
  {
   "cell_type": "code",
   "execution_count": 160,
   "metadata": {
    "collapsed": true
   },
   "outputs": [],
   "source": [
    "# 样本的 labels 也需要用 placeholder 放置\n",
    "labels = tf.placeholder(tf.int32, shape=[None], name='labels')\n",
    "\n",
    "# 因为我们每个样本的 label 只有一个，使用稠密的 softmax 算 cost 及求导太浪费了。这里使用 sparse 版本即可。\n",
    "# 如果你的 label 是完整的 N 个词上的概率分布，这时候可以使用 tf.nn.softmax_cross_entropy_with_logits\n",
    "cost = tf.nn.sparse_softmax_cross_entropy_with_logits(logits=raw_output, labels=labels)"
   ]
  },
  {
   "cell_type": "code",
   "execution_count": 161,
   "metadata": {
    "collapsed": false
   },
   "outputs": [
    {
     "name": "stdout",
     "output_type": "stream",
     "text": [
      "Iteration 0\n",
      "Cost: 9.871098\n",
      "Probability: 0.000052\n",
      "------\n",
      "Iteration 20\n",
      "Cost: 0.048203\n",
      "Probability: 0.952941\n",
      "------\n",
      "Iteration 40\n",
      "Cost: 0.019292\n",
      "Probability: 0.980893\n",
      "------\n",
      "Iteration 60\n",
      "Cost: 0.011476\n",
      "Probability: 0.988589\n",
      "------\n",
      "Iteration 80\n",
      "Cost: 0.009009\n",
      "Probability: 0.991031\n",
      "------\n"
     ]
    }
   ],
   "source": [
    "train_step = tf.train.GradientDescentOptimizer(0.01).minimize(cost)\n",
    "with tf.Session() as sess:\n",
    "    sess.run(tf.global_variables_initializer())\n",
    "    dummy_feed_dict = {input_data: np.asarray([[1, 2]]),\n",
    "                       labels: np.asarray([3])}\n",
    "    for i in range(100):\n",
    "        sess.run(train_step, feed_dict=dummy_feed_dict)\n",
    "        if i % 20 == 0:\n",
    "            print(\"Iteration %d\" % i)\n",
    "            print(\"Cost: %f\" % cost.eval(feed_dict=dummy_feed_dict)[0])\n",
    "            # 查看输出中 ID == 3 的概率\n",
    "            print(\"Probability: %f\" % output.eval(feed_dict=dummy_feed_dict)[0, 3])\n",
    "            print(\"------\")"
   ]
  },
  {
   "cell_type": "markdown",
   "metadata": {},
   "source": [
    "## 作业4\n",
    "\n",
    "请根据这个基本的框架程序进行扩展，使用你的语料库进行训练。并完成 3 个名词各自最相近的 Top 10 个词的检索"
   ]
  },
  {
   "cell_type": "code",
   "execution_count": null,
   "metadata": {
    "collapsed": true
   },
   "outputs": [],
   "source": []
  }
 ],
 "metadata": {
  "kernelspec": {
   "display_name": "Python 2",
   "language": "python",
   "name": "python2"
  },
  "language_info": {
   "codemirror_mode": {
    "name": "ipython",
    "version": 2
   },
   "file_extension": ".py",
   "mimetype": "text/x-python",
   "name": "python",
   "nbconvert_exporter": "python",
   "pygments_lexer": "ipython2",
   "version": "2.7.6"
  }
 },
 "nbformat": 4,
 "nbformat_minor": 1
}
