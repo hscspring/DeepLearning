{
 "cells": [
  {
   "cell_type": "markdown",
   "metadata": {},
   "source": [
    "# 作业1\n",
    "\n",
    "基于矩阵乘法，用 Tensorflow 实现 Lecture 3 最后作业的单隐层神经网络"
   ]
  },
  {
   "cell_type": "markdown",
   "metadata": {},
   "source": [
    "详见作业2"
   ]
  },
  {
   "cell_type": "markdown",
   "metadata": {},
   "source": [
    "# 作业2\n",
    "\n",
    "- 基础代码 tf_matrix.ipynb，将列向量表示形式，改成行向量表示形式\n",
    "- 进一步，使用 `tf.layers.dense` 替换原有的矩阵乘法"
   ]
  },
  {
   "cell_type": "markdown",
   "metadata": {},
   "source": [
    "## 修改示例"
   ]
  },
  {
   "cell_type": "code",
   "execution_count": 1,
   "metadata": {},
   "outputs": [
    {
     "name": "stdout",
     "output_type": "stream",
     "text": [
      "2017-03-27T13:32:01\n",
      "\n",
      "CPython 2.7.6\n",
      "IPython 5.1.0\n",
      "\n",
      "compiler   : GCC 4.8.4\n",
      "system     : Linux\n",
      "release    : 4.4.0-21-generic\n",
      "machine    : x86_64\n",
      "processor  : x86_64\n",
      "CPU cores  : 4\n",
      "interpreter: 64bit\n"
     ]
    }
   ],
   "source": [
    "%load_ext watermark\n",
    "%watermark"
   ]
  },
  {
   "cell_type": "code",
   "execution_count": 1,
   "metadata": {
    "collapsed": true
   },
   "outputs": [],
   "source": [
    "import tensorflow as tf\n",
    "import numpy as np"
   ]
  },
  {
   "cell_type": "code",
   "execution_count": 12,
   "metadata": {
    "collapsed": true
   },
   "outputs": [],
   "source": [
    "def add_nn_layer(input_, weight, bias, activation=None):\n",
    "    # 假设 input_ 中每一列是一个样本\n",
    "    raw_output = tf.add(tf.matmul(input_, weight), bias)\n",
    "    if activation:\n",
    "        return activation(raw_output)\n",
    "    else:\n",
    "        return raw_output"
   ]
  },
  {
   "cell_type": "code",
   "execution_count": 13,
   "metadata": {
    "collapsed": true
   },
   "outputs": [],
   "source": [
    "def generate_weight_and_bias(input_dim, output_dim):\n",
    "    w = tf.Variable(tf.random_uniform([input_dim, output_dim], -1, 1))\n",
    "    bias = tf.Variable(tf.zeros([output_dim, 1]))\n",
    "    return (w, bias)"
   ]
  },
  {
   "cell_type": "code",
   "execution_count": 14,
   "metadata": {},
   "outputs": [],
   "source": [
    "X = np.concatenate((np.random.rand(50, 2), np.random.rand(50, 2) + 1), axis=0)\n",
    "# 注意这里要转换成 float32，否则默认可能是精度更高的 float64，和后面 W, b 的类型对应，Tensorflow 的矩阵乘法不会自己做类型转化。\n",
    "# 也可以在矩阵乘法中使用 tf.cast(x, tf.float32) 来转换类型\n",
    "X = X.astype(np.float32)\n",
    "y = np.asarray([0] * 50 + [1] * 50)"
   ]
  },
  {
   "cell_type": "code",
   "execution_count": 15,
   "metadata": {},
   "outputs": [],
   "source": [
    "W, b = generate_weight_and_bias(2, 1)\n",
    "nn_output = add_nn_layer(X, W, b, tf.sigmoid)"
   ]
  },
  {
   "cell_type": "code",
   "execution_count": 16,
   "metadata": {
    "collapsed": true
   },
   "outputs": [],
   "source": [
    "with tf.Session() as sess:\n",
    "    sess.run(tf.global_variables_initializer())\n",
    "    res = sess.run(nn_output)"
   ]
  },
  {
   "cell_type": "code",
   "execution_count": 17,
   "metadata": {},
   "outputs": [
    {
     "data": {
      "text/plain": [
       "(100, 1)"
      ]
     },
     "execution_count": 17,
     "metadata": {},
     "output_type": "execute_result"
    }
   ],
   "source": [
    "res.shape"
   ]
  },
  {
   "cell_type": "markdown",
   "metadata": {},
   "source": [
    "###  Tensorflow 中的 sigmoid + cross entropy\n",
    "如果看过作业中 \"Neural Network and Deep Learning\" Simgoid + cross entropy 相关章节的话，应该能理解，sigmoid + cross entropy 在求导数的时候，可以把分母进行约简，少做一些计算。\n",
    "Tensorflow 利用了这一特性进行计算约简，因此其有一个专门的 cost 层，叫 tf.nn.sigmoid_cross_entropy_with_logits\n",
    "所谓的 logit，其实是 sigmoid 的反函数，也就是说这个 cost 函数，需要的输入是 sigmoid 变换之后的结果，再取其反函数 logit。\n",
    "这么这个结果，其实就是我们神经网络输出节点的原始结果，即在 sigmoid 变换之前的结果。\n",
    "为了配合这个 cost 层进行计算约简，我们需要先准备一个 sigmoid 激活之前的结果，在训练时使用激活之前的结果即可，在『预测』时才使用 sigmoid 激活之后的结果"
   ]
  },
  {
   "cell_type": "code",
   "execution_count": 18,
   "metadata": {
    "collapsed": true
   },
   "outputs": [],
   "source": [
    "tf.reset_default_graph()"
   ]
  },
  {
   "cell_type": "code",
   "execution_count": 19,
   "metadata": {
    "collapsed": true
   },
   "outputs": [],
   "source": [
    "W, b = generate_weight_and_bias(2, 1)\n",
    "# X, y 这里是用 numpy array 的方式， Tensorflow 会将他们变成 Constant tensor 放入 graph 当中\n",
    "# **请尝试将 X, y 改成 tensorflow 的 placeholder 形式**\n",
    "\n",
    "nn_raw_output = add_nn_layer(X, W, b)\n",
    "final_output = tf.sigmoid(nn_raw_output)"
   ]
  },
  {
   "cell_type": "code",
   "execution_count": 20,
   "metadata": {},
   "outputs": [],
   "source": [
    "cost = tf.reduce_mean(\n",
    "    tf.nn.sigmoid_cross_entropy_with_logits(logits=nn_raw_output, labels=y.reshape(100,1).astype(np.float32))\n",
    ")"
   ]
  },
  {
   "cell_type": "code",
   "execution_count": 21,
   "metadata": {},
   "outputs": [],
   "source": [
    "def accuracy(preds, labels):\n",
    "    return ((preds > 0.5) == labels).sum() / float(len(labels))"
   ]
  },
  {
   "cell_type": "code",
   "execution_count": 22,
   "metadata": {},
   "outputs": [
    {
     "name": "stdout",
     "output_type": "stream",
     "text": [
      "0.4\n",
      "0.68\n",
      "0.88\n",
      "0.94\n",
      "0.95\n",
      "0.98\n",
      "0.99\n",
      "0.99\n",
      "0.99\n",
      "0.99\n",
      "0.99\n",
      "1.0\n",
      "1.0\n",
      "1.0\n",
      "1.0\n",
      "1.0\n",
      "1.0\n",
      "1.0\n",
      "1.0\n",
      "1.0\n"
     ]
    }
   ],
   "source": [
    "train_step = tf.train.GradientDescentOptimizer(0.1).minimize(cost)\n",
    "with tf.Session() as sess:\n",
    "    sess.run(tf.global_variables_initializer())\n",
    "    for i in range(1000):\n",
    "        sess.run(train_step)\n",
    "        if i % 50== 0:\n",
    "            preds = sess.run(final_output)\n",
    "            print(accuracy(preds, y.reshape(100,1)))"
   ]
  },
  {
   "cell_type": "markdown",
   "metadata": {},
   "source": [
    "## 修改 ch3 作业（按列）"
   ]
  },
  {
   "cell_type": "code",
   "execution_count": 23,
   "metadata": {
    "collapsed": true
   },
   "outputs": [],
   "source": [
    "data = []\n",
    "with open('../w3_Tensorflow-NN/data.csv', 'r') as f:\n",
    "    for line in f.readlines():\n",
    "        data.append(line.strip().split(','))\n",
    "        \n",
    "        \n",
    "X_train = []\n",
    "y_train = []\n",
    "for i in range(len(data)):\n",
    "    X_train.append((float(data[i][0]), float(data[i][1])))\n",
    "    y_train.append(int(data[i][2]))\n",
    "\n",
    "xtrain = np.array(X_train, dtype=np.float32)\n",
    "ytrain = np.array(y_train, dtype=np.int32)"
   ]
  },
  {
   "cell_type": "code",
   "execution_count": 24,
   "metadata": {},
   "outputs": [
    {
     "name": "stdout",
     "output_type": "stream",
     "text": [
      "0.59\n",
      "0.915\n",
      "1.0\n",
      "1.0\n",
      "1.0\n",
      "Automatically created module for IPython interactive environment\n"
     ]
    },
    {
     "data": {
      "image/png": "[encoded data removed]",
      "text/plain": [
       "<matplotlib.figure.Figure at 0x7f0f0c136790>"
      ]
     },
     "metadata": {},
     "output_type": "display_data"
    }
   ],
   "source": [
    "x_placeholder = tf.placeholder('float')\n",
    "y_placeholder = tf.placeholder('float')\n",
    "\n",
    "n = 30\n",
    "\n",
    "W1 = tf.Variable(tf.random_uniform([2, n]), dtype=tf.float32)\n",
    "b1 = tf.Variable(tf.random_uniform([1, n]), dtype=tf.float32)\n",
    "\n",
    "W2 = tf.Variable(tf.random_uniform([n, 1]), dtype=tf.float32)\n",
    "b2 = tf.Variable(tf.random_uniform([1, 1]), dtype=tf.float32)\n",
    "\n",
    "hidden = tf.add(tf.matmul(x_placeholder, W1), b1)\n",
    "nn_raw_output = tf.add(tf.matmul(tf.tanh(hidden), W2), b2)\n",
    "final_output = tf.sigmoid(nn_raw_output)\n",
    "\n",
    "cost = tf.reduce_mean(tf.nn.sigmoid_cross_entropy_with_logits(logits=nn_raw_output, labels=y_placeholder))\n",
    "\n",
    "\n",
    "train_step = tf.train.GradientDescentOptimizer(0.1).minimize(cost)\n",
    "costs = []\n",
    "with tf.Session() as sess:\n",
    "    sess.run(tf.global_variables_initializer())\n",
    "    for i in range(1000):\n",
    "        # type 可以不指定形式，数据初始读入的时候已经指定\n",
    "        feed_dict = {x_placeholder:xtrain.astype(float), y_placeholder:ytrain.reshape(200,1).astype(float)}\n",
    "        sess.run(train_step, feed_dict=feed_dict)\n",
    "        cost_value = sess.run(cost, feed_dict=feed_dict)\n",
    "        costs.append(cost_value)\n",
    "        if i % 200 == 0:\n",
    "            preds = sess.run(final_output, feed_dict=feed_dict)\n",
    "            print(accuracy(preds, ytrain.reshape(len(ytrain),1)))\n",
    "    W1L1, b1L1 = (sess.run([W1, b1]))\n",
    "    W1L2, b1L2 = (sess.run([W2, b2]))\n",
    "\n",
    "\n",
    "print(__doc__)\n",
    "\n",
    "from itertools import product\n",
    "\n",
    "import numpy as np\n",
    "import matplotlib.pyplot as plt\n",
    "\n",
    "from sklearn import datasets\n",
    "from sklearn.tree import DecisionTreeClassifier\n",
    "from sklearn.neighbors import KNeighborsClassifier\n",
    "from sklearn.svm import SVC\n",
    "from sklearn.ensemble import VotingClassifier\n",
    "\n",
    "# Loading some example data\n",
    "#iris = datasets.load_iris()\n",
    "#X = iris.data[:, [0, 2]]\n",
    "#y = iris.target\n",
    "# X.shape = 150, 2\n",
    "X = xtrain\n",
    "# y.shape = 150,\n",
    "y = ytrain\n",
    "\n",
    "# Training classifiers\n",
    "#clf1 = DecisionTreeClassifier(max_depth=4)\n",
    "#clf1.fit(X, y)\n",
    "\n",
    "def sigmoid(x):\n",
    "    return 1/(1+np.e ** (-x))\n",
    "\n",
    "# Plotting decision regions\n",
    "x_min, x_max = X[:, 0].min() - 1, X[:, 0].max() + 1\n",
    "y_min, y_max = X[:, 1].min() - 1, X[:, 1].max() + 1\n",
    "xx, yy = np.meshgrid(np.arange(x_min, x_max, 0.1),\n",
    "                     np.arange(y_min, y_max, 0.1))\n",
    "\n",
    "f, axarr = plt.subplots(1, 1, sharex='col', sharey='row', figsize=(5,4))\n",
    "\n",
    "\n",
    "temp = np.c_[xx.ravel(), yy.ravel()]\n",
    "M1L = np.tanh(temp.dot(W1L1) + b1L1)\n",
    "M2L = sigmoid(M1L.dot(W1L2) + b1L2)\n",
    "\n",
    "\n",
    "Z = M2L.reshape(xx.shape)\n",
    "\n",
    "axarr.contourf(xx, yy, Z, alpha=0.4)\n",
    "axarr.scatter(X[:, 0], X[:, 1], c=y, alpha=0.8)\n",
    "axarr.set_title(\"1 Layer\")\n",
    "\n",
    "plt.show()"
   ]
  },
  {
   "cell_type": "markdown",
   "metadata": {},
   "source": [
    "## 修改 ch3 作业（按函数和矩阵）"
   ]
  },
  {
   "cell_type": "code",
   "execution_count": 25,
   "metadata": {},
   "outputs": [],
   "source": [
    "data = []\n",
    "with open('../w3_Tensorflow-NN/data.csv', 'r') as f:\n",
    "    for line in f.readlines():\n",
    "        data.append(line.strip().split(','))\n",
    "        \n",
    "        \n",
    "X_train = []\n",
    "y_train = []\n",
    "for i in range(len(data)):\n",
    "    X_train.append((float(data[i][0]), float(data[i][1])))\n",
    "    y_train.append(int(data[i][2]))\n",
    "\n",
    "xtrain = np.array(X_train, dtype=np.float32)\n",
    "ytrain = np.array(y_train, dtype=np.int32)"
   ]
  },
  {
   "cell_type": "code",
   "execution_count": 26,
   "metadata": {
    "collapsed": true
   },
   "outputs": [],
   "source": [
    "def generate_weight_and_bias(input_dim, output_dim):\n",
    "    w = tf.Variable(tf.random_uniform([input_dim, output_dim], -1, 1))\n",
    "    bias = tf.Variable(tf.zeros([1, output_dim]))\n",
    "    return (w, bias)"
   ]
  },
  {
   "cell_type": "code",
   "execution_count": 27,
   "metadata": {
    "collapsed": true
   },
   "outputs": [],
   "source": [
    "def add_nn_layer(input_, weight, bias, activation=None):\n",
    "    # 假设 input_ 中每一列是一个样本\n",
    "    raw_output = tf.add(tf.matmul(input_, weight), bias)\n",
    "    if activation:\n",
    "        return activation(raw_output)\n",
    "    else:\n",
    "        return raw_output"
   ]
  },
  {
   "cell_type": "code",
   "execution_count": 57,
   "metadata": {},
   "outputs": [
    {
     "name": "stdout",
     "output_type": "stream",
     "text": [
      "0.49\n",
      "0.885\n",
      "0.88\n",
      "0.885\n",
      "0.885\n",
      "0.89\n",
      "0.885\n",
      "0.885\n",
      "0.885\n",
      "0.885\n",
      "Automatically created module for IPython interactive environment\n"
     ]
    },
    {
     "data": {
      "image/png": "[encoded data removed]",
      "text/plain": [
       "<matplotlib.figure.Figure at 0x7f0f3333d050>"
      ]
     },
     "metadata": {},
     "output_type": "display_data"
    }
   ],
   "source": [
    "x_placeholder = tf.placeholder('float')\n",
    "y_placeholder = tf.placeholder('float')\n",
    "\n",
    "n = 2\n",
    "W1, b1 = generate_weight_and_bias(2, n)\n",
    "W2, b2 = generate_weight_and_bias(n, 1)\n",
    "\n",
    "\n",
    "hidden = add_nn_layer(xtrain, W1, b1)\n",
    "nn_raw_output = add_nn_layer(tf.tanh(hidden), W2, b2)\n",
    "final_output = tf.sigmoid(nn_raw_output)\n",
    "\n",
    "\n",
    "cost = tf.reduce_mean(tf.nn.sigmoid_cross_entropy_with_logits(logits=nn_raw_output, labels=y_placeholder))\n",
    "\n",
    "train_step = tf.train.GradientDescentOptimizer(0.1).minimize(cost)\n",
    "costs = []\n",
    "with tf.Session() as sess:\n",
    "    sess.run(tf.global_variables_initializer())\n",
    "    for i in range(2000):\n",
    "        # type 可以不指定形式，数据初始读入的时候已经指定\n",
    "        # 注意 y 为列向量时，这里需要 reshape，可能是因为向量默认是行的\n",
    "        # 这里 x 传入的是行向量\n",
    "        feed_dict = {x_placeholder:xtrain.astype(float), y_placeholder:ytrain.reshape(200,1).astype(float)}\n",
    "        sess.run(train_step, feed_dict=feed_dict)\n",
    "        cost_value = sess.run(cost, feed_dict=feed_dict)\n",
    "        costs.append(cost_value)\n",
    "        if i % 200 == 0:\n",
    "            preds = sess.run(final_output, feed_dict=feed_dict)\n",
    "            # accuracy 也需要 reshape，原因也是因为向量默认是行的\n",
    "            print(accuracy(preds, ytrain.reshape(len(ytrain),1)))\n",
    "    W1L1, b1L1 = (sess.run([W1, b1]))\n",
    "    W1L2, b1L2 = (sess.run([W2, b2]))\n",
    "\n",
    "\n",
    "\n",
    "print(__doc__)\n",
    "\n",
    "from itertools import product\n",
    "\n",
    "import numpy as np\n",
    "import matplotlib.pyplot as plt\n",
    "from mpl_toolkits.mplot3d import Axes3D\n",
    "\n",
    "from sklearn import datasets\n",
    "from sklearn.tree import DecisionTreeClassifier\n",
    "from sklearn.neighbors import KNeighborsClassifier\n",
    "from sklearn.svm import SVC\n",
    "from sklearn.ensemble import VotingClassifier\n",
    "\n",
    "# Loading some example data\n",
    "#iris = datasets.load_iris()\n",
    "#X = iris.data[:, [0, 2]]\n",
    "#y = iris.target\n",
    "# X.shape = 150, 2\n",
    "X = xtrain\n",
    "# y.shape = 150,\n",
    "y = ytrain\n",
    "\n",
    "# Training classifiers\n",
    "#clf1 = DecisionTreeClassifier(max_depth=4)\n",
    "#clf1.fit(X, y)\n",
    "\n",
    "def sigmoid(x):\n",
    "    return 1/(1+np.e ** (-x))\n",
    "\n",
    "# Plotting decision regions\n",
    "x_min, x_max = X[:, 0].min() - 1, X[:, 0].max() + 1\n",
    "y_min, y_max = X[:, 1].min() - 1, X[:, 1].max() + 1\n",
    "xx, yy = np.meshgrid(np.arange(x_min, x_max, 0.1),\n",
    "                     np.arange(y_min, y_max, 0.1))\n",
    "\n",
    "f = plt.figure(figsize=(10,4))\n",
    "\n",
    "\n",
    "temp = np.c_[xx.ravel(), yy.ravel()]\n",
    "M1L = np.tanh(temp.dot(W1L1) + b1L1)\n",
    "M2L = sigmoid(M1L.dot(W1L2) + b1L2)\n",
    "\n",
    "\n",
    "Z = M2L.reshape(xx.shape)\n",
    "\n",
    "ax0 = f.add_subplot(121,)\n",
    "ax0.contourf(xx, yy, Z, alpha=0.4)\n",
    "ax0.scatter(X[:, 0], X[:, 1], c=y, alpha=0.8)\n",
    "ax0.set_title(\"1 Layer\")\n",
    "\n",
    "ax1 = f.add_subplot(122, projection='3d')\n",
    "ax1.scatter(xx.ravel(), yy.ravel(), Z.ravel(), alpha=0.4)\n",
    "ax1.scatter(X[:, 0], X[:, 1], c=y, alpha=0.8)\n",
    "\n",
    "plt.show()"
   ]
  },
  {
   "cell_type": "markdown",
   "metadata": {},
   "source": [
    "## 修改 ch3 作业（按 tf.layers.dense）"
   ]
  },
  {
   "cell_type": "code",
   "execution_count": 16,
   "metadata": {},
   "outputs": [
    {
     "name": "stdout",
     "output_type": "stream",
     "text": [
      "0.3444989038,1.9351813391,0\r\n",
      "-0.1924808336,0.9426635874,1\r\n",
      "0.5827218693,-0.8801240557,1\r\n",
      "0.1515495372,-1.0116493917,1\r\n",
      "0.5450826897,-1.7135021017,0\r\n",
      "-0.9353328106,-0.2729427047,1\r\n",
      "0.82811985,-0.7647471505,1\r\n",
      "-0.5620270118,0.9530543344,1\r\n",
      "0.8105408238,-1.7446970434,0\r\n",
      "0.075898852,-1.9698145755,0\r\n"
     ]
    }
   ],
   "source": [
    "!head '../w3_Tensorflow-NN/data.csv'"
   ]
  },
  {
   "cell_type": "markdown",
   "metadata": {},
   "source": [
    "#### 另一种读取方法"
   ]
  },
  {
   "cell_type": "code",
   "execution_count": 23,
   "metadata": {},
   "outputs": [],
   "source": [
    "raw_data = np.loadtxt('../w3_Tensorflow-NN/data.csv', delimiter=',', usecols=(0,1,2), unpack=True)"
   ]
  },
  {
   "cell_type": "code",
   "execution_count": 56,
   "metadata": {},
   "outputs": [],
   "source": [
    "xtrain = np.array(raw_data[:2,:].T,dtype=np.float32)"
   ]
  },
  {
   "cell_type": "code",
   "execution_count": 59,
   "metadata": {
    "collapsed": true
   },
   "outputs": [],
   "source": [
    "ytrain = np.array(raw_data[2, :], dtype=np.float32)"
   ]
  },
  {
   "cell_type": "code",
   "execution_count": 65,
   "metadata": {
    "collapsed": true
   },
   "outputs": [],
   "source": [
    "def accuracy(preds, labels):\n",
    "    return ((preds > 0.5) == labels).sum() / float(len(labels))"
   ]
  },
  {
   "cell_type": "code",
   "execution_count": 163,
   "metadata": {},
   "outputs": [
    {
     "name": "stdout",
     "output_type": "stream",
     "text": [
      "0.45\n",
      "0.73\n",
      "0.835\n",
      "1.0\n",
      "1.0\n"
     ]
    },
    {
     "data": {
      "text/plain": [
       "'    W1L1, b1L1 = (sess.run([W1, b1]))\\n    W1L2, b1L2 = (sess.run([W2, b2]))\\n\\n\\n\\nprint(__doc__)\\n\\nfrom itertools import product\\n\\nimport numpy as np\\nimport matplotlib.pyplot as plt\\nfrom mpl_toolkits.mplot3d import Axes3D\\n\\nfrom sklearn import datasets\\nfrom sklearn.tree import DecisionTreeClassifier\\nfrom sklearn.neighbors import KNeighborsClassifier\\nfrom sklearn.svm import SVC\\nfrom sklearn.ensemble import VotingClassifier\\n\\n# Loading some example data\\n#iris = datasets.load_iris()\\n#X = iris.data[:, [0, 2]]\\n#y = iris.target\\n# X.shape = 150, 2\\nX = xtrain\\n# y.shape = 150,\\ny = ytrain\\n\\n# Training classifiers\\n#clf1 = DecisionTreeClassifier(max_depth=4)\\n#clf1.fit(X, y)\\n\\ndef sigmoid(x):\\n    return 1/(1+np.e ** (-x))\\n\\n# Plotting decision regions\\nx_min, x_max = X[:, 0].min() - 1, X[:, 0].max() + 1\\ny_min, y_max = X[:, 1].min() - 1, X[:, 1].max() + 1\\nxx, yy = np.meshgrid(np.arange(x_min, x_max, 0.1),\\n                     np.arange(y_min, y_max, 0.1))\\n\\nf = plt.figure(figsize=(10,4))\\n\\n\\ntemp = np.c_[xx.ravel(), yy.ravel()]\\nM1L = np.tanh(temp.dot(W1L1) + b1L1)\\nM2L = sigmoid(M1L.dot(W1L2) + b1L2)\\n\\n\\nZ = M2L.reshape(xx.shape)\\n\\nax0 = f.add_subplot(121,)\\nax0.contourf(xx, yy, Z, alpha=0.4)\\nax0.scatter(X[:, 0], X[:, 1], c=y, alpha=0.8)\\nax0.set_title(\"1 Layer\")\\n\\nax1 = f.add_subplot(122, projection=\\'3d\\')\\nax1.scatter(xx.ravel(), yy.ravel(), Z.ravel(), alpha=0.4)\\nax1.scatter(X[:, 0], X[:, 1], c=y, alpha=0.8)\\n\\nplt.show()'"
      ]
     },
     "execution_count": 163,
     "metadata": {},
     "output_type": "execute_result"
    }
   ],
   "source": [
    "x_placeholder = tf.placeholder('float')\n",
    "y_placeholder = tf.placeholder('float')\n",
    "\n",
    "n = 5\n",
    "\n",
    "W1 = tf.Variable(tf.random_uniform([2, n]), dtype=tf.float32)\n",
    "W2 = tf.Variable(tf.random_uniform([n, 1]), dtype=tf.float32)\n",
    "\n",
    "hidden = tf.layers.dense(inputs=tf.matmul(x_placeholder,W1), units=n, activation=tf.tanh)\n",
    "nn_raw_output = tf.layers.dense(inputs=tf.matmul(hidden,W2), units=1, activation=None)\n",
    "#hidden = add_nn_layer(xtrain, W1, b1)\n",
    "#nn_raw_output = add_nn_layer(tf.tanh(hidden), W2, b2)\n",
    "final_output = tf.sigmoid(nn_raw_output)\n",
    "\n",
    "\n",
    "cost = tf.reduce_mean(tf.nn.sigmoid_cross_entropy_with_logits(logits=nn_raw_output, labels=y_placeholder))\n",
    "\n",
    "train_step = tf.train.GradientDescentOptimizer(0.1).minimize(cost)\n",
    "costs = []\n",
    "with tf.Session() as sess:\n",
    "    sess.run(tf.global_variables_initializer())\n",
    "    for i in range(1000):\n",
    "        # type 可以不指定形式，数据初始读入的时候已经指定\n",
    "        # 注意 y 为列向量时，这里需要 reshape，可能是因为向量默认是行的\n",
    "        # 这里 x 传入的是行向量\n",
    "        feed_dict = {x_placeholder:xtrain.astype(float), y_placeholder:ytrain.reshape(200,1).astype(float)}\n",
    "        sess.run(train_step, feed_dict=feed_dict)\n",
    "        cost_value = sess.run(cost, feed_dict=feed_dict)\n",
    "        costs.append(cost_value)\n",
    "        if i % 200 == 0:\n",
    "            preds = sess.run(final_output, feed_dict=feed_dict)\n",
    "            # accuracy 也需要 reshape，原因也是因为向量默认是行的\n",
    "            print(accuracy(preds, ytrain.reshape(len(ytrain),1)))\n",
    "\"\"\"    W1L1, b1L1 = (sess.run([W1, b1]))\n",
    "    W1L2, b1L2 = (sess.run([W2, b2]))\n",
    "\n",
    "\n",
    "\n",
    "print(__doc__)\n",
    "\n",
    "from itertools import product\n",
    "\n",
    "import numpy as np\n",
    "import matplotlib.pyplot as plt\n",
    "from mpl_toolkits.mplot3d import Axes3D\n",
    "\n",
    "from sklearn import datasets\n",
    "from sklearn.tree import DecisionTreeClassifier\n",
    "from sklearn.neighbors import KNeighborsClassifier\n",
    "from sklearn.svm import SVC\n",
    "from sklearn.ensemble import VotingClassifier\n",
    "\n",
    "# Loading some example data\n",
    "#iris = datasets.load_iris()\n",
    "#X = iris.data[:, [0, 2]]\n",
    "#y = iris.target\n",
    "# X.shape = 150, 2\n",
    "X = xtrain\n",
    "# y.shape = 150,\n",
    "y = ytrain\n",
    "\n",
    "# Training classifiers\n",
    "#clf1 = DecisionTreeClassifier(max_depth=4)\n",
    "#clf1.fit(X, y)\n",
    "\n",
    "def sigmoid(x):\n",
    "    return 1/(1+np.e ** (-x))\n",
    "\n",
    "# Plotting decision regions\n",
    "x_min, x_max = X[:, 0].min() - 1, X[:, 0].max() + 1\n",
    "y_min, y_max = X[:, 1].min() - 1, X[:, 1].max() + 1\n",
    "xx, yy = np.meshgrid(np.arange(x_min, x_max, 0.1),\n",
    "                     np.arange(y_min, y_max, 0.1))\n",
    "\n",
    "f = plt.figure(figsize=(10,4))\n",
    "\n",
    "\n",
    "temp = np.c_[xx.ravel(), yy.ravel()]\n",
    "M1L = np.tanh(temp.dot(W1L1) + b1L1)\n",
    "M2L = sigmoid(M1L.dot(W1L2) + b1L2)\n",
    "\n",
    "\n",
    "Z = M2L.reshape(xx.shape)\n",
    "\n",
    "ax0 = f.add_subplot(121,)\n",
    "ax0.contourf(xx, yy, Z, alpha=0.4)\n",
    "ax0.scatter(X[:, 0], X[:, 1], c=y, alpha=0.8)\n",
    "ax0.set_title(\"1 Layer\")\n",
    "\n",
    "ax1 = f.add_subplot(122, projection='3d')\n",
    "ax1.scatter(xx.ravel(), yy.ravel(), Z.ravel(), alpha=0.4)\n",
    "ax1.scatter(X[:, 0], X[:, 1], c=y, alpha=0.8)\n",
    "\n",
    "plt.show()\"\"\""
   ]
  },
  {
   "cell_type": "markdown",
   "metadata": {},
   "source": [
    "## layer.desnse2"
   ]
  },
  {
   "cell_type": "code",
   "execution_count": 178,
   "metadata": {
    "collapsed": true
   },
   "outputs": [],
   "source": [
    "raw_data = np.loadtxt('../w3_Tensorflow-NN/data.csv', delimiter=',', usecols=(0,1,2), unpack=True)\n",
    "xtrain = np.array(raw_data[:2,:].T,dtype=np.float32)\n",
    "ytrain = np.array(raw_data[2, :], dtype=np.float32)"
   ]
  },
  {
   "cell_type": "code",
   "execution_count": 180,
   "metadata": {},
   "outputs": [
    {
     "data": {
      "text/plain": [
       "(200, 2)"
      ]
     },
     "execution_count": 180,
     "metadata": {},
     "output_type": "execute_result"
    }
   ],
   "source": [
    "xtrain.shape"
   ]
  },
  {
   "cell_type": "code",
   "execution_count": 179,
   "metadata": {
    "collapsed": true
   },
   "outputs": [],
   "source": [
    "def accuracy(preds, labels):\n",
    "    return ((preds > 0.5) == labels).sum() / float(len(labels))"
   ]
  },
  {
   "cell_type": "code",
   "execution_count": 184,
   "metadata": {},
   "outputs": [
    {
     "name": "stdout",
     "output_type": "stream",
     "text": [
      "0.54\n",
      "0.875\n",
      "0.94\n",
      "0.975\n",
      "1.0\n",
      "1.0\n",
      "1.0\n",
      "1.0\n",
      "1.0\n",
      "1.0\n"
     ]
    }
   ],
   "source": [
    "x_placeholder = tf.placeholder('float', [None, 2])\n",
    "y_placeholder = tf.placeholder('float', [None, 1])\n",
    "\n",
    "n = 5\n",
    "\n",
    "hidden = tf.layers.dense(inputs=x_placeholder, units=n, activation=tf.tanh)\n",
    "nn_raw_output = tf.layers.dense(inputs=hidden, units=1, activation=None)\n",
    "final_output = tf.sigmoid(nn_raw_output)\n",
    "\n",
    "\n",
    "cost = tf.reduce_mean(tf.nn.sigmoid_cross_entropy_with_logits(logits=nn_raw_output, labels=y_placeholder))\n",
    "\n",
    "train_step = tf.train.GradientDescentOptimizer(0.1).minimize(cost)\n",
    "costs = []\n",
    "with tf.Session() as sess:\n",
    "    sess.run(tf.global_variables_initializer())\n",
    "    for i in range(2000):\n",
    "        # type 可以不指定形式，数据初始读入的时候已经指定\n",
    "        # 注意 y 为列向量时，这里需要 reshape，可能是因为向量默认是行的\n",
    "        # 这里 x 传入的是行向量\n",
    "        feed_dict = {x_placeholder:xtrain.astype(float), y_placeholder:ytrain.reshape(200,1).astype(float)}\n",
    "        sess.run(train_step, feed_dict=feed_dict)\n",
    "        cost_value = sess.run(cost, feed_dict=feed_dict)\n",
    "        costs.append(cost_value)\n",
    "        if i % 200 == 0:\n",
    "            preds = sess.run(final_output, feed_dict=feed_dict)\n",
    "            # accuracy 也需要 reshape，原因也是因为向量默认是行的\n",
    "            print(accuracy(preds, ytrain.reshape(len(ytrain),1)))"
   ]
  },
  {
   "cell_type": "markdown",
   "metadata": {},
   "source": [
    "# 作业3\n",
    "\n",
    "为什么取这个矩阵的某一行，和这个词出现的时候做矩阵乘法，结果是一样的呢？"
   ]
  },
  {
   "cell_type": "code",
   "execution_count": null,
   "metadata": {
    "collapsed": true
   },
   "outputs": [],
   "source": []
  },
  {
   "cell_type": "code",
   "execution_count": null,
   "metadata": {
    "collapsed": true
   },
   "outputs": [],
   "source": []
  },
  {
   "cell_type": "markdown",
   "metadata": {},
   "source": [
    "## 构建一个词的 Word Embedding\n",
    "\n",
    "在构建统计语言模型的时候，我们把所有看到的词都放入了 dict 里面，这时候影响不大，因为每个词占用的内存较小。  \n",
    "在使用神经网络做自然语言处理的时候，我们一般都会对词表做一个截断操作，取最高频的 n 个（也有人按词频阈值做截断）。  \n",
    "\n",
    "这样有两个好处：\n",
    "- 减少模型的内存使用。\n",
    "- 只出现过一两次的词，在整个优化过程中往往也很难学好。不如把这些词直接全看成未登录词。\n"
   ]
  },
  {
   "cell_type": "code",
   "execution_count": 2,
   "metadata": {
    "collapsed": true
   },
   "outputs": [],
   "source": [
    "tf.reset_default_graph()"
   ]
  },
  {
   "cell_type": "code",
   "execution_count": 3,
   "metadata": {
    "collapsed": true
   },
   "outputs": [],
   "source": [
    "# 决定了 embedding 的维度 （隐层节点数）\n",
    "word_embedding_dim = 128\n",
    "# 决定了词表数量, 预留一个未登录词\n",
    "vocab_size = 80000 + 1\n",
    "UNK_IDX = 0\n",
    "\n",
    "# 这里需要把 Word embedding 放到 Variable 里面。因为 Word embedding 是要随机初始化，跟着数据不断变化的。\n",
    "# 它相当于普通神经网络中的权重。\n",
    "\n",
    "# 在梯度下降时， tensorflow 的 Optimizer 会自动找到 Graph 中的 Variable，计算梯度并进行更新。\n",
    "word_embedding = tf.Variable(tf.random_uniform([vocab_size, word_embedding_dim]))\n",
    "\n",
    "# placeholder 和 variable 基本都可以当做 Tensor 来用\n",
    "# 注意这里的输入是 int32 类型，表示一个词 ID。\n",
    "# 这里我们需要对数据进行预处理，以把高频词映射到 [1, 80000] 之间，不在词表里面的词设置成 UNK, ID 为 0\n",
    "# 这里我们假设输入是两个词\n",
    "\n",
    "# 这里 Shape 的第一维我们指定为 None，是表示第一维可以根据数据进行变化，因此同样一个程序可以适应梯度下降时不同的 batch_size\n",
    "input_data = tf.placeholder(tf.int32, shape=[None, 2], name='input_data')\n",
    "\n",
    "input_embeds = tf.nn.embedding_lookup(word_embedding, input_data)"
   ]
  },
  {
   "cell_type": "code",
   "execution_count": 7,
   "metadata": {},
   "outputs": [
    {
     "data": {
      "text/plain": [
       "<tensorflow.python.ops.variables.Variable at 0x7f00e8da5ed0>"
      ]
     },
     "execution_count": 7,
     "metadata": {},
     "output_type": "execute_result"
    }
   ],
   "source": [
    "word_embedding"
   ]
  },
  {
   "cell_type": "code",
   "execution_count": 8,
   "metadata": {},
   "outputs": [
    {
     "data": {
      "text/plain": [
       "<tf.Tensor 'input_data:0' shape=(?, 2) dtype=int32>"
      ]
     },
     "execution_count": 8,
     "metadata": {},
     "output_type": "execute_result"
    }
   ],
   "source": [
    "input_data"
   ]
  },
  {
   "cell_type": "code",
   "execution_count": 10,
   "metadata": {
    "collapsed": true
   },
   "outputs": [],
   "source": [
    "tf.nn.embedding_lookup?"
   ]
  },
  {
   "cell_type": "markdown",
   "metadata": {},
   "source": [
    "因为 input_data 是一个二维矩阵，lookup 之后得到的其实是一个『三维的矩阵』  \n",
    "怎么理解呢？如果我们一个样本有两个词，拿到的就是矩阵的两行，因此是一个矩阵  \n",
    "但是我们同时有多个样本，因此需要对这个矩阵再『扩张』一个维度。而这个维度因为数据还未给出，大小是未知的"
   ]
  },
  {
   "cell_type": "code",
   "execution_count": 153,
   "metadata": {},
   "outputs": [
    {
     "data": {
      "text/plain": [
       "<tf.Tensor 'embedding_lookup:0' shape=(?, 2, 128) dtype=float32>"
      ]
     },
     "execution_count": 153,
     "metadata": {},
     "output_type": "execute_result"
    }
   ],
   "source": [
    "input_embeds"
   ]
  },
  {
   "cell_type": "markdown",
   "metadata": {},
   "source": [
    "### 两个词的向量做相加"
   ]
  },
  {
   "cell_type": "code",
   "execution_count": 11,
   "metadata": {
    "collapsed": true
   },
   "outputs": [],
   "source": [
    "# reduce 开头的函数一般有一个 axis 参数，决定按行、按列或者按整个矩阵进行 reduce\n",
    "context_embeds = tf.reduce_sum(input_embeds, axis=1)"
   ]
  },
  {
   "cell_type": "code",
   "execution_count": 12,
   "metadata": {},
   "outputs": [
    {
     "data": {
      "text/plain": [
       "<tf.Tensor 'Sum:0' shape=(?, 128) dtype=float32>"
      ]
     },
     "execution_count": 12,
     "metadata": {},
     "output_type": "execute_result"
    }
   ],
   "source": [
    "# 注意观察 context_embds 的 shape\n",
    "# 因为 placeholder 第一位的维度是 None，这里 TF 没法确切知道第一维最后的 shape\n",
    "context_embeds"
   ]
  },
  {
   "cell_type": "markdown",
   "metadata": {},
   "source": [
    "### 相加的词向量再映射到 N 个词的概率分布"
   ]
  },
  {
   "cell_type": "code",
   "execution_count": 13,
   "metadata": {
    "collapsed": true
   },
   "outputs": [],
   "source": [
    "# 激活之前的输出\n",
    "raw_output = tf.layers.dense(context_embeds, vocab_size)"
   ]
  },
  {
   "cell_type": "code",
   "execution_count": 14,
   "metadata": {
    "collapsed": true
   },
   "outputs": [],
   "source": [
    "# 加 softmax 之后的输出\n",
    "output = tf.nn.softmax(raw_output)"
   ]
  },
  {
   "cell_type": "code",
   "execution_count": 16,
   "metadata": {
    "collapsed": true
   },
   "outputs": [],
   "source": [
    "tf.layers.dense?"
   ]
  },
  {
   "cell_type": "code",
   "execution_count": 158,
   "metadata": {
    "collapsed": true
   },
   "outputs": [],
   "source": [
    "import numpy as np"
   ]
  },
  {
   "cell_type": "code",
   "execution_count": 18,
   "metadata": {},
   "outputs": [
    {
     "name": "stdout",
     "output_type": "stream",
     "text": [
      "[[  1.26213718e-05   1.18030230e-05   1.35719974e-05   1.11542940e-05\n",
      "    1.39103313e-05   1.25215029e-05   1.27418898e-05   1.16715064e-05\n",
      "    1.27963949e-05   1.22305401e-05]]\n"
     ]
    }
   ],
   "source": [
    "with tf.Session() as sess:\n",
    "    # 因为引入了 variable，所以需要进行初始化\n",
    "    sess.run(tf.global_variables_initializer())\n",
    "    # 输出的矩阵比较大，我们只看前 10 列\n",
    "    print(sess.run(output, feed_dict={input_data: np.asarray([[1, 2]])})[:, :10])"
   ]
  },
  {
   "cell_type": "markdown",
   "metadata": {},
   "source": [
    "同第三讲示例代码中的类似 (sigmoid + cross entropy)，softmax 配合 cross entropy 的时候，在求导时两个连着看，也可以做分母的消除，因此在计算 cost 的时候我们要把 raw_output 喂给 tf 的这个损失函数"
   ]
  },
  {
   "cell_type": "code",
   "execution_count": 19,
   "metadata": {
    "collapsed": true
   },
   "outputs": [],
   "source": [
    "# 样本的 labels 也需要用 placeholder 放置\n",
    "labels = tf.placeholder(tf.int32, shape=[None], name='labels')\n",
    "\n",
    "# 因为我们每个样本的 label 只有一个，使用稠密的 softmax 算 cost 及求导太浪费了。这里使用 sparse 版本即可。\n",
    "# 如果你的 label 是完整的 N 个词上的概率分布，这时候可以使用 tf.nn.softmax_cross_entropy_with_logits\n",
    "cost = tf.nn.sparse_softmax_cross_entropy_with_logits(logits=raw_output, labels=labels)"
   ]
  },
  {
   "cell_type": "code",
   "execution_count": 22,
   "metadata": {},
   "outputs": [
    {
     "name": "stdout",
     "output_type": "stream",
     "text": [
      "Iteration 0\n",
      "Cost: 9.525263\n",
      "Probability: 0.000073\n",
      "------\n",
      "Iteration 20\n",
      "Cost: 0.038387\n",
      "Probability: 0.962340\n",
      "------\n",
      "Iteration 40\n",
      "Cost: 0.016868\n",
      "Probability: 0.983274\n",
      "------\n",
      "Iteration 60\n",
      "Cost: 0.010157\n",
      "Probability: 0.989894\n",
      "------\n",
      "Iteration 80\n",
      "Cost: 0.008024\n",
      "Probability: 0.992008\n",
      "------\n"
     ]
    }
   ],
   "source": [
    "train_step = tf.train.GradientDescentOptimizer(0.01).minimize(cost)\n",
    "with tf.Session() as sess:\n",
    "    sess.run(tf.global_variables_initializer())\n",
    "    dummy_feed_dict = {input_data: np.asarray([[1, 2]]),\n",
    "                       labels: np.asarray([3])}\n",
    "    for i in range(100):\n",
    "        sess.run(train_step, feed_dict=dummy_feed_dict)\n",
    "        if i % 20 == 0:\n",
    "            print(\"Iteration %d\" % i)\n",
    "            print(\"Cost: %f\" % cost.eval(feed_dict=dummy_feed_dict)[0])\n",
    "            # 查看输出中 ID == 3 的概率\n",
    "            print(\"Probability: %f\" % output.eval(feed_dict=dummy_feed_dict)[0, 3])\n",
    "            print(\"------\")"
   ]
  },
  {
   "cell_type": "markdown",
   "metadata": {},
   "source": [
    "## 作业4\n",
    "\n",
    "请根据这个基本的框架程序进行扩展，使用你的语料库进行训练。并完成 3 个名词各自最相近的 Top 10 个词的检索"
   ]
  },
  {
   "cell_type": "code",
   "execution_count": 221,
   "metadata": {},
   "outputs": [
    {
     "name": "stdout",
     "output_type": "stream",
     "text": [
      "1.0.1\n"
     ]
    }
   ],
   "source": [
    "%matplotlib inline\n",
    "from collections import Counter\n",
    "import jieba\n",
    "import numpy as np\n",
    "import matplotlib.pyplot as plt\n",
    "import tensorflow as tf\n",
    "print(tf.__version__)"
   ]
  },
  {
   "cell_type": "markdown",
   "metadata": {},
   "source": [
    "### 定义参数"
   ]
  },
  {
   "cell_type": "code",
   "execution_count": 222,
   "metadata": {
    "collapsed": true
   },
   "outputs": [],
   "source": [
    "# 决定了 embedding 的维度 （隐层节点数）\n",
    "word_embedding_dim = 30\n",
    "# 决定了词表数量, 预留一个未登录词\n",
    "vocab_size = 400 + 1\n",
    "UNK_IDX = 0"
   ]
  },
  {
   "cell_type": "markdown",
   "metadata": {},
   "source": [
    "### 定义变量"
   ]
  },
  {
   "cell_type": "code",
   "execution_count": 223,
   "metadata": {},
   "outputs": [],
   "source": [
    "word_embedding = tf.Variable(tf.random_uniform([vocab_size, word_embedding_dim]))\n",
    "input_data = tf.placeholder(tf.int32, shape=[None, 2], name='input_data')\n",
    "input_embeds = tf.nn.embedding_lookup(word_embedding, input_data)"
   ]
  },
  {
   "cell_type": "markdown",
   "metadata": {},
   "source": [
    "### 词向量相加"
   ]
  },
  {
   "cell_type": "code",
   "execution_count": 224,
   "metadata": {},
   "outputs": [],
   "source": [
    "context_embeds = tf.reduce_sum(input_embeds, axis=1)"
   ]
  },
  {
   "cell_type": "code",
   "execution_count": 225,
   "metadata": {},
   "outputs": [
    {
     "data": {
      "text/plain": [
       "<tf.Tensor 'Sum_1:0' shape=(?, 30) dtype=float32>"
      ]
     },
     "execution_count": 225,
     "metadata": {},
     "output_type": "execute_result"
    }
   ],
   "source": [
    "context_embeds"
   ]
  },
  {
   "cell_type": "markdown",
   "metadata": {},
   "source": [
    "### 映射到 N 个词的概率分布"
   ]
  },
  {
   "cell_type": "code",
   "execution_count": 226,
   "metadata": {
    "collapsed": true
   },
   "outputs": [],
   "source": [
    "# raw_output 是一个 vocab_size 维的数据，对比 labels 计算 cost\n",
    "# 假设输入一组（也就是 两个词），输出因为词向量相加过了，所以就是一个词的词向量：one-hot？\n",
    "raw_output = tf.layers.dense(context_embeds, vocab_size)\n",
    "# 如果输入一组，输出的 softmax 是预测的 one-hot 的概率分布？最可能的那个输出词概率最大？\n",
    "output = tf.nn.softmax(raw_output)"
   ]
  },
  {
   "cell_type": "code",
   "execution_count": 227,
   "metadata": {
    "scrolled": true
   },
   "outputs": [
    {
     "data": {
      "text/plain": [
       "<tf.Tensor 'dense_10/BiasAdd:0' shape=(?, 401) dtype=float32>"
      ]
     },
     "execution_count": 227,
     "metadata": {},
     "output_type": "execute_result"
    }
   ],
   "source": [
    "raw_output"
   ]
  },
  {
   "cell_type": "code",
   "execution_count": 228,
   "metadata": {},
   "outputs": [
    {
     "data": {
      "text/plain": [
       "<tf.Tensor 'Softmax_1:0' shape=(?, 401) dtype=float32>"
      ]
     },
     "execution_count": 228,
     "metadata": {},
     "output_type": "execute_result"
    }
   ],
   "source": [
    "output"
   ]
  },
  {
   "cell_type": "markdown",
   "metadata": {},
   "source": [
    "### cost"
   ]
  },
  {
   "cell_type": "code",
   "execution_count": 229,
   "metadata": {
    "collapsed": true
   },
   "outputs": [],
   "source": [
    "# 样本的 labels 也需要用 placeholder 放置\n",
    "labels = tf.placeholder(tf.int32, shape=[None], name='labels')\n",
    "\n",
    "# 因为我们每个样本的 label 只有一个，使用稠密的 softmax 算 cost 及求导太浪费了。这里使用 sparse 版本即可。\n",
    "# 如果你的 label 是完整的 N 个词上的概率分布，这时候可以使用 tf.nn.softmax_cross_entropy_with_logits\n",
    "cost = tf.nn.sparse_softmax_cross_entropy_with_logits(logits=raw_output, labels=labels)"
   ]
  },
  {
   "cell_type": "markdown",
   "metadata": {},
   "source": [
    "### 读取语料，生成训练数据"
   ]
  },
  {
   "cell_type": "code",
   "execution_count": 195,
   "metadata": {},
   "outputs": [],
   "source": [
    "#with open('../AssisantEvaluate/xiyouji.txt') as f:\n",
    "#    corpus = f.read(9995)\n",
    "#words = [w for w in jieba.cut(corpus.strip().decode('utf-8')) if w not in ' \\n']"
   ]
  },
  {
   "cell_type": "code",
   "execution_count": 207,
   "metadata": {},
   "outputs": [],
   "source": [
    "import jieba\n",
    "import jieba.posseg as pseg\n",
    "line_no = 0\n",
    "words = []\n",
    "with open('../AssisantEvaluate/xiyouji.txt', 'r') as f:\n",
    "    for line in f.readlines():\n",
    "        line_no += 1\n",
    "        if line_no > 1000:\n",
    "            break\n",
    "        word = pseg.cut(line.strip().decode('utf-8')) # 去掉末尾的 '\\n'\n",
    "        for w,f in word:\n",
    "            if f == 'x':\n",
    "                continue\n",
    "            words.append(w)"
   ]
  },
  {
   "cell_type": "code",
   "execution_count": 208,
   "metadata": {},
   "outputs": [
    {
     "data": {
      "text/plain": [
       "12951"
      ]
     },
     "execution_count": 208,
     "metadata": {},
     "output_type": "execute_result"
    }
   ],
   "source": [
    "len(words)"
   ]
  },
  {
   "cell_type": "code",
   "execution_count": 209,
   "metadata": {},
   "outputs": [],
   "source": [
    "# 统计词频\n",
    "word_cnt = Counter(words)"
   ]
  },
  {
   "cell_type": "code",
   "execution_count": 210,
   "metadata": {},
   "outputs": [
    {
     "data": {
      "text/plain": [
       "4271"
      ]
     },
     "execution_count": 210,
     "metadata": {},
     "output_type": "execute_result"
    }
   ],
   "source": [
    "len(word_cnt)"
   ]
  },
  {
   "cell_type": "code",
   "execution_count": 211,
   "metadata": {},
   "outputs": [],
   "source": [
    "# 高频截断\n",
    "vocab = [i[0] for i in word_cnt.most_common(vocab_size - 1)]"
   ]
  },
  {
   "cell_type": "code",
   "execution_count": 212,
   "metadata": {
    "collapsed": true
   },
   "outputs": [],
   "source": [
    "vocab2 = [i for i in word_cnt.most_common(vocab_size - 1)]"
   ]
  },
  {
   "cell_type": "code",
   "execution_count": 213,
   "metadata": {
    "collapsed": true
   },
   "outputs": [],
   "source": [
    "# 插入未登录词\n",
    "vocab.insert(UNK_IDX, 'UNK')"
   ]
  },
  {
   "cell_type": "code",
   "execution_count": 214,
   "metadata": {},
   "outputs": [
    {
     "data": {
      "text/plain": [
       "401"
      ]
     },
     "execution_count": 214,
     "metadata": {},
     "output_type": "execute_result"
    }
   ],
   "source": [
    "len(vocab)"
   ]
  },
  {
   "cell_type": "code",
   "execution_count": 215,
   "metadata": {
    "collapsed": true
   },
   "outputs": [],
   "source": [
    "# 映射 id\n",
    "word_ids = [vocab.index(word) if (word in vocab) else 0\n",
    "            for word in words]"
   ]
  },
  {
   "cell_type": "code",
   "execution_count": 216,
   "metadata": {},
   "outputs": [
    {
     "data": {
      "text/plain": [
       "12951"
      ]
     },
     "execution_count": 216,
     "metadata": {},
     "output_type": "execute_result"
    }
   ],
   "source": [
    "len(word_ids)"
   ]
  },
  {
   "cell_type": "code",
   "execution_count": 217,
   "metadata": {
    "collapsed": true
   },
   "outputs": [],
   "source": [
    "# 生成训练数据\n",
    "inputs_train = np.asarray(\n",
    "                [[word_ids[i-1], word_ids[i+1]] for i in range(1, len(word_ids) - 1)])\n",
    "labels_train = np.asarray(word_ids[1:-1])"
   ]
  },
  {
   "cell_type": "code",
   "execution_count": 218,
   "metadata": {},
   "outputs": [
    {
     "data": {
      "text/plain": [
       "(12949, 2)"
      ]
     },
     "execution_count": 218,
     "metadata": {},
     "output_type": "execute_result"
    }
   ],
   "source": [
    "inputs_train.shape"
   ]
  },
  {
   "cell_type": "code",
   "execution_count": 219,
   "metadata": {},
   "outputs": [
    {
     "data": {
      "text/plain": [
       "(12949,)"
      ]
     },
     "execution_count": 219,
     "metadata": {},
     "output_type": "execute_result"
    }
   ],
   "source": [
    "labels_train.shape"
   ]
  },
  {
   "cell_type": "markdown",
   "metadata": {},
   "source": [
    "### 训练模型"
   ]
  },
  {
   "cell_type": "code",
   "execution_count": 269,
   "metadata": {},
   "outputs": [
    {
     "name": "stdout",
     "output_type": "stream",
     "text": [
      "Iteration 0\n",
      "Cost 矩阵：\n",
      "[  0.           0.           0.         ...,   0.          36.60704803\n",
      "  34.88500977]\n",
      "cost 长度：12949\n",
      "Output 长度: 401\n",
      "(12949, 401)\n",
      "(401,)\n",
      "Output 矩阵：\n",
      "[[  1.00000000e+00   1.38533033e-16   1.41822591e-16 ...,   1.93322598e-17\n",
      "    2.44685832e-17   1.44610329e-17]\n",
      " [  1.00000000e+00   1.38533033e-16   1.41822591e-16 ...,   1.93322598e-17\n",
      "    2.44685832e-17   1.44610329e-17]\n",
      " [  1.00000000e+00   1.38533033e-16   1.41822591e-16 ...,   1.93322598e-17\n",
      "    2.44685832e-17   1.44610329e-17]\n",
      " ..., \n",
      " [  1.00000000e+00   5.87517976e-15   6.57321623e-15 ...,   1.13659455e-15\n",
      "    1.30988510e-15   8.18552100e-16]\n",
      " [  1.00000000e+00   8.02998563e-16   9.59594520e-16 ...,   1.09573188e-16\n",
      "    1.27951169e-16   8.47271705e-17]\n",
      " [  1.00000000e+00   5.87517976e-15   6.57321623e-15 ...,   1.13659455e-15\n",
      "    1.30988510e-15   8.18552100e-16]]\n",
      "Probability: 0.000000\n",
      "------\n",
      "Iteration 200\n",
      "Cost 矩阵：\n",
      "[ 0.17699558  0.17699558  0.17699558 ...,  1.13401961  6.96126509\n",
      "  6.78962612]\n",
      "cost 长度：12949\n",
      "Output 长度: 401\n",
      "(12949, 401)\n",
      "(401,)\n",
      "Output 矩阵：\n",
      "[[  8.37783515e-01   1.92092685e-03   5.51088480e-03 ...,   9.00866507e-05\n",
      "    1.76385976e-04   1.17271375e-04]\n",
      " [  8.37783515e-01   1.92092685e-03   5.51088480e-03 ...,   9.00866507e-05\n",
      "    1.76385976e-04   1.17271375e-04]\n",
      " [  8.37783515e-01   1.92092685e-03   5.51088480e-03 ...,   9.00866507e-05\n",
      "    1.76385976e-04   1.17271375e-04]\n",
      " ..., \n",
      " [  3.21737409e-01   1.85810048e-02   1.92857552e-02 ...,   7.71513151e-04\n",
      "    6.73279050e-04   5.61385707e-04]\n",
      " [  2.31672496e-01   1.79185998e-02   1.97735615e-02 ...,   7.71221123e-04\n",
      "    6.43115956e-04   6.31518371e-04]\n",
      " [  3.21737409e-01   1.85810048e-02   1.92857552e-02 ...,   7.71513151e-04\n",
      "    6.73279050e-04   5.61385707e-04]]\n",
      "Probability: 0.001413\n",
      "------\n",
      "Iteration 400\n",
      "Cost 矩阵：\n",
      "[ 0.34520075  0.34520075  0.34520075 ...,  1.31017804  6.9781847\n",
      "  6.62125301]\n",
      "cost 长度：12949\n",
      "Output 长度: 401\n",
      "(12949, 401)\n",
      "(401,)\n",
      "Output 矩阵：\n",
      "[[  7.08078206e-01   4.35198378e-03   1.11204423e-02 ...,   1.23087128e-04\n",
      "    2.43502640e-04   1.41265526e-04]\n",
      " [  7.08078206e-01   4.35198378e-03   1.11204423e-02 ...,   1.23087128e-04\n",
      "    2.43502640e-04   1.41265526e-04]\n",
      " [  7.08078206e-01   4.35198378e-03   1.11204423e-02 ...,   1.23087128e-04\n",
      "    2.43502640e-04   1.41265526e-04]\n",
      " ..., \n",
      " [  2.69772023e-01   2.39162184e-02   1.69181004e-02 ...,   8.35769286e-04\n",
      "    6.46373141e-04   4.74464206e-04]\n",
      " [  2.52770364e-01   1.20781446e-02   1.19486488e-02 ...,   8.00107315e-04\n",
      "    5.96435391e-04   5.18057379e-04]\n",
      " [  2.69772023e-01   2.39162184e-02   1.69181004e-02 ...,   8.35769286e-04\n",
      "    6.46373141e-04   4.74463974e-04]]\n",
      "Probability: 0.002848\n",
      "------\n",
      "Iteration 600\n",
      "Cost 矩阵：\n",
      "[ 0.31759366  0.31759366  0.31759366 ...,  0.97514498  7.05644131\n",
      "  6.3709693 ]\n",
      "cost 长度：12949\n",
      "Output 长度: 401\n",
      "(12949, 401)\n",
      "(401,)\n",
      "Output 矩阵：\n",
      "[[  7.27898479e-01   3.90821323e-03   1.03474120e-02 ...,   6.56916891e-05\n",
      "    2.05740158e-04   8.86434937e-05]\n",
      " [  7.27898479e-01   3.90821323e-03   1.03474120e-02 ...,   6.56916891e-05\n",
      "    2.05740158e-04   8.86434937e-05]\n",
      " [  7.27898479e-01   3.90821323e-03   1.03474120e-02 ...,   6.56916891e-05\n",
      "    2.05740158e-04   8.86434937e-05]\n",
      " ..., \n",
      " [  3.77137661e-01   2.72633079e-02   1.15564251e-02 ...,   5.56819665e-04\n",
      "    5.44391398e-04   3.17061960e-04]\n",
      " [  4.44906265e-01   7.29884207e-03   6.00960618e-03 ...,   5.37459098e-04\n",
      "    4.86016652e-04   3.32614523e-04]\n",
      " [  3.77137661e-01   2.72633079e-02   1.15564251e-02 ...,   5.56819665e-04\n",
      "    5.44391398e-04   3.17062106e-04]]\n",
      "Probability: 0.002514\n",
      "------\n",
      "Iteration 800\n",
      "Cost 矩阵：\n",
      "[ 0.44691733  0.44691733  0.44691733 ...,  0.56794846  7.37452173\n",
      "  6.40751648]\n",
      "cost 长度：12949\n",
      "Output 长度: 401\n",
      "(12949, 401)\n",
      "(401,)\n",
      "Output 矩阵：\n",
      "[[  6.39596760e-01   5.04862238e-03   1.23767108e-02 ...,   7.67300880e-05\n",
      "    2.77485757e-04   1.05364808e-04]\n",
      " [  6.39596760e-01   5.04862238e-03   1.23767108e-02 ...,   7.67300880e-05\n",
      "    2.77485757e-04   1.05364808e-04]\n",
      " [  6.39596760e-01   5.04862238e-03   1.23767108e-02 ...,   7.67300880e-05\n",
      "    2.77485757e-04   1.05364808e-04]\n",
      " ..., \n",
      " [  5.66686809e-01   2.60879342e-02   5.20758983e-03 ...,   3.31540097e-04\n",
      "    3.69168818e-04   1.81516225e-04]\n",
      " [  6.84758008e-01   3.54714366e-03   2.14705896e-03 ...,   3.15693993e-04\n",
      "    2.98888946e-04   1.71287727e-04]\n",
      " [  5.66686809e-01   2.60879342e-02   5.20758983e-03 ...,   3.31540097e-04\n",
      "    3.69168818e-04   1.81516225e-04]]\n",
      "Probability: 0.003228\n",
      "------\n"
     ]
    }
   ],
   "source": [
    "train_step = tf.train.GradientDescentOptimizer(0.0002).minimize(cost)\n",
    "with tf.Session() as sess:\n",
    "    sess.run(tf.global_variables_initializer())\n",
    "    dummy_feed_dict = {input_data: inputs_train,\n",
    "                       labels: labels_train}\n",
    "    for i in range(1000):\n",
    "        sess.run(train_step, feed_dict=dummy_feed_dict)\n",
    "        if i % 200 == 0:\n",
    "            print(\"Iteration %d\" % i)\n",
    "            print(\"Cost 矩阵：\")\n",
    "            print(cost.eval(feed_dict=dummy_feed_dict))\n",
    "            print(\"cost 长度：%d\" % len(cost.eval(feed_dict=dummy_feed_dict)))\n",
    "            # 查看输出中 ID == 30 的概率\n",
    "            print(\"Output 长度: %d\" % len(output.eval(feed_dict=dummy_feed_dict)[0]))\n",
    "            print(output.eval(feed_dict=dummy_feed_dict).shape)\n",
    "            print(output.eval(feed_dict=dummy_feed_dict)[0].shape)\n",
    "            print(\"Output 矩阵：\")\n",
    "            print(output.eval(feed_dict=dummy_feed_dict))\n",
    "            print(\"Probability: %f\" % output.eval(feed_dict=dummy_feed_dict)[1, 30])\n",
    "            print(\"------\")\n",
    "            # 词向量是 context_embeds 吗？\n",
    "            allwords_embedding = context_embeds.eval(feed_dict=dummy_feed_dict)\n",
    "            test = raw_output.eval(feed_dict=dummy_feed_dict)"
   ]
  },
  {
   "cell_type": "markdown",
   "metadata": {},
   "source": [
    "### 计算近义词"
   ]
  },
  {
   "cell_type": "code",
   "execution_count": 265,
   "metadata": {
    "collapsed": true
   },
   "outputs": [],
   "source": [
    "def sim_words(word, top_k=10):\n",
    "    \n",
    "    a = allwords_embedding\n",
    "    id_ = vocab.index(word.decode('utf-8'))\n",
    "    \n",
    "    len_array = np.diag(a.dot(a.T)) ** 0.5\n",
    "    cos_array = a.dot(a[id_]) / len_array\n",
    "    cos_dict = dict(zip(cos_array, words[1:-1]))\n",
    "    sort_cos_dict = sorted(cos_dict.items(), key=lambda x: x[0], reverse=True)\n",
    "    \n",
    "    \n",
    "    return sort_cos_dict[0:top_k]"
   ]
  },
  {
   "cell_type": "code",
   "execution_count": 271,
   "metadata": {},
   "outputs": [
    {
     "name": "stdout",
     "output_type": "stream",
     "text": [
      "2.64695 方法\n",
      "2.16307 不足\n",
      "2.14865 物资\n",
      "2.0807 诗\n",
      "2.03983 来\n",
      "2.03324 铜环\n",
      "1.96969 潜灵\n",
      "1.93315 孙悟空\n",
      "1.92911 故\n",
      "1.92464 不下\n"
     ]
    }
   ],
   "source": [
    "result = sim_words('三藏')\n",
    "for k,v in result:\n",
    "    print k,v"
   ]
  },
  {
   "cell_type": "code",
   "execution_count": 261,
   "metadata": {},
   "outputs": [
    {
     "name": "stdout",
     "output_type": "stream",
     "text": [
      "道 299\n",
      "了 273\n",
      "我 265\n",
      "他 215\n",
      "的 213\n",
      "你 207\n",
      "那 160\n",
      "是 146\n",
      "三藏 139\n",
      "行者 117\n",
      "有 115\n",
      "去 95\n",
      "这 92\n",
      "又 92\n",
      "来 90\n",
      "也 84\n",
      "在 83\n",
      "不 76\n",
      "师父 70\n",
      "见 65\n"
     ]
    }
   ],
   "source": [
    "for w,c in vocab2[0:20]:\n",
    "    print(\"%s %d\" % (w, c))"
   ]
  },
  {
   "cell_type": "markdown",
   "metadata": {
    "collapsed": true
   },
   "source": [
    "### 另一种方法计算相似度"
   ]
  },
  {
   "cell_type": "code",
   "execution_count": 1,
   "metadata": {
    "collapsed": true
   },
   "outputs": [],
   "source": [
    "from sklearn.metrics.pairwise import cosine_similarity\n",
    "from scipy import sparse"
   ]
  },
  {
   "cell_type": "code",
   "execution_count": null,
   "metadata": {
    "collapsed": true
   },
   "outputs": [],
   "source": [
    "trained_embeddings_sparse = sparse.csr_matrix(trained_embeddings)"
   ]
  },
  {
   "cell_type": "code",
   "execution_count": null,
   "metadata": {
    "collapsed": true
   },
   "outputs": [],
   "source": [
    "similarities = cosine_similarity(trained_embeddings_sparse)"
   ]
  },
  {
   "cell_type": "code",
   "execution_count": 6,
   "metadata": {
    "collapsed": true
   },
   "outputs": [],
   "source": [
    "sparse?"
   ]
  },
  {
   "cell_type": "code",
   "execution_count": 4,
   "metadata": {
    "collapsed": true
   },
   "outputs": [],
   "source": [
    "from scipy import sparse\n",
    "from numpy import array\n",
    "I = array([0,3,1,0])\n",
    "J = array([0,3,1,2])\n",
    "V = array([4,5,7,9])\n",
    "A = sparse.coo_matrix((V,(I,J)),shape=(4,4))"
   ]
  },
  {
   "cell_type": "code",
   "execution_count": 5,
   "metadata": {},
   "outputs": [
    {
     "data": {
      "text/plain": [
       "<4x4 sparse matrix of type '<type 'numpy.int64'>'\n",
       "\twith 4 stored elements in COOrdinate format>"
      ]
     },
     "execution_count": 5,
     "metadata": {},
     "output_type": "execute_result"
    }
   ],
   "source": [
    "A"
   ]
  },
  {
   "cell_type": "code",
   "execution_count": null,
   "metadata": {
    "collapsed": true
   },
   "outputs": [],
   "source": [
    "def check(x):\n",
    "    k = vocab_word2id[x]\n",
    "    target = similarities[k][1:]\n",
    "    for i in range(3):\n",
    "        print(vocab_id2word[np.argsort(-target)[i]], np.sort(target)[::-1][i])"
   ]
  },
  {
   "cell_type": "code",
   "execution_count": null,
   "metadata": {
    "collapsed": true
   },
   "outputs": [],
   "source": []
  },
  {
   "cell_type": "markdown",
   "metadata": {
    "collapsed": true
   },
   "source": [
    "- 词向量就是 weight\n",
    "- 相似的向量在语义上也比较相似，因为有相似的上下文"
   ]
  },
  {
   "cell_type": "code",
   "execution_count": null,
   "metadata": {
    "collapsed": true
   },
   "outputs": [],
   "source": []
  }
 ],
 "metadata": {
  "kernelspec": {
   "display_name": "Python 3",
   "language": "python",
   "name": "python3"
  },
  "language_info": {
   "codemirror_mode": {
    "name": "ipython",
    "version": 3
   },
   "file_extension": ".py",
   "mimetype": "text/x-python",
   "name": "python",
   "nbconvert_exporter": "python",
   "pygments_lexer": "ipython3",
   "version": "3.6.2"
  },
  "toc": {
   "colors": {
    "hover_highlight": "#DAA520",
    "running_highlight": "#FF0000",
    "selected_highlight": "#FFD700"
   },
   "moveMenuLeft": true,
   "nav_menu": {
    "height": "426px",
    "width": "252px"
   },
   "navigate_menu": true,
   "number_sections": true,
   "sideBar": true,
   "threshold": 4,
   "toc_cell": false,
   "toc_section_display": "block",
   "toc_window_display": false
  }
 },
 "nbformat": 4,
 "nbformat_minor": 1
}
