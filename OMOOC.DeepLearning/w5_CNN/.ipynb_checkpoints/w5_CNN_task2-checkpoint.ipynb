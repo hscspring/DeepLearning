{
 "cells": [
  {
   "cell_type": "code",
   "execution_count": 1,
   "metadata": {
    "collapsed": false
   },
   "outputs": [
    {
     "name": "stdout",
     "output_type": "stream",
     "text": [
      "1.0.1\n"
     ]
    }
   ],
   "source": [
    "%matplotlib inline\n",
    "from collections import Counter\n",
    "import jieba\n",
    "import numpy as np\n",
    "import matplotlib.pyplot as plt\n",
    "import tensorflow as tf\n",
    "print(tf.__version__)"
   ]
  },
  {
   "cell_type": "markdown",
   "metadata": {},
   "source": [
    "### 定义参数"
   ]
  },
  {
   "cell_type": "code",
   "execution_count": 78,
   "metadata": {
    "collapsed": true
   },
   "outputs": [],
   "source": [
    "tf.reset_default_graph()"
   ]
  },
  {
   "cell_type": "code",
   "execution_count": 79,
   "metadata": {
    "collapsed": true
   },
   "outputs": [],
   "source": [
    "# 决定了 embedding 的维度 （隐层节点数）\n",
    "word_embedding_dim = 30\n",
    "# 决定了词表数量, 预留一个未登录词\n",
    "vocab_size = 400 + 1\n",
    "UNK_IDX = 0"
   ]
  },
  {
   "cell_type": "markdown",
   "metadata": {},
   "source": [
    "### 定义变量"
   ]
  },
  {
   "cell_type": "code",
   "execution_count": 80,
   "metadata": {
    "collapsed": false
   },
   "outputs": [],
   "source": [
    "word_embedding = tf.Variable(tf.random_uniform([vocab_size, word_embedding_dim]))\n",
    "input_data = tf.placeholder(tf.int32, shape=[None, 2], name='input_data')\n",
    "input_embeds = tf.nn.embedding_lookup(word_embedding, input_data)"
   ]
  },
  {
   "cell_type": "markdown",
   "metadata": {},
   "source": [
    "### 词向量相加"
   ]
  },
  {
   "cell_type": "code",
   "execution_count": 81,
   "metadata": {
    "collapsed": false
   },
   "outputs": [],
   "source": [
    "context_embeds = tf.reduce_sum(input_embeds, axis=1)"
   ]
  },
  {
   "cell_type": "markdown",
   "metadata": {},
   "source": [
    "### 映射到 N 个词的概率分布"
   ]
  },
  {
   "cell_type": "code",
   "execution_count": 82,
   "metadata": {
    "collapsed": true
   },
   "outputs": [],
   "source": [
    "# raw_output 是一个 vocab_size 维的数据，对比 labels 计算 cost\n",
    "# 假设输入一组（也就是 两个词），输出因为词向量相加过了，所以就是一个词的词向量：one-hot？\n",
    "raw_output = tf.layers.dense(context_embeds, vocab_size)\n",
    "# 如果输入一组，输出的 softmax 是预测的 one-hot 的概率分布？最可能的那个输出词概率最大？\n",
    "output = tf.nn.softmax(raw_output)"
   ]
  },
  {
   "cell_type": "markdown",
   "metadata": {},
   "source": [
    "### cost"
   ]
  },
  {
   "cell_type": "code",
   "execution_count": 83,
   "metadata": {
    "collapsed": false
   },
   "outputs": [],
   "source": [
    "# 样本的 labels 也需要用 placeholder 放置\n",
    "labels = tf.placeholder(tf.int32, shape=[None], name='labels')\n",
    "\n",
    "# 因为我们每个样本的 label 只有一个，使用稠密的 softmax 算 cost 及求导太浪费了。这里使用 sparse 版本即可。\n",
    "# 如果你的 label 是完整的 N 个词上的概率分布，这时候可以使用 tf.nn.softmax_cross_entropy_with_logits\n",
    "cost = tf.nn.sparse_softmax_cross_entropy_with_logits(logits=raw_output, labels=labels)"
   ]
  },
  {
   "cell_type": "code",
   "execution_count": 84,
   "metadata": {
    "collapsed": false
   },
   "outputs": [],
   "source": [
    "# 记录器记录 cost\n",
    "# scalar 标量，只能是一个值\n",
    "# 实际 run 时才会记录\n",
    "cost_summary = tf.summary.histogram('cost', cost)\n",
    "context_embeds_summary = tf.summary.histogram('context_embeds', context_embeds)\n",
    "\n",
    "# mearge 会自动收集 graph 上所有 summary 操作\n",
    "merged = tf.summary.merge_all()"
   ]
  },
  {
   "cell_type": "markdown",
   "metadata": {},
   "source": [
    "### 读取语料，生成训练数据"
   ]
  },
  {
   "cell_type": "code",
   "execution_count": 9,
   "metadata": {
    "collapsed": false
   },
   "outputs": [
    {
     "name": "stderr",
     "output_type": "stream",
     "text": [
      "Building prefix dict from the default dictionary ...\n",
      "Loading model from cache /tmp/jieba.cache\n",
      "Loading model cost 0.394 seconds.\n",
      "Prefix dict has been built succesfully.\n"
     ]
    }
   ],
   "source": [
    "import jieba\n",
    "import jieba.posseg as pseg\n",
    "line_no = 0\n",
    "words = []\n",
    "with open('../AssisantEvaluate/xiyouji.txt', 'r') as f:\n",
    "    for line in f.readlines():\n",
    "        line_no += 1\n",
    "        if line_no > 500:\n",
    "            break\n",
    "        word = pseg.cut(line.strip().decode('utf-8')) # 去掉末尾的 '\\n'\n",
    "        for w,f in word:\n",
    "            if f == 'x':\n",
    "                continue\n",
    "            words.append(w)"
   ]
  },
  {
   "cell_type": "code",
   "execution_count": 10,
   "metadata": {
    "collapsed": false
   },
   "outputs": [],
   "source": [
    "# 统计词频\n",
    "word_cnt = Counter(words)"
   ]
  },
  {
   "cell_type": "code",
   "execution_count": 11,
   "metadata": {
    "collapsed": false
   },
   "outputs": [],
   "source": [
    "# 高频截断\n",
    "vocab = [i[0] for i in word_cnt.most_common(vocab_size - 1)]"
   ]
  },
  {
   "cell_type": "code",
   "execution_count": 12,
   "metadata": {
    "collapsed": true
   },
   "outputs": [],
   "source": [
    "# 插入未登录词\n",
    "vocab.insert(UNK_IDX, 'UNK')"
   ]
  },
  {
   "cell_type": "code",
   "execution_count": 13,
   "metadata": {
    "collapsed": false
   },
   "outputs": [
    {
     "data": {
      "text/plain": [
       "401"
      ]
     },
     "execution_count": 13,
     "metadata": {},
     "output_type": "execute_result"
    }
   ],
   "source": [
    "len(vocab)"
   ]
  },
  {
   "cell_type": "code",
   "execution_count": 14,
   "metadata": {
    "collapsed": true
   },
   "outputs": [],
   "source": [
    "# 映射 id\n",
    "word_ids = [vocab.index(word) if (word in vocab) else 0\n",
    "            for word in words]"
   ]
  },
  {
   "cell_type": "code",
   "execution_count": 15,
   "metadata": {
    "collapsed": true
   },
   "outputs": [],
   "source": [
    "# 生成训练数据\n",
    "inputs_train = np.asarray(\n",
    "                [[word_ids[i-1], word_ids[i+1]] for i in range(1, len(word_ids) - 1)])\n",
    "labels_train = np.asarray(word_ids[1:-1])"
   ]
  },
  {
   "cell_type": "code",
   "execution_count": 16,
   "metadata": {
    "collapsed": false
   },
   "outputs": [
    {
     "data": {
      "text/plain": [
       "(6152, 2)"
      ]
     },
     "execution_count": 16,
     "metadata": {},
     "output_type": "execute_result"
    }
   ],
   "source": [
    "inputs_train.shape"
   ]
  },
  {
   "cell_type": "code",
   "execution_count": 17,
   "metadata": {
    "collapsed": false
   },
   "outputs": [
    {
     "data": {
      "text/plain": [
       "(6152,)"
      ]
     },
     "execution_count": 17,
     "metadata": {},
     "output_type": "execute_result"
    }
   ],
   "source": [
    "labels_train.shape"
   ]
  },
  {
   "cell_type": "markdown",
   "metadata": {},
   "source": [
    "### 训练模型"
   ]
  },
  {
   "cell_type": "code",
   "execution_count": 89,
   "metadata": {
    "collapsed": true
   },
   "outputs": [],
   "source": [
    "writer = tf.summary.FileWriter(\"./tf_log2\")#, graph=tf.get_default_graph())"
   ]
  },
  {
   "cell_type": "code",
   "execution_count": 90,
   "metadata": {
    "collapsed": false
   },
   "outputs": [
    {
     "name": "stdout",
     "output_type": "stream",
     "text": [
      "Iteration 0\n",
      "Cost 矩阵：\n",
      "[  0.00000000e+00   0.00000000e+00   0.00000000e+00 ...,   1.80640697e+01\n",
      "   2.27762260e+01   2.14576494e-06]\n",
      "Cost 矩阵 shape：\n",
      "(6152,)\n",
      "---\n",
      "Output 矩阵：\n",
      "[[  1.00000000e+00   5.35232171e-11   8.17373183e-11 ...,   2.96555142e-11\n",
      "    3.80226232e-11   7.48546017e-11]\n",
      " [  1.00000000e+00   5.35232171e-11   8.17373183e-11 ...,   2.96555142e-11\n",
      "    3.80226232e-11   7.48546017e-11]\n",
      " [  1.00000000e+00   5.35232171e-11   8.17373183e-11 ...,   2.96555142e-11\n",
      "    3.80226232e-11   7.48546017e-11]\n",
      " ..., \n",
      " [  9.99993205e-01   2.19535377e-08   4.17109014e-08 ...,   2.08304751e-08\n",
      "    1.71025860e-08   2.71710157e-08]\n",
      " [  1.00000000e+00   1.26094302e-10   2.40675951e-10 ...,   9.00574545e-11\n",
      "    1.18625332e-10   1.82135973e-10]\n",
      " [  9.99997854e-01   6.56038379e-09   1.71953296e-08 ...,   7.27173166e-09\n",
      "    5.47694334e-09   6.09611961e-09]]\n",
      "Output 矩阵 shape：\n",
      "(6152, 401)\n",
      "(401,)\n",
      "---\n",
      "Probability: 0.000000\n",
      "------\n",
      "Iteration 50\n",
      "Cost 矩阵：\n",
      "[ 0.61527818  0.61527818  0.61527818 ...,  6.82514906  6.39779377\n",
      "  3.95372987]\n",
      "Cost 矩阵 shape：\n",
      "(6152,)\n",
      "---\n",
      "Output 矩阵：\n",
      "[[  5.40490508e-01   2.24587624e-03   1.35062390e-03 ...,   4.32480389e-04\n",
      "    8.17444699e-04   1.66846125e-03]\n",
      " [  5.40490508e-01   2.24587624e-03   1.35062390e-03 ...,   4.32480389e-04\n",
      "    8.17444699e-04   1.66846125e-03]\n",
      " [  5.40490508e-01   2.24587624e-03   1.35062390e-03 ...,   4.32480389e-04\n",
      "    8.17444699e-04   1.66846125e-03]\n",
      " ..., \n",
      " [  2.12673768e-02   4.75614481e-02   2.88132802e-02 ...,   1.47906691e-03\n",
      "    7.71479972e-04   8.80282081e-04]\n",
      " [  1.17563628e-01   2.42430661e-02   1.55611606e-02 ...,   1.11026748e-03\n",
      "    1.34336285e-03   1.74104795e-03]\n",
      " [  1.91830155e-02   3.68264802e-02   3.55535969e-02 ...,   1.74201338e-03\n",
      "    8.20975110e-04   6.37164572e-04]]\n",
      "Output 矩阵 shape：\n",
      "(6152, 401)\n",
      "(401,)\n",
      "---\n",
      "Probability: 0.000867\n",
      "------\n",
      "Iteration 100\n",
      "Cost 矩阵：\n",
      "[ 0.10535509  0.10535509  0.10535509 ...,  6.76395416  7.13863611\n",
      "  2.59651232]\n",
      "Cost 矩阵 shape：\n",
      "(6152,)\n",
      "---\n",
      "Output 矩阵：\n",
      "[[  9.00004864e-01   1.65013783e-03   1.33141724e-03 ...,   4.76242567e-05\n",
      "    1.15821189e-04   2.72426114e-04]\n",
      " [  9.00004864e-01   1.65013783e-03   1.33141724e-03 ...,   4.76242567e-05\n",
      "    1.15821189e-04   2.72426114e-04]\n",
      " [  9.00004864e-01   1.65013783e-03   1.33141724e-03 ...,   4.76242567e-05\n",
      "    1.15821189e-04   2.72426114e-04]\n",
      " ..., \n",
      " [  8.23334679e-02   3.76612842e-02   1.97041892e-02 ...,   1.55897671e-03\n",
      "    5.76947059e-04   5.40022214e-04]\n",
      " [  3.84139806e-01   2.80969255e-02   2.04183757e-02 ...,   5.42611117e-04\n",
      "    6.03170134e-04   7.57734815e-04]\n",
      " [  7.45330676e-02   2.15128735e-02   2.25435924e-02 ...,   1.96583010e-03\n",
      "    6.65899890e-04   4.21262870e-04]]\n",
      "Output 矩阵 shape：\n",
      "(6152, 401)\n",
      "(401,)\n",
      "---\n",
      "Probability: 0.000272\n",
      "------\n",
      "Iteration 150\n",
      "Cost 矩阵：\n",
      "[ 2.30482745  2.30482745  2.30482745 ...,  7.27919054  6.78068733\n",
      "  0.74669617]\n",
      "Cost 矩阵 shape：\n",
      "(6152,)\n",
      "---\n",
      "Output 矩阵：\n",
      "[[  9.97760147e-02   5.89227770e-03   5.40628610e-03 ...,   4.73630324e-04\n",
      "    1.54193758e-03   3.58395604e-03]\n",
      " [  9.97760147e-02   5.89227770e-03   5.40628610e-03 ...,   4.73630324e-04\n",
      "    1.54193758e-03   3.58395604e-03]\n",
      " [  9.97760147e-02   5.89227770e-03   5.40628610e-03 ...,   4.73630324e-04\n",
      "    1.54193758e-03   3.58395604e-03]\n",
      " ..., \n",
      " [  5.11939645e-01   1.75058711e-02   7.91394431e-03 ...,   9.17914906e-04\n",
      "    2.68449192e-04   2.12492159e-04]\n",
      " [  2.56896406e-01   2.39834059e-02   1.78478733e-02 ...,   7.89655431e-04\n",
      "    8.80335981e-04   1.01056707e-03]\n",
      " [  4.73929763e-01   7.79077364e-03   9.66700446e-03 ...,   1.28940912e-03\n",
      "    3.57187790e-04   1.91233266e-04]]\n",
      "Output 矩阵 shape：\n",
      "(6152, 401)\n",
      "(401,)\n",
      "---\n",
      "Probability: 0.002093\n",
      "------\n",
      "Iteration 200\n",
      "Cost 矩阵：\n",
      "[ 1.05680585  1.05680585  1.05680585 ...,  7.95491219  7.44174194\n",
      "  0.32243457]\n",
      "Cost 矩阵 shape：\n",
      "(6152,)\n",
      "---\n",
      "Output 矩阵：\n",
      "[[  3.47564220e-01   8.86262767e-03   7.97431823e-03 ...,   1.75662557e-04\n",
      "    7.32297427e-04   1.95321487e-03]\n",
      " [  3.47564220e-01   8.86262767e-03   7.97431823e-03 ...,   1.75662557e-04\n",
      "    7.32297427e-04   1.95321487e-03]\n",
      " [  3.47564220e-01   8.86262767e-03   7.97431823e-03 ...,   1.75662557e-04\n",
      "    7.32297427e-04   1.95321487e-03]\n",
      " ..., \n",
      " [  7.76904166e-01   6.11005770e-03   2.68556690e-03 ...,   4.58455412e-04\n",
      "    1.12305090e-04   7.68976242e-05]\n",
      " [  5.06705880e-01   2.09508147e-02   1.52983386e-02 ...,   3.65874701e-04\n",
      "    4.15282644e-04   4.75837005e-04]\n",
      " [  7.24383295e-01   2.32327357e-03   4.02595988e-03 ...,   7.44039076e-04\n",
      "    1.81817508e-04   8.51139775e-05]]\n",
      "Output 矩阵 shape：\n",
      "(6152, 401)\n",
      "(401,)\n",
      "---\n",
      "Probability: 0.002120\n",
      "------\n",
      "Iteration 250\n",
      "Cost 矩阵：\n",
      "[ 0.25874603  0.25874603  0.25874603 ...,  6.41193962  6.87514687\n",
      "  3.28362799]\n",
      "Cost 矩阵 shape：\n",
      "(6152,)\n",
      "---\n",
      "Output 矩阵：\n",
      "[[  7.72019088e-01   3.14338249e-03   2.80569703e-03 ...,   6.07120965e-05\n",
      "    2.66444113e-04   6.75607705e-04]\n",
      " [  7.72019088e-01   3.14338249e-03   2.80569703e-03 ...,   6.07120965e-05\n",
      "    2.66444113e-04   6.75607705e-04]\n",
      " [  7.72019088e-01   3.14338249e-03   2.80569703e-03 ...,   6.07120965e-05\n",
      "    2.66444113e-04   6.75607705e-04]\n",
      " ..., \n",
      " [  3.15583609e-02   2.51757074e-02   1.04749454e-02 ...,   2.09188345e-03\n",
      "    4.49904124e-04   2.77655810e-04]\n",
      " [  1.18597664e-01   4.13407311e-02   2.85592377e-02 ...,   6.50977134e-04\n",
      "    7.03871774e-04   7.51826447e-04]\n",
      " [  3.74919884e-02   5.67078125e-03   1.39167141e-02 ...,   2.74342624e-03\n",
      "    6.14782912e-04   2.59940483e-04]]\n",
      "Output 矩阵 shape：\n",
      "(6152, 401)\n",
      "(401,)\n",
      "---\n",
      "Probability: 0.000760\n",
      "------\n",
      "Iteration 300\n",
      "Cost 矩阵：\n",
      "[ 1.58035088  1.58035088  1.58035088 ...,  7.18235588  6.96810484\n",
      "  0.69193357]\n",
      "Cost 矩阵 shape：\n",
      "(6152,)\n",
      "---\n",
      "Output 矩阵：\n",
      "[[  2.05902845e-01   8.34172964e-03   6.75828988e-03 ...,   2.47223856e-04\n",
      "    1.22012757e-03   3.04650329e-03]\n",
      " [  2.05902845e-01   8.34172964e-03   6.75828988e-03 ...,   2.47223856e-04\n",
      "    1.22012757e-03   3.04650329e-03]\n",
      " [  2.05902845e-01   8.34172964e-03   6.75828988e-03 ...,   2.47223856e-04\n",
      "    1.22012757e-03   3.04650329e-03]\n",
      " ..., \n",
      " [  6.07070446e-01   7.10696587e-03   3.08312685e-03 ...,   9.49108100e-04\n",
      "    1.82967793e-04   1.03251179e-04]\n",
      " [  3.37261945e-01   2.59367470e-02   1.71308946e-02 ...,   5.80388063e-04\n",
      "    6.27436326e-04   6.41471357e-04]\n",
      " [  5.00607193e-01   1.57114270e-03   6.02748618e-03 ...,   1.53651193e-03\n",
      "    3.23330343e-04   1.25014180e-04]]\n",
      "Output 矩阵 shape：\n",
      "(6152, 401)\n",
      "(401,)\n",
      "---\n",
      "Probability: 0.002274\n",
      "------\n",
      "Iteration 350\n",
      "Cost 矩阵：\n",
      "[ 0.58111751  0.58111751  0.58111751 ...,  7.78597355  7.53649855\n",
      "  0.37287962]\n",
      "Cost 矩阵 shape：\n",
      "(6152,)\n",
      "---\n",
      "Output 矩阵：\n",
      "[[  5.59273005e-01   6.05506310e-03   5.33837359e-03 ...,   7.89496698e-05\n",
      "    4.91406536e-04   1.35200087e-03]\n",
      " [  5.59273005e-01   6.05506310e-03   5.33837359e-03 ...,   7.89496698e-05\n",
      "    4.91406536e-04   1.35200087e-03]\n",
      " [  5.59273005e-01   6.05506310e-03   5.33837359e-03 ...,   7.89496698e-05\n",
      "    4.91406536e-04   1.35200087e-03]\n",
      " ..., \n",
      " [  8.05716991e-01   2.62348214e-03   1.15545781e-03 ...,   5.07985591e-04\n",
      "    8.88084833e-05   4.57648530e-05]\n",
      " [  5.75466633e-01   1.76219773e-02   1.21945664e-02 ...,   2.80554988e-04\n",
      "    3.23814369e-04   3.34608922e-04]\n",
      " [  6.88748121e-01   5.68349147e-04   3.38010164e-03 ...,   9.86760599e-04\n",
      "    1.99360307e-04   7.06969222e-05]]\n",
      "Output 矩阵 shape：\n",
      "(6152, 401)\n",
      "(401,)\n",
      "---\n",
      "Probability: 0.001538\n",
      "------\n",
      "Iteration 400\n",
      "Cost 矩阵：\n",
      "[ 0.53273004  0.53273004  0.53273004 ...,  7.64903212  7.56465483\n",
      "  0.39695656]\n",
      "Cost 矩阵 shape：\n",
      "(6152,)\n",
      "---\n",
      "Output 矩阵：\n",
      "[[  5.87000251e-01   5.97144337e-03   5.31719858e-03 ...,   7.55425790e-05\n",
      "    4.69182036e-04   1.20248937e-03]\n",
      " [  5.87000251e-01   5.97144337e-03   5.31719858e-03 ...,   7.55425790e-05\n",
      "    4.69182036e-04   1.20248937e-03]\n",
      " [  5.87000251e-01   5.97144337e-03   5.31719858e-03 ...,   7.55425790e-05\n",
      "    4.69182036e-04   1.20248937e-03]\n",
      " ..., \n",
      " [  7.98107922e-01   2.24183104e-03   9.34999087e-04 ...,   5.70296601e-04\n",
      "    9.18392252e-05   4.45489204e-05]\n",
      " [  6.01294637e-01   1.62374638e-02   1.13079511e-02 ...,   2.69831769e-04\n",
      "    2.99303705e-04   2.92973942e-04]\n",
      " [  6.72363222e-01   3.69292102e-04   3.32292984e-03 ...,   1.05500570e-03\n",
      "    2.05988923e-04   6.82668760e-05]]\n",
      "Output 矩阵 shape：\n",
      "(6152, 401)\n",
      "(401,)\n",
      "---\n",
      "Probability: 0.001500\n",
      "------\n",
      "Iteration 450\n",
      "Cost 矩阵：\n",
      "[ 0.40874261  0.40874261  0.40874261 ...,  7.47977686  7.53176403\n",
      "  0.44987464]\n",
      "Cost 矩阵 shape：\n",
      "(6152,)\n",
      "---\n",
      "Output 矩阵：\n",
      "[[  6.64485276e-01   4.36844025e-03   3.89911304e-03 ...,   5.32553240e-05\n",
      "    3.83956125e-04   1.03283639e-03]\n",
      " [  6.64485276e-01   4.36844025e-03   3.89911304e-03 ...,   5.32553240e-05\n",
      "    3.83956125e-04   1.03283639e-03]\n",
      " [  6.64485276e-01   4.36844025e-03   3.89911304e-03 ...,   5.32553240e-05\n",
      "    3.83956125e-04   1.03283639e-03]\n",
      " ..., \n",
      " [  7.81968534e-01   2.05155741e-03   7.96445936e-04 ...,   6.60666497e-04\n",
      "    9.85797888e-05   4.49134495e-05]\n",
      " [  6.10909402e-01   1.46823581e-02   1.04412762e-02 ...,   2.53194361e-04\n",
      "    2.92599289e-04   2.87360541e-04]\n",
      " [  6.37708068e-01   2.55747815e-04   3.49231623e-03 ...,   1.16654194e-03\n",
      "    2.22168936e-04   6.86128187e-05]]\n",
      "Output 矩阵 shape：\n",
      "(6152, 401)\n",
      "(401,)\n",
      "---\n",
      "Probability: 0.001212\n",
      "------\n"
     ]
    }
   ],
   "source": [
    "train_step = tf.train.GradientDescentOptimizer(0.0002).minimize(cost)\n",
    "with tf.Session() as sess:\n",
    "    sess.run(tf.global_variables_initializer())\n",
    "    dummy_feed_dict = {input_data: inputs_train,\n",
    "                       labels: labels_train}\n",
    "    for i in range(500):\n",
    "        #sess.run(train_step, feed_dict=dummy_feed_dict)\n",
    "        #_, cost_summary_run, context_embeds_summary_run = sess.run([train_step, cost_summary, context_embeds_summary], \n",
    "        #                                                           feed_dict=dummy_feed_dict)\n",
    "        #writer.add_summary(cost_summary_run, i)\n",
    "        #writer.add_summary(context_embeds_summary_run, i)\n",
    "        \n",
    "        _, merge_summary= sess.run([train_step, merged], feed_dict=dummy_feed_dict)\n",
    "        writer.add_summary(merge_summary, i)\n",
    "        \n",
    "        if i % 50 == 0:\n",
    "            print(\"Iteration %d\" % i)\n",
    "            \n",
    "            # cost 情况\n",
    "            cost_array = cost.eval(feed_dict=dummy_feed_dict)\n",
    "            print(\"Cost 矩阵：\")\n",
    "            print(cost_array)\n",
    "            print(\"Cost 矩阵 shape：\")\n",
    "            print(cost_array.shape)\n",
    "            print('---')\n",
    "            \n",
    "            # Output 情况\n",
    "            output_array = output.eval(feed_dict=dummy_feed_dict)\n",
    "            print(\"Output 矩阵：\")\n",
    "            print(output_array)\n",
    "            print(\"Output 矩阵 shape：\")\n",
    "            print(output_array.shape)\n",
    "            print(output_array[0].shape)\n",
    "            print('---')\n",
    "            \n",
    "            # 查看输出中 ID == 30 的概率            \n",
    "            print(\"Probability: %f\" % output_array[0, 30])\n",
    "            print(\"------\")\n",
    "            # 词向量是 context_embeds 吗？\n",
    "            allwords_embedding = context_embeds.eval(feed_dict=dummy_feed_dict)\n",
    "            raw_outputs = raw_output.eval(feed_dict=dummy_feed_dict)"
   ]
  },
  {
   "cell_type": "code",
   "execution_count": 91,
   "metadata": {
    "collapsed": false
   },
   "outputs": [
    {
     "data": {
      "text/plain": [
       "<tensorflow.python.summary.writer.writer.FileWriter at 0x7eff273016d0>"
      ]
     },
     "execution_count": 91,
     "metadata": {},
     "output_type": "execute_result"
    }
   ],
   "source": [
    "tf.summary.FileWriter(\"./tf_log2\", graph=tf.get_default_graph())"
   ]
  },
  {
   "cell_type": "code",
   "execution_count": null,
   "metadata": {
    "collapsed": true
   },
   "outputs": [],
   "source": []
  }
 ],
 "metadata": {
  "kernelspec": {
   "display_name": "Python 2",
   "language": "python",
   "name": "python2"
  },
  "language_info": {
   "codemirror_mode": {
    "name": "ipython",
    "version": 2
   },
   "file_extension": ".py",
   "mimetype": "text/x-python",
   "name": "python",
   "nbconvert_exporter": "python",
   "pygments_lexer": "ipython2",
   "version": "2.7.6"
  }
 },
 "nbformat": 4,
 "nbformat_minor": 1
}
