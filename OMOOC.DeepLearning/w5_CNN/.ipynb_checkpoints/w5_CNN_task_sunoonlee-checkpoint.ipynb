{
 "cells": [
  {
   "cell_type": "code",
   "execution_count": 1,
   "metadata": {
    "collapsed": true
   },
   "outputs": [],
   "source": [
    "%matplotlib inline\n",
    "from collections import Counter\n",
    "import time\n",
    "import numpy as np\n",
    "import matplotlib.pyplot as plt\n",
    "import tensorflow as tf\n",
    "import jieba"
   ]
  },
  {
   "cell_type": "markdown",
   "metadata": {},
   "source": [
    "## 语料处理"
   ]
  },
  {
   "cell_type": "code",
   "execution_count": 9,
   "metadata": {
    "collapsed": true
   },
   "outputs": [],
   "source": [
    "IGNORE = ' \\n，。、：,的了是我很在都有就'.decode('utf-8')\n",
    "# 预设固定句子长度\n",
    "DOC_LENGTH = 20\n",
    "# 句子长度不足时占位符\n",
    "PADDING = '<PD>'"
   ]
  },
  {
   "cell_type": "code",
   "execution_count": 10,
   "metadata": {
    "collapsed": true
   },
   "outputs": [],
   "source": [
    "def read_data(file):\n",
    "    \"\"\"从文件读取样本，去除忽略字符，得到二维词表\n",
    "    args: file - 文件名\n",
    "    returns: docs - 各样本的词列表\"\"\"\n",
    "    docs = []\n",
    "    with open(file, 'r') as f:\n",
    "        lines = f.readlines()\n",
    "    for line in lines:\n",
    "        words = []\n",
    "        for word in jieba.cut(line.decode('utf-8')):\n",
    "            if (word not in IGNORE) and not word.isdigit():\n",
    "                words.append(word)\n",
    "        docs.append(words)\n",
    "    return docs"
   ]
  },
  {
   "cell_type": "code",
   "execution_count": 45,
   "metadata": {
    "collapsed": true
   },
   "outputs": [],
   "source": [
    "def fix_length(docs):\n",
    "    \"\"\"将所有样本的词列表调整为固定长度\"\"\"\n",
    "    for i in range(len(docs)):\n",
    "        if len(docs[i]) < DOC_LENGTH:\n",
    "            docs[i].extend([PADDING] * (DOC_LENGTH - len(docs[i])))\n",
    "        else:\n",
    "            docs[i] = docs[i][:DOC_LENGTH]\n",
    "    return docs"
   ]
  },
  {
   "cell_type": "code",
   "execution_count": 38,
   "metadata": {
    "collapsed": true
   },
   "outputs": [],
   "source": [
    "def get_word_counter(docs):\n",
    "    all_words = [w for doc in docs for w in doc]\n",
    "    return Counter(all_words)"
   ]
  },
  {
   "cell_type": "code",
   "execution_count": 39,
   "metadata": {
    "collapsed": true
   },
   "outputs": [],
   "source": [
    "def build_vocab(word_cnt, limit=3):\n",
    "    \"\"\"建立词表，仅计入出现次数超过设定值的词\"\"\"\n",
    "    vocab = ['UNK']\n",
    "    for i in word_cnt.most_common():\n",
    "        if i[1] > limit:\n",
    "            vocab.append(i[0])\n",
    "        else:\n",
    "            break\n",
    "    return vocab"
   ]
  },
  {
   "cell_type": "code",
   "execution_count": 41,
   "metadata": {
    "collapsed": false
   },
   "outputs": [],
   "source": [
    "basedir = '../w2_NaiveBayes/'\n",
    "keys = ('pos_train', 'neg_train', 'pos_test', 'neg_test')\n",
    "\n",
    "files = {k: basedir + k + '.txt' for k in keys}\n",
    "docs = {k: read_data(files[k]) for k in keys}"
   ]
  },
  {
   "cell_type": "code",
   "execution_count": 46,
   "metadata": {
    "collapsed": false
   },
   "outputs": [],
   "source": [
    "train_docs = docs['pos_train'] + docs['neg_train']\n",
    "train_docs = fix_length(train_docs)\n",
    "train_labels = [1] * len(docs['pos_train']) + [0] * len(docs['neg_train'])\n",
    "\n",
    "test_docs = docs['pos_test'] + docs['neg_test']\n",
    "test_docs = fix_length(test_docs)\n",
    "test_labels = [1] * len(docs['pos_test']) + [0] * len(docs['neg_test'])"
   ]
  },
  {
   "cell_type": "code",
   "execution_count": 49,
   "metadata": {
    "collapsed": false
   },
   "outputs": [],
   "source": [
    "word_cnt = get_word_counter(train_docs)\n",
    "vocab = build_vocab(word_cnt)\n",
    "vocab_size = len(vocab)\n",
    "idx_dict = dict(zip(vocab, range(vocab_size)))"
   ]
  },
  {
   "cell_type": "code",
   "execution_count": 58,
   "metadata": {
    "collapsed": false
   },
   "outputs": [
    {
     "name": "stdout",
     "output_type": "stream",
     "text": [
      "<PD> 100462\n",
      "酒店 4574\n",
      "也 4246\n",
      "不 3666\n",
      "！ 3520\n",
      "不错 3378\n",
      "房间 3317\n",
      ". 3225\n",
      "好 3063\n",
      "还 3008\n",
      "没有 2922\n",
      "这 2261\n",
      "和 2215\n",
      "比较 2015\n",
      "看 1900\n",
      "可以 1882\n",
      "感觉 1823\n",
      "服务 1784\n",
      "买 1781\n",
      "还是 1578\n",
      "到 1558\n",
      "本书 1530\n",
      "非常 1515\n",
      "就是 1514\n",
      "住 1510\n",
      "说 1503\n",
      "用 1476\n",
      "一个 1390\n",
      "但 1330\n",
      "入住 1308\n",
      "书 1283\n",
      "月 1219\n",
      "这个 1216\n",
      "去 1196\n",
      "要 1195\n",
      "人 1188\n",
      "但是 1175\n",
      "系统 1155\n",
      "有点 1133\n",
      "给 1116\n",
      "没 1112\n",
      "一般 1064\n",
      "上 1058\n",
      "对 1056\n",
      "我们 1046\n",
      "价格 1031\n",
      "喜欢 1019\n",
      "不是 1004\n",
      "日 983\n",
      "太 956\n"
     ]
    }
   ],
   "source": [
    "for w,f in word_cnt.most_common(50):\n",
    "    print('%s %s' % (w, f))"
   ]
  },
  {
   "cell_type": "code",
   "execution_count": 63,
   "metadata": {
    "collapsed": true
   },
   "outputs": [],
   "source": [
    "def docs2idxes(docs):\n",
    "    \"\"\"把词列表转为序号列表的列表\"\"\"\n",
    "    idxes = []\n",
    "    for doc in docs:\n",
    "        idxes_of_one_doc = []\n",
    "        for word in doc:\n",
    "            idx = idx_dict[word] if (word in vocab) else 0\n",
    "            idxes_of_one_doc.append(idx)\n",
    "        idxes.append(idxes_of_one_doc)\n",
    "    return idxes"
   ]
  },
  {
   "cell_type": "code",
   "execution_count": 64,
   "metadata": {
    "collapsed": false
   },
   "outputs": [],
   "source": [
    "train_idxes = docs2idxes(train_docs)\n",
    "inputs_train = np.asarray(train_idxes)\n",
    "labels_train = np.asarray(train_labels)\n",
    "\n",
    "test_idxes = docs2idxes(test_docs)\n",
    "inputs_test = np.asarray(test_idxes)\n",
    "labels_test = np.asarray(test_labels)"
   ]
  },
  {
   "cell_type": "code",
   "execution_count": 65,
   "metadata": {
    "collapsed": false
   },
   "outputs": [
    {
     "data": {
      "text/plain": [
       "(24586, 20)"
      ]
     },
     "execution_count": 65,
     "metadata": {},
     "output_type": "execute_result"
    }
   ],
   "source": [
    "inputs_train.shape"
   ]
  },
  {
   "cell_type": "code",
   "execution_count": 66,
   "metadata": {
    "collapsed": false
   },
   "outputs": [
    {
     "data": {
      "text/plain": [
       "(10538, 20)"
      ]
     },
     "execution_count": 66,
     "metadata": {},
     "output_type": "execute_result"
    }
   ],
   "source": [
    "inputs_test.shape"
   ]
  },
  {
   "cell_type": "markdown",
   "metadata": {},
   "source": [
    "## 神经网络 \n",
    "\n",
    "- 输入：词序号数组\n",
    "- 中间层：词向量，可以再接一个隐层\n",
    "- 输出：情感分类"
   ]
  },
  {
   "cell_type": "code",
   "execution_count": 67,
   "metadata": {
    "collapsed": true
   },
   "outputs": [],
   "source": [
    "word_embedding_dim = 15\n",
    "hidden_dim = 15\n",
    "\n",
    "tf.reset_default_graph()\n",
    "word_embedding = tf.Variable(tf.random_uniform([vocab_size, word_embedding_dim]))\n",
    "inputs = tf.placeholder(tf.int32, shape=[None, DOC_LENGTH], name='inputs')\n",
    "labels = tf.placeholder(tf.int32, shape=[None], name='labels')\n",
    "\n",
    "input_embeds = tf.nn.embedding_lookup(word_embedding, inputs)\n",
    "doc_embeds = tf.reduce_sum(input_embeds, axis=1) # 平均词向量"
   ]
  },
  {
   "cell_type": "code",
   "execution_count": 68,
   "metadata": {
    "collapsed": false
   },
   "outputs": [
    {
     "data": {
      "text/plain": [
       "(<tf.Tensor 'embedding_lookup:0' shape=(?, 20, 15) dtype=float32>,\n",
       " <tf.Tensor 'Sum:0' shape=(?, 15) dtype=float32>)"
      ]
     },
     "execution_count": 68,
     "metadata": {},
     "output_type": "execute_result"
    }
   ],
   "source": [
    "input_embeds, doc_embeds"
   ]
  },
  {
   "cell_type": "code",
   "execution_count": 69,
   "metadata": {
    "collapsed": true
   },
   "outputs": [],
   "source": [
    "hidden = tf.layers.dense(doc_embeds, hidden_dim, activation=tf.tanh)\n",
    "raw_output = tf.layers.dense(hidden, 2)\n",
    "output = tf.nn.softmax(raw_output)"
   ]
  },
  {
   "cell_type": "code",
   "execution_count": 70,
   "metadata": {
    "collapsed": false
   },
   "outputs": [
    {
     "data": {
      "text/plain": [
       "TensorShape([Dimension(None), Dimension(2)])"
      ]
     },
     "execution_count": 70,
     "metadata": {},
     "output_type": "execute_result"
    }
   ],
   "source": [
    "raw_output.shape"
   ]
  },
  {
   "cell_type": "code",
   "execution_count": 71,
   "metadata": {
    "collapsed": false
   },
   "outputs": [
    {
     "data": {
      "text/plain": [
       "(24586,)"
      ]
     },
     "execution_count": 71,
     "metadata": {},
     "output_type": "execute_result"
    }
   ],
   "source": [
    "labels_train.shape"
   ]
  },
  {
   "cell_type": "code",
   "execution_count": 72,
   "metadata": {
    "collapsed": true
   },
   "outputs": [],
   "source": [
    "cost = tf.reduce_mean(tf.nn.sparse_softmax_cross_entropy_with_logits(logits=raw_output, labels=labels))"
   ]
  },
  {
   "cell_type": "markdown",
   "metadata": {},
   "source": [
    "## 训练"
   ]
  },
  {
   "cell_type": "code",
   "execution_count": 87,
   "metadata": {
    "collapsed": false
   },
   "outputs": [],
   "source": [
    "def evaluate_model(sess, inputs_, labels_, print_matrix=False):\n",
    "    \"\"\"评估模型指标，并打印输出\"\"\"\n",
    "    pred_prob = sess.run(output, feed_dict={inputs:inputs_, labels:labels_})\n",
    "    preds = np.asarray((pred_prob[:, 1] > 0.5), dtype=int)\n",
    "    mat = sess.run(tf.confusion_matrix(labels_, preds))\n",
    "    tn, fp, fn,  tp = mat.reshape(4)\n",
    "    precision = np.float(tp) / (tp + fp)\n",
    "    recall = np.float(tp) / (tp + fn)\n",
    "    if print_matrix:\n",
    "        print('confusion matrix:\\n', mat)\n",
    "    print('precision:% .3f, recall: %.3f' %(precision, recall))"
   ]
  },
  {
   "cell_type": "code",
   "execution_count": 88,
   "metadata": {
    "collapsed": false
   },
   "outputs": [
    {
     "name": "stdout",
     "output_type": "stream",
     "text": [
      "Epoch 0 cost: train: 0.78062 / test: 0.782322\n",
      "precision: 0.500, recall: 0.001\n",
      "Epoch 100 cost: train: 0.298665 / test: 0.432032\n",
      "precision: 0.881, recall: 0.760\n",
      "Epoch 200 cost: train: 0.286818 / test: 0.474266\n",
      "precision: 0.907, recall: 0.706\n",
      "Epoch 300 cost: train: 0.174186 / test: 0.415647\n",
      "precision: 0.905, recall: 0.825\n",
      "Epoch 400 cost: train: 0.1304 / test: 0.441901\n",
      "precision: 0.916, recall: 0.828\n",
      "Epoch 500 cost: train: 0.083594 / test: 0.470271\n",
      "precision: 0.888, recall: 0.899\n",
      "Epoch 600 cost: train: 0.0903956 / test: 0.489214\n",
      "precision: 0.920, recall: 0.844\n",
      "Epoch 700 cost: train: 0.112467 / test: 0.523035\n",
      "precision: 0.919, recall: 0.807\n",
      "Epoch 800 cost: train: 0.0753308 / test: 0.508709\n",
      "precision: 0.901, recall: 0.899\n",
      "Epoch 900 cost: train: 0.0625261 / test: 0.563804\n",
      "precision: 0.916, recall: 0.868\n",
      "Epoch 1000 cost: train: 0.0570164 / test: 0.567439\n",
      "precision: 0.902, recall: 0.900\n",
      "Epoch 1100 cost: train: 0.0739214 / test: 0.507256\n",
      "precision: 0.902, recall: 0.905\n",
      "Epoch 1200 cost: train: 0.0849786 / test: 0.573236\n",
      "precision: 0.929, recall: 0.842\n",
      "Epoch 1300 cost: train: 0.146699 / test: 0.660894\n",
      "precision: 0.918, recall: 0.804\n",
      "Epoch 1400 cost: train: 0.059643 / test: 0.579045\n",
      "precision: 0.920, recall: 0.885\n",
      "Epoch 1500 cost: train: 0.134115 / test: 0.673808\n",
      "precision: 0.927, recall: 0.818\n",
      "Epoch 1600 cost: train: 0.208637 / test: 0.698204\n",
      "precision: 0.857, recall: 0.883\n",
      "Epoch 1700 cost: train: 0.0486349 / test: 0.597745\n",
      "precision: 0.903, recall: 0.910\n",
      "Epoch 1800 cost: train: 0.060037 / test: 0.633045\n",
      "precision: 0.919, recall: 0.883\n",
      "Epoch 1900 cost: train: 0.0440326 / test: 0.65825\n",
      "precision: 0.918, recall: 0.901\n",
      "Epoch 2000 cost: train: 0.0489219 / test: 0.641844\n",
      "precision: 0.879, recall: 0.934\n",
      "Epoch 2100 cost: train: 0.207451 / test: 0.843397\n",
      "precision: 0.924, recall: 0.765\n",
      "Epoch 2200 cost: train: 0.109916 / test: 0.759596\n",
      "precision: 0.926, recall: 0.828\n",
      "Epoch 2300 cost: train: 0.0454145 / test: 0.667381\n",
      "precision: 0.918, recall: 0.901\n",
      "Epoch 2400 cost: train: 0.0488179 / test: 0.647435\n",
      "precision: 0.906, recall: 0.916\n",
      "Epoch 2500 cost: train: 0.0418503 / test: 0.662792\n",
      "precision: 0.912, recall: 0.912\n",
      "Epoch 2600 cost: train: 0.0503175 / test: 0.671391\n",
      "precision: 0.922, recall: 0.880\n",
      "Epoch 2700 cost: train: 0.0409526 / test: 0.671147\n",
      "precision: 0.916, recall: 0.909\n",
      "Epoch 2800 cost: train: 0.0402356 / test: 0.685505\n",
      "precision: 0.898, recall: 0.924\n",
      "Epoch 2900 cost: train: 0.037225 / test: 0.621088\n",
      "precision: 0.906, recall: 0.923\n",
      "\n",
      "time: 862.62250185\n"
     ]
    }
   ],
   "source": [
    "learning_rate = 0.3\n",
    "batch_size = 100\n",
    "epochs = 3000\n",
    "print_cost_every = 100\n",
    "\n",
    "feed_train = {inputs: inputs_train, labels: labels_train}\n",
    "feed_test = {inputs: inputs_test, labels: labels_test}\n",
    "\n",
    "sess = tf.Session()\n",
    "\n",
    "sess.run(tf.global_variables_initializer())\n",
    "train_step = tf.train.GradientDescentOptimizer(learning_rate).minimize(cost)\n",
    "\n",
    "costs_train = []\n",
    "costs_test = []\n",
    "start_time = time.time()\n",
    "\n",
    "num_inputs = len(labels_train)\n",
    "order = np.arange(num_inputs)\n",
    "np.random.shuffle(order)\n",
    "\n",
    "try:\n",
    "    for i in range(epochs):\n",
    "        if i % print_cost_every == 0:\n",
    "            cost_train = sess.run(cost, feed_dict=feed_train)\n",
    "            cost_test = sess.run(cost, feed_dict=feed_test)\n",
    "            print('Epoch %d cost: train: %s / test: %s' %(i, cost_train, cost_test))\n",
    "            costs_train.append(cost_train)\n",
    "            costs_test.append(cost_test)\n",
    "            evaluate_model(sess, inputs_test, labels_test)\n",
    "        for j in range(0, num_inputs, batch_size):\n",
    "            batch_index = order[j: j + batch_size]\n",
    "            batch_inputs = inputs_train[batch_index]\n",
    "            batch_labels = labels_train[batch_index]\n",
    "            batch_feed = {inputs: batch_inputs, labels: batch_labels}\n",
    "            sess.run(train_step, feed_dict=batch_feed)\n",
    "except KeyboardInterrupt:\n",
    "    print('Interrupted')\n",
    "finally:\n",
    "    end_time = time.time()\n",
    "    print('\\ntime: %s' % (end_time - start_time))"
   ]
  },
  {
   "cell_type": "code",
   "execution_count": 89,
   "metadata": {
    "collapsed": false
   },
   "outputs": [
    {
     "data": {
      "image/png": "[encoded data removed]",
      "text/plain": [
       "<matplotlib.figure.Figure at 0x7ff6db7f9810>"
      ]
     },
     "metadata": {},
     "output_type": "display_data"
    }
   ],
   "source": [
    "plt.plot(costs_train, label='train cost')\n",
    "plt.plot(costs_test, label='test cost')\n",
    "plt.legend();"
   ]
  },
  {
   "cell_type": "code",
   "execution_count": 90,
   "metadata": {
    "collapsed": false
   },
   "outputs": [
    {
     "name": "stdout",
     "output_type": "stream",
     "text": [
      "('confusion matrix:\\n', array([[12899,   104],\n",
      "       [  167, 11416]], dtype=int32))\n",
      "precision: 0.991, recall: 0.986\n",
      "('confusion matrix:\\n', array([[5182,  391],\n",
      "       [ 465, 4500]], dtype=int32))\n",
      "precision: 0.920, recall: 0.906\n"
     ]
    }
   ],
   "source": [
    "evaluate_model(sess, inputs_train, labels_train, print_matrix=True)\n",
    "evaluate_model(sess, inputs_test, labels_test, print_matrix=True)"
   ]
  },
  {
   "cell_type": "code",
   "execution_count": null,
   "metadata": {
    "collapsed": true
   },
   "outputs": [],
   "source": []
  }
 ],
 "metadata": {
  "kernelspec": {
   "display_name": "Python 2",
   "language": "python",
   "name": "python2"
  },
  "language_info": {
   "codemirror_mode": {
    "name": "ipython",
    "version": 2
   },
   "file_extension": ".py",
   "mimetype": "text/x-python",
   "name": "python",
   "nbconvert_exporter": "python",
   "pygments_lexer": "ipython2",
   "version": "2.7.6"
  }
 },
 "nbformat": 4,
 "nbformat_minor": 1
}
