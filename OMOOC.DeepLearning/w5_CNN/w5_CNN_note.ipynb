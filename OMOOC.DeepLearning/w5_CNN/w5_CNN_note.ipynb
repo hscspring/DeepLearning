{
 "cells": [
  {
   "cell_type": "markdown",
   "metadata": {},
   "source": [
    "## 课程目标\n",
    "\n",
    "- 进一步深入理解 NN 在 NLP 中的应用，及 Tensorflow 搭配的一些工具\n",
    "- 了解 CNN 在图像和 NLP 处理上的应用\n",
    "- CNN 相对普通 NN 的优势"
   ]
  },
  {
   "cell_type": "markdown",
   "metadata": {},
   "source": [
    "## Softmax 性质再探究\n",
    "\n",
    "\n",
    "- Softmax：分类问题标配激活函数\n",
    "- 与 Sigmoid 区别（二分类问题）\n",
    "  - 本质没有任何区别，可以推导过去\n",
    "  - Sigmoid 输出节点是 1 个，Softmax 是 2 个\n",
    "  - Softmax 几个输出\n",
    "  \n",
    "\n",
    "【卡片提示】可以自己画图感受一下"
   ]
  },
  {
   "cell_type": "markdown",
   "metadata": {},
   "source": [
    "## 情感分类问题 revist\n",
    "\n",
    "- NN 建模分类问题的套路：系数特征 + 词向量 + 隐层 + Softmax\n",
    "\n",
    "- Word embedding + 隐层（不激活）的问题：其实没有意义\n",
    "  - Word embedding + 隐层（不激活）和只用一个 embedding 没有区别\n",
    "\n",
    "\n",
    "- 疑问\n",
    "  - 12:55 用逻辑回归来处理情感分类问题就是把词向量的维度降到 1？\n",
    "\n",
    "【embedding 这块感觉有点不好理解】\n",
    "\n",
    "\n",
    "#### 作业1\n",
    "\n",
    "- 用神经网络建模，处理之前的情感分类问题"
   ]
  },
  {
   "cell_type": "markdown",
   "metadata": {},
   "source": [
    "## 模型 Debug 及 Tensorboard"
   ]
  },
  {
   "cell_type": "code",
   "execution_count": null,
   "metadata": {
    "collapsed": true
   },
   "outputs": [],
   "source": [
    "# 多久会重新读取一次目录中的日志，如果不设置的话即使刷新也不会立即出现\n",
    "# logdir 表示日志写到哪里\n",
    "# 该命令会直接启动 tensorboard\n",
    "tensorboard --reload_interval=1 --logdir=./"
   ]
  },
  {
   "cell_type": "code",
   "execution_count": 1,
   "metadata": {
    "collapsed": true
   },
   "outputs": [],
   "source": [
    "import tensorflow as tf"
   ]
  },
  {
   "cell_type": "code",
   "execution_count": 44,
   "metadata": {
    "collapsed": true
   },
   "outputs": [],
   "source": [
    "tf.reset_default_graph()"
   ]
  },
  {
   "cell_type": "code",
   "execution_count": 45,
   "metadata": {
    "collapsed": true
   },
   "outputs": [],
   "source": [
    "c = tf.constant([1,2,3])\n",
    "c2 = c + c"
   ]
  },
  {
   "cell_type": "code",
   "execution_count": 46,
   "metadata": {
    "collapsed": true
   },
   "outputs": [],
   "source": [
    "# 断言 c2 的每个元素都大于0，如果不是程序就终止\n",
    "# 保障程序正确性的手段\n",
    "assert_op = tf.Assert(tf.reduce_all(c2>0), [c2], name=\"assert\")"
   ]
  },
  {
   "cell_type": "code",
   "execution_count": 47,
   "metadata": {
    "collapsed": true
   },
   "outputs": [],
   "source": [
    "# control_dependencies 类似于 if\n",
    "# 用 out 代替 c2，就保证断言会被执行\n",
    "# 断言看成 out 的一种输入，输入是 c2 的返回值\n",
    "# 虚线代表控制流\n",
    "# identity 返回的就是 c2，就是一个 operation，否则 out 和 c2 连不起来\n",
    "with tf.control_dependencies([assert_op]):\n",
    "    out = tf.identity(c2, name='out')"
   ]
  },
  {
   "cell_type": "code",
   "execution_count": 73,
   "metadata": {
    "collapsed": false
   },
   "outputs": [
    {
     "data": {
      "text/plain": [
       "<tensorflow.python.summary.writer.writer.FileWriter at 0x7f50cc24c590>"
      ]
     },
     "execution_count": 73,
     "metadata": {},
     "output_type": "execute_result"
    }
   ],
   "source": [
    "# 只声明 Tensor，没有 Operation 就不会画出来\n",
    "tf.summary.FileWriter(\"./tf_log\", graph=tf.get_default_graph())"
   ]
  },
  {
   "cell_type": "markdown",
   "metadata": {},
   "source": [
    "### 关于 Tensorflow\n",
    "\n",
    "- Nodes 就是 operations\n",
    "- Edges 就是 tensors，表示 data 从一个节点到另一个节点"
   ]
  },
  {
   "cell_type": "markdown",
   "metadata": {},
   "source": [
    "### 简化 tensorboard"
   ]
  },
  {
   "cell_type": "code",
   "execution_count": 68,
   "metadata": {
    "collapsed": true
   },
   "outputs": [],
   "source": [
    "tf.reset_default_graph()"
   ]
  },
  {
   "cell_type": "code",
   "execution_count": 69,
   "metadata": {
    "collapsed": false
   },
   "outputs": [],
   "source": [
    "# name_scope 会把所有的操作包起来\n",
    "# 建议对变量命名\n",
    "\n",
    "with tf.name_scope('hidden_layer'):\n",
    "    \n",
    "    m = tf.random_uniform((3, 3), -1, 1, name='weights')\n",
    "    b = tf.zeros((1, 3), name='bias')\n",
    "    input_ = tf.constant([[1, 2, 3]], dtype=tf.float32)\n",
    "\n",
    "    raw_output = tf.matmul(input_, m) + b"
   ]
  },
  {
   "cell_type": "code",
   "execution_count": 70,
   "metadata": {
    "collapsed": true
   },
   "outputs": [],
   "source": [
    "with tf.name_scope('hidden_layer'):\n",
    "    \n",
    "    m2 = tf.random_uniform((3, 3), -1, 1, name='weights')\n",
    "    b2 = tf.zeros((1, 3), name='bias')\n",
    "    input_ = tf.constant([[1, 2, 3]], dtype=tf.float32)\n",
    "\n",
    "    raw_output2 = tf.matmul(raw_output, m2) + b2"
   ]
  },
  {
   "cell_type": "markdown",
   "metadata": {},
   "source": [
    "### 可视化"
   ]
  },
  {
   "cell_type": "code",
   "execution_count": 74,
   "metadata": {
    "collapsed": true
   },
   "outputs": [],
   "source": [
    "%matplotlib inline\n",
    "from matplotlib import pyplot as plt"
   ]
  },
  {
   "cell_type": "code",
   "execution_count": 76,
   "metadata": {
    "collapsed": true
   },
   "outputs": [],
   "source": [
    "import numpy as np"
   ]
  },
  {
   "cell_type": "code",
   "execution_count": 120,
   "metadata": {
    "collapsed": true
   },
   "outputs": [],
   "source": [
    "tf.reset_default_graph()"
   ]
  },
  {
   "cell_type": "code",
   "execution_count": 121,
   "metadata": {
    "collapsed": false
   },
   "outputs": [],
   "source": [
    "x = np.arange(0, 20)\n",
    "y = x + np.random.normal(size=20)"
   ]
  },
  {
   "cell_type": "code",
   "execution_count": 122,
   "metadata": {
    "collapsed": false
   },
   "outputs": [],
   "source": [
    "w = tf.Variable(tf.random_uniform([1], -1.0, 1.0), name='W')\n",
    "b = tf.Variable(tf.zeros([1]), name='b')\n",
    "\n",
    "y_bar = w * x + b\n",
    "cost = tf.reduce_mean((y_bar - y) ** 2)\n",
    "\n",
    "# 记录器记录 cost\n",
    "# scalar 标量，只能是一个值\n",
    "# 实际 run 时才会记录\n",
    "cost_summary = tf.summary.scalar('cost', cost)\n",
    "\n",
    "# 直方图\n",
    "w_summary = tf.summary.histogram('w', w)\n",
    "\n",
    "\n",
    "# mearge 会自动收集 graph 上所有 summary 操作\n",
    "merged = tf.summary.merge_all()"
   ]
  },
  {
   "cell_type": "code",
   "execution_count": 125,
   "metadata": {
    "collapsed": true
   },
   "outputs": [],
   "source": [
    "# 不显示 graph\n",
    "writer = tf.summary.FileWriter(\"./tf_log\")#, graph=tf.get_default_graph())"
   ]
  },
  {
   "cell_type": "code",
   "execution_count": 124,
   "metadata": {
    "collapsed": false
   },
   "outputs": [],
   "source": [
    "train_step = tf.train.GradientDescentOptimizer(0.0001).minimize(cost)\n",
    "with tf.Session() as sess:\n",
    "    sess.run(tf.global_variables_initializer())\n",
    "    for i in range(100):\n",
    "        #_, cost_summary_run, w_run = sess.run([train_step, cost_summary, w_summary])\n",
    "        \n",
    "        # 用 merge\n",
    "        _, merge_summary= sess.run([train_step, merged])\n",
    "        writer.add_summary(merge_summary, i)\n",
    "        \n",
    "        #writer.add_summary(cost_summary_run, i)\n",
    "        #writer.add_summary(w_run, i)\n",
    "        #print(cost_summary_run)"
   ]
  },
  {
   "cell_type": "code",
   "execution_count": 95,
   "metadata": {
    "collapsed": false
   },
   "outputs": [
    {
     "data": {
      "text/plain": [
       "<tensorflow.python.summary.writer.writer.FileWriter at 0x7f50c87e7c90>"
      ]
     },
     "execution_count": 95,
     "metadata": {},
     "output_type": "execute_result"
    }
   ],
   "source": [
    "tf.summary.FileWriter(\"./tf_log\", graph=tf.get_default_graph())"
   ]
  },
  {
   "cell_type": "markdown",
   "metadata": {},
   "source": [
    "- \"tf.train.SummaryWriter\": \"tf.summary.FileWriter\",\n",
    "- \"tf.scalar_summary\": \"tf.summary.scalar\",\n",
    "- \"tf.histogram_summary\": \"tf.summary.histogram\",\n",
    "- \"tf.audio_summary\": \"tf.summary.audio\",\n",
    "- \"tf.image_summary\": \"tf.summary.image\",\n",
    "- \"tf.merge_summary\": \"tf.summary.merge\",\n",
    "- \"tf.merge_all_summaries\": \"tf.summary.merge_all\","
   ]
  },
  {
   "cell_type": "markdown",
   "metadata": {},
   "source": [
    "#### 作业2\n",
    "\n",
    "- 将 NN Language Model 的 cost 下降情况用 summary + tensorboard 的方式进行可视化\n",
    "- 收集 Word embedding 的 histogram 并进行可视化"
   ]
  },
  {
   "cell_type": "markdown",
   "metadata": {},
   "source": [
    "## 卷积"
   ]
  },
  {
   "cell_type": "markdown",
   "metadata": {},
   "source": [
    "### 一维卷积"
   ]
  },
  {
   "cell_type": "markdown",
   "metadata": {},
   "source": [
    "- 对信号的一种处理\n",
    "- 元素个数：length(list) - length(window_size) + 1\n",
    "  - window 就是 kernel，x y z\n",
    "  - list 就是输入\n",
    "- 填充：希望结果的个数和原始输入的个数一样，保证维度没有发生变化"
   ]
  },
  {
   "cell_type": "markdown",
   "metadata": {},
   "source": [
    "### 二维卷积"
   ]
  },
  {
   "cell_type": "markdown",
   "metadata": {},
   "source": [
    "- 图像模糊就相当于一维数据的平滑\n",
    "- 模糊就是之前黑白分明的图像被平滑了"
   ]
  },
  {
   "cell_type": "markdown",
   "metadata": {},
   "source": [
    "## 卷积神经网络"
   ]
  },
  {
   "cell_type": "markdown",
   "metadata": {},
   "source": [
    "- 卷积的 Kernel 是 【学习】出来的\n",
    "  - 只需要指定网络结构\n",
    "  - 自动学习（自适应）最佳的中间表示\n",
    "- 很多 Kernel 和 Pooling 的连续组合\n",
    "- 卷积在图像上的好处\n",
    "  - 参数个数少\n",
    "  - 平移不变性（translation invariant）\n",
    "- 卷积在自然语言处理上的好处\n",
    "  - 不再局限于一个固定的【窗口】而是能综合考虑整个句子\n",
    "  - 平移不变性"
   ]
  },
  {
   "cell_type": "markdown",
   "metadata": {},
   "source": [
    "- input：输入，四维\n",
    "- filter：Kernel\n",
    "- strides：步长\n",
    "- padding：最边缘的地方做填充，否则会比原图小一些"
   ]
  },
  {
   "cell_type": "markdown",
   "metadata": {},
   "source": [
    "#### 作业3\n",
    "\n",
    "- 根据作业框架，使用一个能够平滑图像的二维卷积对图像进行处理"
   ]
  },
  {
   "cell_type": "markdown",
   "metadata": {},
   "source": [
    "【论文】"
   ]
  },
  {
   "cell_type": "markdown",
   "metadata": {},
   "source": [
    "#### 作业4\n",
    "\n",
    "- 应用卷积神经网络实现情感分类\n",
    "  - 标准化格式，能够读取格式固定的训练、测试数据，跑出 Accuracy 和 Confusion Matrix 结果"
   ]
  },
  {
   "cell_type": "code",
   "execution_count": null,
   "metadata": {
    "collapsed": true
   },
   "outputs": [],
   "source": []
  }
 ],
 "metadata": {
  "kernelspec": {
   "display_name": "Python 2",
   "language": "python",
   "name": "python2"
  },
  "language_info": {
   "codemirror_mode": {
    "name": "ipython",
    "version": 2
   },
   "file_extension": ".py",
   "mimetype": "text/x-python",
   "name": "python",
   "nbconvert_exporter": "python",
   "pygments_lexer": "ipython2",
   "version": "2.7.12"
  },
  "latex_envs": {
   "LaTeX_envs_menu_present": true,
   "bibliofile": "biblio.bib",
   "cite_by": "apalike",
   "current_citInitial": 1,
   "eqLabelWithNumbers": true,
   "eqNumInitial": 1,
   "hotkeys": {
    "equation": "Ctrl-E",
    "itemize": "Ctrl-I"
   },
   "labels_anchors": false,
   "latex_user_defs": false,
   "report_style_numbering": false,
   "user_envs_cfg": false
  },
  "toc": {
   "colors": {
    "hover_highlight": "#DAA520",
    "running_highlight": "#FF0000",
    "selected_highlight": "#FFD700"
   },
   "moveMenuLeft": true,
   "nav_menu": {
    "height": "11.818182px",
    "width": "1.818182px"
   },
   "navigate_menu": true,
   "number_sections": true,
   "sideBar": true,
   "threshold": 4,
   "toc_cell": false,
   "toc_section_display": "block",
   "toc_window_display": false
  }
 },
 "nbformat": 4,
 "nbformat_minor": 1
}
