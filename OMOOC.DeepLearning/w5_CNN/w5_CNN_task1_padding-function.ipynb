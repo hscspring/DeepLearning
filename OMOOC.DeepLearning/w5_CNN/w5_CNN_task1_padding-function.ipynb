{
 "cells": [
  {
   "cell_type": "code",
   "execution_count": 1,
   "metadata": {},
   "outputs": [
    {
     "name": "stdout",
     "output_type": "stream",
     "text": [
      "1.0.1\n"
     ]
    }
   ],
   "source": [
    "%matplotlib inline\n",
    "from matplotlib import pyplot as plt\n",
    "import numpy as np\n",
    "import tensorflow as tf\n",
    "from collections import Counter\n",
    "import jieba\n",
    "import jieba.posseg as pseg\n",
    "print(tf.__version__)"
   ]
  },
  {
   "cell_type": "markdown",
   "metadata": {
    "collapsed": true
   },
   "source": [
    "# 作业1\n",
    "\n",
    "- 用神经网络建模，处理之前的情感分类问题"
   ]
  },
  {
   "cell_type": "markdown",
   "metadata": {},
   "source": [
    "## 获得词向量"
   ]
  },
  {
   "cell_type": "markdown",
   "metadata": {},
   "source": [
    "### 定义参数"
   ]
  },
  {
   "cell_type": "code",
   "execution_count": 103,
   "metadata": {
    "collapsed": true
   },
   "outputs": [],
   "source": [
    "# 决定了 embedding 的维度 （隐层节点数）\n",
    "word_embedding_dim = 128\n",
    "# 决定了词表数量, 预留一个未登录词\n",
    "vocab_size = 10000 + 1\n",
    "UNK_IDX = 0"
   ]
  },
  {
   "cell_type": "code",
   "execution_count": 104,
   "metadata": {
    "collapsed": true
   },
   "outputs": [],
   "source": [
    "word_embedding = tf.Variable(tf.random_uniform([vocab_size, word_embedding_dim]))\n",
    "input_data = tf.placeholder(tf.int32, shape=[None, 833], name='input_data')\n",
    "input_embeds = tf.nn.embedding_lookup(word_embedding, input_data)\n",
    "context_embeds = tf.reduce_sum(input_embeds, axis=1)"
   ]
  },
  {
   "cell_type": "code",
   "execution_count": 105,
   "metadata": {},
   "outputs": [
    {
     "data": {
      "text/plain": [
       "<tf.Tensor 'embedding_lookup_1:0' shape=(?, 833, 128) dtype=float32>"
      ]
     },
     "execution_count": 105,
     "metadata": {},
     "output_type": "execute_result"
    }
   ],
   "source": [
    "input_embeds"
   ]
  },
  {
   "cell_type": "code",
   "execution_count": 106,
   "metadata": {},
   "outputs": [
    {
     "data": {
      "text/plain": [
       "<tensorflow.python.ops.variables.Variable at 0x7f09beec2110>"
      ]
     },
     "execution_count": 106,
     "metadata": {},
     "output_type": "execute_result"
    }
   ],
   "source": [
    "word_embedding"
   ]
  },
  {
   "cell_type": "code",
   "execution_count": 107,
   "metadata": {
    "collapsed": true
   },
   "outputs": [],
   "source": [
    "# raw_output 是一个 vocab_size 维的数据，对比 labels 计算 cost\n",
    "# 假设输入一组（也就是 两个词），输出因为词向量相加过了，所以就是一个词的词向量：one-hot？\n",
    "raw_output = tf.layers.dense(context_embeds, vocab_size)\n",
    "# 如果输入一组，输出的 softmax 是预测的 one-hot 的概率分布？最可能的那个输出词概率最大？\n",
    "output = tf.nn.softmax(raw_output)"
   ]
  },
  {
   "cell_type": "code",
   "execution_count": 108,
   "metadata": {
    "collapsed": true
   },
   "outputs": [],
   "source": [
    "# 样本的 labels 也需要用 placeholder 放置\n",
    "labels = tf.placeholder(tf.int32, shape=[None], name='labels')\n",
    "\n",
    "# 因为我们每个样本的 label 只有一个，使用稠密的 softmax 算 cost 及求导太浪费了。这里使用 sparse 版本即可。\n",
    "# 如果你的 label 是完整的 N 个词上的概率分布，这时候可以使用 tf.nn.softmax_cross_entropy_with_logits\n",
    "cost = tf.nn.sparse_softmax_cross_entropy_with_logits(logits=raw_output, labels=labels)"
   ]
  },
  {
   "cell_type": "markdown",
   "metadata": {},
   "source": [
    "### 训练集"
   ]
  },
  {
   "cell_type": "code",
   "execution_count": 22,
   "metadata": {
    "collapsed": true
   },
   "outputs": [],
   "source": [
    "SEN_LENGTH = 50\n",
    "vocab_size = 10001\n",
    "LIMIT = 3"
   ]
  },
  {
   "cell_type": "code",
   "execution_count": 119,
   "metadata": {
    "collapsed": true
   },
   "outputs": [],
   "source": [
    "def cutset(s):\n",
    "    words = []\n",
    "    for w,f in pseg.cut(s.strip()):\n",
    "        if f == 'x':\n",
    "            continue\n",
    "        words.append(w)\n",
    "    return words"
   ]
  },
  {
   "cell_type": "code",
   "execution_count": 120,
   "metadata": {
    "collapsed": true
   },
   "outputs": [],
   "source": [
    "def read_file(file):\n",
    "    with open(file, 'r') as f:\n",
    "        dataset = []\n",
    "        rawdata = f.read().decode('utf-8')\n",
    "        data = rawdata.split('\\n')\n",
    "        for w in data:\n",
    "            dataset.append(w.split('\\t'))\n",
    "    \n",
    "        sensetcut = []\n",
    "        for i in range(len(dataset)-1):\n",
    "            tmp = [cutset(dataset[i][0]), int(dataset[i][1])]\n",
    "            sensetcut.append(tmp)\n",
    "    \n",
    "    return sensetcut"
   ]
  },
  {
   "cell_type": "code",
   "execution_count": 121,
   "metadata": {},
   "outputs": [],
   "source": [
    "def get_vocab(sensetcut):\n",
    "    words = []\n",
    "    for s in sensetcut:\n",
    "        for w in s[0]:\n",
    "            words.append(w)\n",
    "    word_cnt = Counter(words)\n",
    "    #vocab = [i[0] for i in word_cnt.most_common(vocab_size - 1)] # 采用固定长度 vocab_size，也可以采用 word_cnt 不低于某值\n",
    "    vocab = [i[0] for i in word_cnt.most_common() if (i[1] > LIMIT) ]\n",
    "    vocab.insert(0, 'UNK')\n",
    "    return vocab"
   ]
  },
  {
   "cell_type": "code",
   "execution_count": 122,
   "metadata": {},
   "outputs": [],
   "source": [
    "def get_data(sensetcut, vocab):\n",
    "\n",
    "    train_ids = []\n",
    "    label_ids = []\n",
    "    inputs = np.zeros(len(sensetcut)*SEN_LENGTH).reshape(len(sensetcut), SEN_LENGTH)\n",
    "    labels = np.zeros(len(sensetcut))\n",
    "    for i in range(len(sensetcut)):\n",
    "        if len(sensetcut[i][0]) < 1:\n",
    "            continue\n",
    "        tmp1 = np.array([[vocab.index(word) if (word in vocab) else 0 for word in sensetcut[i][0]]])\n",
    "        if tmp1.shape[1] < SEN_LENGTH:\n",
    "            tmp2 = np.array([np.zeros(SEN_LENGTH-tmp1.shape[1])])\n",
    "            tmp = np.hstack((tmp1, tmp2))\n",
    "        else:\n",
    "            tmp = tmp1[0, 0:SEN_LENGTH]\n",
    "        inputs[i] = tmp\n",
    "        labels[i] = sensetcut[i][1]\n",
    "    return inputs, labels"
   ]
  },
  {
   "cell_type": "code",
   "execution_count": null,
   "metadata": {
    "collapsed": true
   },
   "outputs": [],
   "source": [
    "sensetcut_train = read_file('./train_shuffle.txt')\n",
    "sensetcut_test = read_file('./test_shuffle.txt')\n",
    "\n",
    "vocab_train = get_vocab(sensetcut_train)"
   ]
  },
  {
   "cell_type": "code",
   "execution_count": null,
   "metadata": {
    "collapsed": true
   },
   "outputs": [],
   "source": [
    "inputs_train, labels_train = get_data(sensetcut_train, vocab_train)"
   ]
  },
  {
   "cell_type": "code",
   "execution_count": 129,
   "metadata": {
    "collapsed": true
   },
   "outputs": [],
   "source": [
    "inputs_test, labels_test = get_data(sensetcut_test, vocab_train)"
   ]
  },
  {
   "cell_type": "code",
   "execution_count": 130,
   "metadata": {},
   "outputs": [
    {
     "data": {
      "text/plain": [
       "(24586, 50)"
      ]
     },
     "execution_count": 130,
     "metadata": {},
     "output_type": "execute_result"
    }
   ],
   "source": [
    "inputs_train.shape"
   ]
  },
  {
   "cell_type": "code",
   "execution_count": 131,
   "metadata": {},
   "outputs": [
    {
     "data": {
      "text/plain": [
       "(10538, 50)"
      ]
     },
     "execution_count": 131,
     "metadata": {},
     "output_type": "execute_result"
    }
   ],
   "source": [
    "inputs_test.shape"
   ]
  },
  {
   "cell_type": "code",
   "execution_count": 138,
   "metadata": {},
   "outputs": [],
   "source": [
    "train_data = np.hstack((inputs_train, labels_train.reshape(len(inputs_train),1)))"
   ]
  },
  {
   "cell_type": "code",
   "execution_count": 139,
   "metadata": {},
   "outputs": [],
   "source": [
    "test_data = np.hstack((inputs_test, labels_test.reshape(len(inputs_test),1)))"
   ]
  },
  {
   "cell_type": "code",
   "execution_count": 135,
   "metadata": {
    "collapsed": true
   },
   "outputs": [],
   "source": [
    "from random import shuffle"
   ]
  },
  {
   "cell_type": "markdown",
   "metadata": {},
   "source": [
    "### 训练模型"
   ]
  },
  {
   "cell_type": "code",
   "execution_count": 135,
   "metadata": {
    "collapsed": true
   },
   "outputs": [],
   "source": [
    "shuffle(train_data)"
   ]
  },
  {
   "cell_type": "code",
   "execution_count": 141,
   "metadata": {},
   "outputs": [
    {
     "name": "stdout",
     "output_type": "stream",
     "text": [
      "Iteration 0\n",
      "Cost 矩阵：\n",
      "[ 0.  0.  0.  0.  0.  0.  0.  0.  0.  0.]\n",
      "cost 长度：10\n",
      "Output 长度: 10001\n",
      "(10, 10001)\n",
      "(10001,)\n",
      "Output 矩阵：\n",
      "[[ 0.  1.  0. ...,  0.  0.  0.]\n",
      " [ 0.  1.  0. ...,  0.  0.  0.]\n",
      " [ 0.  1.  0. ...,  0.  0.  0.]\n",
      " ..., \n",
      " [ 0.  1.  0. ...,  0.  0.  0.]\n",
      " [ 0.  1.  0. ...,  0.  0.  0.]\n",
      " [ 0.  1.  0. ...,  0.  0.  0.]]\n",
      "Probability: 0.000000\n",
      "------\n",
      "Iteration 5000\n",
      "Cost 矩阵：\n",
      "[  6.98424768e+00   5.61241579e+00   0.00000000e+00   5.81346226e+00\n",
      "   1.10929072e-01   3.57621466e-05   4.76837045e-07   8.81045242e-04\n",
      "   1.32185787e-01   7.41669655e+00]\n",
      "cost 长度：10\n",
      "Output 长度: 10001\n",
      "(10, 10001)\n",
      "(10001,)\n",
      "Output 矩阵：\n",
      "[[  9.26359906e-04   9.99072909e-01   2.10453657e-13 ...,   4.96110444e-12\n",
      "    7.34816860e-11   5.46131716e-12]\n",
      " [  3.65223526e-03   9.96347845e-01   2.23020366e-15 ...,   7.24525420e-14\n",
      "    6.90804293e-13   6.98540347e-14]\n",
      " [  1.00000000e+00   0.00000000e+00   0.00000000e+00 ...,   0.00000000e+00\n",
      "    0.00000000e+00   0.00000000e+00]\n",
      " ..., \n",
      " [  8.80279986e-04   9.99119341e-01   1.29821148e-13 ...,   3.19049800e-12\n",
      "    4.23037855e-11   3.48494063e-12]\n",
      " [  1.23821795e-01   8.76178205e-01   9.06454824e-20 ...,   3.13376238e-18\n",
      "    1.46915797e-17   2.14714849e-18]\n",
      " [  6.01131644e-04   9.99397397e-01   4.03524192e-13 ...,   1.20903816e-11\n",
      "    1.66735847e-10   1.20913496e-11]]\n",
      "Probability: 0.000000\n",
      "------\n",
      "Iteration 10000\n",
      "Cost 矩阵：\n",
      "[  6.44117880e+00   6.50551869e-04   6.58430338e-01   2.94174641e-01\n",
      "   0.00000000e+00   5.73424816e-01   2.20724866e-02   1.90537727e+00\n",
      "   0.00000000e+00   1.08401918e+00]\n",
      "cost 长度：10\n",
      "Output 长度: 10001\n",
      "(10, 10001)\n",
      "(10001,)\n",
      "Output 矩阵：\n",
      "[[  9.98405516e-01   1.59452634e-03   2.54950729e-38 ...,   6.40132779e-37\n",
      "    5.62465677e-38   1.72247338e-37]\n",
      " [  9.99349654e-01   6.50389993e-04   0.00000000e+00 ...,   8.50216936e-38\n",
      "    0.00000000e+00   0.00000000e+00]\n",
      " [  4.82336670e-01   5.17663240e-01   4.09938156e-24 ...,   9.47111515e-23\n",
      "    9.40623291e-23   3.06572047e-23]\n",
      " ..., \n",
      " [  8.51233482e-01   1.48766503e-01   1.24420756e-27 ...,   2.22505799e-26\n",
      "    1.04924833e-26   8.73408459e-27]\n",
      " [  1.00000000e+00   6.79614217e-15   0.00000000e+00 ...,   0.00000000e+00\n",
      "    0.00000000e+00   0.00000000e+00]\n",
      " [  3.38233352e-01   6.61766648e-01   8.29971855e-23 ...,   1.36304764e-21\n",
      "    2.08954507e-21   5.34043990e-22]]\n",
      "Probability: 0.000000\n",
      "------\n",
      "Iteration 15000\n",
      "Cost 矩阵：\n",
      "[ 0.14149249  0.15675202  0.16654825  0.19523367  0.07350545  0.02123805\n",
      "  0.11481504  0.07192385  0.16719757  0.01088361]\n",
      "cost 长度：10\n",
      "Output 长度: 10001\n",
      "(10, 10001)\n",
      "(10001,)\n",
      "Output 矩阵：\n",
      "[[  1.31938308e-01   8.68061721e-01   5.62015254e-15 ...,   7.65934015e-14\n",
      "    4.06373665e-13   5.12796694e-14]\n",
      " [  1.45083889e-01   8.54916036e-01   1.47668227e-13 ...,   1.73360078e-12\n",
      "    1.08592232e-11   1.25745638e-12]\n",
      " [  1.53418094e-01   8.46581995e-01   1.00682578e-16 ...,   2.35401531e-15\n",
      "    4.58346257e-15   8.48123820e-16]\n",
      " ..., \n",
      " [  6.93982244e-02   9.30601776e-01   2.81997590e-26 ...,   5.59035993e-25\n",
      "    2.67711011e-26   7.16336177e-26]\n",
      " [  1.53967604e-01   8.46032441e-01   1.86697276e-14 ...,   1.58567725e-13\n",
      "    7.75708436e-13   1.35742735e-13]\n",
      " [  1.08246561e-02   9.89175379e-01   0.00000000e+00 ...,   0.00000000e+00\n",
      "    0.00000000e+00   0.00000000e+00]]\n",
      "Probability: 0.000000\n",
      "------\n",
      "Iteration 20000\n",
      "Cost 矩阵：\n",
      "[  1.60562020e-04   4.27985936e-03   1.13981254e-01   5.96044674e-06\n",
      "   5.31298965e-02   1.47206346e-02   0.00000000e+00   1.82034578e-02\n",
      "   2.82489389e-01   5.39667904e-03]\n",
      "cost 长度：10\n",
      "Output 长度: 10001\n",
      "(10, 10001)\n",
      "(10001,)\n",
      "Output 矩阵：\n",
      "[[  1.60583790e-04   9.99839425e-01   7.09739851e-29 ...,   2.39581448e-27\n",
      "    3.27883675e-29   1.83610000e-28]\n",
      " [  4.27066442e-03   9.95729268e-01   2.89030668e-24 ...,   1.75045458e-23\n",
      "    4.62246892e-24   6.65884432e-24]\n",
      " [  1.07725345e-01   8.92274678e-01   2.36847194e-16 ...,   4.22764308e-15\n",
      "    1.14930436e-14   1.93018840e-15]\n",
      " ..., \n",
      " [  1.80387739e-02   9.81961250e-01   1.56504074e-20 ...,   1.11325327e-19\n",
      "    5.40593647e-20   7.32030285e-20]\n",
      " [  2.46095330e-01   7.53904641e-01   1.82586100e-14 ...,   2.23082078e-13\n",
      "    1.51762511e-12   1.75668142e-13]\n",
      " [  5.38209872e-03   9.94617879e-01   2.31059647e-24 ...,   1.05186492e-23\n",
      "    7.64708499e-25   3.24766718e-24]]\n",
      "Probability: 0.000000\n",
      "------\n",
      "Iteration 25000\n",
      "Cost 矩阵：\n",
      "[ 0.10317518  0.09570991  0.09522307  0.09094935  0.08862432  0.10108964\n",
      "  0.11173353  0.09033571  0.09277608  0.14408061]\n",
      "cost 长度：10\n",
      "Output 长度: 10001\n",
      "(10, 10001)\n",
      "(10001,)\n",
      "Output 矩阵：\n",
      "[[  9.80310813e-02   9.01968956e-01   2.16624313e-18 ...,   9.83775498e-18\n",
      "    3.51748442e-20   1.48394237e-18]\n",
      " [  9.12243724e-02   9.08727586e-01   9.42364728e-11 ...,   5.88345317e-10\n",
      "    3.11697734e-09   4.65420369e-10]\n",
      " [  9.06062201e-02   9.09170091e-01   2.06006268e-10 ...,   9.21577592e-10\n",
      "    8.12500556e-09   9.32755650e-10]\n",
      " ..., \n",
      " [  8.63755345e-02   9.13624406e-01   1.26775982e-15 ...,   8.08846500e-15\n",
      "    8.69982617e-16   2.41168449e-15]\n",
      " [  8.85956585e-02   9.11397576e-01   2.82514134e-11 ...,   1.70789730e-10\n",
      "    7.69299235e-10   1.57481778e-10]\n",
      " [  1.34182066e-01   8.65817964e-01   7.56472318e-14 ...,   3.68132879e-13\n",
      "    9.29338122e-14   1.73862498e-13]]\n",
      "Probability: 0.000000\n",
      "------\n",
      "Iteration 30000\n",
      "Cost 矩阵：\n",
      "[ 0.00419641  0.04437578  0.09369882  0.08531445  0.11254671  0.05663706\n",
      "  0.02535913  0.07752209  0.06704219  0.14626192]\n",
      "cost 长度：10\n",
      "Output 长度: 10001\n",
      "(10, 10001)\n",
      "(10001,)\n",
      "Output 矩阵：\n",
      "[[  4.18754900e-03   9.95812356e-01   1.54659227e-15 ...,   7.75936390e-15\n",
      "    5.12324114e-18   7.73654271e-16]\n",
      " [  4.34056185e-02   9.56594408e-01   1.22819208e-13 ...,   4.46637004e-13\n",
      "    2.48705706e-13   2.55483595e-13]\n",
      " [  8.94424245e-02   9.10556972e-01   1.08724245e-11 ...,   7.37740841e-11\n",
      "    1.06788689e-10   5.98823491e-11]\n",
      " ..., \n",
      " [  7.45934248e-02   9.25406575e-01   2.29128934e-12 ...,   7.90792345e-12\n",
      "    5.81953713e-12   5.10573918e-12]\n",
      " [  6.48441762e-02   9.35155749e-01   7.35075629e-12 ...,   3.79025387e-11\n",
      "    1.23427631e-11   1.35884125e-11]\n",
      " [  1.35895714e-01   8.63931417e-01   1.01351830e-10 ...,   6.85633328e-10\n",
      "    4.04741884e-09   6.10332729e-10]]\n",
      "Probability: 0.000000\n",
      "------\n",
      "Iteration 35000\n",
      "Cost 矩阵：\n",
      "[ 0.0502094   0.0488537   0.05939205  0.02912849  0.03701333  0.019964\n",
      "  0.03515817  0.06483737  0.06488776  0.05695489]\n",
      "cost 长度：10\n",
      "Output 长度: 10001\n",
      "(10, 10001)\n",
      "(10001,)\n",
      "Output 矩阵：\n",
      "[[  4.89697605e-02   9.51030254e-01   4.42678419e-13 ...,   6.55985986e-12\n",
      "    5.94820720e-12   2.57130471e-12]\n",
      " [  4.76697721e-02   9.52320457e-01   4.64265883e-11 ...,   2.16962656e-10\n",
      "    8.58046689e-10   1.93422361e-10]\n",
      " [  5.76609448e-02   9.42337275e-01   1.87310757e-11 ...,   1.09971643e-10\n",
      "    2.35868963e-10   7.63858074e-11]\n",
      " ..., \n",
      " [  6.24649674e-02   9.37219858e-01   3.55928481e-10 ...,   2.29813590e-09\n",
      "    1.15057892e-08   2.30724040e-09]\n",
      " [  6.28264248e-02   9.37172651e-01   1.57869811e-11 ...,   6.72744291e-11\n",
      "    1.34807596e-10   6.09389622e-11]\n",
      " [  5.53619228e-02   9.44636703e-01   1.70997157e-11 ...,   7.47293893e-11\n",
      "    1.82301146e-10   6.66699820e-11]]\n",
      "Probability: 0.000000\n",
      "------\n",
      "Iteration 40000\n",
      "Cost 矩阵：\n",
      "[ 0.08590821  0.15367857  0.17258342  0.0922029   0.11470323  0.09606939\n",
      "  0.1302533   0.09779815  0.09649422  0.13700397]\n",
      "cost 长度：10\n",
      "Output 长度: 10001\n",
      "(10, 10001)\n",
      "(10001,)\n",
      "Output 矩阵：\n",
      "[[  8.23214948e-02   9.17678475e-01   8.77577362e-13 ...,   7.03858282e-12\n",
      "    9.19814745e-12   2.40299295e-12]\n",
      " [  1.42452404e-01   8.57547641e-01   8.71078275e-13 ...,   2.67815067e-12\n",
      "    1.20133742e-12   7.52693101e-13]\n",
      " [  1.58511937e-01   8.41488123e-01   9.72227941e-13 ...,   1.17802651e-11\n",
      "    9.56960032e-12   3.26336571e-12]\n",
      " ..., \n",
      " [  9.31680053e-02   9.06831920e-01   1.25739827e-12 ...,   6.65605982e-12\n",
      "    1.00621169e-11   3.32363195e-12]\n",
      " [  9.19834971e-02   9.08015132e-01   3.08596811e-12 ...,   1.39050195e-11\n",
      "    1.26428382e-10   1.27703109e-11]\n",
      " [  1.28033072e-01   8.71966779e-01   4.65563699e-12 ...,   1.73007615e-11\n",
      "    4.94288464e-11   9.07863281e-12]]\n",
      "Probability: 0.000000\n",
      "------\n",
      "Iteration 45000\n",
      "Cost 矩阵：\n",
      "[ 0.09260396  2.02428865  0.11736482  0.48486954  0.70882374  0.09531703\n",
      "  1.53781688  0.14904213  2.22210884  1.62018478]\n",
      "cost 长度：10\n",
      "Output 长度: 10001\n",
      "(10, 10001)\n",
      "(10001,)\n",
      "Output 矩阵：\n",
      "[[  8.83869082e-02   9.11554456e-01   7.95916444e-10 ...,   1.90890370e-09\n",
      "    8.77829454e-09   1.80355342e-09]\n",
      " [  1.32087752e-01   8.67911875e-01   2.76657499e-11 ...,   1.70088540e-10\n",
      "    3.04760071e-11   6.02031064e-11]\n",
      " [  1.10725544e-01   8.89260709e-01   3.14741760e-10 ...,   1.40688827e-09\n",
      "    2.87988944e-09   8.69061378e-10]\n",
      " ..., \n",
      " [  1.38465419e-01   8.61532807e-01   1.60762015e-10 ...,   7.02013558e-10\n",
      "    4.68443506e-10   3.46939782e-10]\n",
      " [  1.08380310e-01   8.91544878e-01   6.23308183e-10 ...,   2.98339686e-09\n",
      "    6.92773439e-09   2.10368323e-09]\n",
      " [  1.97862148e-01   8.02137673e-01   1.68052013e-11 ...,   9.16005882e-11\n",
      "    3.94031613e-11   2.94926410e-11]]\n",
      "Probability: 0.000000\n",
      "------\n"
     ]
    }
   ],
   "source": [
    "train_step = tf.train.GradientDescentOptimizer(0.00002).minimize(cost)\n",
    "\n",
    "with tf.Session() as sess:\n",
    "    sess.run(tf.global_variables_initializer())\n",
    "\n",
    "    for i in range(50000):\n",
    "        #shuffle(train_data)\n",
    "        temp = np.random.randint(0, len(train_data)-100)\n",
    "        dummy_feed_dict = {input_data: train_data[temp:temp+10][:,:-1],\n",
    "                       labels: train_data[temp:temp+10][:,-1]}\n",
    "#         dummy_feed_dict = {input_data: inputs_trains[0:5],\n",
    "#                         labels: labels_trains[0:5]}\n",
    "        sess.run(train_step, feed_dict=dummy_feed_dict)\n",
    "        if i % 5000 == 0:\n",
    "            print(\"Iteration %d\" % i)\n",
    "            print(\"Cost 矩阵：\")\n",
    "            print(cost.eval(feed_dict=dummy_feed_dict))\n",
    "            print(\"cost 长度：%d\" % len(cost.eval(feed_dict=dummy_feed_dict)))\n",
    "            # 查看输出中 ID == 30 的概率\n",
    "            print(\"Output 长度: %d\" % len(output.eval(feed_dict=dummy_feed_dict)[0]))\n",
    "            print(output.eval(feed_dict=dummy_feed_dict).shape)\n",
    "            print(output.eval(feed_dict=dummy_feed_dict)[0].shape)\n",
    "            print(\"Output 矩阵：\")\n",
    "            print(output.eval(feed_dict=dummy_feed_dict))\n",
    "            print(\"Probability: %f\" % output.eval(feed_dict=dummy_feed_dict)[1, 30])\n",
    "            print(\"------\")\n",
    "            # 词向量是 context_embeds 吗？\n",
    "            allwords_embedding = context_embeds.eval(feed_dict=dummy_feed_dict)\n",
    "            test = raw_output.eval(feed_dict=dummy_feed_dict)"
   ]
  },
  {
   "cell_type": "markdown",
   "metadata": {},
   "source": [
    "#### 作业2\n",
    "\n",
    "- 将 NN Language Model 的 cost 下降情况用 summary + tensorboard 的方式进行可视化\n",
    "- 收集 Word embedding 的 histogram 并进行可视化"
   ]
  },
  {
   "cell_type": "markdown",
   "metadata": {
    "collapsed": true
   },
   "source": [
    "见 task2"
   ]
  },
  {
   "cell_type": "markdown",
   "metadata": {},
   "source": [
    "#### 作业3\n",
    "\n",
    "- 使用一个能够平滑图像的二维卷积对图像进行处理\n",
    "- 应用卷积神经网络实现情感分类\n",
    "  - 标准化格式，能够读取格式固定的训练、测试数据，跑出 Accuracy 和 Confusion Matrix 结果"
   ]
  },
  {
   "cell_type": "markdown",
   "metadata": {
    "collapsed": true
   },
   "source": [
    "见 task3"
   ]
  },
  {
   "cell_type": "code",
   "execution_count": null,
   "metadata": {
    "collapsed": true
   },
   "outputs": [],
   "source": []
  }
 ],
 "metadata": {
  "kernelspec": {
   "display_name": "Python 3",
   "language": "python",
   "name": "python3"
  },
  "language_info": {
   "codemirror_mode": {
    "name": "ipython",
    "version": 3
   },
   "file_extension": ".py",
   "mimetype": "text/x-python",
   "name": "python",
   "nbconvert_exporter": "python",
   "pygments_lexer": "ipython3",
   "version": "3.6.5"
  },
  "latex_envs": {
   "LaTeX_envs_menu_present": true,
   "autoclose": false,
   "autocomplete": true,
   "bibliofile": "biblio.bib",
   "cite_by": "apalike",
   "current_citInitial": 1,
   "eqLabelWithNumbers": true,
   "eqNumInitial": 1,
   "hotkeys": {
    "equation": "Ctrl-E",
    "itemize": "Ctrl-I"
   },
   "labels_anchors": false,
   "latex_user_defs": false,
   "report_style_numbering": false,
   "user_envs_cfg": false
  },
  "toc": {
   "base_numbering": 1,
   "nav_menu": {},
   "number_sections": true,
   "sideBar": true,
   "skip_h1_title": false,
   "title_cell": "Table of Contents",
   "title_sidebar": "Contents",
   "toc_cell": false,
   "toc_position": {},
   "toc_section_display": true,
   "toc_window_display": false
  }
 },
 "nbformat": 4,
 "nbformat_minor": 1
}
