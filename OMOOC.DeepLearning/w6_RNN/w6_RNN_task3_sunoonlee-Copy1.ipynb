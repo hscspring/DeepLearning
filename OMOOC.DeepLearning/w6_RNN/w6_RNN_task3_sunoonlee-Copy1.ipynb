{
 "cells": [
  {
   "cell_type": "code",
   "execution_count": 1,
   "metadata": {
    "collapsed": false
   },
   "outputs": [],
   "source": [
    "%reload_ext watermark"
   ]
  },
  {
   "cell_type": "code",
   "execution_count": 2,
   "metadata": {
    "collapsed": false
   },
   "outputs": [
    {
     "name": "stdout",
     "output_type": "stream",
     "text": [
      "Yam 2017-05-24 \n",
      "\n",
      "CPython 2.7.6\n",
      "IPython 5.1.0\n",
      "\n",
      "tensorflow 1.0.1\n",
      "\n",
      "compiler   : GCC 4.8.4\n",
      "system     : Linux\n",
      "release    : 4.4.0-21-generic\n",
      "machine    : x86_64\n",
      "processor  : x86_64\n",
      "CPU cores  : 4\n",
      "interpreter: 64bit\n",
      "host name  : 69127fc538bc\n"
     ]
    }
   ],
   "source": [
    "%watermark -a 'Yam' -d -v -h -m -p tensorflow"
   ]
  },
  {
   "cell_type": "code",
   "execution_count": 1,
   "metadata": {
    "collapsed": false
   },
   "outputs": [],
   "source": [
    "import time\n",
    "from collections import Counter\n",
    "import numpy as np\n",
    "import matplotlib.pyplot as plt\n",
    "import tensorflow as tf\n",
    "import jieba\n",
    "%matplotlib inline"
   ]
  },
  {
   "cell_type": "code",
   "execution_count": 2,
   "metadata": {
    "collapsed": true
   },
   "outputs": [],
   "source": [
    "# 模型参数\n",
    "filename = '../AssisantEvaluate/xiyouji.txt'\n",
    "file_read_size = 50000 # 设为 0 时全部读取\n",
    "word_embedding_dim = 30\n",
    "num_units = 30 # units of RNN cell\n",
    "vocab_min_freq = 5 # 计入词表的最小词频\n",
    "rnn_cell_type = 'LSTM'"
   ]
  },
  {
   "cell_type": "markdown",
   "metadata": {},
   "source": [
    "### 读取语料，生成训练数据"
   ]
  },
  {
   "cell_type": "code",
   "execution_count": 3,
   "metadata": {
    "collapsed": false
   },
   "outputs": [],
   "source": [
    "PADDING = '<PAD>'\n",
    "START = '<START>' # 句首 token\n",
    "UNKNOWN = '<UNK>'\n",
    "VOCAB_SPECIAL = (PADDING, START, UNKNOWN)\n",
    "END_PUNC = u'。！？'\n",
    "IGNORE = u'\\n “” \" 《》 <> () （） *'"
   ]
  },
  {
   "cell_type": "code",
   "execution_count": 4,
   "metadata": {
    "collapsed": true
   },
   "outputs": [],
   "source": [
    "def text2sentence(text):\n",
    "    sentences = []\n",
    "    sentence = []\n",
    "    for word in jieba.cut(text):\n",
    "        if word not in IGNORE:\n",
    "            sentence.append(word)\n",
    "        if word in END_PUNC:\n",
    "            sentences.append(sentence)\n",
    "            sentence = []\n",
    "    return sentences\n",
    "\n",
    "def prepend_start_token(sentences):\n",
    "    return [[START] + sen for sen in sentences]\n",
    "\n",
    "def build_vocab(sentences):\n",
    "    vocab = list(VOCAB_SPECIAL)\n",
    "    words_flat = [word for sen in sentences for word in sen]\n",
    "    word_cnt = Counter(words_flat)\n",
    "    for word, count in word_cnt.most_common():\n",
    "        if count >= vocab_min_freq:\n",
    "            vocab.append(word)\n",
    "    return vocab\n",
    "\n",
    "def word2id(word):\n",
    "    if word not in vocab:\n",
    "        word = UNKNOWN\n",
    "    return word2id_dict[word]\n",
    "\n",
    "def sentences2ids(sentences):\n",
    "    return [[word2id(word) for word in s] for s in sentences]"
   ]
  },
  {
   "cell_type": "code",
   "execution_count": 5,
   "metadata": {
    "collapsed": false
   },
   "outputs": [
    {
     "data": {
      "text/plain": [
       "u'/notebooks/OMOOC.DeepLearning/w6_RNN'"
      ]
     },
     "execution_count": 5,
     "metadata": {},
     "output_type": "execute_result"
    }
   ],
   "source": [
    "pwd"
   ]
  },
  {
   "cell_type": "code",
   "execution_count": 6,
   "metadata": {
    "collapsed": false
   },
   "outputs": [
    {
     "name": "stderr",
     "output_type": "stream",
     "text": [
      "Building prefix dict from the default dictionary ...\n",
      "Loading model from cache /tmp/jieba.cache\n",
      "Loading model cost 0.595 seconds.\n",
      "Prefix dict has been built succesfully.\n"
     ]
    }
   ],
   "source": [
    "with open(filename, 'r') as f:\n",
    "    text = f.read(file_read_size).decode('utf-8') if file_read_size else f.read()\n",
    "\n",
    "sentences = text2sentence(text)\n",
    "vocab = build_vocab(sentences)\n",
    "vocab_size = len(vocab)"
   ]
  },
  {
   "cell_type": "code",
   "execution_count": 7,
   "metadata": {
    "collapsed": false
   },
   "outputs": [
    {
     "data": {
      "text/plain": [
       "241"
      ]
     },
     "execution_count": 7,
     "metadata": {},
     "output_type": "execute_result"
    }
   ],
   "source": [
    "len(vocab)"
   ]
  },
  {
   "cell_type": "code",
   "execution_count": 8,
   "metadata": {
    "collapsed": false
   },
   "outputs": [],
   "source": [
    "word2id_dict = {word: i for i, word in enumerate(vocab)}"
   ]
  },
  {
   "cell_type": "code",
   "execution_count": 9,
   "metadata": {
    "collapsed": true
   },
   "outputs": [],
   "source": [
    "sentences = prepend_start_token(sentences)"
   ]
  },
  {
   "cell_type": "code",
   "execution_count": 10,
   "metadata": {
    "collapsed": false
   },
   "outputs": [
    {
     "data": {
      "text/plain": [
       "710"
      ]
     },
     "execution_count": 10,
     "metadata": {},
     "output_type": "execute_result"
    }
   ],
   "source": [
    "len(sentences)"
   ]
  },
  {
   "cell_type": "code",
   "execution_count": 11,
   "metadata": {
    "collapsed": false
   },
   "outputs": [],
   "source": [
    "train_data = sentences2ids(sentences)"
   ]
  },
  {
   "cell_type": "code",
   "execution_count": 12,
   "metadata": {
    "collapsed": false
   },
   "outputs": [
    {
     "data": {
      "text/plain": [
       "710"
      ]
     },
     "execution_count": 12,
     "metadata": {},
     "output_type": "execute_result"
    }
   ],
   "source": [
    "len(train_data)"
   ]
  },
  {
   "cell_type": "code",
   "execution_count": 13,
   "metadata": {
    "collapsed": false
   },
   "outputs": [
    {
     "data": {
      "text/plain": [
       "[1, 11, 180, 49, 2, 2, 2, 2, 3, 2, 223, 4, 2, 175, 2, 5]"
      ]
     },
     "execution_count": 13,
     "metadata": {},
     "output_type": "execute_result"
    }
   ],
   "source": [
    "np.asarray([train_data])[-1,-2]#[:,:-1]"
   ]
  },
  {
   "cell_type": "code",
   "execution_count": 14,
   "metadata": {
    "collapsed": false
   },
   "outputs": [
    {
     "data": {
      "text/plain": [
       "[1, 11, 180, 49, 2, 2, 2, 2, 3, 2, 223, 4, 2, 175, 2, 5]"
      ]
     },
     "execution_count": 14,
     "metadata": {},
     "output_type": "execute_result"
    }
   ],
   "source": [
    "np.asarray([train_data])[:,:-1][-1,-1]"
   ]
  },
  {
   "cell_type": "code",
   "execution_count": 15,
   "metadata": {
    "collapsed": false
   },
   "outputs": [
    {
     "data": {
      "text/plain": [
       "((710, 98), (710, 98))"
      ]
     },
     "execution_count": 15,
     "metadata": {},
     "output_type": "execute_result"
    }
   ],
   "source": [
    "def generate_batch(train_data, batch_size):\n",
    "    for i in range(0, len(train_data), batch_size):\n",
    "        batch = train_data[i:i+batch_size]\n",
    "        max_len_of_batch = max([len(i) for i in batch])\n",
    "        for j in range(len(batch)):\n",
    "            batch[j].extend([0] * (max_len_of_batch - len(batch[j])))\n",
    "        batch_data = np.asarray(batch)\n",
    "        batch_inputs = batch_data[:,:-1]\n",
    "        batch_labels = batch_data[:, 1:]\n",
    "        yield batch_inputs, batch_labels\n",
    "\n",
    "# 当 batch_size 等于总句数时，得到的即为全体样本训练数据\n",
    "all_inputs, all_labels = list(generate_batch(train_data, len(train_data)))[0]\n",
    "all_inputs.shape, all_labels.shape"
   ]
  },
  {
   "cell_type": "markdown",
   "metadata": {},
   "source": [
    "### 构建 RNN"
   ]
  },
  {
   "cell_type": "code",
   "execution_count": 16,
   "metadata": {
    "collapsed": true
   },
   "outputs": [],
   "source": [
    "tf.reset_default_graph()\n",
    "\n",
    "if rnn_cell_type == 'vanilla':\n",
    "    cell = tf.contrib.rnn.BasicRNNCell(num_units)\n",
    "elif rnn_cell_type == 'LSTM':\n",
    "    cell = tf.contrib.rnn.BasicLSTMCell(num_units)\n",
    "else:\n",
    "    raise ValueError('Not a valid cell type')\n",
    "\n",
    "word_embedding = tf.Variable(tf.random_uniform([vocab_size, word_embedding_dim]))\n",
    "\n",
    "inputs = tf.placeholder(tf.int32, shape=[None, None], name='inputs')\n",
    "labels = tf.placeholder(tf.int32, shape=[None, None], name='labels')\n",
    "labels_flat = tf.reshape(labels, (-1,))\n",
    "\n",
    "input_embeds = tf.nn.embedding_lookup(word_embedding, inputs)"
   ]
  },
  {
   "cell_type": "code",
   "execution_count": 17,
   "metadata": {
    "collapsed": false
   },
   "outputs": [
    {
     "data": {
      "text/plain": [
       "<tf.Tensor 'Reshape:0' shape=(?,) dtype=int32>"
      ]
     },
     "execution_count": 17,
     "metadata": {},
     "output_type": "execute_result"
    }
   ],
   "source": [
    "labels_flat"
   ]
  },
  {
   "cell_type": "code",
   "execution_count": 18,
   "metadata": {
    "collapsed": false
   },
   "outputs": [
    {
     "data": {
      "text/plain": [
       "<tf.Tensor 'embedding_lookup:0' shape=(?, ?, 30) dtype=float32>"
      ]
     },
     "execution_count": 18,
     "metadata": {},
     "output_type": "execute_result"
    }
   ],
   "source": [
    "input_embeds"
   ]
  },
  {
   "cell_type": "code",
   "execution_count": 19,
   "metadata": {
    "collapsed": false
   },
   "outputs": [
    {
     "data": {
      "text/plain": [
       "<tf.Tensor 'Sum:0' shape=(?,) dtype=int32>"
      ]
     },
     "execution_count": 19,
     "metadata": {},
     "output_type": "execute_result"
    }
   ],
   "source": [
    "squence_length = tf.reduce_sum(tf.sign(inputs), axis=1)\n",
    "squence_length"
   ]
  },
  {
   "cell_type": "code",
   "execution_count": 20,
   "metadata": {
    "collapsed": false
   },
   "outputs": [
    {
     "data": {
      "text/plain": [
       "<tf.Tensor 'Max:0' shape=() dtype=int32>"
      ]
     },
     "execution_count": 20,
     "metadata": {},
     "output_type": "execute_result"
    }
   ],
   "source": [
    "max_sequence_length = tf.reduce_max(squence_length)\n",
    "max_sequence_length"
   ]
  },
  {
   "cell_type": "code",
   "execution_count": 21,
   "metadata": {
    "collapsed": false
   },
   "outputs": [
    {
     "data": {
      "text/plain": [
       "(<tf.Tensor 'rnn/transpose:0' shape=(?, ?, 30) dtype=float32>,\n",
       " LSTMStateTuple(c=<tf.Tensor 'rnn/while/Exit_2:0' shape=(?, 30) dtype=float32>, h=<tf.Tensor 'rnn/while/Exit_3:0' shape=(?, 30) dtype=float32>))"
      ]
     },
     "execution_count": 21,
     "metadata": {},
     "output_type": "execute_result"
    }
   ],
   "source": [
    "output, states = tf.nn.dynamic_rnn(cell, input_embeds, dtype=tf.float32, sequence_length=squence_length)\n",
    "output, states"
   ]
  },
  {
   "cell_type": "code",
   "execution_count": 22,
   "metadata": {
    "collapsed": false
   },
   "outputs": [
    {
     "data": {
      "text/plain": [
       "<tf.Tensor 'Reshape_1:0' shape=(?, 30) dtype=float32>"
      ]
     },
     "execution_count": 22,
     "metadata": {},
     "output_type": "execute_result"
    }
   ],
   "source": [
    "output_flat = tf.reshape(output, (-1, num_units))\n",
    "output_flat"
   ]
  },
  {
   "cell_type": "code",
   "execution_count": 23,
   "metadata": {
    "collapsed": false
   },
   "outputs": [
    {
     "data": {
      "text/plain": [
       "(<tensorflow.python.ops.variables.Variable at 0x7ff930c19910>,\n",
       " <tensorflow.python.ops.variables.Variable at 0x7ff9261de290>)"
      ]
     },
     "execution_count": 23,
     "metadata": {},
     "output_type": "execute_result"
    }
   ],
   "source": [
    "softmax_w = tf.Variable(tf.random_uniform([num_units, vocab_size]))\n",
    "softmax_b = tf.Variable(tf.random_uniform([vocab_size]))\n",
    "softmax_w, softmax_b"
   ]
  },
  {
   "cell_type": "code",
   "execution_count": 24,
   "metadata": {
    "collapsed": false
   },
   "outputs": [
    {
     "data": {
      "text/plain": [
       "<tf.Tensor 'add:0' shape=(?, 241) dtype=float32>"
      ]
     },
     "execution_count": 24,
     "metadata": {},
     "output_type": "execute_result"
    }
   ],
   "source": [
    "logits_flat = tf.matmul(output_flat, softmax_w) + softmax_b\n",
    "logits_flat"
   ]
  },
  {
   "cell_type": "code",
   "execution_count": 29,
   "metadata": {
    "collapsed": false
   },
   "outputs": [
    {
     "data": {
      "text/plain": [
       "<tf.Tensor 'Softmax:0' shape=(?, 241) dtype=float32>"
      ]
     },
     "execution_count": 29,
     "metadata": {},
     "output_type": "execute_result"
    }
   ],
   "source": [
    "probs_flat = tf.nn.softmax(logits_flat)\n",
    "probs_flat"
   ]
  },
  {
   "cell_type": "code",
   "execution_count": 30,
   "metadata": {
    "collapsed": false
   },
   "outputs": [
    {
     "data": {
      "text/plain": [
       "<tf.Tensor 'Reshape_2:0' shape=(?, ?, 241) dtype=float32>"
      ]
     },
     "execution_count": 30,
     "metadata": {},
     "output_type": "execute_result"
    }
   ],
   "source": [
    "probs = tf.reshape(probs_flat, (-1, max_sequence_length, vocab_size))\n",
    "probs"
   ]
  },
  {
   "cell_type": "code",
   "execution_count": 31,
   "metadata": {
    "collapsed": false
   },
   "outputs": [
    {
     "data": {
      "text/plain": [
       "<tf.Tensor 'SparseSoftmaxCrossEntropyWithLogits/SparseSoftmaxCrossEntropyWithLogits:0' shape=(?,) dtype=float32>"
      ]
     },
     "execution_count": 31,
     "metadata": {},
     "output_type": "execute_result"
    }
   ],
   "source": [
    "losses = tf.nn.sparse_softmax_cross_entropy_with_logits(logits=logits_flat, labels=labels_flat)\n",
    "losses"
   ]
  },
  {
   "cell_type": "markdown",
   "metadata": {},
   "source": [
    "### mask 修正 loss"
   ]
  },
  {
   "cell_type": "code",
   "execution_count": 32,
   "metadata": {
    "collapsed": false
   },
   "outputs": [
    {
     "data": {
      "text/plain": [
       "<tf.Tensor 'Sum_1:0' shape=() dtype=float32>"
      ]
     },
     "execution_count": 32,
     "metadata": {},
     "output_type": "execute_result"
    }
   ],
   "source": [
    "mask = tf.cast(tf.sign(labels_flat), tf.float32)\n",
    "loss = tf.reduce_sum(losses * mask)\n",
    "loss"
   ]
  },
  {
   "cell_type": "markdown",
   "metadata": {},
   "source": [
    "### 训练"
   ]
  },
  {
   "cell_type": "code",
   "execution_count": 34,
   "metadata": {
    "collapsed": true
   },
   "outputs": [],
   "source": [
    "# 参数\n",
    "learning_rate = 0.1\n",
    "batch_size = 10\n",
    "epochs = 50\n",
    "print_loss_every = 5"
   ]
  },
  {
   "cell_type": "code",
   "execution_count": 35,
   "metadata": {
    "collapsed": false
   },
   "outputs": [
    {
     "name": "stdout",
     "output_type": "stream",
     "text": [
      "epoch 0: cost = 95009.2\n",
      "epoch 5: cost = 87259.2\n",
      "epoch 10: cost = 96762.5\n",
      "epoch 15: cost = 59590.5\n",
      "epoch 20: cost = 48462.4\n",
      "epoch 25: cost = 46892.6\n",
      "epoch 30: cost = 54520.7\n",
      "epoch 35: cost = 51900.5\n",
      "epoch 40: cost = 50622.7\n",
      "epoch 45: cost = 46782.3\n",
      "train time: 167.840034008\n"
     ]
    },
    {
     "data": {
      "text/plain": [
       "[<matplotlib.lines.Line2D at 0x7ff915781650>]"
      ]
     },
     "execution_count": 35,
     "metadata": {},
     "output_type": "execute_result"
    },
    {
     "data": {
      "image/png": "[encoded data removed]",
      "text/plain": [
       "<matplotlib.figure.Figure at 0x7ff92606acd0>"
      ]
     },
     "metadata": {},
     "output_type": "display_data"
    }
   ],
   "source": [
    "train_step = tf.train.GradientDescentOptimizer(learning_rate).minimize(loss)\n",
    "all_feed = {inputs: all_inputs, labels: all_labels}\n",
    "loss_history = []\n",
    "\n",
    "sess = tf.Session()\n",
    "sess.run(tf.global_variables_initializer())\n",
    "start_time = time.time()\n",
    "\n",
    "try:\n",
    "    for i in range(epochs):\n",
    "        for inp, lab in generate_batch(train_data, batch_size):\n",
    "            batch_feed = {inputs: inp, labels: lab}\n",
    "            sess.run(train_step, feed_dict=batch_feed)\n",
    "        if i % print_loss_every == 0:\n",
    "            loss_val = sess.run(loss, feed_dict=all_feed)\n",
    "            loss_history.append(loss_val)\n",
    "            print('epoch %s: cost = %s' % (i, loss_val))\n",
    "except KeyboardInterrupt:\n",
    "    print('KeyboardInterrupt')\n",
    "end_time = time.time()\n",
    "print(\"train time: %s\" % (end_time - start_time))\n",
    "plt.plot(loss_history)"
   ]
  },
  {
   "cell_type": "code",
   "execution_count": 36,
   "metadata": {
    "collapsed": false
   },
   "outputs": [
    {
     "data": {
      "text/plain": [
       "TensorShape([Dimension(241)])"
      ]
     },
     "execution_count": 36,
     "metadata": {},
     "output_type": "execute_result"
    }
   ],
   "source": [
    "# 从三阶张量中提取出生成模型时下一个词的概率分布\n",
    "probs_next_word = probs[0,-1,:]\n",
    "probs_next_word.shape"
   ]
  },
  {
   "cell_type": "code",
   "execution_count": 49,
   "metadata": {
    "collapsed": false
   },
   "outputs": [
    {
     "name": "stdout",
     "output_type": "stream",
     "text": [
      "<START>\n",
      "你\n",
      "出来\n",
      "等\n",
      "着\n",
      "我\n",
      "1\n",
      "10\n",
      "67\n",
      "38\n",
      "42\n",
      "8\n"
     ]
    }
   ],
   "source": [
    "word_ids = [word2id(START)]\n",
    "context = u'你出来等着我'\n",
    "print START\n",
    "for w in jieba.cut(context):    \n",
    "    if w not in vocab:\n",
    "        w = UNKNOWN\n",
    "    print w\n",
    "    word_ids.append(word2id_dict[w])\n",
    "for w in word_ids:\n",
    "    print w"
   ]
  },
  {
   "cell_type": "code",
   "execution_count": 50,
   "metadata": {
    "collapsed": false
   },
   "outputs": [],
   "source": [
    "test = np.asarray([38,8]).reshape(1, -1)"
   ]
  },
  {
   "cell_type": "code",
   "execution_count": 51,
   "metadata": {
    "collapsed": false
   },
   "outputs": [],
   "source": [
    "probs_val = sess.run(probs_next_word, feed_dict={inputs: test})"
   ]
  },
  {
   "cell_type": "code",
   "execution_count": 65,
   "metadata": {
    "collapsed": false
   },
   "outputs": [
    {
     "data": {
      "text/plain": [
       "0.0043021422"
      ]
     },
     "execution_count": 65,
     "metadata": {},
     "output_type": "execute_result"
    }
   ],
   "source": [
    "probs_val[58]"
   ]
  },
  {
   "cell_type": "code",
   "execution_count": 61,
   "metadata": {
    "collapsed": false
   },
   "outputs": [
    {
     "data": {
      "text/plain": [
       "55"
      ]
     },
     "execution_count": 61,
     "metadata": {},
     "output_type": "execute_result"
    }
   ],
   "source": [
    "word2id_dict[u'徒弟']"
   ]
  },
  {
   "cell_type": "markdown",
   "metadata": {},
   "source": [
    "### 生成句子"
   ]
  },
  {
   "cell_type": "markdown",
   "metadata": {},
   "source": [
    "步骤：  \n",
    "\n",
    "- 由句首 token，生成第一个词\n",
    "- 由已有的词生成下一个词\n",
    "- 直到生成 END_PUNC 为止\n",
    "- 如果生成了 UNK：重新生成"
   ]
  },
  {
   "cell_type": "code",
   "execution_count": 78,
   "metadata": {
    "collapsed": false
   },
   "outputs": [
    {
     "data": {
      "text/plain": [
       "TensorShape([Dimension(241)])"
      ]
     },
     "execution_count": 78,
     "metadata": {},
     "output_type": "execute_result"
    }
   ],
   "source": [
    "# 从三阶张量中提取出生成模型时下一个词的概率分布\n",
    "probs_next_word = probs[0,-1,:]\n",
    "probs_next_word.shape"
   ]
  },
  {
   "cell_type": "code",
   "execution_count": 84,
   "metadata": {
    "collapsed": false
   },
   "outputs": [
    {
     "name": "stdout",
     "output_type": "stream",
     "text": [
      "我的是在的他了这叫那高就了又在。\n",
      "我们这太保行者又，这个你我是这一个了是，，道又又他道见：既未道心这在见那见那\n",
      "却说从这大圣不去是\n",
      "来了这是我来\n",
      "人家那得这般他在道\n",
      "我了的是道吃！\n",
      "我我来模样一块这\n",
      "只在我，，是是你，那\n",
      "—一个了，又在我！\n",
      "还你在在是。\n",
      "还，！\n"
     ]
    }
   ],
   "source": [
    "def generate_sentence(topk):\n",
    "    word_ids = [word2id(START)]\n",
    "    \n",
    "    for i in range(100): # 句子长度上限\n",
    "        context = np.asarray(word_ids).reshape(1, -1)\n",
    "        probs_val = sess.run(probs_next_word, feed_dict={inputs: context})\n",
    "        \n",
    "        topk_indices = probs_val.argsort()[-topk:][::-1]\n",
    "        topk_probs = [probs_val[i] for i in topk_indices]\n",
    "        \n",
    "        for j in range(100): # 尝试次数上限\n",
    "            # 从概率最大的 topk 个词中随机抽取\n",
    "            new_id = np.random.choice(topk_indices, p=topk_probs/sum(topk_probs))\n",
    "            new_word = vocab[new_id]\n",
    "            if new_word not in VOCAB_SPECIAL:\n",
    "                break\n",
    "        word_ids.append(new_id)\n",
    "        if new_word in END_PUNC:\n",
    "            break\n",
    "    sentence = [vocab[i] for i in word_ids]\n",
    "    return ''.join(sentence[1:])\n",
    "\n",
    "for i in range(5):\n",
    "    print(generate_sentence(topk=20))"
   ]
  },
  {
   "cell_type": "code",
   "execution_count": null,
   "metadata": {
    "collapsed": true
   },
   "outputs": [],
   "source": []
  }
 ],
 "metadata": {
  "kernelspec": {
   "display_name": "Python 2",
   "language": "python",
   "name": "python2"
  },
  "language_info": {
   "codemirror_mode": {
    "name": "ipython",
    "version": 2
   },
   "file_extension": ".py",
   "mimetype": "text/x-python",
   "name": "python",
   "nbconvert_exporter": "python",
   "pygments_lexer": "ipython2",
   "version": "2.7.6"
  }
 },
 "nbformat": 4,
 "nbformat_minor": 1
}
