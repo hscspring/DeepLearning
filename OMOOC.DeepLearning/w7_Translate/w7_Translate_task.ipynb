{
 "cells": [
  {
   "cell_type": "code",
   "execution_count": 1,
   "metadata": {
    "collapsed": false
   },
   "outputs": [
    {
     "name": "stdout",
     "output_type": "stream",
     "text": [
      "CPython 2.7.6\n",
      "IPython 5.1.0\n",
      "\n",
      "tensorflow 1.0.1\n",
      "\n",
      "compiler   : GCC 4.8.4\n",
      "system     : Linux\n",
      "release    : 4.4.0-21-generic\n",
      "machine    : x86_64\n",
      "processor  : x86_64\n",
      "CPU cores  : 4\n",
      "interpreter: 64bit\n"
     ]
    }
   ],
   "source": [
    "from collections import Counter\n",
    "import re\n",
    "import time\n",
    "import numpy as np\n",
    "import matplotlib.pyplot as plt\n",
    "import tensorflow as tf\n",
    "from tensorflow.python.ops import variable_scope\n",
    "import jieba\n",
    "%matplotlib inline\n",
    "%load_ext watermark\n",
    "%watermark -p tensorflow -v -m"
   ]
  },
  {
   "cell_type": "code",
   "execution_count": 2,
   "metadata": {
    "collapsed": true
   },
   "outputs": [],
   "source": [
    "# 参数\n",
    "cell_size = 100\n",
    "embedding_size = 100\n",
    "buckets = [(8, 8), (12, 12), (20, 20)]"
   ]
  },
  {
   "cell_type": "markdown",
   "metadata": {},
   "source": [
    "## 读入语料并处理"
   ]
  },
  {
   "cell_type": "code",
   "execution_count": 3,
   "metadata": {
    "collapsed": true
   },
   "outputs": [],
   "source": [
    "basedir = './'\n",
    "files = {\"train\": {'en': basedir + 'TED_en_train.txt',\n",
    "                   'zh': basedir + 'TED_zh_train.txt'},\n",
    "         \"test\": {'en': basedir + 'TED_en_test.txt',\n",
    "                  'zh': basedir + 'TED_zh_test.txt'}}\n",
    "lines_to_read = 100\n",
    "VOCAB_MIN_FREQ = 1 # 计入词表的最小词频，小于则记为 UNK"
   ]
  },
  {
   "cell_type": "code",
   "execution_count": 4,
   "metadata": {
    "collapsed": false
   },
   "outputs": [
    {
     "name": "stdout",
     "output_type": "stream",
     "text": [
      "It can be a very complicated thing, the ocean.\r",
      "\r\n",
      "And it can be a very complicated thing, what human health is.\r",
      "\r\n",
      "And bringing those two together might seem a very daunting task,\r",
      "\r\n",
      "but what I'm going to try to say is that\r",
      "\r\n",
      "even in that complexity,\r",
      "\r\n",
      "there's some simple themes that I think,\r",
      "\r\n",
      "if we understand, we can really move forward.\r",
      "\r\n",
      "And those simple themes aren't really\r",
      "\r\n",
      "themes about the complex science of what's going on,\r",
      "\r\n",
      "but things that we all pretty well know.\r",
      "\r\n"
     ]
    }
   ],
   "source": [
    "!head TED_en_train.txt"
   ]
  },
  {
   "cell_type": "markdown",
   "metadata": {},
   "source": [
    "### 读取文本文件，tokenize 得到 sentences（word lists）\n",
    "\n",
    "decoder inputs 在句首尾分别添加特殊 token"
   ]
  },
  {
   "cell_type": "code",
   "execution_count": 5,
   "metadata": {
    "collapsed": true
   },
   "outputs": [],
   "source": [
    "_PAD, _GO, _EOS, _UNK = '<PAD>', '<GO>', '<EOS>', '<UNK>'\n",
    "_PAD_ID, _GO_ID, _EOS_ID, _UNK_ID = 0, 1, 2, 3\n",
    "_START_VOCAB = (_PAD, _GO, _EOS, _UNK)"
   ]
  },
  {
   "cell_type": "code",
   "execution_count": 6,
   "metadata": {
    "collapsed": false
   },
   "outputs": [],
   "source": [
    "def en_tokenizer(sentence):\n",
    "    \"\"\"英文句子分词\"\"\"\n",
    "    _word_split = re.compile(\"([.,!?\\\"':;])\")\n",
    "    words = []\n",
    "    for space_separated_fragment in sentence.strip().split():\n",
    "        words.extend(_word_split.split(space_separated_fragment))\n",
    "    return [w for w in words if w]\n",
    "\n",
    "def zh_tokenizer(sentence):\n",
    "    \"\"\"中文句子分词\"\"\"\n",
    "    return [w for w in jieba.cut(sentence.strip().decode('utf-8')) if w not in (' ', '\\t', '\\n')]\n",
    "\n",
    "def read_sentences(encoder_file, decoder_file, lines_to_read=None):\n",
    "    \"\"\"英文到中文\"\"\"\n",
    "    # 读取文件\n",
    "    with open(encoder_file, 'r') as f:\n",
    "        enc_lines = f.readlines()[:lines_to_read] if lines_to_read else f.readlines()\n",
    "    with open(decoder_file, 'r') as f:\n",
    "        dec_lines = f.readlines()[:lines_to_read] if lines_to_read else f.readlines()\n",
    "    assert len(enc_lines) == len(dec_lines)\n",
    "    \n",
    "    num_lines = len(enc_lines)\n",
    "    \n",
    "    encoder_sentences = []\n",
    "    decoder_sentences = []\n",
    "    \n",
    "    for i in range(num_lines):\n",
    "        enc_sentence = en_tokenizer(enc_lines[i])\n",
    "        dec_sentence = zh_tokenizer(dec_lines[i])\n",
    "        if enc_sentence and dec_sentence:\n",
    "            encoder_sentences.append(enc_sentence)\n",
    "            decoder_sentences.append(dec_sentence)\n",
    "    return encoder_sentences, decoder_sentences"
   ]
  },
  {
   "cell_type": "code",
   "execution_count": 7,
   "metadata": {
    "collapsed": false
   },
   "outputs": [
    {
     "name": "stderr",
     "output_type": "stream",
     "text": [
      "Building prefix dict from the default dictionary ...\n",
      "Loading model from cache /tmp/jieba.cache\n",
      "Loading model cost 0.388 seconds.\n",
      "Prefix dict has been built succesfully.\n"
     ]
    }
   ],
   "source": [
    "encoder_sentences, decoder_sentences = read_sentences(\n",
    "files['train']['en'], files['train']['zh'], lines_to_read=lines_to_read)"
   ]
  },
  {
   "cell_type": "code",
   "execution_count": 8,
   "metadata": {
    "collapsed": true
   },
   "outputs": [],
   "source": [
    "encoder_sentences_test, decoder_sentences_test = read_sentences(\n",
    "files['test']['en'], files['test']['zh'], lines_to_read=lines_to_read)"
   ]
  },
  {
   "cell_type": "code",
   "execution_count": 9,
   "metadata": {
    "collapsed": false
   },
   "outputs": [
    {
     "data": {
      "image/png": "[encoded data removed]",
      "text/plain": [
       "<matplotlib.figure.Figure at 0x7f1a061db790>"
      ]
     },
     "metadata": {},
     "output_type": "display_data"
    }
   ],
   "source": [
    "def plot_length_histogram(sentences):\n",
    "    lengths = np.asarray([len(s) for s in sentences])\n",
    "    plt.hist(lengths, bins=range(30));\n",
    "plot_length_histogram(encoder_sentences)"
   ]
  },
  {
   "cell_type": "code",
   "execution_count": 10,
   "metadata": {
    "collapsed": false
   },
   "outputs": [
    {
     "data": {
      "image/png": "[encoded data removed]",
      "text/plain": [
       "<matplotlib.figure.Figure at 0x7f1a30a3dad0>"
      ]
     },
     "metadata": {},
     "output_type": "display_data"
    }
   ],
   "source": [
    "plot_length_histogram(decoder_sentences)"
   ]
  },
  {
   "cell_type": "markdown",
   "metadata": {},
   "source": [
    "### 由训练文件的 word lists 得到 vocab"
   ]
  },
  {
   "cell_type": "code",
   "execution_count": 11,
   "metadata": {
    "collapsed": true
   },
   "outputs": [],
   "source": [
    "def build_vocab(sentences):\n",
    "    \"\"\"生成词表，前几个位置留给 _START_VOCAB 的特殊 token\"\"\"\n",
    "    vocab = list(_START_VOCAB)\n",
    "    words_flat = [w for s in sentences for w in s]\n",
    "    word_cnt = Counter(words_flat)\n",
    "    for word, count in word_cnt.most_common():\n",
    "        if count >= VOCAB_MIN_FREQ:\n",
    "            vocab.append(word)\n",
    "    return vocab"
   ]
  },
  {
   "cell_type": "code",
   "execution_count": 12,
   "metadata": {
    "collapsed": true
   },
   "outputs": [],
   "source": [
    "vocab_enc = build_vocab(encoder_sentences)\n",
    "vocab_dec = build_vocab(decoder_sentences)\n",
    "num_encoder_symbols = len(vocab_enc)\n",
    "num_decoder_symbols = len(vocab_dec)"
   ]
  },
  {
   "cell_type": "code",
   "execution_count": 13,
   "metadata": {
    "collapsed": false
   },
   "outputs": [
    {
     "data": {
      "text/plain": [
       "(307, 353)"
      ]
     },
     "execution_count": 13,
     "metadata": {},
     "output_type": "execute_result"
    }
   ],
   "source": [
    "word2id_enc = {w: i for i, w in enumerate(vocab_enc)}\n",
    "word2id_dec = {w: i for i, w in enumerate(vocab_dec)}\n",
    "len(word2id_enc), len(word2id_dec)"
   ]
  },
  {
   "cell_type": "markdown",
   "metadata": {},
   "source": [
    "### decoder inputs 句子首尾加 token"
   ]
  },
  {
   "cell_type": "code",
   "execution_count": 14,
   "metadata": {
    "collapsed": true
   },
   "outputs": [],
   "source": [
    "def add_tokens(sentences):\n",
    "    for i in range(len(sentences)):\n",
    "        sentences[i] = [_GO] + sentences[i] + [_EOS]\n",
    "    return sentences"
   ]
  },
  {
   "cell_type": "code",
   "execution_count": 15,
   "metadata": {
    "collapsed": false
   },
   "outputs": [],
   "source": [
    "decoder_sentences = add_tokens(decoder_sentences)"
   ]
  },
  {
   "cell_type": "code",
   "execution_count": 16,
   "metadata": {
    "collapsed": true
   },
   "outputs": [],
   "source": [
    "decoder_sentences_test = add_tokens(decoder_sentences_test)"
   ]
  },
  {
   "cell_type": "markdown",
   "metadata": {},
   "source": [
    "### tokens -> ids -> bucketing -> padding"
   ]
  },
  {
   "cell_type": "code",
   "execution_count": 35,
   "metadata": {
    "collapsed": false
   },
   "outputs": [],
   "source": [
    "def bucket_and_pad(enc_sentences, dec_sentences, buckets, word2id_enc, word2id_dec):\n",
    "    \"\"\"\n",
    "    - enc_sentences: A nested list of symbol str for encoding, length: batch_size\n",
    "    - dec_sentences: A nested list of symbol str for decoding, length: batch_size\n",
    "    - word2id_enc, word2id_dec: dict. symbol (str) -> index (int)\n",
    "    \n",
    "    [\"hello\", \"world\"] -> [\"hi\", \"<EOS>\"]\n",
    "    \n",
    "    Assume that index of \"<PAD>\" is 0\n",
    "    \n",
    "    Output:\n",
    "    [[0, 0, <index of 'hello'>, <index of 'world'>], [0, 0, <index of 'hi'>, <index of 'EOS'>, 0, 0]]\n",
    "    \"\"\"\n",
    "    def to_index(sentence, length, word2id, pad_from_start=True):\n",
    "        ids = [_PAD_ID] * length\n",
    "        l  = len(sentence)\n",
    "        if l < length:\n",
    "            if pad_from_start:\n",
    "                ids[(length - l):] = [word2id.get(w, _UNK_ID) for w in sentence]\n",
    "            else:\n",
    "                ids[:1] = [word2id.get(w, _UNK_ID) for w in sentence]\n",
    "        else:\n",
    "            ids = [word2id.get(w, _UNK_ID) for w in sentence[:length]]\n",
    "        return ids\n",
    "    \n",
    "    num_sentences = len(enc_sentences)\n",
    "    \n",
    "    encoder_data = [[] for _ in range(len(buckets))]\n",
    "    decoder_data = [[] for _ in range(len(buckets))]\n",
    "    \n",
    "    for i in range(num_sentences):\n",
    "        for bucket_id, (encoder_size, decoder_size) in enumerate(buckets):\n",
    "            if len(enc_sentences[i]) <= encoder_size and len(dec_sentences[i]) <= decoder_size:\n",
    "                encoder_data[bucket_id].append(to_index(enc_sentences[i], encoder_size, word2id_enc, True))\n",
    "                decoder_data[bucket_id].append(to_index(dec_sentences[i], decoder_size, word2id_dec, False))\n",
    "                break\n",
    "    return encoder_data, decoder_data"
   ]
  },
  {
   "cell_type": "code",
   "execution_count": 36,
   "metadata": {
    "collapsed": false
   },
   "outputs": [],
   "source": [
    "encoder_data, decoder_data = bucket_and_pad(encoder_sentences, decoder_sentences, buckets, word2id_enc, word2id_dec)"
   ]
  },
  {
   "cell_type": "code",
   "execution_count": 41,
   "metadata": {
    "collapsed": true
   },
   "outputs": [],
   "source": [
    "encoder_data_test, decoder_data_test = bucket_and_pad(encoder_sentences_test, decoder_sentences_test, buckets, word2id_enc, word2id_dec)"
   ]
  },
  {
   "cell_type": "code",
   "execution_count": 42,
   "metadata": {
    "collapsed": true
   },
   "outputs": [],
   "source": [
    "data_sizes = [len(encoder_data[i]) for i in range(len(buckets))]\n",
    "data_sizes_dec = [len(decoder_data[i]) for i in range(len(buckets))]\n",
    "assert data_sizes == data_sizes_dec"
   ]
  },
  {
   "cell_type": "code",
   "execution_count": 43,
   "metadata": {
    "collapsed": true
   },
   "outputs": [],
   "source": [
    "data_sizes_test = [len(encoder_data_test[i]) for i in range(len(buckets))]"
   ]
  },
  {
   "cell_type": "code",
   "execution_count": 44,
   "metadata": {
    "collapsed": false
   },
   "outputs": [
    {
     "data": {
      "text/plain": [
       "([29, 47, 23], [36, 52, 10])"
      ]
     },
     "execution_count": 44,
     "metadata": {},
     "output_type": "execute_result"
    }
   ],
   "source": [
    "data_sizes, data_sizes_test"
   ]
  },
  {
   "cell_type": "markdown",
   "metadata": {},
   "source": [
    "## 构建 seq2seq 模型"
   ]
  },
  {
   "cell_type": "code",
   "execution_count": 45,
   "metadata": {
    "collapsed": true
   },
   "outputs": [],
   "source": [
    "tf.reset_default_graph()\n",
    "cell = tf.contrib.rnn.GRUCell(cell_size)"
   ]
  },
  {
   "cell_type": "code",
   "execution_count": 46,
   "metadata": {
    "collapsed": true
   },
   "outputs": [],
   "source": [
    "max_encoder_length, max_decoder_length = buckets[-1]"
   ]
  },
  {
   "cell_type": "code",
   "execution_count": null,
   "metadata": {
    "collapsed": true
   },
   "outputs": [],
   "source": []
  }
 ],
 "metadata": {
  "kernelspec": {
   "display_name": "Python 2",
   "language": "python",
   "name": "python2"
  },
  "language_info": {
   "codemirror_mode": {
    "name": "ipython",
    "version": 2
   },
   "file_extension": ".py",
   "mimetype": "text/x-python",
   "name": "python",
   "nbconvert_exporter": "python",
   "pygments_lexer": "ipython2",
   "version": "2.7.6"
  }
 },
 "nbformat": 4,
 "nbformat_minor": 1
}
