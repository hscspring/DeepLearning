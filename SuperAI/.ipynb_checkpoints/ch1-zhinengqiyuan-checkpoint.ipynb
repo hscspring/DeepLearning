{
 "cells": [
  {
   "cell_type": "markdown",
   "metadata": {
    "toc": "true"
   },
   "source": [
    "# Table of Contents\n",
    " <p><div class=\"lev1 toc-item\"><a href=\"#智能起源\" data-toc-modified-id=\"智能起源-1\"><span class=\"toc-item-num\">1&nbsp;&nbsp;</span>智能起源</a></div><div class=\"lev2 toc-item\"><a href=\"#智能的本质\" data-toc-modified-id=\"智能的本质-11\"><span class=\"toc-item-num\">1.1&nbsp;&nbsp;</span>智能的本质</a></div><div class=\"lev2 toc-item\"><a href=\"#矩阵\" data-toc-modified-id=\"矩阵-12\"><span class=\"toc-item-num\">1.2&nbsp;&nbsp;</span>矩阵</a></div><div class=\"lev3 toc-item\"><a href=\"#复数\" data-toc-modified-id=\"复数-121\"><span class=\"toc-item-num\">1.2.1&nbsp;&nbsp;</span>复数</a></div><div class=\"lev2 toc-item\"><a href=\"#概率\" data-toc-modified-id=\"概率-13\"><span class=\"toc-item-num\">1.3&nbsp;&nbsp;</span>概率</a></div><div class=\"lev2 toc-item\"><a href=\"#熵与生命\" data-toc-modified-id=\"熵与生命-14\"><span class=\"toc-item-num\">1.4&nbsp;&nbsp;</span>熵与生命</a></div><div class=\"lev2 toc-item\"><a href=\"#智能的条件\" data-toc-modified-id=\"智能的条件-15\"><span class=\"toc-item-num\">1.5&nbsp;&nbsp;</span>智能的条件</a></div><div class=\"lev3 toc-item\"><a href=\"#智能-LV1\" data-toc-modified-id=\"智能-LV1-151\"><span class=\"toc-item-num\">1.5.1&nbsp;&nbsp;</span>智能 LV1</a></div><div class=\"lev3 toc-item\"><a href=\"#智能-LV2\" data-toc-modified-id=\"智能-LV2-152\"><span class=\"toc-item-num\">1.5.2&nbsp;&nbsp;</span>智能 LV2</a></div><div class=\"lev1 toc-item\"><a href=\"#自然智能\" data-toc-modified-id=\"自然智能-2\"><span class=\"toc-item-num\">2&nbsp;&nbsp;</span>自然智能</a></div><div class=\"lev2 toc-item\"><a href=\"#RNA-与-DNA\" data-toc-modified-id=\"RNA-与-DNA-21\"><span class=\"toc-item-num\">2.1&nbsp;&nbsp;</span>RNA 与 DNA</a></div><div class=\"lev2 toc-item\"><a href=\"#进化\" data-toc-modified-id=\"进化-22\"><span class=\"toc-item-num\">2.2&nbsp;&nbsp;</span>进化</a></div><div class=\"lev2 toc-item\"><a href=\"#生物学习\" data-toc-modified-id=\"生物学习-23\"><span class=\"toc-item-num\">2.3&nbsp;&nbsp;</span>生物学习</a></div><div class=\"lev2 toc-item\"><a href=\"#神经元工作原理\" data-toc-modified-id=\"神经元工作原理-24\"><span class=\"toc-item-num\">2.4&nbsp;&nbsp;</span>神经元工作原理</a></div><div class=\"lev2 toc-item\"><a href=\"#神经元本质行为\" data-toc-modified-id=\"神经元本质行为-25\"><span class=\"toc-item-num\">2.5&nbsp;&nbsp;</span>神经元本质行为</a></div><div class=\"lev2 toc-item\"><a href=\"#网络\" data-toc-modified-id=\"网络-26\"><span class=\"toc-item-num\">2.6&nbsp;&nbsp;</span>网络</a></div><div class=\"lev2 toc-item\"><a href=\"#智能的不同阶段\" data-toc-modified-id=\"智能的不同阶段-27\"><span class=\"toc-item-num\">2.7&nbsp;&nbsp;</span>智能的不同阶段</a></div><div class=\"lev2 toc-item\"><a href=\"#智能结构梳理\" data-toc-modified-id=\"智能结构梳理-28\"><span class=\"toc-item-num\">2.8&nbsp;&nbsp;</span>智能结构梳理</a></div><div class=\"lev1 toc-item\"><a href=\"#人工智能\" data-toc-modified-id=\"人工智能-3\"><span class=\"toc-item-num\">3&nbsp;&nbsp;</span>人工智能</a></div>"
   ]
  },
  {
   "cell_type": "markdown",
   "metadata": {},
   "source": [
    "# 智能起源"
   ]
  },
  {
   "cell_type": "markdown",
   "metadata": {},
   "source": [
    "## 智能的本质"
   ]
  },
  {
   "cell_type": "markdown",
   "metadata": {},
   "source": [
    "- 可以根据环境变化而做出相应变化的能力\n",
    "- 熵减的能力"
   ]
  },
  {
   "cell_type": "markdown",
   "metadata": {},
   "source": [
    "## 矩阵"
   ]
  },
  {
   "cell_type": "markdown",
   "metadata": {},
   "source": [
    "- 矩阵乘向量是矩阵各列按向量各元素进行组合\n",
    "- 矩阵乘向量可以理解为矩阵在向量上的投影"
   ]
  },
  {
   "cell_type": "markdown",
   "metadata": {},
   "source": [
    "- 向量乘矩阵是矩阵各行按向量各元素进行组合\n",
    "- 向量乘矩阵可以理解为向量经过矩阵变换后的结果（依然是向量）"
   ]
  },
  {
   "cell_type": "markdown",
   "metadata": {},
   "source": [
    "- 矩阵乘矩阵是向量乘各自对应的标量再想加\n",
    "- 矩阵乘矩阵可以可以理解为矩阵乘向量后的组合；也可以理解为向量乘矩阵后的组合\n",
    "- 矩阵乘矩阵也可以理解为矩阵在另一个矩阵上的投影；或者向量经过矩阵变换的结果；或者矩阵在向量上的投影后的组合"
   ]
  },
  {
   "cell_type": "markdown",
   "metadata": {},
   "source": [
    "- 矩阵的静态信息\n",
    "  - 向量描述一个事物的状态，由向量内各个因素描述\n",
    "  - 矩阵可视为多个维度（因素个数）相同的向量的有序排列\n",
    "  - 矩阵也可以看做向量，用于描述一个事物的状态，内部各向量就是矩阵的因素\n",
    "  - 多个标量有序排列为向量，多个向量有序排列为矩阵，多个矩阵有序排列为三维张量\n",
    "  - 标量是因素个数为1的向量，向量是因素个数为1的矩阵，矩阵是因素个数为1的张量"
   ]
  },
  {
   "cell_type": "markdown",
   "metadata": {},
   "source": [
    "- 矩阵的动态信息\n",
    "  - 变化可以理解为由于矩阵的作用，事物本身的变化，也可以理解为坐标的变化\n",
    "  - 向量可用于控制变化时所用成分的数量，即一组权重\n",
    "  - 矩阵可以视为多个维度（因素的个数）相同的权重的有序排列"
   ]
  },
  {
   "cell_type": "markdown",
   "metadata": {},
   "source": [
    "- 矩阵乘法\n",
    "  - 矩阵乘法时，一旦选择以动态信息理解其中一个矩阵，另一个矩阵的信息就会被瞬间静态\n",
    "  - 一个提供状态信息，一个提供变化信息\n",
    "  - 前矩阵行向量理解乘若干组权重时，后矩阵的行向量就是要形成组合的成分；反之亦然"
   ]
  },
  {
   "cell_type": "markdown",
   "metadata": {},
   "source": [
    "- 矩阵转置可以理解为调换动态与静态信息\n",
    "- 单位矩阵动态静态信息相同"
   ]
  },
  {
   "cell_type": "markdown",
   "metadata": {},
   "source": [
    "- 向量空间是能够容纳所有线性组合的状态空间\n",
    "- 子空间可以看作是向量空间内的向量空间\n",
    "- 最小的子空间是只有一个状态的空间\n",
    "- 最小的向量空间是只包含零向量的空间"
   ]
  },
  {
   "cell_type": "markdown",
   "metadata": {},
   "source": [
    "- 互不相关的因素的个数是一个向量空间的维度\n",
    "- 一个具体矩阵涵盖了多少信息可以由秩来描述，指的是一个矩阵的所有列向量所能张成的空间的维度\n",
    "- 一个矩阵的列空间的维度是这个矩阵的秩，同时也是该矩阵行空间的维度"
   ]
  },
  {
   "cell_type": "markdown",
   "metadata": {},
   "source": [
    "- 矩阵乘以矩阵可以视作一个矩阵内部向量的批量线性变换，所以可仅讨论矩阵乘以向量所形成的一次线性变换\n",
    "- 行数（列空间）是维度？"
   ]
  },
  {
   "cell_type": "markdown",
   "metadata": {},
   "source": [
    "### 复数\n",
    "\n",
    "- 当问题无法被理解时，往往是因为找错地方，不妨尝试扩展维度，增加搜索空间"
   ]
  },
  {
   "cell_type": "markdown",
   "metadata": {},
   "source": [
    "## 概率"
   ]
  },
  {
   "cell_type": "markdown",
   "metadata": {},
   "source": [
    "- 概率是用来衡量我们对事物在跨时间后不同状态的确信度\n",
    "- 概率是将样本空间内的子集投向概率空间的函数\n",
    "- 不相交事件之间的并集事件的概率等于各个事件概率之和\n",
    "- 结果：可能到达的状态\n",
    "- 样本空间：所有可能发生的结果所组成的集合\n",
    "- 事件：样本空间的子集"
   ]
  },
  {
   "cell_type": "markdown",
   "metadata": {},
   "source": [
    "- 条件概率 P(A|B) 并不意味着 B 先发生，也不意味着 B 是 A 事件的起因\n",
    "- 全概率公式可以将非条件概率分成若干块条件概率来计算"
   ]
  },
  {
   "cell_type": "markdown",
   "metadata": {},
   "source": [
    "- 随机变量：给定一个样本空间 $\\omega$，一个随机变量 $(r,v)$ 是将样本空间投射到实数域的函数\n",
    "- 随机变量作为函数而言是确定的。输入事件橘黄色，一定会得到1这个输出，函数本身并没有“随机”，“随机”是由于函数的输入的发生概率\n",
    "- 随机变量中“随机”来自事件发生的概率，分布是描述随机变量所对应的所有事件的发生概率的情况"
   ]
  },
  {
   "cell_type": "markdown",
   "metadata": {},
   "source": [
    "- 概率五要件\n",
    "  - 样本空间：所有可能结果组成的集合\n",
    "  - 随机变量：将事件投向实数的函数，用数字代表事件\n",
    "  - 事件：样本空间的子集\n",
    "  - 概率：将事件投向[0,1]实数域的函数，用实数表示确信度\n",
    "  - 分布：随机变量的取值情况\n",
    "- 数学定义不存在随机，随机来源于物理现象"
   ]
  },
  {
   "cell_type": "markdown",
   "metadata": {},
   "source": [
    "## 熵与生命"
   ]
  },
  {
   "cell_type": "markdown",
   "metadata": {},
   "source": [
    "- 概率是真实反应变化到某状态的确信度\n",
    "- 熵反应的是从某时刻到另一时刻的状态有多难以确定。阻碍生命的不是概率，而是熵。"
   ]
  },
  {
   "cell_type": "markdown",
   "metadata": {},
   "source": [
    "- 熵是用来衡量我们对事物在跨时间后能产生不同状态的混乱度\n",
    "- 当时间向未来发展时，事物可能达到的状态种类会越来越难以确定\n",
    "- 熵一定有时间跨度，而有时间跨度是指有变化"
   ]
  },
  {
   "cell_type": "markdown",
   "metadata": {},
   "source": [
    "- 越确定的事件熵越低，越随机的事件熵越高"
   ]
  },
  {
   "cell_type": "markdown",
   "metadata": {},
   "source": [
    "- 生命要在这个变化的世界中生存，就需要知道如何根据环境变化做出相应的行动来避免毁灭\n",
    "- 把不确定的环境转换成确定的行动，会将无序的事物重新整理到有序的状态\n",
    "- 生物仅仅活着就需要减熵，否则就会被不确定性消灭\n",
    "- 熵增意味着信息量越来越巨大，生物必须能够压缩这些不确定的信息并记住信息是如何被压缩的\n",
    "- 压缩信息的方法就是知识"
   ]
  },
  {
   "cell_type": "markdown",
   "metadata": {},
   "source": [
    "- 实例：病毒会利用宿主的细胞系统进行自我复制将微粒重组为有序的状态\n",
    "- 实例：工蜂利用自身的蜡腺分泌的蜂蜡修筑蜂巢\n",
    "\n",
    "此种知识是仅当环境发生时才会采取行动，并不会改变太多环境。  \n",
    "但有第二种知识，像人类这样的动物同时还可以学习改变环境的原因以此来预测未来。  \n",
    "\n",
    "- 实例：由于动物会运动，环境会根据它的运动和它对环境的影响造成改变。动物需要可以利用记忆力从过去推测未来事件的能力\n",
    "- 实例：物理学家追求可以解释一切的公式，这种能力存在于拥有时间观念的生命之中，人类更是其中的王者"
   ]
  },
  {
   "cell_type": "markdown",
   "metadata": {},
   "source": [
    "- 但这并不意味着智能越多越好，取决于智能如何被使用\n",
    "- 如人类可以用第二种知识去改变环境，但会带来不确定性\n",
    "- 同时我们又需要更多智能取对抗不确定性，并改变了更多的环境\n",
    "- 科技从未使我们的生活变得更好，它仅使生活变得复杂\n",
    "- 是环境的复杂造成了我们不得不学习更抽象的知识，不得不获得更高的学历提高自己的生存能力\n",
    "- 当平衡被打破，我们将会失去部分智能，新的平衡将会尝试着建立\n",
    "- 许多已灭绝的生物曾经拥有他们与不确定性的平衡，直到人类将他们的环境改变"
   ]
  },
  {
   "cell_type": "markdown",
   "metadata": {},
   "source": [
    "## 智能的条件"
   ]
  },
  {
   "cell_type": "markdown",
   "metadata": {},
   "source": [
    "### 智能 LV1\n",
    "\n",
    "生命如何通过活着减熵的，需要哪些条件？  \n",
    "\n",
    "该问题等同于如何生存。  \n",
    "首先要知道何时根据环境做出变化，也就需要从环境到行动的关联，并且可以在未来执行行动来躲避不确定性  \n",
    "\n",
    "从生存的视角来看：  \n",
    "智能 LV1 的基础是拥有能再次利用从环境到行动的关联的能力（强化学习？）\n",
    "\n",
    "- 环境变化时，关联也需要跟着变化\n",
    "- 可再次利用：得到的关联可用于躲避危险，帮助生存，也就是预测；需要将所得到的关联保留下来"
   ]
  },
  {
   "cell_type": "markdown",
   "metadata": {},
   "source": [
    "- 关联的三个条件：  \n",
    "  - 学习（建模）：学习自发性使得熵尽可能低的关联（或映射、函数）。关联的产生必须要从环境中得到，当环境变化时关联也会改变使得熵变低，是一种单向动态关联\n",
    "  - 应用（识别）：基于环境执行行动\n",
    "  - 储存（记忆）：学到的关联需要存储媒介，否则无法保留\n",
    "\n",
    "\n",
    "智能 LV1 属于应激性行为，所有微生物和植物都主要以该种智能为主。"
   ]
  },
  {
   "cell_type": "markdown",
   "metadata": {},
   "source": [
    "### 智能 LV2"
   ]
  },
  {
   "cell_type": "markdown",
   "metadata": {},
   "source": [
    "- 智能 LV1 中的关联只能够是环境到行为的关联，而智能 LV2 的关联可以是过去状态到未来状态的关联，即预测\n",
    "- 智能 LV2 的基础是拥有能再次利用过去到未来的关联能力\n",
    "- 存在于动物之中，通过预测下一刻的事件决定自己的行为"
   ]
  },
  {
   "cell_type": "markdown",
   "metadata": {},
   "source": [
    "# 自然智能"
   ]
  },
  {
   "cell_type": "markdown",
   "metadata": {},
   "source": [
    "## RNA 与 DNA"
   ]
  },
  {
   "cell_type": "markdown",
   "metadata": {},
   "source": [
    "## 进化"
   ]
  },
  {
   "cell_type": "markdown",
   "metadata": {},
   "source": [
    "- 进化以种群为单位\n",
    "- 进化不以个体为单位，也并非由意识来推动。进化是被动的\n",
    "- 不同状态并无好坏，决定存留的仅在于是否适合当前环境\n",
    "- 进化的对象是智能\n",
    "- 进化的过程是智能关联不断被筛选的过程\n",
    "- 进化方向难以预测，但一定会向使生物个体产生更多差异性的方向前进，因为这样扩大了样本，增加了存活几率"
   ]
  },
  {
   "cell_type": "markdown",
   "metadata": {},
   "source": [
    "- 智能关联：进化的真正对象\n",
    "- 进化：不适应环境的智能的淘汰过程\n",
    "- 基因：保存智能关联的媒介\n",
    "- 个体：智能关联的具体反映\n",
    "- 种群：进化的单位\n",
    "- 差异性：进化的前提"
   ]
  },
  {
   "cell_type": "markdown",
   "metadata": {},
   "source": [
    "- 为什么有性繁殖成主流？  \n",
    "  - 关键在与差异性所带来的智能筛选\n",
    "  - 有性繁殖产生差异性能力强"
   ]
  },
  {
   "cell_type": "markdown",
   "metadata": {},
   "source": [
    "- 永生的吸血鬼风险如此之大的原因是，自然选择中的三步（繁殖、变异、筛选）里少了筛选这一步，使其变异速度无法跟进环境的变化速度\n",
    "- 胎生相当于强制生物频繁存档，而永生相当于只有一个起始存档点\n",
    "- 自然选择的实质是一个动态的从环境中学习关联过程，而进化达到的结果是自然选择中第三步：筛选"
   ]
  },
  {
   "cell_type": "markdown",
   "metadata": {
    "collapsed": true
   },
   "source": [
    "## 生物学习"
   ]
  },
  {
   "cell_type": "markdown",
   "metadata": {},
   "source": [
    "- 熵为何增加？\n",
    "  - 熵描述的是状态的不确定性\n",
    "  - 单纯认为有序的事物的熵低是不对的，即便是无序，若状态为确定性，熵就是 0\n",
    "  - 熵描述的一定是有概率的内容\n",
    "  - 描述变化后的状态有多难确定，状态难以确定的程度\n",
    "- 熵描述的是不确定性，所以熵增就是不确定性增加"
   ]
  },
  {
   "cell_type": "markdown",
   "metadata": {},
   "source": [
    "- 不确定性为何增加？\n",
    "  - 量子计算机的强大在于计算时的额外信息量，最小单位量子位表示 0 和 1 共存状态\n",
    "  - 经典计算机可以理解成量子计算机的一种特例\n",
    "- 不确定性的增加就是信息（新状态）的增加\n",
    "  - 之所以难以理解是因为人类的认知所在的维度并非信息的全部\n",
    "  - 经典计算机只有已发生的状态的信息"
   ]
  },
  {
   "cell_type": "markdown",
   "metadata": {},
   "source": [
    "- 新信息如何产生？\n",
    "  - 新信息是因素间通过某规律形成的排列组合"
   ]
  },
  {
   "cell_type": "markdown",
   "metadata": {},
   "source": [
    "- 如何减熵？\n",
    "  - 熵的增加就是不确定性增加，就是信息的增加，就是原有状态通过关系所造成的新状态的增加\n",
    "  - 熵增的逆过程，就是学习的本质\n",
    "  - 学习的过程是因素间关系的拆分，关系的拆分是信息的回卷，信息的回卷是不确定性的缩减\n",
    "  - 学习的对象是知识，并非信息"
   ]
  },
  {
   "cell_type": "markdown",
   "metadata": {},
   "source": [
    "生命需要降低周身环境的熵才能够存活下去。  \n",
    "智能是减熵的能力。  \n",
    "熵的增加实际上是信息的增加所造成的难以确定。  \n",
    "并非我们丢失了信息，而是旧的状态通过物理关系所产生的新状态。  \n",
    "学习就是将这些新状态重新拆分成旧状态与物理关系。（利用已知和关系，推测未知）  \n",
    "这时所学到的物理关系就是知识。  \n",
    "\n",
    "自然界中信息的产生是在原有状态的基础上不断迭代产生。（**命中注定？关系等于性格？**）  \n",
    "自然界中的学习很顺利成章的是多层迭代的，也就是深层。"
   ]
  },
  {
   "cell_type": "markdown",
   "metadata": {},
   "source": [
    "- 知识应该是两类事物的关联，能够压缩信息的方法叫做知识，而学习是探索和研究这种关联的过程\n",
    "- 知识不是信息，学习不是记忆\n",
    "- **学会问为什么？思考知识如何产生？如何应用？**  "
   ]
  },
  {
   "cell_type": "markdown",
   "metadata": {},
   "source": [
    "- 什么是深层原理？\n",
    "  - 遇到综合问题时，尽可能的拆分成若干独立的子问题；反复应用，直到分解为可以轻松实现的子问题；最终的结果就是子问题的组合\n",
    "  - 句子拆分\n",
    "  - 编程\n",
    "    - 解决问题：拆分后看似毫无头绪的任务变得可能\n",
    "    - 照顾变体：不需要为每个变体功能重新写一遍程序，功能拆分的越细微，意味着“层数”越深，对变体的照顾越周全"
   ]
  },
  {
   "cell_type": "markdown",
   "metadata": {},
   "source": [
    "## 神经元工作原理"
   ]
  },
  {
   "cell_type": "markdown",
   "metadata": {},
   "source": [
    "- 智能 LV1 的功能是识别，智能 LV2 的功能是预测\n",
    "- 实现智能 LV2 的基础就是要有记忆能力，可以将“过去发生的状态”记住，才能实现从过去关联到未来\n",
    "- 神经元便可以实现智能 LV2\n",
    "- 大量神经元科学系过去倒未来的关联"
   ]
  },
  {
   "cell_type": "markdown",
   "metadata": {},
   "source": [
    "## 神经元本质行为"
   ]
  },
  {
   "cell_type": "markdown",
   "metadata": {},
   "source": [
    "- 神经元和深层学习对比\n",
    "  - 实现方式：计算机按 01 运算顺序执行；生物并行预测（人类不擅长计算，即便是计算也是通过关联的方式，而计算机是真的在算）\n",
    "  - 组合方式：计算机尝试一次建模；生物逐层迭代（自然界无法突然产生出十分复杂的结构，往往都是同一原理在不同层级反复利用）"
   ]
  },
  {
   "cell_type": "markdown",
   "metadata": {},
   "source": [
    "## 网络"
   ]
  },
  {
   "cell_type": "markdown",
   "metadata": {},
   "source": [
    "- 神经元\n",
    "  - 链接：蛋白质控制\n",
    "  - 线性：神经脉冲\n",
    "  - 非线性：神经递质\n",
    "- 昆虫群\n",
    "  - 链接：空气中的信息素\n",
    "  - 非线性：信息素\n",
    "- 动物群\n",
    "  - 链接：气味，啸叫等信息传递方式\n",
    "  - 非线性：啸叫\n",
    "- 人类社会\n",
    "  - 链接：语言，文字，互联网等\n",
    "  - 非线性：语言"
   ]
  },
  {
   "cell_type": "markdown",
   "metadata": {},
   "source": [
    "影响智能功能大小的三个因素：深度，广度，速度  \n",
    "与深度学习不同的地方是，网络虽然链接在一起，但并非只有一个目的（损失函数）\n",
    "\n",
    "**表示如何变化状态的链接都可以存储在矩阵中。**"
   ]
  },
  {
   "cell_type": "markdown",
   "metadata": {},
   "source": [
    "## 智能的不同阶段"
   ]
  },
  {
   "cell_type": "markdown",
   "metadata": {},
   "source": [
    "存储媒介：DNA - 瞬时记忆 - 短期记忆 - 长期记忆 - 竹简、石头 - 纸张 - 计算机硬盘  \n",
    "\n",
    "跨个体的传播保留通过大脑皮层所学到的关联，不需要个体在出生后都重新学习。互联网又极大加速了关联的传播速度。  \n",
    "注意：尽管新大脑皮层的学习速度非常块，但对于生物个体的保障性和可靠性远不如 DNA 中学习了亿年的智能"
   ]
  },
  {
   "cell_type": "markdown",
   "metadata": {},
   "source": [
    "生物类别：起源 - 微生物 - 植物 - 昆虫 - 昆虫群体 - 动物 - 动物群体 - 人类\n",
    "\n",
    "智能的发展基本取决于两个因素：预测模型的数量（宽度与深度），预测模型之间的传输速度  \n",
    "\n",
    "以上两个因素张成一张大网：描述世界的能力\n",
    "\n",
    "- 智能起源：单一预测模型\n",
    "- 植物智能：传输速度成了智能瓶颈\n",
    "- 昆虫智能：能描述世界的程度优于植物，但相对依然很小\n",
    "- 群体昆虫：世界描述程度高于个体昆虫，但传输速度低于个体昆虫\n",
    "- 动物及动物群体：活动空间增大，能描述的世界高于昆虫；利用叫声传递信息，声音传播速度快于信息素\n",
    "- 人类个体及社会：内部预测模型传播速度并不比其他动物优异，但预测模型的数量却非常多，可以描述世界的程度大到难以度量；存储媒介允许不同个体之间交换已学的模型知识\n",
    "- 互联网：将能够连接起来的人类的数量和信息传输速度提升到了极致\n",
    "- 地球连接：跨越种族的群体智能"
   ]
  },
  {
   "cell_type": "markdown",
   "metadata": {},
   "source": [
    "## 智能结构梳理"
   ]
  },
  {
   "cell_type": "markdown",
   "metadata": {},
   "source": [
    "- 平衡\n",
    "  - 环境：自发性增熵，转来能量，无序\n",
    "  - 生命：自发性减熵，消耗能量，有序\n",
    "- 工具\n",
    "  - 线代：任意维度空间下事物状态和状态变化的规则\n",
    "  - 概率：事物跨时间后不同状态的确信度\n",
    "  - 熵：事物跨时间后能产生不同状态的混乱度"
   ]
  },
  {
   "cell_type": "markdown",
   "metadata": {},
   "source": []
  },
  {
   "cell_type": "markdown",
   "metadata": {},
   "source": [
    "# 人工智能"
   ]
  },
  {
   "cell_type": "markdown",
   "metadata": {
    "collapsed": true
   },
   "source": [
    "- 人工智能是人造的减熵的能力\n",
    "- 无监督学习是能够自己生成相应的 y 不是没有 y"
   ]
  },
  {
   "cell_type": "markdown",
   "metadata": {},
   "source": [
    "82"
   ]
  },
  {
   "cell_type": "markdown",
   "metadata": {},
   "source": [
    "85"
   ]
  },
  {
   "cell_type": "markdown",
   "metadata": {},
   "source": [
    "87"
   ]
  },
  {
   "cell_type": "markdown",
   "metadata": {},
   "source": [
    "88"
   ]
  },
  {
   "cell_type": "markdown",
   "metadata": {},
   "source": [
    "98：深度网络有“先验”知识？  \n",
    "\n",
    "是不是就是物理或心理上的直觉？"
   ]
  },
  {
   "cell_type": "markdown",
   "metadata": {},
   "source": [
    "层数越多，是不是增加了鲁棒性，以及更多的可能性？  \n",
    "而一层，n 个节点虽然能够拟合任何函数，但更类似于死记硬背，不具有泛化能力。"
   ]
  },
  {
   "cell_type": "markdown",
   "metadata": {
    "collapsed": true
   },
   "source": [
    "165: 命 与 运"
   ]
  },
  {
   "cell_type": "code",
   "execution_count": null,
   "metadata": {
    "collapsed": true
   },
   "outputs": [],
   "source": []
  }
 ],
 "metadata": {
  "anaconda-cloud": {},
  "kernelspec": {
   "display_name": "Python 2",
   "language": "python",
   "name": "python2"
  },
  "language_info": {
   "codemirror_mode": {
    "name": "ipython",
    "version": 2
   },
   "file_extension": ".py",
   "mimetype": "text/x-python",
   "name": "python",
   "nbconvert_exporter": "python",
   "pygments_lexer": "ipython2",
   "version": "2.7.12"
  },
  "latex_envs": {
   "LaTeX_envs_menu_present": true,
   "bibliofile": "biblio.bib",
   "cite_by": "apalike",
   "current_citInitial": 1,
   "eqLabelWithNumbers": true,
   "eqNumInitial": 1,
   "hotkeys": {
    "equation": "Ctrl-E",
    "itemize": "Ctrl-I"
   },
   "labels_anchors": false,
   "latex_user_defs": false,
   "report_style_numbering": false,
   "user_envs_cfg": false
  },
  "toc": {
   "colors": {
    "hover_highlight": "#DAA520",
    "running_highlight": "#FF0000",
    "selected_highlight": "#FFD700"
   },
   "moveMenuLeft": true,
   "nav_menu": {
    "height": "192px",
    "width": "252px"
   },
   "navigate_menu": true,
   "number_sections": true,
   "sideBar": true,
   "threshold": 4,
   "toc_cell": true,
   "toc_section_display": "block",
   "toc_window_display": true
  }
 },
 "nbformat": 4,
 "nbformat_minor": 0
}
