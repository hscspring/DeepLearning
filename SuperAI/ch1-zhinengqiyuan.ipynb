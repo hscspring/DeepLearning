{
 "cells": [
  {
   "cell_type": "markdown",
   "metadata": {
    "toc": "true"
   },
   "source": [
    "# Table of Contents\n",
    " <p><div class=\"lev1 toc-item\"><a href=\"#智能起源\" data-toc-modified-id=\"智能起源-1\"><span class=\"toc-item-num\">1&nbsp;&nbsp;</span>智能起源</a></div><div class=\"lev2 toc-item\"><a href=\"#智能的本质\" data-toc-modified-id=\"智能的本质-11\"><span class=\"toc-item-num\">1.1&nbsp;&nbsp;</span>智能的本质</a></div><div class=\"lev2 toc-item\"><a href=\"#矩阵\" data-toc-modified-id=\"矩阵-12\"><span class=\"toc-item-num\">1.2&nbsp;&nbsp;</span>矩阵</a></div><div class=\"lev3 toc-item\"><a href=\"#复数\" data-toc-modified-id=\"复数-121\"><span class=\"toc-item-num\">1.2.1&nbsp;&nbsp;</span>复数</a></div><div class=\"lev2 toc-item\"><a href=\"#概率\" data-toc-modified-id=\"概率-13\"><span class=\"toc-item-num\">1.3&nbsp;&nbsp;</span>概率</a></div><div class=\"lev2 toc-item\"><a href=\"#熵与生命\" data-toc-modified-id=\"熵与生命-14\"><span class=\"toc-item-num\">1.4&nbsp;&nbsp;</span>熵与生命</a></div><div class=\"lev2 toc-item\"><a href=\"#智能的条件\" data-toc-modified-id=\"智能的条件-15\"><span class=\"toc-item-num\">1.5&nbsp;&nbsp;</span>智能的条件</a></div><div class=\"lev3 toc-item\"><a href=\"#智能-LV1\" data-toc-modified-id=\"智能-LV1-151\"><span class=\"toc-item-num\">1.5.1&nbsp;&nbsp;</span>智能 LV1</a></div><div class=\"lev3 toc-item\"><a href=\"#智能-LV2\" data-toc-modified-id=\"智能-LV2-152\"><span class=\"toc-item-num\">1.5.2&nbsp;&nbsp;</span>智能 LV2</a></div><div class=\"lev1 toc-item\"><a href=\"#自然智能\" data-toc-modified-id=\"自然智能-2\"><span class=\"toc-item-num\">2&nbsp;&nbsp;</span>自然智能</a></div>"
   ]
  },
  {
   "cell_type": "markdown",
   "metadata": {},
   "source": [
    "# 智能起源"
   ]
  },
  {
   "cell_type": "markdown",
   "metadata": {},
   "source": [
    "## 智能的本质"
   ]
  },
  {
   "cell_type": "markdown",
   "metadata": {},
   "source": [
    "- 可以根据环境变化而做出相应变化的能力\n",
    "- 熵减的能力"
   ]
  },
  {
   "cell_type": "markdown",
   "metadata": {},
   "source": [
    "## 矩阵"
   ]
  },
  {
   "cell_type": "markdown",
   "metadata": {},
   "source": [
    "- 矩阵乘向量是矩阵各列按向量各元素进行组合\n",
    "- 矩阵乘向量可以理解为矩阵在向量上的投影"
   ]
  },
  {
   "cell_type": "markdown",
   "metadata": {},
   "source": [
    "- 向量乘矩阵是矩阵各行按向量各元素进行组合\n",
    "- 向量乘矩阵可以理解为向量经过矩阵变换后的结果（依然是向量）"
   ]
  },
  {
   "cell_type": "markdown",
   "metadata": {},
   "source": [
    "- 矩阵乘矩阵是向量乘各自对应的标量再想加\n",
    "- 矩阵乘矩阵可以可以理解为矩阵乘向量后的组合；也可以理解为向量乘矩阵后的组合\n",
    "- 矩阵乘矩阵也可以理解为矩阵在另一个矩阵上的投影；或者向量经过矩阵变换的结果；或者矩阵在向量上的投影后的组合"
   ]
  },
  {
   "cell_type": "markdown",
   "metadata": {},
   "source": [
    "- 矩阵的静态信息\n",
    "  - 向量描述一个事物的状态，由向量内各个因素描述\n",
    "  - 矩阵可视为多个维度（因素个数）相同的向量的有序排列\n",
    "  - 矩阵也可以看做向量，用于描述一个事物的状态，内部各向量就是矩阵的因素\n",
    "  - 多个标量有序排列为向量，多个向量有序排列为矩阵，多个矩阵有序排列为三维张量\n",
    "  - 标量是因素个数为1的向量，向量是因素个数为1的矩阵，矩阵是因素个数为1的张量"
   ]
  },
  {
   "cell_type": "markdown",
   "metadata": {},
   "source": [
    "- 矩阵的动态信息\n",
    "  - 变化可以理解为由于矩阵的作用，事物本身的变化，也可以理解为坐标的变化\n",
    "  - 向量可用于控制变化时所用成分的数量，即一组权重\n",
    "  - 矩阵可以视为多个维度（因素的个数）相同的权重的有序排列"
   ]
  },
  {
   "cell_type": "markdown",
   "metadata": {},
   "source": [
    "- 矩阵乘法\n",
    "  - 矩阵乘法时，一旦选择以动态信息理解其中一个矩阵，另一个矩阵的信息就会被瞬间静态\n",
    "  - 一个提供状态信息，一个提供变化信息\n",
    "  - 前矩阵行向量理解乘若干组权重时，后矩阵的行向量就是要形成组合的成分；反之亦然"
   ]
  },
  {
   "cell_type": "markdown",
   "metadata": {},
   "source": [
    "- 矩阵转置可以理解为调换动态与静态信息\n",
    "- 单位矩阵动态静态信息相同"
   ]
  },
  {
   "cell_type": "markdown",
   "metadata": {},
   "source": [
    "- 向量空间是能够容纳所有线性组合的状态空间\n",
    "- 子空间可以看作是向量空间内的向量空间\n",
    "- 最小的子空间是只有一个状态的空间\n",
    "- 最小的向量空间是只包含零向量的空间"
   ]
  },
  {
   "cell_type": "markdown",
   "metadata": {},
   "source": [
    "- 互不相关的因素的个数是一个向量空间的维度\n",
    "- 一个具体矩阵涵盖了多少信息可以由秩来描述，指的是一个矩阵的所有列向量所能张成的空间的维度\n",
    "- 一个矩阵的列空间的维度是这个矩阵的秩，同时也是该矩阵行空间的维度"
   ]
  },
  {
   "cell_type": "markdown",
   "metadata": {},
   "source": [
    "- 矩阵乘以矩阵可以视作一个矩阵内部向量的批量线性变换，所以可仅讨论矩阵乘以向量所形成的一次线性变换\n",
    "- 行数（列空间）是维度？"
   ]
  },
  {
   "cell_type": "markdown",
   "metadata": {},
   "source": [
    "### 复数\n",
    "\n",
    "- 当问题无法被理解时，往往是因为找错地方，不妨尝试扩展维度，增加搜索空间"
   ]
  },
  {
   "cell_type": "markdown",
   "metadata": {},
   "source": [
    "## 概率"
   ]
  },
  {
   "cell_type": "markdown",
   "metadata": {},
   "source": [
    "- 概率是用来衡量我们对事物在跨时间后不同状态的确信度\n",
    "- 概率是将样本空间内的子集投向概率空间的函数\n",
    "- 不相交事件之间的并集事件的概率等于各个事件概率之和\n",
    "- 结果：可能到达的状态\n",
    "- 样本空间：所有可能发生的结果所组成的集合\n",
    "- 事件：样本空间的子集"
   ]
  },
  {
   "cell_type": "markdown",
   "metadata": {},
   "source": [
    "- 条件概率 P(A|B) 并不意味着 B 先发生，也不意味着 B 是 A 事件的起因\n",
    "- 全概率公式可以将非条件概率分成若干块条件概率来计算"
   ]
  },
  {
   "cell_type": "markdown",
   "metadata": {},
   "source": [
    "- 随机变量：给定一个样本空间 $\\omega$，一个随机变量 $(r,v)$ 是将样本空间投射到实数域的函数\n",
    "- 随机变量作为函数而言是确定的。输入事件橘黄色，一定会得到1这个输出，函数本身并没有“随机”，“随机”是由于函数的输入的发生概率\n",
    "- 随机变量中“随机”来自事件发生的概率，分布是描述随机变量所对应的所有事件的发生概率的情况"
   ]
  },
  {
   "cell_type": "markdown",
   "metadata": {},
   "source": [
    "- 概率五要件\n",
    "  - 样本空间：所有可能结果组成的集合\n",
    "  - 随机变量：将事件投向实数的函数，用数字代表事件\n",
    "  - 事件：样本空间的子集\n",
    "  - 概率：将事件投向[0,1]实数域的函数，用实数表示确信度\n",
    "  - 分布：随机变量的取值情况\n",
    "- 数学定义不存在随机，随机来源于物理现象"
   ]
  },
  {
   "cell_type": "markdown",
   "metadata": {},
   "source": [
    "## 熵与生命"
   ]
  },
  {
   "cell_type": "markdown",
   "metadata": {},
   "source": [
    "- 概率是真实反应变化到某状态的确信度\n",
    "- 熵反应的是从某时刻到另一时刻的状态有多难以确定。阻碍生命的不是概率，而是熵。"
   ]
  },
  {
   "cell_type": "markdown",
   "metadata": {},
   "source": [
    "- 熵是用来衡量我们对事物在跨时间后能产生不同状态的混乱度\n",
    "- 当时间向未来发展时，事物可能达到的状态种类会越来越难以确定\n",
    "- 熵一定有时间跨度，而有时间跨度是指有变化"
   ]
  },
  {
   "cell_type": "markdown",
   "metadata": {},
   "source": [
    "- 越确定的事件熵越低，越随机的事件熵越高"
   ]
  },
  {
   "cell_type": "markdown",
   "metadata": {},
   "source": [
    "- 生命要在这个变化的世界中生存，就需要知道如何根据环境变化做出相应的行动来避免毁灭\n",
    "- 把不确定的环境转换成确定的行动，会将无序的事物重新整理到有序的状态\n",
    "- 生物仅仅活着就需要减熵，否则就会被不确定性消灭\n",
    "- 熵增意味着信息量越来越巨大，生物必须能够压缩这些不确定的信息并记住信息是如何被压缩的\n",
    "- 压缩信息的方法就是知识"
   ]
  },
  {
   "cell_type": "markdown",
   "metadata": {},
   "source": [
    "- 实例：病毒会利用宿主的细胞系统进行自我复制将微粒重组为有序的状态\n",
    "- 实例：工蜂利用自身的蜡腺分泌的蜂蜡修筑蜂巢\n",
    "\n",
    "此种知识是仅当环境发生时才会采取行动，并不会改变太多环境。  \n",
    "但有第二种知识，像人类这样的动物同时还可以学习改变环境的原因以此来预测未来。  \n",
    "\n",
    "- 实例：由于动物会运动，环境会根据它的运动和它对环境的影响造成改变。动物需要可以利用记忆力从过去推测未来事件的能力\n",
    "- 实例：物理学家追求可以解释一切的公式，这种能力存在于拥有时间观念的生命之中，人类更是其中的王者"
   ]
  },
  {
   "cell_type": "markdown",
   "metadata": {},
   "source": [
    "- 但这并不意味着智能越多越好，取决于智能如何被使用\n",
    "- 如人类可以用第二种知识去改变环境，但会带来不确定性\n",
    "- 同时我们又需要更多智能取对抗不确定性，并改变了更多的环境\n",
    "- 科技从未使我们的生活变得更好，它仅使生活变得复杂\n",
    "- 是环境的复杂造成了我们不得不学习更抽象的知识，不得不获得更高的学历提高自己的生存能力\n",
    "- 当平衡被打破，我们将会失去部分智能，新的平衡将会尝试着建立\n",
    "- 许多已灭绝的生物曾经拥有他们与不确定性的平衡，直到人类将他们的环境改变"
   ]
  },
  {
   "cell_type": "markdown",
   "metadata": {},
   "source": [
    "## 智能的条件"
   ]
  },
  {
   "cell_type": "markdown",
   "metadata": {},
   "source": [
    "### 智能 LV1\n",
    "\n",
    "生命如何通过活着减熵的，需要哪些条件？  \n",
    "\n",
    "该问题等同于如何生存。  \n",
    "首先要知道何时根据环境做出变化，也就需要从环境到行动的关联，并且可以在未来执行行动来躲避不确定性  \n",
    "\n",
    "从生存的视角来看：  \n",
    "智能 LV1 的基础是拥有能再次利用从环境到行动的关联的能力（强化学习？）\n",
    "\n",
    "- 环境变化时，关联也需要跟着变化\n",
    "- 可再次利用：得到的关联可用于躲避危险，帮助生存，也就是预测；需要将所得到的关联保留下来"
   ]
  },
  {
   "cell_type": "markdown",
   "metadata": {},
   "source": [
    "- 关联的三个条件：  \n",
    "  - 学习（建模）：学习自发性使得熵尽可能低的关联（或映射、函数）。关联的产生必须要从环境中得到，当环境变化时关联也会改变使得熵变低，是一种单向动态关联\n",
    "  - 应用（识别）：基于环境执行行动\n",
    "  - 储存（记忆）：学到的关联需要存储媒介，否则无法保留\n",
    "\n",
    "\n",
    "智能 LV1 属于应激性行为，所有微生物和植物都主要以该种智能为主。"
   ]
  },
  {
   "cell_type": "markdown",
   "metadata": {},
   "source": [
    "### 智能 LV2"
   ]
  },
  {
   "cell_type": "markdown",
   "metadata": {},
   "source": [
    "- 智能 LV1 中的关联只能够是环境到行为的关联，而智能 LV2 的关联可以是过去状态到未来状态的关联，即预测\n",
    "- 智能 LV2 的基础是拥有能再次利用过去到未来的关联能力\n",
    "- 存在于动物之中，通过预测下一刻的事件决定自己的行为"
   ]
  },
  {
   "cell_type": "markdown",
   "metadata": {},
   "source": [
    "# 自然智能"
   ]
  },
  {
   "cell_type": "markdown",
   "metadata": {},
   "source": [
    "- 进化以种群为单位\n",
    "- 进化不以个体为单位，也并非由意识来推动。进化是被动的\n",
    "- 不同状态并无好坏，决定存留的仅在于是否适合当前环境\n",
    "- 进化的对象是智能\n",
    "- 进化的过程是智能关联不断被筛选的过程\n",
    "- 进化方向难以预测，但一定会向使生物个体产生更多差异性的方向前进，因为这样扩大了样本，增加了存活几率"
   ]
  },
  {
   "cell_type": "markdown",
   "metadata": {},
   "source": [
    "- 智能关联：进化的真正对象\n",
    "- 进化：不适应环境的智能的淘汰过程\n",
    "- 基因：保存智能关联的媒介\n",
    "- 个体：智能关联的具体反映\n",
    "- 种群：进化的单位\n",
    "- 差异性：进化的前提"
   ]
  },
  {
   "cell_type": "markdown",
   "metadata": {},
   "source": [
    "- 为什么有性繁殖成主流？  \n",
    "  - 关键在与差异性所带来的智能筛选\n",
    "  - 有性繁殖产生差异性能力强"
   ]
  },
  {
   "cell_type": "markdown",
   "metadata": {},
   "source": [
    "- 永生的吸血鬼风险如此之大的原因是，自然选择中的三步（繁殖、变异、筛选）里少了筛选这一步，使其变异速度无法跟进环境的变化速度\n",
    "- 胎生相当于强制生物频繁存档，而永生相当于只有一个起始存档点\n",
    "- 自然选择的实质是一个动态的从环境中学习关联过程，而进化达到的结果是自然选择中第三步：筛选"
   ]
  },
  {
   "cell_type": "code",
   "execution_count": null,
   "metadata": {
    "collapsed": true
   },
   "outputs": [],
   "source": []
  }
 ],
 "metadata": {
  "kernelspec": {
   "display_name": "Python 2",
   "language": "python",
   "name": "python2"
  },
  "language_info": {
   "codemirror_mode": {
    "name": "ipython",
    "version": 2
   },
   "file_extension": ".py",
   "mimetype": "text/x-python",
   "name": "python",
   "nbconvert_exporter": "python",
   "pygments_lexer": "ipython2",
   "version": "2.7.12"
  },
  "latex_envs": {
   "LaTeX_envs_menu_present": true,
   "bibliofile": "biblio.bib",
   "cite_by": "apalike",
   "current_citInitial": 1,
   "eqLabelWithNumbers": true,
   "eqNumInitial": 1,
   "hotkeys": {
    "equation": "Ctrl-E",
    "itemize": "Ctrl-I"
   },
   "labels_anchors": false,
   "latex_user_defs": false,
   "report_style_numbering": false,
   "user_envs_cfg": false
  },
  "toc": {
   "colors": {
    "hover_highlight": "#DAA520",
    "running_highlight": "#FF0000",
    "selected_highlight": "#FFD700"
   },
   "moveMenuLeft": true,
   "nav_menu": {
    "height": "192px",
    "width": "252px"
   },
   "navigate_menu": true,
   "number_sections": true,
   "sideBar": true,
   "threshold": 4,
   "toc_cell": true,
   "toc_section_display": "block",
   "toc_window_display": true
  }
 },
 "nbformat": 4,
 "nbformat_minor": 0
}
