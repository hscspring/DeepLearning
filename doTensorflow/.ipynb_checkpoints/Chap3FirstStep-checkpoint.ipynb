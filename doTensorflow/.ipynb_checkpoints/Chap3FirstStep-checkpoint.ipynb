{
 "cells": [
  {
   "cell_type": "markdown",
   "metadata": {
    "toc": "true"
   },
   "source": [
    "# Table of Contents\n",
    " <p><div class=\"lev1 toc-item\"><a href=\"#Tensorflow-第一步\" data-toc-modified-id=\"Tensorflow-第一步-1\"><span class=\"toc-item-num\">1&nbsp;&nbsp;</span>Tensorflow 第一步</a></div><div class=\"lev2 toc-item\"><a href=\"#Softmax-Regression-识别手写数字\" data-toc-modified-id=\"Softmax-Regression-识别手写数字-11\"><span class=\"toc-item-num\">1.1&nbsp;&nbsp;</span>Softmax Regression 识别手写数字</a></div><div class=\"lev3 toc-item\"><a href=\"#加载数据\" data-toc-modified-id=\"加载数据-111\"><span class=\"toc-item-num\">1.1.1&nbsp;&nbsp;</span>加载数据</a></div><div class=\"lev3 toc-item\"><a href=\"#查看数据\" data-toc-modified-id=\"查看数据-112\"><span class=\"toc-item-num\">1.1.2&nbsp;&nbsp;</span>查看数据</a></div><div class=\"lev3 toc-item\"><a href=\"#载入-tensorflow\" data-toc-modified-id=\"载入-tensorflow-113\"><span class=\"toc-item-num\">1.1.3&nbsp;&nbsp;</span>载入 tensorflow</a></div><div class=\"lev3 toc-item\"><a href=\"#指定变量维度\" data-toc-modified-id=\"指定变量维度-114\"><span class=\"toc-item-num\">1.1.4&nbsp;&nbsp;</span>指定变量维度</a></div><div class=\"lev3 toc-item\"><a href=\"#Softmax-Regression\" data-toc-modified-id=\"Softmax-Regression-115\"><span class=\"toc-item-num\">1.1.5&nbsp;&nbsp;</span>Softmax Regression</a></div><div class=\"lev3 toc-item\"><a href=\"#损失函数-cross_entropy\" data-toc-modified-id=\"损失函数-cross_entropy-116\"><span class=\"toc-item-num\">1.1.6&nbsp;&nbsp;</span>损失函数 cross_entropy</a></div><div class=\"lev3 toc-item\"><a href=\"#优化算法-SGD\" data-toc-modified-id=\"优化算法-SGD-117\"><span class=\"toc-item-num\">1.1.7&nbsp;&nbsp;</span>优化算法 SGD</a></div><div class=\"lev3 toc-item\"><a href=\"#全局参数初始化\" data-toc-modified-id=\"全局参数初始化-118\"><span class=\"toc-item-num\">1.1.8&nbsp;&nbsp;</span>全局参数初始化</a></div><div class=\"lev3 toc-item\"><a href=\"#迭代训练-train_step\" data-toc-modified-id=\"迭代训练-train_step-119\"><span class=\"toc-item-num\">1.1.9&nbsp;&nbsp;</span>迭代训练 train_step</a></div><div class=\"lev3 toc-item\"><a href=\"#验证准确性\" data-toc-modified-id=\"验证准确性-1110\"><span class=\"toc-item-num\">1.1.10&nbsp;&nbsp;</span>验证准确性</a></div><div class=\"lev2 toc-item\"><a href=\"#无隐层-NN-流程\" data-toc-modified-id=\"无隐层-NN-流程-12\"><span class=\"toc-item-num\">1.2&nbsp;&nbsp;</span>无隐层 NN 流程</a></div><div class=\"lev2 toc-item\"><a href=\"#注意\" data-toc-modified-id=\"注意-13\"><span class=\"toc-item-num\">1.3&nbsp;&nbsp;</span>注意</a></div>"
   ]
  },
  {
   "cell_type": "markdown",
   "metadata": {},
   "source": [
    "# Tensorflow 第一步"
   ]
  },
  {
   "cell_type": "markdown",
   "metadata": {},
   "source": [
    "## Softmax Regression 识别手写数字"
   ]
  },
  {
   "cell_type": "markdown",
   "metadata": {},
   "source": [
    "### 加载数据"
   ]
  },
  {
   "cell_type": "code",
   "execution_count": 12,
   "metadata": {
    "collapsed": true
   },
   "outputs": [],
   "source": [
    "from tensorflow.examples.tutorials.mnist import input_data"
   ]
  },
  {
   "cell_type": "code",
   "execution_count": 13,
   "metadata": {
    "collapsed": false
   },
   "outputs": [
    {
     "name": "stdout",
     "output_type": "stream",
     "text": [
      "Extracting MNIST_data/train-images-idx3-ubyte.gz\n",
      "Extracting MNIST_data/train-labels-idx1-ubyte.gz\n",
      "Extracting MNIST_data/t10k-images-idx3-ubyte.gz\n",
      "Extracting MNIST_data/t10k-labels-idx1-ubyte.gz\n"
     ]
    }
   ],
   "source": [
    "mnist = input_data.read_data_sets(\"MNIST_data/\", one_hot=True)"
   ]
  },
  {
   "cell_type": "markdown",
   "metadata": {},
   "source": [
    "### 查看数据  \n",
    "\n",
    "- 输入的其实是 28 × 28（784）展开的 1 维的结果，一张图片就是一个很长（784）的一维向量\n",
    "- 展开的顺序不重要，只要所有图片以同样的顺序展开即可\n",
    "- 展开丢弃的结构信息并不重要，因为分类任务比较简单，所以丢弃信息，简化问题"
   ]
  },
  {
   "cell_type": "code",
   "execution_count": 14,
   "metadata": {
    "collapsed": false
   },
   "outputs": [
    {
     "name": "stdout",
     "output_type": "stream",
     "text": [
      "(55000, 784) (55000, 10)\n",
      "(10000, 784) (10000, 10)\n",
      "(5000, 784) (5000, 10)\n"
     ]
    }
   ],
   "source": [
    "print(mnist.train.images.shape, mnist.train.labels.shape)\n",
    "print(mnist.test.images.shape, mnist.test.labels.shape)\n",
    "print(mnist.validation.images.shape, mnist.validation.labels.shape)"
   ]
  },
  {
   "cell_type": "markdown",
   "metadata": {},
   "source": [
    "### 载入 tensorflow"
   ]
  },
  {
   "cell_type": "code",
   "execution_count": 2,
   "metadata": {
    "collapsed": false
   },
   "outputs": [],
   "source": [
    "import tensorflow as tf\n",
    "# 将这个 session 注册为默认的 session，之后的运算会默认跑在这个 session，不同的 session 之间数据和运算都是相互独立的\n",
    "sess = tf.InteractiveSession()\n",
    "x = tf.placeholder(tf.float32, [None, 784])"
   ]
  },
  {
   "cell_type": "markdown",
   "metadata": {},
   "source": [
    "### 指定变量维度\n",
    "\n",
    "- 784 是特征的维数\n",
    "- 10 是分类的个数，label 在 one-hot 编码后是 10 维的向量"
   ]
  },
  {
   "cell_type": "code",
   "execution_count": 3,
   "metadata": {
    "collapsed": true
   },
   "outputs": [],
   "source": [
    "W = tf.Variable(tf.zeros([784, 10]))\n",
    "b = tf.Variable(tf.zeros([10]))"
   ]
  },
  {
   "cell_type": "markdown",
   "metadata": {},
   "source": [
    "### Softmax Regression \n",
    "\n",
    "- $ softmax(x) = normalize(exp(x))$\n",
    "- 多分类任务时，一般使用该模型\n",
    "- $ y = softmax(Wx + b)$\n",
    "- 自动实现 forward 和 backward 的内容，只要定义好 loss，训练时会自动求导并进行梯度下降"
   ]
  },
  {
   "cell_type": "code",
   "execution_count": 5,
   "metadata": {
    "collapsed": true
   },
   "outputs": [],
   "source": [
    "y = tf.nn.softmax(tf.matmul(x, W) + b)"
   ]
  },
  {
   "cell_type": "code",
   "execution_count": 6,
   "metadata": {
    "collapsed": false
   },
   "outputs": [],
   "source": [
    "y_ = tf.placeholder(tf.float32, [None, 10])"
   ]
  },
  {
   "cell_type": "markdown",
   "metadata": {},
   "source": [
    "### 损失函数 cross_entropy\n",
    "\n",
    "- $ H_{y'}(y) = - \\sum_{i} y'_ilog(y_i)$\n",
    "- `tf.reduce_sum` 表示求和\n",
    "- `tf.reduce_mean` 用来对每个 batch 数据结果求均值"
   ]
  },
  {
   "cell_type": "code",
   "execution_count": 8,
   "metadata": {
    "collapsed": true
   },
   "outputs": [],
   "source": [
    "cross_entropy = tf.reduce_mean(-tf.reduce_sum(y_ * tf.log(y), reduction_indices=[1]))"
   ]
  },
  {
   "cell_type": "markdown",
   "metadata": {},
   "source": [
    "### 优化算法 SGD\n",
    "\n",
    "- Tensorflow 根据定义的整个图（前面定义的各个公式）自动求导，并根据反向传播算法进行训练\n",
    "- 每一轮迭代时更新参数减小 loss\n",
    "- Tesorflow 在后台自动添加许多 Operation 实现反向传播和梯度下降\n",
    "- 提供给用户封装好的优化器，只需要每轮迭代 feed 数据给它就好\n",
    "- 优化目标：cross_entropy"
   ]
  },
  {
   "cell_type": "code",
   "execution_count": 9,
   "metadata": {
    "collapsed": false
   },
   "outputs": [],
   "source": [
    "train_step = tf.train.GradientDescentOptimizer(0.5).minimize(cross_entropy)"
   ]
  },
  {
   "cell_type": "markdown",
   "metadata": {},
   "source": [
    "### 全局参数初始化"
   ]
  },
  {
   "cell_type": "code",
   "execution_count": 10,
   "metadata": {
    "collapsed": true
   },
   "outputs": [],
   "source": [
    "tf.global_variables_initializer().run()"
   ]
  },
  {
   "cell_type": "markdown",
   "metadata": {},
   "source": [
    "### 迭代训练 train_step\n",
    "\n",
    "- 每次随机抽取 100 个样本构成 mini-batch\n",
    "- feed 给 placeholder\n",
    "- 调用 train_step 对样本进行训练"
   ]
  },
  {
   "cell_type": "code",
   "execution_count": 15,
   "metadata": {
    "collapsed": false
   },
   "outputs": [],
   "source": [
    "for i in range(1000):\n",
    "    batch_xs, batch_ys = mnist.train.next_batch(100)\n",
    "    train_step.run({x:batch_xs, y_:batch_ys})"
   ]
  },
  {
   "cell_type": "markdown",
   "metadata": {},
   "source": [
    "### 验证准确性\n",
    "\n",
    "- `tf.argmax` 从一个 tensor 中寻找最大值的序号\n",
    "- `tf.argmax(y, 1)` 就是求预测数字中概率最大的\n",
    "- `tf.argmax(y_, 1)` 就是求样本的真实数字类别\n",
    "- `tf.equal` 判断预测的数字类别是否是正确的类别\n",
    "- 返回计算分类是否正确的操作"
   ]
  },
  {
   "cell_type": "code",
   "execution_count": 14,
   "metadata": {
    "collapsed": true
   },
   "outputs": [],
   "source": [
    "correct_prediction = tf.equal(tf.argmax(y,1), tf.argmax(y_, 1))"
   ]
  },
  {
   "cell_type": "markdown",
   "metadata": {},
   "source": [
    "- 统计全部样本预测的 accuracy\n",
    "- 先用 `tf.cast` 将之前的 correct_prediction 输出的 bool 值转为 float32，再求平均"
   ]
  },
  {
   "cell_type": "code",
   "execution_count": 15,
   "metadata": {
    "collapsed": true
   },
   "outputs": [],
   "source": [
    "accuracy = tf.reduce_mean(tf.cast(correct_prediction, tf.float32))"
   ]
  },
  {
   "cell_type": "markdown",
   "metadata": {},
   "source": [
    "- 测试集准确性"
   ]
  },
  {
   "cell_type": "code",
   "execution_count": 16,
   "metadata": {
    "collapsed": false
   },
   "outputs": [
    {
     "name": "stdout",
     "output_type": "stream",
     "text": [
      "0.9201\n"
     ]
    }
   ],
   "source": [
    "print(accuracy.eval({x:mnist.test.images, y_:mnist.test.labels}))"
   ]
  },
  {
   "cell_type": "markdown",
   "metadata": {
    "collapsed": true
   },
   "source": [
    "## 无隐层 NN 流程"
   ]
  },
  {
   "cell_type": "markdown",
   "metadata": {},
   "source": [
    "- 定义算法公式，也就是 NN forward 时的计算\n",
    "- 定义 loss，并指定优化器优化 loss\n",
    "- 迭代训练数据\n",
    "- 在测试集或验证集上对准确率进行评测"
   ]
  },
  {
   "cell_type": "markdown",
   "metadata": {},
   "source": [
    "## 注意  \n",
    "\n",
    "- 定义的各个公式只是 Computation Graph，执行时计算还没有实际发生\n",
    "- 只有等调用 run 方法，并 feed 数据时计算才真正执行\n",
    "- cross_entropy, train_step, accuracy 等都是计算图中的节点，并不是数据结果\n",
    "- 通过调用 run 方法执行这些节点或者说运算操作来获取结果"
   ]
  }
 ],
 "metadata": {
  "anaconda-cloud": {},
  "kernelspec": {
   "display_name": "Python [default]",
   "language": "python",
   "name": "python3"
  },
  "language_info": {
   "codemirror_mode": {
    "name": "ipython",
    "version": 3
   },
   "file_extension": ".py",
   "mimetype": "text/x-python",
   "name": "python",
   "nbconvert_exporter": "python",
   "pygments_lexer": "ipython3",
   "version": "3.5.2"
  },
  "latex_envs": {
   "LaTeX_envs_menu_present": true,
   "bibliofile": "biblio.bib",
   "cite_by": "apalike",
   "current_citInitial": 1,
   "eqLabelWithNumbers": true,
   "eqNumInitial": 1,
   "hotkeys": {
    "equation": "Ctrl-E",
    "itemize": "Ctrl-I"
   },
   "labels_anchors": false,
   "latex_user_defs": false,
   "report_style_numbering": false,
   "user_envs_cfg": false
  },
  "toc": {
   "colors": {
    "hover_highlight": "#DAA520",
    "running_highlight": "#FF0000",
    "selected_highlight": "#FFD700"
   },
   "moveMenuLeft": true,
   "nav_menu": {
    "height": "0px",
    "width": "0px"
   },
   "navigate_menu": true,
   "number_sections": true,
   "sideBar": true,
   "threshold": 4,
   "toc_cell": true,
   "toc_section_display": "block",
   "toc_window_display": true
  }
 },
 "nbformat": 4,
 "nbformat_minor": 1
}
