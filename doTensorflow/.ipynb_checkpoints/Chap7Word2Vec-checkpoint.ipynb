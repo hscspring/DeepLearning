{
 "cells": [
  {
   "cell_type": "code",
   "execution_count": 1,
   "metadata": {
    "collapsed": false
   },
   "outputs": [],
   "source": [
    "import collections\n",
    "import math\n",
    "import os\n",
    "import random\n",
    "import zipfile\n",
    "import numpy as np\n",
    "import urllib\n",
    "import urllib.request\n",
    "import tensorflow as tf"
   ]
  },
  {
   "cell_type": "code",
   "execution_count": 2,
   "metadata": {
    "collapsed": false
   },
   "outputs": [
    {
     "name": "stdout",
     "output_type": "stream",
     "text": [
      "Found and verified text8.zip\n"
     ]
    }
   ],
   "source": [
    "url = 'http://mattmahoney.net/dc/'\n",
    "\n",
    "def maybe_download(filename, expected_bytes):\n",
    "    if not os.path.exists(filename):\n",
    "        filename, _ = urllib.request.urlretrieve(url + filename, filename)\n",
    "    statinfo = os.stat(filename)\n",
    "    if statinfo.st_size == expected_bytes:\n",
    "        print('Found and verified', filename)\n",
    "    else:\n",
    "        print(statinfo.st_size)\n",
    "        raise Exception(\n",
    "        'Failed to verify' + filename + '. Can you get to it with a browser?')\n",
    "    return filename\n",
    "filename = maybe_download('text8.zip', 31344016)"
   ]
  },
  {
   "cell_type": "code",
   "execution_count": 3,
   "metadata": {
    "collapsed": false
   },
   "outputs": [
    {
     "name": "stdout",
     "output_type": "stream",
     "text": [
      "Data size 17005207\n"
     ]
    }
   ],
   "source": [
    "def read_data(filename):\n",
    "    with zipfile.ZipFile(filename) as f:\n",
    "        data = tf.compat.as_str(f.read(f.namelist()[0])).split()\n",
    "    return data\n",
    "\n",
    "words = read_data(filename)\n",
    "print('Data size', len(words))"
   ]
  },
  {
   "cell_type": "code",
   "execution_count": 4,
   "metadata": {
    "collapsed": false
   },
   "outputs": [],
   "source": [
    "vocabulary_size = 50000\n",
    "\n",
    "def build_dataset(words):\n",
    "    count = [['UNK', -1]]\n",
    "    count.extend(collections.Counter(words).most_common(vocabulary_size - 1))\n",
    "    dictionary = dict()\n",
    "    for word, _ in count:\n",
    "        dictionary[word] = len(dictionary)\n",
    "    data = list()\n",
    "    unk_count = 0\n",
    "    for word in words:\n",
    "        if word in dictionary:\n",
    "            index = dictionary[word]\n",
    "        else:\n",
    "            index = 0\n",
    "            unk_count += 1\n",
    "        data.append(index)\n",
    "    count[0][1] = unk_count\n",
    "    reverse_dictionary = dict(zip(dictionary.values(), dictionary.keys()))\n",
    "    return data, count, dictionary, reverse_dictionary\n",
    "\n",
    "data, count, dictionary, reverse_dictionary = build_dataset(words)"
   ]
  },
  {
   "cell_type": "code",
   "execution_count": 5,
   "metadata": {
    "collapsed": false
   },
   "outputs": [
    {
     "name": "stdout",
     "output_type": "stream",
     "text": [
      "Most common words (+UNK) [['UNK', 418391], ('the', 1061396), ('of', 593677), ('and', 416629), ('one', 411764)]\n",
      "Sample data [5242, 3081, 12, 6, 195, 2, 3134, 46, 59, 156] ['anarchism', 'originated', 'as', 'a', 'term', 'of', 'abuse', 'first', 'used', 'against']\n"
     ]
    }
   ],
   "source": [
    "del words\n",
    "print('Most common words (+UNK)', count[:5])\n",
    "print('Sample data', data[:10], [reverse_dictionary[i] for i in data [:10]])"
   ]
  },
  {
   "cell_type": "code",
   "execution_count": 6,
   "metadata": {
    "collapsed": true
   },
   "outputs": [],
   "source": [
    "data_index = 0\n",
    "\n",
    "def generate_batch(batch_size, num_skips, skip_window):\n",
    "    global data_index\n",
    "    assert batch_size % num_skips == 0\n",
    "    assert num_skips <= 2 * skip_window\n",
    "    batch = np.ndarray(shape=(batch_size), dtype=np.int32)\n",
    "    labels = np.ndarray(shape=(batch_size, 1), dtype=np.int32)\n",
    "    span = 2 * skip_window + 1\n",
    "    buffer = collections.deque(maxlen=span)\n",
    "    \n",
    "    for _ in range(span):\n",
    "        buffer.append(data[data_index])\n",
    "        data_index = (data_index + 1) % len(data)\n",
    "    \n",
    "    for i in range(batch_size // num_skips):\n",
    "        target = skip_window\n",
    "        targets_to_avoid = [ skip_window ]\n",
    "        for j in range(num_skips):\n",
    "            while target in targets_to_avoid:\n",
    "                target = random.randint(0, span-1)\n",
    "            targets_to_avoid.append(target)\n",
    "            batch[ i * num_skips + j] = buffer[skip_window]\n",
    "            labels[i * num_skips + j, 0] = buffer[target]\n",
    "        buffer.append(data[data_index])\n",
    "        data_index = (data_index + 1) % len(data)\n",
    "    return batch, labels"
   ]
  },
  {
   "cell_type": "code",
   "execution_count": 7,
   "metadata": {
    "collapsed": false
   },
   "outputs": [
    {
     "name": "stdout",
     "output_type": "stream",
     "text": [
      "3081 originated -> 5242 anarchism\n",
      "3081 originated -> 12 as\n",
      "12 as -> 6 a\n",
      "12 as -> 3081 originated\n",
      "6 a -> 12 as\n",
      "6 a -> 195 term\n",
      "195 term -> 6 a\n",
      "195 term -> 2 of\n"
     ]
    }
   ],
   "source": [
    "batch, labels = generate_batch(batch_size=8, num_skips=2, skip_window=1)\n",
    "\n",
    "for i in range(8):\n",
    "    print(batch[i], reverse_dictionary[batch[i]], '->', labels[i, 0], reverse_dictionary[labels[i, 0]])"
   ]
  },
  {
   "cell_type": "code",
   "execution_count": 8,
   "metadata": {
    "collapsed": true
   },
   "outputs": [],
   "source": [
    "batch_size = 128\n",
    "embedding_size = 128\n",
    "skip_window = 1\n",
    "num_skips = 2\n",
    "\n",
    "valid_size = 16\n",
    "valid_window = 100\n",
    "valid_examples = np.random.choice(valid_window, valid_size, replace=False)\n",
    "num_sampled = 64"
   ]
  },
  {
   "cell_type": "code",
   "execution_count": 9,
   "metadata": {
    "collapsed": false
   },
   "outputs": [],
   "source": [
    "graph = tf.Graph()\n",
    "with graph.as_default():\n",
    "    \n",
    "    train_inputs = tf.placeholder(tf.int32, shape=[batch_size])\n",
    "    train_labels = tf.placeholder(tf.int32, shape=[batch_size, 1])\n",
    "    valid_dataset = tf.constant(valid_examples, dtype=tf.int32)\n",
    "    \n",
    "    with tf.device('/cpu:0'):\n",
    "        embeddings = tf.Variable(\n",
    "            tf.random_uniform([vocabulary_size, embedding_size], -1.0, 1.0))\n",
    "        embed = tf.nn.embedding_lookup(embeddings, train_inputs)\n",
    "        \n",
    "        nce_weights = tf.Variable(\n",
    "            tf.truncated_normal([vocabulary_size, embedding_size],\n",
    "                               stddev=1.0 / math.sqrt(embedding_size)))\n",
    "        \n",
    "        nce_biases = tf.Variable(tf.zeros([vocabulary_size]))\n",
    "        \n",
    "    loss = tf.reduce_mean(tf.nn.nce_loss(weights=nce_weights,\n",
    "                                         biases=nce_biases,\n",
    "                                         labels=train_labels,\n",
    "                                         inputs=embed,\n",
    "                                         num_sampled=num_sampled,\n",
    "                                         num_classes=vocabulary_size))\n",
    "    \n",
    "    optimizer = tf.train.GradientDescentOptimizer(1.0).minimize(loss)\n",
    "\n",
    "    norm = tf.sqrt(tf.reduce_sum(tf.square(embeddings), 1, keep_dims=True))\n",
    "    normalized_embeddings = embeddings / norm\n",
    "    valid_embeddings = tf.nn.embedding_lookup(\n",
    "            normalized_embeddings, valid_dataset)\n",
    "    similarity = tf.matmul(\n",
    "        valid_embeddings, normalized_embeddings, transpose_b=True)\n",
    "\n",
    "    init = tf.global_variables_initializer()"
   ]
  },
  {
   "cell_type": "code",
   "execution_count": 10,
   "metadata": {
    "collapsed": false
   },
   "outputs": [
    {
     "name": "stdout",
     "output_type": "stream",
     "text": [
      "Initialized\n",
      "Average loss at step 0 : 258.352386475\n",
      "Nearest to history: cura, ries, amass, honeycomb, pancreatic, others, overdrive, chalcedonian,\n",
      "Nearest to united: spline, synchronisation, suspending, summoned, garth, largo, irn, anagrams,\n",
      "Nearest to six: disciplined, typewriters, slack, hood, proposals, desecration, diethyl, menno,\n",
      "Nearest to four: burdens, cheating, details, prosecutions, rosebud, indentation, emotionally, vain,\n",
      "Nearest to will: kodak, chydenius, maneaba, publish, plebeians, lined, marat, dirks,\n",
      "Nearest to about: durrani, cysteine, xuan, squared, fragments, furnish, bezier, socialists,\n",
      "Nearest to it: tempos, atomists, nitric, performers, persistent, brigadier, jed, unitary,\n",
      "Nearest to called: glorioso, preparedness, caffeine, vanity, nominalism, mutation, outta, guadalajara,\n",
      "Nearest to after: aberfoyle, croatia, dominoes, suva, shogun, shouldn, haddock, esa,\n",
      "Nearest to no: durant, macaulay, synchronization, inoffensive, criteria, haida, ghostly, archangel,\n",
      "Nearest to be: shrub, markedly, sufficed, iberian, beckham, ivb, layering, azad,\n",
      "Nearest to often: rockall, confluence, nie, rebellions, carradine, eisa, carnage, unpleasant,\n",
      "Nearest to while: dumping, daikaiju, yorker, allison, exaggeration, vanderbilt, counterfeit, falwell,\n",
      "Nearest to nine: annie, minimalism, merchants, asa, endymion, kabila, normandy, dunst,\n",
      "Nearest to were: directives, protesters, electrician, worsening, crewed, ascetic, schiller, nanometers,\n",
      "Nearest to world: sharply, lutz, orthodoxy, hominidae, em, spanned, nostalgic, cement,\n",
      "Average loss at step 2000 : 113.666815422\n",
      "Average loss at step 4000 : 52.7061355565\n",
      "Average loss at step 6000 : 33.7425272911\n",
      "Average loss at step 8000 : 23.5124464498\n",
      "Average loss at step 10000 : 18.3016623616\n",
      "Nearest to history: capital, tissue, others, vs, blocking, autistic, wife, victoriae,\n",
      "Nearest to united: victoriae, get, reginae, we, before, steven, agave, gimme,\n",
      "Nearest to six: austin, zero, vs, nine, analogue, mathbf, three, victoriae,\n",
      "Nearest to four: austin, victoriae, vs, three, nine, zero, two, eight,\n",
      "Nearest to will: agave, lined, vs, conservation, publish, greeks, acquired, dan,\n",
      "Nearest to about: agave, gb, durrani, achill, howard, fao, reviews, deism,\n",
      "Nearest to it: followers, alberta, neurons, manifestation, addicts, facility, not, this,\n",
      "Nearest to called: caffeine, opened, mutation, domain, disorder, capital, saved, steven,\n",
      "Nearest to after: croatia, austin, attributed, hugh, shogun, as, and, sigma,\n",
      "Nearest to no: criteria, continents, synchronization, sociology, durant, plateau, reginae, kangaroos,\n",
      "Nearest to be: phi, markedly, is, reginae, existing, companies, seleucus, buddhist,\n",
      "Nearest to often: claim, built, administrator, courtesy, cl, confluence, reginae, alpina,\n",
      "Nearest to while: agave, implicit, who, time, golden, deaf, cin, axiomatic,\n",
      "Nearest to nine: zero, vs, analogue, agave, eight, reginae, seven, victoriae,\n",
      "Nearest to were: attractive, are, precautions, ascetic, phylogeny, sigma, mathbf, ufo,\n",
      "Nearest to world: profit, object, ta, gland, sign, sense, cement, mathbf,\n",
      "Average loss at step 12000 : 14.2533897749\n",
      "Average loss at step 14000 : 11.5269932935\n",
      "Average loss at step 16000 : 9.84450403202\n",
      "Average loss at step 18000 : 8.41368458509\n",
      "Average loss at step 20000 : 7.63318364775\n",
      "Nearest to history: capital, agouti, tissue, others, authenticity, vs, wife, blocking,\n",
      "Nearest to united: victoriae, summoned, anagrams, before, sovereignty, dm, collision, get,\n",
      "Nearest to six: nine, eight, four, five, three, zero, seven, two,\n",
      "Nearest to four: eight, nine, three, six, zero, two, seven, five,\n",
      "Nearest to will: agave, conservation, lined, may, vs, chydenius, greeks, biographical,\n",
      "Nearest to about: agave, durrani, gb, agouti, six, between, achill, nine,\n",
      "Nearest to it: he, this, they, and, followers, not, hbox, there,\n",
      "Nearest to called: polyhedra, caffeine, and, domain, mutation, sacraments, dasyprocta, vanity,\n",
      "Nearest to after: as, shogun, croatia, austin, enclosure, and, hugh, for,\n",
      "Nearest to no: synchronization, woolfson, kangaroos, continents, durant, criteria, nine, odes,\n",
      "Nearest to be: is, was, have, are, phi, companies, bmp, buddhist,\n",
      "Nearest to often: confluence, it, administrator, built, claim, there, also, noodles,\n",
      "Nearest to while: dasyprocta, time, falwell, agave, and, deaf, cin, allison,\n",
      "Nearest to nine: eight, seven, six, zero, five, four, agouti, three,\n",
      "Nearest to were: are, is, was, attractive, have, msg, by, lange,\n",
      "Nearest to world: and, object, sharply, profit, agouti, gland, orthodoxy, cement,\n",
      "Average loss at step 22000 : 7.20552741277\n",
      "Average loss at step 24000 : 6.90394112754\n",
      "Average loss at step 26000 : 6.64930743635\n",
      "Average loss at step 28000 : 6.20421543252\n",
      "Average loss at step 30000 : 6.18299222875\n",
      "Nearest to history: agouti, hamas, capital, tissue, truso, aegina, vs, authenticity,\n",
      "Nearest to united: primigenius, victoriae, summoned, anagrams, aorta, sovereignty, before, reuptake,\n",
      "Nearest to six: eight, nine, seven, four, five, three, zero, two,\n",
      "Nearest to four: three, eight, six, five, seven, nine, two, zero,\n",
      "Nearest to will: may, agave, cannot, to, conservation, can, biographical, would,\n",
      "Nearest to about: agave, between, durrani, six, agouti, gb, achill, fao,\n",
      "Nearest to it: he, this, they, there, a, which, followers, hbox,\n",
      "Nearest to called: akita, and, polyhedra, caffeine, angelic, tnf, vanity, dasyprocta,\n",
      "Nearest to after: aberfoyle, as, for, enclosure, austin, shogun, hugh, and,\n",
      "Nearest to no: synchronization, kangaroos, a, they, woolfson, nine, caviar, continents,\n",
      "Nearest to be: have, is, was, are, by, phi, companies, been,\n",
      "Nearest to often: sometimes, also, it, there, confluence, that, administrator, common,\n",
      "Nearest to while: at, with, dasyprocta, time, agave, cin, falwell, axiomatic,\n",
      "Nearest to nine: eight, seven, six, five, four, zero, three, agouti,\n",
      "Nearest to were: are, was, attractive, have, is, by, msg, seven,\n",
      "Nearest to world: abitibi, and, object, eisner, sharply, profit, retaining, gland,\n",
      "Average loss at step 32000 : 5.83696755517\n",
      "Average loss at step 34000 : 5.84718745792\n",
      "Average loss at step 36000 : 5.66493173587\n",
      "Average loss at step 38000 : 5.23611976445\n",
      "Average loss at step 40000 : 5.48544485009\n",
      "Nearest to history: honeycomb, agouti, hamas, capital, truso, aegina, tissue, vs,\n",
      "Nearest to united: primigenius, victoriae, summoned, anagrams, aorta, sovereignty, before, lpc,\n",
      "Nearest to six: seven, four, eight, five, three, nine, zero, two,\n",
      "Nearest to four: six, five, three, seven, eight, two, zero, nine,\n",
      "Nearest to will: may, can, would, cannot, agave, to, does, biographical,\n",
      "Nearest to about: agave, between, durrani, agouti, six, gb, achill, three,\n",
      "Nearest to it: he, this, there, they, which, she, not, hbox,\n",
      "Nearest to called: and, akita, caffeine, polyhedra, angelic, tnf, vanity, dasyprocta,\n",
      "Nearest to after: aberfoyle, before, enclosure, for, as, and, austin, when,\n",
      "Nearest to no: kangaroos, synchronization, woolfson, a, also, four, they, that,\n",
      "Nearest to be: have, is, was, are, by, been, were, companies,\n",
      "Nearest to often: also, sometimes, it, there, that, which, common, confluence,\n",
      "Nearest to while: at, with, dasyprocta, time, agave, cin, and, pausanias,\n",
      "Nearest to nine: eight, seven, six, zero, five, four, three, agouti,\n",
      "Nearest to were: are, was, have, is, attractive, by, msg, be,\n",
      "Nearest to world: abitibi, eisner, retaining, pomona, baronet, object, sharply, cement,\n",
      "Average loss at step 42000 : 5.29193975329\n",
      "Average loss at step 44000 : 5.32717082024\n",
      "Average loss at step 46000 : 5.27547193027\n",
      "Average loss at step 48000 : 5.00752265763\n",
      "Average loss at step 50000 : 5.14498581994\n",
      "Nearest to history: honeycomb, roshan, hamas, agouti, capital, truso, aegina, admitting,\n",
      "Nearest to united: primigenius, victoriae, anagrams, summoned, sovereignty, aorta, before, lpc,\n",
      "Nearest to six: four, eight, seven, five, three, nine, zero, two,\n",
      "Nearest to four: six, five, three, seven, eight, two, one, nine,\n",
      "Nearest to will: may, can, would, cannot, to, agave, could, does,\n",
      "Nearest to about: agave, between, agouti, durrani, seven, gb, six, gnutella,\n",
      "Nearest to it: he, this, there, she, they, which, hbox, also,\n",
      "Nearest to called: akita, and, beeb, caffeine, polyhedra, prism, dasyprocta, vanity,\n",
      "Nearest to after: before, aberfoyle, when, as, enclosure, during, six, for,\n",
      "Nearest to no: kangaroos, synchronization, a, woolfson, it, any, some, macaulay,\n",
      "Nearest to be: have, was, is, were, been, by, are, refer,\n",
      "Nearest to often: sometimes, also, it, there, which, still, common, usually,\n",
      "Nearest to while: roshan, dasyprocta, when, at, time, with, agave, and,\n",
      "Nearest to nine: eight, seven, six, five, zero, four, agouti, three,\n",
      "Nearest to were: are, was, have, attractive, is, had, be, msg,\n",
      "Nearest to world: abitibi, eisner, roshan, and, baronet, retaining, object, pomona,\n",
      "Average loss at step 52000 : 5.18438373101\n",
      "Average loss at step 54000 : 5.12512751043\n",
      "Average loss at step 56000 : 5.04131880164\n",
      "Average loss at step 58000 : 5.11224463606\n",
      "Average loss at step 60000 : 4.94425424528\n",
      "Nearest to history: agouti, roshan, tamarin, honeycomb, hamas, aegina, capital, microcebus,\n",
      "Nearest to united: primigenius, victoriae, anagrams, summoned, spline, aorta, sovereignty, lpc,\n",
      "Nearest to six: eight, five, four, seven, three, nine, zero, two,\n",
      "Nearest to four: five, six, three, eight, seven, two, nine, zero,\n",
      "Nearest to will: may, can, would, cannot, could, to, does, might,\n",
      "Nearest to about: agave, between, agouti, durrani, households, michelob, gb, orchids,\n",
      "Nearest to it: he, this, there, she, they, which, banda, hbox,\n",
      "Nearest to called: and, michelob, beeb, akita, callithrix, caffeine, polyhedra, prism,\n",
      "Nearest to after: before, when, aberfoyle, during, as, enclosure, for, in,\n",
      "Nearest to no: kangaroos, macaulay, synchronization, banda, any, callithrix, some, a,\n",
      "Nearest to be: been, have, by, was, is, were, are, refer,\n",
      "Nearest to often: sometimes, also, there, it, usually, still, that, commonly,\n",
      "Nearest to while: roshan, when, dasyprocta, with, at, agave, callithrix, axiomatic,\n",
      "Nearest to nine: eight, six, seven, five, four, zero, three, callithrix,\n",
      "Nearest to were: are, was, have, had, attractive, is, be, msg,\n",
      "Nearest to world: abitibi, roshan, eisner, baronet, retaining, pomona, afford, gland,\n",
      "Average loss at step 62000 : 4.7980938046\n",
      "Average loss at step 64000 : 4.80178084219\n",
      "Average loss at step 66000 : 4.97270874619\n",
      "Average loss at step 68000 : 4.91834849429\n",
      "Average loss at step 70000 : 4.76505252302\n",
      "Nearest to history: agouti, roshan, honeycomb, tamarin, aegina, hamas, capital, truso,\n",
      "Nearest to united: primigenius, victoriae, anagrams, summoned, sovereignty, spline, lpc, aorta,\n",
      "Nearest to six: four, eight, five, seven, three, nine, zero, two,\n",
      "Nearest to four: five, six, three, eight, seven, two, zero, nine,\n",
      "Nearest to will: can, may, would, cannot, could, might, does, to,\n",
      "Nearest to about: agave, mitral, between, agouti, over, durrani, three, michelob,\n",
      "Nearest to it: he, this, she, there, they, which, thaler, hbox,\n",
      "Nearest to called: beeb, akita, michelob, and, callithrix, caffeine, polyhedra, dasyprocta,\n",
      "Nearest to after: before, when, during, aberfoyle, as, dominoes, enclosure, thaler,\n",
      "Nearest to no: kangaroos, macaulay, any, synchronization, banda, a, some, callithrix,\n",
      "Nearest to be: been, have, by, is, were, was, are, refer,\n",
      "Nearest to often: sometimes, also, there, usually, still, commonly, which, that,\n",
      "Nearest to while: when, dasyprocta, roshan, as, with, but, callithrix, agave,\n",
      "Nearest to nine: eight, seven, six, five, zero, four, three, callithrix,\n",
      "Nearest to were: are, was, have, had, attractive, be, is, been,\n",
      "Nearest to world: abitibi, roshan, eisner, retaining, baronet, encompass, afford, pomona,\n",
      "Average loss at step 72000 : 4.78998444593\n",
      "Average loss at step 74000 : 4.78516891086\n",
      "Average loss at step 76000 : 4.86785552132\n",
      "Average loss at step 78000 : 4.80516870415\n",
      "Average loss at step 80000 : 4.81306209648\n",
      "Nearest to history: honeycomb, roshan, agouti, aegina, hamas, tamarin, capital, truso,\n",
      "Nearest to united: anagrams, primigenius, summoned, victoriae, spline, sovereignty, lpc, cegep,\n",
      "Nearest to six: four, five, eight, seven, three, nine, two, zero,\n",
      "Nearest to four: five, six, three, seven, eight, two, nine, zero,\n",
      "Nearest to will: can, may, would, cannot, could, might, does, must,\n",
      "Nearest to about: agave, mitral, over, between, agouti, five, amphisbaena, vec,\n",
      "Nearest to it: he, this, there, she, they, which, hbox, still,\n",
      "Nearest to called: beeb, michelob, akita, and, callithrix, dasyprocta, caffeine, prism,\n",
      "Nearest to after: before, when, during, aberfoyle, dominoes, in, as, enclosure,\n",
      "Nearest to no: macaulay, kangaroos, any, banda, synchronization, pianists, callithrix, it,\n",
      "Nearest to be: been, have, was, by, is, were, are, refer,\n",
      "Nearest to often: sometimes, also, usually, still, commonly, there, which, it,\n",
      "Nearest to while: when, dasyprocta, roshan, but, however, callithrix, and, although,\n",
      "Nearest to nine: eight, seven, six, five, four, zero, callithrix, three,\n",
      "Nearest to were: are, was, have, had, be, attractive, by, is,\n",
      "Nearest to world: abitibi, roshan, eisner, baronet, retaining, pomona, vdash, encompass,\n",
      "Average loss at step 82000 : 4.80749698317\n",
      "Average loss at step 84000 : 4.78198177087\n",
      "Average loss at step 86000 : 4.75442510343\n",
      "Average loss at step 88000 : 4.71285327899\n",
      "Average loss at step 90000 : 4.7588247174\n",
      "Nearest to history: honeycomb, roshan, agouti, tamarin, aegina, hamas, capital, microcebus,\n",
      "Nearest to united: primigenius, anagrams, victoriae, summoned, spline, sovereignty, cegep, lpc,\n",
      "Nearest to six: eight, five, seven, four, three, nine, two, zero,\n",
      "Nearest to four: five, seven, three, eight, six, two, callithrix, nine,\n",
      "Nearest to will: can, would, may, could, cannot, might, must, does,\n",
      "Nearest to about: agave, over, mitral, lagenorhynchus, three, between, agouti, amphisbaena,\n",
      "Nearest to it: he, this, she, there, they, which, still, hbox,\n",
      "Nearest to called: beeb, and, michelob, akita, callithrix, dasyprocta, prism, tnf,\n",
      "Nearest to after: before, when, during, aberfoyle, peacocks, as, dominoes, in,\n",
      "Nearest to no: any, kangaroos, macaulay, banda, pianists, synchronization, it, a,\n",
      "Nearest to be: been, have, was, were, is, are, by, being,\n",
      "Nearest to often: sometimes, also, usually, commonly, still, there, which, it,\n",
      "Nearest to while: when, but, dasyprocta, peacocks, although, roshan, however, callithrix,\n",
      "Nearest to nine: eight, seven, six, five, zero, callithrix, four, agouti,\n",
      "Nearest to were: are, was, have, had, be, attractive, by, is,\n",
      "Nearest to world: abitibi, roshan, baronet, eisner, vdash, encompass, pomona, cae,\n",
      "Average loss at step 92000 : 4.6948506763\n",
      "Average loss at step 94000 : 4.62689344335\n",
      "Average loss at step 96000 : 4.73057936728\n",
      "Average loss at step 98000 : 4.64106457639\n",
      "Average loss at step 100000 : 4.67373766088\n",
      "Nearest to history: honeycomb, roshan, agouti, capital, tamarin, hamas, aegina, truso,\n",
      "Nearest to united: primigenius, summoned, anagrams, victoriae, lpc, spline, sovereignty, cegep,\n",
      "Nearest to six: seven, eight, five, four, three, nine, two, callithrix,\n",
      "Nearest to four: five, seven, six, eight, three, two, nine, callithrix,\n",
      "Nearest to will: can, would, may, could, cannot, might, must, does,\n",
      "Nearest to about: over, agave, draconian, mitral, three, lagenorhynchus, amphisbaena, households,\n",
      "Nearest to it: he, this, she, there, they, hbox, which, still,\n",
      "Nearest to called: beeb, and, michelob, akita, callithrix, dasyprocta, tnf, prism,\n",
      "Nearest to after: before, when, during, aberfoyle, peacocks, by, since, in,\n",
      "Nearest to no: macaulay, any, kangaroos, banda, synchronization, pianists, sed, durant,\n",
      "Nearest to be: been, by, have, were, are, being, was, is,\n",
      "Nearest to often: sometimes, usually, also, commonly, still, there, now, it,\n",
      "Nearest to while: when, but, although, dasyprocta, peacocks, however, roshan, and,\n",
      "Nearest to nine: eight, seven, six, five, four, zero, callithrix, agouti,\n",
      "Nearest to were: are, have, was, had, be, attractive, by, is,\n",
      "Nearest to world: abitibi, roshan, cae, baronet, eisner, pomona, retaining, encompass,\n"
     ]
    }
   ],
   "source": [
    "num_steps = 100001\n",
    "\n",
    "with tf.Session(graph=graph) as session:\n",
    "    init.run()\n",
    "    print('Initialized')\n",
    "    \n",
    "    average_loss = 0\n",
    "    for step in range(num_steps):\n",
    "        batch_inputs, batch_labels = generate_batch(\n",
    "            batch_size, num_skips, skip_window)\n",
    "        feed_dict = {train_inputs: batch_inputs, train_labels: batch_labels}\n",
    "        \n",
    "        _, loss_val = session.run([optimizer, loss], feed_dict=feed_dict)\n",
    "        average_loss += loss_val\n",
    "        \n",
    "        if step % 2000 == 0:\n",
    "            if step > 0:\n",
    "                average_loss /= 2000\n",
    "            print('Average loss at step', step, ':', average_loss)\n",
    "            average_loss = 0\n",
    "        \n",
    "        if step % 10000 == 0:\n",
    "            sim = similarity.eval()\n",
    "            for i in range(valid_size):\n",
    "                valid_word = reverse_dictionary[valid_examples[i]]\n",
    "                top_k = 8\n",
    "                nearest = (-sim[i, :]).argsort()[1:top_k+1]\n",
    "                log_str = \"Nearest to %s:\" %valid_word\n",
    "                for k in range(top_k):\n",
    "                    close_word = reverse_dictionary[nearest[k]]\n",
    "                    log_str = \"%s %s,\" % (log_str, close_word)\n",
    "                print(log_str)\n",
    "    final_embeddings = normalized_embeddings.eval()"
   ]
  },
  {
   "cell_type": "code",
   "execution_count": null,
   "metadata": {
    "collapsed": true
   },
   "outputs": [],
   "source": [
    "def plot_with_labels(low_dim_embs, labels, filename='tsne.png'):\n",
    "    assert low_dim_embs.shape[0] >= len(labels), \"More labels than embeddings\"\n",
    "    plt.fingure(figsize=(18, 18))\n",
    "    for i, label in enumerate(labels):\n",
    "        x, y = low_dim_embs[i, :]\n",
    "        plt.scatter(x, y)\n",
    "        plt.annotate(label,\n",
    "                     xy=(x, y),\n",
    "                     xytest=(5, 2),\n",
    "                     textcoords='offset points',\n",
    "                     ha='right',\n",
    "                     va='bottom')\n",
    "    plt.savefig(filename)"
   ]
  },
  {
   "cell_type": "code",
   "execution_count": null,
   "metadata": {
    "collapsed": false
   },
   "outputs": [],
   "source": [
    "from sklearn.manifold import TSNE\n",
    "import matplotlib.pyplot as plt\n",
    "tsne = TSNE(perplexity=30, n_components=2, init='pca', n_iter=500)\n",
    "plot_only = 20\n",
    "low_dim_embs = tsne.fit_transform(final_embeddings[:plot_only, :])\n",
    "labels = [reverse_dictionary[i] for i in range(plot_only)]\n",
    "plot_with_labels(low_dim_embs, labels)"
   ]
  },
  {
   "cell_type": "code",
   "execution_count": null,
   "metadata": {
    "collapsed": true
   },
   "outputs": [],
   "source": []
  }
 ],
 "metadata": {
  "anaconda-cloud": {},
  "kernelspec": {
   "display_name": "Python [default]",
   "language": "python",
   "name": "python3"
  },
  "language_info": {
   "codemirror_mode": {
    "name": "ipython",
    "version": 3
   },
   "file_extension": ".py",
   "mimetype": "text/x-python",
   "name": "python",
   "nbconvert_exporter": "python",
   "pygments_lexer": "ipython3",
   "version": "3.5.2"
  },
  "latex_envs": {
   "LaTeX_envs_menu_present": true,
   "bibliofile": "biblio.bib",
   "cite_by": "apalike",
   "current_citInitial": 1,
   "eqLabelWithNumbers": true,
   "eqNumInitial": 1,
   "hotkeys": {
    "equation": "Ctrl-E",
    "itemize": "Ctrl-I"
   },
   "labels_anchors": false,
   "latex_user_defs": false,
   "report_style_numbering": false,
   "user_envs_cfg": false
  },
  "toc": {
   "colors": {
    "hover_highlight": "#DAA520",
    "running_highlight": "#FF0000",
    "selected_highlight": "#FFD700"
   },
   "moveMenuLeft": true,
   "nav_menu": {
    "height": "12px",
    "width": "252px"
   },
   "navigate_menu": true,
   "number_sections": true,
   "sideBar": true,
   "threshold": 4,
   "toc_cell": false,
   "toc_section_display": "block",
   "toc_window_display": false
  }
 },
 "nbformat": 4,
 "nbformat_minor": 1
}
